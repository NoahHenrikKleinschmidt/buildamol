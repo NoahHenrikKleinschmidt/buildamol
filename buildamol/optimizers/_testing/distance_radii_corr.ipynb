{
 "cells": [
  {
   "cell_type": "markdown",
   "metadata": {},
   "source": [
    "This notebook template is designed for testing the performance of Rotatron environments and different solving agents of different scales."
   ]
  },
  {
   "cell_type": "code",
   "execution_count": 184,
   "metadata": {},
   "outputs": [],
   "source": [
    "# =============================================================================\n",
    "# Work on local biobuild in GIT repo\n",
    "# =============================================================================\n",
    "import os, sys, importlib\n",
    "\n",
    "# for inside python scripts\n",
    "# base = os.path.dirname(os.path.dirname(os.path.dirname(os.path.dirname(__file__))))\n",
    "base = os.path.dirname(os.path.dirname(os.getcwd()))\n",
    "sys.path.insert(0, base)\n",
    "\n",
    "def reload_optimizers():\n",
    "    importlib.reload(bam.optimizers.environments)\n",
    "    importlib.reload(bam.optimizers.agents)\n",
    "# =============================================================================\n",
    "import files\n",
    "import auxiliary\n",
    "import buildamol as bam\n",
    "import buildamol.optimizers.environments as envs\n",
    "import buildamol.optimizers.agents as agents\n",
    "from scipy.spatial.distance import cdist\n",
    "\n",
    "import matplotlib.pyplot as plt\n",
    "import seaborn as sns\n",
    "\n",
    "from collections import defaultdict\n",
    "\n",
    "import time\n",
    "import numpy as np\n",
    "import pandas as pd"
   ]
  },
  {
   "cell_type": "markdown",
   "metadata": {},
   "source": [
    "Here we can select which tests to run and on what testing structures:"
   ]
  },
  {
   "cell_type": "code",
   "execution_count": 185,
   "metadata": {},
   "outputs": [],
   "source": [
    "# which structures to run on\n",
    "structures_to_run_on = [\n",
    "    files.GLUCOSE2,\n",
    "    files.PEPTIDE,\n",
    "    files.X_WING,\n",
    "    files.X_WING2,\n",
    "    # files.SCAFFOLD1,\n",
    "    # files.SCAFFOLD3,\n",
    "]\n",
    "\n",
    "# how many times to independently run on each structure\n",
    "re_runs = 5\n",
    "\n",
    "# visualize evaluation history\n",
    "visualize_eval_history = True\n",
    "\n",
    "# visualize time history\n",
    "visualize_time_history = True\n",
    "\n",
    "# visualise clashes in final structure\n",
    "visualize_clashes = True\n",
    "\n",
    "# clash threshold\n",
    "clash_cutoff = 0.8\n",
    "\n",
    "# visualize the final structure\n",
    "visualize_final_structure = False\n",
    "\n",
    "# visualization parameters\n",
    "# for draw_edges()\n",
    "visualization_params = dict(color=\"magenta\", opacity=0.3)\n",
    "\n",
    "# export visualization to html\n",
    "export_visualization = False\n",
    "\n",
    "# export solutions as PDB\n",
    "export_pdb = False\n",
    "\n",
    "# export history to csv\n",
    "export_history = True\n",
    "\n",
    "# export name prefix\n",
    "export_name_prefix = \"scipy.n20.rescon.direct.radii.corr\"\n",
    "\n",
    "edge_choices = {}\n",
    "\n",
    "# graph building function\n",
    "# provide a custom callable that generates a tuple of (graph, rotatable_edges)\n",
    "def make_graph(structure:bam.Molecule):\n",
    "    graph = structure.make_residue_graph()\n",
    "    graph.make_detailed(n_samples=0.6, include_far_away=True)\n",
    "    if len(graph.nodes) < 30:\n",
    "        min_descendants = 0\n",
    "        min_ancestors = 0\n",
    "    else:\n",
    "        min_descendants = 10\n",
    "        min_ancestors = 10\n",
    "    edges = structure.get_residue_connections()\n",
    "    edges = graph.direct_edges(edges=edges)\n",
    "    return graph, edges\n",
    "\n",
    "graph_factory = make_graph\n",
    "\n",
    "# graph building parameters\n",
    "graph_params = {}\n",
    "\n",
    "# provide a custom callable to set a custom building function for the environment\n",
    "rotatron_factory = None\n",
    "\n",
    "# the rotatron class to use\n",
    "rotatron_class = envs.DistanceRotatron\n",
    "\n",
    "# rotatron parameters\n",
    "rotatron_params = {} \n",
    "\n",
    "# the agent function to use\n",
    "agent = agents.scipy_optimize\n",
    "agent_params = {}\n",
    "# agent_params = {\"n_particles\" : 20, \"max_steps\" : 30, \"threshold\" : 1e-4}\n",
    "\n",
    "# agent = agents.newton_like_optimize\n",
    "\n",
    "# # agent parameters\n",
    "# agent_params = {\"max_steps\" : 300}   \n"
   ]
  },
  {
   "cell_type": "markdown",
   "metadata": {},
   "source": [
    "Perform some environment setup"
   ]
  },
  {
   "cell_type": "code",
   "execution_count": 186,
   "metadata": {},
   "outputs": [],
   "source": [
    "if agent is None:\n",
    "    raise ValueError(\"No agent provided\")\n",
    "if rotatron_class is None:\n",
    "    raise ValueError(\"No rotatron class provided\")\n",
    "    \n",
    "if graph_factory is None:\n",
    "    graph_factory = auxiliary.graph_factory\n",
    "if rotatron_factory is None:\n",
    "    rotatron_factory = auxiliary.rotatron_factory\n",
    "\n",
    "available_structures = {}\n",
    "\n",
    "eval_history = defaultdict(list)\n",
    "time_history = defaultdict(list)\n",
    "clash_history = defaultdict(list)\n",
    "radius_history = defaultdict(list)\n",
    "\n",
    "final_visuals = {}\n",
    "initial_evals = {}\n",
    "initial_clashes = {}\n",
    "v = None\n",
    "\n",
    "if not export_name_prefix:\n",
    "    export_name_prefix = rotatron_class.__name__ + \".\" + agent.__name__\n",
    "\n",
    "def make_environment(structure):\n",
    "    \"\"\"\n",
    "    An environment generator\n",
    "    \"\"\"\n",
    "    graph, rotatable_edges = graph_factory(structure, **graph_params)\n",
    "    return rotatron_factory(rotatron_class, graph, rotatable_edges, **rotatron_params)\n"
   ]
  },
  {
   "cell_type": "markdown",
   "metadata": {},
   "source": [
    "Now start the main testing code"
   ]
  },
  {
   "cell_type": "code",
   "execution_count": 187,
   "metadata": {},
   "outputs": [
    {
     "data": {
      "text/plain": [
       "Molecule(EX7)"
      ]
     },
     "execution_count": 187,
     "metadata": {},
     "output_type": "execute_result"
    }
   ],
   "source": [
    "s"
   ]
  },
  {
   "cell_type": "code",
   "execution_count": 188,
   "metadata": {},
   "outputs": [
    {
     "data": {
      "application/vnd.plotly.v1+json": {
       "config": {
        "plotlyServerURL": "https://plot.ly"
       },
       "data": [
        {
         "customdata": [
          [
           "('H_PRP', 6, ' ')",
           6,
           -1,
           "A"
          ],
          [
           "('H_PRP', 11, ' ')",
           11,
           -1,
           "A"
          ],
          [
           "('H_PRP', 16, ' ')",
           16,
           -1,
           "A"
          ],
          [
           "('H_PRP', 1, ' ')",
           1,
           -1,
           "A"
          ]
         ],
         "hovertemplate": "element_or_resname=Prp<br>x=%{x}<br>y=%{y}<br>z=%{z}<br>id=%{customdata[0]}<br>serial=%{customdata[1]}<br>parent_serial=%{customdata[2]}<br>parent_id=%{customdata[3]}<extra></extra>",
         "legendgroup": "Prp",
         "marker": {
          "color": "#1F77B4",
          "opacity": 0.3,
          "symbol": "circle"
         },
         "mode": "markers",
         "name": "Prp",
         "scene": "scene",
         "showlegend": true,
         "type": "scatter3d",
         "x": [
          -11.777688980102539,
          -19.09040069580078,
          -22.751907348632812,
          2.2006235122680664
         ],
         "y": [
          -1.2140071392059326,
          -21.406513214111328,
          -9.72319221496582,
          -5.911344051361084
         ],
         "z": [
          4.103869915008545,
          -4.77054500579834,
          -18.85548210144043,
          -7.334397792816162
         ]
        },
        {
         "customdata": [
          [
           "('H_SER', 7, ' ')",
           7,
           -1,
           "A"
          ],
          [
           "('H_SER', 12, ' ')",
           12,
           -1,
           "A"
          ],
          [
           "('H_SER', 17, ' ')",
           17,
           -1,
           "A"
          ],
          [
           "('H_SER', 2, ' ')",
           2,
           -1,
           "A"
          ]
         ],
         "hovertemplate": "element_or_resname=Ser<br>x=%{x}<br>y=%{y}<br>z=%{z}<br>id=%{customdata[0]}<br>serial=%{customdata[1]}<br>parent_serial=%{customdata[2]}<br>parent_id=%{customdata[3]}<extra></extra>",
         "legendgroup": "Ser",
         "marker": {
          "color": "#FF7F0E",
          "opacity": 0.3,
          "symbol": "circle"
         },
         "mode": "markers",
         "name": "Ser",
         "scene": "scene",
         "showlegend": true,
         "type": "scatter3d",
         "x": [
          -7.447906017303467,
          -20.11028480529785,
          -21.330415725708008,
          -1.8843363523483276
         ],
         "y": [
          -4.137168884277344,
          -16.619417190551758,
          -11.998818397521973,
          -5.808132648468018
         ],
         "z": [
          1.3160558938980103,
          -8.103310585021973,
          -13.576780319213867,
          -3.0488133430480957
         ]
        },
        {
         "customdata": [
          [
           "('H_HAC', 5, ' ')",
           5,
           -1,
           "A"
          ],
          [
           "('H_HAC', 15, ' ')",
           15,
           -1,
           "A"
          ]
         ],
         "hovertemplate": "element_or_resname=Hac<br>x=%{x}<br>y=%{y}<br>z=%{z}<br>id=%{customdata[0]}<br>serial=%{customdata[1]}<br>parent_serial=%{customdata[2]}<br>parent_id=%{customdata[3]}<extra></extra>",
         "legendgroup": "Hac",
         "marker": {
          "color": "#2CA02C",
          "opacity": 0.3,
          "symbol": "circle"
         },
         "mode": "markers",
         "name": "Hac",
         "scene": "scene",
         "showlegend": true,
         "type": "scatter3d",
         "x": [
          -9.499184608459473,
          -12.535918235778809
         ],
         "y": [
          -11.911452293395996,
          -10.717734336853027
         ],
         "z": [
          -3.8719208240509033,
          -10.030245780944824
         ]
        },
        {
         "customdata": [
          [
           "('H_TRZ', 9, ' ')",
           9,
           -1,
           "A"
          ],
          [
           "('H_TRZ', 14, ' ')",
           14,
           -1,
           "A"
          ],
          [
           "('H_TRZ', 4, ' ')",
           4,
           -1,
           "A"
          ],
          [
           "('H_TRZ', 19, ' ')",
           19,
           -1,
           "A"
          ]
         ],
         "hovertemplate": "element_or_resname=Trz<br>x=%{x}<br>y=%{y}<br>z=%{z}<br>id=%{customdata[0]}<br>serial=%{customdata[1]}<br>parent_serial=%{customdata[2]}<br>parent_id=%{customdata[3]}<extra></extra>",
         "legendgroup": "Trz",
         "marker": {
          "color": "#D62728",
          "opacity": 0.3,
          "symbol": "circle"
         },
         "mode": "markers",
         "name": "Trz",
         "scene": "scene",
         "showlegend": true,
         "type": "scatter3d",
         "x": [
          -7.929364204406738,
          -16.801673889160156,
          -6.330528259277344,
          -17.061830520629883
         ],
         "y": [
          -8.083555221557617,
          -13.89134407043457,
          -7.676449775695801,
          -11.663061141967773
         ],
         "z": [
          -1.425732135772705,
          -10.320011138916016,
          -3.2580788135528564,
          -11.343035697937012
         ]
        },
        {
         "customdata": [
          [
           "('H_CBZ', 10, ' ')",
           10,
           -1,
           "A"
          ]
         ],
         "hovertemplate": "element_or_resname=Cbz<br>x=%{x}<br>y=%{y}<br>z=%{z}<br>id=%{customdata[0]}<br>serial=%{customdata[1]}<br>parent_serial=%{customdata[2]}<br>parent_id=%{customdata[3]}<extra></extra>",
         "legendgroup": "Cbz",
         "marker": {
          "color": "#9467BD",
          "opacity": 0.3,
          "symbol": "circle"
         },
         "mode": "markers",
         "name": "Cbz",
         "scene": "scene",
         "showlegend": true,
         "type": "scatter3d",
         "x": [
          -8.804100036621094
         ],
         "y": [
          -13.3148775100708
         ],
         "z": [
          -7.909966945648193
         ]
        },
        {
         "customdata": [
          [
           "('H_TBA', 13, ' ')",
           13,
           -1,
           "A"
          ],
          [
           "('H_TBA', 18, ' ')",
           18,
           -1,
           "A"
          ],
          [
           "('H_TBA', 3, ' ')",
           3,
           -1,
           "A"
          ],
          [
           "('H_TBA', 8, ' ')",
           8,
           -1,
           "A"
          ]
         ],
         "hovertemplate": "element_or_resname=Tba<br>x=%{x}<br>y=%{y}<br>z=%{z}<br>id=%{customdata[0]}<br>serial=%{customdata[1]}<br>parent_serial=%{customdata[2]}<br>parent_id=%{customdata[3]}<extra></extra>",
         "legendgroup": "Tba",
         "marker": {
          "color": "#8C564B",
          "opacity": 0.3,
          "symbol": "circle"
         },
         "mode": "markers",
         "name": "Tba",
         "scene": "scene",
         "showlegend": true,
         "type": "scatter3d",
         "x": [
          -16.634693145751953,
          -20.2896671295166,
          -1.0005029439926147,
          -10.283352851867676
         ],
         "y": [
          -15.493315696716309,
          -6.724998950958252,
          -10.841437339782715,
          -7.460450649261475
         ],
         "z": [
          -4.157362937927246,
          -13.725122451782227,
          -4.723027229309082,
          4.452037811279297
         ]
        },
        {
         "customdata": [
          [
           "C7",
           97,
           6,
           "('H_PRP', 6, ' ')"
          ],
          [
           "C",
           117,
           7,
           "('H_SER', 7, ' ')"
          ],
          [
           "C4",
           151,
           9,
           "('H_TRZ', 9, ' ')"
          ],
          [
           "C4",
           240,
           14,
           "('H_TRZ', 14, ' ')"
          ],
          [
           "C1",
           162,
           10,
           "('H_CBZ', 10, ' ')"
          ],
          [
           "C4",
           323,
           19,
           "('H_TRZ', 19, ' ')"
          ],
          [
           "C3",
           320,
           19,
           "('H_TRZ', 19, ' ')"
          ],
          [
           "CB",
           208,
           12,
           "('H_SER', 12, ' ')"
          ],
          [
           "C2",
           222,
           13,
           "('H_TBA', 13, ' ')"
          ],
          [
           "C2",
           252,
           15,
           "('H_HAC', 15, ' ')"
          ],
          [
           "CB",
           291,
           17,
           "('H_SER', 17, ' ')"
          ],
          [
           "C5",
           241,
           14,
           "('H_TRZ', 14, ' ')"
          ],
          [
           "C4",
           68,
           4,
           "('H_TRZ', 4, ' ')"
          ],
          [
           "C3",
           65,
           4,
           "('H_TRZ', 4, ' ')"
          ],
          [
           "CA",
           205,
           12,
           "('H_SER', 12, ' ')"
          ],
          [
           "C2",
           305,
           18,
           "('H_TBA', 18, ' ')"
          ],
          [
           "C7",
           186,
           11,
           "('H_PRP', 11, ' ')"
          ],
          [
           "C",
           206,
           12,
           "('H_SER', 12, ' ')"
          ],
          [
           "C5",
           324,
           19,
           "('H_TRZ', 19, ' ')"
          ],
          [
           "CA",
           288,
           17,
           "('H_SER', 17, ' ')"
          ],
          [
           "CB",
           36,
           2,
           "('H_SER', 2, ' ')"
          ],
          [
           "C7",
           269,
           16,
           "('H_PRP', 16, ' ')"
          ],
          [
           "C",
           289,
           17,
           "('H_SER', 17, ' ')"
          ],
          [
           "C2",
           50,
           3,
           "('H_TBA', 3, ' ')"
          ],
          [
           "C5",
           167,
           10,
           "('H_CBZ', 10, ' ')"
          ],
          [
           "C3",
           148,
           9,
           "('H_TRZ', 9, ' ')"
          ],
          [
           "C2",
           80,
           5,
           "('H_HAC', 5, ' ')"
          ],
          [
           "C5",
           69,
           4,
           "('H_TRZ', 4, ' ')"
          ],
          [
           "CA",
           33,
           2,
           "('H_SER', 2, ' ')"
          ],
          [
           "C7",
           14,
           1,
           "('H_PRP', 1, ' ')"
          ],
          [
           "C",
           34,
           2,
           "('H_SER', 2, ' ')"
          ],
          [
           "CB",
           119,
           7,
           "('H_SER', 7, ' ')"
          ],
          [
           "C5",
           152,
           9,
           "('H_TRZ', 9, ' ')"
          ],
          [
           "CA",
           116,
           7,
           "('H_SER', 7, ' ')"
          ],
          [
           "C2",
           133,
           8,
           "('H_TBA', 8, ' ')"
          ],
          [
           "C3",
           237,
           14,
           "('H_TRZ', 14, ' ')"
          ],
          [
           "C12",
           90,
           6,
           "('H_PRP', 6, ' ')"
          ],
          [
           "C5",
           95,
           6,
           "('H_PRP', 6, ' ')"
          ],
          [
           "C6",
           93,
           6,
           "('H_PRP', 6, ' ')"
          ],
          [
           "C11",
           86,
           6,
           "('H_PRP', 6, ' ')"
          ],
          [
           "C8",
           89,
           6,
           "('H_PRP', 6, ' ')"
          ],
          [
           "C9",
           96,
           6,
           "('H_PRP', 6, ' ')"
          ],
          [
           "C10",
           85,
           6,
           "('H_PRP', 6, ' ')"
          ],
          [
           "C1",
           87,
           6,
           "('H_PRP', 6, ' ')"
          ],
          [
           "C13",
           91,
           6,
           "('H_PRP', 6, ' ')"
          ],
          [
           "C2",
           92,
           6,
           "('H_PRP', 6, ' ')"
          ],
          [
           "C3",
           94,
           6,
           "('H_PRP', 6, ' ')"
          ],
          [
           "C2",
           149,
           9,
           "('H_TRZ', 9, ' ')"
          ],
          [
           "C2",
           238,
           14,
           "('H_TRZ', 14, ' ')"
          ],
          [
           "C6",
           166,
           10,
           "('H_CBZ', 10, ' ')"
          ],
          [
           "C7",
           164,
           10,
           "('H_CBZ', 10, ' ')"
          ],
          [
           "C6",
           220,
           13,
           "('H_TBA', 13, ' ')"
          ],
          [
           "C5",
           219,
           13,
           "('H_TBA', 13, ' ')"
          ],
          [
           "C4",
           218,
           13,
           "('H_TBA', 13, ' ')"
          ],
          [
           "C5",
           302,
           18,
           "('H_TBA', 18, ' ')"
          ],
          [
           "C4",
           301,
           18,
           "('H_TBA', 18, ' ')"
          ],
          [
           "C6",
           303,
           18,
           "('H_TBA', 18, ' ')"
          ],
          [
           "C12",
           179,
           11,
           "('H_PRP', 11, ' ')"
          ],
          [
           "C6",
           182,
           11,
           "('H_PRP', 11, ' ')"
          ],
          [
           "C5",
           184,
           11,
           "('H_PRP', 11, ' ')"
          ],
          [
           "C11",
           175,
           11,
           "('H_PRP', 11, ' ')"
          ],
          [
           "C10",
           174,
           11,
           "('H_PRP', 11, ' ')"
          ],
          [
           "C13",
           180,
           11,
           "('H_PRP', 11, ' ')"
          ],
          [
           "C8",
           178,
           11,
           "('H_PRP', 11, ' ')"
          ],
          [
           "C9",
           185,
           11,
           "('H_PRP', 11, ' ')"
          ],
          [
           "C1",
           176,
           11,
           "('H_PRP', 11, ' ')"
          ],
          [
           "C2",
           181,
           11,
           "('H_PRP', 11, ' ')"
          ],
          [
           "C3",
           183,
           11,
           "('H_PRP', 11, ' ')"
          ],
          [
           "C2",
           66,
           4,
           "('H_TRZ', 4, ' ')"
          ],
          [
           "C5",
           267,
           16,
           "('H_PRP', 16, ' ')"
          ],
          [
           "C8",
           261,
           16,
           "('H_PRP', 16, ' ')"
          ],
          [
           "C9",
           268,
           16,
           "('H_PRP', 16, ' ')"
          ],
          [
           "C12",
           262,
           16,
           "('H_PRP', 16, ' ')"
          ],
          [
           "C13",
           263,
           16,
           "('H_PRP', 16, ' ')"
          ],
          [
           "C6",
           265,
           16,
           "('H_PRP', 16, ' ')"
          ],
          [
           "C2",
           264,
           16,
           "('H_PRP', 16, ' ')"
          ],
          [
           "C10",
           257,
           16,
           "('H_PRP', 16, ' ')"
          ],
          [
           "C11",
           258,
           16,
           "('H_PRP', 16, ' ')"
          ],
          [
           "C5",
           47,
           3,
           "('H_TBA', 3, ' ')"
          ],
          [
           "C6",
           48,
           3,
           "('H_TBA', 3, ' ')"
          ],
          [
           "C4",
           46,
           3,
           "('H_TBA', 3, ' ')"
          ],
          [
           "C8",
           6,
           1,
           "('H_PRP', 1, ' ')"
          ],
          [
           "C9",
           13,
           1,
           "('H_PRP', 1, ' ')"
          ],
          [
           "C5",
           12,
           1,
           "('H_PRP', 1, ' ')"
          ],
          [
           "C6",
           10,
           1,
           "('H_PRP', 1, ' ')"
          ],
          [
           "C12",
           7,
           1,
           "('H_PRP', 1, ' ')"
          ],
          [
           "C11",
           3,
           1,
           "('H_PRP', 1, ' ')"
          ],
          [
           "C2",
           9,
           1,
           "('H_PRP', 1, ' ')"
          ],
          [
           "C3",
           11,
           1,
           "('H_PRP', 1, ' ')"
          ],
          [
           "C13",
           8,
           1,
           "('H_PRP', 1, ' ')"
          ],
          [
           "C10",
           2,
           1,
           "('H_PRP', 1, ' ')"
          ],
          [
           "C6",
           131,
           8,
           "('H_TBA', 8, ' ')"
          ],
          [
           "C5",
           130,
           8,
           "('H_TBA', 8, ' ')"
          ],
          [
           "C4",
           129,
           8,
           "('H_TBA', 8, ' ')"
          ]
         ],
         "hovertemplate": "element_or_resname=C<br>x=%{x}<br>y=%{y}<br>z=%{z}<br>id=%{customdata[0]}<br>serial=%{customdata[1]}<br>parent_serial=%{customdata[2]}<br>parent_id=%{customdata[3]}<extra></extra>",
         "legendgroup": "C",
         "marker": {
          "color": "black",
          "opacity": 0.3,
          "symbol": "circle"
         },
         "mode": "markers",
         "name": "C",
         "scene": "scene",
         "showlegend": true,
         "type": "scatter3d",
         "x": [
          -8.774409595430754,
          -7.401620575250513,
          -8.338716133032635,
          -14.714362918947767,
          -10.073968975869896,
          -15.106377036834225,
          -16.460724031596616,
          -20.01209273523199,
          -18.938265712931116,
          -12.132807867569284,
          -21.62443625420022,
          -18.07300624447305,
          -8.117459888017887,
          -7.268945346507838,
          -19.852153747107835,
          -21.501463172475308,
          -20.31271167997146,
          -20.056106118118656,
          -18.794574089134045,
          -21.338784049716097,
          -1.635968349323485,
          -22.473744650993588,
          -20.73237489143039,
          -1.1498158568659056,
          -9.66772008240904,
          -7.22390332728407,
          -9.122659097702615,
          -4.10401680746952,
          -1.593766825610607,
          0.14914127370649188,
          -2.6730118741682203,
          -7.0803388443709245,
          -8.627746472846772,
          -7.910637925239957,
          -7.851287008986475,
          -16.22933603751804,
          -14.55584088937237,
          -10.58231888988438,
          -11.882989678430018,
          -14.26911946318749,
          -8.886964326051741,
          -8.24039507520126,
          -15.162185183300586,
          -12.862020721942255,
          -15.388036953918625,
          -12.574171964679396,
          -11.273599686148177,
          -7.97702402929942,
          -17.1574673910728,
          -10.38594288456127,
          -8.679531370671668,
          -16.207680570145698,
          -14.68677250072605,
          -15.134539947050175,
          -18.81176615814359,
          -18.894205649124025,
          -20.876438638468148,
          -16.784411440604156,
          -19.724521520598636,
          -20.470612193032146,
          -18.081656876729546,
          -16.692814696884852,
          -15.82100741388733,
          -21.168501389380772,
          -22.156215865655223,
          -18.88828120823286,
          -18.77874958601581,
          -19.524849446808137,
          -5.330497452409659,
          -24.292247450315443,
          -23.67283566047699,
          -24.03934306755357,
          -22.328518167436343,
          -20.510598153204914,
          -24.106652900015327,
          -22.284983577403565,
          -21.91591113997117,
          -22.905095238930087,
          -1.9919002628708222,
          0.2998051637730361,
          -1.6721930044649351,
          1.5288090998816775,
          1.441476626963524,
          3.2946754088259573,
          3.8433528411731674,
          3.5379217154133626,
          3.799419458441796,
          2.0330429282590843,
          1.4844531156053637,
          1.8005413606077434,
          3.2944651067005792,
          -11.203761487673752,
          -11.16775427697074,
          -11.923386790938833
         ],
         "y": [
          -2.549122982213159,
          -3.87408586271033,
          -10.985121763393968,
          -11.81047157057551,
          -12.014040224181683,
          -10.104156386580106,
          -10.750725977188209,
          -15.539299326963219,
          -14.856668368274105,
          -11.66246966913019,
          -10.889579835730615,
          -16.47303291311688,
          -10.022036240047477,
          -9.237078077227018,
          -16.93273898927673,
          -8.797418825326531,
          -18.617286258375444,
          -16.85750852904458,
          -12.27337193753143,
          -11.6297730662842,
          -7.069241297045548,
          -11.325513851038346,
          -12.974755538426281,
          -9.099481435445078,
          -12.752862867867698,
          -10.052370446420937,
          -11.765922620164169,
          -6.024444216429765,
          -6.015670042621112,
          -5.528912048580051,
          -4.991695428017323,
          -5.151398517139866,
          -5.316348821982107,
          -4.072917670480549,
          -6.489160685656576,
          -11.871083501063941,
          -2.2833561766310586,
          -0.8704070305140927,
          -0.577388213050726,
          -0.033748850803130725,
          -1.2471896827876172,
          -0.11920533137281719,
          -1.277166588985036,
          -0.3516538601076209,
          -1.9515940780155847,
          -0.41129927036155767,
          -0.7041757972537233,
          -7.790460939917455,
          -14.09326827336014,
          -11.97147120690896,
          -12.912748675346968,
          -15.879688106118651,
          -14.225983894648438,
          -16.44819092216907,
          -4.97366174529053,
          -6.590490350938241,
          -5.1217046291981205,
          -22.098512753557813,
          -21.90350227764828,
          -20.913288219495605,
          -23.787038095200813,
          -23.3145083192833,
          -22.97537420285928,
          -19.688780954235057,
          -20.247450710447445,
          -22.715065392179,
          -22.562164363718495,
          -21.572122713970558,
          -7.990969402437651,
          -9.584992233583698,
          -11.40553319294588,
          -12.8863663520539,
          -6.377325270374275,
          -7.909269411449305,
          -8.896713210751091,
          -10.378275029209918,
          -7.380792848729046,
          -8.558231306256804,
          -12.992275637308106,
          -11.983833346989764,
          -10.855487763495697,
          -4.910968043759398,
          -3.404399855483508,
          -5.9513561912737405,
          -6.233756158886537,
          -8.594283847010283,
          -6.0785686606536595,
          -5.0388377117272585,
          -4.75634843242436,
          -7.282511151696612,
          -7.396289810737252,
          -7.565713296060393,
          -9.685371087521153,
          -7.539605782729712
         ],
         "z": [
          2.6505496074919526,
          0.1986365465105948,
          -1.6733043297736643,
          -10.196709804900596,
          -9.029838477319984,
          -9.795804122644446,
          -9.548505068301406,
          -7.12696663358853,
          -5.4472301392765345,
          -9.80502425138814,
          -12.675289289372376,
          -9.634034028859745,
          -3.173112281007165,
          -2.184512971141168,
          -7.73499412274459,
          -12.455416331453527,
          -6.678559430632436,
          -9.225967901257249,
          -13.672435867718745,
          -13.98199078532162,
          -2.357826908032428,
          -15.650870089985524,
          -13.676132840553507,
          -2.64485464957789,
          -6.765730293566691,
          -1.2253844386947965,
          -4.842897734606604,
          -4.290296214791773,
          -3.4646957544848114,
          -4.408732503039457,
          -3.2260220990242736,
          2.2987959290902085,
          -0.6159292348411101,
          1.6027826392048514,
          3.7328933797083113,
          -10.075683014924419,
          6.297785837637082,
          5.238535895426891,
          5.648835484064808,
          5.13794666630865,
          3.4405198705156654,
          2.6179501854324005,
          5.316308680015255,
          4.694175173933136,
          3.960950764279104,
          3.339808857910082,
          2.929516281433621,
          -0.42589926523310995,
          -9.352447936735135,
          -7.67093475038998,
          -10.931132566884541,
          -2.4093072544784384,
          -3.5319096931626994,
          -4.6138020449474215,
          -12.990039202241526,
          -14.910523466766012,
          -14.412482896562942,
          -1.9636817620050948,
          -3.3028309253921933,
          -3.9421861533715425,
          -3.361610819246991,
          -2.8890644507755034,
          -4.100591030091763,
          -6.006789388122467,
          -7.045697274728145,
          -4.053098571707542,
          -5.426177848089722,
          -6.065519258832101,
          -3.1906118144368953,
          -18.190147222956945,
          -16.592957960567,
          -16.792524629738406,
          -20.372337124569075,
          -21.154467874816536,
          -19.389220585861608,
          -19.95791901837236,
          -21.45223367520583,
          -21.555289762369434,
          -5.1505395868964134,
          -5.348695067740585,
          -6.431599956766169,
          -4.624171116856136,
          -4.324760507075684,
          -6.055381294100267,
          -7.306442289226068,
          -9.499663142450446,
          -9.801267571339828,
          -8.370336256613543,
          -7.119395037158576,
          -10.734238550663735,
          -10.421024889392614,
          6.042349897329542,
          4.695542733004566,
          3.630694583929982
         ]
        },
        {
         "customdata": [
          [
           "N",
           115,
           7,
           "('H_SER', 7, ' ')"
          ],
          [
           "N12",
           79,
           5,
           "('H_HAC', 5, ' ')"
          ],
          [
           "N12",
           251,
           15,
           "('H_HAC', 15, ' ')"
          ],
          [
           "N",
           204,
           12,
           "('H_SER', 12, ' ')"
          ],
          [
           "N",
           287,
           17,
           "('H_SER', 17, ' ')"
          ],
          [
           "N",
           32,
           2,
           "('H_SER', 2, ' ')"
          ],
          [
           "N20",
           146,
           9,
           "('H_TRZ', 9, ' ')"
          ],
          [
           "N20",
           147,
           9,
           "('H_TRZ', 9, ' ')"
          ],
          [
           "N20",
           236,
           14,
           "('H_TRZ', 14, ' ')"
          ],
          [
           "N20",
           235,
           14,
           "('H_TRZ', 14, ' ')"
          ],
          [
           "N20",
           64,
           4,
           "('H_TRZ', 4, ' ')"
          ],
          [
           "N20",
           318,
           19,
           "('H_TRZ', 19, ' ')"
          ],
          [
           "N20",
           319,
           19,
           "('H_TRZ', 19, ' ')"
          ]
         ],
         "hovertemplate": "element_or_resname=N<br>x=%{x}<br>y=%{y}<br>z=%{z}<br>id=%{customdata[0]}<br>serial=%{customdata[1]}<br>parent_serial=%{customdata[2]}<br>parent_id=%{customdata[3]}<extra></extra>",
         "legendgroup": "N",
         "marker": {
          "color": "blue",
          "opacity": 0.3,
          "symbol": "circle"
         },
         "mode": "markers",
         "name": "N",
         "scene": "scene",
         "showlegend": true,
         "type": "scatter3d",
         "x": [
          -7.797447847504305,
          -8.563144283918689,
          -14.373235243672559,
          -20.849170245930917,
          -22.593168020521,
          -0.2824047299836834,
          -7.555417168438872,
          -7.928544021091492,
          -17.322179496746095,
          -16.82943379491767,
          -6.484487586233612,
          -16.43383286153963,
          -17.054181444287366
         ],
         "y": [
          -2.8114359941392117,
          -10.849943915593947,
          -10.827399508826089,
          -17.839460442893454,
          -11.816349803917483,
          -5.353664280004237,
          -8.089792030096731,
          -6.824488397442531,
          -14.937559842976723,
          -13.708932929479191,
          -6.123555188921738,
          -12.674478023742969,
          -13.086466639938957
         ],
         "z": [
          2.346952637630781,
          -2.6951395182493227,
          -10.024300720204746,
          -7.150399129073133,
          -14.723372586259472,
          -3.4608455057901315,
          -2.6021550161335845,
          -2.4453339747468106,
          -11.419719442299664,
          -11.531466257731413,
          -3.631792884062186,
          -11.016690212739707,
          -12.116800564480743
         ]
        },
        {
         "customdata": [
          [
           "OXT",
           121,
           7,
           "('H_SER', 7, ' ')"
          ],
          [
           "O2",
           249,
           15,
           "('H_HAC', 15, ' ')"
          ],
          [
           "OG",
           209,
           12,
           "('H_SER', 12, ' ')"
          ],
          [
           "OG",
           292,
           17,
           "('H_SER', 17, ' ')"
          ],
          [
           "OXT",
           210,
           12,
           "('H_SER', 12, ' ')"
          ],
          [
           "OXT",
           293,
           17,
           "('H_SER', 17, ' ')"
          ],
          [
           "OG",
           37,
           2,
           "('H_SER', 2, ' ')"
          ],
          [
           "O2",
           77,
           5,
           "('H_HAC', 5, ' ')"
          ],
          [
           "OXT",
           38,
           2,
           "('H_SER', 2, ' ')"
          ],
          [
           "OG",
           120,
           7,
           "('H_SER', 7, ' ')"
          ],
          [
           "O7",
           84,
           6,
           "('H_PRP', 6, ' ')"
          ],
          [
           "O",
           118,
           7,
           "('H_SER', 7, ' ')"
          ],
          [
           "O11",
           78,
           5,
           "('H_HAC', 5, ' ')"
          ],
          [
           "O11",
           250,
           15,
           "('H_HAC', 15, ' ')"
          ],
          [
           "O",
           207,
           12,
           "('H_SER', 12, ' ')"
          ],
          [
           "O1",
           216,
           13,
           "('H_TBA', 13, ' ')"
          ],
          [
           "O",
           290,
           17,
           "('H_SER', 17, ' ')"
          ],
          [
           "O1",
           299,
           18,
           "('H_TBA', 18, ' ')"
          ],
          [
           "O7",
           173,
           11,
           "('H_PRP', 11, ' ')"
          ],
          [
           "O7",
           256,
           16,
           "('H_PRP', 16, ' ')"
          ],
          [
           "O",
           35,
           2,
           "('H_SER', 2, ' ')"
          ],
          [
           "O1",
           44,
           3,
           "('H_TBA', 3, ' ')"
          ],
          [
           "O7",
           1,
           1,
           "('H_PRP', 1, ' ')"
          ],
          [
           "O1",
           127,
           8,
           "('H_TBA', 8, ' ')"
          ]
         ],
         "hovertemplate": "element_or_resname=O<br>x=%{x}<br>y=%{y}<br>z=%{z}<br>id=%{customdata[0]}<br>serial=%{customdata[1]}<br>parent_serial=%{customdata[2]}<br>parent_id=%{customdata[3]}<extra></extra>",
         "legendgroup": "O",
         "marker": {
          "color": "red",
          "opacity": 0.3,
          "symbol": "circle"
         },
         "mode": "markers",
         "name": "O",
         "scene": "scene",
         "showlegend": true,
         "type": "scatter3d",
         "x": [
          -7.912279862967839,
          -10.785386476475335,
          -19.820002960709587,
          -22.20044123985231,
          -19.009719762769706,
          -19.400346074786086,
          -0.6121274429470276,
          -10.0062335741638,
          -3.894432703558186,
          -7.561974724877553,
          -9.724620446354251,
          -6.535282343077171,
          -10.271445049493716,
          -12.630065768312194,
          -21.15964853970349,
          -17.895600711290342,
          -21.443790253174473,
          -21.3646374116621,
          -19.08562849437173,
          -21.43923849820435,
          -2.4395246203112535,
          -0.0628143027324084,
          -0.4351841259429672,
          -10.0262121101063
         ],
         "y": [
          -4.5995247313780645,
          -11.247929221411738,
          -15.610686945233367,
          -9.615071988567138,
          -16.6302073198093,
          -13.101760124950987,
          -8.039311544571028,
          -12.677875303382494,
          -5.170546341045885,
          -5.339102559235572,
          -3.2822672587218804,
          -3.062949800116873,
          -12.38777420693475,
          -9.36081357418569,
          -17.001629704683964,
          -16.802047611823234,
          -13.937505557751964,
          -7.865335250146941,
          -18.609036120673295,
          -10.716229335640598,
          -4.011090672141913,
          -9.26059126073893,
          -6.213961644180534,
          -5.639856761613109
         ],
         "z": [
          -0.8081516833044482,
          -9.882867504325304,
          -5.713417084941,
          -12.965056444209923,
          -10.03471183824826,
          -13.575008824460081,
          -2.583283141692281,
          -5.460219537329659,
          -3.752140439743526,
          3.630302996735566,
          2.394456424041562,
          -0.020918356498085933,
          -2.809064710241443,
          -10.350917217777702,
          -9.69299168062507,
          -4.444631304686329,
          -13.522221881350058,
          -14.689102533689269,
          -6.665005802102963,
          -15.904945490482586,
          -2.562255562476326,
          -4.805717064333892,
          -5.242552500935954,
          4.384996729740571
         ]
        },
        {
         "customdata": [
          [
           "Cl4",
           160,
           10,
           "('H_CBZ', 10, ' ')"
          ]
         ],
         "hovertemplate": "element_or_resname=Cl<br>x=%{x}<br>y=%{y}<br>z=%{z}<br>id=%{customdata[0]}<br>serial=%{customdata[1]}<br>parent_serial=%{customdata[2]}<br>parent_id=%{customdata[3]}<extra></extra>",
         "legendgroup": "Cl",
         "marker": {
          "color": "green",
          "opacity": 0.3,
          "symbol": "circle"
         },
         "mode": "markers",
         "name": "Cl",
         "scene": "scene",
         "showlegend": true,
         "type": "scatter3d",
         "x": [
          -7.712501857764874
         ],
         "y": [
          -14.568894294687201
         ],
         "z": [
          -6.1478206150349255
         ]
        },
        {
         "hoverinfo": "skip",
         "line": {
          "color": "black",
          "width": 1
         },
         "mode": "lines",
         "opacity": 0.6,
         "showlegend": false,
         "type": "scatter3d",
         "x": [
          -11.777688980102539,
          -8.774409595430754
         ],
         "y": [
          -1.2140071392059326,
          -2.549122982213159
         ],
         "z": [
          4.103869915008545,
          2.6505496074919526
         ]
        },
        {
         "hoverinfo": "skip",
         "line": {
          "color": "black",
          "width": 1
         },
         "mode": "lines",
         "opacity": 0.6,
         "showlegend": false,
         "type": "scatter3d",
         "x": [
          -11.777688980102539,
          -14.55584088937237
         ],
         "y": [
          -1.2140071392059326,
          -2.2833561766310586
         ],
         "z": [
          4.103869915008545,
          6.297785837637082
         ]
        },
        {
         "hoverinfo": "skip",
         "line": {
          "color": "black",
          "width": 1
         },
         "mode": "lines",
         "opacity": 0.6,
         "showlegend": false,
         "type": "scatter3d",
         "x": [
          -11.777688980102539,
          -10.58231888988438
         ],
         "y": [
          -1.2140071392059326,
          -0.8704070305140927
         ],
         "z": [
          4.103869915008545,
          5.238535895426891
         ]
        },
        {
         "hoverinfo": "skip",
         "line": {
          "color": "black",
          "width": 1
         },
         "mode": "lines",
         "opacity": 0.6,
         "showlegend": false,
         "type": "scatter3d",
         "x": [
          -11.777688980102539,
          -11.882989678430018
         ],
         "y": [
          -1.2140071392059326,
          -0.577388213050726
         ],
         "z": [
          4.103869915008545,
          5.648835484064808
         ]
        },
        {
         "hoverinfo": "skip",
         "line": {
          "color": "black",
          "width": 1
         },
         "mode": "lines",
         "opacity": 0.6,
         "showlegend": false,
         "type": "scatter3d",
         "x": [
          -11.777688980102539,
          -14.26911946318749
         ],
         "y": [
          -1.2140071392059326,
          -0.033748850803130725
         ],
         "z": [
          4.103869915008545,
          5.13794666630865
         ]
        },
        {
         "hoverinfo": "skip",
         "line": {
          "color": "black",
          "width": 1
         },
         "mode": "lines",
         "opacity": 0.6,
         "showlegend": false,
         "type": "scatter3d",
         "x": [
          -11.777688980102539,
          -8.886964326051741
         ],
         "y": [
          -1.2140071392059326,
          -1.2471896827876172
         ],
         "z": [
          4.103869915008545,
          3.4405198705156654
         ]
        },
        {
         "hoverinfo": "skip",
         "line": {
          "color": "black",
          "width": 1
         },
         "mode": "lines",
         "opacity": 0.6,
         "showlegend": false,
         "type": "scatter3d",
         "x": [
          -11.777688980102539,
          -8.24039507520126
         ],
         "y": [
          -1.2140071392059326,
          -0.11920533137281719
         ],
         "z": [
          4.103869915008545,
          2.6179501854324005
         ]
        },
        {
         "hoverinfo": "skip",
         "line": {
          "color": "black",
          "width": 1
         },
         "mode": "lines",
         "opacity": 0.6,
         "showlegend": false,
         "type": "scatter3d",
         "x": [
          -11.777688980102539,
          -15.162185183300586
         ],
         "y": [
          -1.2140071392059326,
          -1.277166588985036
         ],
         "z": [
          4.103869915008545,
          5.316308680015255
         ]
        },
        {
         "hoverinfo": "skip",
         "line": {
          "color": "black",
          "width": 1
         },
         "mode": "lines",
         "opacity": 0.6,
         "showlegend": false,
         "type": "scatter3d",
         "x": [
          -11.777688980102539,
          -12.862020721942255
         ],
         "y": [
          -1.2140071392059326,
          -0.3516538601076209
         ],
         "z": [
          4.103869915008545,
          4.694175173933136
         ]
        },
        {
         "hoverinfo": "skip",
         "line": {
          "color": "black",
          "width": 1
         },
         "mode": "lines",
         "opacity": 0.6,
         "showlegend": false,
         "type": "scatter3d",
         "x": [
          -11.777688980102539,
          -15.388036953918625
         ],
         "y": [
          -1.2140071392059326,
          -1.9515940780155847
         ],
         "z": [
          4.103869915008545,
          3.960950764279104
         ]
        },
        {
         "hoverinfo": "skip",
         "line": {
          "color": "black",
          "width": 1
         },
         "mode": "lines",
         "opacity": 0.6,
         "showlegend": false,
         "type": "scatter3d",
         "x": [
          -11.777688980102539,
          -9.724620446354251
         ],
         "y": [
          -1.2140071392059326,
          -3.2822672587218804
         ],
         "z": [
          4.103869915008545,
          2.394456424041562
         ]
        },
        {
         "hoverinfo": "skip",
         "line": {
          "color": "black",
          "width": 1
         },
         "mode": "lines",
         "opacity": 0.6,
         "showlegend": false,
         "type": "scatter3d",
         "x": [
          -11.777688980102539,
          -12.574171964679396
         ],
         "y": [
          -1.2140071392059326,
          -0.41129927036155767
         ],
         "z": [
          4.103869915008545,
          3.339808857910082
         ]
        },
        {
         "hoverinfo": "skip",
         "line": {
          "color": "black",
          "width": 1
         },
         "mode": "lines",
         "opacity": 0.6,
         "showlegend": false,
         "type": "scatter3d",
         "x": [
          -11.777688980102539,
          -11.273599686148177
         ],
         "y": [
          -1.2140071392059326,
          -0.7041757972537233
         ],
         "z": [
          4.103869915008545,
          2.929516281433621
         ]
        },
        {
         "hoverinfo": "skip",
         "line": {
          "color": "black",
          "width": 1
         },
         "mode": "lines",
         "opacity": 0.6,
         "showlegend": false,
         "type": "scatter3d",
         "x": [
          -7.447906017303467,
          -7.910637925239957
         ],
         "y": [
          -4.137168884277344,
          -4.072917670480549
         ],
         "z": [
          1.3160558938980103,
          1.6027826392048514
         ]
        },
        {
         "hoverinfo": "skip",
         "line": {
          "color": "black",
          "width": 1
         },
         "mode": "lines",
         "opacity": 0.6,
         "showlegend": false,
         "type": "scatter3d",
         "x": [
          -7.447906017303467,
          -7.401620575250513
         ],
         "y": [
          -4.137168884277344,
          -3.87408586271033
         ],
         "z": [
          1.3160558938980103,
          0.1986365465105948
         ]
        },
        {
         "hoverinfo": "skip",
         "line": {
          "color": "black",
          "width": 1
         },
         "mode": "lines",
         "opacity": 0.6,
         "showlegend": false,
         "type": "scatter3d",
         "x": [
          -7.447906017303467,
          -7.0803388443709245
         ],
         "y": [
          -4.137168884277344,
          -5.151398517139866
         ],
         "z": [
          1.3160558938980103,
          2.2987959290902085
         ]
        },
        {
         "hoverinfo": "skip",
         "line": {
          "color": "black",
          "width": 1
         },
         "mode": "lines",
         "opacity": 0.6,
         "showlegend": false,
         "type": "scatter3d",
         "x": [
          -7.447906017303467,
          -6.535282343077171
         ],
         "y": [
          -4.137168884277344,
          -3.062949800116873
         ],
         "z": [
          1.3160558938980103,
          -0.020918356498085933
         ]
        },
        {
         "hoverinfo": "skip",
         "line": {
          "color": "black",
          "width": 1
         },
         "mode": "lines",
         "opacity": 0.6,
         "showlegend": false,
         "type": "scatter3d",
         "x": [
          -9.499184608459473,
          -8.563144283918689
         ],
         "y": [
          -11.911452293395996,
          -10.849943915593947
         ],
         "z": [
          -3.8719208240509033,
          -2.6951395182493227
         ]
        },
        {
         "hoverinfo": "skip",
         "line": {
          "color": "black",
          "width": 1
         },
         "mode": "lines",
         "opacity": 0.6,
         "showlegend": false,
         "type": "scatter3d",
         "x": [
          -9.499184608459473,
          -9.122659097702615
         ],
         "y": [
          -11.911452293395996,
          -11.765922620164169
         ],
         "z": [
          -3.8719208240509033,
          -4.842897734606604
         ]
        },
        {
         "hoverinfo": "skip",
         "line": {
          "color": "black",
          "width": 1
         },
         "mode": "lines",
         "opacity": 0.6,
         "showlegend": false,
         "type": "scatter3d",
         "x": [
          -9.499184608459473,
          -10.271445049493716
         ],
         "y": [
          -11.911452293395996,
          -12.38777420693475
         ],
         "z": [
          -3.8719208240509033,
          -2.809064710241443
         ]
        },
        {
         "hoverinfo": "skip",
         "line": {
          "color": "black",
          "width": 1
         },
         "mode": "lines",
         "opacity": 0.6,
         "showlegend": false,
         "type": "scatter3d",
         "x": [
          -7.929364204406738,
          -8.627746472846772
         ],
         "y": [
          -8.083555221557617,
          -5.316348821982107
         ],
         "z": [
          -1.425732135772705,
          -0.6159292348411101
         ]
        },
        {
         "hoverinfo": "skip",
         "line": {
          "color": "black",
          "width": 1
         },
         "mode": "lines",
         "opacity": 0.6,
         "showlegend": false,
         "type": "scatter3d",
         "x": [
          -7.929364204406738,
          -8.338716133032635
         ],
         "y": [
          -8.083555221557617,
          -10.985121763393968
         ],
         "z": [
          -1.425732135772705,
          -1.6733043297736643
         ]
        },
        {
         "hoverinfo": "skip",
         "line": {
          "color": "black",
          "width": 1
         },
         "mode": "lines",
         "opacity": 0.6,
         "showlegend": false,
         "type": "scatter3d",
         "x": [
          -7.929364204406738,
          -7.22390332728407
         ],
         "y": [
          -8.083555221557617,
          -10.052370446420937
         ],
         "z": [
          -1.425732135772705,
          -1.2253844386947965
         ]
        },
        {
         "hoverinfo": "skip",
         "line": {
          "color": "black",
          "width": 1
         },
         "mode": "lines",
         "opacity": 0.6,
         "showlegend": false,
         "type": "scatter3d",
         "x": [
          -7.929364204406738,
          -7.97702402929942
         ],
         "y": [
          -8.083555221557617,
          -7.790460939917455
         ],
         "z": [
          -1.425732135772705,
          -0.42589926523310995
         ]
        },
        {
         "hoverinfo": "skip",
         "line": {
          "color": "black",
          "width": 1
         },
         "mode": "lines",
         "opacity": 0.6,
         "showlegend": false,
         "type": "scatter3d",
         "x": [
          -7.929364204406738,
          -7.555417168438872
         ],
         "y": [
          -8.083555221557617,
          -8.089792030096731
         ],
         "z": [
          -1.425732135772705,
          -2.6021550161335845
         ]
        },
        {
         "hoverinfo": "skip",
         "line": {
          "color": "black",
          "width": 1
         },
         "mode": "lines",
         "opacity": 0.6,
         "showlegend": false,
         "type": "scatter3d",
         "x": [
          -7.929364204406738,
          -7.928544021091492
         ],
         "y": [
          -8.083555221557617,
          -6.824488397442531
         ],
         "z": [
          -1.425732135772705,
          -2.4453339747468106
         ]
        },
        {
         "hoverinfo": "skip",
         "line": {
          "color": "black",
          "width": 1
         },
         "mode": "lines",
         "opacity": 0.6,
         "showlegend": false,
         "type": "scatter3d",
         "x": [
          -16.801673889160156,
          -14.714362918947767
         ],
         "y": [
          -13.89134407043457,
          -11.81047157057551
         ],
         "z": [
          -10.320011138916016,
          -10.196709804900596
         ]
        },
        {
         "hoverinfo": "skip",
         "line": {
          "color": "black",
          "width": 1
         },
         "mode": "lines",
         "opacity": 0.6,
         "showlegend": false,
         "type": "scatter3d",
         "x": [
          -16.801673889160156,
          -16.22933603751804
         ],
         "y": [
          -13.89134407043457,
          -11.871083501063941
         ],
         "z": [
          -10.320011138916016,
          -10.075683014924419
         ]
        },
        {
         "hoverinfo": "skip",
         "line": {
          "color": "black",
          "width": 1
         },
         "mode": "lines",
         "opacity": 0.6,
         "showlegend": false,
         "type": "scatter3d",
         "x": [
          -16.801673889160156,
          -18.07300624447305
         ],
         "y": [
          -13.89134407043457,
          -16.47303291311688
         ],
         "z": [
          -10.320011138916016,
          -9.634034028859745
         ]
        },
        {
         "hoverinfo": "skip",
         "line": {
          "color": "black",
          "width": 1
         },
         "mode": "lines",
         "opacity": 0.6,
         "showlegend": false,
         "type": "scatter3d",
         "x": [
          -16.801673889160156,
          -17.1574673910728
         ],
         "y": [
          -13.89134407043457,
          -14.09326827336014
         ],
         "z": [
          -10.320011138916016,
          -9.352447936735135
         ]
        },
        {
         "hoverinfo": "skip",
         "line": {
          "color": "black",
          "width": 1
         },
         "mode": "lines",
         "opacity": 0.6,
         "showlegend": false,
         "type": "scatter3d",
         "x": [
          -16.801673889160156,
          -17.322179496746095
         ],
         "y": [
          -13.89134407043457,
          -14.937559842976723
         ],
         "z": [
          -10.320011138916016,
          -11.419719442299664
         ]
        },
        {
         "hoverinfo": "skip",
         "line": {
          "color": "black",
          "width": 1
         },
         "mode": "lines",
         "opacity": 0.6,
         "showlegend": false,
         "type": "scatter3d",
         "x": [
          -16.801673889160156,
          -16.82943379491767
         ],
         "y": [
          -13.89134407043457,
          -13.708932929479191
         ],
         "z": [
          -10.320011138916016,
          -11.531466257731413
         ]
        },
        {
         "hoverinfo": "skip",
         "line": {
          "color": "black",
          "width": 1
         },
         "mode": "lines",
         "opacity": 0.6,
         "showlegend": false,
         "type": "scatter3d",
         "x": [
          -12.535918235778809,
          -14.373235243672559
         ],
         "y": [
          -10.717734336853027,
          -10.827399508826089
         ],
         "z": [
          -10.030245780944824,
          -10.024300720204746
         ]
        },
        {
         "hoverinfo": "skip",
         "line": {
          "color": "black",
          "width": 1
         },
         "mode": "lines",
         "opacity": 0.6,
         "showlegend": false,
         "type": "scatter3d",
         "x": [
          -12.535918235778809,
          -12.132807867569284
         ],
         "y": [
          -10.717734336853027,
          -11.66246966913019
         ],
         "z": [
          -10.030245780944824,
          -9.80502425138814
         ]
        },
        {
         "hoverinfo": "skip",
         "line": {
          "color": "black",
          "width": 1
         },
         "mode": "lines",
         "opacity": 0.6,
         "showlegend": false,
         "type": "scatter3d",
         "x": [
          -12.535918235778809,
          -12.630065768312194
         ],
         "y": [
          -10.717734336853027,
          -9.36081357418569
         ],
         "z": [
          -10.030245780944824,
          -10.350917217777702
         ]
        },
        {
         "hoverinfo": "skip",
         "line": {
          "color": "black",
          "width": 1
         },
         "mode": "lines",
         "opacity": 0.6,
         "showlegend": false,
         "type": "scatter3d",
         "x": [
          -8.804100036621094,
          -10.073968975869896
         ],
         "y": [
          -13.3148775100708,
          -12.014040224181683
         ],
         "z": [
          -7.909966945648193,
          -9.029838477319984
         ]
        },
        {
         "hoverinfo": "skip",
         "line": {
          "color": "black",
          "width": 1
         },
         "mode": "lines",
         "opacity": 0.6,
         "showlegend": false,
         "type": "scatter3d",
         "x": [
          -8.804100036621094,
          -9.66772008240904
         ],
         "y": [
          -13.3148775100708,
          -12.752862867867698
         ],
         "z": [
          -7.909966945648193,
          -6.765730293566691
         ]
        },
        {
         "hoverinfo": "skip",
         "line": {
          "color": "black",
          "width": 1
         },
         "mode": "lines",
         "opacity": 0.6,
         "showlegend": false,
         "type": "scatter3d",
         "x": [
          -8.804100036621094,
          -7.712501857764874
         ],
         "y": [
          -13.3148775100708,
          -14.568894294687201
         ],
         "z": [
          -7.909966945648193,
          -6.1478206150349255
         ]
        },
        {
         "hoverinfo": "skip",
         "line": {
          "color": "black",
          "width": 1
         },
         "mode": "lines",
         "opacity": 0.6,
         "showlegend": false,
         "type": "scatter3d",
         "x": [
          -8.804100036621094,
          -10.38594288456127
         ],
         "y": [
          -13.3148775100708,
          -11.97147120690896
         ],
         "z": [
          -7.909966945648193,
          -7.67093475038998
         ]
        },
        {
         "hoverinfo": "skip",
         "line": {
          "color": "black",
          "width": 1
         },
         "mode": "lines",
         "opacity": 0.6,
         "showlegend": false,
         "type": "scatter3d",
         "x": [
          -8.804100036621094,
          -8.679531370671668
         ],
         "y": [
          -13.3148775100708,
          -12.912748675346968
         ],
         "z": [
          -7.909966945648193,
          -10.931132566884541
         ]
        },
        {
         "hoverinfo": "skip",
         "line": {
          "color": "black",
          "width": 1
         },
         "mode": "lines",
         "opacity": 0.6,
         "showlegend": false,
         "type": "scatter3d",
         "x": [
          -20.11028480529785,
          -20.01209273523199
         ],
         "y": [
          -16.619417190551758,
          -15.539299326963219
         ],
         "z": [
          -8.103310585021973,
          -7.12696663358853
         ]
        },
        {
         "hoverinfo": "skip",
         "line": {
          "color": "black",
          "width": 1
         },
         "mode": "lines",
         "opacity": 0.6,
         "showlegend": false,
         "type": "scatter3d",
         "x": [
          -20.11028480529785,
          -20.056106118118656
         ],
         "y": [
          -16.619417190551758,
          -16.85750852904458
         ],
         "z": [
          -8.103310585021973,
          -9.225967901257249
         ]
        },
        {
         "hoverinfo": "skip",
         "line": {
          "color": "black",
          "width": 1
         },
         "mode": "lines",
         "opacity": 0.6,
         "showlegend": false,
         "type": "scatter3d",
         "x": [
          -20.11028480529785,
          -19.852153747107835
         ],
         "y": [
          -16.619417190551758,
          -16.93273898927673
         ],
         "z": [
          -8.103310585021973,
          -7.73499412274459
         ]
        },
        {
         "hoverinfo": "skip",
         "line": {
          "color": "black",
          "width": 1
         },
         "mode": "lines",
         "opacity": 0.6,
         "showlegend": false,
         "type": "scatter3d",
         "x": [
          -20.11028480529785,
          -21.15964853970349
         ],
         "y": [
          -16.619417190551758,
          -17.001629704683964
         ],
         "z": [
          -8.103310585021973,
          -9.69299168062507
         ]
        },
        {
         "hoverinfo": "skip",
         "line": {
          "color": "black",
          "width": 1
         },
         "mode": "lines",
         "opacity": 0.6,
         "showlegend": false,
         "type": "scatter3d",
         "x": [
          -16.634693145751953,
          -18.938265712931116
         ],
         "y": [
          -15.493315696716309,
          -14.856668368274105
         ],
         "z": [
          -4.157362937927246,
          -5.4472301392765345
         ]
        },
        {
         "hoverinfo": "skip",
         "line": {
          "color": "black",
          "width": 1
         },
         "mode": "lines",
         "opacity": 0.6,
         "showlegend": false,
         "type": "scatter3d",
         "x": [
          -16.634693145751953,
          -16.207680570145698
         ],
         "y": [
          -15.493315696716309,
          -15.879688106118651
         ],
         "z": [
          -4.157362937927246,
          -2.4093072544784384
         ]
        },
        {
         "hoverinfo": "skip",
         "line": {
          "color": "black",
          "width": 1
         },
         "mode": "lines",
         "opacity": 0.6,
         "showlegend": false,
         "type": "scatter3d",
         "x": [
          -16.634693145751953,
          -14.68677250072605
         ],
         "y": [
          -15.493315696716309,
          -14.225983894648438
         ],
         "z": [
          -4.157362937927246,
          -3.5319096931626994
         ]
        },
        {
         "hoverinfo": "skip",
         "line": {
          "color": "black",
          "width": 1
         },
         "mode": "lines",
         "opacity": 0.6,
         "showlegend": false,
         "type": "scatter3d",
         "x": [
          -16.634693145751953,
          -17.895600711290342
         ],
         "y": [
          -15.493315696716309,
          -16.802047611823234
         ],
         "z": [
          -4.157362937927246,
          -4.444631304686329
         ]
        },
        {
         "hoverinfo": "skip",
         "line": {
          "color": "black",
          "width": 1
         },
         "mode": "lines",
         "opacity": 0.6,
         "showlegend": false,
         "type": "scatter3d",
         "x": [
          -16.634693145751953,
          -15.134539947050175
         ],
         "y": [
          -15.493315696716309,
          -16.44819092216907
         ],
         "z": [
          -4.157362937927246,
          -4.6138020449474215
         ]
        },
        {
         "hoverinfo": "skip",
         "line": {
          "color": "black",
          "width": 1
         },
         "mode": "lines",
         "opacity": 0.6,
         "showlegend": false,
         "type": "scatter3d",
         "x": [
          -21.330415725708008,
          -21.62443625420022
         ],
         "y": [
          -11.998818397521973,
          -10.889579835730615
         ],
         "z": [
          -13.576780319213867,
          -12.675289289372376
         ]
        },
        {
         "hoverinfo": "skip",
         "line": {
          "color": "black",
          "width": 1
         },
         "mode": "lines",
         "opacity": 0.6,
         "showlegend": false,
         "type": "scatter3d",
         "x": [
          -21.330415725708008,
          -20.73237489143039
         ],
         "y": [
          -11.998818397521973,
          -12.974755538426281
         ],
         "z": [
          -13.576780319213867,
          -13.676132840553507
         ]
        },
        {
         "hoverinfo": "skip",
         "line": {
          "color": "black",
          "width": 1
         },
         "mode": "lines",
         "opacity": 0.6,
         "showlegend": false,
         "type": "scatter3d",
         "x": [
          -21.330415725708008,
          -21.338784049716097
         ],
         "y": [
          -11.998818397521973,
          -11.6297730662842
         ],
         "z": [
          -13.576780319213867,
          -13.98199078532162
         ]
        },
        {
         "hoverinfo": "skip",
         "line": {
          "color": "black",
          "width": 1
         },
         "mode": "lines",
         "opacity": 0.6,
         "showlegend": false,
         "type": "scatter3d",
         "x": [
          -21.330415725708008,
          -21.443790253174473
         ],
         "y": [
          -11.998818397521973,
          -13.937505557751964
         ],
         "z": [
          -13.576780319213867,
          -13.522221881350058
         ]
        },
        {
         "hoverinfo": "skip",
         "line": {
          "color": "black",
          "width": 1
         },
         "mode": "lines",
         "opacity": 0.6,
         "showlegend": false,
         "type": "scatter3d",
         "x": [
          -20.2896671295166,
          -21.501463172475308
         ],
         "y": [
          -6.724998950958252,
          -8.797418825326531
         ],
         "z": [
          -13.725122451782227,
          -12.455416331453527
         ]
        },
        {
         "hoverinfo": "skip",
         "line": {
          "color": "black",
          "width": 1
         },
         "mode": "lines",
         "opacity": 0.6,
         "showlegend": false,
         "type": "scatter3d",
         "x": [
          -20.2896671295166,
          -18.81176615814359
         ],
         "y": [
          -6.724998950958252,
          -4.97366174529053
         ],
         "z": [
          -13.725122451782227,
          -12.990039202241526
         ]
        },
        {
         "hoverinfo": "skip",
         "line": {
          "color": "black",
          "width": 1
         },
         "mode": "lines",
         "opacity": 0.6,
         "showlegend": false,
         "type": "scatter3d",
         "x": [
          -20.2896671295166,
          -18.894205649124025
         ],
         "y": [
          -6.724998950958252,
          -6.590490350938241
         ],
         "z": [
          -13.725122451782227,
          -14.910523466766012
         ]
        },
        {
         "hoverinfo": "skip",
         "line": {
          "color": "black",
          "width": 1
         },
         "mode": "lines",
         "opacity": 0.6,
         "showlegend": false,
         "type": "scatter3d",
         "x": [
          -20.2896671295166,
          -21.3646374116621
         ],
         "y": [
          -6.724998950958252,
          -7.865335250146941
         ],
         "z": [
          -13.725122451782227,
          -14.689102533689269
         ]
        },
        {
         "hoverinfo": "skip",
         "line": {
          "color": "black",
          "width": 1
         },
         "mode": "lines",
         "opacity": 0.6,
         "showlegend": false,
         "type": "scatter3d",
         "x": [
          -20.2896671295166,
          -20.876438638468148
         ],
         "y": [
          -6.724998950958252,
          -5.1217046291981205
         ],
         "z": [
          -13.725122451782227,
          -14.412482896562942
         ]
        },
        {
         "hoverinfo": "skip",
         "line": {
          "color": "black",
          "width": 1
         },
         "mode": "lines",
         "opacity": 0.6,
         "showlegend": false,
         "type": "scatter3d",
         "x": [
          -19.09040069580078,
          -20.31271167997146
         ],
         "y": [
          -21.406513214111328,
          -18.617286258375444
         ],
         "z": [
          -4.77054500579834,
          -6.678559430632436
         ]
        },
        {
         "hoverinfo": "skip",
         "line": {
          "color": "black",
          "width": 1
         },
         "mode": "lines",
         "opacity": 0.6,
         "showlegend": false,
         "type": "scatter3d",
         "x": [
          -19.09040069580078,
          -16.784411440604156
         ],
         "y": [
          -21.406513214111328,
          -22.098512753557813
         ],
         "z": [
          -4.77054500579834,
          -1.9636817620050948
         ]
        },
        {
         "hoverinfo": "skip",
         "line": {
          "color": "black",
          "width": 1
         },
         "mode": "lines",
         "opacity": 0.6,
         "showlegend": false,
         "type": "scatter3d",
         "x": [
          -19.09040069580078,
          -19.724521520598636
         ],
         "y": [
          -21.406513214111328,
          -21.90350227764828
         ],
         "z": [
          -4.77054500579834,
          -3.3028309253921933
         ]
        },
        {
         "hoverinfo": "skip",
         "line": {
          "color": "black",
          "width": 1
         },
         "mode": "lines",
         "opacity": 0.6,
         "showlegend": false,
         "type": "scatter3d",
         "x": [
          -19.09040069580078,
          -20.470612193032146
         ],
         "y": [
          -21.406513214111328,
          -20.913288219495605
         ],
         "z": [
          -4.77054500579834,
          -3.9421861533715425
         ]
        },
        {
         "hoverinfo": "skip",
         "line": {
          "color": "black",
          "width": 1
         },
         "mode": "lines",
         "opacity": 0.6,
         "showlegend": false,
         "type": "scatter3d",
         "x": [
          -19.09040069580078,
          -18.081656876729546
         ],
         "y": [
          -21.406513214111328,
          -23.787038095200813
         ],
         "z": [
          -4.77054500579834,
          -3.361610819246991
         ]
        },
        {
         "hoverinfo": "skip",
         "line": {
          "color": "black",
          "width": 1
         },
         "mode": "lines",
         "opacity": 0.6,
         "showlegend": false,
         "type": "scatter3d",
         "x": [
          -19.09040069580078,
          -16.692814696884852
         ],
         "y": [
          -21.406513214111328,
          -23.3145083192833
         ],
         "z": [
          -4.77054500579834,
          -2.8890644507755034
         ]
        },
        {
         "hoverinfo": "skip",
         "line": {
          "color": "black",
          "width": 1
         },
         "mode": "lines",
         "opacity": 0.6,
         "showlegend": false,
         "type": "scatter3d",
         "x": [
          -19.09040069580078,
          -15.82100741388733
         ],
         "y": [
          -21.406513214111328,
          -22.97537420285928
         ],
         "z": [
          -4.77054500579834,
          -4.100591030091763
         ]
        },
        {
         "hoverinfo": "skip",
         "line": {
          "color": "black",
          "width": 1
         },
         "mode": "lines",
         "opacity": 0.6,
         "showlegend": false,
         "type": "scatter3d",
         "x": [
          -19.09040069580078,
          -19.08562849437173
         ],
         "y": [
          -21.406513214111328,
          -18.609036120673295
         ],
         "z": [
          -4.77054500579834,
          -6.665005802102963
         ]
        },
        {
         "hoverinfo": "skip",
         "line": {
          "color": "black",
          "width": 1
         },
         "mode": "lines",
         "opacity": 0.6,
         "showlegend": false,
         "type": "scatter3d",
         "x": [
          -19.09040069580078,
          -21.168501389380772
         ],
         "y": [
          -21.406513214111328,
          -19.688780954235057
         ],
         "z": [
          -4.77054500579834,
          -6.006789388122467
         ]
        },
        {
         "hoverinfo": "skip",
         "line": {
          "color": "black",
          "width": 1
         },
         "mode": "lines",
         "opacity": 0.6,
         "showlegend": false,
         "type": "scatter3d",
         "x": [
          -19.09040069580078,
          -22.156215865655223
         ],
         "y": [
          -21.406513214111328,
          -20.247450710447445
         ],
         "z": [
          -4.77054500579834,
          -7.045697274728145
         ]
        },
        {
         "hoverinfo": "skip",
         "line": {
          "color": "black",
          "width": 1
         },
         "mode": "lines",
         "opacity": 0.6,
         "showlegend": false,
         "type": "scatter3d",
         "x": [
          -19.09040069580078,
          -18.88828120823286
         ],
         "y": [
          -21.406513214111328,
          -22.715065392179
         ],
         "z": [
          -4.77054500579834,
          -4.053098571707542
         ]
        },
        {
         "hoverinfo": "skip",
         "line": {
          "color": "black",
          "width": 1
         },
         "mode": "lines",
         "opacity": 0.6,
         "showlegend": false,
         "type": "scatter3d",
         "x": [
          -19.09040069580078,
          -18.77874958601581
         ],
         "y": [
          -21.406513214111328,
          -22.562164363718495
         ],
         "z": [
          -4.77054500579834,
          -5.426177848089722
         ]
        },
        {
         "hoverinfo": "skip",
         "line": {
          "color": "black",
          "width": 1
         },
         "mode": "lines",
         "opacity": 0.6,
         "showlegend": false,
         "type": "scatter3d",
         "x": [
          -19.09040069580078,
          -19.524849446808137
         ],
         "y": [
          -21.406513214111328,
          -21.572122713970558
         ],
         "z": [
          -4.77054500579834,
          -6.065519258832101
         ]
        },
        {
         "hoverinfo": "skip",
         "line": {
          "color": "black",
          "width": 1
         },
         "mode": "lines",
         "opacity": 0.6,
         "showlegend": false,
         "type": "scatter3d",
         "x": [
          -6.330528259277344,
          -8.117459888017887
         ],
         "y": [
          -7.676449775695801,
          -10.022036240047477
         ],
         "z": [
          -3.2580788135528564,
          -3.173112281007165
         ]
        },
        {
         "hoverinfo": "skip",
         "line": {
          "color": "black",
          "width": 1
         },
         "mode": "lines",
         "opacity": 0.6,
         "showlegend": false,
         "type": "scatter3d",
         "x": [
          -6.330528259277344,
          -7.268945346507838
         ],
         "y": [
          -7.676449775695801,
          -9.237078077227018
         ],
         "z": [
          -3.2580788135528564,
          -2.184512971141168
         ]
        },
        {
         "hoverinfo": "skip",
         "line": {
          "color": "black",
          "width": 1
         },
         "mode": "lines",
         "opacity": 0.6,
         "showlegend": false,
         "type": "scatter3d",
         "x": [
          -6.330528259277344,
          -4.10401680746952
         ],
         "y": [
          -7.676449775695801,
          -6.024444216429765
         ],
         "z": [
          -3.2580788135528564,
          -4.290296214791773
         ]
        },
        {
         "hoverinfo": "skip",
         "line": {
          "color": "black",
          "width": 1
         },
         "mode": "lines",
         "opacity": 0.6,
         "showlegend": false,
         "type": "scatter3d",
         "x": [
          -6.330528259277344,
          -5.330497452409659
         ],
         "y": [
          -7.676449775695801,
          -7.990969402437651
         ],
         "z": [
          -3.2580788135528564,
          -3.1906118144368953
         ]
        },
        {
         "hoverinfo": "skip",
         "line": {
          "color": "black",
          "width": 1
         },
         "mode": "lines",
         "opacity": 0.6,
         "showlegend": false,
         "type": "scatter3d",
         "x": [
          -6.330528259277344,
          -6.484487586233612
         ],
         "y": [
          -7.676449775695801,
          -6.123555188921738
         ],
         "z": [
          -3.2580788135528564,
          -3.631792884062186
         ]
        },
        {
         "hoverinfo": "skip",
         "line": {
          "color": "black",
          "width": 1
         },
         "mode": "lines",
         "opacity": 0.6,
         "showlegend": false,
         "type": "scatter3d",
         "x": [
          -17.061830520629883,
          -15.106377036834225
         ],
         "y": [
          -11.663061141967773,
          -10.104156386580106
         ],
         "z": [
          -11.343035697937012,
          -9.795804122644446
         ]
        },
        {
         "hoverinfo": "skip",
         "line": {
          "color": "black",
          "width": 1
         },
         "mode": "lines",
         "opacity": 0.6,
         "showlegend": false,
         "type": "scatter3d",
         "x": [
          -17.061830520629883,
          -16.460724031596616
         ],
         "y": [
          -11.663061141967773,
          -10.750725977188209
         ],
         "z": [
          -11.343035697937012,
          -9.548505068301406
         ]
        },
        {
         "hoverinfo": "skip",
         "line": {
          "color": "black",
          "width": 1
         },
         "mode": "lines",
         "opacity": 0.6,
         "showlegend": false,
         "type": "scatter3d",
         "x": [
          -17.061830520629883,
          -18.794574089134045
         ],
         "y": [
          -11.663061141967773,
          -12.27337193753143
         ],
         "z": [
          -11.343035697937012,
          -13.672435867718745
         ]
        },
        {
         "hoverinfo": "skip",
         "line": {
          "color": "black",
          "width": 1
         },
         "mode": "lines",
         "opacity": 0.6,
         "showlegend": false,
         "type": "scatter3d",
         "x": [
          -17.061830520629883,
          -16.43383286153963
         ],
         "y": [
          -11.663061141967773,
          -12.674478023742969
         ],
         "z": [
          -11.343035697937012,
          -11.016690212739707
         ]
        },
        {
         "hoverinfo": "skip",
         "line": {
          "color": "black",
          "width": 1
         },
         "mode": "lines",
         "opacity": 0.6,
         "showlegend": false,
         "type": "scatter3d",
         "x": [
          -17.061830520629883,
          -17.054181444287366
         ],
         "y": [
          -11.663061141967773,
          -13.086466639938957
         ],
         "z": [
          -11.343035697937012,
          -12.116800564480743
         ]
        },
        {
         "hoverinfo": "skip",
         "line": {
          "color": "black",
          "width": 1
         },
         "mode": "lines",
         "opacity": 0.6,
         "showlegend": false,
         "type": "scatter3d",
         "x": [
          -22.751907348632812,
          -22.473744650993588
         ],
         "y": [
          -9.72319221496582,
          -11.325513851038346
         ],
         "z": [
          -18.85548210144043,
          -15.650870089985524
         ]
        },
        {
         "hoverinfo": "skip",
         "line": {
          "color": "black",
          "width": 1
         },
         "mode": "lines",
         "opacity": 0.6,
         "showlegend": false,
         "type": "scatter3d",
         "x": [
          -22.751907348632812,
          -21.43923849820435
         ],
         "y": [
          -9.72319221496582,
          -10.716229335640598
         ],
         "z": [
          -18.85548210144043,
          -15.904945490482586
         ]
        },
        {
         "hoverinfo": "skip",
         "line": {
          "color": "black",
          "width": 1
         },
         "mode": "lines",
         "opacity": 0.6,
         "showlegend": false,
         "type": "scatter3d",
         "x": [
          -22.751907348632812,
          -24.292247450315443
         ],
         "y": [
          -9.72319221496582,
          -9.584992233583698
         ],
         "z": [
          -18.85548210144043,
          -18.190147222956945
         ]
        },
        {
         "hoverinfo": "skip",
         "line": {
          "color": "black",
          "width": 1
         },
         "mode": "lines",
         "opacity": 0.6,
         "showlegend": false,
         "type": "scatter3d",
         "x": [
          -22.751907348632812,
          -23.67283566047699
         ],
         "y": [
          -9.72319221496582,
          -11.40553319294588
         ],
         "z": [
          -18.85548210144043,
          -16.592957960567
         ]
        },
        {
         "hoverinfo": "skip",
         "line": {
          "color": "black",
          "width": 1
         },
         "mode": "lines",
         "opacity": 0.6,
         "showlegend": false,
         "type": "scatter3d",
         "x": [
          -22.751907348632812,
          -24.03934306755357
         ],
         "y": [
          -9.72319221496582,
          -12.8863663520539
         ],
         "z": [
          -18.85548210144043,
          -16.792524629738406
         ]
        },
        {
         "hoverinfo": "skip",
         "line": {
          "color": "black",
          "width": 1
         },
         "mode": "lines",
         "opacity": 0.6,
         "showlegend": false,
         "type": "scatter3d",
         "x": [
          -22.751907348632812,
          -22.328518167436343
         ],
         "y": [
          -9.72319221496582,
          -6.377325270374275
         ],
         "z": [
          -18.85548210144043,
          -20.372337124569075
         ]
        },
        {
         "hoverinfo": "skip",
         "line": {
          "color": "black",
          "width": 1
         },
         "mode": "lines",
         "opacity": 0.6,
         "showlegend": false,
         "type": "scatter3d",
         "x": [
          -22.751907348632812,
          -20.510598153204914
         ],
         "y": [
          -9.72319221496582,
          -7.909269411449305
         ],
         "z": [
          -18.85548210144043,
          -21.154467874816536
         ]
        },
        {
         "hoverinfo": "skip",
         "line": {
          "color": "black",
          "width": 1
         },
         "mode": "lines",
         "opacity": 0.6,
         "showlegend": false,
         "type": "scatter3d",
         "x": [
          -22.751907348632812,
          -24.106652900015327
         ],
         "y": [
          -9.72319221496582,
          -8.896713210751091
         ],
         "z": [
          -18.85548210144043,
          -19.389220585861608
         ]
        },
        {
         "hoverinfo": "skip",
         "line": {
          "color": "black",
          "width": 1
         },
         "mode": "lines",
         "opacity": 0.6,
         "showlegend": false,
         "type": "scatter3d",
         "x": [
          -22.751907348632812,
          -22.284983577403565
         ],
         "y": [
          -9.72319221496582,
          -10.378275029209918
         ],
         "z": [
          -18.85548210144043,
          -19.95791901837236
         ]
        },
        {
         "hoverinfo": "skip",
         "line": {
          "color": "black",
          "width": 1
         },
         "mode": "lines",
         "opacity": 0.6,
         "showlegend": false,
         "type": "scatter3d",
         "x": [
          -22.751907348632812,
          -21.91591113997117
         ],
         "y": [
          -9.72319221496582,
          -7.380792848729046
         ],
         "z": [
          -18.85548210144043,
          -21.45223367520583
         ]
        },
        {
         "hoverinfo": "skip",
         "line": {
          "color": "black",
          "width": 1
         },
         "mode": "lines",
         "opacity": 0.6,
         "showlegend": false,
         "type": "scatter3d",
         "x": [
          -22.751907348632812,
          -22.905095238930087
         ],
         "y": [
          -9.72319221496582,
          -8.558231306256804
         ],
         "z": [
          -18.85548210144043,
          -21.555289762369434
         ]
        },
        {
         "hoverinfo": "skip",
         "line": {
          "color": "black",
          "width": 1
         },
         "mode": "lines",
         "opacity": 0.6,
         "showlegend": false,
         "type": "scatter3d",
         "x": [
          -1.8843363523483276,
          -1.635968349323485
         ],
         "y": [
          -5.808132648468018,
          -7.069241297045548
         ],
         "z": [
          -3.0488133430480957,
          -2.357826908032428
         ]
        },
        {
         "hoverinfo": "skip",
         "line": {
          "color": "black",
          "width": 1
         },
         "mode": "lines",
         "opacity": 0.6,
         "showlegend": false,
         "type": "scatter3d",
         "x": [
          -1.8843363523483276,
          -2.6730118741682203
         ],
         "y": [
          -5.808132648468018,
          -4.991695428017323
         ],
         "z": [
          -3.0488133430480957,
          -3.2260220990242736
         ]
        },
        {
         "hoverinfo": "skip",
         "line": {
          "color": "black",
          "width": 1
         },
         "mode": "lines",
         "opacity": 0.6,
         "showlegend": false,
         "type": "scatter3d",
         "x": [
          -1.8843363523483276,
          -1.593766825610607
         ],
         "y": [
          -5.808132648468018,
          -6.015670042621112
         ],
         "z": [
          -3.0488133430480957,
          -3.4646957544848114
         ]
        },
        {
         "hoverinfo": "skip",
         "line": {
          "color": "black",
          "width": 1
         },
         "mode": "lines",
         "opacity": 0.6,
         "showlegend": false,
         "type": "scatter3d",
         "x": [
          -1.8843363523483276,
          -2.4395246203112535
         ],
         "y": [
          -5.808132648468018,
          -4.011090672141913
         ],
         "z": [
          -3.0488133430480957,
          -2.562255562476326
         ]
        },
        {
         "hoverinfo": "skip",
         "line": {
          "color": "black",
          "width": 1
         },
         "mode": "lines",
         "opacity": 0.6,
         "showlegend": false,
         "type": "scatter3d",
         "x": [
          -1.0005029439926147,
          -1.1498158568659056
         ],
         "y": [
          -10.841437339782715,
          -9.099481435445078
         ],
         "z": [
          -4.723027229309082,
          -2.64485464957789
         ]
        },
        {
         "hoverinfo": "skip",
         "line": {
          "color": "black",
          "width": 1
         },
         "mode": "lines",
         "opacity": 0.6,
         "showlegend": false,
         "type": "scatter3d",
         "x": [
          -1.0005029439926147,
          -1.9919002628708222
         ],
         "y": [
          -10.841437339782715,
          -12.992275637308106
         ],
         "z": [
          -4.723027229309082,
          -5.1505395868964134
         ]
        },
        {
         "hoverinfo": "skip",
         "line": {
          "color": "black",
          "width": 1
         },
         "mode": "lines",
         "opacity": 0.6,
         "showlegend": false,
         "type": "scatter3d",
         "x": [
          -1.0005029439926147,
          0.2998051637730361
         ],
         "y": [
          -10.841437339782715,
          -11.983833346989764
         ],
         "z": [
          -4.723027229309082,
          -5.348695067740585
         ]
        },
        {
         "hoverinfo": "skip",
         "line": {
          "color": "black",
          "width": 1
         },
         "mode": "lines",
         "opacity": 0.6,
         "showlegend": false,
         "type": "scatter3d",
         "x": [
          -1.0005029439926147,
          -0.0628143027324084
         ],
         "y": [
          -10.841437339782715,
          -9.26059126073893
         ],
         "z": [
          -4.723027229309082,
          -4.805717064333892
         ]
        },
        {
         "hoverinfo": "skip",
         "line": {
          "color": "black",
          "width": 1
         },
         "mode": "lines",
         "opacity": 0.6,
         "showlegend": false,
         "type": "scatter3d",
         "x": [
          -1.0005029439926147,
          -1.6721930044649351
         ],
         "y": [
          -10.841437339782715,
          -10.855487763495697
         ],
         "z": [
          -4.723027229309082,
          -6.431599956766169
         ]
        },
        {
         "hoverinfo": "skip",
         "line": {
          "color": "black",
          "width": 1
         },
         "mode": "lines",
         "opacity": 0.6,
         "showlegend": false,
         "type": "scatter3d",
         "x": [
          2.2006235122680664,
          0.14914127370649188
         ],
         "y": [
          -5.911344051361084,
          -5.528912048580051
         ],
         "z": [
          -7.334397792816162,
          -4.408732503039457
         ]
        },
        {
         "hoverinfo": "skip",
         "line": {
          "color": "black",
          "width": 1
         },
         "mode": "lines",
         "opacity": 0.6,
         "showlegend": false,
         "type": "scatter3d",
         "x": [
          2.2006235122680664,
          1.5288090998816775
         ],
         "y": [
          -5.911344051361084,
          -4.910968043759398
         ],
         "z": [
          -7.334397792816162,
          -4.624171116856136
         ]
        },
        {
         "hoverinfo": "skip",
         "line": {
          "color": "black",
          "width": 1
         },
         "mode": "lines",
         "opacity": 0.6,
         "showlegend": false,
         "type": "scatter3d",
         "x": [
          2.2006235122680664,
          1.441476626963524
         ],
         "y": [
          -5.911344051361084,
          -3.404399855483508
         ],
         "z": [
          -7.334397792816162,
          -4.324760507075684
         ]
        },
        {
         "hoverinfo": "skip",
         "line": {
          "color": "black",
          "width": 1
         },
         "mode": "lines",
         "opacity": 0.6,
         "showlegend": false,
         "type": "scatter3d",
         "x": [
          2.2006235122680664,
          3.2946754088259573
         ],
         "y": [
          -5.911344051361084,
          -5.9513561912737405
         ],
         "z": [
          -7.334397792816162,
          -6.055381294100267
         ]
        },
        {
         "hoverinfo": "skip",
         "line": {
          "color": "black",
          "width": 1
         },
         "mode": "lines",
         "opacity": 0.6,
         "showlegend": false,
         "type": "scatter3d",
         "x": [
          2.2006235122680664,
          -0.4351841259429672
         ],
         "y": [
          -5.911344051361084,
          -6.213961644180534
         ],
         "z": [
          -7.334397792816162,
          -5.242552500935954
         ]
        },
        {
         "hoverinfo": "skip",
         "line": {
          "color": "black",
          "width": 1
         },
         "mode": "lines",
         "opacity": 0.6,
         "showlegend": false,
         "type": "scatter3d",
         "x": [
          2.2006235122680664,
          3.8433528411731674
         ],
         "y": [
          -5.911344051361084,
          -6.233756158886537
         ],
         "z": [
          -7.334397792816162,
          -7.306442289226068
         ]
        },
        {
         "hoverinfo": "skip",
         "line": {
          "color": "black",
          "width": 1
         },
         "mode": "lines",
         "opacity": 0.6,
         "showlegend": false,
         "type": "scatter3d",
         "x": [
          2.2006235122680664,
          3.5379217154133626
         ],
         "y": [
          -5.911344051361084,
          -8.594283847010283
         ],
         "z": [
          -7.334397792816162,
          -9.499663142450446
         ]
        },
        {
         "hoverinfo": "skip",
         "line": {
          "color": "black",
          "width": 1
         },
         "mode": "lines",
         "opacity": 0.6,
         "showlegend": false,
         "type": "scatter3d",
         "x": [
          2.2006235122680664,
          3.799419458441796
         ],
         "y": [
          -5.911344051361084,
          -6.0785686606536595
         ],
         "z": [
          -7.334397792816162,
          -9.801267571339828
         ]
        },
        {
         "hoverinfo": "skip",
         "line": {
          "color": "black",
          "width": 1
         },
         "mode": "lines",
         "opacity": 0.6,
         "showlegend": false,
         "type": "scatter3d",
         "x": [
          2.2006235122680664,
          2.0330429282590843
         ],
         "y": [
          -5.911344051361084,
          -5.0388377117272585
         ],
         "z": [
          -7.334397792816162,
          -8.370336256613543
         ]
        },
        {
         "hoverinfo": "skip",
         "line": {
          "color": "black",
          "width": 1
         },
         "mode": "lines",
         "opacity": 0.6,
         "showlegend": false,
         "type": "scatter3d",
         "x": [
          2.2006235122680664,
          1.4844531156053637
         ],
         "y": [
          -5.911344051361084,
          -4.75634843242436
         ],
         "z": [
          -7.334397792816162,
          -7.119395037158576
         ]
        },
        {
         "hoverinfo": "skip",
         "line": {
          "color": "black",
          "width": 1
         },
         "mode": "lines",
         "opacity": 0.6,
         "showlegend": false,
         "type": "scatter3d",
         "x": [
          2.2006235122680664,
          1.8005413606077434
         ],
         "y": [
          -5.911344051361084,
          -7.282511151696612
         ],
         "z": [
          -7.334397792816162,
          -10.734238550663735
         ]
        },
        {
         "hoverinfo": "skip",
         "line": {
          "color": "black",
          "width": 1
         },
         "mode": "lines",
         "opacity": 0.6,
         "showlegend": false,
         "type": "scatter3d",
         "x": [
          2.2006235122680664,
          3.2944651067005792
         ],
         "y": [
          -5.911344051361084,
          -7.396289810737252
         ],
         "z": [
          -7.334397792816162,
          -10.421024889392614
         ]
        },
        {
         "hoverinfo": "skip",
         "line": {
          "color": "black",
          "width": 1
         },
         "mode": "lines",
         "opacity": 0.6,
         "showlegend": false,
         "type": "scatter3d",
         "x": [
          -10.283352851867676,
          -7.851287008986475
         ],
         "y": [
          -7.460450649261475,
          -6.489160685656576
         ],
         "z": [
          4.452037811279297,
          3.7328933797083113
         ]
        },
        {
         "hoverinfo": "skip",
         "line": {
          "color": "black",
          "width": 1
         },
         "mode": "lines",
         "opacity": 0.6,
         "showlegend": false,
         "type": "scatter3d",
         "x": [
          -10.283352851867676,
          -11.203761487673752
         ],
         "y": [
          -7.460450649261475,
          -7.565713296060393
         ],
         "z": [
          4.452037811279297,
          6.042349897329542
         ]
        },
        {
         "hoverinfo": "skip",
         "line": {
          "color": "black",
          "width": 1
         },
         "mode": "lines",
         "opacity": 0.6,
         "showlegend": false,
         "type": "scatter3d",
         "x": [
          -10.283352851867676,
          -10.0262121101063
         ],
         "y": [
          -7.460450649261475,
          -5.639856761613109
         ],
         "z": [
          4.452037811279297,
          4.384996729740571
         ]
        },
        {
         "hoverinfo": "skip",
         "line": {
          "color": "black",
          "width": 1
         },
         "mode": "lines",
         "opacity": 0.6,
         "showlegend": false,
         "type": "scatter3d",
         "x": [
          -10.283352851867676,
          -11.16775427697074
         ],
         "y": [
          -7.460450649261475,
          -9.685371087521153
         ],
         "z": [
          4.452037811279297,
          4.695542733004566
         ]
        },
        {
         "hoverinfo": "skip",
         "line": {
          "color": "black",
          "width": 1
         },
         "mode": "lines",
         "opacity": 0.6,
         "showlegend": false,
         "type": "scatter3d",
         "x": [
          -10.283352851867676,
          -11.923386790938833
         ],
         "y": [
          -7.460450649261475,
          -7.539605782729712
         ],
         "z": [
          4.452037811279297,
          3.630694583929982
         ]
        },
        {
         "hoverinfo": "skip",
         "line": {
          "color": "black",
          "width": 1
         },
         "mode": "lines",
         "opacity": 0.6,
         "showlegend": false,
         "type": "scatter3d",
         "x": [
          -8.774409595430754,
          -7.797447847504305
         ],
         "y": [
          -2.549122982213159,
          -2.8114359941392117
         ],
         "z": [
          2.6505496074919526,
          2.346952637630781
         ]
        },
        {
         "hoverinfo": "skip",
         "line": {
          "color": "black",
          "width": 1
         },
         "mode": "lines",
         "opacity": 0.6,
         "showlegend": false,
         "type": "scatter3d",
         "x": [
          -7.797447847504305,
          -7.910637925239957
         ],
         "y": [
          -2.8114359941392117,
          -4.072917670480549
         ],
         "z": [
          2.346952637630781,
          1.6027826392048514
         ]
        },
        {
         "hoverinfo": "skip",
         "line": {
          "color": "black",
          "width": 1
         },
         "mode": "lines",
         "opacity": 0.6,
         "showlegend": false,
         "type": "scatter3d",
         "x": [
          -7.912279862967839,
          -7.401620575250513
         ],
         "y": [
          -4.5995247313780645,
          -3.87408586271033
         ],
         "z": [
          -0.8081516833044482,
          0.1986365465105948
         ]
        },
        {
         "hoverinfo": "skip",
         "line": {
          "color": "black",
          "width": 1
         },
         "mode": "lines",
         "opacity": 0.6,
         "showlegend": false,
         "type": "scatter3d",
         "x": [
          -7.912279862967839,
          -8.627746472846772
         ],
         "y": [
          -4.5995247313780645,
          -5.316348821982107
         ],
         "z": [
          -0.8081516833044482,
          -0.6159292348411101
         ]
        },
        {
         "hoverinfo": "skip",
         "line": {
          "color": "black",
          "width": 1
         },
         "mode": "lines",
         "opacity": 0.6,
         "showlegend": false,
         "type": "scatter3d",
         "x": [
          -8.563144283918689,
          -8.338716133032635
         ],
         "y": [
          -10.849943915593947,
          -10.985121763393968
         ],
         "z": [
          -2.6951395182493227,
          -1.6733043297736643
         ]
        },
        {
         "hoverinfo": "skip",
         "line": {
          "color": "black",
          "width": 1
         },
         "mode": "lines",
         "opacity": 0.6,
         "showlegend": false,
         "type": "scatter3d",
         "x": [
          -8.563144283918689,
          -8.117459888017887
         ],
         "y": [
          -10.849943915593947,
          -10.022036240047477
         ],
         "z": [
          -2.6951395182493227,
          -3.173112281007165
         ]
        },
        {
         "hoverinfo": "skip",
         "line": {
          "color": "black",
          "width": 1
         },
         "mode": "lines",
         "opacity": 0.6,
         "showlegend": false,
         "type": "scatter3d",
         "x": [
          -8.338716133032635,
          -7.22390332728407
         ],
         "y": [
          -10.985121763393968,
          -10.052370446420937
         ],
         "z": [
          -1.6733043297736643,
          -1.2253844386947965
         ]
        },
        {
         "hoverinfo": "skip",
         "line": {
          "color": "black",
          "width": 1
         },
         "mode": "lines",
         "opacity": 0.6,
         "showlegend": false,
         "type": "scatter3d",
         "x": [
          -14.714362918947767,
          -14.373235243672559
         ],
         "y": [
          -11.81047157057551,
          -10.827399508826089
         ],
         "z": [
          -10.196709804900596,
          -10.024300720204746
         ]
        },
        {
         "hoverinfo": "skip",
         "line": {
          "color": "black",
          "width": 1
         },
         "mode": "lines",
         "opacity": 0.6,
         "showlegend": false,
         "type": "scatter3d",
         "x": [
          -14.714362918947767,
          -16.22933603751804
         ],
         "y": [
          -11.81047157057551,
          -11.871083501063941
         ],
         "z": [
          -10.196709804900596,
          -10.075683014924419
         ]
        },
        {
         "hoverinfo": "skip",
         "line": {
          "color": "black",
          "width": 1
         },
         "mode": "lines",
         "opacity": 0.6,
         "showlegend": false,
         "type": "scatter3d",
         "x": [
          -14.373235243672559,
          -15.106377036834225
         ],
         "y": [
          -10.827399508826089,
          -10.104156386580106
         ],
         "z": [
          -10.024300720204746,
          -9.795804122644446
         ]
        },
        {
         "hoverinfo": "skip",
         "line": {
          "color": "black",
          "width": 1
         },
         "mode": "lines",
         "opacity": 0.6,
         "showlegend": false,
         "type": "scatter3d",
         "x": [
          -10.073968975869896,
          -10.785386476475335
         ],
         "y": [
          -12.014040224181683,
          -11.247929221411738
         ],
         "z": [
          -9.029838477319984,
          -9.882867504325304
         ]
        },
        {
         "hoverinfo": "skip",
         "line": {
          "color": "black",
          "width": 1
         },
         "mode": "lines",
         "opacity": 0.6,
         "showlegend": false,
         "type": "scatter3d",
         "x": [
          -10.785386476475335,
          -12.132807867569284
         ],
         "y": [
          -11.247929221411738,
          -11.66246966913019
         ],
         "z": [
          -9.882867504325304,
          -9.80502425138814
         ]
        },
        {
         "hoverinfo": "skip",
         "line": {
          "color": "black",
          "width": 1
         },
         "mode": "lines",
         "opacity": 0.6,
         "showlegend": false,
         "type": "scatter3d",
         "x": [
          -15.106377036834225,
          -16.460724031596616
         ],
         "y": [
          -10.104156386580106,
          -10.750725977188209
         ],
         "z": [
          -9.795804122644446,
          -9.548505068301406
         ]
        },
        {
         "hoverinfo": "skip",
         "line": {
          "color": "black",
          "width": 1
         },
         "mode": "lines",
         "opacity": 0.6,
         "showlegend": false,
         "type": "scatter3d",
         "x": [
          -19.820002960709587,
          -20.01209273523199
         ],
         "y": [
          -15.610686945233367,
          -15.539299326963219
         ],
         "z": [
          -5.713417084941,
          -7.12696663358853
         ]
        },
        {
         "hoverinfo": "skip",
         "line": {
          "color": "black",
          "width": 1
         },
         "mode": "lines",
         "opacity": 0.6,
         "showlegend": false,
         "type": "scatter3d",
         "x": [
          -19.820002960709587,
          -18.938265712931116
         ],
         "y": [
          -15.610686945233367,
          -14.856668368274105
         ],
         "z": [
          -5.713417084941,
          -5.4472301392765345
         ]
        },
        {
         "hoverinfo": "skip",
         "line": {
          "color": "black",
          "width": 1
         },
         "mode": "lines",
         "opacity": 0.6,
         "showlegend": false,
         "type": "scatter3d",
         "x": [
          -22.20044123985231,
          -21.62443625420022
         ],
         "y": [
          -9.615071988567138,
          -10.889579835730615
         ],
         "z": [
          -12.965056444209923,
          -12.675289289372376
         ]
        },
        {
         "hoverinfo": "skip",
         "line": {
          "color": "black",
          "width": 1
         },
         "mode": "lines",
         "opacity": 0.6,
         "showlegend": false,
         "type": "scatter3d",
         "x": [
          -22.20044123985231,
          -21.501463172475308
         ],
         "y": [
          -9.615071988567138,
          -8.797418825326531
         ],
         "z": [
          -12.965056444209923,
          -12.455416331453527
         ]
        },
        {
         "hoverinfo": "skip",
         "line": {
          "color": "black",
          "width": 1
         },
         "mode": "lines",
         "opacity": 0.6,
         "showlegend": false,
         "type": "scatter3d",
         "x": [
          -19.009719762769706,
          -18.07300624447305
         ],
         "y": [
          -16.6302073198093,
          -16.47303291311688
         ],
         "z": [
          -10.03471183824826,
          -9.634034028859745
         ]
        },
        {
         "hoverinfo": "skip",
         "line": {
          "color": "black",
          "width": 1
         },
         "mode": "lines",
         "opacity": 0.6,
         "showlegend": false,
         "type": "scatter3d",
         "x": [
          -19.009719762769706,
          -20.056106118118656
         ],
         "y": [
          -16.6302073198093,
          -16.85750852904458
         ],
         "z": [
          -10.03471183824826,
          -9.225967901257249
         ]
        },
        {
         "hoverinfo": "skip",
         "line": {
          "color": "black",
          "width": 1
         },
         "mode": "lines",
         "opacity": 0.6,
         "showlegend": false,
         "type": "scatter3d",
         "x": [
          -8.117459888017887,
          -7.268945346507838
         ],
         "y": [
          -10.022036240047477,
          -9.237078077227018
         ],
         "z": [
          -3.173112281007165,
          -2.184512971141168
         ]
        },
        {
         "hoverinfo": "skip",
         "line": {
          "color": "black",
          "width": 1
         },
         "mode": "lines",
         "opacity": 0.6,
         "showlegend": false,
         "type": "scatter3d",
         "x": [
          -20.849170245930917,
          -19.852153747107835
         ],
         "y": [
          -17.839460442893454,
          -16.93273898927673
         ],
         "z": [
          -7.150399129073133,
          -7.73499412274459
         ]
        },
        {
         "hoverinfo": "skip",
         "line": {
          "color": "black",
          "width": 1
         },
         "mode": "lines",
         "opacity": 0.6,
         "showlegend": false,
         "type": "scatter3d",
         "x": [
          -20.849170245930917,
          -20.31271167997146
         ],
         "y": [
          -17.839460442893454,
          -18.617286258375444
         ],
         "z": [
          -7.150399129073133,
          -6.678559430632436
         ]
        },
        {
         "hoverinfo": "skip",
         "line": {
          "color": "black",
          "width": 1
         },
         "mode": "lines",
         "opacity": 0.6,
         "showlegend": false,
         "type": "scatter3d",
         "x": [
          -19.400346074786086,
          -18.794574089134045
         ],
         "y": [
          -13.101760124950987,
          -12.27337193753143
         ],
         "z": [
          -13.575008824460081,
          -13.672435867718745
         ]
        },
        {
         "hoverinfo": "skip",
         "line": {
          "color": "black",
          "width": 1
         },
         "mode": "lines",
         "opacity": 0.6,
         "showlegend": false,
         "type": "scatter3d",
         "x": [
          -19.400346074786086,
          -20.73237489143039
         ],
         "y": [
          -13.101760124950987,
          -12.974755538426281
         ],
         "z": [
          -13.575008824460081,
          -13.676132840553507
         ]
        },
        {
         "hoverinfo": "skip",
         "line": {
          "color": "black",
          "width": 1
         },
         "mode": "lines",
         "opacity": 0.6,
         "showlegend": false,
         "type": "scatter3d",
         "x": [
          -22.593168020521,
          -21.338784049716097
         ],
         "y": [
          -11.816349803917483,
          -11.6297730662842
         ],
         "z": [
          -14.723372586259472,
          -13.98199078532162
         ]
        },
        {
         "hoverinfo": "skip",
         "line": {
          "color": "black",
          "width": 1
         },
         "mode": "lines",
         "opacity": 0.6,
         "showlegend": false,
         "type": "scatter3d",
         "x": [
          -22.593168020521,
          -22.473744650993588
         ],
         "y": [
          -11.816349803917483,
          -11.325513851038346
         ],
         "z": [
          -14.723372586259472,
          -15.650870089985524
         ]
        },
        {
         "hoverinfo": "skip",
         "line": {
          "color": "black",
          "width": 1
         },
         "mode": "lines",
         "opacity": 0.6,
         "showlegend": false,
         "type": "scatter3d",
         "x": [
          -0.6121274429470276,
          -1.635968349323485
         ],
         "y": [
          -8.039311544571028,
          -7.069241297045548
         ],
         "z": [
          -2.583283141692281,
          -2.357826908032428
         ]
        },
        {
         "hoverinfo": "skip",
         "line": {
          "color": "black",
          "width": 1
         },
         "mode": "lines",
         "opacity": 0.6,
         "showlegend": false,
         "type": "scatter3d",
         "x": [
          -0.6121274429470276,
          -1.1498158568659056
         ],
         "y": [
          -8.039311544571028,
          -9.099481435445078
         ],
         "z": [
          -2.583283141692281,
          -2.64485464957789
         ]
        },
        {
         "hoverinfo": "skip",
         "line": {
          "color": "black",
          "width": 1
         },
         "mode": "lines",
         "opacity": 0.6,
         "showlegend": false,
         "type": "scatter3d",
         "x": [
          -10.0062335741638,
          -9.66772008240904
         ],
         "y": [
          -12.677875303382494,
          -12.752862867867698
         ],
         "z": [
          -5.460219537329659,
          -6.765730293566691
         ]
        },
        {
         "hoverinfo": "skip",
         "line": {
          "color": "black",
          "width": 1
         },
         "mode": "lines",
         "opacity": 0.6,
         "showlegend": false,
         "type": "scatter3d",
         "x": [
          -10.0062335741638,
          -9.122659097702615
         ],
         "y": [
          -12.677875303382494,
          -11.765922620164169
         ],
         "z": [
          -5.460219537329659,
          -4.842897734606604
         ]
        },
        {
         "hoverinfo": "skip",
         "line": {
          "color": "black",
          "width": 1
         },
         "mode": "lines",
         "opacity": 0.6,
         "showlegend": false,
         "type": "scatter3d",
         "x": [
          -3.894432703558186,
          -4.10401680746952
         ],
         "y": [
          -5.170546341045885,
          -6.024444216429765
         ],
         "z": [
          -3.752140439743526,
          -4.290296214791773
         ]
        },
        {
         "hoverinfo": "skip",
         "line": {
          "color": "black",
          "width": 1
         },
         "mode": "lines",
         "opacity": 0.6,
         "showlegend": false,
         "type": "scatter3d",
         "x": [
          -3.894432703558186,
          -2.6730118741682203
         ],
         "y": [
          -5.170546341045885,
          -4.991695428017323
         ],
         "z": [
          -3.752140439743526,
          -3.2260220990242736
         ]
        },
        {
         "hoverinfo": "skip",
         "line": {
          "color": "black",
          "width": 1
         },
         "mode": "lines",
         "opacity": 0.6,
         "showlegend": false,
         "type": "scatter3d",
         "x": [
          -0.2824047299836834,
          -1.593766825610607
         ],
         "y": [
          -5.353664280004237,
          -6.015670042621112
         ],
         "z": [
          -3.4608455057901315,
          -3.4646957544848114
         ]
        },
        {
         "hoverinfo": "skip",
         "line": {
          "color": "black",
          "width": 1
         },
         "mode": "lines",
         "opacity": 0.6,
         "showlegend": false,
         "type": "scatter3d",
         "x": [
          -0.2824047299836834,
          0.14914127370649188
         ],
         "y": [
          -5.353664280004237,
          -5.528912048580051
         ],
         "z": [
          -3.4608455057901315,
          -4.408732503039457
         ]
        },
        {
         "hoverinfo": "skip",
         "line": {
          "color": "black",
          "width": 1
         },
         "mode": "lines",
         "opacity": 0.6,
         "showlegend": false,
         "type": "scatter3d",
         "x": [
          -7.561974724877553,
          -7.0803388443709245
         ],
         "y": [
          -5.339102559235572,
          -5.151398517139866
         ],
         "z": [
          3.630302996735566,
          2.2987959290902085
         ]
        },
        {
         "hoverinfo": "skip",
         "line": {
          "color": "black",
          "width": 1
         },
         "mode": "lines",
         "opacity": 0.6,
         "showlegend": false,
         "type": "scatter3d",
         "x": [
          -7.561974724877553,
          -7.851287008986475
         ],
         "y": [
          -5.339102559235572,
          -6.489160685656576
         ],
         "z": [
          3.630302996735566,
          3.7328933797083113
         ]
        },
        {
         "hoverinfo": "skip",
         "line": {
          "color": "red",
          "width": 3
         },
         "mode": "lines",
         "name": "O2-C1",
         "opacity": 1,
         "showlegend": true,
         "type": "scatter3d",
         "x": [
          -10.785386476475335,
          -9.931685475748807
         ],
         "y": [
          -11.247929221411738,
          -12.167262424735672
         ],
         "z": [
          -9.882867504325304,
          -8.859232671918921
         ]
        },
        {
         "hoverinfo": "skip",
         "line": {
          "color": "red",
          "width": 3
         },
         "mode": "lines",
         "name": "O2-C2",
         "opacity": 1,
         "showlegend": true,
         "type": "scatter3d",
         "x": [
          -10.785386476475335,
          -12.402292145788074
         ],
         "y": [
          -11.247929221411738,
          -11.745377758673879
         ],
         "z": [
          -9.882867504325304,
          -9.789455600800707
         ]
        },
        {
         "hoverinfo": "skip",
         "line": {
          "color": "red",
          "width": 3
         },
         "mode": "lines",
         "name": "C5-O2",
         "opacity": 1,
         "showlegend": true,
         "type": "scatter3d",
         "x": [
          -9.66772008240904,
          -10.073936272514754
         ],
         "y": [
          -12.752862867867698,
          -12.662877790485453
         ],
         "z": [
          -6.765730293566691,
          -5.1991173860822535
         ]
        },
        {
         "hoverinfo": "skip",
         "line": {
          "color": "red",
          "width": 3
         },
         "mode": "lines",
         "name": "O2-C2",
         "opacity": 1,
         "showlegend": true,
         "type": "scatter3d",
         "x": [
          -10.0062335741638,
          -8.945944202410377
         ],
         "y": [
          -12.677875303382494,
          -11.583532083520504
         ],
         "z": [
          -5.460219537329659,
          -4.7194333740619925
         ]
        },
        {
         "hoverinfo": "skip",
         "line": {
          "color": "red",
          "width": 3
         },
         "mode": "lines",
         "name": "N12-C4",
         "opacity": 1,
         "showlegend": true,
         "type": "scatter3d",
         "x": [
          -8.563144283918689,
          -8.293830502855425
         ],
         "y": [
          -10.849943915593947,
          -11.012157332953972
         ],
         "z": [
          -2.6951395182493227,
          -1.4689372920785326
         ]
        },
        {
         "hoverinfo": "skip",
         "line": {
          "color": "red",
          "width": 3
         },
         "mode": "lines",
         "name": "N12-C4",
         "opacity": 1,
         "showlegend": true,
         "type": "scatter3d",
         "x": [
          -8.563144283918689,
          -8.028323008837727
         ],
         "y": [
          -10.849943915593947,
          -9.856454704938184
         ],
         "z": [
          -2.6951395182493227,
          -3.268706833558733
         ]
        },
        {
         "hoverinfo": "skip",
         "line": {
          "color": "red",
          "width": 3
         },
         "mode": "lines",
         "name": "C4-C3",
         "opacity": 1,
         "showlegend": true,
         "type": "scatter3d",
         "x": [
          -8.338716133032635,
          -7.000940766134357
         ],
         "y": [
          -10.985121763393968,
          -9.865820183026331
         ],
         "z": [
          -1.6733043297736643,
          -1.135800460479023
         ]
        },
        {
         "hoverinfo": "skip",
         "line": {
          "color": "red",
          "width": 3
         },
         "mode": "lines",
         "name": "C5-OXT",
         "opacity": 1,
         "showlegend": true,
         "type": "scatter3d",
         "x": [
          -8.627746472846772,
          -7.769186540992052
         ],
         "y": [
          -5.316348821982107,
          -4.456159913257256
         ],
         "z": [
          -0.6159292348411101,
          -0.8465961729971159
         ]
        },
        {
         "hoverinfo": "skip",
         "line": {
          "color": "red",
          "width": 3
         },
         "mode": "lines",
         "name": "OXT-C",
         "opacity": 1,
         "showlegend": true,
         "type": "scatter3d",
         "x": [
          -7.912279862967839,
          -7.299488717707048
         ],
         "y": [
          -4.5995247313780645,
          -3.728998088976783
         ],
         "z": [
          -0.8081516833044482,
          0.39999419247360346
         ]
        },
        {
         "hoverinfo": "skip",
         "line": {
          "color": "red",
          "width": 3
         },
         "mode": "lines",
         "name": "CA-N",
         "opacity": 1,
         "showlegend": true,
         "type": "scatter3d",
         "x": [
          -7.910637925239957,
          -7.774809831957175
         ],
         "y": [
          -4.072917670480549,
          -2.5591396588709445
         ],
         "z": [
          1.6027826392048514,
          2.495786637315967
         ]
        },
        {
         "hoverinfo": "skip",
         "line": {
          "color": "red",
          "width": 3
         },
         "mode": "lines",
         "name": "N-C7",
         "opacity": 1,
         "showlegend": true,
         "type": "scatter3d",
         "x": [
          -7.797447847504305,
          -8.969801945016044
         ],
         "y": [
          -2.8114359941392117,
          -2.4966603798279485
         ],
         "z": [
          2.346952637630781,
          2.7112690014641867
         ]
        },
        {
         "hoverinfo": "skip",
         "line": {
          "color": "red",
          "width": 3
         },
         "mode": "lines",
         "name": "CB-OG",
         "opacity": 1,
         "showlegend": true,
         "type": "scatter3d",
         "x": [
          -7.0803388443709245,
          -7.658301900978879
         ],
         "y": [
          -5.151398517139866,
          -5.376643367654713
         ],
         "z": [
          2.2987959290902085,
          3.8966044102646373
         ]
        },
        {
         "hoverinfo": "skip",
         "line": {
          "color": "red",
          "width": 3
         },
         "mode": "lines",
         "name": "OG-C2",
         "opacity": 1,
         "showlegend": true,
         "type": "scatter3d",
         "x": [
          -7.561974724877553,
          -7.909149465808259
         ],
         "y": [
          -5.339102559235572,
          -6.719172310940777
         ],
         "z": [
          3.630302996735566,
          3.75341145630286
         ]
        },
        {
         "hoverinfo": "skip",
         "line": {
          "color": "red",
          "width": 3
         },
         "mode": "lines",
         "name": "C4-C3",
         "opacity": 1,
         "showlegend": true,
         "type": "scatter3d",
         "x": [
          -8.117459888017887,
          -7.099242438205828
         ],
         "y": [
          -10.022036240047477,
          -9.080086444662927
         ],
         "z": [
          -3.173112281007165,
          -1.986793109167969
         ]
        },
        {
         "hoverinfo": "skip",
         "line": {
          "color": "red",
          "width": 3
         },
         "mode": "lines",
         "name": "C5-OXT",
         "opacity": 1,
         "showlegend": true,
         "type": "scatter3d",
         "x": [
          -4.10401680746952,
          -3.8525158827759194
         ],
         "y": [
          -6.024444216429765,
          -4.999766765969109
         ],
         "z": [
          -4.290296214791773,
          -3.6445092847338763
         ]
        },
        {
         "hoverinfo": "skip",
         "line": {
          "color": "red",
          "width": 3
         },
         "mode": "lines",
         "name": "OXT-C",
         "opacity": 1,
         "showlegend": true,
         "type": "scatter3d",
         "x": [
          -3.894432703558186,
          -2.428727708290227
         ],
         "y": [
          -5.170546341045885,
          -4.955925245411611
         ],
         "z": [
          -3.752140439743526,
          -3.120798430880423
         ]
        },
        {
         "hoverinfo": "skip",
         "line": {
          "color": "red",
          "width": 3
         },
         "mode": "lines",
         "name": "CB-OG",
         "opacity": 1,
         "showlegend": true,
         "type": "scatter3d",
         "x": [
          -1.635968349323485,
          -0.4073592616717361
         ],
         "y": [
          -7.069241297045548,
          -8.233325594076124
         ],
         "z": [
          -2.357826908032428,
          -2.6283743884242514
         ]
        },
        {
         "hoverinfo": "skip",
         "line": {
          "color": "red",
          "width": 3
         },
         "mode": "lines",
         "name": "OG-C2",
         "opacity": 1,
         "showlegend": true,
         "type": "scatter3d",
         "x": [
          -0.6121274429470276,
          -1.257353539649681
         ],
         "y": [
          -8.039311544571028,
          -9.311515413619889
         ],
         "z": [
          -2.583283141692281,
          -2.657168951155012
         ]
        },
        {
         "hoverinfo": "skip",
         "line": {
          "color": "red",
          "width": 3
         },
         "mode": "lines",
         "name": "CA-N",
         "opacity": 1,
         "showlegend": true,
         "type": "scatter3d",
         "x": [
          -1.593766825610607,
          -0.020132310858298696
         ],
         "y": [
          -6.015670042621112,
          -5.221263127480862
         ],
         "z": [
          -3.4646957544848114,
          -3.4600754560511957
         ]
        },
        {
         "hoverinfo": "skip",
         "line": {
          "color": "red",
          "width": 3
         },
         "mode": "lines",
         "name": "N-C7",
         "opacity": 1,
         "showlegend": true,
         "type": "scatter3d",
         "x": [
          -0.2824047299836834,
          0.23545047444452694
         ],
         "y": [
          -5.353664280004237,
          -5.563961602295214
         ],
         "z": [
          -3.4608455057901315,
          -4.598309902489322
         ]
        },
        {
         "hoverinfo": "skip",
         "line": {
          "color": "red",
          "width": 3
         },
         "mode": "lines",
         "name": "N12-C4",
         "opacity": 1,
         "showlegend": true,
         "type": "scatter3d",
         "x": [
          -14.373235243672559,
          -14.78258845400281
         ],
         "y": [
          -10.827399508826089,
          -12.007085982925394
         ],
         "z": [
          -10.024300720204746,
          -10.231191621839766
         ]
        },
        {
         "hoverinfo": "skip",
         "line": {
          "color": "red",
          "width": 3
         },
         "mode": "lines",
         "name": "N12-C4",
         "opacity": 1,
         "showlegend": true,
         "type": "scatter3d",
         "x": [
          -14.373235243672559,
          -15.253005395466557
         ],
         "y": [
          -10.827399508826089,
          -9.95950776213091
         ],
         "z": [
          -10.024300720204746,
          -9.750104803132386
         ]
        },
        {
         "hoverinfo": "skip",
         "line": {
          "color": "red",
          "width": 3
         },
         "mode": "lines",
         "name": "C4-C3",
         "opacity": 1,
         "showlegend": true,
         "type": "scatter3d",
         "x": [
          -14.714362918947767,
          -16.53233066123209
         ],
         "y": [
          -11.81047157057551,
          -11.883205887161628
         ],
         "z": [
          -10.196709804900596,
          -10.051477656929183
         ]
        },
        {
         "hoverinfo": "skip",
         "line": {
          "color": "red",
          "width": 3
         },
         "mode": "lines",
         "name": "C5-OXT",
         "opacity": 1,
         "showlegend": true,
         "type": "scatter3d",
         "x": [
          -18.07300624447305,
          -19.19706246642904
         ],
         "y": [
          -16.47303291311688,
          -16.661642201147785
         ],
         "z": [
          -9.634034028859745,
          -10.114847400125964
         ]
        },
        {
         "hoverinfo": "skip",
         "line": {
          "color": "red",
          "width": 3
         },
         "mode": "lines",
         "name": "OXT-C",
         "opacity": 1,
         "showlegend": true,
         "type": "scatter3d",
         "x": [
          -19.009719762769706,
          -20.265383389188447
         ],
         "y": [
          -16.6302073198093,
          -16.902968770891636
         ],
         "z": [
          -10.03471183824826,
          -9.064219113859046
         ]
        },
        {
         "hoverinfo": "skip",
         "line": {
          "color": "red",
          "width": 3
         },
         "mode": "lines",
         "name": "CB-OG",
         "opacity": 1,
         "showlegend": true,
         "type": "scatter3d",
         "x": [
          -20.01209273523199,
          -19.781585005805105
         ],
         "y": [
          -15.539299326963219,
          -15.624964468887397
         ],
         "z": [
          -7.12696663358853,
          -5.430707175211493
         ]
        },
        {
         "hoverinfo": "skip",
         "line": {
          "color": "red",
          "width": 3
         },
         "mode": "lines",
         "name": "OG-C2",
         "opacity": 1,
         "showlegend": true,
         "type": "scatter3d",
         "x": [
          -19.820002960709587,
          -18.76191826337542
         ],
         "y": [
          -15.610686945233367,
          -14.705864652882253
         ],
         "z": [
          -5.713417084941,
          -5.393992750143641
         ]
        },
        {
         "hoverinfo": "skip",
         "line": {
          "color": "red",
          "width": 3
         },
         "mode": "lines",
         "name": "CA-N",
         "opacity": 1,
         "showlegend": true,
         "type": "scatter3d",
         "x": [
          -19.852153747107835,
          -21.048573545695533
         ],
         "y": [
          -16.93273898927673,
          -18.0208047336168
         ],
         "z": [
          -7.73499412274459,
          -7.033480130338841
         ]
        },
        {
         "hoverinfo": "skip",
         "line": {
          "color": "red",
          "width": 3
         },
         "mode": "lines",
         "name": "N-C7",
         "opacity": 1,
         "showlegend": true,
         "type": "scatter3d",
         "x": [
          -20.849170245930917,
          -20.20541996677957
         ],
         "y": [
          -17.839460442893454,
          -18.77285142147184
         ],
         "z": [
          -7.150399129073133,
          -6.584191490944297
         ]
        },
        {
         "hoverinfo": "skip",
         "line": {
          "color": "red",
          "width": 3
         },
         "mode": "lines",
         "name": "C4-C3",
         "opacity": 1,
         "showlegend": true,
         "type": "scatter3d",
         "x": [
          -15.106377036834225,
          -16.731593430549093
         ],
         "y": [
          -10.104156386580106,
          -10.88003989530983
         ],
         "z": [
          -9.795804122644446,
          -9.499045257432797
         ]
        },
        {
         "hoverinfo": "skip",
         "line": {
          "color": "red",
          "width": 3
         },
         "mode": "lines",
         "name": "C5-OXT",
         "opacity": 1,
         "showlegend": true,
         "type": "scatter3d",
         "x": [
          -18.794574089134045,
          -19.521500471916493
         ],
         "y": [
          -12.27337193753143,
          -13.267437762434898
         ],
         "z": [
          -13.672435867718745,
          -13.555523415808349
         ]
        },
        {
         "hoverinfo": "skip",
         "line": {
          "color": "red",
          "width": 3
         },
         "mode": "lines",
         "name": "OXT-C",
         "opacity": 1,
         "showlegend": true,
         "type": "scatter3d",
         "x": [
          -19.400346074786086,
          -20.99878065475925
         ],
         "y": [
          -13.101760124950987,
          -12.94935462112134
         ],
         "z": [
          -13.575008824460081,
          -13.696357643772192
         ]
        },
        {
         "hoverinfo": "skip",
         "line": {
          "color": "red",
          "width": 3
         },
         "mode": "lines",
         "name": "CB-OG",
         "opacity": 1,
         "showlegend": true,
         "type": "scatter3d",
         "x": [
          -21.62443625420022,
          -22.31564223698273
         ],
         "y": [
          -10.889579835730615,
          -9.360170419134443
         ],
         "z": [
          -12.675289289372376,
          -13.023009875177433
         ]
        },
        {
         "hoverinfo": "skip",
         "line": {
          "color": "red",
          "width": 3
         },
         "mode": "lines",
         "name": "OG-C2",
         "opacity": 1,
         "showlegend": true,
         "type": "scatter3d",
         "x": [
          -22.20044123985231,
          -21.36166755899991
         ],
         "y": [
          -9.615071988567138,
          -8.633888192678409
         ],
         "z": [
          -12.965056444209923,
          -12.353488308902248
         ]
        },
        {
         "hoverinfo": "skip",
         "line": {
          "color": "red",
          "width": 3
         },
         "mode": "lines",
         "name": "CA-N",
         "opacity": 1,
         "showlegend": true,
         "type": "scatter3d",
         "x": [
          -21.338784049716097,
          -22.84404481468198
         ],
         "y": [
          -11.6297730662842,
          -11.853665151444138
         ],
         "z": [
          -13.98199078532162,
          -14.871648946447042
         ]
        },
        {
         "hoverinfo": "skip",
         "line": {
          "color": "red",
          "width": 3
         },
         "mode": "lines",
         "name": "N-C7",
         "opacity": 1,
         "showlegend": true,
         "type": "scatter3d",
         "x": [
          -22.593168020521,
          -22.449859977088106
         ],
         "y": [
          -11.816349803917483,
          -11.22734666046252
         ],
         "z": [
          -14.723372586259472,
          -15.836369590730735
         ]
        },
        {
         "hoverinfo": "skip",
         "line": {
          "color": "blue",
          "width": 1
         },
         "mode": "lines",
         "name": "O7-C7",
         "opacity": 0.2,
         "showlegend": true,
         "type": "scatter3d",
         "x": [
          -0.4351841259429672,
          0.14914127370649188
         ],
         "y": [
          -6.213961644180534,
          -5.528912048580051
         ],
         "z": [
          -5.242552500935954,
          -4.408732503039457
         ]
        },
        {
         "hoverinfo": "skip",
         "line": {
          "color": "blue",
          "width": 1
         },
         "mode": "lines",
         "name": "C10-C11",
         "opacity": 0.2,
         "showlegend": true,
         "type": "scatter3d",
         "x": [
          3.2944651067005792,
          3.799419458441796
         ],
         "y": [
          -7.396289810737252,
          -6.0785686606536595
         ],
         "z": [
          -10.421024889392614,
          -9.801267571339828
         ]
        },
        {
         "hoverinfo": "skip",
         "line": {
          "color": "blue",
          "width": 1
         },
         "mode": "lines",
         "name": "C10-C12",
         "opacity": 0.2,
         "showlegend": true,
         "type": "scatter3d",
         "x": [
          3.2944651067005792,
          3.5379217154133626
         ],
         "y": [
          -7.396289810737252,
          -8.594283847010283
         ],
         "z": [
          -10.421024889392614,
          -9.499663142450446
         ]
        },
        {
         "hoverinfo": "skip",
         "line": {
          "color": "blue",
          "width": 1
         },
         "mode": "lines",
         "name": "C10-C13",
         "opacity": 0.2,
         "showlegend": true,
         "type": "scatter3d",
         "x": [
          3.2944651067005792,
          1.8005413606077434
         ],
         "y": [
          -7.396289810737252,
          -7.282511151696612
         ],
         "z": [
          -10.421024889392614,
          -10.734238550663735
         ]
        },
        {
         "hoverinfo": "skip",
         "line": {
          "color": "blue",
          "width": 1
         },
         "mode": "lines",
         "name": "C10-H10",
         "opacity": 0.2,
         "showlegend": true,
         "type": "scatter3d",
         "x": [
          3.2944651067005792,
          3.8364735447099365
         ],
         "y": [
          -7.396289810737252,
          -7.557824057160053
         ],
         "z": [
          -10.421024889392614,
          -11.361001118006548
         ]
        },
        {
         "hoverinfo": "skip",
         "line": {
          "color": "blue",
          "width": 1
         },
         "mode": "lines",
         "name": "C11-C1",
         "opacity": 0.2,
         "showlegend": true,
         "type": "scatter3d",
         "x": [
          3.799419458441796,
          3.2054295355505014
         ],
         "y": [
          -6.0785686606536595,
          -5.7738568269061785
         ],
         "z": [
          -9.801267571339828,
          -8.44766117733977
         ]
        },
        {
         "hoverinfo": "skip",
         "line": {
          "color": "blue",
          "width": 1
         },
         "mode": "lines",
         "name": "C11-H111",
         "opacity": 0.2,
         "showlegend": true,
         "type": "scatter3d",
         "x": [
          3.799419458441796,
          3.6023602547463587
         ],
         "y": [
          -6.0785686606536595,
          -5.242800552914101
         ],
         "z": [
          -9.801267571339828,
          -10.485984294024735
         ]
        },
        {
         "hoverinfo": "skip",
         "line": {
          "color": "blue",
          "width": 1
         },
         "mode": "lines",
         "name": "C11-H112",
         "opacity": 0.2,
         "showlegend": true,
         "type": "scatter3d",
         "x": [
          3.799419458441796,
          4.89331224173649
         ],
         "y": [
          -6.0785686606536595,
          -6.120316350276219
         ],
         "z": [
          -9.801267571339828,
          -9.70986341898905
         ]
        },
        {
         "hoverinfo": "skip",
         "line": {
          "color": "blue",
          "width": 1
         },
         "mode": "lines",
         "name": "C1-C2",
         "opacity": 0.2,
         "showlegend": true,
         "type": "scatter3d",
         "x": [
          3.2054295355505014,
          2.0330429282590843
         ],
         "y": [
          -5.7738568269061785,
          -5.0388377117272585
         ],
         "z": [
          -8.44766117733977,
          -8.370336256613543
         ]
        },
        {
         "hoverinfo": "skip",
         "line": {
          "color": "blue",
          "width": 1
         },
         "mode": "lines",
         "name": "C1-C6",
         "opacity": 0.2,
         "showlegend": true,
         "type": "scatter3d",
         "x": [
          3.2054295355505014,
          3.8433528411731674
         ],
         "y": [
          -5.7738568269061785,
          -6.233756158886537
         ],
         "z": [
          -8.44766117733977,
          -7.306442289226068
         ]
        },
        {
         "hoverinfo": "skip",
         "line": {
          "color": "blue",
          "width": 1
         },
         "mode": "lines",
         "name": "C4-C8",
         "opacity": 0.2,
         "showlegend": true,
         "type": "scatter3d",
         "x": [
          2.1151751047436456,
          1.5288090998816775
         ],
         "y": [
          -5.212758965758039,
          -4.910968043759398
         ],
         "z": [
          -5.961890593331462,
          -4.624171116856136
         ]
        },
        {
         "hoverinfo": "skip",
         "line": {
          "color": "blue",
          "width": 1
         },
         "mode": "lines",
         "name": "C4-C3",
         "opacity": 0.2,
         "showlegend": true,
         "type": "scatter3d",
         "x": [
          2.1151751047436456,
          1.4844531156053637
         ],
         "y": [
          -5.212758965758039,
          -4.75634843242436
         ],
         "z": [
          -5.961890593331462,
          -7.119395037158576
         ]
        },
        {
         "hoverinfo": "skip",
         "line": {
          "color": "blue",
          "width": 1
         },
         "mode": "lines",
         "name": "C4-C5",
         "opacity": 0.2,
         "showlegend": true,
         "type": "scatter3d",
         "x": [
          2.1151751047436456,
          3.2946754088259573
         ],
         "y": [
          -5.212758965758039,
          -5.9513561912737405
         ],
         "z": [
          -5.961890593331462,
          -6.055381294100267
         ]
        },
        {
         "hoverinfo": "skip",
         "line": {
          "color": "blue",
          "width": 1
         },
         "mode": "lines",
         "name": "C8-C9",
         "opacity": 0.2,
         "showlegend": true,
         "type": "scatter3d",
         "x": [
          1.5288090998816775,
          1.441476626963524
         ],
         "y": [
          -4.910968043759398,
          -3.404399855483508
         ],
         "z": [
          -4.624171116856136,
          -4.324760507075684
         ]
        },
        {
         "hoverinfo": "skip",
         "line": {
          "color": "blue",
          "width": 1
         },
         "mode": "lines",
         "name": "C8-C7",
         "opacity": 0.2,
         "showlegend": true,
         "type": "scatter3d",
         "x": [
          1.5288090998816775,
          0.14914127370649188
         ],
         "y": [
          -4.910968043759398,
          -5.528912048580051
         ],
         "z": [
          -4.624171116856136,
          -4.408732503039457
         ]
        },
        {
         "hoverinfo": "skip",
         "line": {
          "color": "blue",
          "width": 1
         },
         "mode": "lines",
         "name": "C8-H8",
         "opacity": 0.2,
         "showlegend": true,
         "type": "scatter3d",
         "x": [
          1.5288090998816775,
          2.160421086558652
         ],
         "y": [
          -4.910968043759398,
          -5.356793523562662
         ],
         "z": [
          -4.624171116856136,
          -3.8438438522778986
         ]
        },
        {
         "hoverinfo": "skip",
         "line": {
          "color": "blue",
          "width": 1
         },
         "mode": "lines",
         "name": "C12-H121",
         "opacity": 0.2,
         "showlegend": true,
         "type": "scatter3d",
         "x": [
          3.5379217154133626,
          2.912887509834442
         ],
         "y": [
          -8.594283847010283,
          -8.570547193759337
         ],
         "z": [
          -9.499663142450446,
          -8.601528701985783
         ]
        },
        {
         "hoverinfo": "skip",
         "line": {
          "color": "blue",
          "width": 1
         },
         "mode": "lines",
         "name": "C12-H122",
         "opacity": 0.2,
         "showlegend": true,
         "type": "scatter3d",
         "x": [
          3.5379217154133626,
          4.588804395731968
         ],
         "y": [
          -8.594283847010283,
          -8.649485699674312
         ],
         "z": [
          -9.499663142450446,
          -9.197198983137573
         ]
        },
        {
         "hoverinfo": "skip",
         "line": {
          "color": "blue",
          "width": 1
         },
         "mode": "lines",
         "name": "C12-H123",
         "opacity": 0.2,
         "showlegend": true,
         "type": "scatter3d",
         "x": [
          3.5379217154133626,
          3.3008698379952364
         ],
         "y": [
          -8.594283847010283,
          -9.524842418082859
         ],
         "z": [
          -9.499663142450446,
          -10.027985556527224
         ]
        },
        {
         "hoverinfo": "skip",
         "line": {
          "color": "blue",
          "width": 1
         },
         "mode": "lines",
         "name": "C13-H131",
         "opacity": 0.2,
         "showlegend": true,
         "type": "scatter3d",
         "x": [
          1.8005413606077434,
          1.4771786872478454
         ],
         "y": [
          -7.282511151696612,
          -8.148059225192547
         ],
         "z": [
          -10.734238550663735,
          -11.323728045010338
         ]
        },
        {
         "hoverinfo": "skip",
         "line": {
          "color": "blue",
          "width": 1
         },
         "mode": "lines",
         "name": "C13-H132",
         "opacity": 0.2,
         "showlegend": true,
         "type": "scatter3d",
         "x": [
          1.8005413606077434,
          1.1804107092959524
         ],
         "y": [
          -7.282511151696612,
          -7.263444531309939
         ],
         "z": [
          -10.734238550663735,
          -9.832743165600316
         ]
        },
        {
         "hoverinfo": "skip",
         "line": {
          "color": "blue",
          "width": 1
         },
         "mode": "lines",
         "name": "C13-H133",
         "opacity": 0.2,
         "showlegend": true,
         "type": "scatter3d",
         "x": [
          1.8005413606077434,
          1.5862665599110874
         ],
         "y": [
          -7.282511151696612,
          -6.3870461142805555
         ],
         "z": [
          -10.734238550663735,
          -11.327006647436718
         ]
        },
        {
         "hoverinfo": "skip",
         "line": {
          "color": "blue",
          "width": 1
         },
         "mode": "lines",
         "name": "C2-C3",
         "opacity": 0.2,
         "showlegend": true,
         "type": "scatter3d",
         "x": [
          2.0330429282590843,
          1.4844531156053637
         ],
         "y": [
          -5.0388377117272585,
          -4.75634843242436
         ],
         "z": [
          -8.370336256613543,
          -7.119395037158576
         ]
        },
        {
         "hoverinfo": "skip",
         "line": {
          "color": "blue",
          "width": 1
         },
         "mode": "lines",
         "name": "C2-H2",
         "opacity": 0.2,
         "showlegend": true,
         "type": "scatter3d",
         "x": [
          2.0330429282590843,
          1.536096650209142
         ],
         "y": [
          -5.0388377117272585,
          -4.672030050912177
         ],
         "z": [
          -8.370336256613543,
          -9.263690204777248
         ]
        },
        {
         "hoverinfo": "skip",
         "line": {
          "color": "blue",
          "width": 1
         },
         "mode": "lines",
         "name": "C6-C5",
         "opacity": 0.2,
         "showlegend": true,
         "type": "scatter3d",
         "x": [
          3.8433528411731674,
          3.2946754088259573
         ],
         "y": [
          -6.233756158886537,
          -5.9513561912737405
         ],
         "z": [
          -7.306442289226068,
          -6.055381294100267
         ]
        },
        {
         "hoverinfo": "skip",
         "line": {
          "color": "blue",
          "width": 1
         },
         "mode": "lines",
         "name": "C6-H6",
         "opacity": 0.2,
         "showlegend": true,
         "type": "scatter3d",
         "x": [
          3.8433528411731674,
          4.765456346808986
         ],
         "y": [
          -6.233756158886537,
          -6.804579210553954
         ],
         "z": [
          -7.306442289226068,
          -7.365692593691369
         ]
        },
        {
         "hoverinfo": "skip",
         "line": {
          "color": "blue",
          "width": 1
         },
         "mode": "lines",
         "name": "C3-H3",
         "opacity": 0.2,
         "showlegend": true,
         "type": "scatter3d",
         "x": [
          1.4844531156053637,
          0.5650327050953883
         ],
         "y": [
          -4.75634843242436,
          -4.179439894824693
         ],
         "z": [
          -7.119395037158576,
          -7.06817142949296
         ]
        },
        {
         "hoverinfo": "skip",
         "line": {
          "color": "blue",
          "width": 1
         },
         "mode": "lines",
         "name": "C5-H5",
         "opacity": 0.2,
         "showlegend": true,
         "type": "scatter3d",
         "x": [
          3.2946754088259573,
          3.7996792399429826
         ],
         "y": [
          -5.9513561912737405,
          -6.3131455446612925
         ],
         "z": [
          -6.055381294100267,
          -5.1637456093430085
         ]
        },
        {
         "hoverinfo": "skip",
         "line": {
          "color": "blue",
          "width": 1
         },
         "mode": "lines",
         "name": "C9-H91",
         "opacity": 0.2,
         "showlegend": true,
         "type": "scatter3d",
         "x": [
          1.441476626963524,
          2.4205887835100315
         ],
         "y": [
          -3.404399855483508,
          -2.925830893157723
         ],
         "z": [
          -4.324760507075684,
          -4.435957463874283
         ]
        },
        {
         "hoverinfo": "skip",
         "line": {
          "color": "blue",
          "width": 1
         },
         "mode": "lines",
         "name": "C9-H92",
         "opacity": 0.2,
         "showlegend": true,
         "type": "scatter3d",
         "x": [
          1.441476626963524,
          1.094432896311299
         ],
         "y": [
          -3.404399855483508,
          -3.2338842986442495
         ],
         "z": [
          -4.324760507075684,
          -3.2995008161237864
         ]
        },
        {
         "hoverinfo": "skip",
         "line": {
          "color": "blue",
          "width": 1
         },
         "mode": "lines",
         "name": "C9-H93",
         "opacity": 0.2,
         "showlegend": true,
         "type": "scatter3d",
         "x": [
          1.441476626963524,
          0.7368698614049081
         ],
         "y": [
          -3.404399855483508,
          -2.8968796278302658
         ],
         "z": [
          -4.324760507075684,
          -4.992925744462236
         ]
        },
        {
         "hoverinfo": "skip",
         "line": {
          "color": "blue",
          "width": 1
         },
         "mode": "lines",
         "name": "N-CA",
         "opacity": 0.2,
         "showlegend": true,
         "type": "scatter3d",
         "x": [
          -0.2824047299836834,
          -1.593766825610607
         ],
         "y": [
          -5.353664280004237,
          -6.015670042621112
         ],
         "z": [
          -3.4608455057901315,
          -3.4646957544848114
         ]
        },
        {
         "hoverinfo": "skip",
         "line": {
          "color": "blue",
          "width": 1
         },
         "mode": "lines",
         "name": "N-H2",
         "opacity": 0.2,
         "showlegend": true,
         "type": "scatter3d",
         "x": [
          -0.2824047299836834,
          -0.4587353481649106
         ],
         "y": [
          -5.353664280004237,
          -4.361790785031394
         ],
         "z": [
          -3.4608455057901315,
          -3.4015455642877717
         ]
        },
        {
         "hoverinfo": "skip",
         "line": {
          "color": "blue",
          "width": 1
         },
         "mode": "lines",
         "name": "CA-C",
         "opacity": 0.2,
         "showlegend": true,
         "type": "scatter3d",
         "x": [
          -1.593766825610607,
          -2.6730118741682203
         ],
         "y": [
          -6.015670042621112,
          -4.991695428017323
         ],
         "z": [
          -3.4646957544848114,
          -3.2260220990242736
         ]
        },
        {
         "hoverinfo": "skip",
         "line": {
          "color": "blue",
          "width": 1
         },
         "mode": "lines",
         "name": "CA-CB",
         "opacity": 0.2,
         "showlegend": true,
         "type": "scatter3d",
         "x": [
          -1.593766825610607,
          -1.635968349323485
         ],
         "y": [
          -6.015670042621112,
          -7.069241297045548
         ],
         "z": [
          -3.4646957544848114,
          -2.357826908032428
         ]
        },
        {
         "hoverinfo": "skip",
         "line": {
          "color": "blue",
          "width": 1
         },
         "mode": "lines",
         "name": "CA-HA",
         "opacity": 0.2,
         "showlegend": true,
         "type": "scatter3d",
         "x": [
          -1.593766825610607,
          -1.7548346160130706
         ],
         "y": [
          -6.015670042621112,
          -6.495281847847987
         ],
         "z": [
          -3.4646957544848114,
          -4.429834958528398
         ]
        },
        {
         "hoverinfo": "skip",
         "line": {
          "color": "blue",
          "width": 1
         },
         "mode": "lines",
         "name": "C-O",
         "opacity": 0.2,
         "showlegend": true,
         "type": "scatter3d",
         "x": [
          -2.6730118741682203,
          -2.4395246203112535
         ],
         "y": [
          -4.991695428017323,
          -4.011090672141913
         ],
         "z": [
          -3.2260220990242736,
          -2.562255562476326
         ]
        },
        {
         "hoverinfo": "skip",
         "line": {
          "color": "blue",
          "width": 1
         },
         "mode": "lines",
         "name": "C-O",
         "opacity": 0.2,
         "showlegend": true,
         "type": "scatter3d",
         "x": [
          -2.6730118741682203,
          -2.4395246203112535
         ],
         "y": [
          -4.991695428017323,
          -4.011090672141913
         ],
         "z": [
          -3.2260220990242736,
          -2.562255562476326
         ]
        },
        {
         "hoverinfo": "skip",
         "line": {
          "color": "blue",
          "width": 1
         },
         "mode": "lines",
         "name": "C-OXT",
         "opacity": 0.2,
         "showlegend": true,
         "type": "scatter3d",
         "x": [
          -2.6730118741682203,
          -3.894432703558186
         ],
         "y": [
          -4.991695428017323,
          -5.170546341045885
         ],
         "z": [
          -3.2260220990242736,
          -3.752140439743526
         ]
        },
        {
         "hoverinfo": "skip",
         "line": {
          "color": "blue",
          "width": 1
         },
         "mode": "lines",
         "name": "CB-OG",
         "opacity": 0.2,
         "showlegend": true,
         "type": "scatter3d",
         "x": [
          -1.635968349323485,
          -0.6121274429470276
         ],
         "y": [
          -7.069241297045548,
          -8.039311544571028
         ],
         "z": [
          -2.357826908032428,
          -2.583283141692281
         ]
        },
        {
         "hoverinfo": "skip",
         "line": {
          "color": "blue",
          "width": 1
         },
         "mode": "lines",
         "name": "CB-HB2",
         "opacity": 0.2,
         "showlegend": true,
         "type": "scatter3d",
         "x": [
          -1.635968349323485,
          -1.474791028214426
         ],
         "y": [
          -7.069241297045548,
          -6.588230643048988
         ],
         "z": [
          -2.357826908032428,
          -1.3928644103663745
         ]
        },
        {
         "hoverinfo": "skip",
         "line": {
          "color": "blue",
          "width": 1
         },
         "mode": "lines",
         "name": "CB-HB3",
         "opacity": 0.2,
         "showlegend": true,
         "type": "scatter3d",
         "x": [
          -1.635968349323485,
          -2.6086524747062043
         ],
         "y": [
          -7.069241297045548,
          -7.560309080120097
         ],
         "z": [
          -2.357826908032428,
          -2.3604773145491174
         ]
        },
        {
         "hoverinfo": "skip",
         "line": {
          "color": "blue",
          "width": 1
         },
         "mode": "lines",
         "name": "C7-N",
         "opacity": 0.2,
         "showlegend": true,
         "type": "scatter3d",
         "x": [
          0.14914127370649188,
          -0.2824047299836834
         ],
         "y": [
          -5.528912048580051,
          -5.353664280004237
         ],
         "z": [
          -4.408732503039457,
          -3.4608455057901315
         ]
        },
        {
         "hoverinfo": "skip",
         "line": {
          "color": "blue",
          "width": 1
         },
         "mode": "lines",
         "name": "O3-C3",
         "opacity": 0.2,
         "showlegend": true,
         "type": "scatter3d",
         "x": [
          -1.4337421149338851,
          -1.1964792786448606
         ],
         "y": [
          -10.954710468062821,
          -11.69210315426443
         ],
         "z": [
          -4.044895465594247,
          -5.244701692804484
         ]
        },
        {
         "hoverinfo": "skip",
         "line": {
          "color": "blue",
          "width": 1
         },
         "mode": "lines",
         "name": "O3-C1",
         "opacity": 0.2,
         "showlegend": true,
         "type": "scatter3d",
         "x": [
          -1.4337421149338851,
          -0.7990793656819215
         ],
         "y": [
          -10.954710468062821,
          -9.747311499002702
         ],
         "z": [
          -4.044895465594247,
          -3.9584468437168745
         ]
        },
        {
         "hoverinfo": "skip",
         "line": {
          "color": "blue",
          "width": 1
         },
         "mode": "lines",
         "name": "O1-C1",
         "opacity": 0.2,
         "showlegend": true,
         "type": "scatter3d",
         "x": [
          -0.0628143027324084,
          -0.7990793656819215
         ],
         "y": [
          -9.26059126073893,
          -9.747311499002702
         ],
         "z": [
          -4.805717064333892,
          -3.9584468437168745
         ]
        },
        {
         "hoverinfo": "skip",
         "line": {
          "color": "blue",
          "width": 1
         },
         "mode": "lines",
         "name": "C3-C4",
         "opacity": 0.2,
         "showlegend": true,
         "type": "scatter3d",
         "x": [
          -1.1964792786448606,
          -1.6721930044649351
         ],
         "y": [
          -11.69210315426443,
          -10.855487763495697
         ],
         "z": [
          -5.244701692804484,
          -6.431599956766169
         ]
        },
        {
         "hoverinfo": "skip",
         "line": {
          "color": "blue",
          "width": 1
         },
         "mode": "lines",
         "name": "C3-C5",
         "opacity": 0.2,
         "showlegend": true,
         "type": "scatter3d",
         "x": [
          -1.1964792786448606,
          -1.9919002628708222
         ],
         "y": [
          -11.69210315426443,
          -12.992275637308106
         ],
         "z": [
          -5.244701692804484,
          -5.1505395868964134
         ]
        },
        {
         "hoverinfo": "skip",
         "line": {
          "color": "blue",
          "width": 1
         },
         "mode": "lines",
         "name": "C3-C6",
         "opacity": 0.2,
         "showlegend": true,
         "type": "scatter3d",
         "x": [
          -1.1964792786448606,
          0.2998051637730361
         ],
         "y": [
          -11.69210315426443,
          -11.983833346989764
         ],
         "z": [
          -5.244701692804484,
          -5.348695067740585
         ]
        },
        {
         "hoverinfo": "skip",
         "line": {
          "color": "blue",
          "width": 1
         },
         "mode": "lines",
         "name": "C4-H41",
         "opacity": 0.2,
         "showlegend": true,
         "type": "scatter3d",
         "x": [
          -1.6721930044649351,
          -0.9996378387631433
         ],
         "y": [
          -10.855487763495697,
          -10.040986956771274
         ],
         "z": [
          -6.431599956766169,
          -6.711915180992562
         ]
        },
        {
         "hoverinfo": "skip",
         "line": {
          "color": "blue",
          "width": 1
         },
         "mode": "lines",
         "name": "C4-H42",
         "opacity": 0.2,
         "showlegend": true,
         "type": "scatter3d",
         "x": [
          -1.6721930044649351,
          -2.6534064381965035
         ],
         "y": [
          -10.855487763495697,
          -10.409850921524445
         ],
         "z": [
          -6.431599956766169,
          -6.229895736327939
         ]
        },
        {
         "hoverinfo": "skip",
         "line": {
          "color": "blue",
          "width": 1
         },
         "mode": "lines",
         "name": "C4-H43",
         "opacity": 0.2,
         "showlegend": true,
         "type": "scatter3d",
         "x": [
          -1.6721930044649351,
          -1.7660472940451895
         ],
         "y": [
          -10.855487763495697,
          -11.481401615865341
         ],
         "z": [
          -6.431599956766169,
          -7.327085122326812
         ]
        },
        {
         "hoverinfo": "skip",
         "line": {
          "color": "blue",
          "width": 1
         },
         "mode": "lines",
         "name": "C5-H51",
         "opacity": 0.2,
         "showlegend": true,
         "type": "scatter3d",
         "x": [
          -1.9919002628708222,
          -1.6863948378555884
         ],
         "y": [
          -12.992275637308106,
          -13.571794410163903
         ],
         "z": [
          -5.1505395868964134,
          -4.271835747600158
         ]
        },
        {
         "hoverinfo": "skip",
         "line": {
          "color": "blue",
          "width": 1
         },
         "mode": "lines",
         "name": "C5-H52",
         "opacity": 0.2,
         "showlegend": true,
         "type": "scatter3d",
         "x": [
          -1.9919002628708222,
          -3.0614056252497583
         ],
         "y": [
          -12.992275637308106,
          -12.78535470573559
         ],
         "z": [
          -5.1505395868964134,
          -5.028204563620745
         ]
        },
        {
         "hoverinfo": "skip",
         "line": {
          "color": "blue",
          "width": 1
         },
         "mode": "lines",
         "name": "C5-H53",
         "opacity": 0.2,
         "showlegend": true,
         "type": "scatter3d",
         "x": [
          -1.9919002628708222,
          -1.859734834053243
         ],
         "y": [
          -12.992275637308106,
          -13.61677501487761
         ],
         "z": [
          -5.1505395868964134,
          -6.040053474837893
         ]
        },
        {
         "hoverinfo": "skip",
         "line": {
          "color": "blue",
          "width": 1
         },
         "mode": "lines",
         "name": "C6-H61",
         "opacity": 0.2,
         "showlegend": true,
         "type": "scatter3d",
         "x": [
          0.2998051637730361,
          0.9097579872693418
         ],
         "y": [
          -11.983833346989764,
          -11.127769715791867
         ],
         "z": [
          -5.348695067740585,
          -5.647523216430017
         ]
        },
        {
         "hoverinfo": "skip",
         "line": {
          "color": "blue",
          "width": 1
         },
         "mode": "lines",
         "name": "C6-H62",
         "opacity": 0.2,
         "showlegend": true,
         "type": "scatter3d",
         "x": [
          0.2998051637730361,
          0.4870561525753354
         ],
         "y": [
          -11.983833346989764,
          -12.758832547273437
         ],
         "z": [
          -5.348695067740585,
          -6.101584014898283
         ]
        },
        {
         "hoverinfo": "skip",
         "line": {
          "color": "blue",
          "width": 1
         },
         "mode": "lines",
         "name": "C6-H63",
         "opacity": 0.2,
         "showlegend": true,
         "type": "scatter3d",
         "x": [
          0.2998051637730361,
          0.6960916964065518
         ],
         "y": [
          -11.983833346989764,
          -12.34298854711977
         ],
         "z": [
          -5.348695067740585,
          -4.391706323672567
         ]
        },
        {
         "hoverinfo": "skip",
         "line": {
          "color": "blue",
          "width": 1
         },
         "mode": "lines",
         "name": "C1-C2",
         "opacity": 0.2,
         "showlegend": true,
         "type": "scatter3d",
         "x": [
          -0.7990793656819215,
          -1.1498158568659056
         ],
         "y": [
          -9.747311499002702,
          -9.099481435445078
         ],
         "z": [
          -3.9584468437168745,
          -2.64485464957789
         ]
        },
        {
         "hoverinfo": "skip",
         "line": {
          "color": "blue",
          "width": 1
         },
         "mode": "lines",
         "name": "C2-H21",
         "opacity": 0.2,
         "showlegend": true,
         "type": "scatter3d",
         "x": [
          -1.1498158568659056,
          -2.2300208227881075
         ],
         "y": [
          -9.099481435445078,
          -8.941956882995255
         ],
         "z": [
          -2.64485464957789,
          -2.591702255723083
         ]
        },
        {
         "hoverinfo": "skip",
         "line": {
          "color": "blue",
          "width": 1
         },
         "mode": "lines",
         "name": "C2-H22",
         "opacity": 0.2,
         "showlegend": true,
         "type": "scatter3d",
         "x": [
          -1.1498158568659056,
          -0.8118933676042226
         ],
         "y": [
          -9.099481435445078,
          -9.722288265096935
         ],
         "z": [
          -2.64485464957789,
          -1.8124216227281682
         ]
        },
        {
         "hoverinfo": "skip",
         "line": {
          "color": "blue",
          "width": 1
         },
         "mode": "lines",
         "name": "OG-C2",
         "opacity": 0.2,
         "showlegend": true,
         "type": "scatter3d",
         "x": [
          -0.6121274429470276,
          -1.1498158568659056
         ],
         "y": [
          -8.039311544571028,
          -9.099481435445078
         ],
         "z": [
          -2.583283141692281,
          -2.64485464957789
         ]
        },
        {
         "hoverinfo": "skip",
         "line": {
          "color": "blue",
          "width": 1
         },
         "mode": "lines",
         "name": "OG-CB",
         "opacity": 0.2,
         "showlegend": true,
         "type": "scatter3d",
         "x": [
          -0.6121274429470276,
          -1.635968349323485
         ],
         "y": [
          -8.039311544571028,
          -7.069241297045548
         ],
         "z": [
          -2.583283141692281,
          -2.357826908032428
         ]
        },
        {
         "hoverinfo": "skip",
         "line": {
          "color": "blue",
          "width": 1
         },
         "mode": "lines",
         "name": "N20-N20",
         "opacity": 0.2,
         "showlegend": true,
         "type": "scatter3d",
         "x": [
          -6.631165009089683,
          -7.324973709707313
         ],
         "y": [
          -8.104684601614117,
          -6.985489515350427
         ],
         "z": [
          -2.8062136608561703,
          -3.070132788299566
         ]
        },
        {
         "hoverinfo": "skip",
         "line": {
          "color": "blue",
          "width": 1
         },
         "mode": "lines",
         "name": "N20-C3",
         "opacity": 0.2,
         "showlegend": true,
         "type": "scatter3d",
         "x": [
          -6.631165009089683,
          -7.268945346507838
         ],
         "y": [
          -8.104684601614117,
          -9.237078077227018
         ],
         "z": [
          -2.8062136608561703,
          -2.184512971141168
         ]
        },
        {
         "hoverinfo": "skip",
         "line": {
          "color": "blue",
          "width": 1
         },
         "mode": "lines",
         "name": "N20-C2",
         "opacity": 0.2,
         "showlegend": true,
         "type": "scatter3d",
         "x": [
          -6.631165009089683,
          -5.330497452409659
         ],
         "y": [
          -8.104684601614117,
          -7.990969402437651
         ],
         "z": [
          -2.8062136608561703,
          -3.1906118144368953
         ]
        },
        {
         "hoverinfo": "skip",
         "line": {
          "color": "blue",
          "width": 1
         },
         "mode": "lines",
         "name": "N20-N20",
         "opacity": 0.2,
         "showlegend": true,
         "type": "scatter3d",
         "x": [
          -7.324973709707313,
          -6.484487586233612
         ],
         "y": [
          -6.985489515350427,
          -6.123555188921738
         ],
         "z": [
          -3.070132788299566,
          -3.631792884062186
         ]
        },
        {
         "hoverinfo": "skip",
         "line": {
          "color": "blue",
          "width": 1
         },
         "mode": "lines",
         "name": "N20-C1",
         "opacity": 0.2,
         "showlegend": true,
         "type": "scatter3d",
         "x": [
          -6.484487586233612,
          -5.258778338899178
         ],
         "y": [
          -6.123555188921738,
          -6.723946160135792
         ],
         "z": [
          -3.631792884062186,
          -3.712771725023833
         ]
        },
        {
         "hoverinfo": "skip",
         "line": {
          "color": "blue",
          "width": 1
         },
         "mode": "lines",
         "name": "C3-C4",
         "opacity": 0.2,
         "showlegend": true,
         "type": "scatter3d",
         "x": [
          -7.268945346507838,
          -8.117459888017887
         ],
         "y": [
          -9.237078077227018,
          -10.022036240047477
         ],
         "z": [
          -2.184512971141168,
          -3.173112281007165
         ]
        },
        {
         "hoverinfo": "skip",
         "line": {
          "color": "blue",
          "width": 1
         },
         "mode": "lines",
         "name": "C3-H31",
         "opacity": 0.2,
         "showlegend": true,
         "type": "scatter3d",
         "x": [
          -7.268945346507838,
          -6.488172529639947
         ],
         "y": [
          -9.237078077227018,
          -9.878179289672955
         ],
         "z": [
          -2.184512971141168,
          -1.76116915833587
         ]
        },
        {
         "hoverinfo": "skip",
         "line": {
          "color": "blue",
          "width": 1
         },
         "mode": "lines",
         "name": "C3-H32",
         "opacity": 0.2,
         "showlegend": true,
         "type": "scatter3d",
         "x": [
          -7.268945346507838,
          -7.882127292265746
         ],
         "y": [
          -9.237078077227018,
          -8.86281349701435
         ],
         "z": [
          -2.184512971141168,
          -1.3575853047792399
         ]
        },
        {
         "hoverinfo": "skip",
         "line": {
          "color": "blue",
          "width": 1
         },
         "mode": "lines",
         "name": "C2-C1",
         "opacity": 0.2,
         "showlegend": true,
         "type": "scatter3d",
         "x": [
          -5.330497452409659,
          -5.258778338899178
         ],
         "y": [
          -7.990969402437651,
          -6.723946160135792
         ],
         "z": [
          -3.1906118144368953,
          -3.712771725023833
         ]
        },
        {
         "hoverinfo": "skip",
         "line": {
          "color": "blue",
          "width": 1
         },
         "mode": "lines",
         "name": "C2-H2",
         "opacity": 0.2,
         "showlegend": true,
         "type": "scatter3d",
         "x": [
          -5.330497452409659,
          -4.604349705091088
         ],
         "y": [
          -7.990969402437651,
          -8.781811992467222
         ],
         "z": [
          -3.1906118144368953,
          -3.0658944264772323
         ]
        },
        {
         "hoverinfo": "skip",
         "line": {
          "color": "blue",
          "width": 1
         },
         "mode": "lines",
         "name": "C1-C5",
         "opacity": 0.2,
         "showlegend": true,
         "type": "scatter3d",
         "x": [
          -5.258778338899178,
          -4.10401680746952
         ],
         "y": [
          -6.723946160135792,
          -6.024444216429765
         ],
         "z": [
          -3.712771725023833,
          -4.290296214791773
         ]
        },
        {
         "hoverinfo": "skip",
         "line": {
          "color": "blue",
          "width": 1
         },
         "mode": "lines",
         "name": "C4-H41",
         "opacity": 0.2,
         "showlegend": true,
         "type": "scatter3d",
         "x": [
          -8.117459888017887,
          -7.51010092837287
         ],
         "y": [
          -10.022036240047477,
          -10.392925129944135
         ],
         "z": [
          -3.173112281007165,
          -4.005528730562403
         ]
        },
        {
         "hoverinfo": "skip",
         "line": {
          "color": "blue",
          "width": 1
         },
         "mode": "lines",
         "name": "C4-H43",
         "opacity": 0.2,
         "showlegend": true,
         "type": "scatter3d",
         "x": [
          -8.117459888017887,
          -8.915712714105302
         ],
         "y": [
          -10.022036240047477,
          -9.400434517209428
         ],
         "z": [
          -3.173112281007165,
          -3.5925548918709396
         ]
        },
        {
         "hoverinfo": "skip",
         "line": {
          "color": "blue",
          "width": 1
         },
         "mode": "lines",
         "name": "C5-H52",
         "opacity": 0.2,
         "showlegend": true,
         "type": "scatter3d",
         "x": [
          -4.10401680746952,
          -4.3108387350958015
         ],
         "y": [
          -6.024444216429765,
          -5.73515589296667
         ],
         "z": [
          -4.290296214791773,
          -5.325403975443224
         ]
        },
        {
         "hoverinfo": "skip",
         "line": {
          "color": "blue",
          "width": 1
         },
         "mode": "lines",
         "name": "C5-H53",
         "opacity": 0.2,
         "showlegend": true,
         "type": "scatter3d",
         "x": [
          -4.10401680746952,
          -3.209466644478198
         ],
         "y": [
          -6.024444216429765,
          -6.655268307806891
         ],
         "z": [
          -4.290296214791773,
          -4.287231638080345
         ]
        },
        {
         "hoverinfo": "skip",
         "line": {
          "color": "blue",
          "width": 1
         },
         "mode": "lines",
         "name": "OXT-C5",
         "opacity": 0.2,
         "showlegend": true,
         "type": "scatter3d",
         "x": [
          -3.894432703558186,
          -4.10401680746952
         ],
         "y": [
          -5.170546341045885,
          -6.024444216429765
         ],
         "z": [
          -3.752140439743526,
          -4.290296214791773
         ]
        },
        {
         "hoverinfo": "skip",
         "line": {
          "color": "blue",
          "width": 1
         },
         "mode": "lines",
         "name": "OXT-C",
         "opacity": 0.2,
         "showlegend": true,
         "type": "scatter3d",
         "x": [
          -3.894432703558186,
          -2.6730118741682203
         ],
         "y": [
          -5.170546341045885,
          -4.991695428017323
         ],
         "z": [
          -3.752140439743526,
          -3.2260220990242736
         ]
        },
        {
         "hoverinfo": "skip",
         "line": {
          "color": "blue",
          "width": 1
         },
         "mode": "lines",
         "name": "O2-C2",
         "opacity": 0.2,
         "showlegend": true,
         "type": "scatter3d",
         "x": [
          -10.0062335741638,
          -9.122659097702615
         ],
         "y": [
          -12.677875303382494,
          -11.765922620164169
         ],
         "z": [
          -5.460219537329659,
          -4.842897734606604
         ]
        },
        {
         "hoverinfo": "skip",
         "line": {
          "color": "blue",
          "width": 1
         },
         "mode": "lines",
         "name": "O11-C1",
         "opacity": 0.2,
         "showlegend": true,
         "type": "scatter3d",
         "x": [
          -10.271445049493716,
          -9.399421052324307
         ],
         "y": [
          -12.38777420693475,
          -11.72100523590354
         ],
         "z": [
          -2.809064710241443,
          -3.358691108470884
         ]
        },
        {
         "hoverinfo": "skip",
         "line": {
          "color": "blue",
          "width": 1
         },
         "mode": "lines",
         "name": "N12-C1",
         "opacity": 0.2,
         "showlegend": true,
         "type": "scatter3d",
         "x": [
          -8.563144283918689,
          -9.399421052324307
         ],
         "y": [
          -10.849943915593947,
          -11.72100523590354
         ],
         "z": [
          -2.6951395182493227,
          -3.358691108470884
         ]
        },
        {
         "hoverinfo": "skip",
         "line": {
          "color": "blue",
          "width": 1
         },
         "mode": "lines",
         "name": "C2-C1",
         "opacity": 0.2,
         "showlegend": true,
         "type": "scatter3d",
         "x": [
          -9.122659097702615,
          -9.399421052324307
         ],
         "y": [
          -11.765922620164169,
          -11.72100523590354
         ],
         "z": [
          -4.842897734606604,
          -3.358691108470884
         ]
        },
        {
         "hoverinfo": "skip",
         "line": {
          "color": "blue",
          "width": 1
         },
         "mode": "lines",
         "name": "C2-H21",
         "opacity": 0.2,
         "showlegend": true,
         "type": "scatter3d",
         "x": [
          -9.122659097702615,
          -8.090201461082748
         ],
         "y": [
          -11.765922620164169,
          -12.077288724122816
         ],
         "z": [
          -4.842897734606604,
          -5.027606878643713
         ]
        },
        {
         "hoverinfo": "skip",
         "line": {
          "color": "blue",
          "width": 1
         },
         "mode": "lines",
         "name": "C2-H22",
         "opacity": 0.2,
         "showlegend": true,
         "type": "scatter3d",
         "x": [
          -9.122659097702615,
          -9.284339807952245
         ],
         "y": [
          -11.765922620164169,
          -10.773846891364247
         ],
         "z": [
          -4.842897734606604,
          -5.2741473563563215
         ]
        },
        {
         "hoverinfo": "skip",
         "line": {
          "color": "blue",
          "width": 1
         },
         "mode": "lines",
         "name": "C4-N12",
         "opacity": 0.2,
         "showlegend": true,
         "type": "scatter3d",
         "x": [
          -8.117459888017887,
          -8.563144283918689
         ],
         "y": [
          -10.022036240047477,
          -10.849943915593947
         ],
         "z": [
          -3.173112281007165,
          -2.6951395182493227
         ]
        },
        {
         "hoverinfo": "skip",
         "line": {
          "color": "blue",
          "width": 1
         },
         "mode": "lines",
         "name": "C4-C3",
         "opacity": 0.2,
         "showlegend": true,
         "type": "scatter3d",
         "x": [
          -8.117459888017887,
          -7.268945346507838
         ],
         "y": [
          -10.022036240047477,
          -9.237078077227018
         ],
         "z": [
          -3.173112281007165,
          -2.184512971141168
         ]
        },
        {
         "hoverinfo": "skip",
         "line": {
          "color": "blue",
          "width": 1
         },
         "mode": "lines",
         "name": "O7-C7",
         "opacity": 0.2,
         "showlegend": true,
         "type": "scatter3d",
         "x": [
          -9.724620446354251,
          -8.774409595430754
         ],
         "y": [
          -3.2822672587218804,
          -2.549122982213159
         ],
         "z": [
          2.394456424041562,
          2.6505496074919526
         ]
        },
        {
         "hoverinfo": "skip",
         "line": {
          "color": "blue",
          "width": 1
         },
         "mode": "lines",
         "name": "C10-C11",
         "opacity": 0.2,
         "showlegend": true,
         "type": "scatter3d",
         "x": [
          -15.162185183300586,
          -14.26911946318749
         ],
         "y": [
          -1.277166588985036,
          -0.033748850803130725
         ],
         "z": [
          5.316308680015255,
          5.13794666630865
         ]
        },
        {
         "hoverinfo": "skip",
         "line": {
          "color": "blue",
          "width": 1
         },
         "mode": "lines",
         "name": "C10-C12",
         "opacity": 0.2,
         "showlegend": true,
         "type": "scatter3d",
         "x": [
          -15.162185183300586,
          -14.55584088937237
         ],
         "y": [
          -1.277166588985036,
          -2.2833561766310586
         ],
         "z": [
          5.316308680015255,
          6.297785837637082
         ]
        },
        {
         "hoverinfo": "skip",
         "line": {
          "color": "blue",
          "width": 1
         },
         "mode": "lines",
         "name": "C10-C13",
         "opacity": 0.2,
         "showlegend": true,
         "type": "scatter3d",
         "x": [
          -15.162185183300586,
          -15.388036953918625
         ],
         "y": [
          -1.277166588985036,
          -1.9515940780155847
         ],
         "z": [
          5.316308680015255,
          3.960950764279104
         ]
        },
        {
         "hoverinfo": "skip",
         "line": {
          "color": "blue",
          "width": 1
         },
         "mode": "lines",
         "name": "C10-H10",
         "opacity": 0.2,
         "showlegend": true,
         "type": "scatter3d",
         "x": [
          -15.162185183300586,
          -16.132083804494922
         ],
         "y": [
          -1.277166588985036,
          -0.9442384668190034
         ],
         "z": [
          5.316308680015255,
          5.706023062706383
         ]
        },
        {
         "hoverinfo": "skip",
         "line": {
          "color": "blue",
          "width": 1
         },
         "mode": "lines",
         "name": "C11-C1",
         "opacity": 0.2,
         "showlegend": true,
         "type": "scatter3d",
         "x": [
          -14.26911946318749,
          -12.862020721942255
         ],
         "y": [
          -0.033748850803130725,
          -0.3516538601076209
         ],
         "z": [
          5.13794666630865,
          4.694175173933136
         ]
        },
        {
         "hoverinfo": "skip",
         "line": {
          "color": "blue",
          "width": 1
         },
         "mode": "lines",
         "name": "C11-H111",
         "opacity": 0.2,
         "showlegend": true,
         "type": "scatter3d",
         "x": [
          -14.26911946318749,
          -14.7319322982191
         ],
         "y": [
          -0.033748850803130725,
          0.6606403177705173
         ],
         "z": [
          5.13794666630865,
          4.423939935039535
         ]
        },
        {
         "hoverinfo": "skip",
         "line": {
          "color": "blue",
          "width": 1
         },
         "mode": "lines",
         "name": "C11-H112",
         "opacity": 0.2,
         "showlegend": true,
         "type": "scatter3d",
         "x": [
          -14.26911946318749,
          -14.228038326256762
         ],
         "y": [
          -0.033748850803130725,
          0.518388995800962
         ],
         "z": [
          5.13794666630865,
          6.086711731293591
         ]
        },
        {
         "hoverinfo": "skip",
         "line": {
          "color": "blue",
          "width": 1
         },
         "mode": "lines",
         "name": "C1-C2",
         "opacity": 0.2,
         "showlegend": true,
         "type": "scatter3d",
         "x": [
          -12.862020721942255,
          -12.574171964679396
         ],
         "y": [
          -0.3516538601076209,
          -0.41129927036155767
         ],
         "z": [
          4.694175173933136,
          3.339808857910082
         ]
        },
        {
         "hoverinfo": "skip",
         "line": {
          "color": "blue",
          "width": 1
         },
         "mode": "lines",
         "name": "C1-C6",
         "opacity": 0.2,
         "showlegend": true,
         "type": "scatter3d",
         "x": [
          -12.862020721942255,
          -11.882989678430018
         ],
         "y": [
          -0.3516538601076209,
          -0.577388213050726
         ],
         "z": [
          4.694175173933136,
          5.648835484064808
         ]
        },
        {
         "hoverinfo": "skip",
         "line": {
          "color": "blue",
          "width": 1
         },
         "mode": "lines",
         "name": "C4-C8",
         "opacity": 0.2,
         "showlegend": true,
         "type": "scatter3d",
         "x": [
          -10.277679093677987,
          -8.886964326051741
         ],
         "y": [
          -0.9339097682804756,
          -1.2471896827876172
         ],
         "z": [
          3.8788854488548656,
          3.4405198705156654
         ]
        },
        {
         "hoverinfo": "skip",
         "line": {
          "color": "blue",
          "width": 1
         },
         "mode": "lines",
         "name": "C4-C3",
         "opacity": 0.2,
         "showlegend": true,
         "type": "scatter3d",
         "x": [
          -10.277679093677987,
          -11.273599686148177
         ],
         "y": [
          -0.9339097682804756,
          -0.7041757972537233
         ],
         "z": [
          3.8788854488548656,
          2.929516281433621
         ]
        },
        {
         "hoverinfo": "skip",
         "line": {
          "color": "blue",
          "width": 1
         },
         "mode": "lines",
         "name": "C4-C5",
         "opacity": 0.2,
         "showlegend": true,
         "type": "scatter3d",
         "x": [
          -10.277679093677987,
          -10.58231888988438
         ],
         "y": [
          -0.9339097682804756,
          -0.8704070305140927
         ],
         "z": [
          3.8788854488548656,
          5.238535895426891
         ]
        },
        {
         "hoverinfo": "skip",
         "line": {
          "color": "blue",
          "width": 1
         },
         "mode": "lines",
         "name": "C8-C9",
         "opacity": 0.2,
         "showlegend": true,
         "type": "scatter3d",
         "x": [
          -8.886964326051741,
          -8.24039507520126
         ],
         "y": [
          -1.2471896827876172,
          -0.11920533137281719
         ],
         "z": [
          3.4405198705156654,
          2.6179501854324005
         ]
        },
        {
         "hoverinfo": "skip",
         "line": {
          "color": "blue",
          "width": 1
         },
         "mode": "lines",
         "name": "C8-C7",
         "opacity": 0.2,
         "showlegend": true,
         "type": "scatter3d",
         "x": [
          -8.886964326051741,
          -8.774409595430754
         ],
         "y": [
          -1.2471896827876172,
          -2.549122982213159
         ],
         "z": [
          3.4405198705156654,
          2.6505496074919526
         ]
        },
        {
         "hoverinfo": "skip",
         "line": {
          "color": "blue",
          "width": 1
         },
         "mode": "lines",
         "name": "C8-H8",
         "opacity": 0.2,
         "showlegend": true,
         "type": "scatter3d",
         "x": [
          -8.886964326051741,
          -8.255063229862467
         ],
         "y": [
          -1.2471896827876172,
          -1.4010912471988153
         ],
         "z": [
          3.4405198705156654,
          4.325743013630765
         ]
        },
        {
         "hoverinfo": "skip",
         "line": {
          "color": "blue",
          "width": 1
         },
         "mode": "lines",
         "name": "C12-H121",
         "opacity": 0.2,
         "showlegend": true,
         "type": "scatter3d",
         "x": [
          -14.55584088937237,
          -13.65596826018082
         ],
         "y": [
          -2.2833561766310586,
          -2.767015486584079
         ],
         "z": [
          6.297785837637082,
          5.905128756804887
         ]
        },
        {
         "hoverinfo": "skip",
         "line": {
          "color": "blue",
          "width": 1
         },
         "mode": "lines",
         "name": "C12-H122",
         "opacity": 0.2,
         "showlegend": true,
         "type": "scatter3d",
         "x": [
          -14.55584088937237,
          -14.311350138611882
         ],
         "y": [
          -2.2833561766310586,
          -1.8032057099648173
         ],
         "z": [
          6.297785837637082,
          7.25097313410759
         ]
        },
        {
         "hoverinfo": "skip",
         "line": {
          "color": "blue",
          "width": 1
         },
         "mode": "lines",
         "name": "C12-H123",
         "opacity": 0.2,
         "showlegend": true,
         "type": "scatter3d",
         "x": [
          -14.55584088937237,
          -15.278743697862588
         ],
         "y": [
          -2.2833561766310586,
          -3.079582987885574
         ],
         "z": [
          6.297785837637082,
          6.509190223865071
         ]
        },
        {
         "hoverinfo": "skip",
         "line": {
          "color": "blue",
          "width": 1
         },
         "mode": "lines",
         "name": "C13-H131",
         "opacity": 0.2,
         "showlegend": true,
         "type": "scatter3d",
         "x": [
          -15.388036953918625,
          -16.152158515564636
         ],
         "y": [
          -1.9515940780155847,
          -2.731496368032965
         ],
         "z": [
          3.960950764279104,
          4.05637302087214
         ]
        },
        {
         "hoverinfo": "skip",
         "line": {
          "color": "blue",
          "width": 1
         },
         "mode": "lines",
         "name": "C13-H132",
         "opacity": 0.2,
         "showlegend": true,
         "type": "scatter3d",
         "x": [
          -15.388036953918625,
          -14.486162045721084
         ],
         "y": [
          -1.9515940780155847,
          -2.4369573414747276
         ],
         "z": [
          3.960950764279104,
          3.575381519592809
         ]
        },
        {
         "hoverinfo": "skip",
         "line": {
          "color": "blue",
          "width": 1
         },
         "mode": "lines",
         "name": "C13-H133",
         "opacity": 0.2,
         "showlegend": true,
         "type": "scatter3d",
         "x": [
          -15.388036953918625,
          -15.746942148898938
         ],
         "y": [
          -1.9515940780155847,
          -1.2342472087474787
         ],
         "z": [
          3.960950764279104,
          3.2154671157881394
         ]
        },
        {
         "hoverinfo": "skip",
         "line": {
          "color": "blue",
          "width": 1
         },
         "mode": "lines",
         "name": "C2-C3",
         "opacity": 0.2,
         "showlegend": true,
         "type": "scatter3d",
         "x": [
          -12.574171964679396,
          -11.273599686148177
         ],
         "y": [
          -0.41129927036155767,
          -0.7041757972537233
         ],
         "z": [
          3.339808857910082,
          2.929516281433621
         ]
        },
        {
         "hoverinfo": "skip",
         "line": {
          "color": "blue",
          "width": 1
         },
         "mode": "lines",
         "name": "C2-H2",
         "opacity": 0.2,
         "showlegend": true,
         "type": "scatter3d",
         "x": [
          -12.574171964679396,
          -13.339057753534828
         ],
         "y": [
          -0.41129927036155767,
          -0.22771434966165804
         ],
         "z": [
          3.339808857910082,
          2.590922319842654
         ]
        },
        {
         "hoverinfo": "skip",
         "line": {
          "color": "blue",
          "width": 1
         },
         "mode": "lines",
         "name": "C6-C5",
         "opacity": 0.2,
         "showlegend": true,
         "type": "scatter3d",
         "x": [
          -11.882989678430018,
          -10.58231888988438
         ],
         "y": [
          -0.577388213050726,
          -0.8704070305140927
         ],
         "z": [
          5.648835484064808,
          5.238535895426891
         ]
        },
        {
         "hoverinfo": "skip",
         "line": {
          "color": "blue",
          "width": 1
         },
         "mode": "lines",
         "name": "C6-H6",
         "opacity": 0.2,
         "showlegend": true,
         "type": "scatter3d",
         "x": [
          -11.882989678430018,
          -12.106160675328919
         ],
         "y": [
          -0.577388213050726,
          -0.5248119106347682
         ],
         "z": [
          5.648835484064808,
          6.7104638882474665
         ]
        },
        {
         "hoverinfo": "skip",
         "line": {
          "color": "blue",
          "width": 1
         },
         "mode": "lines",
         "name": "C3-H3",
         "opacity": 0.2,
         "showlegend": true,
         "type": "scatter3d",
         "x": [
          -11.273599686148177,
          -11.056896159751954
         ],
         "y": [
          -0.7041757972537233,
          -0.7488906201704175
         ],
         "z": [
          2.929516281433621,
          1.8656453417708407
         ]
        },
        {
         "hoverinfo": "skip",
         "line": {
          "color": "blue",
          "width": 1
         },
         "mode": "lines",
         "name": "C5-H5",
         "opacity": 0.2,
         "showlegend": true,
         "type": "scatter3d",
         "x": [
          -10.58231888988438,
          -9.818207552487513
         ],
         "y": [
          -0.8704070305140927,
          -1.0451572725194063
         ],
         "z": [
          5.238535895426891,
          5.991218309849238
         ]
        },
        {
         "hoverinfo": "skip",
         "line": {
          "color": "blue",
          "width": 1
         },
         "mode": "lines",
         "name": "C9-H91",
         "opacity": 0.2,
         "showlegend": true,
         "type": "scatter3d",
         "x": [
          -8.24039507520126,
          -8.270392403922544
         ],
         "y": [
          -0.11920533137281719,
          0.8300234572241081
         ],
         "z": [
          2.6179501854324005,
          3.1639524722118573
         ]
        },
        {
         "hoverinfo": "skip",
         "line": {
          "color": "blue",
          "width": 1
         },
         "mode": "lines",
         "name": "C9-H92",
         "opacity": 0.2,
         "showlegend": true,
         "type": "scatter3d",
         "x": [
          -8.24039507520126,
          -7.192297531254461
         ],
         "y": [
          -0.11920533137281719,
          -0.3525310344269821
         ],
         "z": [
          2.6179501854324005,
          2.399494252423083
         ]
        },
        {
         "hoverinfo": "skip",
         "line": {
          "color": "blue",
          "width": 1
         },
         "mode": "lines",
         "name": "C9-H93",
         "opacity": 0.2,
         "showlegend": true,
         "type": "scatter3d",
         "x": [
          -8.24039507520126,
          -8.746346111932205
         ],
         "y": [
          -0.11920533137281719,
          0.02499355441724438
         ],
         "z": [
          2.6179501854324005,
          1.6568505601240824
         ]
        },
        {
         "hoverinfo": "skip",
         "line": {
          "color": "blue",
          "width": 1
         },
         "mode": "lines",
         "name": "N-CA",
         "opacity": 0.2,
         "showlegend": true,
         "type": "scatter3d",
         "x": [
          -7.797447847504305,
          -7.910637925239957
         ],
         "y": [
          -2.8114359941392117,
          -4.072917670480549
         ],
         "z": [
          2.346952637630781,
          1.6027826392048514
         ]
        },
        {
         "hoverinfo": "skip",
         "line": {
          "color": "blue",
          "width": 1
         },
         "mode": "lines",
         "name": "N-H2",
         "opacity": 0.2,
         "showlegend": true,
         "type": "scatter3d",
         "x": [
          -7.797447847504305,
          -7.501553286364256
         ],
         "y": [
          -2.8114359941392117,
          -2.1098710016004976
         ],
         "z": [
          2.346952637630781,
          1.6846272116263952
         ]
        },
        {
         "hoverinfo": "skip",
         "line": {
          "color": "blue",
          "width": 1
         },
         "mode": "lines",
         "name": "CA-C",
         "opacity": 0.2,
         "showlegend": true,
         "type": "scatter3d",
         "x": [
          -7.910637925239957,
          -7.401620575250513
         ],
         "y": [
          -4.072917670480549,
          -3.87408586271033
         ],
         "z": [
          1.6027826392048514,
          0.1986365465105948
         ]
        },
        {
         "hoverinfo": "skip",
         "line": {
          "color": "blue",
          "width": 1
         },
         "mode": "lines",
         "name": "CA-CB",
         "opacity": 0.2,
         "showlegend": true,
         "type": "scatter3d",
         "x": [
          -7.910637925239957,
          -7.0803388443709245
         ],
         "y": [
          -4.072917670480549,
          -5.151398517139866
         ],
         "z": [
          1.6027826392048514,
          2.2987959290902085
         ]
        },
        {
         "hoverinfo": "skip",
         "line": {
          "color": "blue",
          "width": 1
         },
         "mode": "lines",
         "name": "CA-HA",
         "opacity": 0.2,
         "showlegend": true,
         "type": "scatter3d",
         "x": [
          -7.910637925239957,
          -8.955039687540452
         ],
         "y": [
          -4.072917670480549,
          -4.382174859032153
         ],
         "z": [
          1.6027826392048514,
          1.570395138023335
         ]
        },
        {
         "hoverinfo": "skip",
         "line": {
          "color": "blue",
          "width": 1
         },
         "mode": "lines",
         "name": "C-O",
         "opacity": 0.2,
         "showlegend": true,
         "type": "scatter3d",
         "x": [
          -7.401620575250513,
          -6.535282343077171
         ],
         "y": [
          -3.87408586271033,
          -3.062949800116873
         ],
         "z": [
          0.1986365465105948,
          -0.020918356498085933
         ]
        },
        {
         "hoverinfo": "skip",
         "line": {
          "color": "blue",
          "width": 1
         },
         "mode": "lines",
         "name": "C-O",
         "opacity": 0.2,
         "showlegend": true,
         "type": "scatter3d",
         "x": [
          -7.401620575250513,
          -6.535282343077171
         ],
         "y": [
          -3.87408586271033,
          -3.062949800116873
         ],
         "z": [
          0.1986365465105948,
          -0.020918356498085933
         ]
        },
        {
         "hoverinfo": "skip",
         "line": {
          "color": "blue",
          "width": 1
         },
         "mode": "lines",
         "name": "C-OXT",
         "opacity": 0.2,
         "showlegend": true,
         "type": "scatter3d",
         "x": [
          -7.401620575250513,
          -7.912279862967839
         ],
         "y": [
          -3.87408586271033,
          -4.5995247313780645
         ],
         "z": [
          0.1986365465105948,
          -0.8081516833044482
         ]
        },
        {
         "hoverinfo": "skip",
         "line": {
          "color": "blue",
          "width": 1
         },
         "mode": "lines",
         "name": "CB-OG",
         "opacity": 0.2,
         "showlegend": true,
         "type": "scatter3d",
         "x": [
          -7.0803388443709245,
          -7.561974724877553
         ],
         "y": [
          -5.151398517139866,
          -5.339102559235572
         ],
         "z": [
          2.2987959290902085,
          3.630302996735566
         ]
        },
        {
         "hoverinfo": "skip",
         "line": {
          "color": "blue",
          "width": 1
         },
         "mode": "lines",
         "name": "CB-HB2",
         "opacity": 0.2,
         "showlegend": true,
         "type": "scatter3d",
         "x": [
          -7.0803388443709245,
          -6.035785152938276
         ],
         "y": [
          -5.151398517139866,
          -4.840908609702476
         ],
         "z": [
          2.2987959290902085,
          2.3305071746341026
         ]
        },
        {
         "hoverinfo": "skip",
         "line": {
          "color": "blue",
          "width": 1
         },
         "mode": "lines",
         "name": "CB-HB3",
         "opacity": 0.2,
         "showlegend": true,
         "type": "scatter3d",
         "x": [
          -7.0803388443709245,
          -7.164104408015172
         ],
         "y": [
          -5.151398517139866,
          -6.087148997139064
         ],
         "z": [
          2.2987959290902085,
          1.746868968769702
         ]
        },
        {
         "hoverinfo": "skip",
         "line": {
          "color": "blue",
          "width": 1
         },
         "mode": "lines",
         "name": "C7-N",
         "opacity": 0.2,
         "showlegend": true,
         "type": "scatter3d",
         "x": [
          -8.774409595430754,
          -7.797447847504305
         ],
         "y": [
          -2.549122982213159,
          -2.8114359941392117
         ],
         "z": [
          2.6505496074919526,
          2.346952637630781
         ]
        },
        {
         "hoverinfo": "skip",
         "line": {
          "color": "blue",
          "width": 1
         },
         "mode": "lines",
         "name": "O3-C3",
         "opacity": 0.2,
         "showlegend": true,
         "type": "scatter3d",
         "x": [
          -9.6359574975543,
          -10.9825203055419
         ],
         "y": [
          -7.911355477073163,
          -8.170058318225962
         ],
         "z": [
          4.257218081112532,
          4.656489986114634
         ]
        },
        {
         "hoverinfo": "skip",
         "line": {
          "color": "blue",
          "width": 1
         },
         "mode": "lines",
         "name": "O3-C1",
         "opacity": 0.2,
         "showlegend": true,
         "type": "scatter3d",
         "x": [
          -9.6359574975543,
          -9.291378565965983
         ],
         "y": [
          -7.911355477073163,
          -6.592190902139472
         ],
         "z": [
          4.257218081112532,
          4.161548733119216
         ]
        },
        {
         "hoverinfo": "skip",
         "line": {
          "color": "blue",
          "width": 1
         },
         "mode": "lines",
         "name": "O1-C1",
         "opacity": 0.2,
         "showlegend": true,
         "type": "scatter3d",
         "x": [
          -10.0262121101063,
          -9.291378565965983
         ],
         "y": [
          -5.639856761613109,
          -6.592190902139472
         ],
         "z": [
          4.384996729740571,
          4.161548733119216
         ]
        },
        {
         "hoverinfo": "skip",
         "line": {
          "color": "blue",
          "width": 1
         },
         "mode": "lines",
         "name": "C3-C4",
         "opacity": 0.2,
         "showlegend": true,
         "type": "scatter3d",
         "x": [
          -10.9825203055419,
          -11.923386790938833
         ],
         "y": [
          -8.170058318225962,
          -7.539605782729712
         ],
         "z": [
          4.656489986114634,
          3.630694583929982
         ]
        },
        {
         "hoverinfo": "skip",
         "line": {
          "color": "blue",
          "width": 1
         },
         "mode": "lines",
         "name": "C3-C5",
         "opacity": 0.2,
         "showlegend": true,
         "type": "scatter3d",
         "x": [
          -10.9825203055419,
          -11.16775427697074
         ],
         "y": [
          -8.170058318225962,
          -9.685371087521153
         ],
         "z": [
          4.656489986114634,
          4.695542733004566
         ]
        },
        {
         "hoverinfo": "skip",
         "line": {
          "color": "blue",
          "width": 1
         },
         "mode": "lines",
         "name": "C3-C6",
         "opacity": 0.2,
         "showlegend": true,
         "type": "scatter3d",
         "x": [
          -10.9825203055419,
          -11.203761487673752
         ],
         "y": [
          -8.170058318225962,
          -7.565713296060393
         ],
         "z": [
          4.656489986114634,
          6.042349897329542
         ]
        },
        {
         "hoverinfo": "skip",
         "line": {
          "color": "blue",
          "width": 1
         },
         "mode": "lines",
         "name": "C4-H41",
         "opacity": 0.2,
         "showlegend": true,
         "type": "scatter3d",
         "x": [
          -11.923386790938833,
          -12.02843390044054
         ],
         "y": [
          -7.539605782729712,
          -6.455228358084314
         ],
         "z": [
          3.630694583929982,
          3.71677214026579
         ]
        },
        {
         "hoverinfo": "skip",
         "line": {
          "color": "blue",
          "width": 1
         },
         "mode": "lines",
         "name": "C4-H42",
         "opacity": 0.2,
         "showlegend": true,
         "type": "scatter3d",
         "x": [
          -11.923386790938833,
          -11.589057652167254
         ],
         "y": [
          -7.539605782729712,
          -7.752050106358319
         ],
         "z": [
          3.630694583929982,
          2.608369769437918
         ]
        },
        {
         "hoverinfo": "skip",
         "line": {
          "color": "blue",
          "width": 1
         },
         "mode": "lines",
         "name": "C4-H43",
         "opacity": 0.2,
         "showlegend": true,
         "type": "scatter3d",
         "x": [
          -11.923386790938833,
          -12.93668851338419
         ],
         "y": [
          -7.539605782729712,
          -7.943520579311252
         ],
         "z": [
          3.630694583929982,
          3.7426897462887476
         ]
        },
        {
         "hoverinfo": "skip",
         "line": {
          "color": "blue",
          "width": 1
         },
         "mode": "lines",
         "name": "C5-H51",
         "opacity": 0.2,
         "showlegend": true,
         "type": "scatter3d",
         "x": [
          -11.16775427697074,
          -10.46024764888448
         ],
         "y": [
          -9.685371087521153,
          -10.145308840128619
         ],
         "z": [
          4.695542733004566,
          5.39496223869511
         ]
        },
        {
         "hoverinfo": "skip",
         "line": {
          "color": "blue",
          "width": 1
         },
         "mode": "lines",
         "name": "C5-H52",
         "opacity": 0.2,
         "showlegend": true,
         "type": "scatter3d",
         "x": [
          -11.16775427697074,
          -10.963351303942476
         ],
         "y": [
          -9.685371087521153,
          -10.127136526496239
         ],
         "z": [
          4.695542733004566,
          3.7133581416245374
         ]
        },
        {
         "hoverinfo": "skip",
         "line": {
          "color": "blue",
          "width": 1
         },
         "mode": "lines",
         "name": "C5-H53",
         "opacity": 0.2,
         "showlegend": true,
         "type": "scatter3d",
         "x": [
          -11.16775427697074,
          -12.182765625344633
         ],
         "y": [
          -9.685371087521153,
          -9.964728570062977
         ],
         "z": [
          4.695542733004566,
          4.996231092639747
         ]
        },
        {
         "hoverinfo": "skip",
         "line": {
          "color": "blue",
          "width": 1
         },
         "mode": "lines",
         "name": "C6-H61",
         "opacity": 0.2,
         "showlegend": true,
         "type": "scatter3d",
         "x": [
          -11.203761487673752,
          -11.314895330948833
         ],
         "y": [
          -7.565713296060393,
          -6.478628029934305
         ],
         "z": [
          6.042349897329542,
          6.0513244753409845
         ]
        },
        {
         "hoverinfo": "skip",
         "line": {
          "color": "blue",
          "width": 1
         },
         "mode": "lines",
         "name": "C6-H62",
         "opacity": 0.2,
         "showlegend": true,
         "type": "scatter3d",
         "x": [
          -11.203761487673752,
          -12.123165447459636
         ],
         "y": [
          -7.565713296060393,
          -7.9616756105006505
         ],
         "z": [
          6.042349897329542,
          6.490053665767057
         ]
        },
        {
         "hoverinfo": "skip",
         "line": {
          "color": "blue",
          "width": 1
         },
         "mode": "lines",
         "name": "C6-H63",
         "opacity": 0.2,
         "showlegend": true,
         "type": "scatter3d",
         "x": [
          -11.203761487673752,
          -10.37176415647761
         ],
         "y": [
          -7.565713296060393,
          -7.809738950399636
         ],
         "z": [
          6.042349897329542,
          6.713240984546236
         ]
        },
        {
         "hoverinfo": "skip",
         "line": {
          "color": "blue",
          "width": 1
         },
         "mode": "lines",
         "name": "C1-C2",
         "opacity": 0.2,
         "showlegend": true,
         "type": "scatter3d",
         "x": [
          -9.291378565965983,
          -7.851287008986475
         ],
         "y": [
          -6.592190902139472,
          -6.489160685656576
         ],
         "z": [
          4.161548733119216,
          3.7328933797083113
         ]
        },
        {
         "hoverinfo": "skip",
         "line": {
          "color": "blue",
          "width": 1
         },
         "mode": "lines",
         "name": "C2-H21",
         "opacity": 0.2,
         "showlegend": true,
         "type": "scatter3d",
         "x": [
          -7.851287008986475,
          -7.72529261328974
         ],
         "y": [
          -6.489160685656576,
          -6.964878936970303
         ],
         "z": [
          3.7328933797083113,
          2.757035045922089
         ]
        },
        {
         "hoverinfo": "skip",
         "line": {
          "color": "blue",
          "width": 1
         },
         "mode": "lines",
         "name": "C2-H22",
         "opacity": 0.2,
         "showlegend": true,
         "type": "scatter3d",
         "x": [
          -7.851287008986475,
          -7.199994115181854
         ],
         "y": [
          -6.489160685656576,
          -6.958377845429494
         ],
         "z": [
          3.7328933797083113,
          4.474969874049854
         ]
        },
        {
         "hoverinfo": "skip",
         "line": {
          "color": "blue",
          "width": 1
         },
         "mode": "lines",
         "name": "OG-C2",
         "opacity": 0.2,
         "showlegend": true,
         "type": "scatter3d",
         "x": [
          -7.561974724877553,
          -7.851287008986475
         ],
         "y": [
          -5.339102559235572,
          -6.489160685656576
         ],
         "z": [
          3.630302996735566,
          3.7328933797083113
         ]
        },
        {
         "hoverinfo": "skip",
         "line": {
          "color": "blue",
          "width": 1
         },
         "mode": "lines",
         "name": "OG-CB",
         "opacity": 0.2,
         "showlegend": true,
         "type": "scatter3d",
         "x": [
          -7.561974724877553,
          -7.0803388443709245
         ],
         "y": [
          -5.339102559235572,
          -5.151398517139866
         ],
         "z": [
          3.630302996735566,
          2.2987959290902085
         ]
        },
        {
         "hoverinfo": "skip",
         "line": {
          "color": "blue",
          "width": 1
         },
         "mode": "lines",
         "name": "N20-N20",
         "opacity": 0.2,
         "showlegend": true,
         "type": "scatter3d",
         "x": [
          -7.585027967944738,
          -7.555417168438872
         ],
         "y": [
          -8.667434418444973,
          -8.089792030096731
         ],
         "z": [
          -1.3901014151175421,
          -2.6021550161335845
         ]
        },
        {
         "hoverinfo": "skip",
         "line": {
          "color": "blue",
          "width": 1
         },
         "mode": "lines",
         "name": "N20-C3",
         "opacity": 0.2,
         "showlegend": true,
         "type": "scatter3d",
         "x": [
          -7.585027967944738,
          -7.22390332728407
         ],
         "y": [
          -8.667434418444973,
          -10.052370446420937
         ],
         "z": [
          -1.3901014151175421,
          -1.2253844386947965
         ]
        },
        {
         "hoverinfo": "skip",
         "line": {
          "color": "blue",
          "width": 1
         },
         "mode": "lines",
         "name": "N20-C2",
         "opacity": 0.2,
         "showlegend": true,
         "type": "scatter3d",
         "x": [
          -7.585027967944738,
          -7.97702402929942
         ],
         "y": [
          -8.667434418444973,
          -7.790460939917455
         ],
         "z": [
          -1.3901014151175421,
          -0.42589926523310995
         ]
        },
        {
         "hoverinfo": "skip",
         "line": {
          "color": "blue",
          "width": 1
         },
         "mode": "lines",
         "name": "N20-N20",
         "opacity": 0.2,
         "showlegend": true,
         "type": "scatter3d",
         "x": [
          -7.555417168438872,
          -7.928544021091492
         ],
         "y": [
          -8.089792030096731,
          -6.824488397442531
         ],
         "z": [
          -2.6021550161335845,
          -2.4453339747468106
         ]
        },
        {
         "hoverinfo": "skip",
         "line": {
          "color": "blue",
          "width": 1
         },
         "mode": "lines",
         "name": "N20-C1",
         "opacity": 0.2,
         "showlegend": true,
         "type": "scatter3d",
         "x": [
          -7.928544021091492,
          -8.190281729888644
         ],
         "y": [
          -6.824488397442531,
          -6.625007293449579
         ],
         "z": [
          -2.4453339747468106,
          -1.1182730451194756
         ]
        },
        {
         "hoverinfo": "skip",
         "line": {
          "color": "blue",
          "width": 1
         },
         "mode": "lines",
         "name": "C3-C4",
         "opacity": 0.2,
         "showlegend": true,
         "type": "scatter3d",
         "x": [
          -7.22390332728407,
          -8.338716133032635
         ],
         "y": [
          -10.052370446420937,
          -10.985121763393968
         ],
         "z": [
          -1.2253844386947965,
          -1.6733043297736643
         ]
        },
        {
         "hoverinfo": "skip",
         "line": {
          "color": "blue",
          "width": 1
         },
         "mode": "lines",
         "name": "C3-H31",
         "opacity": 0.2,
         "showlegend": true,
         "type": "scatter3d",
         "x": [
          -7.22390332728407,
          -6.989730415582303
         ],
         "y": [
          -10.052370446420937,
          -10.22030168818701
         ],
         "z": [
          -1.2253844386947965,
          -0.1685972863012677
         ]
        },
        {
         "hoverinfo": "skip",
         "line": {
          "color": "blue",
          "width": 1
         },
         "mode": "lines",
         "name": "C3-H32",
         "opacity": 0.2,
         "showlegend": true,
         "type": "scatter3d",
         "x": [
          -7.22390332728407,
          -6.311581191703285
         ],
         "y": [
          -10.052370446420937,
          -10.23095598248808
         ],
         "z": [
          -1.2253844386947965,
          -1.8047383609538281
         ]
        },
        {
         "hoverinfo": "skip",
         "line": {
          "color": "blue",
          "width": 1
         },
         "mode": "lines",
         "name": "C2-C1",
         "opacity": 0.2,
         "showlegend": true,
         "type": "scatter3d",
         "x": [
          -7.97702402929942,
          -8.190281729888644
         ],
         "y": [
          -7.790460939917455,
          -6.625007293449579
         ],
         "z": [
          -0.42589926523310995,
          -1.1182730451194756
         ]
        },
        {
         "hoverinfo": "skip",
         "line": {
          "color": "blue",
          "width": 1
         },
         "mode": "lines",
         "name": "C2-H2",
         "opacity": 0.2,
         "showlegend": true,
         "type": "scatter3d",
         "x": [
          -7.97702402929942,
          -8.06615066381493
         ],
         "y": [
          -7.790460939917455,
          -8.05781308659142
         ],
         "z": [
          -0.42589926523310995,
          0.6175834862720411
         ]
        },
        {
         "hoverinfo": "skip",
         "line": {
          "color": "blue",
          "width": 1
         },
         "mode": "lines",
         "name": "C1-C5",
         "opacity": 0.2,
         "showlegend": true,
         "type": "scatter3d",
         "x": [
          -8.190281729888644,
          -8.627746472846772
         ],
         "y": [
          -6.625007293449579,
          -5.316348821982107
         ],
         "z": [
          -1.1182730451194756,
          -0.6159292348411101
         ]
        },
        {
         "hoverinfo": "skip",
         "line": {
          "color": "blue",
          "width": 1
         },
         "mode": "lines",
         "name": "C4-H41",
         "opacity": 0.2,
         "showlegend": true,
         "type": "scatter3d",
         "x": [
          -8.338716133032635,
          -9.255950118015058
         ],
         "y": [
          -10.985121763393968,
          -10.804695376712031
         ],
         "z": [
          -1.6733043297736643,
          -1.1027881110890716
         ]
        },
        {
         "hoverinfo": "skip",
         "line": {
          "color": "blue",
          "width": 1
         },
         "mode": "lines",
         "name": "C4-H42",
         "opacity": 0.2,
         "showlegend": true,
         "type": "scatter3d",
         "x": [
          -8.338716133032635,
          -8.042648796821204
         ],
         "y": [
          -10.985121763393968,
          -12.028201326814138
         ],
         "z": [
          -1.6733043297736643,
          -1.5248813638827814
         ]
        },
        {
         "hoverinfo": "skip",
         "line": {
          "color": "blue",
          "width": 1
         },
         "mode": "lines",
         "name": "C5-H52",
         "opacity": 0.2,
         "showlegend": true,
         "type": "scatter3d",
         "x": [
          -8.627746472846772,
          -9.558571645060963
         ],
         "y": [
          -5.316348821982107,
          -5.011172965299175
         ],
         "z": [
          -0.6159292348411101,
          -1.1041334085945294
         ]
        },
        {
         "hoverinfo": "skip",
         "line": {
          "color": "blue",
          "width": 1
         },
         "mode": "lines",
         "name": "C5-H53",
         "opacity": 0.2,
         "showlegend": true,
         "type": "scatter3d",
         "x": [
          -8.627746472846772,
          -8.803460139289863
         ],
         "y": [
          -5.316348821982107,
          -5.338913584548604
         ],
         "z": [
          -0.6159292348411101,
          0.4642485092896642
         ]
        },
        {
         "hoverinfo": "skip",
         "line": {
          "color": "blue",
          "width": 1
         },
         "mode": "lines",
         "name": "OXT-C5",
         "opacity": 0.2,
         "showlegend": true,
         "type": "scatter3d",
         "x": [
          -7.912279862967839,
          -8.627746472846772
         ],
         "y": [
          -4.5995247313780645,
          -5.316348821982107
         ],
         "z": [
          -0.8081516833044482,
          -0.6159292348411101
         ]
        },
        {
         "hoverinfo": "skip",
         "line": {
          "color": "blue",
          "width": 1
         },
         "mode": "lines",
         "name": "OXT-C",
         "opacity": 0.2,
         "showlegend": true,
         "type": "scatter3d",
         "x": [
          -7.912279862967839,
          -7.401620575250513
         ],
         "y": [
          -4.5995247313780645,
          -3.87408586271033
         ],
         "z": [
          -0.8081516833044482,
          0.1986365465105948
         ]
        },
        {
         "hoverinfo": "skip",
         "line": {
          "color": "blue",
          "width": 1
         },
         "mode": "lines",
         "name": "N12-C4",
         "opacity": 0.2,
         "showlegend": true,
         "type": "scatter3d",
         "x": [
          -8.563144283918689,
          -8.338716133032635
         ],
         "y": [
          -10.849943915593947,
          -10.985121763393968
         ],
         "z": [
          -2.6951395182493227,
          -1.6733043297736643
         ]
        },
        {
         "hoverinfo": "skip",
         "line": {
          "color": "blue",
          "width": 1
         },
         "mode": "lines",
         "name": "Cl4-C4",
         "opacity": 0.2,
         "showlegend": true,
         "type": "scatter3d",
         "x": [
          -7.712501857764874,
          -8.637681227390821
         ],
         "y": [
          -14.568894294687201,
          -13.576807631435347
         ],
         "z": [
          -6.1478206150349255,
          -7.219499049368814
         ]
        },
        {
         "hoverinfo": "skip",
         "line": {
          "color": "blue",
          "width": 1
         },
         "mode": "lines",
         "name": "C2-C1",
         "opacity": 0.2,
         "showlegend": true,
         "type": "scatter3d",
         "x": [
          -9.04391079485087,
          -10.073968975869896
         ],
         "y": [
          -12.83801756219379,
          -12.014040224181683
         ],
         "z": [
          -9.483514683615025,
          -9.029838477319984
         ]
        },
        {
         "hoverinfo": "skip",
         "line": {
          "color": "blue",
          "width": 1
         },
         "mode": "lines",
         "name": "C2-C3",
         "opacity": 0.2,
         "showlegend": true,
         "type": "scatter3d",
         "x": [
          -9.04391079485087,
          -8.325707318699443
         ],
         "y": [
          -12.83801756219379,
          -13.61937664870807
         ],
         "z": [
          -9.483514683615025,
          -8.57840277629882
         ]
        },
        {
         "hoverinfo": "skip",
         "line": {
          "color": "blue",
          "width": 1
         },
         "mode": "lines",
         "name": "C2-C7",
         "opacity": 0.2,
         "showlegend": true,
         "type": "scatter3d",
         "x": [
          -9.04391079485087,
          -8.679531370671668
         ],
         "y": [
          -12.83801756219379,
          -12.912748675346968
         ],
         "z": [
          -9.483514683615025,
          -10.931132566884541
         ]
        },
        {
         "hoverinfo": "skip",
         "line": {
          "color": "blue",
          "width": 1
         },
         "mode": "lines",
         "name": "C1-C6",
         "opacity": 0.2,
         "showlegend": true,
         "type": "scatter3d",
         "x": [
          -10.073968975869896,
          -10.38594288456127
         ],
         "y": [
          -12.014040224181683,
          -11.97147120690896
         ],
         "z": [
          -9.029838477319984,
          -7.67093475038998
         ]
        },
        {
         "hoverinfo": "skip",
         "line": {
          "color": "blue",
          "width": 1
         },
         "mode": "lines",
         "name": "C3-C4",
         "opacity": 0.2,
         "showlegend": true,
         "type": "scatter3d",
         "x": [
          -8.325707318699443,
          -8.637681227390821
         ],
         "y": [
          -13.61937664870807,
          -13.576807631435347
         ],
         "z": [
          -8.57840277629882,
          -7.219499049368814
         ]
        },
        {
         "hoverinfo": "skip",
         "line": {
          "color": "blue",
          "width": 1
         },
         "mode": "lines",
         "name": "C3-H3",
         "opacity": 0.2,
         "showlegend": true,
         "type": "scatter3d",
         "x": [
          -8.325707318699443,
          -7.522282294748308
         ],
         "y": [
          -13.61937664870807,
          -14.262462372802034
         ],
         "z": [
          -8.57840277629882,
          -8.931134561591358
         ]
        },
        {
         "hoverinfo": "skip",
         "line": {
          "color": "blue",
          "width": 1
         },
         "mode": "lines",
         "name": "C7-H71",
         "opacity": 0.2,
         "showlegend": true,
         "type": "scatter3d",
         "x": [
          -8.679531370671668,
          -8.362535362411492
         ],
         "y": [
          -12.912748675346968,
          -11.931426517609252
         ],
         "z": [
          -10.931132566884541,
          -11.299154418790252
         ]
        },
        {
         "hoverinfo": "skip",
         "line": {
          "color": "blue",
          "width": 1
         },
         "mode": "lines",
         "name": "C7-H72",
         "opacity": 0.2,
         "showlegend": true,
         "type": "scatter3d",
         "x": [
          -8.679531370671668,
          -7.850433489664802
         ],
         "y": [
          -12.912748675346968,
          -13.60642762102089
         ],
         "z": [
          -10.931132566884541,
          -11.108976329886366
         ]
        },
        {
         "hoverinfo": "skip",
         "line": {
          "color": "blue",
          "width": 1
         },
         "mode": "lines",
         "name": "C7-H73",
         "opacity": 0.2,
         "showlegend": true,
         "type": "scatter3d",
         "x": [
          -8.679531370671668,
          -9.529227082735893
         ],
         "y": [
          -12.912748675346968,
          -13.268002927099591
         ],
         "z": [
          -10.931132566884541,
          -11.52369098890835
         ]
        },
        {
         "hoverinfo": "skip",
         "line": {
          "color": "blue",
          "width": 1
         },
         "mode": "lines",
         "name": "C4-C5",
         "opacity": 0.2,
         "showlegend": true,
         "type": "scatter3d",
         "x": [
          -8.637681227390821,
          -9.66772008240904
         ],
         "y": [
          -13.576807631435347,
          -12.752862867867698
         ],
         "z": [
          -7.219499049368814,
          -6.765730293566691
         ]
        },
        {
         "hoverinfo": "skip",
         "line": {
          "color": "blue",
          "width": 1
         },
         "mode": "lines",
         "name": "C6-C5",
         "opacity": 0.2,
         "showlegend": true,
         "type": "scatter3d",
         "x": [
          -10.38594288456127,
          -9.66772008240904
         ],
         "y": [
          -11.97147120690896,
          -12.752862867867698
         ],
         "z": [
          -7.67093475038998,
          -6.765730293566691
         ]
        },
        {
         "hoverinfo": "skip",
         "line": {
          "color": "blue",
          "width": 1
         },
         "mode": "lines",
         "name": "C6-H6",
         "opacity": 0.2,
         "showlegend": true,
         "type": "scatter3d",
         "x": [
          -10.38594288456127,
          -11.18984147598858
         ],
         "y": [
          -11.97147120690896,
          -11.328337738823581
         ],
         "z": [
          -7.67093475038998,
          -7.318411422183658
         ]
        },
        {
         "hoverinfo": "skip",
         "line": {
          "color": "blue",
          "width": 1
         },
         "mode": "lines",
         "name": "O2-C5",
         "opacity": 0.2,
         "showlegend": true,
         "type": "scatter3d",
         "x": [
          -10.0062335741638,
          -9.66772008240904
         ],
         "y": [
          -12.677875303382494,
          -12.752862867867698
         ],
         "z": [
          -5.460219537329659,
          -6.765730293566691
         ]
        },
        {
         "hoverinfo": "skip",
         "line": {
          "color": "blue",
          "width": 1
         },
         "mode": "lines",
         "name": "O7-C7",
         "opacity": 0.2,
         "showlegend": true,
         "type": "scatter3d",
         "x": [
          -19.08562849437173,
          -20.31271167997146
         ],
         "y": [
          -18.609036120673295,
          -18.617286258375444
         ],
         "z": [
          -6.665005802102963,
          -6.678559430632436
         ]
        },
        {
         "hoverinfo": "skip",
         "line": {
          "color": "blue",
          "width": 1
         },
         "mode": "lines",
         "name": "C10-C11",
         "opacity": 0.2,
         "showlegend": true,
         "type": "scatter3d",
         "x": [
          -16.692814696884852,
          -18.081656876729546
         ],
         "y": [
          -23.3145083192833,
          -23.787038095200813
         ],
         "z": [
          -2.8890644507755034,
          -3.361610819246991
         ]
        },
        {
         "hoverinfo": "skip",
         "line": {
          "color": "blue",
          "width": 1
         },
         "mode": "lines",
         "name": "C10-C12",
         "opacity": 0.2,
         "showlegend": true,
         "type": "scatter3d",
         "x": [
          -16.692814696884852,
          -16.784411440604156
         ],
         "y": [
          -23.3145083192833,
          -22.098512753557813
         ],
         "z": [
          -2.8890644507755034,
          -1.9636817620050948
         ]
        },
        {
         "hoverinfo": "skip",
         "line": {
          "color": "blue",
          "width": 1
         },
         "mode": "lines",
         "name": "C10-C13",
         "opacity": 0.2,
         "showlegend": true,
         "type": "scatter3d",
         "x": [
          -16.692814696884852,
          -15.82100741388733
         ],
         "y": [
          -23.3145083192833,
          -22.97537420285928
         ],
         "z": [
          -2.8890644507755034,
          -4.100591030091763
         ]
        },
        {
         "hoverinfo": "skip",
         "line": {
          "color": "blue",
          "width": 1
         },
         "mode": "lines",
         "name": "C10-H10",
         "opacity": 0.2,
         "showlegend": true,
         "type": "scatter3d",
         "x": [
          -16.692814696884852,
          -16.22250330507732
         ],
         "y": [
          -23.3145083192833,
          -24.140472880001184
         ],
         "z": [
          -2.8890644507755034,
          -2.3413313869805705
         ]
        },
        {
         "hoverinfo": "skip",
         "line": {
          "color": "blue",
          "width": 1
         },
         "mode": "lines",
         "name": "C11-C1",
         "opacity": 0.2,
         "showlegend": true,
         "type": "scatter3d",
         "x": [
          -18.081656876729546,
          -18.88828120823286
         ],
         "y": [
          -23.787038095200813,
          -22.715065392179
         ],
         "z": [
          -3.361610819246991,
          -4.053098571707542
         ]
        },
        {
         "hoverinfo": "skip",
         "line": {
          "color": "blue",
          "width": 1
         },
         "mode": "lines",
         "name": "C11-H111",
         "opacity": 0.2,
         "showlegend": true,
         "type": "scatter3d",
         "x": [
          -18.081656876729546,
          -17.97595285534633
         ],
         "y": [
          -23.787038095200813,
          -24.654473687315473
         ],
         "z": [
          -3.361610819246991,
          -4.02686250349597
         ]
        },
        {
         "hoverinfo": "skip",
         "line": {
          "color": "blue",
          "width": 1
         },
         "mode": "lines",
         "name": "C11-H112",
         "opacity": 0.2,
         "showlegend": true,
         "type": "scatter3d",
         "x": [
          -18.081656876729546,
          -18.64841598235395
         ],
         "y": [
          -23.787038095200813,
          -24.15833870085178
         ],
         "z": [
          -3.361610819246991,
          -2.4969611870635013
         ]
        },
        {
         "hoverinfo": "skip",
         "line": {
          "color": "blue",
          "width": 1
         },
         "mode": "lines",
         "name": "C1-C2",
         "opacity": 0.2,
         "showlegend": true,
         "type": "scatter3d",
         "x": [
          -18.88828120823286,
          -18.77874958601581
         ],
         "y": [
          -22.715065392179,
          -22.562164363718495
         ],
         "z": [
          -4.053098571707542,
          -5.426177848089722
         ]
        },
        {
         "hoverinfo": "skip",
         "line": {
          "color": "blue",
          "width": 1
         },
         "mode": "lines",
         "name": "C1-C6",
         "opacity": 0.2,
         "showlegend": true,
         "type": "scatter3d",
         "x": [
          -18.88828120823286,
          -19.724521520598636
         ],
         "y": [
          -22.715065392179,
          -21.90350227764828
         ],
         "z": [
          -4.053098571707542,
          -3.3028309253921933
         ]
        },
        {
         "hoverinfo": "skip",
         "line": {
          "color": "blue",
          "width": 1
         },
         "mode": "lines",
         "name": "C4-C8",
         "opacity": 0.2,
         "showlegend": true,
         "type": "scatter3d",
         "x": [
          -20.370670934208814,
          -21.168501389380772
         ],
         "y": [
          -20.74754360974923,
          -19.688780954235057
         ],
         "z": [
          -5.323499951581358,
          -6.006789388122467
         ]
        },
        {
         "hoverinfo": "skip",
         "line": {
          "color": "blue",
          "width": 1
         },
         "mode": "lines",
         "name": "C4-C3",
         "opacity": 0.2,
         "showlegend": true,
         "type": "scatter3d",
         "x": [
          -20.370670934208814,
          -19.524849446808137
         ],
         "y": [
          -20.74754360974923,
          -21.572122713970558
         ],
         "z": [
          -5.323499951581358,
          -6.065519258832101
         ]
        },
        {
         "hoverinfo": "skip",
         "line": {
          "color": "blue",
          "width": 1
         },
         "mode": "lines",
         "name": "C4-C5",
         "opacity": 0.2,
         "showlegend": true,
         "type": "scatter3d",
         "x": [
          -20.370670934208814,
          -20.470612193032146
         ],
         "y": [
          -20.74754360974923,
          -20.913288219495605
         ],
         "z": [
          -5.323499951581358,
          -3.9421861533715425
         ]
        },
        {
         "hoverinfo": "skip",
         "line": {
          "color": "blue",
          "width": 1
         },
         "mode": "lines",
         "name": "C8-C9",
         "opacity": 0.2,
         "showlegend": true,
         "type": "scatter3d",
         "x": [
          -21.168501389380772,
          -22.156215865655223
         ],
         "y": [
          -19.688780954235057,
          -20.247450710447445
         ],
         "z": [
          -6.006789388122467,
          -7.045697274728145
         ]
        },
        {
         "hoverinfo": "skip",
         "line": {
          "color": "blue",
          "width": 1
         },
         "mode": "lines",
         "name": "C8-C7",
         "opacity": 0.2,
         "showlegend": true,
         "type": "scatter3d",
         "x": [
          -21.168501389380772,
          -20.31271167997146
         ],
         "y": [
          -19.688780954235057,
          -18.617286258375444
         ],
         "z": [
          -6.006789388122467,
          -6.678559430632436
         ]
        },
        {
         "hoverinfo": "skip",
         "line": {
          "color": "blue",
          "width": 1
         },
         "mode": "lines",
         "name": "C8-H8",
         "opacity": 0.2,
         "showlegend": true,
         "type": "scatter3d",
         "x": [
          -21.168501389380772,
          -21.762526518045096
         ],
         "y": [
          -19.688780954235057,
          -19.14517821460104
         ],
         "z": [
          -6.006789388122467,
          -5.259638193264479
         ]
        },
        {
         "hoverinfo": "skip",
         "line": {
          "color": "blue",
          "width": 1
         },
         "mode": "lines",
         "name": "C12-H121",
         "opacity": 0.2,
         "showlegend": true,
         "type": "scatter3d",
         "x": [
          -16.784411440604156,
          -17.110637783660827
         ],
         "y": [
          -22.098512753557813,
          -21.19367426942849
         ],
         "z": [
          -1.9636817620050948,
          -2.4859081025265457
         ]
        },
        {
         "hoverinfo": "skip",
         "line": {
          "color": "blue",
          "width": 1
         },
         "mode": "lines",
         "name": "C12-H122",
         "opacity": 0.2,
         "showlegend": true,
         "type": "scatter3d",
         "x": [
          -16.784411440604156,
          -17.46746195421744
         ],
         "y": [
          -22.098512753557813,
          -22.29062300696139
         ],
         "z": [
          -1.9636817620050948,
          -1.1297621817158188
         ]
        },
        {
         "hoverinfo": "skip",
         "line": {
          "color": "blue",
          "width": 1
         },
         "mode": "lines",
         "name": "C12-H123",
         "opacity": 0.2,
         "showlegend": true,
         "type": "scatter3d",
         "x": [
          -16.784411440604156,
          -15.799211265012262
         ],
         "y": [
          -22.098512753557813,
          -21.8812080367367
         ],
         "z": [
          -1.9636817620050948,
          -1.535410009421529
         ]
        },
        {
         "hoverinfo": "skip",
         "line": {
          "color": "blue",
          "width": 1
         },
         "mode": "lines",
         "name": "C13-H131",
         "opacity": 0.2,
         "showlegend": true,
         "type": "scatter3d",
         "x": [
          -15.82100741388733,
          -14.787973680805607
         ],
         "y": [
          -22.97537420285928,
          -22.801425948245438
         ],
         "z": [
          -4.100591030091763,
          -3.7783829280334214
         ]
        },
        {
         "hoverinfo": "skip",
         "line": {
          "color": "blue",
          "width": 1
         },
         "mode": "lines",
         "name": "C13-H132",
         "opacity": 0.2,
         "showlegend": true,
         "type": "scatter3d",
         "x": [
          -15.82100741388733,
          -16.149338466552148
         ],
         "y": [
          -22.97537420285928,
          -22.067628264330942
         ],
         "z": [
          -4.100591030091763,
          -4.616164032625184
         ]
        },
        {
         "hoverinfo": "skip",
         "line": {
          "color": "blue",
          "width": 1
         },
         "mode": "lines",
         "name": "C13-H133",
         "opacity": 0.2,
         "showlegend": true,
         "type": "scatter3d",
         "x": [
          -15.82100741388733,
          -15.802597890544801
         ],
         "y": [
          -22.97537420285928,
          -23.80079136721072
         ],
         "z": [
          -4.100591030091763,
          -4.819960847532233
         ]
        },
        {
         "hoverinfo": "skip",
         "line": {
          "color": "blue",
          "width": 1
         },
         "mode": "lines",
         "name": "C2-C3",
         "opacity": 0.2,
         "showlegend": true,
         "type": "scatter3d",
         "x": [
          -18.77874958601581,
          -19.524849446808137
         ],
         "y": [
          -22.562164363718495,
          -21.572122713970558
         ],
         "z": [
          -5.426177848089722,
          -6.065519258832101
         ]
        },
        {
         "hoverinfo": "skip",
         "line": {
          "color": "blue",
          "width": 1
         },
         "mode": "lines",
         "name": "C2-H2",
         "opacity": 0.2,
         "showlegend": true,
         "type": "scatter3d",
         "x": [
          -18.77874958601581,
          -18.12902418004145
         ],
         "y": [
          -22.562164363718495,
          -23.202151957660462
         ],
         "z": [
          -5.426177848089722,
          -6.0159723177415145
         ]
        },
        {
         "hoverinfo": "skip",
         "line": {
          "color": "blue",
          "width": 1
         },
         "mode": "lines",
         "name": "C6-C5",
         "opacity": 0.2,
         "showlegend": true,
         "type": "scatter3d",
         "x": [
          -19.724521520598636,
          -20.470612193032146
         ],
         "y": [
          -21.90350227764828,
          -20.913288219495605
         ],
         "z": [
          -3.3028309253921933,
          -3.9421861533715425
         ]
        },
        {
         "hoverinfo": "skip",
         "line": {
          "color": "blue",
          "width": 1
         },
         "mode": "lines",
         "name": "C6-H6",
         "opacity": 0.2,
         "showlegend": true,
         "type": "scatter3d",
         "x": [
          -19.724521520598636,
          -19.815730230214054
         ],
         "y": [
          -21.90350227764828,
          -22.026552825058616
         ],
         "z": [
          -3.3028309253921933,
          -2.2275802736498633
         ]
        },
        {
         "hoverinfo": "skip",
         "line": {
          "color": "blue",
          "width": 1
         },
         "mode": "lines",
         "name": "C3-H3",
         "opacity": 0.2,
         "showlegend": true,
         "type": "scatter3d",
         "x": [
          -19.524849446808137,
          -19.432774954459585
         ],
         "y": [
          -21.572122713970558,
          -21.459337949396726
         ],
         "z": [
          -6.065519258832101,
          -7.142358659457269
         ]
        },
        {
         "hoverinfo": "skip",
         "line": {
          "color": "blue",
          "width": 1
         },
         "mode": "lines",
         "name": "C5-H5",
         "opacity": 0.2,
         "showlegend": true,
         "type": "scatter3d",
         "x": [
          -20.470612193032146,
          -21.125792631068215
         ],
         "y": [
          -20.913288219495605,
          -20.280654823740456
         ],
         "z": [
          -3.9421861533715425,
          -3.34935550285644
         ]
        },
        {
         "hoverinfo": "skip",
         "line": {
          "color": "blue",
          "width": 1
         },
         "mode": "lines",
         "name": "C9-H91",
         "opacity": 0.2,
         "showlegend": true,
         "type": "scatter3d",
         "x": [
          -22.156215865655223,
          -22.813988803251448
         ],
         "y": [
          -20.247450710447445,
          -20.999093904790236
         ],
         "z": [
          -7.045697274728145,
          -6.595785171129913
         ]
        },
        {
         "hoverinfo": "skip",
         "line": {
          "color": "blue",
          "width": 1
         },
         "mode": "lines",
         "name": "C9-H92",
         "opacity": 0.2,
         "showlegend": true,
         "type": "scatter3d",
         "x": [
          -22.156215865655223,
          -22.783730022022752
         ],
         "y": [
          -20.247450710447445,
          -19.446250597866012
         ],
         "z": [
          -7.045697274728145,
          -7.451870517517291
         ]
        },
        {
         "hoverinfo": "skip",
         "line": {
          "color": "blue",
          "width": 1
         },
         "mode": "lines",
         "name": "C9-H93",
         "opacity": 0.2,
         "showlegend": true,
         "type": "scatter3d",
         "x": [
          -22.156215865655223,
          -21.63752975445894
         ],
         "y": [
          -20.247450710447445,
          -20.711902904577585
         ],
         "z": [
          -7.045697274728145,
          -7.891712131228772
         ]
        },
        {
         "hoverinfo": "skip",
         "line": {
          "color": "blue",
          "width": 1
         },
         "mode": "lines",
         "name": "N-CA",
         "opacity": 0.2,
         "showlegend": true,
         "type": "scatter3d",
         "x": [
          -20.849170245930917,
          -19.852153747107835
         ],
         "y": [
          -17.839460442893454,
          -16.93273898927673
         ],
         "z": [
          -7.150399129073133,
          -7.73499412274459
         ]
        },
        {
         "hoverinfo": "skip",
         "line": {
          "color": "blue",
          "width": 1
         },
         "mode": "lines",
         "name": "N-H2",
         "opacity": 0.2,
         "showlegend": true,
         "type": "scatter3d",
         "x": [
          -20.849170245930917,
          -21.347906095470027
         ],
         "y": [
          -17.839460442893454,
          -18.25769190782252
         ],
         "z": [
          -7.150399129073133,
          -7.921610510036736
         ]
        },
        {
         "hoverinfo": "skip",
         "line": {
          "color": "blue",
          "width": 1
         },
         "mode": "lines",
         "name": "CA-C",
         "opacity": 0.2,
         "showlegend": true,
         "type": "scatter3d",
         "x": [
          -19.852153747107835,
          -20.056106118118656
         ],
         "y": [
          -16.93273898927673,
          -16.85750852904458
         ],
         "z": [
          -7.73499412274459,
          -9.225967901257249
         ]
        },
        {
         "hoverinfo": "skip",
         "line": {
          "color": "blue",
          "width": 1
         },
         "mode": "lines",
         "name": "CA-CB",
         "opacity": 0.2,
         "showlegend": true,
         "type": "scatter3d",
         "x": [
          -19.852153747107835,
          -20.01209273523199
         ],
         "y": [
          -16.93273898927673,
          -15.539299326963219
         ],
         "z": [
          -7.73499412274459,
          -7.12696663358853
         ]
        },
        {
         "hoverinfo": "skip",
         "line": {
          "color": "blue",
          "width": 1
         },
         "mode": "lines",
         "name": "CA-HA",
         "opacity": 0.2,
         "showlegend": true,
         "type": "scatter3d",
         "x": [
          -19.852153747107835,
          -18.851677810042993
         ],
         "y": [
          -16.93273898927673,
          -17.30930847930648
         ],
         "z": [
          -7.73499412274459,
          -7.523553070597778
         ]
        },
        {
         "hoverinfo": "skip",
         "line": {
          "color": "blue",
          "width": 1
         },
         "mode": "lines",
         "name": "C-O",
         "opacity": 0.2,
         "showlegend": true,
         "type": "scatter3d",
         "x": [
          -20.056106118118656,
          -21.15964853970349
         ],
         "y": [
          -16.85750852904458,
          -17.001629704683964
         ],
         "z": [
          -9.225967901257249,
          -9.69299168062507
         ]
        },
        {
         "hoverinfo": "skip",
         "line": {
          "color": "blue",
          "width": 1
         },
         "mode": "lines",
         "name": "C-O",
         "opacity": 0.2,
         "showlegend": true,
         "type": "scatter3d",
         "x": [
          -20.056106118118656,
          -21.15964853970349
         ],
         "y": [
          -16.85750852904458,
          -17.001629704683964
         ],
         "z": [
          -9.225967901257249,
          -9.69299168062507
         ]
        },
        {
         "hoverinfo": "skip",
         "line": {
          "color": "blue",
          "width": 1
         },
         "mode": "lines",
         "name": "C-OXT",
         "opacity": 0.2,
         "showlegend": true,
         "type": "scatter3d",
         "x": [
          -20.056106118118656,
          -19.009719762769706
         ],
         "y": [
          -16.85750852904458,
          -16.6302073198093
         ],
         "z": [
          -9.225967901257249,
          -10.03471183824826
         ]
        },
        {
         "hoverinfo": "skip",
         "line": {
          "color": "blue",
          "width": 1
         },
         "mode": "lines",
         "name": "CB-OG",
         "opacity": 0.2,
         "showlegend": true,
         "type": "scatter3d",
         "x": [
          -20.01209273523199,
          -19.820002960709587
         ],
         "y": [
          -15.539299326963219,
          -15.610686945233367
         ],
         "z": [
          -7.12696663358853,
          -5.713417084941
         ]
        },
        {
         "hoverinfo": "skip",
         "line": {
          "color": "blue",
          "width": 1
         },
         "mode": "lines",
         "name": "CB-HB2",
         "opacity": 0.2,
         "showlegend": true,
         "type": "scatter3d",
         "x": [
          -20.01209273523199,
          -21.013266554958168
         ],
         "y": [
          -15.539299326963219,
          -15.1636601909098
         ],
         "z": [
          -7.12696663358853,
          -7.3392122982319865
         ]
        },
        {
         "hoverinfo": "skip",
         "line": {
          "color": "blue",
          "width": 1
         },
         "mode": "lines",
         "name": "CB-HB3",
         "opacity": 0.2,
         "showlegend": true,
         "type": "scatter3d",
         "x": [
          -20.01209273523199,
          -19.272691657948048
         ],
         "y": [
          -15.539299326963219,
          -14.866583279080517
         ],
         "z": [
          -7.12696663358853,
          -7.5605657178039145
         ]
        },
        {
         "hoverinfo": "skip",
         "line": {
          "color": "blue",
          "width": 1
         },
         "mode": "lines",
         "name": "C7-N",
         "opacity": 0.2,
         "showlegend": true,
         "type": "scatter3d",
         "x": [
          -20.31271167997146,
          -20.849170245930917
         ],
         "y": [
          -18.617286258375444,
          -17.839460442893454
         ],
         "z": [
          -6.678559430632436,
          -7.150399129073133
         ]
        },
        {
         "hoverinfo": "skip",
         "line": {
          "color": "blue",
          "width": 1
         },
         "mode": "lines",
         "name": "O3-C3",
         "opacity": 0.2,
         "showlegend": true,
         "type": "scatter3d",
         "x": [
          -16.82781425929037,
          -15.717584511308889
         ],
         "y": [
          -14.755557520111976,
          -15.331606449314583
         ],
         "z": [
          -4.438084744296402,
          -3.7487849924746808
         ]
        },
        {
         "hoverinfo": "skip",
         "line": {
          "color": "blue",
          "width": 1
         },
         "mode": "lines",
         "name": "O3-C1",
         "opacity": 0.2,
         "showlegend": true,
         "type": "scatter3d",
         "x": [
          -16.82781425929037,
          -17.853916907317902
         ],
         "y": [
          -14.755557520111976,
          -15.61177888592618
         ],
         "z": [
          -4.438084744296402,
          -4.724582158654982
         ]
        },
        {
         "hoverinfo": "skip",
         "line": {
          "color": "blue",
          "width": 1
         },
         "mode": "lines",
         "name": "O1-C1",
         "opacity": 0.2,
         "showlegend": true,
         "type": "scatter3d",
         "x": [
          -17.895600711290342,
          -17.853916907317902
         ],
         "y": [
          -16.802047611823234,
          -15.61177888592618
         ],
         "z": [
          -4.444631304686329,
          -4.724582158654982
         ]
        },
        {
         "hoverinfo": "skip",
         "line": {
          "color": "blue",
          "width": 1
         },
         "mode": "lines",
         "name": "C3-C4",
         "opacity": 0.2,
         "showlegend": true,
         "type": "scatter3d",
         "x": [
          -15.717584511308889,
          -15.134539947050175
         ],
         "y": [
          -15.331606449314583,
          -16.44819092216907
         ],
         "z": [
          -3.7487849924746808,
          -4.6138020449474215
         ]
        },
        {
         "hoverinfo": "skip",
         "line": {
          "color": "blue",
          "width": 1
         },
         "mode": "lines",
         "name": "C3-C5",
         "opacity": 0.2,
         "showlegend": true,
         "type": "scatter3d",
         "x": [
          -15.717584511308889,
          -14.68677250072605
         ],
         "y": [
          -15.331606449314583,
          -14.225983894648438
         ],
         "z": [
          -3.7487849924746808,
          -3.5319096931626994
         ]
        },
        {
         "hoverinfo": "skip",
         "line": {
          "color": "blue",
          "width": 1
         },
         "mode": "lines",
         "name": "C3-C6",
         "opacity": 0.2,
         "showlegend": true,
         "type": "scatter3d",
         "x": [
          -15.717584511308889,
          -16.207680570145698
         ],
         "y": [
          -15.331606449314583,
          -15.879688106118651
         ],
         "z": [
          -3.7487849924746808,
          -2.4093072544784384
         ]
        },
        {
         "hoverinfo": "skip",
         "line": {
          "color": "blue",
          "width": 1
         },
         "mode": "lines",
         "name": "C4-H41",
         "opacity": 0.2,
         "showlegend": true,
         "type": "scatter3d",
         "x": [
          -15.134539947050175,
          -15.712858346184122
         ],
         "y": [
          -16.44819092216907,
          -17.375469167470023
         ],
         "z": [
          -4.6138020449474215,
          -4.609162539077012
         ]
        },
        {
         "hoverinfo": "skip",
         "line": {
          "color": "blue",
          "width": 1
         },
         "mode": "lines",
         "name": "C4-H42",
         "opacity": 0.2,
         "showlegend": true,
         "type": "scatter3d",
         "x": [
          -15.134539947050175,
          -15.04374981572112
         ],
         "y": [
          -16.44819092216907,
          -16.128830553732257
         ],
         "z": [
          -4.6138020449474215,
          -5.658705244830143
         ]
        },
        {
         "hoverinfo": "skip",
         "line": {
          "color": "blue",
          "width": 1
         },
         "mode": "lines",
         "name": "C4-H43",
         "opacity": 0.2,
         "showlegend": true,
         "type": "scatter3d",
         "x": [
          -15.134539947050175,
          -14.133987380065474
         ],
         "y": [
          -16.44819092216907,
          -16.72327740240415
         ],
         "z": [
          -4.6138020449474215,
          -4.259270735903794
         ]
        },
        {
         "hoverinfo": "skip",
         "line": {
          "color": "blue",
          "width": 1
         },
         "mode": "lines",
         "name": "C5-H51",
         "opacity": 0.2,
         "showlegend": true,
         "type": "scatter3d",
         "x": [
          -14.68677250072605,
          -15.11775311169391
         ],
         "y": [
          -14.225983894648438,
          -13.401211117432107
         ],
         "z": [
          -3.5319096931626994,
          -2.9528573734776558
         ]
        },
        {
         "hoverinfo": "skip",
         "line": {
          "color": "blue",
          "width": 1
         },
         "mode": "lines",
         "name": "C5-H52",
         "opacity": 0.2,
         "showlegend": true,
         "type": "scatter3d",
         "x": [
          -14.68677250072605,
          -14.368426584197023
         ],
         "y": [
          -14.225983894648438,
          -13.798380517663153
         ],
         "z": [
          -3.5319096931626994,
          -4.4897380073297395
         ]
        },
        {
         "hoverinfo": "skip",
         "line": {
          "color": "blue",
          "width": 1
         },
         "mode": "lines",
         "name": "C5-H53",
         "opacity": 0.2,
         "showlegend": true,
         "type": "scatter3d",
         "x": [
          -14.68677250072605,
          -13.799986736523511
         ],
         "y": [
          -14.225983894648438,
          -14.592622906819512
         ],
         "z": [
          -3.5319096931626994,
          -3.004757937819001
         ]
        },
        {
         "hoverinfo": "skip",
         "line": {
          "color": "blue",
          "width": 1
         },
         "mode": "lines",
         "name": "C6-H61",
         "opacity": 0.2,
         "showlegend": true,
         "type": "scatter3d",
         "x": [
          -16.207680570145698,
          -16.76592881694618
         ],
         "y": [
          -15.879688106118651,
          -16.816553249685484
         ],
         "z": [
          -2.4093072544784384,
          -2.4787928480477674
         ]
        },
        {
         "hoverinfo": "skip",
         "line": {
          "color": "blue",
          "width": 1
         },
         "mode": "lines",
         "name": "C6-H62",
         "opacity": 0.2,
         "showlegend": true,
         "type": "scatter3d",
         "x": [
          -16.207680570145698,
          -15.358489521198281
         ],
         "y": [
          -15.879688106118651,
          -16.088663815535874
         ],
         "z": [
          -2.4093072544784384,
          -1.7476939419905833
         ]
        },
        {
         "hoverinfo": "skip",
         "line": {
          "color": "blue",
          "width": 1
         },
         "mode": "lines",
         "name": "C6-H63",
         "opacity": 0.2,
         "showlegend": true,
         "type": "scatter3d",
         "x": [
          -16.207680570145698,
          -16.856625174001113
         ],
         "y": [
          -15.879688106118651,
          -15.155084952780188
         ],
         "z": [
          -2.4093072544784384,
          -1.903655100029459
         ]
        },
        {
         "hoverinfo": "skip",
         "line": {
          "color": "blue",
          "width": 1
         },
         "mode": "lines",
         "name": "C1-C2",
         "opacity": 0.2,
         "showlegend": true,
         "type": "scatter3d",
         "x": [
          -17.853916907317902,
          -18.938265712931116
         ],
         "y": [
          -15.61177888592618,
          -14.856668368274105
         ],
         "z": [
          -4.724582158654982,
          -5.4472301392765345
         ]
        },
        {
         "hoverinfo": "skip",
         "line": {
          "color": "blue",
          "width": 1
         },
         "mode": "lines",
         "name": "C2-H21",
         "opacity": 0.2,
         "showlegend": true,
         "type": "scatter3d",
         "x": [
          -18.938265712931116,
          -18.540388690939583
         ],
         "y": [
          -14.856668368274105,
          -14.448304003751987
         ],
         "z": [
          -5.4472301392765345,
          -6.379654051003168
         ]
        },
        {
         "hoverinfo": "skip",
         "line": {
          "color": "blue",
          "width": 1
         },
         "mode": "lines",
         "name": "C2-H22",
         "opacity": 0.2,
         "showlegend": true,
         "type": "scatter3d",
         "x": [
          -18.938265712931116,
          -19.32950940702865
         ],
         "y": [
          -14.856668368274105,
          -14.055884920315245
         ],
         "z": [
          -5.4472301392765345,
          -4.814222286794411
         ]
        },
        {
         "hoverinfo": "skip",
         "line": {
          "color": "blue",
          "width": 1
         },
         "mode": "lines",
         "name": "OG-C2",
         "opacity": 0.2,
         "showlegend": true,
         "type": "scatter3d",
         "x": [
          -19.820002960709587,
          -18.938265712931116
         ],
         "y": [
          -15.610686945233367,
          -14.856668368274105
         ],
         "z": [
          -5.713417084941,
          -5.4472301392765345
         ]
        },
        {
         "hoverinfo": "skip",
         "line": {
          "color": "blue",
          "width": 1
         },
         "mode": "lines",
         "name": "OG-CB",
         "opacity": 0.2,
         "showlegend": true,
         "type": "scatter3d",
         "x": [
          -19.820002960709587,
          -20.01209273523199
         ],
         "y": [
          -15.610686945233367,
          -15.539299326963219
         ],
         "z": [
          -5.713417084941,
          -7.12696663358853
         ]
        },
        {
         "hoverinfo": "skip",
         "line": {
          "color": "blue",
          "width": 1
         },
         "mode": "lines",
         "name": "N20-N20",
         "opacity": 0.2,
         "showlegend": true,
         "type": "scatter3d",
         "x": [
          -16.731434434869414,
          -16.82943379491767
         ],
         "y": [
          -13.204205787618607,
          -13.708932929479191
         ],
         "z": [
          -10.290793820018951,
          -11.531466257731413
         ]
        },
        {
         "hoverinfo": "skip",
         "line": {
          "color": "blue",
          "width": 1
         },
         "mode": "lines",
         "name": "N20-C3",
         "opacity": 0.2,
         "showlegend": true,
         "type": "scatter3d",
         "x": [
          -16.731434434869414,
          -16.22933603751804
         ],
         "y": [
          -13.204205787618607,
          -11.871083501063941
         ],
         "z": [
          -10.290793820018951,
          -10.075683014924419
         ]
        },
        {
         "hoverinfo": "skip",
         "line": {
          "color": "blue",
          "width": 1
         },
         "mode": "lines",
         "name": "N20-C2",
         "opacity": 0.2,
         "showlegend": true,
         "type": "scatter3d",
         "x": [
          -16.731434434869414,
          -17.1574673910728
         ],
         "y": [
          -13.204205787618607,
          -14.09326827336014
         ],
         "z": [
          -10.290793820018951,
          -9.352447936735135
         ]
        },
        {
         "hoverinfo": "skip",
         "line": {
          "color": "blue",
          "width": 1
         },
         "mode": "lines",
         "name": "N20-N20",
         "opacity": 0.2,
         "showlegend": true,
         "type": "scatter3d",
         "x": [
          -16.82943379491767,
          -17.322179496746095
         ],
         "y": [
          -13.708932929479191,
          -14.937559842976723
         ],
         "z": [
          -11.531466257731413,
          -11.419719442299664
         ]
        },
        {
         "hoverinfo": "skip",
         "line": {
          "color": "blue",
          "width": 1
         },
         "mode": "lines",
         "name": "N20-C1",
         "opacity": 0.2,
         "showlegend": true,
         "type": "scatter3d",
         "x": [
          -17.322179496746095,
          -17.528625251009963
         ],
         "y": [
          -14.937559842976723,
          -15.18827697710931
         ],
         "z": [
          -11.419719442299664,
          -10.091596285661408
         ]
        },
        {
         "hoverinfo": "skip",
         "line": {
          "color": "blue",
          "width": 1
         },
         "mode": "lines",
         "name": "C3-C4",
         "opacity": 0.2,
         "showlegend": true,
         "type": "scatter3d",
         "x": [
          -16.22933603751804,
          -14.714362918947767
         ],
         "y": [
          -11.871083501063941,
          -11.81047157057551
         ],
         "z": [
          -10.075683014924419,
          -10.196709804900596
         ]
        },
        {
         "hoverinfo": "skip",
         "line": {
          "color": "blue",
          "width": 1
         },
         "mode": "lines",
         "name": "C3-H31",
         "opacity": 0.2,
         "showlegend": true,
         "type": "scatter3d",
         "x": [
          -16.22933603751804,
          -16.54409706917955
         ],
         "y": [
          -11.871083501063941,
          -11.544975333657066
         ],
         "z": [
          -10.075683014924419,
          -9.078478975573438
         ]
        },
        {
         "hoverinfo": "skip",
         "line": {
          "color": "blue",
          "width": 1
         },
         "mode": "lines",
         "name": "C3-H32",
         "opacity": 0.2,
         "showlegend": true,
         "type": "scatter3d",
         "x": [
          -16.22933603751804,
          -16.704505460111715
         ],
         "y": [
          -11.871083501063941,
          -11.212436184710773
         ],
         "z": [
          -10.075683014924419,
          -10.810715784597145
         ]
        },
        {
         "hoverinfo": "skip",
         "line": {
          "color": "blue",
          "width": 1
         },
         "mode": "lines",
         "name": "C2-C1",
         "opacity": 0.2,
         "showlegend": true,
         "type": "scatter3d",
         "x": [
          -17.1574673910728,
          -17.528625251009963
         ],
         "y": [
          -14.09326827336014,
          -15.18827697710931
         ],
         "z": [
          -9.352447936735135,
          -10.091596285661408
         ]
        },
        {
         "hoverinfo": "skip",
         "line": {
          "color": "blue",
          "width": 1
         },
         "mode": "lines",
         "name": "C2-H2",
         "opacity": 0.2,
         "showlegend": true,
         "type": "scatter3d",
         "x": [
          -17.1574673910728,
          -17.159625366905537
         ],
         "y": [
          -14.09326827336014,
          -13.880934315120774
         ],
         "z": [
          -9.352447936735135,
          -8.292642948391192
         ]
        },
        {
         "hoverinfo": "skip",
         "line": {
          "color": "blue",
          "width": 1
         },
         "mode": "lines",
         "name": "C1-C5",
         "opacity": 0.2,
         "showlegend": true,
         "type": "scatter3d",
         "x": [
          -17.528625251009963,
          -18.07300624447305
         ],
         "y": [
          -15.18827697710931,
          -16.47303291311688
         ],
         "z": [
          -10.091596285661408,
          -9.634034028859745
         ]
        },
        {
         "hoverinfo": "skip",
         "line": {
          "color": "blue",
          "width": 1
         },
         "mode": "lines",
         "name": "C4-H41",
         "opacity": 0.2,
         "showlegend": true,
         "type": "scatter3d",
         "x": [
          -14.714362918947767,
          -14.234481374293189
         ],
         "y": [
          -11.81047157057551,
          -12.472491051085619
         ],
         "z": [
          -10.196709804900596,
          -9.468146471672073
         ]
        },
        {
         "hoverinfo": "skip",
         "line": {
          "color": "blue",
          "width": 1
         },
         "mode": "lines",
         "name": "C4-H43",
         "opacity": 0.2,
         "showlegend": true,
         "type": "scatter3d",
         "x": [
          -14.714362918947767,
          -14.383170301532557
         ],
         "y": [
          -11.81047157057551,
          -12.115847606411572
         ],
         "z": [
          -10.196709804900596,
          -11.195000998344032
         ]
        },
        {
         "hoverinfo": "skip",
         "line": {
          "color": "blue",
          "width": 1
         },
         "mode": "lines",
         "name": "C5-H52",
         "opacity": 0.2,
         "showlegend": true,
         "type": "scatter3d",
         "x": [
          -18.07300624447305,
          -17.423656900266955
         ],
         "y": [
          -16.47303291311688,
          -17.29658941994321
         ],
         "z": [
          -9.634034028859745,
          -9.947101480446698
         ]
        },
        {
         "hoverinfo": "skip",
         "line": {
          "color": "blue",
          "width": 1
         },
         "mode": "lines",
         "name": "C5-H53",
         "opacity": 0.2,
         "showlegend": true,
         "type": "scatter3d",
         "x": [
          -18.07300624447305,
          -18.160711475003833
         ],
         "y": [
          -16.47303291311688,
          -16.506666070720456
         ],
         "z": [
          -9.634034028859745,
          -8.543463066818688
         ]
        },
        {
         "hoverinfo": "skip",
         "line": {
          "color": "blue",
          "width": 1
         },
         "mode": "lines",
         "name": "OXT-C5",
         "opacity": 0.2,
         "showlegend": true,
         "type": "scatter3d",
         "x": [
          -19.009719762769706,
          -18.07300624447305
         ],
         "y": [
          -16.6302073198093,
          -16.47303291311688
         ],
         "z": [
          -10.03471183824826,
          -9.634034028859745
         ]
        },
        {
         "hoverinfo": "skip",
         "line": {
          "color": "blue",
          "width": 1
         },
         "mode": "lines",
         "name": "OXT-C",
         "opacity": 0.2,
         "showlegend": true,
         "type": "scatter3d",
         "x": [
          -19.009719762769706,
          -20.056106118118656
         ],
         "y": [
          -16.6302073198093,
          -16.85750852904458
         ],
         "z": [
          -10.03471183824826,
          -9.225967901257249
         ]
        },
        {
         "hoverinfo": "skip",
         "line": {
          "color": "blue",
          "width": 1
         },
         "mode": "lines",
         "name": "O2-C2",
         "opacity": 0.2,
         "showlegend": true,
         "type": "scatter3d",
         "x": [
          -10.785386476475335,
          -12.132807867569284
         ],
         "y": [
          -11.247929221411738,
          -11.66246966913019
         ],
         "z": [
          -9.882867504325304,
          -9.80502425138814
         ]
        },
        {
         "hoverinfo": "skip",
         "line": {
          "color": "blue",
          "width": 1
         },
         "mode": "lines",
         "name": "O11-C1",
         "opacity": 0.2,
         "showlegend": true,
         "type": "scatter3d",
         "x": [
          -12.630065768312194,
          -13.03937055496084
         ],
         "y": [
          -9.36081357418569,
          -10.488544457115697
         ],
         "z": [
          -10.350917217777702,
          -10.090554898475503
         ]
        },
        {
         "hoverinfo": "skip",
         "line": {
          "color": "blue",
          "width": 1
         },
         "mode": "lines",
         "name": "N12-C1",
         "opacity": 0.2,
         "showlegend": true,
         "type": "scatter3d",
         "x": [
          -14.373235243672559,
          -13.03937055496084
         ],
         "y": [
          -10.827399508826089,
          -10.488544457115697
         ],
         "z": [
          -10.024300720204746,
          -10.090554898475503
         ]
        },
        {
         "hoverinfo": "skip",
         "line": {
          "color": "blue",
          "width": 1
         },
         "mode": "lines",
         "name": "C2-C1",
         "opacity": 0.2,
         "showlegend": true,
         "type": "scatter3d",
         "x": [
          -12.132807867569284,
          -13.03937055496084
         ],
         "y": [
          -11.66246966913019,
          -10.488544457115697
         ],
         "z": [
          -9.80502425138814,
          -10.090554898475503
         ]
        },
        {
         "hoverinfo": "skip",
         "line": {
          "color": "blue",
          "width": 1
         },
         "mode": "lines",
         "name": "C2-H21",
         "opacity": 0.2,
         "showlegend": true,
         "type": "scatter3d",
         "x": [
          -12.132807867569284,
          -12.333440605735579
         ],
         "y": [
          -11.66246966913019,
          -12.063529325002813
         ],
         "z": [
          -9.80502425138814,
          -8.807059950018989
         ]
        },
        {
         "hoverinfo": "skip",
         "line": {
          "color": "blue",
          "width": 1
         },
         "mode": "lines",
         "name": "C2-H22",
         "opacity": 0.2,
         "showlegend": true,
         "type": "scatter3d",
         "x": [
          -12.132807867569284,
          -12.30313569339841
         ],
         "y": [
          -11.66246966913019,
          -12.444487526886418
         ],
         "z": [
          -9.80502425138814,
          -10.550522502156493
         ]
        },
        {
         "hoverinfo": "skip",
         "line": {
          "color": "blue",
          "width": 1
         },
         "mode": "lines",
         "name": "C4-N12",
         "opacity": 0.2,
         "showlegend": true,
         "type": "scatter3d",
         "x": [
          -14.714362918947767,
          -14.373235243672559
         ],
         "y": [
          -11.81047157057551,
          -10.827399508826089
         ],
         "z": [
          -10.196709804900596,
          -10.024300720204746
         ]
        },
        {
         "hoverinfo": "skip",
         "line": {
          "color": "blue",
          "width": 1
         },
         "mode": "lines",
         "name": "C4-C3",
         "opacity": 0.2,
         "showlegend": true,
         "type": "scatter3d",
         "x": [
          -14.714362918947767,
          -16.22933603751804
         ],
         "y": [
          -11.81047157057551,
          -11.871083501063941
         ],
         "z": [
          -10.196709804900596,
          -10.075683014924419
         ]
        },
        {
         "hoverinfo": "skip",
         "line": {
          "color": "blue",
          "width": 1
         },
         "mode": "lines",
         "name": "O7-C7",
         "opacity": 0.2,
         "showlegend": true,
         "type": "scatter3d",
         "x": [
          -21.43923849820435,
          -22.473744650993588
         ],
         "y": [
          -10.716229335640598,
          -11.325513851038346
         ],
         "z": [
          -15.904945490482586,
          -15.650870089985524
         ]
        },
        {
         "hoverinfo": "skip",
         "line": {
          "color": "blue",
          "width": 1
         },
         "mode": "lines",
         "name": "C10-C11",
         "opacity": 0.2,
         "showlegend": true,
         "type": "scatter3d",
         "x": [
          -21.91591113997117,
          -22.905095238930087
         ],
         "y": [
          -7.380792848729046,
          -8.558231306256804
         ],
         "z": [
          -21.45223367520583,
          -21.555289762369434
         ]
        },
        {
         "hoverinfo": "skip",
         "line": {
          "color": "blue",
          "width": 1
         },
         "mode": "lines",
         "name": "C10-C12",
         "opacity": 0.2,
         "showlegend": true,
         "type": "scatter3d",
         "x": [
          -21.91591113997117,
          -22.328518167436343
         ],
         "y": [
          -7.380792848729046,
          -6.377325270374275
         ],
         "z": [
          -21.45223367520583,
          -20.372337124569075
         ]
        },
        {
         "hoverinfo": "skip",
         "line": {
          "color": "blue",
          "width": 1
         },
         "mode": "lines",
         "name": "C10-C13",
         "opacity": 0.2,
         "showlegend": true,
         "type": "scatter3d",
         "x": [
          -21.91591113997117,
          -20.510598153204914
         ],
         "y": [
          -7.380792848729046,
          -7.909269411449305
         ],
         "z": [
          -21.45223367520583,
          -21.154467874816536
         ]
        },
        {
         "hoverinfo": "skip",
         "line": {
          "color": "blue",
          "width": 1
         },
         "mode": "lines",
         "name": "C10-H10",
         "opacity": 0.2,
         "showlegend": true,
         "type": "scatter3d",
         "x": [
          -21.91591113997117,
          -21.89747052585262
         ],
         "y": [
          -7.380792848729046,
          -6.8683045855022495
         ],
         "z": [
          -21.45223367520583,
          -22.421995240646382
         ]
        },
        {
         "hoverinfo": "skip",
         "line": {
          "color": "blue",
          "width": 1
         },
         "mode": "lines",
         "name": "C11-C1",
         "opacity": 0.2,
         "showlegend": true,
         "type": "scatter3d",
         "x": [
          -22.905095238930087,
          -23.105447070874465
         ],
         "y": [
          -8.558231306256804,
          -9.302264074463475
         ],
         "z": [
          -21.555289762369434,
          -20.25752322586479
         ]
        },
        {
         "hoverinfo": "skip",
         "line": {
          "color": "blue",
          "width": 1
         },
         "mode": "lines",
         "name": "C11-H111",
         "opacity": 0.2,
         "showlegend": true,
         "type": "scatter3d",
         "x": [
          -22.905095238930087,
          -22.573884315405582
         ],
         "y": [
          -8.558231306256804,
          -9.258793892969328
         ],
         "z": [
          -21.555289762369434,
          -22.33355002490164
         ]
        },
        {
         "hoverinfo": "skip",
         "line": {
          "color": "blue",
          "width": 1
         },
         "mode": "lines",
         "name": "C11-H112",
         "opacity": 0.2,
         "showlegend": true,
         "type": "scatter3d",
         "x": [
          -22.905095238930087,
          -23.876268529695373
         ],
         "y": [
          -8.558231306256804,
          -8.182256757419234
         ],
         "z": [
          -21.555289762369434,
          -21.90481027382837
         ]
        },
        {
         "hoverinfo": "skip",
         "line": {
          "color": "blue",
          "width": 1
         },
         "mode": "lines",
         "name": "C1-C2",
         "opacity": 0.2,
         "showlegend": true,
         "type": "scatter3d",
         "x": [
          -23.105447070874465,
          -22.284983577403565
         ],
         "y": [
          -9.302264074463475,
          -10.378275029209918
         ],
         "z": [
          -20.25752322586479,
          -19.95791901837236
         ]
        },
        {
         "hoverinfo": "skip",
         "line": {
          "color": "blue",
          "width": 1
         },
         "mode": "lines",
         "name": "C1-C6",
         "opacity": 0.2,
         "showlegend": true,
         "type": "scatter3d",
         "x": [
          -23.105447070874465,
          -24.106652900015327
         ],
         "y": [
          -9.302264074463475,
          -8.896713210751091
         ],
         "z": [
          -20.25752322586479,
          -19.389220585861608
         ]
        },
        {
         "hoverinfo": "skip",
         "line": {
          "color": "blue",
          "width": 1
         },
         "mode": "lines",
         "name": "C4-C8",
         "opacity": 0.2,
         "showlegend": true,
         "type": "scatter3d",
         "x": [
          -23.47414769483204,
          -23.67283566047699
         ],
         "y": [
          -10.669839043378676,
          -11.40553319294588
         ],
         "z": [
          -17.875016251207665,
          -16.592957960567
         ]
        },
        {
         "hoverinfo": "skip",
         "line": {
          "color": "blue",
          "width": 1
         },
         "mode": "lines",
         "name": "C4-C3",
         "opacity": 0.2,
         "showlegend": true,
         "type": "scatter3d",
         "x": [
          -23.47414769483204,
          -22.470613373746136
         ],
         "y": [
          -10.669839043378676,
          -11.066584320684536
         ],
         "z": [
          -17.875016251207665,
          -18.759012513268846
         ]
        },
        {
         "hoverinfo": "skip",
         "line": {
          "color": "blue",
          "width": 1
         },
         "mode": "lines",
         "name": "C4-C5",
         "opacity": 0.2,
         "showlegend": true,
         "type": "scatter3d",
         "x": [
          -23.47414769483204,
          -24.292247450315443
         ],
         "y": [
          -10.669839043378676,
          -9.584992233583698
         ],
         "z": [
          -17.875016251207665,
          -18.190147222956945
         ]
        },
        {
         "hoverinfo": "skip",
         "line": {
          "color": "blue",
          "width": 1
         },
         "mode": "lines",
         "name": "C8-C9",
         "opacity": 0.2,
         "showlegend": true,
         "type": "scatter3d",
         "x": [
          -23.67283566047699,
          -24.03934306755357
         ],
         "y": [
          -11.40553319294588,
          -12.8863663520539
         ],
         "z": [
          -16.592957960567,
          -16.792524629738406
         ]
        },
        {
         "hoverinfo": "skip",
         "line": {
          "color": "blue",
          "width": 1
         },
         "mode": "lines",
         "name": "C8-C7",
         "opacity": 0.2,
         "showlegend": true,
         "type": "scatter3d",
         "x": [
          -23.67283566047699,
          -22.473744650993588
         ],
         "y": [
          -11.40553319294588,
          -11.325513851038346
         ],
         "z": [
          -16.592957960567,
          -15.650870089985524
         ]
        },
        {
         "hoverinfo": "skip",
         "line": {
          "color": "blue",
          "width": 1
         },
         "mode": "lines",
         "name": "C8-H8",
         "opacity": 0.2,
         "showlegend": true,
         "type": "scatter3d",
         "x": [
          -23.67283566047699,
          -24.49861079632163
         ],
         "y": [
          -11.40553319294588,
          -10.943261556380588
         ],
         "z": [
          -16.592957960567,
          -16.03527968499226
         ]
        },
        {
         "hoverinfo": "skip",
         "line": {
          "color": "blue",
          "width": 1
         },
         "mode": "lines",
         "name": "C12-H121",
         "opacity": 0.2,
         "showlegend": true,
         "type": "scatter3d",
         "x": [
          -22.328518167436343,
          -22.228665729873804
         ],
         "y": [
          -6.377325270374275,
          -6.781077280933847
         ],
         "z": [
          -20.372337124569075,
          -19.359968385086308
         ]
        },
        {
         "hoverinfo": "skip",
         "line": {
          "color": "blue",
          "width": 1
         },
         "mode": "lines",
         "name": "C12-H122",
         "opacity": 0.2,
         "showlegend": true,
         "type": "scatter3d",
         "x": [
          -22.328518167436343,
          -23.361310218370704
         ],
         "y": [
          -6.377325270374275,
          -6.0448731520448735
         ],
         "z": [
          -20.372337124569075,
          -20.519654430222843
         ]
        },
        {
         "hoverinfo": "skip",
         "line": {
          "color": "blue",
          "width": 1
         },
         "mode": "lines",
         "name": "C12-H123",
         "opacity": 0.2,
         "showlegend": true,
         "type": "scatter3d",
         "x": [
          -22.328518167436343,
          -21.688805455828923
         ],
         "y": [
          -6.377325270374275,
          -5.488944772389539
         ],
         "z": [
          -20.372337124569075,
          -20.425300861297927
         ]
        },
        {
         "hoverinfo": "skip",
         "line": {
          "color": "blue",
          "width": 1
         },
         "mode": "lines",
         "name": "C13-H131",
         "opacity": 0.2,
         "showlegend": true,
         "type": "scatter3d",
         "x": [
          -20.510598153204914,
          -19.78062158998372
         ],
         "y": [
          -7.909269411449305,
          -7.096881886688408
         ],
         "z": [
          -21.154467874816536,
          -21.246094709099104
         ]
        },
        {
         "hoverinfo": "skip",
         "line": {
          "color": "blue",
          "width": 1
         },
         "mode": "lines",
         "name": "C13-H132",
         "opacity": 0.2,
         "showlegend": true,
         "type": "scatter3d",
         "x": [
          -20.510598153204914,
          -20.415626139164175
         ],
         "y": [
          -7.909269411449305,
          -8.3077784328203
         ],
         "z": [
          -21.154467874816536,
          -20.13968200260754
         ]
        },
        {
         "hoverinfo": "skip",
         "line": {
          "color": "blue",
          "width": 1
         },
         "mode": "lines",
         "name": "C13-H133",
         "opacity": 0.2,
         "showlegend": true,
         "type": "scatter3d",
         "x": [
          -20.510598153204914,
          -20.220493407422367
         ],
         "y": [
          -7.909269411449305,
          -8.688909587687993
         ],
         "z": [
          -21.154467874816536,
          -21.866609554588866
         ]
        },
        {
         "hoverinfo": "skip",
         "line": {
          "color": "blue",
          "width": 1
         },
         "mode": "lines",
         "name": "C2-C3",
         "opacity": 0.2,
         "showlegend": true,
         "type": "scatter3d",
         "x": [
          -22.284983577403565,
          -22.470613373746136
         ],
         "y": [
          -10.378275029209918,
          -11.066584320684536
         ],
         "z": [
          -19.95791901837236,
          -18.759012513268846
         ]
        },
        {
         "hoverinfo": "skip",
         "line": {
          "color": "blue",
          "width": 1
         },
         "mode": "lines",
         "name": "C2-H2",
         "opacity": 0.2,
         "showlegend": true,
         "type": "scatter3d",
         "x": [
          -22.284983577403565,
          -21.50464991441926
         ],
         "y": [
          -10.378275029209918,
          -10.701237563580449
         ],
         "z": [
          -19.95791901837236,
          -20.640824074589155
         ]
        },
        {
         "hoverinfo": "skip",
         "line": {
          "color": "blue",
          "width": 1
         },
         "mode": "lines",
         "name": "C6-C5",
         "opacity": 0.2,
         "showlegend": true,
         "type": "scatter3d",
         "x": [
          -24.106652900015327,
          -24.292247450315443
         ],
         "y": [
          -8.896713210751091,
          -9.584992233583698
         ],
         "z": [
          -19.389220585861608,
          -18.190147222956945
         ]
        },
        {
         "hoverinfo": "skip",
         "line": {
          "color": "blue",
          "width": 1
         },
         "mode": "lines",
         "name": "C6-H6",
         "opacity": 0.2,
         "showlegend": true,
         "type": "scatter3d",
         "x": [
          -24.106652900015327,
          -24.75415264049937
         ],
         "y": [
          -8.896713210751091,
          -8.057456036225634
         ],
         "z": [
          -19.389220585861608,
          -19.62589739309172
         ]
        },
        {
         "hoverinfo": "skip",
         "line": {
          "color": "blue",
          "width": 1
         },
         "mode": "lines",
         "name": "C3-H3",
         "opacity": 0.2,
         "showlegend": true,
         "type": "scatter3d",
         "x": [
          -22.470613373746136,
          -21.822768025555497
         ],
         "y": [
          -11.066584320684536,
          -11.908999124507117
         ],
         "z": [
          -18.759012513268846,
          -18.532263945184475
         ]
        },
        {
         "hoverinfo": "skip",
         "line": {
          "color": "blue",
          "width": 1
         },
         "mode": "lines",
         "name": "C5-H5",
         "opacity": 0.2,
         "showlegend": true,
         "type": "scatter3d",
         "x": [
          -24.292247450315443,
          -25.079642379780555
         ],
         "y": [
          -9.584992233583698,
          -9.263708560098044
         ],
         "z": [
          -18.190147222956945,
          -17.513596688108144
         ]
        },
        {
         "hoverinfo": "skip",
         "line": {
          "color": "blue",
          "width": 1
         },
         "mode": "lines",
         "name": "C9-H91",
         "opacity": 0.2,
         "showlegend": true,
         "type": "scatter3d",
         "x": [
          -24.03934306755357,
          -24.918183889083142
         ],
         "y": [
          -12.8863663520539,
          -12.988457758333071
         ],
         "z": [
          -16.792524629738406,
          -17.438488858761318
         ]
        },
        {
         "hoverinfo": "skip",
         "line": {
          "color": "blue",
          "width": 1
         },
         "mode": "lines",
         "name": "C9-H92",
         "opacity": 0.2,
         "showlegend": true,
         "type": "scatter3d",
         "x": [
          -24.03934306755357,
          -24.267159893797665
         ],
         "y": [
          -12.8863663520539,
          -13.360750642696482
         ],
         "z": [
          -16.792524629738406,
          -15.83141517786958
         ]
        },
        {
         "hoverinfo": "skip",
         "line": {
          "color": "blue",
          "width": 1
         },
         "mode": "lines",
         "name": "C9-H93",
         "opacity": 0.2,
         "showlegend": true,
         "type": "scatter3d",
         "x": [
          -24.03934306755357,
          -23.217037822105876
         ],
         "y": [
          -12.8863663520539,
          -13.451713666744395
         ],
         "z": [
          -16.792524629738406,
          -17.244950045781156
         ]
        },
        {
         "hoverinfo": "skip",
         "line": {
          "color": "blue",
          "width": 1
         },
         "mode": "lines",
         "name": "N-CA",
         "opacity": 0.2,
         "showlegend": true,
         "type": "scatter3d",
         "x": [
          -22.593168020521,
          -21.338784049716097
         ],
         "y": [
          -11.816349803917483,
          -11.6297730662842
         ],
         "z": [
          -14.723372586259472,
          -13.98199078532162
         ]
        },
        {
         "hoverinfo": "skip",
         "line": {
          "color": "blue",
          "width": 1
         },
         "mode": "lines",
         "name": "N-H2",
         "opacity": 0.2,
         "showlegend": true,
         "type": "scatter3d",
         "x": [
          -22.593168020521,
          -22.66682335835115
         ],
         "y": [
          -11.816349803917483,
          -12.8024920467261
         ],
         "z": [
          -14.723372586259472,
          -14.924669302967716
         ]
        },
        {
         "hoverinfo": "skip",
         "line": {
          "color": "blue",
          "width": 1
         },
         "mode": "lines",
         "name": "CA-C",
         "opacity": 0.2,
         "showlegend": true,
         "type": "scatter3d",
         "x": [
          -21.338784049716097,
          -20.73237489143039
         ],
         "y": [
          -11.6297730662842,
          -12.974755538426281
         ],
         "z": [
          -13.98199078532162,
          -13.676132840553507
         ]
        },
        {
         "hoverinfo": "skip",
         "line": {
          "color": "blue",
          "width": 1
         },
         "mode": "lines",
         "name": "CA-CB",
         "opacity": 0.2,
         "showlegend": true,
         "type": "scatter3d",
         "x": [
          -21.338784049716097,
          -21.62443625420022
         ],
         "y": [
          -11.6297730662842,
          -10.889579835730615
         ],
         "z": [
          -13.98199078532162,
          -12.675289289372376
         ]
        },
        {
         "hoverinfo": "skip",
         "line": {
          "color": "blue",
          "width": 1
         },
         "mode": "lines",
         "name": "CA-HA",
         "opacity": 0.2,
         "showlegend": true,
         "type": "scatter3d",
         "x": [
          -21.338784049716097,
          -20.644039811816857
         ],
         "y": [
          -11.6297730662842,
          -11.046729587015866
         ],
         "z": [
          -13.98199078532162,
          -14.586022858301604
         ]
        },
        {
         "hoverinfo": "skip",
         "line": {
          "color": "blue",
          "width": 1
         },
         "mode": "lines",
         "name": "C-O",
         "opacity": 0.2,
         "showlegend": true,
         "type": "scatter3d",
         "x": [
          -20.73237489143039,
          -21.443790253174473
         ],
         "y": [
          -12.974755538426281,
          -13.937505557751964
         ],
         "z": [
          -13.676132840553507,
          -13.522221881350058
         ]
        },
        {
         "hoverinfo": "skip",
         "line": {
          "color": "blue",
          "width": 1
         },
         "mode": "lines",
         "name": "C-O",
         "opacity": 0.2,
         "showlegend": true,
         "type": "scatter3d",
         "x": [
          -20.73237489143039,
          -21.443790253174473
         ],
         "y": [
          -12.974755538426281,
          -13.937505557751964
         ],
         "z": [
          -13.676132840553507,
          -13.522221881350058
         ]
        },
        {
         "hoverinfo": "skip",
         "line": {
          "color": "blue",
          "width": 1
         },
         "mode": "lines",
         "name": "C-OXT",
         "opacity": 0.2,
         "showlegend": true,
         "type": "scatter3d",
         "x": [
          -20.73237489143039,
          -19.400346074786086
         ],
         "y": [
          -12.974755538426281,
          -13.101760124950987
         ],
         "z": [
          -13.676132840553507,
          -13.575008824460081
         ]
        },
        {
         "hoverinfo": "skip",
         "line": {
          "color": "blue",
          "width": 1
         },
         "mode": "lines",
         "name": "CB-OG",
         "opacity": 0.2,
         "showlegend": true,
         "type": "scatter3d",
         "x": [
          -21.62443625420022,
          -22.20044123985231
         ],
         "y": [
          -10.889579835730615,
          -9.615071988567138
         ],
         "z": [
          -12.675289289372376,
          -12.965056444209923
         ]
        },
        {
         "hoverinfo": "skip",
         "line": {
          "color": "blue",
          "width": 1
         },
         "mode": "lines",
         "name": "CB-HB2",
         "opacity": 0.2,
         "showlegend": true,
         "type": "scatter3d",
         "x": [
          -21.62443625420022,
          -22.3194660999143
         ],
         "y": [
          -10.889579835730615,
          -11.47384586504257
         ],
         "z": [
          -12.675289289372376,
          -12.071908215291732
         ]
        },
        {
         "hoverinfo": "skip",
         "line": {
          "color": "blue",
          "width": 1
         },
         "mode": "lines",
         "name": "CB-HB3",
         "opacity": 0.2,
         "showlegend": true,
         "type": "scatter3d",
         "x": [
          -21.62443625420022,
          -20.69410641462327
         ],
         "y": [
          -10.889579835730615,
          -10.751198216374183
         ],
         "z": [
          -12.675289289372376,
          -12.125193009602167
         ]
        },
        {
         "hoverinfo": "skip",
         "line": {
          "color": "blue",
          "width": 1
         },
         "mode": "lines",
         "name": "C7-N",
         "opacity": 0.2,
         "showlegend": true,
         "type": "scatter3d",
         "x": [
          -22.473744650993588,
          -22.593168020521
         ],
         "y": [
          -11.325513851038346,
          -11.816349803917483
         ],
         "z": [
          -15.650870089985524,
          -14.723372586259472
         ]
        },
        {
         "hoverinfo": "skip",
         "line": {
          "color": "blue",
          "width": 1
         },
         "mode": "lines",
         "name": "O3-C3",
         "opacity": 0.2,
         "showlegend": true,
         "type": "scatter3d",
         "x": [
          -20.2214326544995,
          -19.70406707110233
         ],
         "y": [
          -6.89598243808169,
          -5.898458583385137
         ],
         "z": [
          -12.933605319524005,
          -13.814999455213275
         ]
        },
        {
         "hoverinfo": "skip",
         "line": {
          "color": "blue",
          "width": 1
         },
         "mode": "lines",
         "name": "O3-C1",
         "opacity": 0.2,
         "showlegend": true,
         "type": "scatter3d",
         "x": [
          -20.2214326544995,
          -21.04437552376527
         ],
         "y": [
          -6.89598243808169,
          -7.823183462318294
         ],
         "z": [
          -12.933605319524005,
          -13.509057954046783
         ]
        },
        {
         "hoverinfo": "skip",
         "line": {
          "color": "blue",
          "width": 1
         },
         "mode": "lines",
         "name": "O1-C1",
         "opacity": 0.2,
         "showlegend": true,
         "type": "scatter3d",
         "x": [
          -21.3646374116621,
          -21.04437552376527
         ],
         "y": [
          -7.865335250146941,
          -7.823183462318294
         ],
         "z": [
          -14.689102533689269,
          -13.509057954046783
         ]
        },
        {
         "hoverinfo": "skip",
         "line": {
          "color": "blue",
          "width": 1
         },
         "mode": "lines",
         "name": "C3-C4",
         "opacity": 0.2,
         "showlegend": true,
         "type": "scatter3d",
         "x": [
          -19.70406707110233,
          -18.894205649124025
         ],
         "y": [
          -5.898458583385137,
          -6.590490350938241
         ],
         "z": [
          -13.814999455213275,
          -14.910523466766012
         ]
        },
        {
         "hoverinfo": "skip",
         "line": {
          "color": "blue",
          "width": 1
         },
         "mode": "lines",
         "name": "C3-C5",
         "opacity": 0.2,
         "showlegend": true,
         "type": "scatter3d",
         "x": [
          -19.70406707110233,
          -18.81176615814359
         ],
         "y": [
          -5.898458583385137,
          -4.97366174529053
         ],
         "z": [
          -13.814999455213275,
          -12.990039202241526
         ]
        },
        {
         "hoverinfo": "skip",
         "line": {
          "color": "blue",
          "width": 1
         },
         "mode": "lines",
         "name": "C3-C6",
         "opacity": 0.2,
         "showlegend": true,
         "type": "scatter3d",
         "x": [
          -19.70406707110233,
          -20.876438638468148
         ],
         "y": [
          -5.898458583385137,
          -5.1217046291981205
         ],
         "z": [
          -13.814999455213275,
          -14.412482896562942
         ]
        },
        {
         "hoverinfo": "skip",
         "line": {
          "color": "blue",
          "width": 1
         },
         "mode": "lines",
         "name": "C4-H41",
         "opacity": 0.2,
         "showlegend": true,
         "type": "scatter3d",
         "x": [
          -18.894205649124025,
          -19.49626126943233
         ],
         "y": [
          -6.590490350938241,
          -7.069170276121479
         ],
         "z": [
          -14.910523466766012,
          -15.686869523162088
         ]
        },
        {
         "hoverinfo": "skip",
         "line": {
          "color": "blue",
          "width": 1
         },
         "mode": "lines",
         "name": "C4-H42",
         "opacity": 0.2,
         "showlegend": true,
         "type": "scatter3d",
         "x": [
          -18.894205649124025,
          -18.2396131493716
         ],
         "y": [
          -6.590490350938241,
          -7.361555329497978
         ],
         "z": [
          -14.910523466766012,
          -14.487411131674566
         ]
        },
        {
         "hoverinfo": "skip",
         "line": {
          "color": "blue",
          "width": 1
         },
         "mode": "lines",
         "name": "C4-H43",
         "opacity": 0.2,
         "showlegend": true,
         "type": "scatter3d",
         "x": [
          -18.894205649124025,
          -18.26138399165726
         ],
         "y": [
          -6.590490350938241,
          -5.864191608098173
         ],
         "z": [
          -14.910523466766012,
          -15.434448409854193
         ]
        },
        {
         "hoverinfo": "skip",
         "line": {
          "color": "blue",
          "width": 1
         },
         "mode": "lines",
         "name": "C5-H51",
         "opacity": 0.2,
         "showlegend": true,
         "type": "scatter3d",
         "x": [
          -18.81176615814359,
          -19.379285572110106
         ],
         "y": [
          -4.97366174529053,
          -4.513349734093981
         ],
         "z": [
          -12.990039202241526,
          -12.173136162022374
         ]
        },
        {
         "hoverinfo": "skip",
         "line": {
          "color": "blue",
          "width": 1
         },
         "mode": "lines",
         "name": "C5-H52",
         "opacity": 0.2,
         "showlegend": true,
         "type": "scatter3d",
         "x": [
          -18.81176615814359,
          -17.99645554962946
         ],
         "y": [
          -4.97366174529053,
          -5.536934060336847
         ],
         "z": [
          -12.990039202241526,
          -12.521406338747438
         ]
        },
        {
         "hoverinfo": "skip",
         "line": {
          "color": "blue",
          "width": 1
         },
         "mode": "lines",
         "name": "C5-H53",
         "opacity": 0.2,
         "showlegend": true,
         "type": "scatter3d",
         "x": [
          -18.81176615814359,
          -18.375408617614774
         ],
         "y": [
          -4.97366174529053,
          -4.176393246569945
         ],
         "z": [
          -12.990039202241526,
          -13.600495726304834
         ]
        },
        {
         "hoverinfo": "skip",
         "line": {
          "color": "blue",
          "width": 1
         },
         "mode": "lines",
         "name": "C6-H61",
         "opacity": 0.2,
         "showlegend": true,
         "type": "scatter3d",
         "x": [
          -20.876438638468148,
          -21.42429911918552
         ],
         "y": [
          -5.1217046291981205,
          -5.655477141305822
         ],
         "z": [
          -14.412482896562942,
          -15.19294522684312
         ]
        },
        {
         "hoverinfo": "skip",
         "line": {
          "color": "blue",
          "width": 1
         },
         "mode": "lines",
         "name": "C6-H62",
         "opacity": 0.2,
         "showlegend": true,
         "type": "scatter3d",
         "x": [
          -20.876438638468148,
          -20.522869552420744
         ],
         "y": [
          -5.1217046291981205,
          -4.194562912660189
         ],
         "z": [
          -14.412482896562942,
          -14.879307916079568
         ]
        },
        {
         "hoverinfo": "skip",
         "line": {
          "color": "blue",
          "width": 1
         },
         "mode": "lines",
         "name": "C6-H63",
         "opacity": 0.2,
         "showlegend": true,
         "type": "scatter3d",
         "x": [
          -20.876438638468148,
          -21.602657987394792
         ],
         "y": [
          -5.1217046291981205,
          -4.851192946309931
         ],
         "z": [
          -14.412482896562942,
          -13.63705281160005
         ]
        },
        {
         "hoverinfo": "skip",
         "line": {
          "color": "blue",
          "width": 1
         },
         "mode": "lines",
         "name": "C1-C2",
         "opacity": 0.2,
         "showlegend": true,
         "type": "scatter3d",
         "x": [
          -21.04437552376527,
          -21.501463172475308
         ],
         "y": [
          -7.823183462318294,
          -8.797418825326531
         ],
         "z": [
          -13.509057954046783,
          -12.455416331453527
         ]
        },
        {
         "hoverinfo": "skip",
         "line": {
          "color": "blue",
          "width": 1
         },
         "mode": "lines",
         "name": "C2-H21",
         "opacity": 0.2,
         "showlegend": true,
         "type": "scatter3d",
         "x": [
          -21.501463172475308,
          -20.634107135774347
         ],
         "y": [
          -8.797418825326531,
          -9.304738746241373
         ],
         "z": [
          -12.455416331453527,
          -12.025530377459505
         ]
        },
        {
         "hoverinfo": "skip",
         "line": {
          "color": "blue",
          "width": 1
         },
         "mode": "lines",
         "name": "C2-H22",
         "opacity": 0.2,
         "showlegend": true,
         "type": "scatter3d",
         "x": [
          -21.501463172475308,
          -22.065995816552487
         ],
         "y": [
          -8.797418825326531,
          -8.277344580833768
         ],
         "z": [
          -12.455416331453527,
          -11.677052422997786
         ]
        },
        {
         "hoverinfo": "skip",
         "line": {
          "color": "blue",
          "width": 1
         },
         "mode": "lines",
         "name": "OG-C2",
         "opacity": 0.2,
         "showlegend": true,
         "type": "scatter3d",
         "x": [
          -22.20044123985231,
          -21.501463172475308
         ],
         "y": [
          -9.615071988567138,
          -8.797418825326531
         ],
         "z": [
          -12.965056444209923,
          -12.455416331453527
         ]
        },
        {
         "hoverinfo": "skip",
         "line": {
          "color": "blue",
          "width": 1
         },
         "mode": "lines",
         "name": "OG-CB",
         "opacity": 0.2,
         "showlegend": true,
         "type": "scatter3d",
         "x": [
          -22.20044123985231,
          -21.62443625420022
         ],
         "y": [
          -9.615071988567138,
          -10.889579835730615
         ],
         "z": [
          -12.965056444209923,
          -12.675289289372376
         ]
        },
        {
         "hoverinfo": "skip",
         "line": {
          "color": "blue",
          "width": 1
         },
         "mode": "lines",
         "name": "N20-N20",
         "opacity": 0.2,
         "showlegend": true,
         "type": "scatter3d",
         "x": [
          -16.932405219827135,
          -16.43383286153963
         ],
         "y": [
          -11.466711283932552,
          -12.674478023742969
         ],
         "z": [
          -10.706292780792621,
          -11.016690212739707
         ]
        },
        {
         "hoverinfo": "skip",
         "line": {
          "color": "blue",
          "width": 1
         },
         "mode": "lines",
         "name": "N20-C3",
         "opacity": 0.2,
         "showlegend": true,
         "type": "scatter3d",
         "x": [
          -16.932405219827135,
          -16.460724031596616
         ],
         "y": [
          -11.466711283932552,
          -10.750725977188209
         ],
         "z": [
          -10.706292780792621,
          -9.548505068301406
         ]
        },
        {
         "hoverinfo": "skip",
         "line": {
          "color": "blue",
          "width": 1
         },
         "mode": "lines",
         "name": "N20-C2",
         "opacity": 0.2,
         "showlegend": true,
         "type": "scatter3d",
         "x": [
          -16.932405219827135,
          -17.883335841386028
         ],
         "y": [
          -11.466711283932552,
          -11.07261871136455
         ],
         "z": [
          -10.706292780792621,
          -11.596714690467108
         ]
        },
        {
         "hoverinfo": "skip",
         "line": {
          "color": "blue",
          "width": 1
         },
         "mode": "lines",
         "name": "N20-N20",
         "opacity": 0.2,
         "showlegend": true,
         "type": "scatter3d",
         "x": [
          -16.43383286153963,
          -17.054181444287366
         ],
         "y": [
          -12.674478023742969,
          -13.086466639938957
         ],
         "z": [
          -11.016690212739707,
          -12.116800564480743
         ]
        },
        {
         "hoverinfo": "skip",
         "line": {
          "color": "blue",
          "width": 1
         },
         "mode": "lines",
         "name": "N20-C1",
         "opacity": 0.2,
         "showlegend": true,
         "type": "scatter3d",
         "x": [
          -17.054181444287366,
          -17.94511913850522
         ],
         "y": [
          -13.086466639938957,
          -12.11686686614587
         ],
         "z": [
          -12.116800564480743,
          -12.484898857986936
         ]
        },
        {
         "hoverinfo": "skip",
         "line": {
          "color": "blue",
          "width": 1
         },
         "mode": "lines",
         "name": "C3-C4",
         "opacity": 0.2,
         "showlegend": true,
         "type": "scatter3d",
         "x": [
          -16.460724031596616,
          -15.106377036834225
         ],
         "y": [
          -10.750725977188209,
          -10.104156386580106
         ],
         "z": [
          -9.548505068301406,
          -9.795804122644446
         ]
        },
        {
         "hoverinfo": "skip",
         "line": {
          "color": "blue",
          "width": 1
         },
         "mode": "lines",
         "name": "C3-H31",
         "opacity": 0.2,
         "showlegend": true,
         "type": "scatter3d",
         "x": [
          -16.460724031596616,
          -17.204536213204108
         ],
         "y": [
          -10.750725977188209,
          -9.988423087527526
         ],
         "z": [
          -9.548505068301406,
          -9.292624856273843
         ]
        },
        {
         "hoverinfo": "skip",
         "line": {
          "color": "blue",
          "width": 1
         },
         "mode": "lines",
         "name": "C3-H32",
         "opacity": 0.2,
         "showlegend": true,
         "type": "scatter3d",
         "x": [
          -16.460724031596616,
          -16.40620740262662
         ],
         "y": [
          -10.750725977188209,
          -11.460541163987825
         ],
         "z": [
          -9.548505068301406,
          -8.715999345946074
         ]
        },
        {
         "hoverinfo": "skip",
         "line": {
          "color": "blue",
          "width": 1
         },
         "mode": "lines",
         "name": "C2-C1",
         "opacity": 0.2,
         "showlegend": true,
         "type": "scatter3d",
         "x": [
          -17.883335841386028,
          -17.94511913850522
         ],
         "y": [
          -11.07261871136455,
          -12.11686686614587
         ],
         "z": [
          -11.596714690467108,
          -12.484898857986936
         ]
        },
        {
         "hoverinfo": "skip",
         "line": {
          "color": "blue",
          "width": 1
         },
         "mode": "lines",
         "name": "C2-H2",
         "opacity": 0.2,
         "showlegend": true,
         "type": "scatter3d",
         "x": [
          -17.883335841386028,
          -18.407823757257994
         ],
         "y": [
          -11.07261871136455,
          -10.130229213711917
         ],
         "z": [
          -11.596714690467108,
          -11.525360357604297
         ]
        },
        {
         "hoverinfo": "skip",
         "line": {
          "color": "blue",
          "width": 1
         },
         "mode": "lines",
         "name": "C1-C5",
         "opacity": 0.2,
         "showlegend": true,
         "type": "scatter3d",
         "x": [
          -17.94511913850522,
          -18.794574089134045
         ],
         "y": [
          -12.11686686614587,
          -12.27337193753143
         ],
         "z": [
          -12.484898857986936,
          -13.672435867718745
         ]
        },
        {
         "hoverinfo": "skip",
         "line": {
          "color": "blue",
          "width": 1
         },
         "mode": "lines",
         "name": "C4-H41",
         "opacity": 0.2,
         "showlegend": true,
         "type": "scatter3d",
         "x": [
          -15.106377036834225,
          -15.153489172347815
         ],
         "y": [
          -10.104156386580106,
          -9.399708666874526
         ],
         "z": [
          -9.795804122644446,
          -10.632998530705658
         ]
        },
        {
         "hoverinfo": "skip",
         "line": {
          "color": "blue",
          "width": 1
         },
         "mode": "lines",
         "name": "C4-H42",
         "opacity": 0.2,
         "showlegend": true,
         "type": "scatter3d",
         "x": [
          -15.106377036834225,
          -14.779396789565824
         ],
         "y": [
          -10.104156386580106,
          -9.55728470719736
         ],
         "z": [
          -9.795804122644446,
          -8.90602015774882
         ]
        },
        {
         "hoverinfo": "skip",
         "line": {
          "color": "blue",
          "width": 1
         },
         "mode": "lines",
         "name": "C5-H52",
         "opacity": 0.2,
         "showlegend": true,
         "type": "scatter3d",
         "x": [
          -18.794574089134045,
          -18.179192982831132
         ],
         "y": [
          -12.27337193753143,
          -12.4021666076146
         ],
         "z": [
          -13.672435867718745,
          -14.56833159098322
         ]
        },
        {
         "hoverinfo": "skip",
         "line": {
          "color": "blue",
          "width": 1
         },
         "mode": "lines",
         "name": "C5-H53",
         "opacity": 0.2,
         "showlegend": true,
         "type": "scatter3d",
         "x": [
          -18.794574089134045,
          -19.436484365289154
         ],
         "y": [
          -12.27337193753143,
          -11.399991862712083
         ],
         "z": [
          -13.672435867718745,
          -13.825167207904776
         ]
        },
        {
         "hoverinfo": "skip",
         "line": {
          "color": "blue",
          "width": 1
         },
         "mode": "lines",
         "name": "OXT-C5",
         "opacity": 0.2,
         "showlegend": true,
         "type": "scatter3d",
         "x": [
          -19.400346074786086,
          -18.794574089134045
         ],
         "y": [
          -13.101760124950987,
          -12.27337193753143
         ],
         "z": [
          -13.575008824460081,
          -13.672435867718745
         ]
        },
        {
         "hoverinfo": "skip",
         "line": {
          "color": "blue",
          "width": 1
         },
         "mode": "lines",
         "name": "OXT-C",
         "opacity": 0.2,
         "showlegend": true,
         "type": "scatter3d",
         "x": [
          -19.400346074786086,
          -20.73237489143039
         ],
         "y": [
          -13.101760124950987,
          -12.974755538426281
         ],
         "z": [
          -13.575008824460081,
          -13.676132840553507
         ]
        },
        {
         "hoverinfo": "skip",
         "line": {
          "color": "blue",
          "width": 1
         },
         "mode": "lines",
         "name": "N12-C4",
         "opacity": 0.2,
         "showlegend": true,
         "type": "scatter3d",
         "x": [
          -14.373235243672559,
          -15.106377036834225
         ],
         "y": [
          -10.827399508826089,
          -10.104156386580106
         ],
         "z": [
          -10.024300720204746,
          -9.795804122644446
         ]
        },
        {
         "hoverinfo": "skip",
         "line": {
          "color": "blue",
          "width": 1
         },
         "mode": "lines",
         "name": "C1-O2",
         "opacity": 0.2,
         "showlegend": true,
         "type": "scatter3d",
         "x": [
          -10.073968975869896,
          -10.785386476475335
         ],
         "y": [
          -12.014040224181683,
          -11.247929221411738
         ],
         "z": [
          -9.029838477319984,
          -9.882867504325304
         ]
        }
       ],
       "layout": {
        "scene": {
         "xaxis": {
          "showgrid": false,
          "showline": false,
          "showticklabels": false
         },
         "yaxis": {
          "showgrid": false,
          "showline": false,
          "showticklabels": false
         },
         "zaxis": {
          "showgrid": false,
          "showline": false,
          "showticklabels": false
         }
        },
        "template": {
         "data": {
          "bar": [
           {
            "error_x": {
             "color": "rgb(36,36,36)"
            },
            "error_y": {
             "color": "rgb(36,36,36)"
            },
            "marker": {
             "line": {
              "color": "white",
              "width": 0.5
             },
             "pattern": {
              "fillmode": "overlay",
              "size": 10,
              "solidity": 0.2
             }
            },
            "type": "bar"
           }
          ],
          "barpolar": [
           {
            "marker": {
             "line": {
              "color": "white",
              "width": 0.5
             },
             "pattern": {
              "fillmode": "overlay",
              "size": 10,
              "solidity": 0.2
             }
            },
            "type": "barpolar"
           }
          ],
          "carpet": [
           {
            "aaxis": {
             "endlinecolor": "rgb(36,36,36)",
             "gridcolor": "white",
             "linecolor": "white",
             "minorgridcolor": "white",
             "startlinecolor": "rgb(36,36,36)"
            },
            "baxis": {
             "endlinecolor": "rgb(36,36,36)",
             "gridcolor": "white",
             "linecolor": "white",
             "minorgridcolor": "white",
             "startlinecolor": "rgb(36,36,36)"
            },
            "type": "carpet"
           }
          ],
          "choropleth": [
           {
            "colorbar": {
             "outlinewidth": 1,
             "tickcolor": "rgb(36,36,36)",
             "ticks": "outside"
            },
            "type": "choropleth"
           }
          ],
          "contour": [
           {
            "colorbar": {
             "outlinewidth": 1,
             "tickcolor": "rgb(36,36,36)",
             "ticks": "outside"
            },
            "colorscale": [
             [
              0,
              "#440154"
             ],
             [
              0.1111111111111111,
              "#482878"
             ],
             [
              0.2222222222222222,
              "#3e4989"
             ],
             [
              0.3333333333333333,
              "#31688e"
             ],
             [
              0.4444444444444444,
              "#26828e"
             ],
             [
              0.5555555555555556,
              "#1f9e89"
             ],
             [
              0.6666666666666666,
              "#35b779"
             ],
             [
              0.7777777777777778,
              "#6ece58"
             ],
             [
              0.8888888888888888,
              "#b5de2b"
             ],
             [
              1,
              "#fde725"
             ]
            ],
            "type": "contour"
           }
          ],
          "contourcarpet": [
           {
            "colorbar": {
             "outlinewidth": 1,
             "tickcolor": "rgb(36,36,36)",
             "ticks": "outside"
            },
            "type": "contourcarpet"
           }
          ],
          "heatmap": [
           {
            "colorbar": {
             "outlinewidth": 1,
             "tickcolor": "rgb(36,36,36)",
             "ticks": "outside"
            },
            "colorscale": [
             [
              0,
              "#440154"
             ],
             [
              0.1111111111111111,
              "#482878"
             ],
             [
              0.2222222222222222,
              "#3e4989"
             ],
             [
              0.3333333333333333,
              "#31688e"
             ],
             [
              0.4444444444444444,
              "#26828e"
             ],
             [
              0.5555555555555556,
              "#1f9e89"
             ],
             [
              0.6666666666666666,
              "#35b779"
             ],
             [
              0.7777777777777778,
              "#6ece58"
             ],
             [
              0.8888888888888888,
              "#b5de2b"
             ],
             [
              1,
              "#fde725"
             ]
            ],
            "type": "heatmap"
           }
          ],
          "heatmapgl": [
           {
            "colorbar": {
             "outlinewidth": 1,
             "tickcolor": "rgb(36,36,36)",
             "ticks": "outside"
            },
            "colorscale": [
             [
              0,
              "#440154"
             ],
             [
              0.1111111111111111,
              "#482878"
             ],
             [
              0.2222222222222222,
              "#3e4989"
             ],
             [
              0.3333333333333333,
              "#31688e"
             ],
             [
              0.4444444444444444,
              "#26828e"
             ],
             [
              0.5555555555555556,
              "#1f9e89"
             ],
             [
              0.6666666666666666,
              "#35b779"
             ],
             [
              0.7777777777777778,
              "#6ece58"
             ],
             [
              0.8888888888888888,
              "#b5de2b"
             ],
             [
              1,
              "#fde725"
             ]
            ],
            "type": "heatmapgl"
           }
          ],
          "histogram": [
           {
            "marker": {
             "line": {
              "color": "white",
              "width": 0.6
             }
            },
            "type": "histogram"
           }
          ],
          "histogram2d": [
           {
            "colorbar": {
             "outlinewidth": 1,
             "tickcolor": "rgb(36,36,36)",
             "ticks": "outside"
            },
            "colorscale": [
             [
              0,
              "#440154"
             ],
             [
              0.1111111111111111,
              "#482878"
             ],
             [
              0.2222222222222222,
              "#3e4989"
             ],
             [
              0.3333333333333333,
              "#31688e"
             ],
             [
              0.4444444444444444,
              "#26828e"
             ],
             [
              0.5555555555555556,
              "#1f9e89"
             ],
             [
              0.6666666666666666,
              "#35b779"
             ],
             [
              0.7777777777777778,
              "#6ece58"
             ],
             [
              0.8888888888888888,
              "#b5de2b"
             ],
             [
              1,
              "#fde725"
             ]
            ],
            "type": "histogram2d"
           }
          ],
          "histogram2dcontour": [
           {
            "colorbar": {
             "outlinewidth": 1,
             "tickcolor": "rgb(36,36,36)",
             "ticks": "outside"
            },
            "colorscale": [
             [
              0,
              "#440154"
             ],
             [
              0.1111111111111111,
              "#482878"
             ],
             [
              0.2222222222222222,
              "#3e4989"
             ],
             [
              0.3333333333333333,
              "#31688e"
             ],
             [
              0.4444444444444444,
              "#26828e"
             ],
             [
              0.5555555555555556,
              "#1f9e89"
             ],
             [
              0.6666666666666666,
              "#35b779"
             ],
             [
              0.7777777777777778,
              "#6ece58"
             ],
             [
              0.8888888888888888,
              "#b5de2b"
             ],
             [
              1,
              "#fde725"
             ]
            ],
            "type": "histogram2dcontour"
           }
          ],
          "mesh3d": [
           {
            "colorbar": {
             "outlinewidth": 1,
             "tickcolor": "rgb(36,36,36)",
             "ticks": "outside"
            },
            "type": "mesh3d"
           }
          ],
          "parcoords": [
           {
            "line": {
             "colorbar": {
              "outlinewidth": 1,
              "tickcolor": "rgb(36,36,36)",
              "ticks": "outside"
             }
            },
            "type": "parcoords"
           }
          ],
          "pie": [
           {
            "automargin": true,
            "type": "pie"
           }
          ],
          "scatter": [
           {
            "fillpattern": {
             "fillmode": "overlay",
             "size": 10,
             "solidity": 0.2
            },
            "type": "scatter"
           }
          ],
          "scatter3d": [
           {
            "line": {
             "colorbar": {
              "outlinewidth": 1,
              "tickcolor": "rgb(36,36,36)",
              "ticks": "outside"
             }
            },
            "marker": {
             "colorbar": {
              "outlinewidth": 1,
              "tickcolor": "rgb(36,36,36)",
              "ticks": "outside"
             }
            },
            "type": "scatter3d"
           }
          ],
          "scattercarpet": [
           {
            "marker": {
             "colorbar": {
              "outlinewidth": 1,
              "tickcolor": "rgb(36,36,36)",
              "ticks": "outside"
             }
            },
            "type": "scattercarpet"
           }
          ],
          "scattergeo": [
           {
            "marker": {
             "colorbar": {
              "outlinewidth": 1,
              "tickcolor": "rgb(36,36,36)",
              "ticks": "outside"
             }
            },
            "type": "scattergeo"
           }
          ],
          "scattergl": [
           {
            "marker": {
             "colorbar": {
              "outlinewidth": 1,
              "tickcolor": "rgb(36,36,36)",
              "ticks": "outside"
             }
            },
            "type": "scattergl"
           }
          ],
          "scattermapbox": [
           {
            "marker": {
             "colorbar": {
              "outlinewidth": 1,
              "tickcolor": "rgb(36,36,36)",
              "ticks": "outside"
             }
            },
            "type": "scattermapbox"
           }
          ],
          "scatterpolar": [
           {
            "marker": {
             "colorbar": {
              "outlinewidth": 1,
              "tickcolor": "rgb(36,36,36)",
              "ticks": "outside"
             }
            },
            "type": "scatterpolar"
           }
          ],
          "scatterpolargl": [
           {
            "marker": {
             "colorbar": {
              "outlinewidth": 1,
              "tickcolor": "rgb(36,36,36)",
              "ticks": "outside"
             }
            },
            "type": "scatterpolargl"
           }
          ],
          "scatterternary": [
           {
            "marker": {
             "colorbar": {
              "outlinewidth": 1,
              "tickcolor": "rgb(36,36,36)",
              "ticks": "outside"
             }
            },
            "type": "scatterternary"
           }
          ],
          "surface": [
           {
            "colorbar": {
             "outlinewidth": 1,
             "tickcolor": "rgb(36,36,36)",
             "ticks": "outside"
            },
            "colorscale": [
             [
              0,
              "#440154"
             ],
             [
              0.1111111111111111,
              "#482878"
             ],
             [
              0.2222222222222222,
              "#3e4989"
             ],
             [
              0.3333333333333333,
              "#31688e"
             ],
             [
              0.4444444444444444,
              "#26828e"
             ],
             [
              0.5555555555555556,
              "#1f9e89"
             ],
             [
              0.6666666666666666,
              "#35b779"
             ],
             [
              0.7777777777777778,
              "#6ece58"
             ],
             [
              0.8888888888888888,
              "#b5de2b"
             ],
             [
              1,
              "#fde725"
             ]
            ],
            "type": "surface"
           }
          ],
          "table": [
           {
            "cells": {
             "fill": {
              "color": "rgb(237,237,237)"
             },
             "line": {
              "color": "white"
             }
            },
            "header": {
             "fill": {
              "color": "rgb(217,217,217)"
             },
             "line": {
              "color": "white"
             }
            },
            "type": "table"
           }
          ]
         },
         "layout": {
          "annotationdefaults": {
           "arrowhead": 0,
           "arrowwidth": 1
          },
          "autotypenumbers": "strict",
          "coloraxis": {
           "colorbar": {
            "outlinewidth": 1,
            "tickcolor": "rgb(36,36,36)",
            "ticks": "outside"
           }
          },
          "colorscale": {
           "diverging": [
            [
             0,
             "rgb(103,0,31)"
            ],
            [
             0.1,
             "rgb(178,24,43)"
            ],
            [
             0.2,
             "rgb(214,96,77)"
            ],
            [
             0.3,
             "rgb(244,165,130)"
            ],
            [
             0.4,
             "rgb(253,219,199)"
            ],
            [
             0.5,
             "rgb(247,247,247)"
            ],
            [
             0.6,
             "rgb(209,229,240)"
            ],
            [
             0.7,
             "rgb(146,197,222)"
            ],
            [
             0.8,
             "rgb(67,147,195)"
            ],
            [
             0.9,
             "rgb(33,102,172)"
            ],
            [
             1,
             "rgb(5,48,97)"
            ]
           ],
           "sequential": [
            [
             0,
             "#440154"
            ],
            [
             0.1111111111111111,
             "#482878"
            ],
            [
             0.2222222222222222,
             "#3e4989"
            ],
            [
             0.3333333333333333,
             "#31688e"
            ],
            [
             0.4444444444444444,
             "#26828e"
            ],
            [
             0.5555555555555556,
             "#1f9e89"
            ],
            [
             0.6666666666666666,
             "#35b779"
            ],
            [
             0.7777777777777778,
             "#6ece58"
            ],
            [
             0.8888888888888888,
             "#b5de2b"
            ],
            [
             1,
             "#fde725"
            ]
           ],
           "sequentialminus": [
            [
             0,
             "#440154"
            ],
            [
             0.1111111111111111,
             "#482878"
            ],
            [
             0.2222222222222222,
             "#3e4989"
            ],
            [
             0.3333333333333333,
             "#31688e"
            ],
            [
             0.4444444444444444,
             "#26828e"
            ],
            [
             0.5555555555555556,
             "#1f9e89"
            ],
            [
             0.6666666666666666,
             "#35b779"
            ],
            [
             0.7777777777777778,
             "#6ece58"
            ],
            [
             0.8888888888888888,
             "#b5de2b"
            ],
            [
             1,
             "#fde725"
            ]
           ]
          },
          "colorway": [
           "#1F77B4",
           "#FF7F0E",
           "#2CA02C",
           "#D62728",
           "#9467BD",
           "#8C564B",
           "#E377C2",
           "#7F7F7F",
           "#BCBD22",
           "#17BECF"
          ],
          "font": {
           "color": "rgb(36,36,36)"
          },
          "geo": {
           "bgcolor": "white",
           "lakecolor": "white",
           "landcolor": "white",
           "showlakes": true,
           "showland": true,
           "subunitcolor": "white"
          },
          "hoverlabel": {
           "align": "left"
          },
          "hovermode": "closest",
          "mapbox": {
           "style": "light"
          },
          "paper_bgcolor": "white",
          "plot_bgcolor": "white",
          "polar": {
           "angularaxis": {
            "gridcolor": "rgb(232,232,232)",
            "linecolor": "rgb(36,36,36)",
            "showgrid": false,
            "showline": true,
            "ticks": "outside"
           },
           "bgcolor": "white",
           "radialaxis": {
            "gridcolor": "rgb(232,232,232)",
            "linecolor": "rgb(36,36,36)",
            "showgrid": false,
            "showline": true,
            "ticks": "outside"
           }
          },
          "scene": {
           "xaxis": {
            "backgroundcolor": "white",
            "gridcolor": "rgb(232,232,232)",
            "gridwidth": 2,
            "linecolor": "rgb(36,36,36)",
            "showbackground": true,
            "showgrid": false,
            "showline": true,
            "ticks": "outside",
            "zeroline": false,
            "zerolinecolor": "rgb(36,36,36)"
           },
           "yaxis": {
            "backgroundcolor": "white",
            "gridcolor": "rgb(232,232,232)",
            "gridwidth": 2,
            "linecolor": "rgb(36,36,36)",
            "showbackground": true,
            "showgrid": false,
            "showline": true,
            "ticks": "outside",
            "zeroline": false,
            "zerolinecolor": "rgb(36,36,36)"
           },
           "zaxis": {
            "backgroundcolor": "white",
            "gridcolor": "rgb(232,232,232)",
            "gridwidth": 2,
            "linecolor": "rgb(36,36,36)",
            "showbackground": true,
            "showgrid": false,
            "showline": true,
            "ticks": "outside",
            "zeroline": false,
            "zerolinecolor": "rgb(36,36,36)"
           }
          },
          "shapedefaults": {
           "fillcolor": "black",
           "line": {
            "width": 0
           },
           "opacity": 0.3
          },
          "ternary": {
           "aaxis": {
            "gridcolor": "rgb(232,232,232)",
            "linecolor": "rgb(36,36,36)",
            "showgrid": false,
            "showline": true,
            "ticks": "outside"
           },
           "baxis": {
            "gridcolor": "rgb(232,232,232)",
            "linecolor": "rgb(36,36,36)",
            "showgrid": false,
            "showline": true,
            "ticks": "outside"
           },
           "bgcolor": "white",
           "caxis": {
            "gridcolor": "rgb(232,232,232)",
            "linecolor": "rgb(36,36,36)",
            "showgrid": false,
            "showline": true,
            "ticks": "outside"
           }
          },
          "title": {
           "x": 0.05
          },
          "xaxis": {
           "automargin": true,
           "gridcolor": "rgb(232,232,232)",
           "linecolor": "rgb(36,36,36)",
           "showgrid": false,
           "showline": true,
           "ticks": "outside",
           "title": {
            "standoff": 15
           },
           "zeroline": false,
           "zerolinecolor": "rgb(36,36,36)"
          },
          "yaxis": {
           "automargin": true,
           "gridcolor": "rgb(232,232,232)",
           "linecolor": "rgb(36,36,36)",
           "showgrid": false,
           "showline": true,
           "ticks": "outside",
           "title": {
            "standoff": 15
           },
           "zeroline": false,
           "zerolinecolor": "rgb(36,36,36)"
          }
         }
        }
       }
      }
     },
     "metadata": {},
     "output_type": "display_data"
    }
   ],
   "source": [
    "env = make_environment(s)\n",
    "v = env.graph.draw()\n",
    "v.draw_edges(*env.rotatable_edges, color=\"red\", elongate=1.2, linewidth=3)\n",
    "v.draw_edges(*s.bonds, color=\"blue\", opacity=0.2)\n",
    "v.show()"
   ]
  },
  {
   "cell_type": "code",
   "execution_count": 189,
   "metadata": {},
   "outputs": [],
   "source": [
    "radii = np.arange(5, 35, 2)"
   ]
  },
  {
   "cell_type": "code",
   "execution_count": 190,
   "metadata": {},
   "outputs": [],
   "source": [
    "# structure, max_dist, n_atoms, radius, initial_eval, final_eval, initial_clashes, final_clashes, time\n",
    "data = []"
   ]
  },
  {
   "cell_type": "code",
   "execution_count": 191,
   "metadata": {},
   "outputs": [
    {
     "name": "stdout",
     "output_type": "stream",
     "text": [
      "Running on /Users/noahhk/GIT/biobuild/biobuild/optimizers/_testing/files/GL2.json\n",
      "Running with radius 5\n",
      "Run 1/5 complete\n",
      "Run 2/5 complete\n",
      "Run 3/5 complete\n",
      "Run 4/5 complete\n",
      "Run 5/5 complete\n",
      "Running with radius 7\n",
      "Run 1/5 complete\n",
      "Run 2/5 complete\n",
      "Run 3/5 complete\n",
      "Run 4/5 complete\n",
      "Run 5/5 complete\n",
      "Running with radius 9\n",
      "Run 1/5 complete\n",
      "Run 2/5 complete\n",
      "Run 3/5 complete\n",
      "Run 4/5 complete\n",
      "Run 5/5 complete\n",
      "Running with radius 11\n",
      "Run 1/5 complete\n",
      "Run 2/5 complete\n",
      "Run 3/5 complete\n",
      "Run 4/5 complete\n",
      "Run 5/5 complete\n",
      "Running with radius 13\n",
      "Run 1/5 complete\n",
      "Run 2/5 complete\n",
      "Run 3/5 complete\n",
      "Run 4/5 complete\n",
      "Run 5/5 complete\n",
      "Running with radius 15\n",
      "Run 1/5 complete\n",
      "Run 2/5 complete\n",
      "Run 3/5 complete\n",
      "Run 4/5 complete\n",
      "Run 5/5 complete\n",
      "Running with radius 17\n",
      "Run 1/5 complete\n",
      "Run 2/5 complete\n",
      "Run 3/5 complete\n",
      "Run 4/5 complete\n",
      "Run 5/5 complete\n",
      "Running with radius 19\n",
      "Run 1/5 complete\n",
      "Run 2/5 complete\n",
      "Run 3/5 complete\n",
      "Run 4/5 complete\n",
      "Run 5/5 complete\n",
      "Running with radius 21\n",
      "Run 1/5 complete\n",
      "Run 2/5 complete\n",
      "Run 3/5 complete\n",
      "Run 4/5 complete\n",
      "Run 5/5 complete\n",
      "Running with radius 23\n",
      "Run 1/5 complete\n",
      "Run 2/5 complete\n",
      "Run 3/5 complete\n",
      "Run 4/5 complete\n",
      "Run 5/5 complete\n",
      "Running with radius 25\n",
      "Run 1/5 complete\n",
      "Run 2/5 complete\n",
      "Run 3/5 complete\n",
      "Run 4/5 complete\n",
      "Run 5/5 complete\n",
      "Running with radius 27\n",
      "Run 1/5 complete\n",
      "Run 2/5 complete\n",
      "Run 3/5 complete\n",
      "Run 4/5 complete\n",
      "Run 5/5 complete\n",
      "Running with radius 29\n",
      "Run 1/5 complete\n",
      "Run 2/5 complete\n",
      "Run 3/5 complete\n",
      "Run 4/5 complete\n",
      "Run 5/5 complete\n",
      "Running with radius 31\n",
      "Run 1/5 complete\n",
      "Run 2/5 complete\n",
      "Run 3/5 complete\n",
      "Run 4/5 complete\n",
      "Run 5/5 complete\n",
      "Running with radius 33\n",
      "Run 1/5 complete\n",
      "Run 2/5 complete\n",
      "Run 3/5 complete\n",
      "Run 4/5 complete\n",
      "Run 5/5 complete\n",
      "Running on /Users/noahhk/GIT/biobuild/biobuild/optimizers/_testing/files/PEP.json\n",
      "Running with radius 5\n",
      "Run 1/5 complete\n",
      "Run 2/5 complete\n",
      "Run 3/5 complete\n",
      "Run 4/5 complete\n",
      "Run 5/5 complete\n",
      "Running with radius 7\n",
      "Run 1/5 complete\n",
      "Run 2/5 complete\n",
      "Run 3/5 complete\n",
      "Run 4/5 complete\n",
      "Run 5/5 complete\n",
      "Running with radius 9\n",
      "Run 1/5 complete\n",
      "Run 2/5 complete\n",
      "Run 3/5 complete\n",
      "Run 4/5 complete\n",
      "Run 5/5 complete\n",
      "Running with radius 11\n",
      "Run 1/5 complete\n",
      "Run 2/5 complete\n",
      "Run 3/5 complete\n",
      "Run 4/5 complete\n",
      "Run 5/5 complete\n",
      "Running with radius 13\n",
      "Run 1/5 complete\n",
      "Run 2/5 complete\n",
      "Run 3/5 complete\n",
      "Run 4/5 complete\n",
      "Run 5/5 complete\n",
      "Running with radius 15\n",
      "Run 1/5 complete\n",
      "Run 2/5 complete\n",
      "Run 3/5 complete\n",
      "Run 4/5 complete\n",
      "Run 5/5 complete\n",
      "Running with radius 17\n",
      "Run 1/5 complete\n",
      "Run 2/5 complete\n",
      "Run 3/5 complete\n",
      "Run 4/5 complete\n",
      "Run 5/5 complete\n",
      "Running with radius 19\n",
      "Run 1/5 complete\n",
      "Run 2/5 complete\n",
      "Run 3/5 complete\n",
      "Run 4/5 complete\n",
      "Run 5/5 complete\n",
      "Running with radius 21\n",
      "Run 1/5 complete\n",
      "Run 2/5 complete\n",
      "Run 3/5 complete\n",
      "Run 4/5 complete\n",
      "Run 5/5 complete\n",
      "Running with radius 23\n",
      "Run 1/5 complete\n",
      "Run 2/5 complete\n",
      "Run 3/5 complete\n",
      "Run 4/5 complete\n",
      "Run 5/5 complete\n",
      "Running with radius 25\n",
      "Run 1/5 complete\n",
      "Run 2/5 complete\n",
      "Run 3/5 complete\n",
      "Run 4/5 complete\n",
      "Run 5/5 complete\n",
      "Running with radius 27\n",
      "Run 1/5 complete\n",
      "Run 2/5 complete\n",
      "Run 3/5 complete\n",
      "Run 4/5 complete\n",
      "Run 5/5 complete\n",
      "Running with radius 29\n",
      "Run 1/5 complete\n",
      "Run 2/5 complete\n",
      "Run 3/5 complete\n",
      "Run 4/5 complete\n",
      "Run 5/5 complete\n",
      "Running with radius 31\n",
      "Run 1/5 complete\n",
      "Run 2/5 complete\n",
      "Run 3/5 complete\n",
      "Run 4/5 complete\n",
      "Run 5/5 complete\n",
      "Running with radius 33\n",
      "Run 1/5 complete\n",
      "Run 2/5 complete\n",
      "Run 3/5 complete\n",
      "Run 4/5 complete\n",
      "Run 5/5 complete\n",
      "Running on /Users/noahhk/GIT/biobuild/biobuild/optimizers/_testing/files/EX6.json\n",
      "Running with radius 5\n",
      "Run 1/5 complete\n",
      "Run 2/5 complete\n",
      "Run 3/5 complete\n",
      "Run 4/5 complete\n",
      "Run 5/5 complete\n",
      "Running with radius 7\n",
      "Run 1/5 complete\n",
      "Run 2/5 complete\n",
      "Run 3/5 complete\n",
      "Run 4/5 complete\n",
      "Run 5/5 complete\n",
      "Running with radius 9\n",
      "Run 1/5 complete\n",
      "Run 2/5 complete\n",
      "Run 3/5 complete\n",
      "Run 4/5 complete\n",
      "Run 5/5 complete\n",
      "Running with radius 11\n",
      "Run 1/5 complete\n",
      "Run 2/5 complete\n",
      "Run 3/5 complete\n",
      "Run 4/5 complete\n",
      "Run 5/5 complete\n",
      "Running with radius 13\n",
      "Run 1/5 complete\n",
      "Run 2/5 complete\n",
      "Run 3/5 complete\n",
      "Run 4/5 complete\n",
      "Run 5/5 complete\n",
      "Running with radius 15\n",
      "Run 1/5 complete\n",
      "Run 2/5 complete\n",
      "Run 3/5 complete\n",
      "Run 4/5 complete\n",
      "Run 5/5 complete\n",
      "Running with radius 17\n",
      "Run 1/5 complete\n",
      "Run 2/5 complete\n",
      "Run 3/5 complete\n",
      "Run 4/5 complete\n",
      "Run 5/5 complete\n",
      "Running with radius 19\n",
      "Run 1/5 complete\n",
      "Run 2/5 complete\n",
      "Run 3/5 complete\n",
      "Run 4/5 complete\n",
      "Run 5/5 complete\n",
      "Running with radius 21\n",
      "Run 1/5 complete\n",
      "Run 2/5 complete\n",
      "Run 3/5 complete\n",
      "Run 4/5 complete\n",
      "Run 5/5 complete\n",
      "Running with radius 23\n",
      "Run 1/5 complete\n",
      "Run 2/5 complete\n",
      "Run 3/5 complete\n",
      "Run 4/5 complete\n",
      "Run 5/5 complete\n",
      "Running with radius 25\n",
      "Run 1/5 complete\n",
      "Run 2/5 complete\n",
      "Run 3/5 complete\n",
      "Run 4/5 complete\n",
      "Run 5/5 complete\n",
      "Running with radius 27\n",
      "Run 1/5 complete\n",
      "Run 2/5 complete\n",
      "Run 3/5 complete\n",
      "Run 4/5 complete\n",
      "Run 5/5 complete\n",
      "Running with radius 29\n",
      "Run 1/5 complete\n",
      "Run 2/5 complete\n",
      "Run 3/5 complete\n",
      "Run 4/5 complete\n",
      "Run 5/5 complete\n",
      "Running with radius 31\n",
      "Run 1/5 complete\n",
      "Run 2/5 complete\n",
      "Run 3/5 complete\n",
      "Run 4/5 complete\n",
      "Run 5/5 complete\n",
      "Running with radius 33\n",
      "Run 1/5 complete\n",
      "Run 2/5 complete\n",
      "Run 3/5 complete\n",
      "Run 4/5 complete\n",
      "Run 5/5 complete\n",
      "Running on /Users/noahhk/GIT/biobuild/biobuild/optimizers/_testing/files/EX7.json\n",
      "Running with radius 5\n",
      "Run 1/5 complete\n",
      "Run 2/5 complete\n",
      "Run 3/5 complete\n",
      "Run 4/5 complete\n",
      "Run 5/5 complete\n",
      "Running with radius 7\n",
      "Run 1/5 complete\n",
      "Run 2/5 complete\n",
      "Run 3/5 complete\n",
      "Run 4/5 complete\n",
      "Run 5/5 complete\n",
      "Running with radius 9\n",
      "Run 1/5 complete\n",
      "Run 2/5 complete\n",
      "Run 3/5 complete\n",
      "Run 4/5 complete\n",
      "Run 5/5 complete\n",
      "Running with radius 11\n",
      "Run 1/5 complete\n",
      "Run 2/5 complete\n",
      "Run 3/5 complete\n",
      "Run 4/5 complete\n",
      "Run 5/5 complete\n",
      "Running with radius 13\n",
      "Run 1/5 complete\n",
      "Run 2/5 complete\n",
      "Run 3/5 complete\n",
      "Run 4/5 complete\n",
      "Run 5/5 complete\n",
      "Running with radius 15\n",
      "Run 1/5 complete\n",
      "Run 2/5 complete\n",
      "Run 3/5 complete\n",
      "Run 4/5 complete\n",
      "Run 5/5 complete\n",
      "Running with radius 17\n",
      "Run 1/5 complete\n",
      "Run 2/5 complete\n",
      "Run 3/5 complete\n",
      "Run 4/5 complete\n",
      "Run 5/5 complete\n",
      "Running with radius 19\n",
      "Run 1/5 complete\n",
      "Run 2/5 complete\n",
      "Run 3/5 complete\n",
      "Run 4/5 complete\n",
      "Run 5/5 complete\n",
      "Running with radius 21\n",
      "Run 1/5 complete\n",
      "Run 2/5 complete\n",
      "Run 3/5 complete\n",
      "Run 4/5 complete\n",
      "Run 5/5 complete\n",
      "Running with radius 23\n",
      "Run 1/5 complete\n",
      "Run 2/5 complete\n",
      "Run 3/5 complete\n",
      "Run 4/5 complete\n",
      "Run 5/5 complete\n",
      "Running with radius 25\n",
      "Run 1/5 complete\n",
      "Run 2/5 complete\n",
      "Run 3/5 complete\n",
      "Run 4/5 complete\n",
      "Run 5/5 complete\n",
      "Running with radius 27\n",
      "Run 1/5 complete\n",
      "Run 2/5 complete\n",
      "Run 3/5 complete\n",
      "Run 4/5 complete\n",
      "Run 5/5 complete\n",
      "Running with radius 29\n",
      "Run 1/5 complete\n",
      "Run 2/5 complete\n",
      "Run 3/5 complete\n",
      "Run 4/5 complete\n",
      "Run 5/5 complete\n",
      "Running with radius 31\n",
      "Run 1/5 complete\n",
      "Run 2/5 complete\n",
      "Run 3/5 complete\n",
      "Run 4/5 complete\n",
      "Run 5/5 complete\n",
      "Running with radius 33\n",
      "Run 1/5 complete\n",
      "Run 2/5 complete\n",
      "Run 3/5 complete\n",
      "Run 4/5 complete\n",
      "Run 5/5 complete\n"
     ]
    }
   ],
   "source": [
    "for structure in structures_to_run_on:\n",
    "    print(f\"Running on {structure}\")\n",
    "    if structure not in available_structures:\n",
    "        s = bam.molecule(structure)\n",
    "        available_structures[structure] = s\n",
    "\n",
    "    coords = np.array([a.coord for a in s.get_atoms()])\n",
    "    max_dist = np.max(cdist(coords, coords))\n",
    "    clashes = auxiliary.count_clashes(s, clash_cutoff)\n",
    "\n",
    "    structure = available_structures[structure]\n",
    "    for radius in radii:\n",
    "        print(f\"Running with radius {radius}\")\n",
    "\n",
    "\n",
    "        rotatron_params[\"radius\"] = radius\n",
    "        env = make_environment(structure)\n",
    "        _data = [structure.id, max_dist, len(coords), radius, env._last_eval]\n",
    "        \n",
    "\n",
    "        if visualize_final_structure:\n",
    "            if not v:\n",
    "                v = structure.draw()\n",
    "                v.draw_edges(*env.rotatable_edges, color=\"cyan\", linewidth=6)\n",
    "\n",
    "        for r in range(re_runs):\n",
    "\n",
    "            t1 = time.time()\n",
    "            # we are interested in learning the full time to make and solve the environment\n",
    "            env = make_environment(structure)\n",
    "            sol, eval = agent(env, **agent_params)\n",
    "            t2 = time.time()\n",
    "            \n",
    "            final = auxiliary.apply_solution(sol, env, structure.copy())\n",
    "            final_clashes = auxiliary.count_clashes(final, clash_cutoff)\n",
    "\n",
    "            _data_ = _data + [eval, clashes, final_clashes, t2 - t1]\n",
    "            data.append(_data_)\n",
    "            # print(_data_)\n",
    "            \n",
    "            if visualize_final_structure:\n",
    "                v.draw_edges(*final.bonds, **visualization_params)        \n",
    "            \n",
    "            if export_pdb:\n",
    "                final.to_pdb(f\"{export_name_prefix}.{structure.id}_{r}.pdb\")  \n",
    "            \n",
    "            print(f\"Run {r+1}/{re_runs} complete\")\n",
    "        \n",
    "        if visualize_final_structure:\n",
    "            _best = auxiliary.apply_solution(env.best[1], env, structure.copy())\n",
    "            if export_pdb:\n",
    "                _best.to_pdb(f\"{export_name_prefix}.{structure.id}_best.pdb\")\n",
    "            v.draw_edges(*_best.bonds, color=\"green\", linewidth=6)\n",
    "            final_visuals[structure.id] = v\n",
    "            v = None    \n",
    "        "
   ]
  },
  {
   "cell_type": "markdown",
   "metadata": {},
   "source": [
    "And now do some data collecting and visualization"
   ]
  },
  {
   "cell_type": "code",
   "execution_count": 201,
   "metadata": {},
   "outputs": [],
   "source": [
    "df = pd.DataFrame(data, columns=[\"structure\", \"max_dist\", \"n_atoms\", \"radius\", \"initial_eval\", \"final_eval\", \"initial_clashes\", \"final_clashes\", \"time\"])\n",
    "df.to_csv(f\"{export_name_prefix}.data.csv\", index=False)"
   ]
  },
  {
   "cell_type": "code",
   "execution_count": 202,
   "metadata": {},
   "outputs": [
    {
     "data": {
      "text/html": [
       "<div>\n",
       "<style scoped>\n",
       "    .dataframe tbody tr th:only-of-type {\n",
       "        vertical-align: middle;\n",
       "    }\n",
       "\n",
       "    .dataframe tbody tr th {\n",
       "        vertical-align: top;\n",
       "    }\n",
       "\n",
       "    .dataframe thead th {\n",
       "        text-align: right;\n",
       "    }\n",
       "</style>\n",
       "<table border=\"1\" class=\"dataframe\">\n",
       "  <thead>\n",
       "    <tr style=\"text-align: right;\">\n",
       "      <th></th>\n",
       "      <th>structure</th>\n",
       "      <th>max_dist</th>\n",
       "      <th>n_atoms</th>\n",
       "      <th>radius</th>\n",
       "      <th>initial_eval</th>\n",
       "      <th>final_eval</th>\n",
       "      <th>initial_clashes</th>\n",
       "      <th>final_clashes</th>\n",
       "      <th>time</th>\n",
       "    </tr>\n",
       "  </thead>\n",
       "  <tbody>\n",
       "    <tr>\n",
       "      <th>0</th>\n",
       "      <td>GL2</td>\n",
       "      <td>10.668234</td>\n",
       "      <td>45</td>\n",
       "      <td>5</td>\n",
       "      <td>35.727023</td>\n",
       "      <td>35.993409</td>\n",
       "      <td>0</td>\n",
       "      <td>0</td>\n",
       "      <td>0.404185</td>\n",
       "    </tr>\n",
       "    <tr>\n",
       "      <th>1</th>\n",
       "      <td>GL2</td>\n",
       "      <td>10.668234</td>\n",
       "      <td>45</td>\n",
       "      <td>5</td>\n",
       "      <td>35.727023</td>\n",
       "      <td>36.494305</td>\n",
       "      <td>0</td>\n",
       "      <td>0</td>\n",
       "      <td>2.479657</td>\n",
       "    </tr>\n",
       "    <tr>\n",
       "      <th>2</th>\n",
       "      <td>GL2</td>\n",
       "      <td>10.668234</td>\n",
       "      <td>45</td>\n",
       "      <td>5</td>\n",
       "      <td>35.727023</td>\n",
       "      <td>36.138724</td>\n",
       "      <td>0</td>\n",
       "      <td>0</td>\n",
       "      <td>0.292356</td>\n",
       "    </tr>\n",
       "    <tr>\n",
       "      <th>3</th>\n",
       "      <td>GL2</td>\n",
       "      <td>10.668234</td>\n",
       "      <td>45</td>\n",
       "      <td>5</td>\n",
       "      <td>35.727023</td>\n",
       "      <td>36.158269</td>\n",
       "      <td>0</td>\n",
       "      <td>0</td>\n",
       "      <td>4.188285</td>\n",
       "    </tr>\n",
       "    <tr>\n",
       "      <th>4</th>\n",
       "      <td>GL2</td>\n",
       "      <td>10.668234</td>\n",
       "      <td>45</td>\n",
       "      <td>5</td>\n",
       "      <td>35.727023</td>\n",
       "      <td>36.150490</td>\n",
       "      <td>0</td>\n",
       "      <td>0</td>\n",
       "      <td>0.290208</td>\n",
       "    </tr>\n",
       "    <tr>\n",
       "      <th>...</th>\n",
       "      <td>...</td>\n",
       "      <td>...</td>\n",
       "      <td>...</td>\n",
       "      <td>...</td>\n",
       "      <td>...</td>\n",
       "      <td>...</td>\n",
       "      <td>...</td>\n",
       "      <td>...</td>\n",
       "      <td>...</td>\n",
       "    </tr>\n",
       "    <tr>\n",
       "      <th>295</th>\n",
       "      <td>EX7</td>\n",
       "      <td>32.399304</td>\n",
       "      <td>331</td>\n",
       "      <td>33</td>\n",
       "      <td>352.581172</td>\n",
       "      <td>334.847556</td>\n",
       "      <td>4</td>\n",
       "      <td>6</td>\n",
       "      <td>15.560679</td>\n",
       "    </tr>\n",
       "    <tr>\n",
       "      <th>296</th>\n",
       "      <td>EX7</td>\n",
       "      <td>32.399304</td>\n",
       "      <td>331</td>\n",
       "      <td>33</td>\n",
       "      <td>352.581172</td>\n",
       "      <td>331.246556</td>\n",
       "      <td>4</td>\n",
       "      <td>17</td>\n",
       "      <td>19.082710</td>\n",
       "    </tr>\n",
       "    <tr>\n",
       "      <th>297</th>\n",
       "      <td>EX7</td>\n",
       "      <td>32.399304</td>\n",
       "      <td>331</td>\n",
       "      <td>33</td>\n",
       "      <td>352.581172</td>\n",
       "      <td>330.260267</td>\n",
       "      <td>4</td>\n",
       "      <td>5</td>\n",
       "      <td>24.166097</td>\n",
       "    </tr>\n",
       "    <tr>\n",
       "      <th>298</th>\n",
       "      <td>EX7</td>\n",
       "      <td>32.399304</td>\n",
       "      <td>331</td>\n",
       "      <td>33</td>\n",
       "      <td>352.581172</td>\n",
       "      <td>324.940768</td>\n",
       "      <td>4</td>\n",
       "      <td>14</td>\n",
       "      <td>40.557261</td>\n",
       "    </tr>\n",
       "    <tr>\n",
       "      <th>299</th>\n",
       "      <td>EX7</td>\n",
       "      <td>32.399304</td>\n",
       "      <td>331</td>\n",
       "      <td>33</td>\n",
       "      <td>352.581172</td>\n",
       "      <td>330.945123</td>\n",
       "      <td>4</td>\n",
       "      <td>13</td>\n",
       "      <td>25.345332</td>\n",
       "    </tr>\n",
       "  </tbody>\n",
       "</table>\n",
       "<p>300 rows × 9 columns</p>\n",
       "</div>"
      ],
      "text/plain": [
       "    structure   max_dist  n_atoms  radius  initial_eval  final_eval   \n",
       "0         GL2  10.668234       45       5     35.727023   35.993409  \\\n",
       "1         GL2  10.668234       45       5     35.727023   36.494305   \n",
       "2         GL2  10.668234       45       5     35.727023   36.138724   \n",
       "3         GL2  10.668234       45       5     35.727023   36.158269   \n",
       "4         GL2  10.668234       45       5     35.727023   36.150490   \n",
       "..        ...        ...      ...     ...           ...         ...   \n",
       "295       EX7  32.399304      331      33    352.581172  334.847556   \n",
       "296       EX7  32.399304      331      33    352.581172  331.246556   \n",
       "297       EX7  32.399304      331      33    352.581172  330.260267   \n",
       "298       EX7  32.399304      331      33    352.581172  324.940768   \n",
       "299       EX7  32.399304      331      33    352.581172  330.945123   \n",
       "\n",
       "     initial_clashes  final_clashes       time  \n",
       "0                  0              0   0.404185  \n",
       "1                  0              0   2.479657  \n",
       "2                  0              0   0.292356  \n",
       "3                  0              0   4.188285  \n",
       "4                  0              0   0.290208  \n",
       "..               ...            ...        ...  \n",
       "295                4              6  15.560679  \n",
       "296                4             17  19.082710  \n",
       "297                4              5  24.166097  \n",
       "298                4             14  40.557261  \n",
       "299                4             13  25.345332  \n",
       "\n",
       "[300 rows x 9 columns]"
      ]
     },
     "execution_count": 202,
     "metadata": {},
     "output_type": "execute_result"
    }
   ],
   "source": [
    "df"
   ]
  },
  {
   "cell_type": "code",
   "execution_count": 206,
   "metadata": {},
   "outputs": [
    {
     "data": {
      "text/plain": [
       "<Axes: xlabel='radius', ylabel='final_clashes'>"
      ]
     },
     "execution_count": 206,
     "metadata": {},
     "output_type": "execute_result"
    },
    {
     "data": {
      "image/png": "[encoded data removed]",
      "text/plain": [
       "<Figure size 640x480 with 1 Axes>"
      ]
     },
     "metadata": {},
     "output_type": "display_data"
    }
   ],
   "source": [
    "ex7 = df.query(\"structure == 'EX6'\")\n",
    "sns.lineplot(data=ex7, x=\"radius\", y=\"final_clashes\")"
   ]
  },
  {
   "cell_type": "code",
   "execution_count": 207,
   "metadata": {},
   "outputs": [],
   "source": [
    "df[\"radius_n_atoms_ratio\"] = df[\"radius\"] / df[\"n_atoms\"]\n",
    "df[\"radius_max_dist_ratio\"] = df[\"radius\"] / df[\"max_dist\"]\n",
    "df[\"clash_ratio\"] = (df[\"final_clashes\"]+1) / (df[\"initial_clashes\"]+1)\n",
    "df[\"eval_ratio\"] = (df[\"final_eval\"]+1) / (df[\"initial_eval\"]+1)"
   ]
  },
  {
   "cell_type": "code",
   "execution_count": 209,
   "metadata": {},
   "outputs": [
    {
     "data": {
      "text/plain": [
       "<Axes: xlabel='radius_max_dist_ratio', ylabel='clash_ratio'>"
      ]
     },
     "execution_count": 209,
     "metadata": {},
     "output_type": "execute_result"
    },
    {
     "data": {
      "image/png": "[encoded data removed]",
      "text/plain": [
       "<Figure size 640x480 with 1 Axes>"
      ]
     },
     "metadata": {},
     "output_type": "display_data"
    }
   ],
   "source": [
    "sns.lineplot(data=df, x=\"radius_max_dist_ratio\", y=\"clash_ratio\")"
   ]
  },
  {
   "cell_type": "code",
   "execution_count": 197,
   "metadata": {},
   "outputs": [
    {
     "data": {
      "application/vnd.plotly.v1+json": {
       "config": {
        "plotlyServerURL": "https://plot.ly"
       },
       "data": [
        {
         "customdata": [
          [
           "O7",
           1,
           1,
           "PRP",
           "A"
          ],
          [
           "O",
           35,
           2,
           "SER",
           "A"
          ],
          [
           "OG",
           37,
           2,
           "SER",
           "A"
          ],
          [
           "OXT",
           38,
           2,
           "SER",
           "A"
          ],
          [
           "O3",
           43,
           3,
           "TBA",
           "A"
          ],
          [
           "O1",
           44,
           3,
           "TBA",
           "A"
          ],
          [
           "O2",
           77,
           5,
           "HAC",
           "A"
          ],
          [
           "O11",
           78,
           5,
           "HAC",
           "A"
          ],
          [
           "O7",
           84,
           6,
           "PRP",
           "A"
          ],
          [
           "O",
           118,
           7,
           "SER",
           "A"
          ],
          [
           "OG",
           120,
           7,
           "SER",
           "A"
          ],
          [
           "OXT",
           121,
           7,
           "SER",
           "A"
          ],
          [
           "O3",
           126,
           8,
           "TBA",
           "A"
          ],
          [
           "O1",
           127,
           8,
           "TBA",
           "A"
          ],
          [
           "O7",
           173,
           11,
           "PRP",
           "A"
          ],
          [
           "O",
           207,
           12,
           "SER",
           "A"
          ],
          [
           "OG",
           209,
           12,
           "SER",
           "A"
          ],
          [
           "OXT",
           210,
           12,
           "SER",
           "A"
          ],
          [
           "O3",
           215,
           13,
           "TBA",
           "A"
          ],
          [
           "O1",
           216,
           13,
           "TBA",
           "A"
          ],
          [
           "O2",
           249,
           15,
           "HAC",
           "A"
          ],
          [
           "O11",
           250,
           15,
           "HAC",
           "A"
          ],
          [
           "O7",
           256,
           16,
           "PRP",
           "A"
          ],
          [
           "O",
           290,
           17,
           "SER",
           "A"
          ],
          [
           "OG",
           292,
           17,
           "SER",
           "A"
          ],
          [
           "OXT",
           293,
           17,
           "SER",
           "A"
          ],
          [
           "O3",
           298,
           18,
           "TBA",
           "A"
          ],
          [
           "O1",
           299,
           18,
           "TBA",
           "A"
          ]
         ],
         "hovertemplate": "atom_element=O<br>x=%{x}<br>y=%{y}<br>z=%{z}<br>atom_id=%{customdata[0]}<br>atom_serial=%{customdata[1]}<br>residue_serial=%{customdata[2]}<br>residue_name=%{customdata[3]}<br>chain_id=%{customdata[4]}<extra></extra>",
         "legendgroup": "O",
         "marker": {
          "color": "red",
          "opacity": 0.3,
          "symbol": "circle"
         },
         "mode": "markers",
         "name": "O",
         "scene": "scene",
         "showlegend": true,
         "type": "scatter3d",
         "x": [
          1.4109375222375098,
          -0.6599071055647796,
          1.2351258328837424,
          1.119669989677238,
          3.6702112487616763,
          2.4361581196781117,
          -7.327020584424538,
          -4.739325525597761,
          2.0391842981024664,
          0.2565348058341179,
          1.5834510860020892,
          -1.6039485281639418,
          -0.09165935958278881,
          1.90128069931595,
          -20.368924100153624,
          -20.156186392075725,
          -20.818008098655802,
          -18.449858467401597,
          -22.02471481007689,
          -22.64895348304865,
          -10.785386476475335,
          -12.323952159861483,
          -16.220980264525167,
          -14.980208102965976,
          -17.434708137484215,
          -14.23938996920334,
          -17.334380550585507,
          -17.68768227759411
         ],
         "y": [
          -4.05149891427271,
          -7.796423427480439,
          -4.838120062040522,
          -8.893880673350317,
          -2.987132648405902,
          -2.5960354797684104,
          -14.381280739011714,
          -15.064420584585879,
          -23.79113260129823,
          -19.713503786960747,
          -21.53543553518719,
          -19.70115788356202,
          -24.03813112807353,
          -24.088905775902553,
          -11.005299381026832,
          -13.229810048148448,
          -14.073290237647843,
          -14.547427617853977,
          -17.140273929920994,
          -15.63692918584065,
          -11.247929221411738,
          -10.665212060063661,
          -11.800017490676789,
          -12.150542447924614,
          -8.522504747587668,
          -10.816925619087488,
          -7.787540501815155,
          -6.399495437165843
         ],
         "z": [
          -13.821454280251837,
          -12.617878570720995,
          -9.930188603440158,
          -11.90681320412121,
          -11.328443497816746,
          -9.417295063162122,
          -9.224495492201221,
          -9.08211598555651,
          -9.195023925390672,
          -7.880388309488456,
          -11.686468168113299,
          -9.070081691240546,
          -13.183609411330846,
          -12.020018281777798,
          -6.032843747114271,
          -5.313727740109544,
          -9.605221559121931,
          -5.792528276325385,
          -10.27483494133974,
          -8.638188027795945,
          -9.882867504325304,
          -11.998611826727458,
          -20.60422732163283,
          -19.631646999996395,
          -20.24740509006401,
          -18.034907933482764,
          -23.52775172882742,
          -21.717546975713717
         ]
        },
        {
         "customdata": [
          [
           "C10",
           2,
           1,
           "PRP",
           "A"
          ],
          [
           "C11",
           3,
           1,
           "PRP",
           "A"
          ],
          [
           "C1",
           4,
           1,
           "PRP",
           "A"
          ],
          [
           "C4",
           5,
           1,
           "PRP",
           "A"
          ],
          [
           "C8",
           6,
           1,
           "PRP",
           "A"
          ],
          [
           "C12",
           7,
           1,
           "PRP",
           "A"
          ],
          [
           "C13",
           8,
           1,
           "PRP",
           "A"
          ],
          [
           "C2",
           9,
           1,
           "PRP",
           "A"
          ],
          [
           "C6",
           10,
           1,
           "PRP",
           "A"
          ],
          [
           "C3",
           11,
           1,
           "PRP",
           "A"
          ],
          [
           "C5",
           12,
           1,
           "PRP",
           "A"
          ],
          [
           "C9",
           13,
           1,
           "PRP",
           "A"
          ],
          [
           "C7",
           14,
           1,
           "PRP",
           "A"
          ],
          [
           "CA",
           33,
           2,
           "SER",
           "A"
          ],
          [
           "C",
           34,
           2,
           "SER",
           "A"
          ],
          [
           "CB",
           36,
           2,
           "SER",
           "A"
          ],
          [
           "C3",
           45,
           3,
           "TBA",
           "A"
          ],
          [
           "C4",
           46,
           3,
           "TBA",
           "A"
          ],
          [
           "C5",
           47,
           3,
           "TBA",
           "A"
          ],
          [
           "C6",
           48,
           3,
           "TBA",
           "A"
          ],
          [
           "C1",
           49,
           3,
           "TBA",
           "A"
          ],
          [
           "C2",
           50,
           3,
           "TBA",
           "A"
          ],
          [
           "C3",
           65,
           4,
           "TRZ",
           "A"
          ],
          [
           "C2",
           66,
           4,
           "TRZ",
           "A"
          ],
          [
           "C1",
           67,
           4,
           "TRZ",
           "A"
          ],
          [
           "C4",
           68,
           4,
           "TRZ",
           "A"
          ],
          [
           "C5",
           69,
           4,
           "TRZ",
           "A"
          ],
          [
           "C2",
           80,
           5,
           "HAC",
           "A"
          ],
          [
           "C1",
           81,
           5,
           "HAC",
           "A"
          ],
          [
           "C10",
           85,
           6,
           "PRP",
           "A"
          ],
          [
           "C11",
           86,
           6,
           "PRP",
           "A"
          ],
          [
           "C1",
           87,
           6,
           "PRP",
           "A"
          ],
          [
           "C4",
           88,
           6,
           "PRP",
           "A"
          ],
          [
           "C8",
           89,
           6,
           "PRP",
           "A"
          ],
          [
           "C12",
           90,
           6,
           "PRP",
           "A"
          ],
          [
           "C13",
           91,
           6,
           "PRP",
           "A"
          ],
          [
           "C2",
           92,
           6,
           "PRP",
           "A"
          ],
          [
           "C6",
           93,
           6,
           "PRP",
           "A"
          ],
          [
           "C3",
           94,
           6,
           "PRP",
           "A"
          ],
          [
           "C5",
           95,
           6,
           "PRP",
           "A"
          ],
          [
           "C9",
           96,
           6,
           "PRP",
           "A"
          ],
          [
           "C7",
           97,
           6,
           "PRP",
           "A"
          ],
          [
           "CA",
           116,
           7,
           "SER",
           "A"
          ],
          [
           "C",
           117,
           7,
           "SER",
           "A"
          ],
          [
           "CB",
           119,
           7,
           "SER",
           "A"
          ],
          [
           "C3",
           128,
           8,
           "TBA",
           "A"
          ],
          [
           "C4",
           129,
           8,
           "TBA",
           "A"
          ],
          [
           "C5",
           130,
           8,
           "TBA",
           "A"
          ],
          [
           "C6",
           131,
           8,
           "TBA",
           "A"
          ],
          [
           "C1",
           132,
           8,
           "TBA",
           "A"
          ],
          [
           "C2",
           133,
           8,
           "TBA",
           "A"
          ],
          [
           "C3",
           148,
           9,
           "TRZ",
           "A"
          ],
          [
           "C2",
           149,
           9,
           "TRZ",
           "A"
          ],
          [
           "C1",
           150,
           9,
           "TRZ",
           "A"
          ],
          [
           "C4",
           151,
           9,
           "TRZ",
           "A"
          ],
          [
           "C5",
           152,
           9,
           "TRZ",
           "A"
          ],
          [
           "C2",
           161,
           10,
           "CBZ",
           "A"
          ],
          [
           "C1",
           162,
           10,
           "CBZ",
           "A"
          ],
          [
           "C3",
           163,
           10,
           "CBZ",
           "A"
          ],
          [
           "C7",
           164,
           10,
           "CBZ",
           "A"
          ],
          [
           "C4",
           165,
           10,
           "CBZ",
           "A"
          ],
          [
           "C6",
           166,
           10,
           "CBZ",
           "A"
          ],
          [
           "C5",
           167,
           10,
           "CBZ",
           "A"
          ],
          [
           "C10",
           174,
           11,
           "PRP",
           "A"
          ],
          [
           "C11",
           175,
           11,
           "PRP",
           "A"
          ],
          [
           "C1",
           176,
           11,
           "PRP",
           "A"
          ],
          [
           "C4",
           177,
           11,
           "PRP",
           "A"
          ],
          [
           "C8",
           178,
           11,
           "PRP",
           "A"
          ],
          [
           "C12",
           179,
           11,
           "PRP",
           "A"
          ],
          [
           "C13",
           180,
           11,
           "PRP",
           "A"
          ],
          [
           "C2",
           181,
           11,
           "PRP",
           "A"
          ],
          [
           "C6",
           182,
           11,
           "PRP",
           "A"
          ],
          [
           "C3",
           183,
           11,
           "PRP",
           "A"
          ],
          [
           "C5",
           184,
           11,
           "PRP",
           "A"
          ],
          [
           "C9",
           185,
           11,
           "PRP",
           "A"
          ],
          [
           "C7",
           186,
           11,
           "PRP",
           "A"
          ],
          [
           "CA",
           205,
           12,
           "SER",
           "A"
          ],
          [
           "C",
           206,
           12,
           "SER",
           "A"
          ],
          [
           "CB",
           208,
           12,
           "SER",
           "A"
          ],
          [
           "C3",
           217,
           13,
           "TBA",
           "A"
          ],
          [
           "C4",
           218,
           13,
           "TBA",
           "A"
          ],
          [
           "C5",
           219,
           13,
           "TBA",
           "A"
          ],
          [
           "C6",
           220,
           13,
           "TBA",
           "A"
          ],
          [
           "C1",
           221,
           13,
           "TBA",
           "A"
          ],
          [
           "C2",
           222,
           13,
           "TBA",
           "A"
          ],
          [
           "C3",
           237,
           14,
           "TRZ",
           "A"
          ],
          [
           "C2",
           238,
           14,
           "TRZ",
           "A"
          ],
          [
           "C1",
           239,
           14,
           "TRZ",
           "A"
          ],
          [
           "C4",
           240,
           14,
           "TRZ",
           "A"
          ],
          [
           "C5",
           241,
           14,
           "TRZ",
           "A"
          ],
          [
           "C2",
           252,
           15,
           "HAC",
           "A"
          ],
          [
           "C1",
           253,
           15,
           "HAC",
           "A"
          ],
          [
           "C10",
           257,
           16,
           "PRP",
           "A"
          ],
          [
           "C11",
           258,
           16,
           "PRP",
           "A"
          ],
          [
           "C1",
           259,
           16,
           "PRP",
           "A"
          ],
          [
           "C4",
           260,
           16,
           "PRP",
           "A"
          ],
          [
           "C8",
           261,
           16,
           "PRP",
           "A"
          ],
          [
           "C12",
           262,
           16,
           "PRP",
           "A"
          ],
          [
           "C13",
           263,
           16,
           "PRP",
           "A"
          ],
          [
           "C2",
           264,
           16,
           "PRP",
           "A"
          ],
          [
           "C6",
           265,
           16,
           "PRP",
           "A"
          ],
          [
           "C3",
           266,
           16,
           "PRP",
           "A"
          ],
          [
           "C5",
           267,
           16,
           "PRP",
           "A"
          ],
          [
           "C9",
           268,
           16,
           "PRP",
           "A"
          ],
          [
           "C7",
           269,
           16,
           "PRP",
           "A"
          ],
          [
           "CA",
           288,
           17,
           "SER",
           "A"
          ],
          [
           "C",
           289,
           17,
           "SER",
           "A"
          ],
          [
           "CB",
           291,
           17,
           "SER",
           "A"
          ],
          [
           "C3",
           300,
           18,
           "TBA",
           "A"
          ],
          [
           "C4",
           301,
           18,
           "TBA",
           "A"
          ],
          [
           "C5",
           302,
           18,
           "TBA",
           "A"
          ],
          [
           "C6",
           303,
           18,
           "TBA",
           "A"
          ],
          [
           "C1",
           304,
           18,
           "TBA",
           "A"
          ],
          [
           "C2",
           305,
           18,
           "TBA",
           "A"
          ],
          [
           "C3",
           320,
           19,
           "TRZ",
           "A"
          ],
          [
           "C2",
           321,
           19,
           "TRZ",
           "A"
          ],
          [
           "C1",
           322,
           19,
           "TRZ",
           "A"
          ],
          [
           "C4",
           323,
           19,
           "TRZ",
           "A"
          ],
          [
           "C5",
           324,
           19,
           "TRZ",
           "A"
          ]
         ],
         "hovertemplate": "atom_element=C<br>x=%{x}<br>y=%{y}<br>z=%{z}<br>atom_id=%{customdata[0]}<br>atom_serial=%{customdata[1]}<br>residue_serial=%{customdata[2]}<br>residue_name=%{customdata[3]}<br>chain_id=%{customdata[4]}<extra></extra>",
         "legendgroup": "C",
         "marker": {
          "color": "black",
          "opacity": 0.3,
          "symbol": "circle"
         },
         "mode": "markers",
         "name": "C",
         "scene": "scene",
         "showlegend": true,
         "type": "scatter3d",
         "x": [
          7.0159632985371045,
          6.740943908838871,
          5.60166805650688,
          3.5094289958932827,
          2.383849207859666,
          7.286844087669094,
          5.825764370205843,
          4.314642867305967,
          5.8630282125488415,
          3.2617600481884614,
          4.810055674529048,
          1.6626164180079268,
          1.3430356192466633,
          1.0457690143242901,
          0.4384423570272915,
          0.6604881746767584,
          4.3746475442538015,
          3.3658722407997668,
          5.372171591136933,
          5.103809855747128,
          2.722025025280104,
          2.074507807334559,
          -3.257678414867687,
          -1.0208018446831328,
          -0.6007796314982485,
          -4.236691685374918,
          0.7197215267178692,
          -6.418407196326058,
          -5.012235334201911,
          0.35490379382418347,
          -0.6114066999039576,
          -0.5230495238187745,
          -0.3616723504846471,
          -0.2751163138440882,
          0.15699000052363843,
          1.8012433195850566,
          0.36219025726558307,
          -1.329185557402206,
          0.4433066220588531,
          -1.2480005775952323,
          -0.6467925766282958,
          1.092029305490101,
          0.24618930644427195,
          -0.3658811022882844,
          1.0021383512970203,
          -0.0039979296367889106,
          0.023496516889458086,
          -1.2372061642571737,
          1.271114072458012,
          0.9365599513091523,
          0.6967966543998578,
          -3.3385840423022035,
          -3.1440198850651693,
          -2.0464867825617516,
          -3.1524466667382445,
          -1.970357557328319,
          -10.340476672520085,
          -10.073968975869896,
          -9.588223809757615,
          -11.422550517325888,
          -8.569303771758806,
          -9.055048937871092,
          -8.302723458829966,
          -24.73560499493568,
          -24.961248290566722,
          -24.19470667926887,
          -22.78732634403678,
          -22.03031852967959,
          -25.072747890342008,
          -23.28122233725786,
          -22.91891292435933,
          -24.78056945442331,
          -22.21071185357543,
          -24.07228452872769,
          -21.676120762535206,
          -20.75141850796468,
          -19.647261100966265,
          -19.43721036669483,
          -20.61783739920881,
          -23.017094634157655,
          -24.387260032570815,
          -22.944859484482972,
          -22.709127787091532,
          -21.95049721334219,
          -20.864602857283156,
          -14.793742202583205,
          -15.914135812726082,
          -17.245129193644004,
          -14.535202811079133,
          -17.865802472549966,
          -12.132807867569284,
          -12.858746403332425,
          -19.214139424493183,
          -19.579008744532565,
          -18.77699814158331,
          -17.305147697861717,
          -16.5129476006212,
          -17.72553140527833,
          -19.591553310172564,
          -19.248167908646124,
          -17.58435901358835,
          -18.50754887903873,
          -16.84359493446239,
          -17.269690850637435,
          -16.008516261091863,
          -15.447014825537979,
          -14.872085111929454,
          -16.889171091421744,
          -17.471472869314454,
          -18.863113036755074,
          -17.300085635360727,
          -16.385745412674865,
          -17.46668349389366,
          -17.2975525478584,
          -14.242063147344478,
          -13.745569957966193,
          -14.518839220258858,
          -14.903316416198624,
          -14.193411971834031
         ],
         "y": [
          -0.8053271917517595,
          -1.0279268720794068,
          -1.9783008798311457,
          -3.723179259160359,
          -4.662338754426255,
          -2.1204075965011757,
          -0.09052483086742669,
          -1.4786882324634103,
          -3.3332399542003657,
          -2.356757707305393,
          -4.211425458027302,
          -4.374616920464144,
          -4.7110965370941855,
          -6.433240078012139,
          -7.757427022603762,
          -6.093975544362008,
          -1.7607090175039861,
          -0.6130375098281258,
          -1.6127319321771187,
          -1.8294955302582112,
          -3.2819394532014945,
          -4.596024903054021,
          -11.379549445183947,
          -10.989949891806077,
          -9.996553903609719,
          -12.207366536571808,
          -9.797331463431973,
          -13.513792314462847,
          -14.038163905650393,
          -29.819470493137338,
          -28.863992033685413,
          -27.43252505215628,
          -24.803214094637667,
          -23.388463105018634,
          -29.790484762684084,
          -29.449771728935072,
          -26.566687392726486,
          -27.009417052865654,
          -25.243476130120005,
          -25.686124263795445,
          -22.367666372671597,
          -23.01484873550361,
          -21.20716725833318,
          -20.152415865099123,
          -20.53569262438664,
          -25.446316274513855,
          -26.15055079642885,
          -25.864385080369388,
          -25.736278820768813,
          -23.486979713329838,
          -22.007338666900335,
          -14.977381723972295,
          -16.97806637975249,
          -17.715725731054874,
          -13.630568775929802,
          -18.885362618522464,
          -12.012314836321856,
          -12.01404022418168,
          -12.814460203066085,
          -11.164713233195194,
          -13.618325094515544,
          -12.817905115631142,
          -13.620116918697232,
          -10.024328788453717,
          -11.45595052219902,
          -11.771723480448122,
          -12.353199213321261,
          -12.66601876408213,
          -8.967005414243534,
          -9.859812907469577,
          -12.304493438298003,
          -11.524059494929004,
          -12.59724734027247,
          -11.816721273070808,
          -14.156837319136143,
          -11.847032969414345,
          -13.381900467989915,
          -13.71359380446254,
          -14.388354460319684,
          -18.05914630335121,
          -17.392627494448806,
          -19.29711712101899,
          -18.42328962169779,
          -15.960219735879338,
          -15.1080769124476,
          -12.01051149537988,
          -13.728348023450808,
          -13.984943427799651,
          -12.445863693145807,
          -14.997642860307396,
          -11.66246966913019,
          -11.258934777127035,
          -17.218763185827303,
          -16.119166922014234,
          -14.850562838307898,
          -12.520048307077854,
          -11.266128645490225,
          -17.572630819330946,
          -16.764769686876306,
          -13.849428627504906,
          -14.709211177819888,
          -12.676561222132456,
          -13.536298533176126,
          -10.007830271272379,
          -11.036148399141027,
          -9.866112759716414,
          -11.028973097208837,
          -9.624047721962455,
          -6.675539483099305,
          -6.073076006453681,
          -7.1980919882218295,
          -5.652759245593002,
          -7.502974199430884,
          -8.771394524272427,
          -10.119223347139322,
          -11.01258355271651,
          -11.038732582494577,
          -11.10628743297665,
          -11.566813526379178
         ],
         "z": [
          -14.234751709378209,
          -12.734658119761862,
          -12.457596073131318,
          -11.947227495932253,
          -11.672553446881196,
          -14.969976455373152,
          -14.87922097619649,
          -12.336451676015468,
          -12.328502837130218,
          -12.079475652702257,
          -12.071618943037256,
          -10.344373945042614,
          -12.78883372189631,
          -11.734451646876938,
          -12.119084286040021,
          -10.294517533520478,
          -11.130374840127866,
          -11.143748232002705,
          -12.277134661584856,
          -9.789338301042958,
          -10.389234110381778,
          -10.73869829016268,
          -9.661430492628329,
          -10.741799572048471,
          -11.590261858226619,
          -10.479792710339336,
          -12.200916269886367,
          -9.868959070878816,
          -9.698081370385841,
          -10.911736194445979,
          -11.63890330263656,
          -11.16877684068601,
          -10.306673467186496,
          -9.842578714045466,
          -9.394054324668428,
          -11.249791426574056,
          -11.791190109743514,
          -10.1238087041887,
          -11.357442487416801,
          -9.689924533644817,
          -10.932006163172922,
          -9.27418003492382,
          -9.701625637496534,
          -8.816680264479208,
          -10.848192189229396,
          -13.404757952010346,
          -12.048935639333138,
          -14.202520732312255,
          -14.195200463445001,
          -12.471514188249742,
          -12.325225893515693,
          -11.319181565922417,
          -9.808550026848675,
          -9.441913598836704,
          -10.637336568578242,
          -8.557342746648791,
          -7.660622906030001,
          -9.029838477319984,
          -6.8025761351157135,
          -7.07356042488827,
          -7.313812257137092,
          -9.541074599341359,
          -8.683010134043444,
          -1.3323592795671324,
          -1.8567745488002885,
          -3.117974373168927,
          -5.433942312083818,
          -6.680328828243185,
          -2.386764443830735,
          -0.8845176223377038,
          -3.0219063402628272,
          -4.349340057669316,
          -4.187389633244447,
          -5.514943689976288,
          -6.818261266982667,
          -6.839793252457431,
          -7.608484056641126,
          -6.153796042126789,
          -8.226532607010146,
          -9.816105766222083,
          -9.93167309884964,
          -10.707295907412181,
          -8.364436270499425,
          -9.589235723531237,
          -10.191656163052428,
          -9.044964634622566,
          -7.59019394094738,
          -7.376282935106751,
          -10.479220778740864,
          -6.512850111865362,
          -9.80502425138814,
          -11.066633102510416,
          -22.55434344750518,
          -23.5708204496564,
          -23.411615325490757,
          -23.12024061649542,
          -22.963713499943342,
          -22.60116398880652,
          -21.142144735635416,
          -22.57707836251916,
          -24.10332748271563,
          -22.43055050715266,
          -23.95671647660953,
          -23.423111187133426,
          -21.540895869328025,
          -19.96558634088709,
          -19.19911999466111,
          -19.5200060201038,
          -24.413322753940836,
          -24.22535532677881,
          -25.83795422398068,
          -24.0818039224011,
          -22.197488450096724,
          -21.403304005133144,
          -12.567305514419264,
          -14.864696209532315,
          -15.998059953541723,
          -11.617614277816632,
          -17.329051810274354
         ]
        },
        {
         "customdata": [
          [
           "H10",
           15,
           1,
           "PRP",
           "A"
          ],
          [
           "H111",
           16,
           1,
           "PRP",
           "A"
          ],
          [
           "H112",
           17,
           1,
           "PRP",
           "A"
          ],
          [
           "H8",
           18,
           1,
           "PRP",
           "A"
          ],
          [
           "H121",
           19,
           1,
           "PRP",
           "A"
          ],
          [
           "H122",
           20,
           1,
           "PRP",
           "A"
          ],
          [
           "H123",
           21,
           1,
           "PRP",
           "A"
          ],
          [
           "H131",
           22,
           1,
           "PRP",
           "A"
          ],
          [
           "H132",
           23,
           1,
           "PRP",
           "A"
          ],
          [
           "H133",
           24,
           1,
           "PRP",
           "A"
          ],
          [
           "H2",
           25,
           1,
           "PRP",
           "A"
          ],
          [
           "H6",
           26,
           1,
           "PRP",
           "A"
          ],
          [
           "H3",
           27,
           1,
           "PRP",
           "A"
          ],
          [
           "H5",
           28,
           1,
           "PRP",
           "A"
          ],
          [
           "H91",
           29,
           1,
           "PRP",
           "A"
          ],
          [
           "H92",
           30,
           1,
           "PRP",
           "A"
          ],
          [
           "H93",
           31,
           1,
           "PRP",
           "A"
          ],
          [
           "H2",
           39,
           2,
           "SER",
           "A"
          ],
          [
           "HA",
           40,
           2,
           "SER",
           "A"
          ],
          [
           "HB2",
           41,
           2,
           "SER",
           "A"
          ],
          [
           "HB3",
           42,
           2,
           "SER",
           "A"
          ],
          [
           "H41",
           51,
           3,
           "TBA",
           "A"
          ],
          [
           "H42",
           52,
           3,
           "TBA",
           "A"
          ],
          [
           "H43",
           53,
           3,
           "TBA",
           "A"
          ],
          [
           "H51",
           54,
           3,
           "TBA",
           "A"
          ],
          [
           "H52",
           55,
           3,
           "TBA",
           "A"
          ],
          [
           "H53",
           56,
           3,
           "TBA",
           "A"
          ],
          [
           "H61",
           57,
           3,
           "TBA",
           "A"
          ],
          [
           "H62",
           58,
           3,
           "TBA",
           "A"
          ],
          [
           "H63",
           59,
           3,
           "TBA",
           "A"
          ],
          [
           "H21",
           60,
           3,
           "TBA",
           "A"
          ],
          [
           "H22",
           61,
           3,
           "TBA",
           "A"
          ],
          [
           "H31",
           70,
           4,
           "TRZ",
           "A"
          ],
          [
           "H32",
           71,
           4,
           "TRZ",
           "A"
          ],
          [
           "H2",
           72,
           4,
           "TRZ",
           "A"
          ],
          [
           "H41",
           73,
           4,
           "TRZ",
           "A"
          ],
          [
           "H43",
           74,
           4,
           "TRZ",
           "A"
          ],
          [
           "H52",
           75,
           4,
           "TRZ",
           "A"
          ],
          [
           "H53",
           76,
           4,
           "TRZ",
           "A"
          ],
          [
           "H21",
           82,
           5,
           "HAC",
           "A"
          ],
          [
           "H22",
           83,
           5,
           "HAC",
           "A"
          ],
          [
           "H10",
           98,
           6,
           "PRP",
           "A"
          ],
          [
           "H111",
           99,
           6,
           "PRP",
           "A"
          ],
          [
           "H112",
           100,
           6,
           "PRP",
           "A"
          ],
          [
           "H8",
           101,
           6,
           "PRP",
           "A"
          ],
          [
           "H121",
           102,
           6,
           "PRP",
           "A"
          ],
          [
           "H122",
           103,
           6,
           "PRP",
           "A"
          ],
          [
           "H123",
           104,
           6,
           "PRP",
           "A"
          ],
          [
           "H131",
           105,
           6,
           "PRP",
           "A"
          ],
          [
           "H132",
           106,
           6,
           "PRP",
           "A"
          ],
          [
           "H133",
           107,
           6,
           "PRP",
           "A"
          ],
          [
           "H2",
           108,
           6,
           "PRP",
           "A"
          ],
          [
           "H6",
           109,
           6,
           "PRP",
           "A"
          ],
          [
           "H3",
           110,
           6,
           "PRP",
           "A"
          ],
          [
           "H5",
           111,
           6,
           "PRP",
           "A"
          ],
          [
           "H91",
           112,
           6,
           "PRP",
           "A"
          ],
          [
           "H92",
           113,
           6,
           "PRP",
           "A"
          ],
          [
           "H93",
           114,
           6,
           "PRP",
           "A"
          ],
          [
           "H2",
           122,
           7,
           "SER",
           "A"
          ],
          [
           "HA",
           123,
           7,
           "SER",
           "A"
          ],
          [
           "HB2",
           124,
           7,
           "SER",
           "A"
          ],
          [
           "HB3",
           125,
           7,
           "SER",
           "A"
          ],
          [
           "H41",
           134,
           8,
           "TBA",
           "A"
          ],
          [
           "H42",
           135,
           8,
           "TBA",
           "A"
          ],
          [
           "H43",
           136,
           8,
           "TBA",
           "A"
          ],
          [
           "H51",
           137,
           8,
           "TBA",
           "A"
          ],
          [
           "H52",
           138,
           8,
           "TBA",
           "A"
          ],
          [
           "H53",
           139,
           8,
           "TBA",
           "A"
          ],
          [
           "H61",
           140,
           8,
           "TBA",
           "A"
          ],
          [
           "H62",
           141,
           8,
           "TBA",
           "A"
          ],
          [
           "H63",
           142,
           8,
           "TBA",
           "A"
          ],
          [
           "H21",
           143,
           8,
           "TBA",
           "A"
          ],
          [
           "H22",
           144,
           8,
           "TBA",
           "A"
          ],
          [
           "H31",
           153,
           9,
           "TRZ",
           "A"
          ],
          [
           "H32",
           154,
           9,
           "TRZ",
           "A"
          ],
          [
           "H2",
           155,
           9,
           "TRZ",
           "A"
          ],
          [
           "H41",
           156,
           9,
           "TRZ",
           "A"
          ],
          [
           "H42",
           157,
           9,
           "TRZ",
           "A"
          ],
          [
           "H52",
           158,
           9,
           "TRZ",
           "A"
          ],
          [
           "H53",
           159,
           9,
           "TRZ",
           "A"
          ],
          [
           "H3",
           168,
           10,
           "CBZ",
           "A"
          ],
          [
           "H6",
           169,
           10,
           "CBZ",
           "A"
          ],
          [
           "H71",
           170,
           10,
           "CBZ",
           "A"
          ],
          [
           "H72",
           171,
           10,
           "CBZ",
           "A"
          ],
          [
           "H73",
           172,
           10,
           "CBZ",
           "A"
          ],
          [
           "H10",
           187,
           11,
           "PRP",
           "A"
          ],
          [
           "H111",
           188,
           11,
           "PRP",
           "A"
          ],
          [
           "H112",
           189,
           11,
           "PRP",
           "A"
          ],
          [
           "H8",
           190,
           11,
           "PRP",
           "A"
          ],
          [
           "H121",
           191,
           11,
           "PRP",
           "A"
          ],
          [
           "H122",
           192,
           11,
           "PRP",
           "A"
          ],
          [
           "H123",
           193,
           11,
           "PRP",
           "A"
          ],
          [
           "H131",
           194,
           11,
           "PRP",
           "A"
          ],
          [
           "H132",
           195,
           11,
           "PRP",
           "A"
          ],
          [
           "H133",
           196,
           11,
           "PRP",
           "A"
          ],
          [
           "H2",
           197,
           11,
           "PRP",
           "A"
          ],
          [
           "H6",
           198,
           11,
           "PRP",
           "A"
          ],
          [
           "H3",
           199,
           11,
           "PRP",
           "A"
          ],
          [
           "H5",
           200,
           11,
           "PRP",
           "A"
          ],
          [
           "H91",
           201,
           11,
           "PRP",
           "A"
          ],
          [
           "H92",
           202,
           11,
           "PRP",
           "A"
          ],
          [
           "H93",
           203,
           11,
           "PRP",
           "A"
          ],
          [
           "H2",
           211,
           12,
           "SER",
           "A"
          ],
          [
           "HA",
           212,
           12,
           "SER",
           "A"
          ],
          [
           "HB2",
           213,
           12,
           "SER",
           "A"
          ],
          [
           "HB3",
           214,
           12,
           "SER",
           "A"
          ],
          [
           "H41",
           223,
           13,
           "TBA",
           "A"
          ],
          [
           "H42",
           224,
           13,
           "TBA",
           "A"
          ],
          [
           "H43",
           225,
           13,
           "TBA",
           "A"
          ],
          [
           "H51",
           226,
           13,
           "TBA",
           "A"
          ],
          [
           "H52",
           227,
           13,
           "TBA",
           "A"
          ],
          [
           "H53",
           228,
           13,
           "TBA",
           "A"
          ],
          [
           "H61",
           229,
           13,
           "TBA",
           "A"
          ],
          [
           "H62",
           230,
           13,
           "TBA",
           "A"
          ],
          [
           "H63",
           231,
           13,
           "TBA",
           "A"
          ],
          [
           "H21",
           232,
           13,
           "TBA",
           "A"
          ],
          [
           "H22",
           233,
           13,
           "TBA",
           "A"
          ],
          [
           "H31",
           242,
           14,
           "TRZ",
           "A"
          ],
          [
           "H32",
           243,
           14,
           "TRZ",
           "A"
          ],
          [
           "H2",
           244,
           14,
           "TRZ",
           "A"
          ],
          [
           "H41",
           245,
           14,
           "TRZ",
           "A"
          ],
          [
           "H43",
           246,
           14,
           "TRZ",
           "A"
          ],
          [
           "H52",
           247,
           14,
           "TRZ",
           "A"
          ],
          [
           "H53",
           248,
           14,
           "TRZ",
           "A"
          ],
          [
           "H21",
           254,
           15,
           "HAC",
           "A"
          ],
          [
           "H22",
           255,
           15,
           "HAC",
           "A"
          ],
          [
           "H10",
           270,
           16,
           "PRP",
           "A"
          ],
          [
           "H111",
           271,
           16,
           "PRP",
           "A"
          ],
          [
           "H112",
           272,
           16,
           "PRP",
           "A"
          ],
          [
           "H8",
           273,
           16,
           "PRP",
           "A"
          ],
          [
           "H121",
           274,
           16,
           "PRP",
           "A"
          ],
          [
           "H122",
           275,
           16,
           "PRP",
           "A"
          ],
          [
           "H123",
           276,
           16,
           "PRP",
           "A"
          ],
          [
           "H131",
           277,
           16,
           "PRP",
           "A"
          ],
          [
           "H132",
           278,
           16,
           "PRP",
           "A"
          ],
          [
           "H133",
           279,
           16,
           "PRP",
           "A"
          ],
          [
           "H2",
           280,
           16,
           "PRP",
           "A"
          ],
          [
           "H6",
           281,
           16,
           "PRP",
           "A"
          ],
          [
           "H3",
           282,
           16,
           "PRP",
           "A"
          ],
          [
           "H5",
           283,
           16,
           "PRP",
           "A"
          ],
          [
           "H91",
           284,
           16,
           "PRP",
           "A"
          ],
          [
           "H92",
           285,
           16,
           "PRP",
           "A"
          ],
          [
           "H93",
           286,
           16,
           "PRP",
           "A"
          ],
          [
           "H2",
           294,
           17,
           "SER",
           "A"
          ],
          [
           "HA",
           295,
           17,
           "SER",
           "A"
          ],
          [
           "HB2",
           296,
           17,
           "SER",
           "A"
          ],
          [
           "HB3",
           297,
           17,
           "SER",
           "A"
          ],
          [
           "H41",
           306,
           18,
           "TBA",
           "A"
          ],
          [
           "H42",
           307,
           18,
           "TBA",
           "A"
          ],
          [
           "H43",
           308,
           18,
           "TBA",
           "A"
          ],
          [
           "H51",
           309,
           18,
           "TBA",
           "A"
          ],
          [
           "H52",
           310,
           18,
           "TBA",
           "A"
          ],
          [
           "H53",
           311,
           18,
           "TBA",
           "A"
          ],
          [
           "H61",
           312,
           18,
           "TBA",
           "A"
          ],
          [
           "H62",
           313,
           18,
           "TBA",
           "A"
          ],
          [
           "H63",
           314,
           18,
           "TBA",
           "A"
          ],
          [
           "H21",
           315,
           18,
           "TBA",
           "A"
          ],
          [
           "H22",
           316,
           18,
           "TBA",
           "A"
          ],
          [
           "H31",
           325,
           19,
           "TRZ",
           "A"
          ],
          [
           "H32",
           326,
           19,
           "TRZ",
           "A"
          ],
          [
           "H2",
           327,
           19,
           "TRZ",
           "A"
          ],
          [
           "H41",
           328,
           19,
           "TRZ",
           "A"
          ],
          [
           "H42",
           329,
           19,
           "TRZ",
           "A"
          ],
          [
           "H52",
           330,
           19,
           "TRZ",
           "A"
          ],
          [
           "H53",
           331,
           19,
           "TRZ",
           "A"
          ]
         ],
         "hovertemplate": "atom_element=H<br>x=%{x}<br>y=%{y}<br>z=%{z}<br>atom_id=%{customdata[0]}<br>atom_serial=%{customdata[1]}<br>residue_serial=%{customdata[2]}<br>residue_name=%{customdata[3]}<br>chain_id=%{customdata[4]}<extra></extra>",
         "legendgroup": "H",
         "marker": {
          "color": "lightgray",
          "opacity": 0.3,
          "symbol": "circle"
         },
         "mode": "markers",
         "name": "H",
         "scene": "scene",
         "showlegend": true,
         "type": "scatter3d",
         "x": [
          7.899753860940072,
          6.545101994424042,
          7.651435407476925,
          2.7751914558724247,
          6.397153212135955,
          8.083396551399916,
          7.618081792936063,
          6.084408539770694,
          4.940585973397833,
          5.558496970954202,
          4.109719829350375,
          6.8721234056388685,
          2.2559271782350354,
          5.020739898280591,
          2.3709477302039303,
          0.9084970675651975,
          1.1437966655097132,
          0.3654334064352911,
          2.1307323326249312,
          -0.4250645083468485,
          1.0314830378843736,
          2.781584254611179,
          2.653693070220031,
          3.8805180098596255,
          6.066841722660747,
          4.855262935404092,
          5.954984864494502,
          4.459803793169608,
          5.854345913365041,
          5.621348967397591,
          1.597292171851603,
          2.8175771648218673,
          -2.688737241804109,
          -3.7883895935496827,
          -0.5303573920182725,
          -4.1178047356342145,
          -5.27314082649273,
          0.6400928715201473,
          1.419388505067368,
          -6.671694816247193,
          -6.495857661295117,
          0.16133438400482714,
          -0.43610027554308317,
          -1.6410522852652312,
          -0.9754228908075966,
          0.4730315888870056,
          -0.8900019340386454,
          0.7545946707041633,
          2.480523215119523,
          2.1129151916414983,
          1.9516209727717593,
          0.9893380459393457,
          -2.0276650731616144,
          1.1401182105711873,
          -1.8833441117001355,
          -1.6387113063300598,
          -0.6605041224621706,
          0.07399291325961688,
          0.8291801427420253,
          -0.5406577374085524,
          1.7889262185284736,
          0.31139484497340675,
          0.9833792117875717,
          -0.7330420410048575,
          -0.18819431477954307,
          -1.2853054412309048,
          -2.155189076341358,
          -1.2417722206829889,
          2.1915930038901883,
          1.2431790295995278,
          1.3799343136366788,
          -0.24109788181144776,
          0.6678031868364016,
          -4.400223555595062,
          -2.9729703306416067,
          -4.19492521346851,
          -2.699859508480797,
          -2.4995999871784864,
          -1.3037377598174222,
          -2.953776000133976,
          -9.795104178675697,
          -8.848125830866454,
          -12.39615809011051,
          -11.493956355546967,
          -11.227571464513337,
          -25.387222042035397,
          -24.70348610446697,
          -26.033340345267206,
          -22.643687069141272,
          -24.36555993880357,
          -26.08370427881036,
          -25.039858649203488,
          -23.15934081656514,
          -22.57925631082118,
          -22.98793883899618,
          -22.46160101513332,
          -25.78269513618868,
          -21.211057376932814,
          -24.5368880910212,
          -22.573229557133292,
          -21.20611244436987,
          -20.970107353976452,
          -20.876037346057046,
          -18.693191503000495,
          -21.571817393757012,
          -20.204066078606985,
          -24.602054233820958,
          -24.49581016255753,
          -25.184242244448225,
          -21.947396318417777,
          -23.118702169270378,
          -23.68072542276907,
          -22.962755033739718,
          -23.279794962761084,
          -21.64429543619915,
          -21.10072419371705,
          -19.897662580449797,
          -13.918598700380864,
          -14.992051496253227,
          -15.004851819467818,
          -13.783394543793955,
          -15.4485883150787,
          -18.50231872885842,
          -17.11287933989643,
          -12.605247587371533,
          -12.159776737008771,
          -19.797924361317566,
          -20.650522121183993,
          -19.434287284248377,
          -15.603397347101996,
          -17.087508297962252,
          -17.413914038860952,
          -17.531335092519573,
          -19.489831507450358,
          -18.947727789031447,
          -20.632932577077703,
          -20.186086941470382,
          -17.217324112583086,
          -18.884510107627058,
          -15.909887452855902,
          -17.62209401486979,
          -16.618478152000442,
          -18.13753978147724,
          -15.908396787087181,
          -14.851978965882962,
          -17.4833769043194,
          -16.907335185385996,
          -18.9767355537199,
          -19.62831116384742,
          -19.10830655100881,
          -16.320838251386583,
          -18.048783187304565,
          -17.39200626661571,
          -16.572107224508226,
          -16.290179277600718,
          -15.412770062193335,
          -18.066972509631093,
          -16.30066190245675,
          -13.153689006755037,
          -14.577387725628546,
          -12.743315906376314,
          -15.571065661014888,
          -15.49308087173414,
          -14.90338821113603,
          -13.186969653936728
         ],
         "y": [
          -0.16175258523554703,
          -0.06567296997831562,
          -1.4128253890035758,
          -5.686777043774733,
          -2.7533559378643826,
          -2.688142542750372,
          -1.913339521751185,
          0.21718162675742114,
          -0.7294340734304043,
          0.8148864182082107,
          -0.41626527132152447,
          -3.7250222264357937,
          -1.9563245129498714,
          -5.272651822838899,
          -4.363256810345488,
          -5.142890033367517,
          -3.409762669626165,
          -5.829511007627263,
          -6.493544171438407,
          -6.034000783396483,
          -6.870724315989417,
          -0.5110519906003361,
          -0.7256772062239571,
          0.3465362732648378,
          -2.4602155220343667,
          -1.6107102518592464,
          -0.6895948163842389,
          -1.7051190346337766,
          -1.0329356066202804,
          -2.789018500785329,
          -4.519298332576062,
          -5.397813327290512,
          -12.024794392300638,
          -10.638184694565169,
          -11.851792683675885,
          -12.012361066103175,
          -11.977053127535296,
          -9.79786897254536,
          -10.588000620538848,
          -13.444723271115375,
          -12.522598653443104,
          -30.83677333838856,
          -28.90681746767438,
          -29.221626886184602,
          -23.23784041656256,
          -28.84388354181743,
          -29.973953620597456,
          -30.58064309096627,
          -30.222953424753996,
          -28.504713132872066,
          -29.384463814357684,
          -26.895401316174944,
          -27.685543514205563,
          -24.571573205559826,
          -25.359245983129043,
          -22.580199862808847,
          -21.351993277111088,
          -22.37255608291862,
          -22.03091543265316,
          -21.842520657522545,
          -19.900353035231642,
          -19.928406902798223,
          -26.098069887883856,
          -25.733093350192814,
          -27.219734176360802,
          -25.324073032447206,
          -25.614239072185676,
          -26.93871091436602,
          -25.68015703176328,
          -26.752179634953762,
          -25.03742308899008,
          -21.840058738908663,
          -21.52868073038197,
          -15.245709915143435,
          -14.944231291503028,
          -17.044398067573418,
          -12.903190884999397,
          -13.734387274954479,
          -18.683408601656083,
          -19.150578139812104,
          -12.813781256251964,
          -12.81816785505029,
          -11.438943783402781,
          -11.286977401368517,
          -10.10440795876935,
          -9.8758575545728,
          -12.185452049657851,
          -11.605451780462703,
          -12.400283481858198,
          -8.962683546445765,
          -9.114144893433137,
          -7.968229307172736,
          -8.905250535817476,
          -9.85201011602914,
          -10.652933881347819,
          -12.505446078720452,
          -11.112313713700063,
          -13.014732721875964,
          -11.621896725946758,
          -14.78093237270525,
          -14.353980582351069,
          -14.48056583791684,
          -12.05532338569215,
          -13.427222998571878,
          -14.342112792586933,
          -15.392609045458244,
          -16.657497722399977,
          -16.882486705990146,
          -18.142144084402705,
          -19.74931445295881,
          -19.031177544298263,
          -20.05344535470062,
          -17.647375716853578,
          -19.30988632457774,
          -18.649676917659544,
          -14.900931163254729,
          -15.611316766080211,
          -12.220590935551986,
          -10.934368683744719,
          -14.171334574730231,
          -13.241164975161599,
          -12.824840451108809,
          -15.664665535376267,
          -15.609053852897194,
          -11.203410128416092,
          -12.750958165165336,
          -18.114360702442596,
          -15.887733604043387,
          -16.50768278418246,
          -11.334539281696193,
          -16.766410396260415,
          -17.824326339344402,
          -18.450336968248592,
          -17.60234913823853,
          -15.961573957595988,
          -16.429009375126405,
          -13.956305938829395,
          -15.490625641525293,
          -11.896896877857465,
          -13.430073353095406,
          -10.117745517707933,
          -9.127712156075427,
          -9.800078755715173,
          -9.414244913641962,
          -8.973825438699336,
          -10.517357805018559,
          -9.400059307926472,
          -5.464206110579415,
          -6.857193604333904,
          -5.409049852693702,
          -7.674579870843509,
          -7.966629906232495,
          -6.398135501080846,
          -5.069841889387547,
          -4.920030075647109,
          -6.141779714366553,
          -9.490740913558133,
          -9.189992884177592,
          -10.147144230280965,
          -9.097089787152374,
          -11.352467184289816,
          -10.59241384957761,
          -11.836528971367681,
          -12.349606055268044,
          -11.996379915311898
         ],
         "z": [
          -14.325016528964566,
          -12.24283394137128,
          -12.255536660654244,
          -11.609449277153063,
          -15.045496010182763,
          -14.477972976389726,
          -15.994018356385418,
          -15.898855557547126,
          -14.955860884808134,
          -14.324294001411019,
          -12.430519418379996,
          -12.417148042554114,
          -11.986016011254849,
          -11.969906797789115,
          -9.50879550464293,
          -10.140087946311459,
          -10.363728506716047,
          -13.523377489445753,
          -11.81619523535998,
          -10.214016599194327,
          -9.626465771118138,
          -10.225856548271167,
          -11.969683894017745,
          -11.273472351538873,
          -12.299517317623797,
          -13.243791376472394,
          -12.194377886370718,
          -8.915283194828492,
          -9.720662437238447,
          -9.673874597036603,
          -11.71893305828371,
          -10.735878232755933,
          -8.983343595679699,
          -9.054306624408733,
          -10.311720252675505,
          -11.550866647875237,
          -10.210985546197234,
          -13.29250690210861,
          -11.911992710086912,
          -10.931084270111818,
          -9.413033976339857,
          -11.273741131740938,
          -12.72223671843312,
          -11.50242513286598,
          -9.009819322634044,
          -8.944676417914536,
          -9.131312460593715,
          -8.925251706901893,
          -10.872957724825845,
          -10.79444059021132,
          -12.33250412055876,
          -12.614729755232869,
          -9.639449535450787,
          -11.85118460642467,
          -8.871130430527511,
          -11.345503901059004,
          -10.52104084046871,
          -11.75719500719637,
          -7.966932111222405,
          -10.107411033634198,
          -10.440993885660077,
          -11.43244081851883,
          -11.529137980360495,
          -11.374076186557037,
          -12.169369653899537,
          -15.154910022689222,
          -13.658132821249566,
          -14.413483486219533,
          -13.60889462892834,
          -14.607139329199217,
          -15.0328291110388,
          -11.78963911750634,
          -13.307605992381006,
          -11.346721820789273,
          -12.351219890149217,
          -9.564674899120797,
          -11.319573248892404,
          -9.765147854911273,
          -7.71310122869432,
          -8.156447107340048,
          -5.734554233660717,
          -10.609404632035162,
          -7.4928522439704945,
          -5.987201893164585,
          -7.266043577369356,
          -0.46243210638597887,
          -1.0773107415248617,
          -2.0437692279375916,
          -7.551975829373806,
          -3.2220746752164295,
          -2.7807230384556547,
          -1.9366289022859249,
          -0.35993176326453025,
          -1.7240426691197754,
          -0.18875239581239,
          -2.057505700493593,
          -4.425720418931146,
          -4.102666003271747,
          -6.47781519009564,
          -6.742400837473522,
          -7.788260779675513,
          -6.045450052607958,
          -8.479060408389161,
          -8.13304203290219,
          -7.700903576069987,
          -8.139728099779273,
          -9.152079416630027,
          -10.896053643671356,
          -9.85741210414273,
          -10.663927539565535,
          -11.756428269166166,
          -10.415455105250539,
          -7.637926475639742,
          -8.063083120431699,
          -8.235038485664717,
          -11.238470035272318,
          -10.109188892252089,
          -8.420603025160556,
          -8.995310702149188,
          -7.209086980908776,
          -10.519727815977536,
          -10.949998771012506,
          -7.102628821551493,
          -6.005453053876696,
          -8.931468220424742,
          -9.701117494724803,
          -22.800355654050804,
          -23.50392237053548,
          -24.588076628687464,
          -23.575794394251474,
          -22.225914999527777,
          -23.620197944154533,
          -21.974125610185975,
          -20.442610542399155,
          -20.770681670455005,
          -21.09810412353996,
          -22.039984452490316,
          -24.762342844718695,
          -21.774193171239194,
          -24.50246472434735,
          -24.45451037194987,
          -23.378541416704593,
          -22.787367684591796,
          -21.865729265838,
          -19.772662359804336,
          -19.71344476345411,
          -18.453812671752708,
          -23.32497428880843,
          -24.184269940217465,
          -25.0628634567039,
          -25.96176807092231,
          -26.062509994988964,
          -26.579791366641206,
          -23.176451901955662,
          -24.892052981232627,
          -23.955151332708578,
          -21.69487839469321,
          -21.564577543555835,
          -12.446893329069209,
          -12.360724167858105,
          -14.645053515458034,
          -10.918039045027509,
          -12.180309046403641,
          -17.613798568539266,
          -17.355791261368402
         ]
        },
        {
         "customdata": [
          [
           "N",
           32,
           2,
           "SER",
           "A"
          ],
          [
           "N20",
           62,
           4,
           "TRZ",
           "A"
          ],
          [
           "N20",
           63,
           4,
           "TRZ",
           "A"
          ],
          [
           "N20",
           64,
           4,
           "TRZ",
           "A"
          ],
          [
           "N12",
           79,
           5,
           "HAC",
           "A"
          ],
          [
           "N",
           115,
           7,
           "SER",
           "A"
          ],
          [
           "N20",
           145,
           9,
           "TRZ",
           "A"
          ],
          [
           "N20",
           146,
           9,
           "TRZ",
           "A"
          ],
          [
           "N20",
           147,
           9,
           "TRZ",
           "A"
          ],
          [
           "N",
           204,
           12,
           "SER",
           "A"
          ],
          [
           "N20",
           234,
           14,
           "TRZ",
           "A"
          ],
          [
           "N20",
           235,
           14,
           "TRZ",
           "A"
          ],
          [
           "N20",
           236,
           14,
           "TRZ",
           "A"
          ],
          [
           "N12",
           251,
           15,
           "HAC",
           "A"
          ],
          [
           "N",
           287,
           17,
           "SER",
           "A"
          ],
          [
           "N20",
           317,
           19,
           "TRZ",
           "A"
          ],
          [
           "N20",
           318,
           19,
           "TRZ",
           "A"
          ],
          [
           "N20",
           319,
           19,
           "TRZ",
           "A"
          ]
         ],
         "hovertemplate": "atom_element=N<br>x=%{x}<br>y=%{y}<br>z=%{z}<br>atom_id=%{customdata[0]}<br>atom_serial=%{customdata[1]}<br>residue_serial=%{customdata[2]}<br>residue_name=%{customdata[3]}<br>chain_id=%{customdata[4]}<extra></extra>",
         "legendgroup": "N",
         "marker": {
          "color": "blue",
          "opacity": 0.3,
          "symbol": "circle"
         },
         "mode": "markers",
         "name": "N",
         "scene": "scene",
         "showlegend": true,
         "type": "scatter3d",
         "x": [
          0.5453873875038644,
          -2.32199343743601,
          -2.690148896439016,
          -1.6315210932099546,
          -4.0749412042745305,
          1.177636773897845,
          -2.628238221783574,
          -1.2993376012904476,
          -0.9284799274677162,
          -20.205354357914132,
          -15.926567891037203,
          -17.179475048382507,
          -18.00423966321454,
          -14.185194512988595,
          -15.422779449680458,
          -14.548585479487812,
          -15.742080135588022,
          -15.734442348024883
         ],
         "y": [
          -5.386006761640191,
          -10.673256813806372,
          -9.558375751966555,
          -9.130839715997816,
          -13.23599318552293,
          -22.02571344002788,
          -16.027467534534182,
          -16.161633900158833,
          -17.20445241852562,
          -12.028099141949607,
          -12.69293789688068,
          -12.32744439226808,
          -13.12126321381757,
          -11.631343896187829,
          -10.168205993972336,
          -10.412453073846999,
          -10.085965494566608,
          -10.46939842398523
         ],
         "z": [
          -12.63492797006437,
          -10.498828147192999,
          -11.150842898527053,
          -11.830055591413856,
          -10.31160335024789,
          -8.914018651870233,
          -10.634843129380753,
          -10.775000138438623,
          -10.040286661280291,
          -7.725492116879808,
          -8.473483527224097,
          -8.790121511614657,
          -8.116011150713177,
          -11.050688497468602,
          -21.402976101659664,
          -13.944131893187599,
          -14.466240910956746,
          -15.738141309116367
         ]
        },
        {
         "customdata": [
          [
           "Cl4",
           160,
           10,
           "CBZ",
           "A"
          ]
         ],
         "hovertemplate": "atom_element=Cl<br>x=%{x}<br>y=%{y}<br>z=%{z}<br>atom_id=%{customdata[0]}<br>atom_serial=%{customdata[1]}<br>residue_serial=%{customdata[2]}<br>residue_name=%{customdata[3]}<br>chain_id=%{customdata[4]}<extra></extra>",
         "legendgroup": "Cl",
         "marker": {
          "color": "green",
          "opacity": 0.3,
          "symbol": "circle"
         },
         "mode": "markers",
         "name": "Cl",
         "scene": "scene",
         "showlegend": true,
         "type": "scatter3d",
         "x": [
          -7.671757951990303
         ],
         "y": [
          -14.589094027917737
         ],
         "z": [
          -6.199942130346157
         ]
        },
        {
         "hoverinfo": "skip",
         "line": {
          "color": "black",
          "width": 1
         },
         "mode": "lines",
         "showlegend": false,
         "type": "scatter3d",
         "x": [
          1.4109375222375098,
          1.3430356192466633
         ],
         "y": [
          -4.05149891427271,
          -4.7110965370941855
         ],
         "z": [
          -13.821454280251837,
          -12.78883372189631
         ]
        },
        {
         "hoverinfo": "skip",
         "line": {
          "color": "black",
          "width": 1
         },
         "mode": "lines",
         "showlegend": false,
         "type": "scatter3d",
         "x": [
          7.0159632985371045,
          6.740943908838871
         ],
         "y": [
          -0.8053271917517595,
          -1.0279268720794068
         ],
         "z": [
          -14.234751709378209,
          -12.734658119761862
         ]
        },
        {
         "hoverinfo": "skip",
         "line": {
          "color": "black",
          "width": 1
         },
         "mode": "lines",
         "showlegend": false,
         "type": "scatter3d",
         "x": [
          7.0159632985371045,
          7.286844087669094
         ],
         "y": [
          -0.8053271917517595,
          -2.1204075965011757
         ],
         "z": [
          -14.234751709378209,
          -14.969976455373152
         ]
        },
        {
         "hoverinfo": "skip",
         "line": {
          "color": "black",
          "width": 1
         },
         "mode": "lines",
         "showlegend": false,
         "type": "scatter3d",
         "x": [
          7.0159632985371045,
          5.825764370205843
         ],
         "y": [
          -0.8053271917517595,
          -0.09052483086742669
         ],
         "z": [
          -14.234751709378209,
          -14.87922097619649
         ]
        },
        {
         "hoverinfo": "skip",
         "line": {
          "color": "black",
          "width": 1
         },
         "mode": "lines",
         "showlegend": false,
         "type": "scatter3d",
         "x": [
          7.0159632985371045,
          7.899753860940072
         ],
         "y": [
          -0.8053271917517595,
          -0.16175258523554703
         ],
         "z": [
          -14.234751709378209,
          -14.325016528964566
         ]
        },
        {
         "hoverinfo": "skip",
         "line": {
          "color": "black",
          "width": 1
         },
         "mode": "lines",
         "showlegend": false,
         "type": "scatter3d",
         "x": [
          6.740943908838871,
          5.60166805650688
         ],
         "y": [
          -1.0279268720794068,
          -1.9783008798311457
         ],
         "z": [
          -12.734658119761862,
          -12.457596073131318
         ]
        },
        {
         "hoverinfo": "skip",
         "line": {
          "color": "black",
          "width": 1
         },
         "mode": "lines",
         "showlegend": false,
         "type": "scatter3d",
         "x": [
          6.740943908838871,
          6.545101994424042
         ],
         "y": [
          -1.0279268720794068,
          -0.06567296997831562
         ],
         "z": [
          -12.734658119761862,
          -12.24283394137128
         ]
        },
        {
         "hoverinfo": "skip",
         "line": {
          "color": "black",
          "width": 1
         },
         "mode": "lines",
         "showlegend": false,
         "type": "scatter3d",
         "x": [
          6.740943908838871,
          7.651435407476925
         ],
         "y": [
          -1.0279268720794068,
          -1.4128253890035758
         ],
         "z": [
          -12.734658119761862,
          -12.255536660654244
         ]
        },
        {
         "hoverinfo": "skip",
         "line": {
          "color": "black",
          "width": 1
         },
         "mode": "lines",
         "showlegend": false,
         "type": "scatter3d",
         "x": [
          5.60166805650688,
          4.314642867305967
         ],
         "y": [
          -1.9783008798311457,
          -1.4786882324634103
         ],
         "z": [
          -12.457596073131318,
          -12.336451676015468
         ]
        },
        {
         "hoverinfo": "skip",
         "line": {
          "color": "black",
          "width": 1
         },
         "mode": "lines",
         "showlegend": false,
         "type": "scatter3d",
         "x": [
          5.60166805650688,
          5.8630282125488415
         ],
         "y": [
          -1.9783008798311457,
          -3.3332399542003657
         ],
         "z": [
          -12.457596073131318,
          -12.328502837130218
         ]
        },
        {
         "hoverinfo": "skip",
         "line": {
          "color": "black",
          "width": 1
         },
         "mode": "lines",
         "showlegend": false,
         "type": "scatter3d",
         "x": [
          3.5094289958932827,
          2.383849207859666
         ],
         "y": [
          -3.723179259160359,
          -4.662338754426255
         ],
         "z": [
          -11.947227495932253,
          -11.672553446881196
         ]
        },
        {
         "hoverinfo": "skip",
         "line": {
          "color": "black",
          "width": 1
         },
         "mode": "lines",
         "showlegend": false,
         "type": "scatter3d",
         "x": [
          3.5094289958932827,
          3.2617600481884614
         ],
         "y": [
          -3.723179259160359,
          -2.356757707305393
         ],
         "z": [
          -11.947227495932253,
          -12.079475652702257
         ]
        },
        {
         "hoverinfo": "skip",
         "line": {
          "color": "black",
          "width": 1
         },
         "mode": "lines",
         "showlegend": false,
         "type": "scatter3d",
         "x": [
          3.5094289958932827,
          4.810055674529048
         ],
         "y": [
          -3.723179259160359,
          -4.211425458027302
         ],
         "z": [
          -11.947227495932253,
          -12.071618943037256
         ]
        },
        {
         "hoverinfo": "skip",
         "line": {
          "color": "black",
          "width": 1
         },
         "mode": "lines",
         "showlegend": false,
         "type": "scatter3d",
         "x": [
          2.383849207859666,
          1.6626164180079268
         ],
         "y": [
          -4.662338754426255,
          -4.374616920464144
         ],
         "z": [
          -11.672553446881196,
          -10.344373945042614
         ]
        },
        {
         "hoverinfo": "skip",
         "line": {
          "color": "black",
          "width": 1
         },
         "mode": "lines",
         "showlegend": false,
         "type": "scatter3d",
         "x": [
          2.383849207859666,
          1.3430356192466633
         ],
         "y": [
          -4.662338754426255,
          -4.7110965370941855
         ],
         "z": [
          -11.672553446881196,
          -12.78883372189631
         ]
        },
        {
         "hoverinfo": "skip",
         "line": {
          "color": "black",
          "width": 1
         },
         "mode": "lines",
         "showlegend": false,
         "type": "scatter3d",
         "x": [
          2.383849207859666,
          2.7751914558724247
         ],
         "y": [
          -4.662338754426255,
          -5.686777043774733
         ],
         "z": [
          -11.672553446881196,
          -11.609449277153063
         ]
        },
        {
         "hoverinfo": "skip",
         "line": {
          "color": "black",
          "width": 1
         },
         "mode": "lines",
         "showlegend": false,
         "type": "scatter3d",
         "x": [
          7.286844087669094,
          6.397153212135955
         ],
         "y": [
          -2.1204075965011757,
          -2.7533559378643826
         ],
         "z": [
          -14.969976455373152,
          -15.045496010182763
         ]
        },
        {
         "hoverinfo": "skip",
         "line": {
          "color": "black",
          "width": 1
         },
         "mode": "lines",
         "showlegend": false,
         "type": "scatter3d",
         "x": [
          7.286844087669094,
          8.083396551399916
         ],
         "y": [
          -2.1204075965011757,
          -2.688142542750372
         ],
         "z": [
          -14.969976455373152,
          -14.477972976389726
         ]
        },
        {
         "hoverinfo": "skip",
         "line": {
          "color": "black",
          "width": 1
         },
         "mode": "lines",
         "showlegend": false,
         "type": "scatter3d",
         "x": [
          7.286844087669094,
          7.618081792936063
         ],
         "y": [
          -2.1204075965011757,
          -1.913339521751185
         ],
         "z": [
          -14.969976455373152,
          -15.994018356385418
         ]
        },
        {
         "hoverinfo": "skip",
         "line": {
          "color": "black",
          "width": 1
         },
         "mode": "lines",
         "showlegend": false,
         "type": "scatter3d",
         "x": [
          5.825764370205843,
          6.084408539770694
         ],
         "y": [
          -0.09052483086742669,
          0.21718162675742114
         ],
         "z": [
          -14.87922097619649,
          -15.898855557547126
         ]
        },
        {
         "hoverinfo": "skip",
         "line": {
          "color": "black",
          "width": 1
         },
         "mode": "lines",
         "showlegend": false,
         "type": "scatter3d",
         "x": [
          5.825764370205843,
          4.940585973397833
         ],
         "y": [
          -0.09052483086742669,
          -0.7294340734304043
         ],
         "z": [
          -14.87922097619649,
          -14.955860884808134
         ]
        },
        {
         "hoverinfo": "skip",
         "line": {
          "color": "black",
          "width": 1
         },
         "mode": "lines",
         "showlegend": false,
         "type": "scatter3d",
         "x": [
          5.825764370205843,
          5.558496970954202
         ],
         "y": [
          -0.09052483086742669,
          0.8148864182082107
         ],
         "z": [
          -14.87922097619649,
          -14.324294001411019
         ]
        },
        {
         "hoverinfo": "skip",
         "line": {
          "color": "black",
          "width": 1
         },
         "mode": "lines",
         "showlegend": false,
         "type": "scatter3d",
         "x": [
          4.314642867305967,
          3.2617600481884614
         ],
         "y": [
          -1.4786882324634103,
          -2.356757707305393
         ],
         "z": [
          -12.336451676015468,
          -12.079475652702257
         ]
        },
        {
         "hoverinfo": "skip",
         "line": {
          "color": "black",
          "width": 1
         },
         "mode": "lines",
         "showlegend": false,
         "type": "scatter3d",
         "x": [
          4.314642867305967,
          4.109719829350375
         ],
         "y": [
          -1.4786882324634103,
          -0.41626527132152447
         ],
         "z": [
          -12.336451676015468,
          -12.430519418379996
         ]
        },
        {
         "hoverinfo": "skip",
         "line": {
          "color": "black",
          "width": 1
         },
         "mode": "lines",
         "showlegend": false,
         "type": "scatter3d",
         "x": [
          5.8630282125488415,
          4.810055674529048
         ],
         "y": [
          -3.3332399542003657,
          -4.211425458027302
         ],
         "z": [
          -12.328502837130218,
          -12.071618943037256
         ]
        },
        {
         "hoverinfo": "skip",
         "line": {
          "color": "black",
          "width": 1
         },
         "mode": "lines",
         "showlegend": false,
         "type": "scatter3d",
         "x": [
          5.8630282125488415,
          6.8721234056388685
         ],
         "y": [
          -3.3332399542003657,
          -3.7250222264357937
         ],
         "z": [
          -12.328502837130218,
          -12.417148042554114
         ]
        },
        {
         "hoverinfo": "skip",
         "line": {
          "color": "black",
          "width": 1
         },
         "mode": "lines",
         "showlegend": false,
         "type": "scatter3d",
         "x": [
          3.2617600481884614,
          2.2559271782350354
         ],
         "y": [
          -2.356757707305393,
          -1.9563245129498714
         ],
         "z": [
          -12.079475652702257,
          -11.986016011254849
         ]
        },
        {
         "hoverinfo": "skip",
         "line": {
          "color": "black",
          "width": 1
         },
         "mode": "lines",
         "showlegend": false,
         "type": "scatter3d",
         "x": [
          4.810055674529048,
          5.020739898280591
         ],
         "y": [
          -4.211425458027302,
          -5.272651822838899
         ],
         "z": [
          -12.071618943037256,
          -11.969906797789115
         ]
        },
        {
         "hoverinfo": "skip",
         "line": {
          "color": "black",
          "width": 1
         },
         "mode": "lines",
         "showlegend": false,
         "type": "scatter3d",
         "x": [
          1.6626164180079268,
          2.3709477302039303
         ],
         "y": [
          -4.374616920464144,
          -4.363256810345488
         ],
         "z": [
          -10.344373945042614,
          -9.50879550464293
         ]
        },
        {
         "hoverinfo": "skip",
         "line": {
          "color": "black",
          "width": 1
         },
         "mode": "lines",
         "showlegend": false,
         "type": "scatter3d",
         "x": [
          1.6626164180079268,
          0.9084970675651975
         ],
         "y": [
          -4.374616920464144,
          -5.142890033367517
         ],
         "z": [
          -10.344373945042614,
          -10.140087946311459
         ]
        },
        {
         "hoverinfo": "skip",
         "line": {
          "color": "black",
          "width": 1
         },
         "mode": "lines",
         "showlegend": false,
         "type": "scatter3d",
         "x": [
          1.6626164180079268,
          1.1437966655097132
         ],
         "y": [
          -4.374616920464144,
          -3.409762669626165
         ],
         "z": [
          -10.344373945042614,
          -10.363728506716047
         ]
        },
        {
         "hoverinfo": "skip",
         "line": {
          "color": "black",
          "width": 1
         },
         "mode": "lines",
         "showlegend": false,
         "type": "scatter3d",
         "x": [
          1.3430356192466633,
          0.5453873875038644
         ],
         "y": [
          -4.7110965370941855,
          -5.386006761640191
         ],
         "z": [
          -12.78883372189631,
          -12.63492797006437
         ]
        },
        {
         "hoverinfo": "skip",
         "line": {
          "color": "black",
          "width": 1
         },
         "mode": "lines",
         "showlegend": false,
         "type": "scatter3d",
         "x": [
          0.5453873875038644,
          1.0457690143242901
         ],
         "y": [
          -5.386006761640191,
          -6.433240078012139
         ],
         "z": [
          -12.63492797006437,
          -11.734451646876938
         ]
        },
        {
         "hoverinfo": "skip",
         "line": {
          "color": "black",
          "width": 1
         },
         "mode": "lines",
         "showlegend": false,
         "type": "scatter3d",
         "x": [
          0.5453873875038644,
          0.3654334064352911
         ],
         "y": [
          -5.386006761640191,
          -5.829511007627263
         ],
         "z": [
          -12.63492797006437,
          -13.523377489445753
         ]
        },
        {
         "hoverinfo": "skip",
         "line": {
          "color": "black",
          "width": 1
         },
         "mode": "lines",
         "showlegend": false,
         "type": "scatter3d",
         "x": [
          1.0457690143242901,
          0.4384423570272915
         ],
         "y": [
          -6.433240078012139,
          -7.757427022603762
         ],
         "z": [
          -11.734451646876938,
          -12.119084286040021
         ]
        },
        {
         "hoverinfo": "skip",
         "line": {
          "color": "black",
          "width": 1
         },
         "mode": "lines",
         "showlegend": false,
         "type": "scatter3d",
         "x": [
          1.0457690143242901,
          0.6604881746767584
         ],
         "y": [
          -6.433240078012139,
          -6.093975544362008
         ],
         "z": [
          -11.734451646876938,
          -10.294517533520478
         ]
        },
        {
         "hoverinfo": "skip",
         "line": {
          "color": "black",
          "width": 1
         },
         "mode": "lines",
         "showlegend": false,
         "type": "scatter3d",
         "x": [
          1.0457690143242901,
          2.1307323326249312
         ],
         "y": [
          -6.433240078012139,
          -6.493544171438407
         ],
         "z": [
          -11.734451646876938,
          -11.81619523535998
         ]
        },
        {
         "hoverinfo": "skip",
         "line": {
          "color": "black",
          "width": 4
         },
         "mode": "lines",
         "showlegend": false,
         "type": "scatter3d",
         "x": [
          0.4384423570272915,
          -0.6599071055647796
         ],
         "y": [
          -7.757427022603762,
          -7.796423427480439
         ],
         "z": [
          -12.119084286040021,
          -12.617878570720995
         ]
        },
        {
         "hoverinfo": "skip",
         "line": {
          "color": "black",
          "width": 4
         },
         "mode": "lines",
         "showlegend": false,
         "type": "scatter3d",
         "x": [
          0.4384423570272915,
          1.119669989677238
         ],
         "y": [
          -7.757427022603762,
          -8.893880673350317
         ],
         "z": [
          -12.119084286040021,
          -11.90681320412121
         ]
        },
        {
         "hoverinfo": "skip",
         "line": {
          "color": "black",
          "width": 4
         },
         "mode": "lines",
         "showlegend": false,
         "type": "scatter3d",
         "x": [
          0.6604881746767584,
          1.2351258328837424
         ],
         "y": [
          -6.093975544362008,
          -4.838120062040522
         ],
         "z": [
          -10.294517533520478,
          -9.930188603440158
         ]
        },
        {
         "hoverinfo": "skip",
         "line": {
          "color": "black",
          "width": 1
         },
         "mode": "lines",
         "showlegend": false,
         "type": "scatter3d",
         "x": [
          0.6604881746767584,
          -0.4250645083468485
         ],
         "y": [
          -6.093975544362008,
          -6.034000783396483
         ],
         "z": [
          -10.294517533520478,
          -10.214016599194327
         ]
        },
        {
         "hoverinfo": "skip",
         "line": {
          "color": "black",
          "width": 1
         },
         "mode": "lines",
         "showlegend": false,
         "type": "scatter3d",
         "x": [
          0.6604881746767584,
          1.0314830378843736
         ],
         "y": [
          -6.093975544362008,
          -6.870724315989417
         ],
         "z": [
          -10.294517533520478,
          -9.626465771118138
         ]
        },
        {
         "hoverinfo": "skip",
         "line": {
          "color": "black",
          "width": 1
         },
         "mode": "lines",
         "showlegend": false,
         "type": "scatter3d",
         "x": [
          1.2351258328837424,
          2.074507807334559
         ],
         "y": [
          -4.838120062040522,
          -4.596024903054021
         ],
         "z": [
          -9.930188603440158,
          -10.73869829016268
         ]
        },
        {
         "hoverinfo": "skip",
         "line": {
          "color": "black",
          "width": 1
         },
         "mode": "lines",
         "showlegend": false,
         "type": "scatter3d",
         "x": [
          1.119669989677238,
          0.7197215267178692
         ],
         "y": [
          -8.893880673350317,
          -9.797331463431973
         ],
         "z": [
          -11.90681320412121,
          -12.200916269886367
         ]
        },
        {
         "hoverinfo": "skip",
         "line": {
          "color": "black",
          "width": 1
         },
         "mode": "lines",
         "showlegend": false,
         "type": "scatter3d",
         "x": [
          3.6702112487616763,
          4.3746475442538015
         ],
         "y": [
          -2.987132648405902,
          -1.7607090175039861
         ],
         "z": [
          -11.328443497816746,
          -11.130374840127866
         ]
        },
        {
         "hoverinfo": "skip",
         "line": {
          "color": "black",
          "width": 1
         },
         "mode": "lines",
         "showlegend": false,
         "type": "scatter3d",
         "x": [
          3.6702112487616763,
          2.722025025280104
         ],
         "y": [
          -2.987132648405902,
          -3.2819394532014945
         ],
         "z": [
          -11.328443497816746,
          -10.389234110381778
         ]
        },
        {
         "hoverinfo": "skip",
         "line": {
          "color": "black",
          "width": 1
         },
         "mode": "lines",
         "showlegend": false,
         "type": "scatter3d",
         "x": [
          2.4361581196781117,
          2.722025025280104
         ],
         "y": [
          -2.5960354797684104,
          -3.2819394532014945
         ],
         "z": [
          -9.417295063162122,
          -10.389234110381778
         ]
        },
        {
         "hoverinfo": "skip",
         "line": {
          "color": "black",
          "width": 1
         },
         "mode": "lines",
         "showlegend": false,
         "type": "scatter3d",
         "x": [
          4.3746475442538015,
          3.3658722407997668
         ],
         "y": [
          -1.7607090175039861,
          -0.6130375098281258
         ],
         "z": [
          -11.130374840127866,
          -11.143748232002705
         ]
        },
        {
         "hoverinfo": "skip",
         "line": {
          "color": "black",
          "width": 1
         },
         "mode": "lines",
         "showlegend": false,
         "type": "scatter3d",
         "x": [
          4.3746475442538015,
          5.372171591136933
         ],
         "y": [
          -1.7607090175039861,
          -1.6127319321771187
         ],
         "z": [
          -11.130374840127866,
          -12.277134661584856
         ]
        },
        {
         "hoverinfo": "skip",
         "line": {
          "color": "black",
          "width": 1
         },
         "mode": "lines",
         "showlegend": false,
         "type": "scatter3d",
         "x": [
          4.3746475442538015,
          5.103809855747128
         ],
         "y": [
          -1.7607090175039861,
          -1.8294955302582112
         ],
         "z": [
          -11.130374840127866,
          -9.789338301042958
         ]
        },
        {
         "hoverinfo": "skip",
         "line": {
          "color": "black",
          "width": 1
         },
         "mode": "lines",
         "showlegend": false,
         "type": "scatter3d",
         "x": [
          3.3658722407997668,
          2.781584254611179
         ],
         "y": [
          -0.6130375098281258,
          -0.5110519906003361
         ],
         "z": [
          -11.143748232002705,
          -10.225856548271167
         ]
        },
        {
         "hoverinfo": "skip",
         "line": {
          "color": "black",
          "width": 1
         },
         "mode": "lines",
         "showlegend": false,
         "type": "scatter3d",
         "x": [
          3.3658722407997668,
          2.653693070220031
         ],
         "y": [
          -0.6130375098281258,
          -0.7256772062239571
         ],
         "z": [
          -11.143748232002705,
          -11.969683894017745
         ]
        },
        {
         "hoverinfo": "skip",
         "line": {
          "color": "black",
          "width": 1
         },
         "mode": "lines",
         "showlegend": false,
         "type": "scatter3d",
         "x": [
          3.3658722407997668,
          3.8805180098596255
         ],
         "y": [
          -0.6130375098281258,
          0.3465362732648378
         ],
         "z": [
          -11.143748232002705,
          -11.273472351538873
         ]
        },
        {
         "hoverinfo": "skip",
         "line": {
          "color": "black",
          "width": 1
         },
         "mode": "lines",
         "showlegend": false,
         "type": "scatter3d",
         "x": [
          5.372171591136933,
          6.066841722660747
         ],
         "y": [
          -1.6127319321771187,
          -2.4602155220343667
         ],
         "z": [
          -12.277134661584856,
          -12.299517317623797
         ]
        },
        {
         "hoverinfo": "skip",
         "line": {
          "color": "black",
          "width": 1
         },
         "mode": "lines",
         "showlegend": false,
         "type": "scatter3d",
         "x": [
          5.372171591136933,
          4.855262935404092
         ],
         "y": [
          -1.6127319321771187,
          -1.6107102518592464
         ],
         "z": [
          -12.277134661584856,
          -13.243791376472394
         ]
        },
        {
         "hoverinfo": "skip",
         "line": {
          "color": "black",
          "width": 1
         },
         "mode": "lines",
         "showlegend": false,
         "type": "scatter3d",
         "x": [
          5.372171591136933,
          5.954984864494502
         ],
         "y": [
          -1.6127319321771187,
          -0.6895948163842389
         ],
         "z": [
          -12.277134661584856,
          -12.194377886370718
         ]
        },
        {
         "hoverinfo": "skip",
         "line": {
          "color": "black",
          "width": 1
         },
         "mode": "lines",
         "showlegend": false,
         "type": "scatter3d",
         "x": [
          5.103809855747128,
          4.459803793169608
         ],
         "y": [
          -1.8294955302582112,
          -1.7051190346337766
         ],
         "z": [
          -9.789338301042958,
          -8.915283194828492
         ]
        },
        {
         "hoverinfo": "skip",
         "line": {
          "color": "black",
          "width": 1
         },
         "mode": "lines",
         "showlegend": false,
         "type": "scatter3d",
         "x": [
          5.103809855747128,
          5.854345913365041
         ],
         "y": [
          -1.8294955302582112,
          -1.0329356066202804
         ],
         "z": [
          -9.789338301042958,
          -9.720662437238447
         ]
        },
        {
         "hoverinfo": "skip",
         "line": {
          "color": "black",
          "width": 1
         },
         "mode": "lines",
         "showlegend": false,
         "type": "scatter3d",
         "x": [
          5.103809855747128,
          5.621348967397591
         ],
         "y": [
          -1.8294955302582112,
          -2.789018500785329
         ],
         "z": [
          -9.789338301042958,
          -9.673874597036603
         ]
        },
        {
         "hoverinfo": "skip",
         "line": {
          "color": "black",
          "width": 1
         },
         "mode": "lines",
         "showlegend": false,
         "type": "scatter3d",
         "x": [
          2.722025025280104,
          2.074507807334559
         ],
         "y": [
          -3.2819394532014945,
          -4.596024903054021
         ],
         "z": [
          -10.389234110381778,
          -10.73869829016268
         ]
        },
        {
         "hoverinfo": "skip",
         "line": {
          "color": "black",
          "width": 1
         },
         "mode": "lines",
         "showlegend": false,
         "type": "scatter3d",
         "x": [
          2.074507807334559,
          1.597292171851603
         ],
         "y": [
          -4.596024903054021,
          -4.519298332576062
         ],
         "z": [
          -10.73869829016268,
          -11.71893305828371
         ]
        },
        {
         "hoverinfo": "skip",
         "line": {
          "color": "black",
          "width": 1
         },
         "mode": "lines",
         "showlegend": false,
         "type": "scatter3d",
         "x": [
          2.074507807334559,
          2.8175771648218673
         ],
         "y": [
          -4.596024903054021,
          -5.397813327290512
         ],
         "z": [
          -10.73869829016268,
          -10.735878232755933
         ]
        },
        {
         "hoverinfo": "skip",
         "line": {
          "color": "black",
          "width": 1
         },
         "mode": "lines",
         "showlegend": false,
         "type": "scatter3d",
         "x": [
          -2.32199343743601,
          -2.690148896439016
         ],
         "y": [
          -10.673256813806372,
          -9.558375751966555
         ],
         "z": [
          -10.498828147192999,
          -11.150842898527053
         ]
        },
        {
         "hoverinfo": "skip",
         "line": {
          "color": "black",
          "width": 1
         },
         "mode": "lines",
         "showlegend": false,
         "type": "scatter3d",
         "x": [
          -2.32199343743601,
          -3.257678414867687
         ],
         "y": [
          -10.673256813806372,
          -11.379549445183947
         ],
         "z": [
          -10.498828147192999,
          -9.661430492628329
         ]
        },
        {
         "hoverinfo": "skip",
         "line": {
          "color": "black",
          "width": 1
         },
         "mode": "lines",
         "showlegend": false,
         "type": "scatter3d",
         "x": [
          -2.32199343743601,
          -1.0208018446831328
         ],
         "y": [
          -10.673256813806372,
          -10.989949891806077
         ],
         "z": [
          -10.498828147192999,
          -10.741799572048471
         ]
        },
        {
         "hoverinfo": "skip",
         "line": {
          "color": "black",
          "width": 1
         },
         "mode": "lines",
         "showlegend": false,
         "type": "scatter3d",
         "x": [
          -2.690148896439016,
          -1.6315210932099546
         ],
         "y": [
          -9.558375751966555,
          -9.130839715997816
         ],
         "z": [
          -11.150842898527053,
          -11.830055591413856
         ]
        },
        {
         "hoverinfo": "skip",
         "line": {
          "color": "black",
          "width": 1
         },
         "mode": "lines",
         "showlegend": false,
         "type": "scatter3d",
         "x": [
          -1.6315210932099546,
          -0.6007796314982485
         ],
         "y": [
          -9.130839715997816,
          -9.996553903609719
         ],
         "z": [
          -11.830055591413856,
          -11.590261858226619
         ]
        },
        {
         "hoverinfo": "skip",
         "line": {
          "color": "black",
          "width": 4
         },
         "mode": "lines",
         "showlegend": false,
         "type": "scatter3d",
         "x": [
          -3.257678414867687,
          -4.236691685374918
         ],
         "y": [
          -11.379549445183947,
          -12.207366536571808
         ],
         "z": [
          -9.661430492628329,
          -10.479792710339336
         ]
        },
        {
         "hoverinfo": "skip",
         "line": {
          "color": "black",
          "width": 1
         },
         "mode": "lines",
         "showlegend": false,
         "type": "scatter3d",
         "x": [
          -3.257678414867687,
          -2.688737241804109
         ],
         "y": [
          -11.379549445183947,
          -12.024794392300638
         ],
         "z": [
          -9.661430492628329,
          -8.983343595679699
         ]
        },
        {
         "hoverinfo": "skip",
         "line": {
          "color": "black",
          "width": 1
         },
         "mode": "lines",
         "showlegend": false,
         "type": "scatter3d",
         "x": [
          -3.257678414867687,
          -3.7883895935496827
         ],
         "y": [
          -11.379549445183947,
          -10.638184694565169
         ],
         "z": [
          -9.661430492628329,
          -9.054306624408733
         ]
        },
        {
         "hoverinfo": "skip",
         "line": {
          "color": "black",
          "width": 1
         },
         "mode": "lines",
         "showlegend": false,
         "type": "scatter3d",
         "x": [
          -1.0208018446831328,
          -0.6007796314982485
         ],
         "y": [
          -10.989949891806077,
          -9.996553903609719
         ],
         "z": [
          -10.741799572048471,
          -11.590261858226619
         ]
        },
        {
         "hoverinfo": "skip",
         "line": {
          "color": "black",
          "width": 1
         },
         "mode": "lines",
         "showlegend": false,
         "type": "scatter3d",
         "x": [
          -1.0208018446831328,
          -0.5303573920182725
         ],
         "y": [
          -10.989949891806077,
          -11.851792683675885
         ],
         "z": [
          -10.741799572048471,
          -10.311720252675505
         ]
        },
        {
         "hoverinfo": "skip",
         "line": {
          "color": "black",
          "width": 1
         },
         "mode": "lines",
         "showlegend": false,
         "type": "scatter3d",
         "x": [
          -0.6007796314982485,
          0.7197215267178692
         ],
         "y": [
          -9.996553903609719,
          -9.797331463431973
         ],
         "z": [
          -11.590261858226619,
          -12.200916269886367
         ]
        },
        {
         "hoverinfo": "skip",
         "line": {
          "color": "black",
          "width": 1
         },
         "mode": "lines",
         "showlegend": false,
         "type": "scatter3d",
         "x": [
          -4.236691685374918,
          -4.1178047356342145
         ],
         "y": [
          -12.207366536571808,
          -12.012361066103175
         ],
         "z": [
          -10.479792710339336,
          -11.550866647875237
         ]
        },
        {
         "hoverinfo": "skip",
         "line": {
          "color": "black",
          "width": 1
         },
         "mode": "lines",
         "showlegend": false,
         "type": "scatter3d",
         "x": [
          -4.236691685374918,
          -5.27314082649273
         ],
         "y": [
          -12.207366536571808,
          -11.977053127535296
         ],
         "z": [
          -10.479792710339336,
          -10.210985546197234
         ]
        },
        {
         "hoverinfo": "skip",
         "line": {
          "color": "black",
          "width": 1
         },
         "mode": "lines",
         "showlegend": false,
         "type": "scatter3d",
         "x": [
          -4.236691685374918,
          -4.0749412042745305
         ],
         "y": [
          -12.207366536571808,
          -13.23599318552293
         ],
         "z": [
          -10.479792710339336,
          -10.31160335024789
         ]
        },
        {
         "hoverinfo": "skip",
         "line": {
          "color": "black",
          "width": 1
         },
         "mode": "lines",
         "showlegend": false,
         "type": "scatter3d",
         "x": [
          0.7197215267178692,
          0.6400928715201473
         ],
         "y": [
          -9.797331463431973,
          -9.79786897254536
         ],
         "z": [
          -12.200916269886367,
          -13.29250690210861
         ]
        },
        {
         "hoverinfo": "skip",
         "line": {
          "color": "black",
          "width": 1
         },
         "mode": "lines",
         "showlegend": false,
         "type": "scatter3d",
         "x": [
          0.7197215267178692,
          1.419388505067368
         ],
         "y": [
          -9.797331463431973,
          -10.588000620538848
         ],
         "z": [
          -12.200916269886367,
          -11.911992710086912
         ]
        },
        {
         "hoverinfo": "skip",
         "line": {
          "color": "black",
          "width": 1
         },
         "mode": "lines",
         "showlegend": false,
         "type": "scatter3d",
         "x": [
          -7.327020584424538,
          -6.418407196326058
         ],
         "y": [
          -14.381280739011714,
          -13.513792314462847
         ],
         "z": [
          -9.224495492201221,
          -9.868959070878816
         ]
        },
        {
         "hoverinfo": "skip",
         "line": {
          "color": "black",
          "width": 1
         },
         "mode": "lines",
         "showlegend": false,
         "type": "scatter3d",
         "x": [
          -7.327020584424538,
          -8.302723458829966
         ],
         "y": [
          -14.381280739011714,
          -13.620116918697232
         ],
         "z": [
          -9.224495492201221,
          -8.683010134043444
         ]
        },
        {
         "hoverinfo": "skip",
         "line": {
          "color": "black",
          "width": 1
         },
         "mode": "lines",
         "showlegend": false,
         "type": "scatter3d",
         "x": [
          -4.739325525597761,
          -5.012235334201911
         ],
         "y": [
          -15.064420584585879,
          -14.038163905650393
         ],
         "z": [
          -9.08211598555651,
          -9.698081370385841
         ]
        },
        {
         "hoverinfo": "skip",
         "line": {
          "color": "black",
          "width": 1
         },
         "mode": "lines",
         "showlegend": false,
         "type": "scatter3d",
         "x": [
          -4.0749412042745305,
          -5.012235334201911
         ],
         "y": [
          -13.23599318552293,
          -14.038163905650393
         ],
         "z": [
          -10.31160335024789,
          -9.698081370385841
         ]
        },
        {
         "hoverinfo": "skip",
         "line": {
          "color": "black",
          "width": 1
         },
         "mode": "lines",
         "showlegend": false,
         "type": "scatter3d",
         "x": [
          -4.0749412042745305,
          -3.1524466667382445
         ],
         "y": [
          -13.23599318552293,
          -13.630568775929802
         ],
         "z": [
          -10.31160335024789,
          -10.637336568578242
         ]
        },
        {
         "hoverinfo": "skip",
         "line": {
          "color": "black",
          "width": 1
         },
         "mode": "lines",
         "showlegend": false,
         "type": "scatter3d",
         "x": [
          -6.418407196326058,
          -5.012235334201911
         ],
         "y": [
          -13.513792314462847,
          -14.038163905650393
         ],
         "z": [
          -9.868959070878816,
          -9.698081370385841
         ]
        },
        {
         "hoverinfo": "skip",
         "line": {
          "color": "black",
          "width": 1
         },
         "mode": "lines",
         "showlegend": false,
         "type": "scatter3d",
         "x": [
          -6.418407196326058,
          -6.671694816247193
         ],
         "y": [
          -13.513792314462847,
          -13.444723271115375
         ],
         "z": [
          -9.868959070878816,
          -10.931084270111818
         ]
        },
        {
         "hoverinfo": "skip",
         "line": {
          "color": "black",
          "width": 1
         },
         "mode": "lines",
         "showlegend": false,
         "type": "scatter3d",
         "x": [
          -6.418407196326058,
          -6.495857661295117
         ],
         "y": [
          -13.513792314462847,
          -12.522598653443104
         ],
         "z": [
          -9.868959070878816,
          -9.413033976339857
         ]
        },
        {
         "hoverinfo": "skip",
         "line": {
          "color": "black",
          "width": 1
         },
         "mode": "lines",
         "showlegend": false,
         "type": "scatter3d",
         "x": [
          2.0391842981024664,
          1.092029305490101
         ],
         "y": [
          -23.79113260129823,
          -23.01484873550361
         ],
         "z": [
          -9.195023925390672,
          -9.27418003492382
         ]
        },
        {
         "hoverinfo": "skip",
         "line": {
          "color": "black",
          "width": 1
         },
         "mode": "lines",
         "showlegend": false,
         "type": "scatter3d",
         "x": [
          0.35490379382418347,
          -0.6114066999039576
         ],
         "y": [
          -29.819470493137338,
          -28.863992033685413
         ],
         "z": [
          -10.911736194445979,
          -11.63890330263656
         ]
        },
        {
         "hoverinfo": "skip",
         "line": {
          "color": "black",
          "width": 1
         },
         "mode": "lines",
         "showlegend": false,
         "type": "scatter3d",
         "x": [
          0.35490379382418347,
          0.15699000052363843
         ],
         "y": [
          -29.819470493137338,
          -29.790484762684084
         ],
         "z": [
          -10.911736194445979,
          -9.394054324668428
         ]
        },
        {
         "hoverinfo": "skip",
         "line": {
          "color": "black",
          "width": 1
         },
         "mode": "lines",
         "showlegend": false,
         "type": "scatter3d",
         "x": [
          0.35490379382418347,
          1.8012433195850566
         ],
         "y": [
          -29.819470493137338,
          -29.449771728935072
         ],
         "z": [
          -10.911736194445979,
          -11.249791426574056
         ]
        },
        {
         "hoverinfo": "skip",
         "line": {
          "color": "black",
          "width": 1
         },
         "mode": "lines",
         "showlegend": false,
         "type": "scatter3d",
         "x": [
          0.35490379382418347,
          0.16133438400482714
         ],
         "y": [
          -29.819470493137338,
          -30.83677333838856
         ],
         "z": [
          -10.911736194445979,
          -11.273741131740938
         ]
        },
        {
         "hoverinfo": "skip",
         "line": {
          "color": "black",
          "width": 1
         },
         "mode": "lines",
         "showlegend": false,
         "type": "scatter3d",
         "x": [
          -0.6114066999039576,
          -0.5230495238187745
         ],
         "y": [
          -28.863992033685413,
          -27.43252505215628
         ],
         "z": [
          -11.63890330263656,
          -11.16877684068601
         ]
        },
        {
         "hoverinfo": "skip",
         "line": {
          "color": "black",
          "width": 1
         },
         "mode": "lines",
         "showlegend": false,
         "type": "scatter3d",
         "x": [
          -0.6114066999039576,
          -0.43610027554308317
         ],
         "y": [
          -28.863992033685413,
          -28.90681746767438
         ],
         "z": [
          -11.63890330263656,
          -12.72223671843312
         ]
        },
        {
         "hoverinfo": "skip",
         "line": {
          "color": "black",
          "width": 1
         },
         "mode": "lines",
         "showlegend": false,
         "type": "scatter3d",
         "x": [
          -0.6114066999039576,
          -1.6410522852652312
         ],
         "y": [
          -28.863992033685413,
          -29.221626886184602
         ],
         "z": [
          -11.63890330263656,
          -11.50242513286598
         ]
        },
        {
         "hoverinfo": "skip",
         "line": {
          "color": "black",
          "width": 1
         },
         "mode": "lines",
         "showlegend": false,
         "type": "scatter3d",
         "x": [
          -0.5230495238187745,
          0.36219025726558307
         ],
         "y": [
          -27.43252505215628,
          -26.566687392726486
         ],
         "z": [
          -11.16877684068601,
          -11.791190109743514
         ]
        },
        {
         "hoverinfo": "skip",
         "line": {
          "color": "black",
          "width": 1
         },
         "mode": "lines",
         "showlegend": false,
         "type": "scatter3d",
         "x": [
          -0.5230495238187745,
          -1.329185557402206
         ],
         "y": [
          -27.43252505215628,
          -27.009417052865654
         ],
         "z": [
          -11.16877684068601,
          -10.1238087041887
         ]
        },
        {
         "hoverinfo": "skip",
         "line": {
          "color": "black",
          "width": 1
         },
         "mode": "lines",
         "showlegend": false,
         "type": "scatter3d",
         "x": [
          -0.3616723504846471,
          -0.2751163138440882
         ],
         "y": [
          -24.803214094637667,
          -23.388463105018634
         ],
         "z": [
          -10.306673467186496,
          -9.842578714045466
         ]
        },
        {
         "hoverinfo": "skip",
         "line": {
          "color": "black",
          "width": 1
         },
         "mode": "lines",
         "showlegend": false,
         "type": "scatter3d",
         "x": [
          -0.3616723504846471,
          0.4433066220588531
         ],
         "y": [
          -24.803214094637667,
          -25.243476130120005
         ],
         "z": [
          -10.306673467186496,
          -11.357442487416801
         ]
        },
        {
         "hoverinfo": "skip",
         "line": {
          "color": "black",
          "width": 1
         },
         "mode": "lines",
         "showlegend": false,
         "type": "scatter3d",
         "x": [
          -0.3616723504846471,
          -1.2480005775952323
         ],
         "y": [
          -24.803214094637667,
          -25.686124263795445
         ],
         "z": [
          -10.306673467186496,
          -9.689924533644817
         ]
        },
        {
         "hoverinfo": "skip",
         "line": {
          "color": "black",
          "width": 1
         },
         "mode": "lines",
         "showlegend": false,
         "type": "scatter3d",
         "x": [
          -0.2751163138440882,
          -0.6467925766282958
         ],
         "y": [
          -23.388463105018634,
          -22.367666372671597
         ],
         "z": [
          -9.842578714045466,
          -10.932006163172922
         ]
        },
        {
         "hoverinfo": "skip",
         "line": {
          "color": "black",
          "width": 1
         },
         "mode": "lines",
         "showlegend": false,
         "type": "scatter3d",
         "x": [
          -0.2751163138440882,
          1.092029305490101
         ],
         "y": [
          -23.388463105018634,
          -23.01484873550361
         ],
         "z": [
          -9.842578714045466,
          -9.27418003492382
         ]
        },
        {
         "hoverinfo": "skip",
         "line": {
          "color": "black",
          "width": 1
         },
         "mode": "lines",
         "showlegend": false,
         "type": "scatter3d",
         "x": [
          -0.2751163138440882,
          -0.9754228908075966
         ],
         "y": [
          -23.388463105018634,
          -23.23784041656256
         ],
         "z": [
          -9.842578714045466,
          -9.009819322634044
         ]
        },
        {
         "hoverinfo": "skip",
         "line": {
          "color": "black",
          "width": 1
         },
         "mode": "lines",
         "showlegend": false,
         "type": "scatter3d",
         "x": [
          0.15699000052363843,
          0.4730315888870056
         ],
         "y": [
          -29.790484762684084,
          -28.84388354181743
         ],
         "z": [
          -9.394054324668428,
          -8.944676417914536
         ]
        },
        {
         "hoverinfo": "skip",
         "line": {
          "color": "black",
          "width": 1
         },
         "mode": "lines",
         "showlegend": false,
         "type": "scatter3d",
         "x": [
          0.15699000052363843,
          -0.8900019340386454
         ],
         "y": [
          -29.790484762684084,
          -29.973953620597456
         ],
         "z": [
          -9.394054324668428,
          -9.131312460593715
         ]
        },
        {
         "hoverinfo": "skip",
         "line": {
          "color": "black",
          "width": 1
         },
         "mode": "lines",
         "showlegend": false,
         "type": "scatter3d",
         "x": [
          0.15699000052363843,
          0.7545946707041633
         ],
         "y": [
          -29.790484762684084,
          -30.58064309096627
         ],
         "z": [
          -9.394054324668428,
          -8.925251706901893
         ]
        },
        {
         "hoverinfo": "skip",
         "line": {
          "color": "black",
          "width": 1
         },
         "mode": "lines",
         "showlegend": false,
         "type": "scatter3d",
         "x": [
          1.8012433195850566,
          2.480523215119523
         ],
         "y": [
          -29.449771728935072,
          -30.222953424753996
         ],
         "z": [
          -11.249791426574056,
          -10.872957724825845
         ]
        },
        {
         "hoverinfo": "skip",
         "line": {
          "color": "black",
          "width": 1
         },
         "mode": "lines",
         "showlegend": false,
         "type": "scatter3d",
         "x": [
          1.8012433195850566,
          2.1129151916414983
         ],
         "y": [
          -29.449771728935072,
          -28.504713132872066
         ],
         "z": [
          -11.249791426574056,
          -10.79444059021132
         ]
        },
        {
         "hoverinfo": "skip",
         "line": {
          "color": "black",
          "width": 1
         },
         "mode": "lines",
         "showlegend": false,
         "type": "scatter3d",
         "x": [
          1.8012433195850566,
          1.9516209727717593
         ],
         "y": [
          -29.449771728935072,
          -29.384463814357684
         ],
         "z": [
          -11.249791426574056,
          -12.33250412055876
         ]
        },
        {
         "hoverinfo": "skip",
         "line": {
          "color": "black",
          "width": 1
         },
         "mode": "lines",
         "showlegend": false,
         "type": "scatter3d",
         "x": [
          0.36219025726558307,
          0.4433066220588531
         ],
         "y": [
          -26.566687392726486,
          -25.243476130120005
         ],
         "z": [
          -11.791190109743514,
          -11.357442487416801
         ]
        },
        {
         "hoverinfo": "skip",
         "line": {
          "color": "black",
          "width": 1
         },
         "mode": "lines",
         "showlegend": false,
         "type": "scatter3d",
         "x": [
          0.36219025726558307,
          0.9893380459393457
         ],
         "y": [
          -26.566687392726486,
          -26.895401316174944
         ],
         "z": [
          -11.791190109743514,
          -12.614729755232869
         ]
        },
        {
         "hoverinfo": "skip",
         "line": {
          "color": "black",
          "width": 1
         },
         "mode": "lines",
         "showlegend": false,
         "type": "scatter3d",
         "x": [
          -1.329185557402206,
          -1.2480005775952323
         ],
         "y": [
          -27.009417052865654,
          -25.686124263795445
         ],
         "z": [
          -10.1238087041887,
          -9.689924533644817
         ]
        },
        {
         "hoverinfo": "skip",
         "line": {
          "color": "black",
          "width": 1
         },
         "mode": "lines",
         "showlegend": false,
         "type": "scatter3d",
         "x": [
          -1.329185557402206,
          -2.0276650731616144
         ],
         "y": [
          -27.009417052865654,
          -27.685543514205563
         ],
         "z": [
          -10.1238087041887,
          -9.639449535450787
         ]
        },
        {
         "hoverinfo": "skip",
         "line": {
          "color": "black",
          "width": 1
         },
         "mode": "lines",
         "showlegend": false,
         "type": "scatter3d",
         "x": [
          0.4433066220588531,
          1.1401182105711873
         ],
         "y": [
          -25.243476130120005,
          -24.571573205559826
         ],
         "z": [
          -11.357442487416801,
          -11.85118460642467
         ]
        },
        {
         "hoverinfo": "skip",
         "line": {
          "color": "black",
          "width": 1
         },
         "mode": "lines",
         "showlegend": false,
         "type": "scatter3d",
         "x": [
          -1.2480005775952323,
          -1.8833441117001355
         ],
         "y": [
          -25.686124263795445,
          -25.359245983129043
         ],
         "z": [
          -9.689924533644817,
          -8.871130430527511
         ]
        },
        {
         "hoverinfo": "skip",
         "line": {
          "color": "black",
          "width": 1
         },
         "mode": "lines",
         "showlegend": false,
         "type": "scatter3d",
         "x": [
          -0.6467925766282958,
          -1.6387113063300598
         ],
         "y": [
          -22.367666372671597,
          -22.580199862808847
         ],
         "z": [
          -10.932006163172922,
          -11.345503901059004
         ]
        },
        {
         "hoverinfo": "skip",
         "line": {
          "color": "black",
          "width": 1
         },
         "mode": "lines",
         "showlegend": false,
         "type": "scatter3d",
         "x": [
          -0.6467925766282958,
          -0.6605041224621706
         ],
         "y": [
          -22.367666372671597,
          -21.351993277111088
         ],
         "z": [
          -10.932006163172922,
          -10.52104084046871
         ]
        },
        {
         "hoverinfo": "skip",
         "line": {
          "color": "black",
          "width": 1
         },
         "mode": "lines",
         "showlegend": false,
         "type": "scatter3d",
         "x": [
          -0.6467925766282958,
          0.07399291325961688
         ],
         "y": [
          -22.367666372671597,
          -22.37255608291862
         ],
         "z": [
          -10.932006163172922,
          -11.75719500719637
         ]
        },
        {
         "hoverinfo": "skip",
         "line": {
          "color": "black",
          "width": 1
         },
         "mode": "lines",
         "showlegend": false,
         "type": "scatter3d",
         "x": [
          1.092029305490101,
          1.177636773897845
         ],
         "y": [
          -23.01484873550361,
          -22.02571344002788
         ],
         "z": [
          -9.27418003492382,
          -8.914018651870233
         ]
        },
        {
         "hoverinfo": "skip",
         "line": {
          "color": "black",
          "width": 1
         },
         "mode": "lines",
         "showlegend": false,
         "type": "scatter3d",
         "x": [
          1.177636773897845,
          0.24618930644427195
         ],
         "y": [
          -22.02571344002788,
          -21.20716725833318
         ],
         "z": [
          -8.914018651870233,
          -9.701625637496534
         ]
        },
        {
         "hoverinfo": "skip",
         "line": {
          "color": "black",
          "width": 1
         },
         "mode": "lines",
         "showlegend": false,
         "type": "scatter3d",
         "x": [
          1.177636773897845,
          0.8291801427420253
         ],
         "y": [
          -22.02571344002788,
          -22.03091543265316
         ],
         "z": [
          -8.914018651870233,
          -7.966932111222405
         ]
        },
        {
         "hoverinfo": "skip",
         "line": {
          "color": "black",
          "width": 1
         },
         "mode": "lines",
         "showlegend": false,
         "type": "scatter3d",
         "x": [
          0.24618930644427195,
          -0.3658811022882844
         ],
         "y": [
          -21.20716725833318,
          -20.152415865099123
         ],
         "z": [
          -9.701625637496534,
          -8.816680264479208
         ]
        },
        {
         "hoverinfo": "skip",
         "line": {
          "color": "black",
          "width": 1
         },
         "mode": "lines",
         "showlegend": false,
         "type": "scatter3d",
         "x": [
          0.24618930644427195,
          1.0021383512970203
         ],
         "y": [
          -21.20716725833318,
          -20.53569262438664
         ],
         "z": [
          -9.701625637496534,
          -10.848192189229396
         ]
        },
        {
         "hoverinfo": "skip",
         "line": {
          "color": "black",
          "width": 1
         },
         "mode": "lines",
         "showlegend": false,
         "type": "scatter3d",
         "x": [
          0.24618930644427195,
          -0.5406577374085524
         ],
         "y": [
          -21.20716725833318,
          -21.842520657522545
         ],
         "z": [
          -9.701625637496534,
          -10.107411033634198
         ]
        },
        {
         "hoverinfo": "skip",
         "line": {
          "color": "black",
          "width": 4
         },
         "mode": "lines",
         "showlegend": false,
         "type": "scatter3d",
         "x": [
          -0.3658811022882844,
          0.2565348058341179
         ],
         "y": [
          -20.152415865099123,
          -19.713503786960747
         ],
         "z": [
          -8.816680264479208,
          -7.880388309488456
         ]
        },
        {
         "hoverinfo": "skip",
         "line": {
          "color": "black",
          "width": 4
         },
         "mode": "lines",
         "showlegend": false,
         "type": "scatter3d",
         "x": [
          -0.3658811022882844,
          -1.6039485281639418
         ],
         "y": [
          -20.152415865099123,
          -19.70115788356202
         ],
         "z": [
          -8.816680264479208,
          -9.070081691240546
         ]
        },
        {
         "hoverinfo": "skip",
         "line": {
          "color": "black",
          "width": 4
         },
         "mode": "lines",
         "showlegend": false,
         "type": "scatter3d",
         "x": [
          1.0021383512970203,
          1.5834510860020892
         ],
         "y": [
          -20.53569262438664,
          -21.53543553518719
         ],
         "z": [
          -10.848192189229396,
          -11.686468168113299
         ]
        },
        {
         "hoverinfo": "skip",
         "line": {
          "color": "black",
          "width": 1
         },
         "mode": "lines",
         "showlegend": false,
         "type": "scatter3d",
         "x": [
          1.0021383512970203,
          1.7889262185284736
         ],
         "y": [
          -20.53569262438664,
          -19.900353035231642
         ],
         "z": [
          -10.848192189229396,
          -10.440993885660077
         ]
        },
        {
         "hoverinfo": "skip",
         "line": {
          "color": "black",
          "width": 1
         },
         "mode": "lines",
         "showlegend": false,
         "type": "scatter3d",
         "x": [
          1.0021383512970203,
          0.31139484497340675
         ],
         "y": [
          -20.53569262438664,
          -19.928406902798223
         ],
         "z": [
          -10.848192189229396,
          -11.43244081851883
         ]
        },
        {
         "hoverinfo": "skip",
         "line": {
          "color": "black",
          "width": 1
         },
         "mode": "lines",
         "showlegend": false,
         "type": "scatter3d",
         "x": [
          1.5834510860020892,
          0.6967966543998578
         ],
         "y": [
          -21.53543553518719,
          -22.007338666900335
         ],
         "z": [
          -11.686468168113299,
          -12.325225893515693
         ]
        },
        {
         "hoverinfo": "skip",
         "line": {
          "color": "black",
          "width": 1
         },
         "mode": "lines",
         "showlegend": false,
         "type": "scatter3d",
         "x": [
          -1.6039485281639418,
          -1.970357557328319
         ],
         "y": [
          -19.70115788356202,
          -18.885362618522464
         ],
         "z": [
          -9.070081691240546,
          -8.557342746648791
         ]
        },
        {
         "hoverinfo": "skip",
         "line": {
          "color": "black",
          "width": 1
         },
         "mode": "lines",
         "showlegend": false,
         "type": "scatter3d",
         "x": [
          -0.09165935958278881,
          -0.0039979296367889106
         ],
         "y": [
          -24.03813112807353,
          -25.446316274513855
         ],
         "z": [
          -13.183609411330846,
          -13.404757952010346
         ]
        },
        {
         "hoverinfo": "skip",
         "line": {
          "color": "black",
          "width": 1
         },
         "mode": "lines",
         "showlegend": false,
         "type": "scatter3d",
         "x": [
          -0.09165935958278881,
          0.9365599513091523
         ],
         "y": [
          -24.03813112807353,
          -23.486979713329838
         ],
         "z": [
          -13.183609411330846,
          -12.471514188249742
         ]
        },
        {
         "hoverinfo": "skip",
         "line": {
          "color": "black",
          "width": 1
         },
         "mode": "lines",
         "showlegend": false,
         "type": "scatter3d",
         "x": [
          1.90128069931595,
          0.9365599513091523
         ],
         "y": [
          -24.088905775902553,
          -23.486979713329838
         ],
         "z": [
          -12.020018281777798,
          -12.471514188249742
         ]
        },
        {
         "hoverinfo": "skip",
         "line": {
          "color": "black",
          "width": 1
         },
         "mode": "lines",
         "showlegend": false,
         "type": "scatter3d",
         "x": [
          -0.0039979296367889106,
          0.023496516889458086
         ],
         "y": [
          -25.446316274513855,
          -26.15055079642885
         ],
         "z": [
          -13.404757952010346,
          -12.048935639333138
         ]
        },
        {
         "hoverinfo": "skip",
         "line": {
          "color": "black",
          "width": 1
         },
         "mode": "lines",
         "showlegend": false,
         "type": "scatter3d",
         "x": [
          -0.0039979296367889106,
          -1.2372061642571737
         ],
         "y": [
          -25.446316274513855,
          -25.864385080369388
         ],
         "z": [
          -13.404757952010346,
          -14.202520732312255
         ]
        },
        {
         "hoverinfo": "skip",
         "line": {
          "color": "black",
          "width": 1
         },
         "mode": "lines",
         "showlegend": false,
         "type": "scatter3d",
         "x": [
          -0.0039979296367889106,
          1.271114072458012
         ],
         "y": [
          -25.446316274513855,
          -25.736278820768813
         ],
         "z": [
          -13.404757952010346,
          -14.195200463445001
         ]
        },
        {
         "hoverinfo": "skip",
         "line": {
          "color": "black",
          "width": 1
         },
         "mode": "lines",
         "showlegend": false,
         "type": "scatter3d",
         "x": [
          0.023496516889458086,
          0.9833792117875717
         ],
         "y": [
          -26.15055079642885,
          -26.098069887883856
         ],
         "z": [
          -12.048935639333138,
          -11.529137980360495
         ]
        },
        {
         "hoverinfo": "skip",
         "line": {
          "color": "black",
          "width": 1
         },
         "mode": "lines",
         "showlegend": false,
         "type": "scatter3d",
         "x": [
          0.023496516889458086,
          -0.7330420410048575
         ],
         "y": [
          -26.15055079642885,
          -25.733093350192814
         ],
         "z": [
          -12.048935639333138,
          -11.374076186557037
         ]
        },
        {
         "hoverinfo": "skip",
         "line": {
          "color": "black",
          "width": 1
         },
         "mode": "lines",
         "showlegend": false,
         "type": "scatter3d",
         "x": [
          0.023496516889458086,
          -0.18819431477954307
         ],
         "y": [
          -26.15055079642885,
          -27.219734176360802
         ],
         "z": [
          -12.048935639333138,
          -12.169369653899537
         ]
        },
        {
         "hoverinfo": "skip",
         "line": {
          "color": "black",
          "width": 1
         },
         "mode": "lines",
         "showlegend": false,
         "type": "scatter3d",
         "x": [
          -1.2372061642571737,
          -1.2853054412309048
         ],
         "y": [
          -25.864385080369388,
          -25.324073032447206
         ],
         "z": [
          -14.202520732312255,
          -15.154910022689222
         ]
        },
        {
         "hoverinfo": "skip",
         "line": {
          "color": "black",
          "width": 1
         },
         "mode": "lines",
         "showlegend": false,
         "type": "scatter3d",
         "x": [
          -1.2372061642571737,
          -2.155189076341358
         ],
         "y": [
          -25.864385080369388,
          -25.614239072185676
         ],
         "z": [
          -14.202520732312255,
          -13.658132821249566
         ]
        },
        {
         "hoverinfo": "skip",
         "line": {
          "color": "black",
          "width": 1
         },
         "mode": "lines",
         "showlegend": false,
         "type": "scatter3d",
         "x": [
          -1.2372061642571737,
          -1.2417722206829889
         ],
         "y": [
          -25.864385080369388,
          -26.93871091436602
         ],
         "z": [
          -14.202520732312255,
          -14.413483486219533
         ]
        },
        {
         "hoverinfo": "skip",
         "line": {
          "color": "black",
          "width": 1
         },
         "mode": "lines",
         "showlegend": false,
         "type": "scatter3d",
         "x": [
          1.271114072458012,
          2.1915930038901883
         ],
         "y": [
          -25.736278820768813,
          -25.68015703176328
         ],
         "z": [
          -14.195200463445001,
          -13.60889462892834
         ]
        },
        {
         "hoverinfo": "skip",
         "line": {
          "color": "black",
          "width": 1
         },
         "mode": "lines",
         "showlegend": false,
         "type": "scatter3d",
         "x": [
          1.271114072458012,
          1.2431790295995278
         ],
         "y": [
          -25.736278820768813,
          -26.752179634953762
         ],
         "z": [
          -14.195200463445001,
          -14.607139329199217
         ]
        },
        {
         "hoverinfo": "skip",
         "line": {
          "color": "black",
          "width": 1
         },
         "mode": "lines",
         "showlegend": false,
         "type": "scatter3d",
         "x": [
          1.271114072458012,
          1.3799343136366788
         ],
         "y": [
          -25.736278820768813,
          -25.03742308899008
         ],
         "z": [
          -14.195200463445001,
          -15.0328291110388
         ]
        },
        {
         "hoverinfo": "skip",
         "line": {
          "color": "black",
          "width": 1
         },
         "mode": "lines",
         "showlegend": false,
         "type": "scatter3d",
         "x": [
          0.9365599513091523,
          0.6967966543998578
         ],
         "y": [
          -23.486979713329838,
          -22.007338666900335
         ],
         "z": [
          -12.471514188249742,
          -12.325225893515693
         ]
        },
        {
         "hoverinfo": "skip",
         "line": {
          "color": "black",
          "width": 1
         },
         "mode": "lines",
         "showlegend": false,
         "type": "scatter3d",
         "x": [
          0.6967966543998578,
          -0.24109788181144776
         ],
         "y": [
          -22.007338666900335,
          -21.840058738908663
         ],
         "z": [
          -12.325225893515693,
          -11.78963911750634
         ]
        },
        {
         "hoverinfo": "skip",
         "line": {
          "color": "black",
          "width": 1
         },
         "mode": "lines",
         "showlegend": false,
         "type": "scatter3d",
         "x": [
          0.6967966543998578,
          0.6678031868364016
         ],
         "y": [
          -22.007338666900335,
          -21.52868073038197
         ],
         "z": [
          -12.325225893515693,
          -13.307605992381006
         ]
        },
        {
         "hoverinfo": "skip",
         "line": {
          "color": "black",
          "width": 1
         },
         "mode": "lines",
         "showlegend": false,
         "type": "scatter3d",
         "x": [
          -2.628238221783574,
          -1.2993376012904476
         ],
         "y": [
          -16.027467534534182,
          -16.161633900158833
         ],
         "z": [
          -10.634843129380753,
          -10.775000138438623
         ]
        },
        {
         "hoverinfo": "skip",
         "line": {
          "color": "black",
          "width": 1
         },
         "mode": "lines",
         "showlegend": false,
         "type": "scatter3d",
         "x": [
          -2.628238221783574,
          -3.3385840423022035
         ],
         "y": [
          -16.027467534534182,
          -14.977381723972295
         ],
         "z": [
          -10.634843129380753,
          -11.319181565922417
         ]
        },
        {
         "hoverinfo": "skip",
         "line": {
          "color": "black",
          "width": 1
         },
         "mode": "lines",
         "showlegend": false,
         "type": "scatter3d",
         "x": [
          -2.628238221783574,
          -3.1440198850651693
         ],
         "y": [
          -16.027467534534182,
          -16.97806637975249
         ],
         "z": [
          -10.634843129380753,
          -9.808550026848675
         ]
        },
        {
         "hoverinfo": "skip",
         "line": {
          "color": "black",
          "width": 1
         },
         "mode": "lines",
         "showlegend": false,
         "type": "scatter3d",
         "x": [
          -1.2993376012904476,
          -0.9284799274677162
         ],
         "y": [
          -16.161633900158833,
          -17.20445241852562
         ],
         "z": [
          -10.775000138438623,
          -10.040286661280291
         ]
        },
        {
         "hoverinfo": "skip",
         "line": {
          "color": "black",
          "width": 1
         },
         "mode": "lines",
         "showlegend": false,
         "type": "scatter3d",
         "x": [
          -0.9284799274677162,
          -2.0464867825617516
         ],
         "y": [
          -17.20445241852562,
          -17.715725731054874
         ],
         "z": [
          -10.040286661280291,
          -9.441913598836704
         ]
        },
        {
         "hoverinfo": "skip",
         "line": {
          "color": "black",
          "width": 1
         },
         "mode": "lines",
         "showlegend": false,
         "type": "scatter3d",
         "x": [
          -3.3385840423022035,
          -3.1524466667382445
         ],
         "y": [
          -14.977381723972295,
          -13.630568775929802
         ],
         "z": [
          -11.319181565922417,
          -10.637336568578242
         ]
        },
        {
         "hoverinfo": "skip",
         "line": {
          "color": "black",
          "width": 1
         },
         "mode": "lines",
         "showlegend": false,
         "type": "scatter3d",
         "x": [
          -3.3385840423022035,
          -4.400223555595062
         ],
         "y": [
          -14.977381723972295,
          -15.245709915143435
         ],
         "z": [
          -11.319181565922417,
          -11.346721820789273
         ]
        },
        {
         "hoverinfo": "skip",
         "line": {
          "color": "black",
          "width": 1
         },
         "mode": "lines",
         "showlegend": false,
         "type": "scatter3d",
         "x": [
          -3.3385840423022035,
          -2.9729703306416067
         ],
         "y": [
          -14.977381723972295,
          -14.944231291503028
         ],
         "z": [
          -11.319181565922417,
          -12.351219890149217
         ]
        },
        {
         "hoverinfo": "skip",
         "line": {
          "color": "black",
          "width": 1
         },
         "mode": "lines",
         "showlegend": false,
         "type": "scatter3d",
         "x": [
          -3.1440198850651693,
          -2.0464867825617516
         ],
         "y": [
          -16.97806637975249,
          -17.715725731054874
         ],
         "z": [
          -9.808550026848675,
          -9.441913598836704
         ]
        },
        {
         "hoverinfo": "skip",
         "line": {
          "color": "black",
          "width": 1
         },
         "mode": "lines",
         "showlegend": false,
         "type": "scatter3d",
         "x": [
          -3.1440198850651693,
          -4.19492521346851
         ],
         "y": [
          -16.97806637975249,
          -17.044398067573418
         ],
         "z": [
          -9.808550026848675,
          -9.564674899120797
         ]
        },
        {
         "hoverinfo": "skip",
         "line": {
          "color": "black",
          "width": 1
         },
         "mode": "lines",
         "showlegend": false,
         "type": "scatter3d",
         "x": [
          -2.0464867825617516,
          -1.970357557328319
         ],
         "y": [
          -17.715725731054874,
          -18.885362618522464
         ],
         "z": [
          -9.441913598836704,
          -8.557342746648791
         ]
        },
        {
         "hoverinfo": "skip",
         "line": {
          "color": "black",
          "width": 1
         },
         "mode": "lines",
         "showlegend": false,
         "type": "scatter3d",
         "x": [
          -3.1524466667382445,
          -2.699859508480797
         ],
         "y": [
          -13.630568775929802,
          -12.903190884999397
         ],
         "z": [
          -10.637336568578242,
          -11.319573248892404
         ]
        },
        {
         "hoverinfo": "skip",
         "line": {
          "color": "black",
          "width": 1
         },
         "mode": "lines",
         "showlegend": false,
         "type": "scatter3d",
         "x": [
          -3.1524466667382445,
          -2.4995999871784864
         ],
         "y": [
          -13.630568775929802,
          -13.734387274954479
         ],
         "z": [
          -10.637336568578242,
          -9.765147854911273
         ]
        },
        {
         "hoverinfo": "skip",
         "line": {
          "color": "black",
          "width": 1
         },
         "mode": "lines",
         "showlegend": false,
         "type": "scatter3d",
         "x": [
          -1.970357557328319,
          -1.3037377598174222
         ],
         "y": [
          -18.885362618522464,
          -18.683408601656083
         ],
         "z": [
          -8.557342746648791,
          -7.71310122869432
         ]
        },
        {
         "hoverinfo": "skip",
         "line": {
          "color": "black",
          "width": 1
         },
         "mode": "lines",
         "showlegend": false,
         "type": "scatter3d",
         "x": [
          -1.970357557328319,
          -2.953776000133976
         ],
         "y": [
          -18.885362618522464,
          -19.150578139812104
         ],
         "z": [
          -8.557342746648791,
          -8.156447107340048
         ]
        },
        {
         "hoverinfo": "skip",
         "line": {
          "color": "black",
          "width": 1
         },
         "mode": "lines",
         "showlegend": false,
         "type": "scatter3d",
         "x": [
          -7.671757951990303,
          -8.569303771758806
         ],
         "y": [
          -14.589094027917737,
          -13.618325094515544
         ],
         "z": [
          -6.199942130346157,
          -7.313812257137092
         ]
        },
        {
         "hoverinfo": "skip",
         "line": {
          "color": "black",
          "width": 1
         },
         "mode": "lines",
         "showlegend": false,
         "type": "scatter3d",
         "x": [
          -10.340476672520085,
          -10.073968975869896
         ],
         "y": [
          -12.012314836321856,
          -12.01404022418168
         ],
         "z": [
          -7.660622906030001,
          -9.029838477319984
         ]
        },
        {
         "hoverinfo": "skip",
         "line": {
          "color": "black",
          "width": 1
         },
         "mode": "lines",
         "showlegend": false,
         "type": "scatter3d",
         "x": [
          -10.340476672520085,
          -9.588223809757615
         ],
         "y": [
          -12.012314836321856,
          -12.814460203066085
         ],
         "z": [
          -7.660622906030001,
          -6.8025761351157135
         ]
        },
        {
         "hoverinfo": "skip",
         "line": {
          "color": "black",
          "width": 1
         },
         "mode": "lines",
         "showlegend": false,
         "type": "scatter3d",
         "x": [
          -10.340476672520085,
          -11.422550517325888
         ],
         "y": [
          -12.012314836321856,
          -11.164713233195194
         ],
         "z": [
          -7.660622906030001,
          -7.07356042488827
         ]
        },
        {
         "hoverinfo": "skip",
         "line": {
          "color": "black",
          "width": 1
         },
         "mode": "lines",
         "showlegend": false,
         "type": "scatter3d",
         "x": [
          -10.073968975869896,
          -9.055048937871092
         ],
         "y": [
          -12.01404022418168,
          -12.817905115631142
         ],
         "z": [
          -9.029838477319984,
          -9.541074599341359
         ]
        },
        {
         "hoverinfo": "skip",
         "line": {
          "color": "black",
          "width": 1
         },
         "mode": "lines",
         "showlegend": false,
         "type": "scatter3d",
         "x": [
          -10.073968975869896,
          -10.785386476475335
         ],
         "y": [
          -12.01404022418168,
          -11.247929221411738
         ],
         "z": [
          -9.029838477319984,
          -9.882867504325304
         ]
        },
        {
         "hoverinfo": "skip",
         "line": {
          "color": "black",
          "width": 1
         },
         "mode": "lines",
         "showlegend": false,
         "type": "scatter3d",
         "x": [
          -9.588223809757615,
          -8.569303771758806
         ],
         "y": [
          -12.814460203066085,
          -13.618325094515544
         ],
         "z": [
          -6.8025761351157135,
          -7.313812257137092
         ]
        },
        {
         "hoverinfo": "skip",
         "line": {
          "color": "black",
          "width": 1
         },
         "mode": "lines",
         "showlegend": false,
         "type": "scatter3d",
         "x": [
          -9.588223809757615,
          -9.795104178675697
         ],
         "y": [
          -12.814460203066085,
          -12.813781256251964
         ],
         "z": [
          -6.8025761351157135,
          -5.734554233660717
         ]
        },
        {
         "hoverinfo": "skip",
         "line": {
          "color": "black",
          "width": 1
         },
         "mode": "lines",
         "showlegend": false,
         "type": "scatter3d",
         "x": [
          -11.422550517325888,
          -12.39615809011051
         ],
         "y": [
          -11.164713233195194,
          -11.438943783402781
         ],
         "z": [
          -7.07356042488827,
          -7.4928522439704945
         ]
        },
        {
         "hoverinfo": "skip",
         "line": {
          "color": "black",
          "width": 1
         },
         "mode": "lines",
         "showlegend": false,
         "type": "scatter3d",
         "x": [
          -11.422550517325888,
          -11.493956355546967
         ],
         "y": [
          -11.164713233195194,
          -11.286977401368517
         ],
         "z": [
          -7.07356042488827,
          -5.987201893164585
         ]
        },
        {
         "hoverinfo": "skip",
         "line": {
          "color": "black",
          "width": 1
         },
         "mode": "lines",
         "showlegend": false,
         "type": "scatter3d",
         "x": [
          -11.422550517325888,
          -11.227571464513337
         ],
         "y": [
          -11.164713233195194,
          -10.10440795876935
         ],
         "z": [
          -7.07356042488827,
          -7.266043577369356
         ]
        },
        {
         "hoverinfo": "skip",
         "line": {
          "color": "black",
          "width": 1
         },
         "mode": "lines",
         "showlegend": false,
         "type": "scatter3d",
         "x": [
          -8.569303771758806,
          -8.302723458829966
         ],
         "y": [
          -13.618325094515544,
          -13.620116918697232
         ],
         "z": [
          -7.313812257137092,
          -8.683010134043444
         ]
        },
        {
         "hoverinfo": "skip",
         "line": {
          "color": "black",
          "width": 1
         },
         "mode": "lines",
         "showlegend": false,
         "type": "scatter3d",
         "x": [
          -9.055048937871092,
          -8.302723458829966
         ],
         "y": [
          -12.817905115631142,
          -13.620116918697232
         ],
         "z": [
          -9.541074599341359,
          -8.683010134043444
         ]
        },
        {
         "hoverinfo": "skip",
         "line": {
          "color": "black",
          "width": 1
         },
         "mode": "lines",
         "showlegend": false,
         "type": "scatter3d",
         "x": [
          -9.055048937871092,
          -8.848125830866454
         ],
         "y": [
          -12.817905115631142,
          -12.81816785505029
         ],
         "z": [
          -9.541074599341359,
          -10.609404632035162
         ]
        },
        {
         "hoverinfo": "skip",
         "line": {
          "color": "black",
          "width": 1
         },
         "mode": "lines",
         "showlegend": false,
         "type": "scatter3d",
         "x": [
          -20.368924100153624,
          -20.75141850796468
         ],
         "y": [
          -11.005299381026832,
          -11.847032969414345
         ],
         "z": [
          -6.032843747114271,
          -6.839793252457431
         ]
        },
        {
         "hoverinfo": "skip",
         "line": {
          "color": "black",
          "width": 1
         },
         "mode": "lines",
         "showlegend": false,
         "type": "scatter3d",
         "x": [
          -24.73560499493568,
          -24.961248290566722
         ],
         "y": [
          -10.024328788453717,
          -11.45595052219902
         ],
         "z": [
          -1.3323592795671324,
          -1.8567745488002885
         ]
        },
        {
         "hoverinfo": "skip",
         "line": {
          "color": "black",
          "width": 1
         },
         "mode": "lines",
         "showlegend": false,
         "type": "scatter3d",
         "x": [
          -24.73560499493568,
          -25.072747890342008
         ],
         "y": [
          -10.024328788453717,
          -8.967005414243534
         ],
         "z": [
          -1.3323592795671324,
          -2.386764443830735
         ]
        },
        {
         "hoverinfo": "skip",
         "line": {
          "color": "black",
          "width": 1
         },
         "mode": "lines",
         "showlegend": false,
         "type": "scatter3d",
         "x": [
          -24.73560499493568,
          -23.28122233725786
         ],
         "y": [
          -10.024328788453717,
          -9.859812907469577
         ],
         "z": [
          -1.3323592795671324,
          -0.8845176223377038
         ]
        },
        {
         "hoverinfo": "skip",
         "line": {
          "color": "black",
          "width": 1
         },
         "mode": "lines",
         "showlegend": false,
         "type": "scatter3d",
         "x": [
          -24.73560499493568,
          -25.387222042035397
         ],
         "y": [
          -10.024328788453717,
          -9.8758575545728
         ],
         "z": [
          -1.3323592795671324,
          -0.46243210638597887
         ]
        },
        {
         "hoverinfo": "skip",
         "line": {
          "color": "black",
          "width": 1
         },
         "mode": "lines",
         "showlegend": false,
         "type": "scatter3d",
         "x": [
          -24.961248290566722,
          -24.19470667926887
         ],
         "y": [
          -11.45595052219902,
          -11.771723480448122
         ],
         "z": [
          -1.8567745488002885,
          -3.117974373168927
         ]
        },
        {
         "hoverinfo": "skip",
         "line": {
          "color": "black",
          "width": 1
         },
         "mode": "lines",
         "showlegend": false,
         "type": "scatter3d",
         "x": [
          -24.961248290566722,
          -24.70348610446697
         ],
         "y": [
          -11.45595052219902,
          -12.185452049657851
         ],
         "z": [
          -1.8567745488002885,
          -1.0773107415248617
         ]
        },
        {
         "hoverinfo": "skip",
         "line": {
          "color": "black",
          "width": 1
         },
         "mode": "lines",
         "showlegend": false,
         "type": "scatter3d",
         "x": [
          -24.961248290566722,
          -26.033340345267206
         ],
         "y": [
          -11.45595052219902,
          -11.605451780462703
         ],
         "z": [
          -1.8567745488002885,
          -2.0437692279375916
         ]
        },
        {
         "hoverinfo": "skip",
         "line": {
          "color": "black",
          "width": 1
         },
         "mode": "lines",
         "showlegend": false,
         "type": "scatter3d",
         "x": [
          -24.19470667926887,
          -22.91891292435933
         ],
         "y": [
          -11.771723480448122,
          -12.304493438298003
         ],
         "z": [
          -3.117974373168927,
          -3.0219063402628272
         ]
        },
        {
         "hoverinfo": "skip",
         "line": {
          "color": "black",
          "width": 1
         },
         "mode": "lines",
         "showlegend": false,
         "type": "scatter3d",
         "x": [
          -24.19470667926887,
          -24.78056945442331
         ],
         "y": [
          -11.771723480448122,
          -11.524059494929004
         ],
         "z": [
          -3.117974373168927,
          -4.349340057669316
         ]
        },
        {
         "hoverinfo": "skip",
         "line": {
          "color": "black",
          "width": 1
         },
         "mode": "lines",
         "showlegend": false,
         "type": "scatter3d",
         "x": [
          -22.78732634403678,
          -22.03031852967959
         ],
         "y": [
          -12.353199213321261,
          -12.66601876408213
         ],
         "z": [
          -5.433942312083818,
          -6.680328828243185
         ]
        },
        {
         "hoverinfo": "skip",
         "line": {
          "color": "black",
          "width": 1
         },
         "mode": "lines",
         "showlegend": false,
         "type": "scatter3d",
         "x": [
          -22.78732634403678,
          -22.21071185357543
         ],
         "y": [
          -12.353199213321261,
          -12.59724734027247
         ],
         "z": [
          -5.433942312083818,
          -4.187389633244447
         ]
        },
        {
         "hoverinfo": "skip",
         "line": {
          "color": "black",
          "width": 1
         },
         "mode": "lines",
         "showlegend": false,
         "type": "scatter3d",
         "x": [
          -22.78732634403678,
          -24.07228452872769
         ],
         "y": [
          -12.353199213321261,
          -11.816721273070808
         ],
         "z": [
          -5.433942312083818,
          -5.514943689976288
         ]
        },
        {
         "hoverinfo": "skip",
         "line": {
          "color": "black",
          "width": 1
         },
         "mode": "lines",
         "showlegend": false,
         "type": "scatter3d",
         "x": [
          -22.03031852967959,
          -21.676120762535206
         ],
         "y": [
          -12.66601876408213,
          -14.156837319136143
         ],
         "z": [
          -6.680328828243185,
          -6.818261266982667
         ]
        },
        {
         "hoverinfo": "skip",
         "line": {
          "color": "black",
          "width": 1
         },
         "mode": "lines",
         "showlegend": false,
         "type": "scatter3d",
         "x": [
          -22.03031852967959,
          -20.75141850796468
         ],
         "y": [
          -12.66601876408213,
          -11.847032969414345
         ],
         "z": [
          -6.680328828243185,
          -6.839793252457431
         ]
        },
        {
         "hoverinfo": "skip",
         "line": {
          "color": "black",
          "width": 1
         },
         "mode": "lines",
         "showlegend": false,
         "type": "scatter3d",
         "x": [
          -22.03031852967959,
          -22.643687069141272
         ],
         "y": [
          -12.66601876408213,
          -12.400283481858198
         ],
         "z": [
          -6.680328828243185,
          -7.551975829373806
         ]
        },
        {
         "hoverinfo": "skip",
         "line": {
          "color": "black",
          "width": 1
         },
         "mode": "lines",
         "showlegend": false,
         "type": "scatter3d",
         "x": [
          -25.072747890342008,
          -24.36555993880357
         ],
         "y": [
          -8.967005414243534,
          -8.962683546445765
         ],
         "z": [
          -2.386764443830735,
          -3.2220746752164295
         ]
        },
        {
         "hoverinfo": "skip",
         "line": {
          "color": "black",
          "width": 1
         },
         "mode": "lines",
         "showlegend": false,
         "type": "scatter3d",
         "x": [
          -25.072747890342008,
          -26.08370427881036
         ],
         "y": [
          -8.967005414243534,
          -9.114144893433137
         ],
         "z": [
          -2.386764443830735,
          -2.7807230384556547
         ]
        },
        {
         "hoverinfo": "skip",
         "line": {
          "color": "black",
          "width": 1
         },
         "mode": "lines",
         "showlegend": false,
         "type": "scatter3d",
         "x": [
          -25.072747890342008,
          -25.039858649203488
         ],
         "y": [
          -8.967005414243534,
          -7.968229307172736
         ],
         "z": [
          -2.386764443830735,
          -1.9366289022859249
         ]
        },
        {
         "hoverinfo": "skip",
         "line": {
          "color": "black",
          "width": 1
         },
         "mode": "lines",
         "showlegend": false,
         "type": "scatter3d",
         "x": [
          -23.28122233725786,
          -23.15934081656514
         ],
         "y": [
          -9.859812907469577,
          -8.905250535817476
         ],
         "z": [
          -0.8845176223377038,
          -0.35993176326453025
         ]
        },
        {
         "hoverinfo": "skip",
         "line": {
          "color": "black",
          "width": 1
         },
         "mode": "lines",
         "showlegend": false,
         "type": "scatter3d",
         "x": [
          -23.28122233725786,
          -22.57925631082118
         ],
         "y": [
          -9.859812907469577,
          -9.85201011602914
         ],
         "z": [
          -0.8845176223377038,
          -1.7240426691197754
         ]
        },
        {
         "hoverinfo": "skip",
         "line": {
          "color": "black",
          "width": 1
         },
         "mode": "lines",
         "showlegend": false,
         "type": "scatter3d",
         "x": [
          -23.28122233725786,
          -22.98793883899618
         ],
         "y": [
          -9.859812907469577,
          -10.652933881347819
         ],
         "z": [
          -0.8845176223377038,
          -0.18875239581239
         ]
        },
        {
         "hoverinfo": "skip",
         "line": {
          "color": "black",
          "width": 1
         },
         "mode": "lines",
         "showlegend": false,
         "type": "scatter3d",
         "x": [
          -22.91891292435933,
          -22.21071185357543
         ],
         "y": [
          -12.304493438298003,
          -12.59724734027247
         ],
         "z": [
          -3.0219063402628272,
          -4.187389633244447
         ]
        },
        {
         "hoverinfo": "skip",
         "line": {
          "color": "black",
          "width": 1
         },
         "mode": "lines",
         "showlegend": false,
         "type": "scatter3d",
         "x": [
          -22.91891292435933,
          -22.46160101513332
         ],
         "y": [
          -12.304493438298003,
          -12.505446078720452
         ],
         "z": [
          -3.0219063402628272,
          -2.057505700493593
         ]
        },
        {
         "hoverinfo": "skip",
         "line": {
          "color": "black",
          "width": 1
         },
         "mode": "lines",
         "showlegend": false,
         "type": "scatter3d",
         "x": [
          -24.78056945442331,
          -24.07228452872769
         ],
         "y": [
          -11.524059494929004,
          -11.816721273070808
         ],
         "z": [
          -4.349340057669316,
          -5.514943689976288
         ]
        },
        {
         "hoverinfo": "skip",
         "line": {
          "color": "black",
          "width": 1
         },
         "mode": "lines",
         "showlegend": false,
         "type": "scatter3d",
         "x": [
          -24.78056945442331,
          -25.78269513618868
         ],
         "y": [
          -11.524059494929004,
          -11.112313713700063
         ],
         "z": [
          -4.349340057669316,
          -4.425720418931146
         ]
        },
        {
         "hoverinfo": "skip",
         "line": {
          "color": "black",
          "width": 1
         },
         "mode": "lines",
         "showlegend": false,
         "type": "scatter3d",
         "x": [
          -22.21071185357543,
          -21.211057376932814
         ],
         "y": [
          -12.59724734027247,
          -13.014732721875964
         ],
         "z": [
          -4.187389633244447,
          -4.102666003271747
         ]
        },
        {
         "hoverinfo": "skip",
         "line": {
          "color": "black",
          "width": 1
         },
         "mode": "lines",
         "showlegend": false,
         "type": "scatter3d",
         "x": [
          -24.07228452872769,
          -24.5368880910212
         ],
         "y": [
          -11.816721273070808,
          -11.621896725946758
         ],
         "z": [
          -5.514943689976288,
          -6.47781519009564
         ]
        },
        {
         "hoverinfo": "skip",
         "line": {
          "color": "black",
          "width": 1
         },
         "mode": "lines",
         "showlegend": false,
         "type": "scatter3d",
         "x": [
          -21.676120762535206,
          -22.573229557133292
         ],
         "y": [
          -14.156837319136143,
          -14.78093237270525
         ],
         "z": [
          -6.818261266982667,
          -6.742400837473522
         ]
        },
        {
         "hoverinfo": "skip",
         "line": {
          "color": "black",
          "width": 1
         },
         "mode": "lines",
         "showlegend": false,
         "type": "scatter3d",
         "x": [
          -21.676120762535206,
          -21.20611244436987
         ],
         "y": [
          -14.156837319136143,
          -14.353980582351069
         ],
         "z": [
          -6.818261266982667,
          -7.788260779675513
         ]
        },
        {
         "hoverinfo": "skip",
         "line": {
          "color": "black",
          "width": 1
         },
         "mode": "lines",
         "showlegend": false,
         "type": "scatter3d",
         "x": [
          -21.676120762535206,
          -20.970107353976452
         ],
         "y": [
          -14.156837319136143,
          -14.48056583791684
         ],
         "z": [
          -6.818261266982667,
          -6.045450052607958
         ]
        },
        {
         "hoverinfo": "skip",
         "line": {
          "color": "black",
          "width": 1
         },
         "mode": "lines",
         "showlegend": false,
         "type": "scatter3d",
         "x": [
          -20.75141850796468,
          -20.205354357914132
         ],
         "y": [
          -11.847032969414345,
          -12.028099141949607
         ],
         "z": [
          -6.839793252457431,
          -7.725492116879808
         ]
        },
        {
         "hoverinfo": "skip",
         "line": {
          "color": "black",
          "width": 1
         },
         "mode": "lines",
         "showlegend": false,
         "type": "scatter3d",
         "x": [
          -20.205354357914132,
          -19.647261100966265
         ],
         "y": [
          -12.028099141949607,
          -13.381900467989915
         ],
         "z": [
          -7.725492116879808,
          -7.608484056641126
         ]
        },
        {
         "hoverinfo": "skip",
         "line": {
          "color": "black",
          "width": 1
         },
         "mode": "lines",
         "showlegend": false,
         "type": "scatter3d",
         "x": [
          -20.205354357914132,
          -20.876037346057046
         ],
         "y": [
          -12.028099141949607,
          -12.05532338569215
         ],
         "z": [
          -7.725492116879808,
          -8.479060408389161
         ]
        },
        {
         "hoverinfo": "skip",
         "line": {
          "color": "black",
          "width": 1
         },
         "mode": "lines",
         "showlegend": false,
         "type": "scatter3d",
         "x": [
          -19.647261100966265,
          -19.43721036669483
         ],
         "y": [
          -13.381900467989915,
          -13.71359380446254
         ],
         "z": [
          -7.608484056641126,
          -6.153796042126789
         ]
        },
        {
         "hoverinfo": "skip",
         "line": {
          "color": "black",
          "width": 1
         },
         "mode": "lines",
         "showlegend": false,
         "type": "scatter3d",
         "x": [
          -19.647261100966265,
          -20.61783739920881
         ],
         "y": [
          -13.381900467989915,
          -14.388354460319684
         ],
         "z": [
          -7.608484056641126,
          -8.226532607010146
         ]
        },
        {
         "hoverinfo": "skip",
         "line": {
          "color": "black",
          "width": 1
         },
         "mode": "lines",
         "showlegend": false,
         "type": "scatter3d",
         "x": [
          -19.647261100966265,
          -18.693191503000495
         ],
         "y": [
          -13.381900467989915,
          -13.427222998571878
         ],
         "z": [
          -7.608484056641126,
          -8.13304203290219
         ]
        },
        {
         "hoverinfo": "skip",
         "line": {
          "color": "black",
          "width": 4
         },
         "mode": "lines",
         "showlegend": false,
         "type": "scatter3d",
         "x": [
          -19.43721036669483,
          -20.156186392075725
         ],
         "y": [
          -13.71359380446254,
          -13.229810048148448
         ],
         "z": [
          -6.153796042126789,
          -5.313727740109544
         ]
        },
        {
         "hoverinfo": "skip",
         "line": {
          "color": "black",
          "width": 4
         },
         "mode": "lines",
         "showlegend": false,
         "type": "scatter3d",
         "x": [
          -19.43721036669483,
          -18.449858467401597
         ],
         "y": [
          -13.71359380446254,
          -14.547427617853977
         ],
         "z": [
          -6.153796042126789,
          -5.792528276325385
         ]
        },
        {
         "hoverinfo": "skip",
         "line": {
          "color": "black",
          "width": 4
         },
         "mode": "lines",
         "showlegend": false,
         "type": "scatter3d",
         "x": [
          -20.61783739920881,
          -20.818008098655802
         ],
         "y": [
          -14.388354460319684,
          -14.073290237647843
         ],
         "z": [
          -8.226532607010146,
          -9.605221559121931
         ]
        },
        {
         "hoverinfo": "skip",
         "line": {
          "color": "black",
          "width": 1
         },
         "mode": "lines",
         "showlegend": false,
         "type": "scatter3d",
         "x": [
          -20.61783739920881,
          -21.571817393757012
         ],
         "y": [
          -14.388354460319684,
          -14.342112792586933
         ],
         "z": [
          -8.226532607010146,
          -7.700903576069987
         ]
        },
        {
         "hoverinfo": "skip",
         "line": {
          "color": "black",
          "width": 1
         },
         "mode": "lines",
         "showlegend": false,
         "type": "scatter3d",
         "x": [
          -20.61783739920881,
          -20.204066078606985
         ],
         "y": [
          -14.388354460319684,
          -15.392609045458244
         ],
         "z": [
          -8.226532607010146,
          -8.139728099779273
         ]
        },
        {
         "hoverinfo": "skip",
         "line": {
          "color": "black",
          "width": 1
         },
         "mode": "lines",
         "showlegend": false,
         "type": "scatter3d",
         "x": [
          -20.818008098655802,
          -20.864602857283156
         ],
         "y": [
          -14.073290237647843,
          -15.1080769124476
         ],
         "z": [
          -9.605221559121931,
          -10.191656163052428
         ]
        },
        {
         "hoverinfo": "skip",
         "line": {
          "color": "black",
          "width": 1
         },
         "mode": "lines",
         "showlegend": false,
         "type": "scatter3d",
         "x": [
          -18.449858467401597,
          -17.865802472549966
         ],
         "y": [
          -14.547427617853977,
          -14.997642860307396
         ],
         "z": [
          -5.792528276325385,
          -6.512850111865362
         ]
        },
        {
         "hoverinfo": "skip",
         "line": {
          "color": "black",
          "width": 1
         },
         "mode": "lines",
         "showlegend": false,
         "type": "scatter3d",
         "x": [
          -22.02471481007689,
          -23.017094634157655
         ],
         "y": [
          -17.140273929920994,
          -18.05914630335121
         ],
         "z": [
          -10.27483494133974,
          -9.816105766222083
         ]
        },
        {
         "hoverinfo": "skip",
         "line": {
          "color": "black",
          "width": 1
         },
         "mode": "lines",
         "showlegend": false,
         "type": "scatter3d",
         "x": [
          -22.02471481007689,
          -21.95049721334219
         ],
         "y": [
          -17.140273929920994,
          -15.960219735879338
         ],
         "z": [
          -10.27483494133974,
          -9.589235723531237
         ]
        },
        {
         "hoverinfo": "skip",
         "line": {
          "color": "black",
          "width": 1
         },
         "mode": "lines",
         "showlegend": false,
         "type": "scatter3d",
         "x": [
          -22.64895348304865,
          -21.95049721334219
         ],
         "y": [
          -15.63692918584065,
          -15.960219735879338
         ],
         "z": [
          -8.638188027795945,
          -9.589235723531237
         ]
        },
        {
         "hoverinfo": "skip",
         "line": {
          "color": "black",
          "width": 1
         },
         "mode": "lines",
         "showlegend": false,
         "type": "scatter3d",
         "x": [
          -23.017094634157655,
          -24.387260032570815
         ],
         "y": [
          -18.05914630335121,
          -17.392627494448806
         ],
         "z": [
          -9.816105766222083,
          -9.93167309884964
         ]
        },
        {
         "hoverinfo": "skip",
         "line": {
          "color": "black",
          "width": 1
         },
         "mode": "lines",
         "showlegend": false,
         "type": "scatter3d",
         "x": [
          -23.017094634157655,
          -22.944859484482972
         ],
         "y": [
          -18.05914630335121,
          -19.29711712101899
         ],
         "z": [
          -9.816105766222083,
          -10.707295907412181
         ]
        },
        {
         "hoverinfo": "skip",
         "line": {
          "color": "black",
          "width": 1
         },
         "mode": "lines",
         "showlegend": false,
         "type": "scatter3d",
         "x": [
          -23.017094634157655,
          -22.709127787091532
         ],
         "y": [
          -18.05914630335121,
          -18.42328962169779
         ],
         "z": [
          -9.816105766222083,
          -8.364436270499425
         ]
        },
        {
         "hoverinfo": "skip",
         "line": {
          "color": "black",
          "width": 1
         },
         "mode": "lines",
         "showlegend": false,
         "type": "scatter3d",
         "x": [
          -24.387260032570815,
          -24.602054233820958
         ],
         "y": [
          -17.392627494448806,
          -16.657497722399977
         ],
         "z": [
          -9.93167309884964,
          -9.152079416630027
         ]
        },
        {
         "hoverinfo": "skip",
         "line": {
          "color": "black",
          "width": 1
         },
         "mode": "lines",
         "showlegend": false,
         "type": "scatter3d",
         "x": [
          -24.387260032570815,
          -24.49581016255753
         ],
         "y": [
          -17.392627494448806,
          -16.882486705990146
         ],
         "z": [
          -9.93167309884964,
          -10.896053643671356
         ]
        },
        {
         "hoverinfo": "skip",
         "line": {
          "color": "black",
          "width": 1
         },
         "mode": "lines",
         "showlegend": false,
         "type": "scatter3d",
         "x": [
          -24.387260032570815,
          -25.184242244448225
         ],
         "y": [
          -17.392627494448806,
          -18.142144084402705
         ],
         "z": [
          -9.93167309884964,
          -9.85741210414273
         ]
        },
        {
         "hoverinfo": "skip",
         "line": {
          "color": "black",
          "width": 1
         },
         "mode": "lines",
         "showlegend": false,
         "type": "scatter3d",
         "x": [
          -22.944859484482972,
          -21.947396318417777
         ],
         "y": [
          -19.29711712101899,
          -19.74931445295881
         ],
         "z": [
          -10.707295907412181,
          -10.663927539565535
         ]
        },
        {
         "hoverinfo": "skip",
         "line": {
          "color": "black",
          "width": 1
         },
         "mode": "lines",
         "showlegend": false,
         "type": "scatter3d",
         "x": [
          -22.944859484482972,
          -23.118702169270378
         ],
         "y": [
          -19.29711712101899,
          -19.031177544298263
         ],
         "z": [
          -10.707295907412181,
          -11.756428269166166
         ]
        },
        {
         "hoverinfo": "skip",
         "line": {
          "color": "black",
          "width": 1
         },
         "mode": "lines",
         "showlegend": false,
         "type": "scatter3d",
         "x": [
          -22.944859484482972,
          -23.68072542276907
         ],
         "y": [
          -19.29711712101899,
          -20.05344535470062
         ],
         "z": [
          -10.707295907412181,
          -10.415455105250539
         ]
        },
        {
         "hoverinfo": "skip",
         "line": {
          "color": "black",
          "width": 1
         },
         "mode": "lines",
         "showlegend": false,
         "type": "scatter3d",
         "x": [
          -22.709127787091532,
          -22.962755033739718
         ],
         "y": [
          -18.42328962169779,
          -17.647375716853578
         ],
         "z": [
          -8.364436270499425,
          -7.637926475639742
         ]
        },
        {
         "hoverinfo": "skip",
         "line": {
          "color": "black",
          "width": 1
         },
         "mode": "lines",
         "showlegend": false,
         "type": "scatter3d",
         "x": [
          -22.709127787091532,
          -23.279794962761084
         ],
         "y": [
          -18.42328962169779,
          -19.30988632457774
         ],
         "z": [
          -8.364436270499425,
          -8.063083120431699
         ]
        },
        {
         "hoverinfo": "skip",
         "line": {
          "color": "black",
          "width": 1
         },
         "mode": "lines",
         "showlegend": false,
         "type": "scatter3d",
         "x": [
          -22.709127787091532,
          -21.64429543619915
         ],
         "y": [
          -18.42328962169779,
          -18.649676917659544
         ],
         "z": [
          -8.364436270499425,
          -8.235038485664717
         ]
        },
        {
         "hoverinfo": "skip",
         "line": {
          "color": "black",
          "width": 1
         },
         "mode": "lines",
         "showlegend": false,
         "type": "scatter3d",
         "x": [
          -21.95049721334219,
          -20.864602857283156
         ],
         "y": [
          -15.960219735879338,
          -15.1080769124476
         ],
         "z": [
          -9.589235723531237,
          -10.191656163052428
         ]
        },
        {
         "hoverinfo": "skip",
         "line": {
          "color": "black",
          "width": 1
         },
         "mode": "lines",
         "showlegend": false,
         "type": "scatter3d",
         "x": [
          -20.864602857283156,
          -21.10072419371705
         ],
         "y": [
          -15.1080769124476,
          -14.900931163254729
         ],
         "z": [
          -10.191656163052428,
          -11.238470035272318
         ]
        },
        {
         "hoverinfo": "skip",
         "line": {
          "color": "black",
          "width": 1
         },
         "mode": "lines",
         "showlegend": false,
         "type": "scatter3d",
         "x": [
          -20.864602857283156,
          -19.897662580449797
         ],
         "y": [
          -15.1080769124476,
          -15.611316766080211
         ],
         "z": [
          -10.191656163052428,
          -10.109188892252089
         ]
        },
        {
         "hoverinfo": "skip",
         "line": {
          "color": "black",
          "width": 1
         },
         "mode": "lines",
         "showlegend": false,
         "type": "scatter3d",
         "x": [
          -15.926567891037203,
          -17.179475048382507
         ],
         "y": [
          -12.69293789688068,
          -12.32744439226808
         ],
         "z": [
          -8.473483527224097,
          -8.790121511614657
         ]
        },
        {
         "hoverinfo": "skip",
         "line": {
          "color": "black",
          "width": 1
         },
         "mode": "lines",
         "showlegend": false,
         "type": "scatter3d",
         "x": [
          -15.926567891037203,
          -14.793742202583205
         ],
         "y": [
          -12.69293789688068,
          -12.01051149537988
         ],
         "z": [
          -8.473483527224097,
          -9.044964634622566
         ]
        },
        {
         "hoverinfo": "skip",
         "line": {
          "color": "black",
          "width": 1
         },
         "mode": "lines",
         "showlegend": false,
         "type": "scatter3d",
         "x": [
          -15.926567891037203,
          -15.914135812726082
         ],
         "y": [
          -12.69293789688068,
          -13.728348023450808
         ],
         "z": [
          -8.473483527224097,
          -7.59019394094738
         ]
        },
        {
         "hoverinfo": "skip",
         "line": {
          "color": "black",
          "width": 1
         },
         "mode": "lines",
         "showlegend": false,
         "type": "scatter3d",
         "x": [
          -17.179475048382507,
          -18.00423966321454
         ],
         "y": [
          -12.32744439226808,
          -13.12126321381757
         ],
         "z": [
          -8.790121511614657,
          -8.116011150713177
         ]
        },
        {
         "hoverinfo": "skip",
         "line": {
          "color": "black",
          "width": 1
         },
         "mode": "lines",
         "showlegend": false,
         "type": "scatter3d",
         "x": [
          -18.00423966321454,
          -17.245129193644004
         ],
         "y": [
          -13.12126321381757,
          -13.984943427799651
         ],
         "z": [
          -8.116011150713177,
          -7.376282935106751
         ]
        },
        {
         "hoverinfo": "skip",
         "line": {
          "color": "black",
          "width": 4
         },
         "mode": "lines",
         "showlegend": false,
         "type": "scatter3d",
         "x": [
          -14.793742202583205,
          -14.535202811079133
         ],
         "y": [
          -12.01051149537988,
          -12.445863693145807
         ],
         "z": [
          -9.044964634622566,
          -10.479220778740864
         ]
        },
        {
         "hoverinfo": "skip",
         "line": {
          "color": "black",
          "width": 1
         },
         "mode": "lines",
         "showlegend": false,
         "type": "scatter3d",
         "x": [
          -14.793742202583205,
          -13.918598700380864
         ],
         "y": [
          -12.01051149537988,
          -12.220590935551986
         ],
         "z": [
          -9.044964634622566,
          -8.420603025160556
         ]
        },
        {
         "hoverinfo": "skip",
         "line": {
          "color": "black",
          "width": 1
         },
         "mode": "lines",
         "showlegend": false,
         "type": "scatter3d",
         "x": [
          -14.793742202583205,
          -14.992051496253227
         ],
         "y": [
          -12.01051149537988,
          -10.934368683744719
         ],
         "z": [
          -9.044964634622566,
          -8.995310702149188
         ]
        },
        {
         "hoverinfo": "skip",
         "line": {
          "color": "black",
          "width": 1
         },
         "mode": "lines",
         "showlegend": false,
         "type": "scatter3d",
         "x": [
          -15.914135812726082,
          -17.245129193644004
         ],
         "y": [
          -13.728348023450808,
          -13.984943427799651
         ],
         "z": [
          -7.59019394094738,
          -7.376282935106751
         ]
        },
        {
         "hoverinfo": "skip",
         "line": {
          "color": "black",
          "width": 1
         },
         "mode": "lines",
         "showlegend": false,
         "type": "scatter3d",
         "x": [
          -15.914135812726082,
          -15.004851819467818
         ],
         "y": [
          -13.728348023450808,
          -14.171334574730231
         ],
         "z": [
          -7.59019394094738,
          -7.209086980908776
         ]
        },
        {
         "hoverinfo": "skip",
         "line": {
          "color": "black",
          "width": 1
         },
         "mode": "lines",
         "showlegend": false,
         "type": "scatter3d",
         "x": [
          -17.245129193644004,
          -17.865802472549966
         ],
         "y": [
          -13.984943427799651,
          -14.997642860307396
         ],
         "z": [
          -7.376282935106751,
          -6.512850111865362
         ]
        },
        {
         "hoverinfo": "skip",
         "line": {
          "color": "black",
          "width": 1
         },
         "mode": "lines",
         "showlegend": false,
         "type": "scatter3d",
         "x": [
          -14.535202811079133,
          -13.783394543793955
         ],
         "y": [
          -12.445863693145807,
          -13.241164975161599
         ],
         "z": [
          -10.479220778740864,
          -10.519727815977536
         ]
        },
        {
         "hoverinfo": "skip",
         "line": {
          "color": "black",
          "width": 1
         },
         "mode": "lines",
         "showlegend": false,
         "type": "scatter3d",
         "x": [
          -14.535202811079133,
          -15.4485883150787
         ],
         "y": [
          -12.445863693145807,
          -12.824840451108809
         ],
         "z": [
          -10.479220778740864,
          -10.949998771012506
         ]
        },
        {
         "hoverinfo": "skip",
         "line": {
          "color": "black",
          "width": 1
         },
         "mode": "lines",
         "showlegend": false,
         "type": "scatter3d",
         "x": [
          -14.535202811079133,
          -14.185194512988595
         ],
         "y": [
          -12.445863693145807,
          -11.631343896187829
         ],
         "z": [
          -10.479220778740864,
          -11.050688497468602
         ]
        },
        {
         "hoverinfo": "skip",
         "line": {
          "color": "black",
          "width": 1
         },
         "mode": "lines",
         "showlegend": false,
         "type": "scatter3d",
         "x": [
          -17.865802472549966,
          -18.50231872885842
         ],
         "y": [
          -14.997642860307396,
          -15.664665535376267
         ],
         "z": [
          -6.512850111865362,
          -7.102628821551493
         ]
        },
        {
         "hoverinfo": "skip",
         "line": {
          "color": "black",
          "width": 1
         },
         "mode": "lines",
         "showlegend": false,
         "type": "scatter3d",
         "x": [
          -17.865802472549966,
          -17.11287933989643
         ],
         "y": [
          -14.997642860307396,
          -15.609053852897194
         ],
         "z": [
          -6.512850111865362,
          -6.005453053876696
         ]
        },
        {
         "hoverinfo": "skip",
         "line": {
          "color": "black",
          "width": 1
         },
         "mode": "lines",
         "showlegend": false,
         "type": "scatter3d",
         "x": [
          -10.785386476475335,
          -12.132807867569284
         ],
         "y": [
          -11.247929221411738,
          -11.66246966913019
         ],
         "z": [
          -9.882867504325304,
          -9.80502425138814
         ]
        },
        {
         "hoverinfo": "skip",
         "line": {
          "color": "black",
          "width": 1
         },
         "mode": "lines",
         "showlegend": false,
         "type": "scatter3d",
         "x": [
          -12.323952159861483,
          -12.858746403332425
         ],
         "y": [
          -10.665212060063661,
          -11.258934777127035
         ],
         "z": [
          -11.998611826727458,
          -11.066633102510416
         ]
        },
        {
         "hoverinfo": "skip",
         "line": {
          "color": "black",
          "width": 1
         },
         "mode": "lines",
         "showlegend": false,
         "type": "scatter3d",
         "x": [
          -14.185194512988595,
          -12.858746403332425
         ],
         "y": [
          -11.631343896187829,
          -11.258934777127035
         ],
         "z": [
          -11.050688497468602,
          -11.066633102510416
         ]
        },
        {
         "hoverinfo": "skip",
         "line": {
          "color": "black",
          "width": 1
         },
         "mode": "lines",
         "showlegend": false,
         "type": "scatter3d",
         "x": [
          -14.185194512988595,
          -14.903316416198624
         ],
         "y": [
          -11.631343896187829,
          -11.10628743297665
         ],
         "z": [
          -11.050688497468602,
          -11.617614277816632
         ]
        },
        {
         "hoverinfo": "skip",
         "line": {
          "color": "black",
          "width": 1
         },
         "mode": "lines",
         "showlegend": false,
         "type": "scatter3d",
         "x": [
          -12.132807867569284,
          -12.858746403332425
         ],
         "y": [
          -11.66246966913019,
          -11.258934777127035
         ],
         "z": [
          -9.80502425138814,
          -11.066633102510416
         ]
        },
        {
         "hoverinfo": "skip",
         "line": {
          "color": "black",
          "width": 1
         },
         "mode": "lines",
         "showlegend": false,
         "type": "scatter3d",
         "x": [
          -12.132807867569284,
          -12.605247587371533
         ],
         "y": [
          -11.66246966913019,
          -11.203410128416092
         ],
         "z": [
          -9.80502425138814,
          -8.931468220424742
         ]
        },
        {
         "hoverinfo": "skip",
         "line": {
          "color": "black",
          "width": 1
         },
         "mode": "lines",
         "showlegend": false,
         "type": "scatter3d",
         "x": [
          -12.132807867569284,
          -12.159776737008771
         ],
         "y": [
          -11.66246966913019,
          -12.750958165165336
         ],
         "z": [
          -9.80502425138814,
          -9.701117494724803
         ]
        },
        {
         "hoverinfo": "skip",
         "line": {
          "color": "black",
          "width": 1
         },
         "mode": "lines",
         "showlegend": false,
         "type": "scatter3d",
         "x": [
          -16.220980264525167,
          -16.008516261091863
         ],
         "y": [
          -11.800017490676789,
          -11.036148399141027
         ],
         "z": [
          -20.60422732163283,
          -21.540895869328025
         ]
        },
        {
         "hoverinfo": "skip",
         "line": {
          "color": "black",
          "width": 1
         },
         "mode": "lines",
         "showlegend": false,
         "type": "scatter3d",
         "x": [
          -19.214139424493183,
          -19.579008744532565
         ],
         "y": [
          -17.218763185827303,
          -16.119166922014234
         ],
         "z": [
          -22.55434344750518,
          -23.5708204496564
         ]
        },
        {
         "hoverinfo": "skip",
         "line": {
          "color": "black",
          "width": 1
         },
         "mode": "lines",
         "showlegend": false,
         "type": "scatter3d",
         "x": [
          -19.214139424493183,
          -17.72553140527833
         ],
         "y": [
          -17.218763185827303,
          -17.572630819330946
         ],
         "z": [
          -22.55434344750518,
          -22.60116398880652
         ]
        },
        {
         "hoverinfo": "skip",
         "line": {
          "color": "black",
          "width": 1
         },
         "mode": "lines",
         "showlegend": false,
         "type": "scatter3d",
         "x": [
          -19.214139424493183,
          -19.591553310172564
         ],
         "y": [
          -17.218763185827303,
          -16.764769686876306
         ],
         "z": [
          -22.55434344750518,
          -21.142144735635416
         ]
        },
        {
         "hoverinfo": "skip",
         "line": {
          "color": "black",
          "width": 1
         },
         "mode": "lines",
         "showlegend": false,
         "type": "scatter3d",
         "x": [
          -19.214139424493183,
          -19.797924361317566
         ],
         "y": [
          -17.218763185827303,
          -18.114360702442596
         ],
         "z": [
          -22.55434344750518,
          -22.800355654050804
         ]
        },
        {
         "hoverinfo": "skip",
         "line": {
          "color": "black",
          "width": 1
         },
         "mode": "lines",
         "showlegend": false,
         "type": "scatter3d",
         "x": [
          -19.579008744532565,
          -18.77699814158331
         ],
         "y": [
          -16.119166922014234,
          -14.850562838307898
         ],
         "z": [
          -23.5708204496564,
          -23.411615325490757
         ]
        },
        {
         "hoverinfo": "skip",
         "line": {
          "color": "black",
          "width": 1
         },
         "mode": "lines",
         "showlegend": false,
         "type": "scatter3d",
         "x": [
          -19.579008744532565,
          -20.650522121183993
         ],
         "y": [
          -16.119166922014234,
          -15.887733604043387
         ],
         "z": [
          -23.5708204496564,
          -23.50392237053548
         ]
        },
        {
         "hoverinfo": "skip",
         "line": {
          "color": "black",
          "width": 1
         },
         "mode": "lines",
         "showlegend": false,
         "type": "scatter3d",
         "x": [
          -19.579008744532565,
          -19.434287284248377
         ],
         "y": [
          -16.119166922014234,
          -16.50768278418246
         ],
         "z": [
          -23.5708204496564,
          -24.588076628687464
         ]
        },
        {
         "hoverinfo": "skip",
         "line": {
          "color": "black",
          "width": 1
         },
         "mode": "lines",
         "showlegend": false,
         "type": "scatter3d",
         "x": [
          -18.77699814158331,
          -19.248167908646124
         ],
         "y": [
          -14.850562838307898,
          -13.849428627504906
         ],
         "z": [
          -23.411615325490757,
          -22.57707836251916
         ]
        },
        {
         "hoverinfo": "skip",
         "line": {
          "color": "black",
          "width": 1
         },
         "mode": "lines",
         "showlegend": false,
         "type": "scatter3d",
         "x": [
          -18.77699814158331,
          -17.58435901358835
         ],
         "y": [
          -14.850562838307898,
          -14.709211177819888
         ],
         "z": [
          -23.411615325490757,
          -24.10332748271563
         ]
        },
        {
         "hoverinfo": "skip",
         "line": {
          "color": "black",
          "width": 1
         },
         "mode": "lines",
         "showlegend": false,
         "type": "scatter3d",
         "x": [
          -17.305147697861717,
          -16.5129476006212
         ],
         "y": [
          -12.520048307077854,
          -11.266128645490225
         ],
         "z": [
          -23.12024061649542,
          -22.963713499943342
         ]
        },
        {
         "hoverinfo": "skip",
         "line": {
          "color": "black",
          "width": 1
         },
         "mode": "lines",
         "showlegend": false,
         "type": "scatter3d",
         "x": [
          -17.305147697861717,
          -18.50754887903873
         ],
         "y": [
          -12.520048307077854,
          -12.676561222132456
         ],
         "z": [
          -23.12024061649542,
          -22.43055050715266
         ]
        },
        {
         "hoverinfo": "skip",
         "line": {
          "color": "black",
          "width": 1
         },
         "mode": "lines",
         "showlegend": false,
         "type": "scatter3d",
         "x": [
          -17.305147697861717,
          -16.84359493446239
         ],
         "y": [
          -12.520048307077854,
          -13.536298533176126
         ],
         "z": [
          -23.12024061649542,
          -23.95671647660953
         ]
        },
        {
         "hoverinfo": "skip",
         "line": {
          "color": "black",
          "width": 1
         },
         "mode": "lines",
         "showlegend": false,
         "type": "scatter3d",
         "x": [
          -16.5129476006212,
          -17.269690850637435
         ],
         "y": [
          -11.266128645490225,
          -10.007830271272379
         ],
         "z": [
          -22.963713499943342,
          -23.423111187133426
         ]
        },
        {
         "hoverinfo": "skip",
         "line": {
          "color": "black",
          "width": 1
         },
         "mode": "lines",
         "showlegend": false,
         "type": "scatter3d",
         "x": [
          -16.5129476006212,
          -16.008516261091863
         ],
         "y": [
          -11.266128645490225,
          -11.036148399141027
         ],
         "z": [
          -22.963713499943342,
          -21.540895869328025
         ]
        },
        {
         "hoverinfo": "skip",
         "line": {
          "color": "black",
          "width": 1
         },
         "mode": "lines",
         "showlegend": false,
         "type": "scatter3d",
         "x": [
          -16.5129476006212,
          -15.603397347101996
         ],
         "y": [
          -11.266128645490225,
          -11.334539281696193
         ],
         "z": [
          -22.963713499943342,
          -23.575794394251474
         ]
        },
        {
         "hoverinfo": "skip",
         "line": {
          "color": "black",
          "width": 1
         },
         "mode": "lines",
         "showlegend": false,
         "type": "scatter3d",
         "x": [
          -17.72553140527833,
          -17.087508297962252
         ],
         "y": [
          -17.572630819330946,
          -16.766410396260415
         ],
         "z": [
          -22.60116398880652,
          -22.225914999527777
         ]
        },
        {
         "hoverinfo": "skip",
         "line": {
          "color": "black",
          "width": 1
         },
         "mode": "lines",
         "showlegend": false,
         "type": "scatter3d",
         "x": [
          -17.72553140527833,
          -17.413914038860952
         ],
         "y": [
          -17.572630819330946,
          -17.824326339344402
         ],
         "z": [
          -22.60116398880652,
          -23.620197944154533
         ]
        },
        {
         "hoverinfo": "skip",
         "line": {
          "color": "black",
          "width": 1
         },
         "mode": "lines",
         "showlegend": false,
         "type": "scatter3d",
         "x": [
          -17.72553140527833,
          -17.531335092519573
         ],
         "y": [
          -17.572630819330946,
          -18.450336968248592
         ],
         "z": [
          -22.60116398880652,
          -21.974125610185975
         ]
        },
        {
         "hoverinfo": "skip",
         "line": {
          "color": "black",
          "width": 1
         },
         "mode": "lines",
         "showlegend": false,
         "type": "scatter3d",
         "x": [
          -19.591553310172564,
          -19.489831507450358
         ],
         "y": [
          -16.764769686876306,
          -17.60234913823853
         ],
         "z": [
          -21.142144735635416,
          -20.442610542399155
         ]
        },
        {
         "hoverinfo": "skip",
         "line": {
          "color": "black",
          "width": 1
         },
         "mode": "lines",
         "showlegend": false,
         "type": "scatter3d",
         "x": [
          -19.591553310172564,
          -18.947727789031447
         ],
         "y": [
          -16.764769686876306,
          -15.961573957595988
         ],
         "z": [
          -21.142144735635416,
          -20.770681670455005
         ]
        },
        {
         "hoverinfo": "skip",
         "line": {
          "color": "black",
          "width": 1
         },
         "mode": "lines",
         "showlegend": false,
         "type": "scatter3d",
         "x": [
          -19.591553310172564,
          -20.632932577077703
         ],
         "y": [
          -16.764769686876306,
          -16.429009375126405
         ],
         "z": [
          -21.142144735635416,
          -21.09810412353996
         ]
        },
        {
         "hoverinfo": "skip",
         "line": {
          "color": "black",
          "width": 1
         },
         "mode": "lines",
         "showlegend": false,
         "type": "scatter3d",
         "x": [
          -19.248167908646124,
          -18.50754887903873
         ],
         "y": [
          -13.849428627504906,
          -12.676561222132456
         ],
         "z": [
          -22.57707836251916,
          -22.43055050715266
         ]
        },
        {
         "hoverinfo": "skip",
         "line": {
          "color": "black",
          "width": 1
         },
         "mode": "lines",
         "showlegend": false,
         "type": "scatter3d",
         "x": [
          -19.248167908646124,
          -20.186086941470382
         ],
         "y": [
          -13.849428627504906,
          -13.956305938829395
         ],
         "z": [
          -22.57707836251916,
          -22.039984452490316
         ]
        },
        {
         "hoverinfo": "skip",
         "line": {
          "color": "black",
          "width": 1
         },
         "mode": "lines",
         "showlegend": false,
         "type": "scatter3d",
         "x": [
          -17.58435901358835,
          -16.84359493446239
         ],
         "y": [
          -14.709211177819888,
          -13.536298533176126
         ],
         "z": [
          -24.10332748271563,
          -23.95671647660953
         ]
        },
        {
         "hoverinfo": "skip",
         "line": {
          "color": "black",
          "width": 1
         },
         "mode": "lines",
         "showlegend": false,
         "type": "scatter3d",
         "x": [
          -17.58435901358835,
          -17.217324112583086
         ],
         "y": [
          -14.709211177819888,
          -15.490625641525293
         ],
         "z": [
          -24.10332748271563,
          -24.762342844718695
         ]
        },
        {
         "hoverinfo": "skip",
         "line": {
          "color": "black",
          "width": 1
         },
         "mode": "lines",
         "showlegend": false,
         "type": "scatter3d",
         "x": [
          -18.50754887903873,
          -18.884510107627058
         ],
         "y": [
          -12.676561222132456,
          -11.896896877857465
         ],
         "z": [
          -22.43055050715266,
          -21.774193171239194
         ]
        },
        {
         "hoverinfo": "skip",
         "line": {
          "color": "black",
          "width": 1
         },
         "mode": "lines",
         "showlegend": false,
         "type": "scatter3d",
         "x": [
          -16.84359493446239,
          -15.909887452855902
         ],
         "y": [
          -13.536298533176126,
          -13.430073353095406
         ],
         "z": [
          -23.95671647660953,
          -24.50246472434735
         ]
        },
        {
         "hoverinfo": "skip",
         "line": {
          "color": "black",
          "width": 1
         },
         "mode": "lines",
         "showlegend": false,
         "type": "scatter3d",
         "x": [
          -17.269690850637435,
          -17.62209401486979
         ],
         "y": [
          -10.007830271272379,
          -10.117745517707933
         ],
         "z": [
          -23.423111187133426,
          -24.45451037194987
         ]
        },
        {
         "hoverinfo": "skip",
         "line": {
          "color": "black",
          "width": 1
         },
         "mode": "lines",
         "showlegend": false,
         "type": "scatter3d",
         "x": [
          -17.269690850637435,
          -16.618478152000442
         ],
         "y": [
          -10.007830271272379,
          -9.127712156075427
         ],
         "z": [
          -23.423111187133426,
          -23.378541416704593
         ]
        },
        {
         "hoverinfo": "skip",
         "line": {
          "color": "black",
          "width": 1
         },
         "mode": "lines",
         "showlegend": false,
         "type": "scatter3d",
         "x": [
          -17.269690850637435,
          -18.13753978147724
         ],
         "y": [
          -10.007830271272379,
          -9.800078755715173
         ],
         "z": [
          -23.423111187133426,
          -22.787367684591796
         ]
        },
        {
         "hoverinfo": "skip",
         "line": {
          "color": "black",
          "width": 1
         },
         "mode": "lines",
         "showlegend": false,
         "type": "scatter3d",
         "x": [
          -16.008516261091863,
          -15.422779449680458
         ],
         "y": [
          -11.036148399141027,
          -10.168205993972336
         ],
         "z": [
          -21.540895869328025,
          -21.402976101659664
         ]
        },
        {
         "hoverinfo": "skip",
         "line": {
          "color": "black",
          "width": 1
         },
         "mode": "lines",
         "showlegend": false,
         "type": "scatter3d",
         "x": [
          -15.422779449680458,
          -15.447014825537979
         ],
         "y": [
          -10.168205993972336,
          -9.866112759716414
         ],
         "z": [
          -21.402976101659664,
          -19.96558634088709
         ]
        },
        {
         "hoverinfo": "skip",
         "line": {
          "color": "black",
          "width": 1
         },
         "mode": "lines",
         "showlegend": false,
         "type": "scatter3d",
         "x": [
          -15.422779449680458,
          -15.908396787087181
         ],
         "y": [
          -10.168205993972336,
          -9.414244913641962
         ],
         "z": [
          -21.402976101659664,
          -21.865729265838
         ]
        },
        {
         "hoverinfo": "skip",
         "line": {
          "color": "black",
          "width": 1
         },
         "mode": "lines",
         "showlegend": false,
         "type": "scatter3d",
         "x": [
          -15.447014825537979,
          -14.872085111929454
         ],
         "y": [
          -9.866112759716414,
          -11.028973097208837
         ],
         "z": [
          -19.96558634088709,
          -19.19911999466111
         ]
        },
        {
         "hoverinfo": "skip",
         "line": {
          "color": "black",
          "width": 1
         },
         "mode": "lines",
         "showlegend": false,
         "type": "scatter3d",
         "x": [
          -15.447014825537979,
          -16.889171091421744
         ],
         "y": [
          -9.866112759716414,
          -9.624047721962455
         ],
         "z": [
          -19.96558634088709,
          -19.5200060201038
         ]
        },
        {
         "hoverinfo": "skip",
         "line": {
          "color": "black",
          "width": 1
         },
         "mode": "lines",
         "showlegend": false,
         "type": "scatter3d",
         "x": [
          -15.447014825537979,
          -14.851978965882962
         ],
         "y": [
          -9.866112759716414,
          -8.973825438699336
         ],
         "z": [
          -19.96558634088709,
          -19.772662359804336
         ]
        },
        {
         "hoverinfo": "skip",
         "line": {
          "color": "black",
          "width": 4
         },
         "mode": "lines",
         "showlegend": false,
         "type": "scatter3d",
         "x": [
          -14.872085111929454,
          -14.980208102965976
         ],
         "y": [
          -11.028973097208837,
          -12.150542447924614
         ],
         "z": [
          -19.19911999466111,
          -19.631646999996395
         ]
        },
        {
         "hoverinfo": "skip",
         "line": {
          "color": "black",
          "width": 4
         },
         "mode": "lines",
         "showlegend": false,
         "type": "scatter3d",
         "x": [
          -14.872085111929454,
          -14.23938996920334
         ],
         "y": [
          -11.028973097208837,
          -10.816925619087488
         ],
         "z": [
          -19.19911999466111,
          -18.034907933482764
         ]
        },
        {
         "hoverinfo": "skip",
         "line": {
          "color": "black",
          "width": 4
         },
         "mode": "lines",
         "showlegend": false,
         "type": "scatter3d",
         "x": [
          -16.889171091421744,
          -17.434708137484215
         ],
         "y": [
          -9.624047721962455,
          -8.522504747587668
         ],
         "z": [
          -19.5200060201038,
          -20.24740509006401
         ]
        },
        {
         "hoverinfo": "skip",
         "line": {
          "color": "black",
          "width": 1
         },
         "mode": "lines",
         "showlegend": false,
         "type": "scatter3d",
         "x": [
          -16.889171091421744,
          -17.4833769043194
         ],
         "y": [
          -9.624047721962455,
          -10.517357805018559
         ],
         "z": [
          -19.5200060201038,
          -19.71344476345411
         ]
        },
        {
         "hoverinfo": "skip",
         "line": {
          "color": "black",
          "width": 1
         },
         "mode": "lines",
         "showlegend": false,
         "type": "scatter3d",
         "x": [
          -16.889171091421744,
          -16.907335185385996
         ],
         "y": [
          -9.624047721962455,
          -9.400059307926472
         ],
         "z": [
          -19.5200060201038,
          -18.453812671752708
         ]
        },
        {
         "hoverinfo": "skip",
         "line": {
          "color": "black",
          "width": 1
         },
         "mode": "lines",
         "showlegend": false,
         "type": "scatter3d",
         "x": [
          -17.434708137484215,
          -17.2975525478584
         ],
         "y": [
          -8.522504747587668,
          -8.771394524272427
         ],
         "z": [
          -20.24740509006401,
          -21.403304005133144
         ]
        },
        {
         "hoverinfo": "skip",
         "line": {
          "color": "black",
          "width": 1
         },
         "mode": "lines",
         "showlegend": false,
         "type": "scatter3d",
         "x": [
          -14.23938996920334,
          -14.193411971834031
         ],
         "y": [
          -10.816925619087488,
          -11.566813526379178
         ],
         "z": [
          -18.034907933482764,
          -17.329051810274354
         ]
        },
        {
         "hoverinfo": "skip",
         "line": {
          "color": "black",
          "width": 1
         },
         "mode": "lines",
         "showlegend": false,
         "type": "scatter3d",
         "x": [
          -17.334380550585507,
          -17.471472869314454
         ],
         "y": [
          -7.787540501815155,
          -6.675539483099305
         ],
         "z": [
          -23.52775172882742,
          -24.413322753940836
         ]
        },
        {
         "hoverinfo": "skip",
         "line": {
          "color": "black",
          "width": 1
         },
         "mode": "lines",
         "showlegend": false,
         "type": "scatter3d",
         "x": [
          -17.334380550585507,
          -17.46668349389366
         ],
         "y": [
          -7.787540501815155,
          -7.502974199430884
         ],
         "z": [
          -23.52775172882742,
          -22.197488450096724
         ]
        },
        {
         "hoverinfo": "skip",
         "line": {
          "color": "black",
          "width": 1
         },
         "mode": "lines",
         "showlegend": false,
         "type": "scatter3d",
         "x": [
          -17.68768227759411,
          -17.46668349389366
         ],
         "y": [
          -6.399495437165843,
          -7.502974199430884
         ],
         "z": [
          -21.717546975713717,
          -22.197488450096724
         ]
        },
        {
         "hoverinfo": "skip",
         "line": {
          "color": "black",
          "width": 1
         },
         "mode": "lines",
         "showlegend": false,
         "type": "scatter3d",
         "x": [
          -17.471472869314454,
          -18.863113036755074
         ],
         "y": [
          -6.675539483099305,
          -6.073076006453681
         ],
         "z": [
          -24.413322753940836,
          -24.22535532677881
         ]
        },
        {
         "hoverinfo": "skip",
         "line": {
          "color": "black",
          "width": 1
         },
         "mode": "lines",
         "showlegend": false,
         "type": "scatter3d",
         "x": [
          -17.471472869314454,
          -17.300085635360727
         ],
         "y": [
          -6.675539483099305,
          -7.1980919882218295
         ],
         "z": [
          -24.413322753940836,
          -25.83795422398068
         ]
        },
        {
         "hoverinfo": "skip",
         "line": {
          "color": "black",
          "width": 1
         },
         "mode": "lines",
         "showlegend": false,
         "type": "scatter3d",
         "x": [
          -17.471472869314454,
          -16.385745412674865
         ],
         "y": [
          -6.675539483099305,
          -5.652759245593002
         ],
         "z": [
          -24.413322753940836,
          -24.0818039224011
         ]
        },
        {
         "hoverinfo": "skip",
         "line": {
          "color": "black",
          "width": 1
         },
         "mode": "lines",
         "showlegend": false,
         "type": "scatter3d",
         "x": [
          -18.863113036755074,
          -18.9767355537199
         ],
         "y": [
          -6.073076006453681,
          -5.464206110579415
         ],
         "z": [
          -24.22535532677881,
          -23.32497428880843
         ]
        },
        {
         "hoverinfo": "skip",
         "line": {
          "color": "black",
          "width": 1
         },
         "mode": "lines",
         "showlegend": false,
         "type": "scatter3d",
         "x": [
          -18.863113036755074,
          -19.62831116384742
         ],
         "y": [
          -6.073076006453681,
          -6.857193604333904
         ],
         "z": [
          -24.22535532677881,
          -24.184269940217465
         ]
        },
        {
         "hoverinfo": "skip",
         "line": {
          "color": "black",
          "width": 1
         },
         "mode": "lines",
         "showlegend": false,
         "type": "scatter3d",
         "x": [
          -18.863113036755074,
          -19.10830655100881
         ],
         "y": [
          -6.073076006453681,
          -5.409049852693702
         ],
         "z": [
          -24.22535532677881,
          -25.0628634567039
         ]
        },
        {
         "hoverinfo": "skip",
         "line": {
          "color": "black",
          "width": 1
         },
         "mode": "lines",
         "showlegend": false,
         "type": "scatter3d",
         "x": [
          -17.300085635360727,
          -16.320838251386583
         ],
         "y": [
          -7.1980919882218295,
          -7.674579870843509
         ],
         "z": [
          -25.83795422398068,
          -25.96176807092231
         ]
        },
        {
         "hoverinfo": "skip",
         "line": {
          "color": "black",
          "width": 1
         },
         "mode": "lines",
         "showlegend": false,
         "type": "scatter3d",
         "x": [
          -17.300085635360727,
          -18.048783187304565
         ],
         "y": [
          -7.1980919882218295,
          -7.966629906232495
         ],
         "z": [
          -25.83795422398068,
          -26.062509994988964
         ]
        },
        {
         "hoverinfo": "skip",
         "line": {
          "color": "black",
          "width": 1
         },
         "mode": "lines",
         "showlegend": false,
         "type": "scatter3d",
         "x": [
          -17.300085635360727,
          -17.39200626661571
         ],
         "y": [
          -7.1980919882218295,
          -6.398135501080846
         ],
         "z": [
          -25.83795422398068,
          -26.579791366641206
         ]
        },
        {
         "hoverinfo": "skip",
         "line": {
          "color": "black",
          "width": 1
         },
         "mode": "lines",
         "showlegend": false,
         "type": "scatter3d",
         "x": [
          -16.385745412674865,
          -16.572107224508226
         ],
         "y": [
          -5.652759245593002,
          -5.069841889387547
         ],
         "z": [
          -24.0818039224011,
          -23.176451901955662
         ]
        },
        {
         "hoverinfo": "skip",
         "line": {
          "color": "black",
          "width": 1
         },
         "mode": "lines",
         "showlegend": false,
         "type": "scatter3d",
         "x": [
          -16.385745412674865,
          -16.290179277600718
         ],
         "y": [
          -5.652759245593002,
          -4.920030075647109
         ],
         "z": [
          -24.0818039224011,
          -24.892052981232627
         ]
        },
        {
         "hoverinfo": "skip",
         "line": {
          "color": "black",
          "width": 1
         },
         "mode": "lines",
         "showlegend": false,
         "type": "scatter3d",
         "x": [
          -16.385745412674865,
          -15.412770062193335
         ],
         "y": [
          -5.652759245593002,
          -6.141779714366553
         ],
         "z": [
          -24.0818039224011,
          -23.955151332708578
         ]
        },
        {
         "hoverinfo": "skip",
         "line": {
          "color": "black",
          "width": 1
         },
         "mode": "lines",
         "showlegend": false,
         "type": "scatter3d",
         "x": [
          -17.46668349389366,
          -17.2975525478584
         ],
         "y": [
          -7.502974199430884,
          -8.771394524272427
         ],
         "z": [
          -22.197488450096724,
          -21.403304005133144
         ]
        },
        {
         "hoverinfo": "skip",
         "line": {
          "color": "black",
          "width": 1
         },
         "mode": "lines",
         "showlegend": false,
         "type": "scatter3d",
         "x": [
          -17.2975525478584,
          -18.066972509631093
         ],
         "y": [
          -8.771394524272427,
          -9.490740913558133
         ],
         "z": [
          -21.403304005133144,
          -21.69487839469321
         ]
        },
        {
         "hoverinfo": "skip",
         "line": {
          "color": "black",
          "width": 1
         },
         "mode": "lines",
         "showlegend": false,
         "type": "scatter3d",
         "x": [
          -17.2975525478584,
          -16.30066190245675
         ],
         "y": [
          -8.771394524272427,
          -9.189992884177592
         ],
         "z": [
          -21.403304005133144,
          -21.564577543555835
         ]
        },
        {
         "hoverinfo": "skip",
         "line": {
          "color": "black",
          "width": 1
         },
         "mode": "lines",
         "showlegend": false,
         "type": "scatter3d",
         "x": [
          -14.548585479487812,
          -15.742080135588022
         ],
         "y": [
          -10.412453073846999,
          -10.085965494566608
         ],
         "z": [
          -13.944131893187599,
          -14.466240910956746
         ]
        },
        {
         "hoverinfo": "skip",
         "line": {
          "color": "black",
          "width": 1
         },
         "mode": "lines",
         "showlegend": false,
         "type": "scatter3d",
         "x": [
          -14.548585479487812,
          -14.242063147344478
         ],
         "y": [
          -10.412453073846999,
          -10.119223347139322
         ],
         "z": [
          -13.944131893187599,
          -12.567305514419264
         ]
        },
        {
         "hoverinfo": "skip",
         "line": {
          "color": "black",
          "width": 1
         },
         "mode": "lines",
         "showlegend": false,
         "type": "scatter3d",
         "x": [
          -14.548585479487812,
          -13.745569957966193
         ],
         "y": [
          -10.412453073846999,
          -11.01258355271651
         ],
         "z": [
          -13.944131893187599,
          -14.864696209532315
         ]
        },
        {
         "hoverinfo": "skip",
         "line": {
          "color": "black",
          "width": 1
         },
         "mode": "lines",
         "showlegend": false,
         "type": "scatter3d",
         "x": [
          -15.742080135588022,
          -15.734442348024883
         ],
         "y": [
          -10.085965494566608,
          -10.46939842398523
         ],
         "z": [
          -14.466240910956746,
          -15.738141309116367
         ]
        },
        {
         "hoverinfo": "skip",
         "line": {
          "color": "black",
          "width": 1
         },
         "mode": "lines",
         "showlegend": false,
         "type": "scatter3d",
         "x": [
          -15.734442348024883,
          -14.518839220258858
         ],
         "y": [
          -10.46939842398523,
          -11.038732582494577
         ],
         "z": [
          -15.738141309116367,
          -15.998059953541723
         ]
        },
        {
         "hoverinfo": "skip",
         "line": {
          "color": "black",
          "width": 1
         },
         "mode": "lines",
         "showlegend": false,
         "type": "scatter3d",
         "x": [
          -14.242063147344478,
          -14.903316416198624
         ],
         "y": [
          -10.119223347139322,
          -11.10628743297665
         ],
         "z": [
          -12.567305514419264,
          -11.617614277816632
         ]
        },
        {
         "hoverinfo": "skip",
         "line": {
          "color": "black",
          "width": 1
         },
         "mode": "lines",
         "showlegend": false,
         "type": "scatter3d",
         "x": [
          -14.242063147344478,
          -13.153689006755037
         ],
         "y": [
          -10.119223347139322,
          -10.147144230280965
         ],
         "z": [
          -12.567305514419264,
          -12.446893329069209
         ]
        },
        {
         "hoverinfo": "skip",
         "line": {
          "color": "black",
          "width": 1
         },
         "mode": "lines",
         "showlegend": false,
         "type": "scatter3d",
         "x": [
          -14.242063147344478,
          -14.577387725628546
         ],
         "y": [
          -10.119223347139322,
          -9.097089787152374
         ],
         "z": [
          -12.567305514419264,
          -12.360724167858105
         ]
        },
        {
         "hoverinfo": "skip",
         "line": {
          "color": "black",
          "width": 1
         },
         "mode": "lines",
         "showlegend": false,
         "type": "scatter3d",
         "x": [
          -13.745569957966193,
          -14.518839220258858
         ],
         "y": [
          -11.01258355271651,
          -11.038732582494577
         ],
         "z": [
          -14.864696209532315,
          -15.998059953541723
         ]
        },
        {
         "hoverinfo": "skip",
         "line": {
          "color": "black",
          "width": 1
         },
         "mode": "lines",
         "showlegend": false,
         "type": "scatter3d",
         "x": [
          -13.745569957966193,
          -12.743315906376314
         ],
         "y": [
          -11.01258355271651,
          -11.352467184289816
         ],
         "z": [
          -14.864696209532315,
          -14.645053515458034
         ]
        },
        {
         "hoverinfo": "skip",
         "line": {
          "color": "black",
          "width": 1
         },
         "mode": "lines",
         "showlegend": false,
         "type": "scatter3d",
         "x": [
          -14.518839220258858,
          -14.193411971834031
         ],
         "y": [
          -11.038732582494577,
          -11.566813526379178
         ],
         "z": [
          -15.998059953541723,
          -17.329051810274354
         ]
        },
        {
         "hoverinfo": "skip",
         "line": {
          "color": "black",
          "width": 1
         },
         "mode": "lines",
         "showlegend": false,
         "type": "scatter3d",
         "x": [
          -14.903316416198624,
          -15.571065661014888
         ],
         "y": [
          -11.10628743297665,
          -10.59241384957761
         ],
         "z": [
          -11.617614277816632,
          -10.918039045027509
         ]
        },
        {
         "hoverinfo": "skip",
         "line": {
          "color": "black",
          "width": 1
         },
         "mode": "lines",
         "showlegend": false,
         "type": "scatter3d",
         "x": [
          -14.903316416198624,
          -15.49308087173414
         ],
         "y": [
          -11.10628743297665,
          -11.836528971367681
         ],
         "z": [
          -11.617614277816632,
          -12.180309046403641
         ]
        },
        {
         "hoverinfo": "skip",
         "line": {
          "color": "black",
          "width": 1
         },
         "mode": "lines",
         "showlegend": false,
         "type": "scatter3d",
         "x": [
          -14.193411971834031,
          -14.90338821113603
         ],
         "y": [
          -11.566813526379178,
          -12.349606055268044
         ],
         "z": [
          -17.329051810274354,
          -17.613798568539266
         ]
        },
        {
         "hoverinfo": "skip",
         "line": {
          "color": "black",
          "width": 1
         },
         "mode": "lines",
         "showlegend": false,
         "type": "scatter3d",
         "x": [
          -14.193411971834031,
          -13.186969653936728
         ],
         "y": [
          -11.566813526379178,
          -11.996379915311898
         ],
         "z": [
          -17.329051810274354,
          -17.355791261368402
         ]
        }
       ],
       "layout": {
        "scene": {
         "xaxis": {
          "showgrid": false,
          "showline": false,
          "showticklabels": false
         },
         "yaxis": {
          "showgrid": false,
          "showline": false,
          "showticklabels": false
         },
         "zaxis": {
          "showgrid": false,
          "showline": false,
          "showticklabels": false
         }
        },
        "template": {
         "data": {
          "bar": [
           {
            "error_x": {
             "color": "rgb(36,36,36)"
            },
            "error_y": {
             "color": "rgb(36,36,36)"
            },
            "marker": {
             "line": {
              "color": "white",
              "width": 0.5
             },
             "pattern": {
              "fillmode": "overlay",
              "size": 10,
              "solidity": 0.2
             }
            },
            "type": "bar"
           }
          ],
          "barpolar": [
           {
            "marker": {
             "line": {
              "color": "white",
              "width": 0.5
             },
             "pattern": {
              "fillmode": "overlay",
              "size": 10,
              "solidity": 0.2
             }
            },
            "type": "barpolar"
           }
          ],
          "carpet": [
           {
            "aaxis": {
             "endlinecolor": "rgb(36,36,36)",
             "gridcolor": "white",
             "linecolor": "white",
             "minorgridcolor": "white",
             "startlinecolor": "rgb(36,36,36)"
            },
            "baxis": {
             "endlinecolor": "rgb(36,36,36)",
             "gridcolor": "white",
             "linecolor": "white",
             "minorgridcolor": "white",
             "startlinecolor": "rgb(36,36,36)"
            },
            "type": "carpet"
           }
          ],
          "choropleth": [
           {
            "colorbar": {
             "outlinewidth": 1,
             "tickcolor": "rgb(36,36,36)",
             "ticks": "outside"
            },
            "type": "choropleth"
           }
          ],
          "contour": [
           {
            "colorbar": {
             "outlinewidth": 1,
             "tickcolor": "rgb(36,36,36)",
             "ticks": "outside"
            },
            "colorscale": [
             [
              0,
              "#440154"
             ],
             [
              0.1111111111111111,
              "#482878"
             ],
             [
              0.2222222222222222,
              "#3e4989"
             ],
             [
              0.3333333333333333,
              "#31688e"
             ],
             [
              0.4444444444444444,
              "#26828e"
             ],
             [
              0.5555555555555556,
              "#1f9e89"
             ],
             [
              0.6666666666666666,
              "#35b779"
             ],
             [
              0.7777777777777778,
              "#6ece58"
             ],
             [
              0.8888888888888888,
              "#b5de2b"
             ],
             [
              1,
              "#fde725"
             ]
            ],
            "type": "contour"
           }
          ],
          "contourcarpet": [
           {
            "colorbar": {
             "outlinewidth": 1,
             "tickcolor": "rgb(36,36,36)",
             "ticks": "outside"
            },
            "type": "contourcarpet"
           }
          ],
          "heatmap": [
           {
            "colorbar": {
             "outlinewidth": 1,
             "tickcolor": "rgb(36,36,36)",
             "ticks": "outside"
            },
            "colorscale": [
             [
              0,
              "#440154"
             ],
             [
              0.1111111111111111,
              "#482878"
             ],
             [
              0.2222222222222222,
              "#3e4989"
             ],
             [
              0.3333333333333333,
              "#31688e"
             ],
             [
              0.4444444444444444,
              "#26828e"
             ],
             [
              0.5555555555555556,
              "#1f9e89"
             ],
             [
              0.6666666666666666,
              "#35b779"
             ],
             [
              0.7777777777777778,
              "#6ece58"
             ],
             [
              0.8888888888888888,
              "#b5de2b"
             ],
             [
              1,
              "#fde725"
             ]
            ],
            "type": "heatmap"
           }
          ],
          "heatmapgl": [
           {
            "colorbar": {
             "outlinewidth": 1,
             "tickcolor": "rgb(36,36,36)",
             "ticks": "outside"
            },
            "colorscale": [
             [
              0,
              "#440154"
             ],
             [
              0.1111111111111111,
              "#482878"
             ],
             [
              0.2222222222222222,
              "#3e4989"
             ],
             [
              0.3333333333333333,
              "#31688e"
             ],
             [
              0.4444444444444444,
              "#26828e"
             ],
             [
              0.5555555555555556,
              "#1f9e89"
             ],
             [
              0.6666666666666666,
              "#35b779"
             ],
             [
              0.7777777777777778,
              "#6ece58"
             ],
             [
              0.8888888888888888,
              "#b5de2b"
             ],
             [
              1,
              "#fde725"
             ]
            ],
            "type": "heatmapgl"
           }
          ],
          "histogram": [
           {
            "marker": {
             "line": {
              "color": "white",
              "width": 0.6
             }
            },
            "type": "histogram"
           }
          ],
          "histogram2d": [
           {
            "colorbar": {
             "outlinewidth": 1,
             "tickcolor": "rgb(36,36,36)",
             "ticks": "outside"
            },
            "colorscale": [
             [
              0,
              "#440154"
             ],
             [
              0.1111111111111111,
              "#482878"
             ],
             [
              0.2222222222222222,
              "#3e4989"
             ],
             [
              0.3333333333333333,
              "#31688e"
             ],
             [
              0.4444444444444444,
              "#26828e"
             ],
             [
              0.5555555555555556,
              "#1f9e89"
             ],
             [
              0.6666666666666666,
              "#35b779"
             ],
             [
              0.7777777777777778,
              "#6ece58"
             ],
             [
              0.8888888888888888,
              "#b5de2b"
             ],
             [
              1,
              "#fde725"
             ]
            ],
            "type": "histogram2d"
           }
          ],
          "histogram2dcontour": [
           {
            "colorbar": {
             "outlinewidth": 1,
             "tickcolor": "rgb(36,36,36)",
             "ticks": "outside"
            },
            "colorscale": [
             [
              0,
              "#440154"
             ],
             [
              0.1111111111111111,
              "#482878"
             ],
             [
              0.2222222222222222,
              "#3e4989"
             ],
             [
              0.3333333333333333,
              "#31688e"
             ],
             [
              0.4444444444444444,
              "#26828e"
             ],
             [
              0.5555555555555556,
              "#1f9e89"
             ],
             [
              0.6666666666666666,
              "#35b779"
             ],
             [
              0.7777777777777778,
              "#6ece58"
             ],
             [
              0.8888888888888888,
              "#b5de2b"
             ],
             [
              1,
              "#fde725"
             ]
            ],
            "type": "histogram2dcontour"
           }
          ],
          "mesh3d": [
           {
            "colorbar": {
             "outlinewidth": 1,
             "tickcolor": "rgb(36,36,36)",
             "ticks": "outside"
            },
            "type": "mesh3d"
           }
          ],
          "parcoords": [
           {
            "line": {
             "colorbar": {
              "outlinewidth": 1,
              "tickcolor": "rgb(36,36,36)",
              "ticks": "outside"
             }
            },
            "type": "parcoords"
           }
          ],
          "pie": [
           {
            "automargin": true,
            "type": "pie"
           }
          ],
          "scatter": [
           {
            "fillpattern": {
             "fillmode": "overlay",
             "size": 10,
             "solidity": 0.2
            },
            "type": "scatter"
           }
          ],
          "scatter3d": [
           {
            "line": {
             "colorbar": {
              "outlinewidth": 1,
              "tickcolor": "rgb(36,36,36)",
              "ticks": "outside"
             }
            },
            "marker": {
             "colorbar": {
              "outlinewidth": 1,
              "tickcolor": "rgb(36,36,36)",
              "ticks": "outside"
             }
            },
            "type": "scatter3d"
           }
          ],
          "scattercarpet": [
           {
            "marker": {
             "colorbar": {
              "outlinewidth": 1,
              "tickcolor": "rgb(36,36,36)",
              "ticks": "outside"
             }
            },
            "type": "scattercarpet"
           }
          ],
          "scattergeo": [
           {
            "marker": {
             "colorbar": {
              "outlinewidth": 1,
              "tickcolor": "rgb(36,36,36)",
              "ticks": "outside"
             }
            },
            "type": "scattergeo"
           }
          ],
          "scattergl": [
           {
            "marker": {
             "colorbar": {
              "outlinewidth": 1,
              "tickcolor": "rgb(36,36,36)",
              "ticks": "outside"
             }
            },
            "type": "scattergl"
           }
          ],
          "scattermapbox": [
           {
            "marker": {
             "colorbar": {
              "outlinewidth": 1,
              "tickcolor": "rgb(36,36,36)",
              "ticks": "outside"
             }
            },
            "type": "scattermapbox"
           }
          ],
          "scatterpolar": [
           {
            "marker": {
             "colorbar": {
              "outlinewidth": 1,
              "tickcolor": "rgb(36,36,36)",
              "ticks": "outside"
             }
            },
            "type": "scatterpolar"
           }
          ],
          "scatterpolargl": [
           {
            "marker": {
             "colorbar": {
              "outlinewidth": 1,
              "tickcolor": "rgb(36,36,36)",
              "ticks": "outside"
             }
            },
            "type": "scatterpolargl"
           }
          ],
          "scatterternary": [
           {
            "marker": {
             "colorbar": {
              "outlinewidth": 1,
              "tickcolor": "rgb(36,36,36)",
              "ticks": "outside"
             }
            },
            "type": "scatterternary"
           }
          ],
          "surface": [
           {
            "colorbar": {
             "outlinewidth": 1,
             "tickcolor": "rgb(36,36,36)",
             "ticks": "outside"
            },
            "colorscale": [
             [
              0,
              "#440154"
             ],
             [
              0.1111111111111111,
              "#482878"
             ],
             [
              0.2222222222222222,
              "#3e4989"
             ],
             [
              0.3333333333333333,
              "#31688e"
             ],
             [
              0.4444444444444444,
              "#26828e"
             ],
             [
              0.5555555555555556,
              "#1f9e89"
             ],
             [
              0.6666666666666666,
              "#35b779"
             ],
             [
              0.7777777777777778,
              "#6ece58"
             ],
             [
              0.8888888888888888,
              "#b5de2b"
             ],
             [
              1,
              "#fde725"
             ]
            ],
            "type": "surface"
           }
          ],
          "table": [
           {
            "cells": {
             "fill": {
              "color": "rgb(237,237,237)"
             },
             "line": {
              "color": "white"
             }
            },
            "header": {
             "fill": {
              "color": "rgb(217,217,217)"
             },
             "line": {
              "color": "white"
             }
            },
            "type": "table"
           }
          ]
         },
         "layout": {
          "annotationdefaults": {
           "arrowhead": 0,
           "arrowwidth": 1
          },
          "autotypenumbers": "strict",
          "coloraxis": {
           "colorbar": {
            "outlinewidth": 1,
            "tickcolor": "rgb(36,36,36)",
            "ticks": "outside"
           }
          },
          "colorscale": {
           "diverging": [
            [
             0,
             "rgb(103,0,31)"
            ],
            [
             0.1,
             "rgb(178,24,43)"
            ],
            [
             0.2,
             "rgb(214,96,77)"
            ],
            [
             0.3,
             "rgb(244,165,130)"
            ],
            [
             0.4,
             "rgb(253,219,199)"
            ],
            [
             0.5,
             "rgb(247,247,247)"
            ],
            [
             0.6,
             "rgb(209,229,240)"
            ],
            [
             0.7,
             "rgb(146,197,222)"
            ],
            [
             0.8,
             "rgb(67,147,195)"
            ],
            [
             0.9,
             "rgb(33,102,172)"
            ],
            [
             1,
             "rgb(5,48,97)"
            ]
           ],
           "sequential": [
            [
             0,
             "#440154"
            ],
            [
             0.1111111111111111,
             "#482878"
            ],
            [
             0.2222222222222222,
             "#3e4989"
            ],
            [
             0.3333333333333333,
             "#31688e"
            ],
            [
             0.4444444444444444,
             "#26828e"
            ],
            [
             0.5555555555555556,
             "#1f9e89"
            ],
            [
             0.6666666666666666,
             "#35b779"
            ],
            [
             0.7777777777777778,
             "#6ece58"
            ],
            [
             0.8888888888888888,
             "#b5de2b"
            ],
            [
             1,
             "#fde725"
            ]
           ],
           "sequentialminus": [
            [
             0,
             "#440154"
            ],
            [
             0.1111111111111111,
             "#482878"
            ],
            [
             0.2222222222222222,
             "#3e4989"
            ],
            [
             0.3333333333333333,
             "#31688e"
            ],
            [
             0.4444444444444444,
             "#26828e"
            ],
            [
             0.5555555555555556,
             "#1f9e89"
            ],
            [
             0.6666666666666666,
             "#35b779"
            ],
            [
             0.7777777777777778,
             "#6ece58"
            ],
            [
             0.8888888888888888,
             "#b5de2b"
            ],
            [
             1,
             "#fde725"
            ]
           ]
          },
          "colorway": [
           "#1F77B4",
           "#FF7F0E",
           "#2CA02C",
           "#D62728",
           "#9467BD",
           "#8C564B",
           "#E377C2",
           "#7F7F7F",
           "#BCBD22",
           "#17BECF"
          ],
          "font": {
           "color": "rgb(36,36,36)"
          },
          "geo": {
           "bgcolor": "white",
           "lakecolor": "white",
           "landcolor": "white",
           "showlakes": true,
           "showland": true,
           "subunitcolor": "white"
          },
          "hoverlabel": {
           "align": "left"
          },
          "hovermode": "closest",
          "mapbox": {
           "style": "light"
          },
          "paper_bgcolor": "white",
          "plot_bgcolor": "white",
          "polar": {
           "angularaxis": {
            "gridcolor": "rgb(232,232,232)",
            "linecolor": "rgb(36,36,36)",
            "showgrid": false,
            "showline": true,
            "ticks": "outside"
           },
           "bgcolor": "white",
           "radialaxis": {
            "gridcolor": "rgb(232,232,232)",
            "linecolor": "rgb(36,36,36)",
            "showgrid": false,
            "showline": true,
            "ticks": "outside"
           }
          },
          "scene": {
           "xaxis": {
            "backgroundcolor": "white",
            "gridcolor": "rgb(232,232,232)",
            "gridwidth": 2,
            "linecolor": "rgb(36,36,36)",
            "showbackground": true,
            "showgrid": false,
            "showline": true,
            "ticks": "outside",
            "zeroline": false,
            "zerolinecolor": "rgb(36,36,36)"
           },
           "yaxis": {
            "backgroundcolor": "white",
            "gridcolor": "rgb(232,232,232)",
            "gridwidth": 2,
            "linecolor": "rgb(36,36,36)",
            "showbackground": true,
            "showgrid": false,
            "showline": true,
            "ticks": "outside",
            "zeroline": false,
            "zerolinecolor": "rgb(36,36,36)"
           },
           "zaxis": {
            "backgroundcolor": "white",
            "gridcolor": "rgb(232,232,232)",
            "gridwidth": 2,
            "linecolor": "rgb(36,36,36)",
            "showbackground": true,
            "showgrid": false,
            "showline": true,
            "ticks": "outside",
            "zeroline": false,
            "zerolinecolor": "rgb(36,36,36)"
           }
          },
          "shapedefaults": {
           "fillcolor": "black",
           "line": {
            "width": 0
           },
           "opacity": 0.3
          },
          "ternary": {
           "aaxis": {
            "gridcolor": "rgb(232,232,232)",
            "linecolor": "rgb(36,36,36)",
            "showgrid": false,
            "showline": true,
            "ticks": "outside"
           },
           "baxis": {
            "gridcolor": "rgb(232,232,232)",
            "linecolor": "rgb(36,36,36)",
            "showgrid": false,
            "showline": true,
            "ticks": "outside"
           },
           "bgcolor": "white",
           "caxis": {
            "gridcolor": "rgb(232,232,232)",
            "linecolor": "rgb(36,36,36)",
            "showgrid": false,
            "showline": true,
            "ticks": "outside"
           }
          },
          "title": {
           "x": 0.05
          },
          "xaxis": {
           "automargin": true,
           "gridcolor": "rgb(232,232,232)",
           "linecolor": "rgb(36,36,36)",
           "showgrid": false,
           "showline": true,
           "ticks": "outside",
           "title": {
            "standoff": 15
           },
           "zeroline": false,
           "zerolinecolor": "rgb(36,36,36)"
          },
          "yaxis": {
           "automargin": true,
           "gridcolor": "rgb(232,232,232)",
           "linecolor": "rgb(36,36,36)",
           "showgrid": false,
           "showline": true,
           "ticks": "outside",
           "title": {
            "standoff": 15
           },
           "zeroline": false,
           "zerolinecolor": "rgb(36,36,36)"
          }
         }
        }
       }
      }
     },
     "metadata": {},
     "output_type": "display_data"
    }
   ],
   "source": [
    "rotatron_params[\"radius\"] = 25\n",
    "env = make_environment(s)\n",
    "sol, eval = agent(env, **agent_params)\n",
    "final = auxiliary.apply_solution(sol, env, s.copy())\n",
    "final.show()"
   ]
  },
  {
   "cell_type": "code",
   "execution_count": 198,
   "metadata": {},
   "outputs": [],
   "source": [
    "final.to_pdb(\"final.pdb\")"
   ]
  },
  {
   "cell_type": "code",
   "execution_count": 199,
   "metadata": {},
   "outputs": [],
   "source": [
    "final_evals_norm = []\n",
    "initial_evals_norm = []\n",
    "\n",
    "for subset in df.groupby(\"structure\"):\n",
    "    subset = subset[1]\n",
    "    final_evals_norm.append(subset[\"final_eval\"] / subset[\"final_eval\"].max())\n",
    "    initial_evals_norm.append(subset[\"initial_eval\"] / subset[\"initial_eval\"].max())\n",
    "\n",
    "final_evals_norm = pd.concat(final_evals_norm)\n",
    "initial_evals_norm = pd.concat(initial_evals_norm)\n",
    "\n",
    "df[\"final_eval_norm\"] = final_evals_norm\n",
    "df[\"initial_eval_norm\"] = initial_evals_norm\n",
    "\n"
   ]
  },
  {
   "cell_type": "code",
   "execution_count": 200,
   "metadata": {},
   "outputs": [
    {
     "data": {
      "text/plain": [
       "<Axes: xlabel='radius', ylabel='final_eval_norm'>"
      ]
     },
     "execution_count": 200,
     "metadata": {},
     "output_type": "execute_result"
    },
    {
     "data": {
      "image/png": "[encoded data removed]",
      "text/plain": [
       "<Figure size 640x480 with 1 Axes>"
      ]
     },
     "metadata": {},
     "output_type": "display_data"
    }
   ],
   "source": [
    "sns.lineplot(data=df, x=\"radius\", y=\"final_eval_norm\", hue=\"structure\")"
   ]
  },
  {
   "cell_type": "code",
   "execution_count": null,
   "metadata": {},
   "outputs": [],
   "source": []
  }
 ],
 "metadata": {
  "kernelspec": {
   "display_name": "glyco2",
   "language": "python",
   "name": "python3"
  },
  "language_info": {
   "codemirror_mode": {
    "name": "ipython",
    "version": 3
   },
   "file_extension": ".py",
   "mimetype": "text/x-python",
   "name": "python",
   "nbconvert_exporter": "python",
   "pygments_lexer": "ipython3",
   "version": "3.11.2"
  },
  "orig_nbformat": 4
 },
 "nbformat": 4,
 "nbformat_minor": 2
}
