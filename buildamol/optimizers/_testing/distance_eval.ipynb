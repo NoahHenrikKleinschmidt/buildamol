{
 "cells": [
  {
   "cell_type": "markdown",
   "metadata": {},
   "source": [
    "This notebook template is designed for testing the performance of Rotatron environments and different solving agents of different scales."
   ]
  },
  {
   "cell_type": "code",
   "execution_count": 278,
   "metadata": {},
   "outputs": [],
   "source": [
    "# =============================================================================\n",
    "# Work on local biobuild in GIT repo\n",
    "# =============================================================================\n",
    "import os, sys, importlib\n",
    "\n",
    "# for inside python scripts\n",
    "# base = os.path.dirname(os.path.dirname(os.path.dirname(os.path.dirname(__file__))))\n",
    "base = os.path.dirname(os.path.dirname(os.getcwd()))\n",
    "sys.path.insert(0, base)\n",
    "\n",
    "def reload_optimizers():\n",
    "    importlib.reload(bam.optimizers.environments)\n",
    "    importlib.reload(bam.optimizers.agents)\n",
    "# =============================================================================\n",
    "import files\n",
    "import auxiliary\n",
    "import buildamol as bam\n",
    "import buildamol.optimizers.environments as envs\n",
    "import buildamol.optimizers.agents as agents\n",
    "from scipy.spatial.distance import cdist\n",
    "\n",
    "import matplotlib.pyplot as plt\n",
    "import seaborn as sns\n",
    "import plotly.graph_objects as go \n",
    "from collections import defaultdict\n",
    "\n",
    "import time\n",
    "import numpy as np\n",
    "import pandas as pd"
   ]
  },
  {
   "cell_type": "markdown",
   "metadata": {},
   "source": [
    "Here we can select which tests to run and on what testing structures:"
   ]
  },
  {
   "cell_type": "code",
   "execution_count": 279,
   "metadata": {},
   "outputs": [],
   "source": [
    "# which structures to run on\n",
    "structures_to_run_on = [\n",
    "    files.GLUCOSE2,\n",
    "    # files.PEPTIDE,\n",
    "    # files.X_WING,\n",
    "    # files.X_WING2,\n",
    "    # files.SCAFFOLD1,\n",
    "    # files.SCAFFOLD3,\n",
    "]\n",
    "\n",
    "# how many times to independently run on each structure\n",
    "re_runs = 1\n",
    "\n",
    "# visualize evaluation history\n",
    "visualize_eval_history = True\n",
    "\n",
    "# visualize time history\n",
    "visualize_time_history = True\n",
    "\n",
    "# visualise clashes in final structure\n",
    "visualize_clashes = True\n",
    "\n",
    "# clash threshold\n",
    "clash_cutoff = 0.8\n",
    "\n",
    "# visualize the final structure\n",
    "visualize_final_structure = False\n",
    "\n",
    "# visualization parameters\n",
    "# for draw_edges()\n",
    "visualization_params = dict(color=\"magenta\", opacity=0.3)\n",
    "\n",
    "# export visualization to html\n",
    "export_visualization = False\n",
    "\n",
    "# export solutions as PDB\n",
    "export_pdb = True\n",
    "\n",
    "# export history to csv\n",
    "export_history = True\n",
    "\n",
    "# export name prefix\n",
    "export_name_prefix = None\n",
    "\n",
    "# graph building function\n",
    "# provide a custom callable that generates a tuple of (graph, rotatable_edges)\n",
    "def make_graph(structure:bam.Molecule):\n",
    "    graph = structure.get_atom_graph()\n",
    "    # graph = structure.make_residue_graph()\n",
    "    # graph.make_detailed(n_samples=0.5)\n",
    "    edges = graph.find_rotatable_edges(min_descendants=20, min_ancestors=20)\n",
    "    edges = graph.direct_edges(root_node=structure.get_atom(\"Cl1\"), edges=edges, adopt=True)\n",
    "    return graph, edges\n",
    "\n",
    "graph_factory = make_graph\n",
    "\n",
    "# graph building parameters\n",
    "graph_params = {}\n",
    "\n",
    "# provide a custom callable to set a custom building function for the environment\n",
    "rotatron_factory = None\n",
    "\n",
    "# the rotatron class to use\n",
    "rotatron_class = envs.DistanceRotatron\n",
    "\n",
    "# rotatron parameters\n",
    "rotatron_params = {\"pushback\": 4, \"radius\": -1}\n",
    "\n",
    "# the agent function to use\n",
    "# agent = agents.nelder_mead_optimize\n",
    "# agent_params = {}\n",
    "agent = agents.swarm_optimize\n",
    "agent_params = {\"max_steps\":10, \"n_particles\":10, \"variation\" : 0.2}#{\"bounds\":(-np.pi/2, np.pi/2)}\n",
    "\n",
    "# agent = agents.newton_like_optimize\n",
    "\n",
    "# # agent parameters\n",
    "# agent_params = {\"max_steps\" : 300}   \n"
   ]
  },
  {
   "cell_type": "markdown",
   "metadata": {},
   "source": [
    "Perform some environment setup"
   ]
  },
  {
   "cell_type": "code",
   "execution_count": 280,
   "metadata": {},
   "outputs": [],
   "source": [
    "if agent is None:\n",
    "    raise ValueError(\"No agent provided\")\n",
    "if rotatron_class is None:\n",
    "    raise ValueError(\"No rotatron class provided\")\n",
    "    \n",
    "if graph_factory is None:\n",
    "    graph_factory = auxiliary.graph_factory\n",
    "if rotatron_factory is None:\n",
    "    rotatron_factory = auxiliary.rotatron_factory\n",
    "\n",
    "available_structures = {}\n",
    "\n",
    "eval_history = defaultdict(list)\n",
    "time_history = defaultdict(list)\n",
    "clash_history = defaultdict(list)\n",
    "final_visuals = {}\n",
    "initial_evals = {}\n",
    "initial_clashes = {}\n",
    "v = None\n",
    "\n",
    "if not export_name_prefix:\n",
    "    export_name_prefix = rotatron_class.__name__ + \".\" + agent.__name__\n",
    "\n",
    "def make_environment(structure):\n",
    "    \"\"\"\n",
    "    An environment generator\n",
    "    \"\"\"\n",
    "    graph, rotatable_edges = graph_factory(structure, **graph_params)\n",
    "    return rotatron_factory(rotatron_class, graph, rotatable_edges, **rotatron_params)\n"
   ]
  },
  {
   "cell_type": "markdown",
   "metadata": {},
   "source": [
    "Now start the main testing code"
   ]
  },
  {
   "cell_type": "code",
   "execution_count": 281,
   "metadata": {},
   "outputs": [],
   "source": [
    "structure = bam.molecule(structures_to_run_on[0])"
   ]
  },
  {
   "cell_type": "code",
   "execution_count": 282,
   "metadata": {},
   "outputs": [
    {
     "data": {
      "application/vnd.plotly.v1+json": {
       "config": {
        "plotlyServerURL": "https://plot.ly"
       },
       "data": [
        {
         "customdata": [
          [
           "C1",
           1,
           1,
           "GLC",
           "A"
          ],
          [
           "C2",
           2,
           1,
           "GLC",
           "A"
          ],
          [
           "C3",
           3,
           1,
           "GLC",
           "A"
          ],
          [
           "C4",
           4,
           1,
           "GLC",
           "A"
          ],
          [
           "C5",
           5,
           1,
           "GLC",
           "A"
          ],
          [
           "C6",
           6,
           1,
           "GLC",
           "A"
          ],
          [
           "C1",
           24,
           2,
           "GLC",
           "A"
          ],
          [
           "C2",
           25,
           2,
           "GLC",
           "A"
          ],
          [
           "C3",
           26,
           2,
           "GLC",
           "A"
          ],
          [
           "C4",
           27,
           2,
           "GLC",
           "A"
          ],
          [
           "C5",
           28,
           2,
           "GLC",
           "A"
          ],
          [
           "C6",
           29,
           2,
           "GLC",
           "A"
          ]
         ],
         "hovertemplate": "atom_element=C<br>x=%{x}<br>y=%{y}<br>z=%{z}<br>atom_id=%{customdata[0]}<br>atom_serial=%{customdata[1]}<br>residue_serial=%{customdata[2]}<br>residue_name=%{customdata[3]}<br>chain_id=%{customdata[4]}<extra></extra>",
         "legendgroup": "C",
         "marker": {
          "color": "black",
          "opacity": 0.3,
          "symbol": "circle"
         },
         "mode": "markers",
         "name": "C",
         "scene": "scene",
         "showlegend": true,
         "type": "scatter3d",
         "x": [
          -0.567,
          -1.578,
          -1.179,
          0.249,
          1.189,
          2.607,
          0.28739188564117746,
          1.2559386060123703,
          1.1570660030481243,
          -0.29740648858149865,
          -1.1858924768459764,
          -2.647408038237177
         ],
         "y": [
          1.572,
          0.465,
          -0.806,
          -1.195,
          -0.024,
          -0.383,
          -3.6208883690602627,
          -4.663870478759195,
          -4.589006846706296,
          -4.807457819063277,
          -3.769332512623271,
          -4.018348029596454
         ],
         "z": [
          -0.245,
          -0.554,
          0.203,
          -0.192,
          0.102,
          -0.345,
          0.1753436951227908,
          0.7414857349910289,
          2.305397975995566,
          2.733555591563719,
          2.0449588323595087,
          2.4209608750639897
         ]
        },
        {
         "customdata": [
          [
           "O1",
           7,
           1,
           "GLC",
           "A"
          ],
          [
           "O2",
           8,
           1,
           "GLC",
           "A"
          ],
          [
           "O3",
           9,
           1,
           "GLC",
           "A"
          ],
          [
           "O4",
           10,
           1,
           "GLC",
           "A"
          ],
          [
           "O5",
           11,
           1,
           "GLC",
           "A"
          ],
          [
           "O6",
           12,
           1,
           "GLC",
           "A"
          ],
          [
           "O2",
           30,
           2,
           "GLC",
           "A"
          ],
          [
           "O3",
           31,
           2,
           "GLC",
           "A"
          ],
          [
           "O4",
           32,
           2,
           "GLC",
           "A"
          ],
          [
           "O5",
           33,
           2,
           "GLC",
           "A"
          ],
          [
           "O6",
           34,
           2,
           "GLC",
           "A"
          ]
         ],
         "hovertemplate": "atom_element=O<br>x=%{x}<br>y=%{y}<br>z=%{z}<br>atom_id=%{customdata[0]}<br>atom_serial=%{customdata[1]}<br>residue_serial=%{customdata[2]}<br>residue_name=%{customdata[3]}<br>chain_id=%{customdata[4]}<extra></extra>",
         "legendgroup": "O",
         "marker": {
          "color": "red",
          "opacity": 0.3,
          "symbol": "circle"
         },
         "mode": "markers",
         "name": "O",
         "scene": "scene",
         "showlegend": true,
         "type": "scatter3d",
         "x": [
          -0.6,
          -2.881,
          -2.075,
          0.658,
          0.744,
          3.506,
          2.584417832020553,
          1.9835288192554574,
          -0.4041065690148238,
          -1.0628112560443825,
          -3.4644008318025263
         ],
         "y": [
          1.871,
          0.879,
          -1.866,
          -2.338,
          1.133,
          0.661,
          -4.393915543695059,
          -5.600259833840452,
          -4.663750054777857,
          -3.8695211038482062,
          -2.9810330966830554
         ],
         "z": [
          1.151,
          -0.139,
          -0.137,
          0.562,
          -0.608,
          0.035,
          0.3617932991596511,
          2.8853484992636242,
          4.1513740465570255,
          0.6324456961841649,
          1.8741176569318108
         ]
        },
        {
         "customdata": [
          [
           "H1",
           13,
           1,
           "GLC",
           "A"
          ],
          [
           "H2",
           14,
           1,
           "GLC",
           "A"
          ],
          [
           "H3",
           15,
           1,
           "GLC",
           "A"
          ],
          [
           "H4",
           16,
           1,
           "GLC",
           "A"
          ],
          [
           "H5",
           17,
           1,
           "GLC",
           "A"
          ],
          [
           "H61",
           18,
           1,
           "GLC",
           "A"
          ],
          [
           "H62",
           19,
           1,
           "GLC",
           "A"
          ],
          [
           "HO1",
           20,
           1,
           "GLC",
           "A"
          ],
          [
           "HO2",
           21,
           1,
           "GLC",
           "A"
          ],
          [
           "HO3",
           22,
           1,
           "GLC",
           "A"
          ],
          [
           "HO6",
           23,
           1,
           "GLC",
           "A"
          ],
          [
           "H1",
           35,
           2,
           "GLC",
           "A"
          ],
          [
           "H2",
           36,
           2,
           "GLC",
           "A"
          ],
          [
           "H3",
           37,
           2,
           "GLC",
           "A"
          ],
          [
           "H4",
           38,
           2,
           "GLC",
           "A"
          ],
          [
           "H5",
           39,
           2,
           "GLC",
           "A"
          ],
          [
           "H61",
           40,
           2,
           "GLC",
           "A"
          ],
          [
           "H62",
           41,
           2,
           "GLC",
           "A"
          ],
          [
           "HO2",
           42,
           2,
           "GLC",
           "A"
          ],
          [
           "HO3",
           43,
           2,
           "GLC",
           "A"
          ],
          [
           "HO4",
           44,
           2,
           "GLC",
           "A"
          ],
          [
           "HO6",
           45,
           2,
           "GLC",
           "A"
          ]
         ],
         "hovertemplate": "atom_element=H<br>x=%{x}<br>y=%{y}<br>z=%{z}<br>atom_id=%{customdata[0]}<br>atom_serial=%{customdata[1]}<br>residue_serial=%{customdata[2]}<br>residue_name=%{customdata[3]}<br>chain_id=%{customdata[4]}<extra></extra>",
         "legendgroup": "H",
         "marker": {
          "color": "lightgray",
          "opacity": 0.3,
          "symbol": "circle"
         },
         "mode": "markers",
         "name": "H",
         "scene": "scene",
         "showlegend": true,
         "type": "scatter3d",
         "x": [
          -0.822,
          -1.583,
          -1.223,
          0.281,
          1.187,
          2.913,
          2.627,
          0.017,
          -3.197,
          -3,
          4.425,
          0.353176357329021,
          0.958439697141797,
          1.4920919017610776,
          -0.6157721474455999,
          -0.89292267979314,
          -2.7480569164925552,
          -2.9664507074949316,
          2.7131149658157034,
          2.918976473041921,
          0.13786593422464422,
          -4.405683876250526
         ],
         "y": [
          2.466,
          0.264,
          -0.619,
          -1.429,
          0.184,
          -1.315,
          -0.503,
          2.566,
          1.682,
          -1.684,
          0.501,
          -3.74292022034265,
          -5.667871141059261,
          -3.6065463039192296,
          -5.80947075470068,
          -2.7689192168402634,
          -4.0249179180712655,
          -4.980623508359484,
          -4.423479131905306,
          -5.526501691449328,
          -5.28922167868464,
          -3.0751327441705563
         ],
         "z": [
          -0.815,
          -1.626,
          1.276,
          -1.257,
          1.173,
          0.129,
          -1.428,
          1.42,
          -0.576,
          0.08,
          -0.218,
          -0.8994522485601693,
          0.4479921439350847,
          2.638208626453334,
          2.4426631989658003,
          2.3669074860846027,
          3.5057477849552208,
          2.021052537861238,
          -0.5964326877583873,
          2.6501136730656056,
          4.652185441614844,
          2.0723636823079397
         ]
        },
        {
         "hoverinfo": "skip",
         "line": {
          "color": "black",
          "width": 1
         },
         "mode": "lines",
         "showlegend": false,
         "type": "scatter3d",
         "x": [
          -0.567,
          -1.578
         ],
         "y": [
          1.572,
          0.465
         ],
         "z": [
          -0.245,
          -0.554
         ]
        },
        {
         "hoverinfo": "skip",
         "line": {
          "color": "black",
          "width": 1
         },
         "mode": "lines",
         "showlegend": false,
         "type": "scatter3d",
         "x": [
          -0.567,
          -0.6
         ],
         "y": [
          1.572,
          1.871
         ],
         "z": [
          -0.245,
          1.151
         ]
        },
        {
         "hoverinfo": "skip",
         "line": {
          "color": "black",
          "width": 1
         },
         "mode": "lines",
         "showlegend": false,
         "type": "scatter3d",
         "x": [
          -0.567,
          0.744
         ],
         "y": [
          1.572,
          1.133
         ],
         "z": [
          -0.245,
          -0.608
         ]
        },
        {
         "hoverinfo": "skip",
         "line": {
          "color": "black",
          "width": 1
         },
         "mode": "lines",
         "showlegend": false,
         "type": "scatter3d",
         "x": [
          -0.567,
          -0.822
         ],
         "y": [
          1.572,
          2.466
         ],
         "z": [
          -0.245,
          -0.815
         ]
        },
        {
         "hoverinfo": "skip",
         "line": {
          "color": "black",
          "width": 1
         },
         "mode": "lines",
         "showlegend": false,
         "type": "scatter3d",
         "x": [
          -1.578,
          -1.179
         ],
         "y": [
          0.465,
          -0.806
         ],
         "z": [
          -0.554,
          0.203
         ]
        },
        {
         "hoverinfo": "skip",
         "line": {
          "color": "black",
          "width": 1
         },
         "mode": "lines",
         "showlegend": false,
         "type": "scatter3d",
         "x": [
          -1.578,
          -2.881
         ],
         "y": [
          0.465,
          0.879
         ],
         "z": [
          -0.554,
          -0.139
         ]
        },
        {
         "hoverinfo": "skip",
         "line": {
          "color": "black",
          "width": 1
         },
         "mode": "lines",
         "showlegend": false,
         "type": "scatter3d",
         "x": [
          -1.578,
          -1.583
         ],
         "y": [
          0.465,
          0.264
         ],
         "z": [
          -0.554,
          -1.626
         ]
        },
        {
         "hoverinfo": "skip",
         "line": {
          "color": "black",
          "width": 1
         },
         "mode": "lines",
         "showlegend": false,
         "type": "scatter3d",
         "x": [
          -1.179,
          0.249
         ],
         "y": [
          -0.806,
          -1.195
         ],
         "z": [
          0.203,
          -0.192
         ]
        },
        {
         "hoverinfo": "skip",
         "line": {
          "color": "black",
          "width": 1
         },
         "mode": "lines",
         "showlegend": false,
         "type": "scatter3d",
         "x": [
          -1.179,
          -2.075
         ],
         "y": [
          -0.806,
          -1.866
         ],
         "z": [
          0.203,
          -0.137
         ]
        },
        {
         "hoverinfo": "skip",
         "line": {
          "color": "black",
          "width": 1
         },
         "mode": "lines",
         "showlegend": false,
         "type": "scatter3d",
         "x": [
          -1.179,
          -1.223
         ],
         "y": [
          -0.806,
          -0.619
         ],
         "z": [
          0.203,
          1.276
         ]
        },
        {
         "hoverinfo": "skip",
         "line": {
          "color": "black",
          "width": 1
         },
         "mode": "lines",
         "showlegend": false,
         "type": "scatter3d",
         "x": [
          0.249,
          1.189
         ],
         "y": [
          -1.195,
          -0.024
         ],
         "z": [
          -0.192,
          0.102
         ]
        },
        {
         "hoverinfo": "skip",
         "line": {
          "color": "black",
          "width": 1
         },
         "mode": "lines",
         "showlegend": false,
         "type": "scatter3d",
         "x": [
          0.249,
          0.658
         ],
         "y": [
          -1.195,
          -2.338
         ],
         "z": [
          -0.192,
          0.562
         ]
        },
        {
         "hoverinfo": "skip",
         "line": {
          "color": "black",
          "width": 1
         },
         "mode": "lines",
         "showlegend": false,
         "type": "scatter3d",
         "x": [
          0.249,
          0.281
         ],
         "y": [
          -1.195,
          -1.429
         ],
         "z": [
          -0.192,
          -1.257
         ]
        },
        {
         "hoverinfo": "skip",
         "line": {
          "color": "black",
          "width": 1
         },
         "mode": "lines",
         "showlegend": false,
         "type": "scatter3d",
         "x": [
          1.189,
          2.607
         ],
         "y": [
          -0.024,
          -0.383
         ],
         "z": [
          0.102,
          -0.345
         ]
        },
        {
         "hoverinfo": "skip",
         "line": {
          "color": "black",
          "width": 1
         },
         "mode": "lines",
         "showlegend": false,
         "type": "scatter3d",
         "x": [
          1.189,
          0.744
         ],
         "y": [
          -0.024,
          1.133
         ],
         "z": [
          0.102,
          -0.608
         ]
        },
        {
         "hoverinfo": "skip",
         "line": {
          "color": "black",
          "width": 1
         },
         "mode": "lines",
         "showlegend": false,
         "type": "scatter3d",
         "x": [
          1.189,
          1.187
         ],
         "y": [
          -0.024,
          0.184
         ],
         "z": [
          0.102,
          1.173
         ]
        },
        {
         "hoverinfo": "skip",
         "line": {
          "color": "black",
          "width": 1
         },
         "mode": "lines",
         "showlegend": false,
         "type": "scatter3d",
         "x": [
          2.607,
          3.506
         ],
         "y": [
          -0.383,
          0.661
         ],
         "z": [
          -0.345,
          0.035
         ]
        },
        {
         "hoverinfo": "skip",
         "line": {
          "color": "black",
          "width": 1
         },
         "mode": "lines",
         "showlegend": false,
         "type": "scatter3d",
         "x": [
          2.607,
          2.913
         ],
         "y": [
          -0.383,
          -1.315
         ],
         "z": [
          -0.345,
          0.129
         ]
        },
        {
         "hoverinfo": "skip",
         "line": {
          "color": "black",
          "width": 1
         },
         "mode": "lines",
         "showlegend": false,
         "type": "scatter3d",
         "x": [
          2.607,
          2.627
         ],
         "y": [
          -0.383,
          -0.503
         ],
         "z": [
          -0.345,
          -1.428
         ]
        },
        {
         "hoverinfo": "skip",
         "line": {
          "color": "black",
          "width": 1
         },
         "mode": "lines",
         "showlegend": false,
         "type": "scatter3d",
         "x": [
          -0.6,
          0.017
         ],
         "y": [
          1.871,
          2.566
         ],
         "z": [
          1.151,
          1.42
         ]
        },
        {
         "hoverinfo": "skip",
         "line": {
          "color": "black",
          "width": 1
         },
         "mode": "lines",
         "showlegend": false,
         "type": "scatter3d",
         "x": [
          -2.881,
          -3.197
         ],
         "y": [
          0.879,
          1.682
         ],
         "z": [
          -0.139,
          -0.576
         ]
        },
        {
         "hoverinfo": "skip",
         "line": {
          "color": "black",
          "width": 1
         },
         "mode": "lines",
         "showlegend": false,
         "type": "scatter3d",
         "x": [
          -2.075,
          -3
         ],
         "y": [
          -1.866,
          -1.684
         ],
         "z": [
          -0.137,
          0.08
         ]
        },
        {
         "hoverinfo": "skip",
         "line": {
          "color": "black",
          "width": 1
         },
         "mode": "lines",
         "showlegend": false,
         "type": "scatter3d",
         "x": [
          0.658,
          0.28739188564117746
         ],
         "y": [
          -2.338,
          -3.6208883690602627
         ],
         "z": [
          0.562,
          0.1753436951227908
         ]
        },
        {
         "hoverinfo": "skip",
         "line": {
          "color": "black",
          "width": 1
         },
         "mode": "lines",
         "showlegend": false,
         "type": "scatter3d",
         "x": [
          3.506,
          4.425
         ],
         "y": [
          0.661,
          0.501
         ],
         "z": [
          0.035,
          -0.218
         ]
        },
        {
         "hoverinfo": "skip",
         "line": {
          "color": "black",
          "width": 1
         },
         "mode": "lines",
         "showlegend": false,
         "type": "scatter3d",
         "x": [
          0.28739188564117746,
          1.2559386060123703
         ],
         "y": [
          -3.6208883690602627,
          -4.663870478759195
         ],
         "z": [
          0.1753436951227908,
          0.7414857349910289
         ]
        },
        {
         "hoverinfo": "skip",
         "line": {
          "color": "black",
          "width": 1
         },
         "mode": "lines",
         "showlegend": false,
         "type": "scatter3d",
         "x": [
          0.28739188564117746,
          -1.0628112560443825
         ],
         "y": [
          -3.6208883690602627,
          -3.8695211038482062
         ],
         "z": [
          0.1753436951227908,
          0.6324456961841649
         ]
        },
        {
         "hoverinfo": "skip",
         "line": {
          "color": "black",
          "width": 1
         },
         "mode": "lines",
         "showlegend": false,
         "type": "scatter3d",
         "x": [
          0.28739188564117746,
          0.353176357329021
         ],
         "y": [
          -3.6208883690602627,
          -3.74292022034265
         ],
         "z": [
          0.1753436951227908,
          -0.8994522485601693
         ]
        },
        {
         "hoverinfo": "skip",
         "line": {
          "color": "black",
          "width": 1
         },
         "mode": "lines",
         "showlegend": false,
         "type": "scatter3d",
         "x": [
          1.2559386060123703,
          1.1570660030481243
         ],
         "y": [
          -4.663870478759195,
          -4.589006846706296
         ],
         "z": [
          0.7414857349910289,
          2.305397975995566
         ]
        },
        {
         "hoverinfo": "skip",
         "line": {
          "color": "black",
          "width": 1
         },
         "mode": "lines",
         "showlegend": false,
         "type": "scatter3d",
         "x": [
          1.2559386060123703,
          2.584417832020553
         ],
         "y": [
          -4.663870478759195,
          -4.393915543695059
         ],
         "z": [
          0.7414857349910289,
          0.3617932991596511
         ]
        },
        {
         "hoverinfo": "skip",
         "line": {
          "color": "black",
          "width": 1
         },
         "mode": "lines",
         "showlegend": false,
         "type": "scatter3d",
         "x": [
          1.2559386060123703,
          0.958439697141797
         ],
         "y": [
          -4.663870478759195,
          -5.667871141059261
         ],
         "z": [
          0.7414857349910289,
          0.4479921439350847
         ]
        },
        {
         "hoverinfo": "skip",
         "line": {
          "color": "black",
          "width": 1
         },
         "mode": "lines",
         "showlegend": false,
         "type": "scatter3d",
         "x": [
          1.1570660030481243,
          -0.29740648858149865
         ],
         "y": [
          -4.589006846706296,
          -4.807457819063277
         ],
         "z": [
          2.305397975995566,
          2.733555591563719
         ]
        },
        {
         "hoverinfo": "skip",
         "line": {
          "color": "black",
          "width": 1
         },
         "mode": "lines",
         "showlegend": false,
         "type": "scatter3d",
         "x": [
          1.1570660030481243,
          1.9835288192554574
         ],
         "y": [
          -4.589006846706296,
          -5.600259833840452
         ],
         "z": [
          2.305397975995566,
          2.8853484992636242
         ]
        },
        {
         "hoverinfo": "skip",
         "line": {
          "color": "black",
          "width": 1
         },
         "mode": "lines",
         "showlegend": false,
         "type": "scatter3d",
         "x": [
          1.1570660030481243,
          1.4920919017610776
         ],
         "y": [
          -4.589006846706296,
          -3.6065463039192296
         ],
         "z": [
          2.305397975995566,
          2.638208626453334
         ]
        },
        {
         "hoverinfo": "skip",
         "line": {
          "color": "black",
          "width": 1
         },
         "mode": "lines",
         "showlegend": false,
         "type": "scatter3d",
         "x": [
          -0.29740648858149865,
          -1.1858924768459764
         ],
         "y": [
          -4.807457819063277,
          -3.769332512623271
         ],
         "z": [
          2.733555591563719,
          2.0449588323595087
         ]
        },
        {
         "hoverinfo": "skip",
         "line": {
          "color": "black",
          "width": 1
         },
         "mode": "lines",
         "showlegend": false,
         "type": "scatter3d",
         "x": [
          -0.29740648858149865,
          -0.4041065690148238
         ],
         "y": [
          -4.807457819063277,
          -4.663750054777857
         ],
         "z": [
          2.733555591563719,
          4.1513740465570255
         ]
        },
        {
         "hoverinfo": "skip",
         "line": {
          "color": "black",
          "width": 1
         },
         "mode": "lines",
         "showlegend": false,
         "type": "scatter3d",
         "x": [
          -0.29740648858149865,
          -0.6157721474455999
         ],
         "y": [
          -4.807457819063277,
          -5.80947075470068
         ],
         "z": [
          2.733555591563719,
          2.4426631989658003
         ]
        },
        {
         "hoverinfo": "skip",
         "line": {
          "color": "black",
          "width": 1
         },
         "mode": "lines",
         "showlegend": false,
         "type": "scatter3d",
         "x": [
          -1.1858924768459764,
          -2.647408038237177
         ],
         "y": [
          -3.769332512623271,
          -4.018348029596454
         ],
         "z": [
          2.0449588323595087,
          2.4209608750639897
         ]
        },
        {
         "hoverinfo": "skip",
         "line": {
          "color": "black",
          "width": 1
         },
         "mode": "lines",
         "showlegend": false,
         "type": "scatter3d",
         "x": [
          -1.1858924768459764,
          -1.0628112560443825
         ],
         "y": [
          -3.769332512623271,
          -3.8695211038482062
         ],
         "z": [
          2.0449588323595087,
          0.6324456961841649
         ]
        },
        {
         "hoverinfo": "skip",
         "line": {
          "color": "black",
          "width": 1
         },
         "mode": "lines",
         "showlegend": false,
         "type": "scatter3d",
         "x": [
          -1.1858924768459764,
          -0.89292267979314
         ],
         "y": [
          -3.769332512623271,
          -2.7689192168402634
         ],
         "z": [
          2.0449588323595087,
          2.3669074860846027
         ]
        },
        {
         "hoverinfo": "skip",
         "line": {
          "color": "black",
          "width": 1
         },
         "mode": "lines",
         "showlegend": false,
         "type": "scatter3d",
         "x": [
          -2.647408038237177,
          -3.4644008318025263
         ],
         "y": [
          -4.018348029596454,
          -2.9810330966830554
         ],
         "z": [
          2.4209608750639897,
          1.8741176569318108
         ]
        },
        {
         "hoverinfo": "skip",
         "line": {
          "color": "black",
          "width": 1
         },
         "mode": "lines",
         "showlegend": false,
         "type": "scatter3d",
         "x": [
          -2.647408038237177,
          -2.7480569164925552
         ],
         "y": [
          -4.018348029596454,
          -4.0249179180712655
         ],
         "z": [
          2.4209608750639897,
          3.5057477849552208
         ]
        },
        {
         "hoverinfo": "skip",
         "line": {
          "color": "black",
          "width": 1
         },
         "mode": "lines",
         "showlegend": false,
         "type": "scatter3d",
         "x": [
          -2.647408038237177,
          -2.9664507074949316
         ],
         "y": [
          -4.018348029596454,
          -4.980623508359484
         ],
         "z": [
          2.4209608750639897,
          2.021052537861238
         ]
        },
        {
         "hoverinfo": "skip",
         "line": {
          "color": "black",
          "width": 1
         },
         "mode": "lines",
         "showlegend": false,
         "type": "scatter3d",
         "x": [
          2.584417832020553,
          2.7131149658157034
         ],
         "y": [
          -4.393915543695059,
          -4.423479131905306
         ],
         "z": [
          0.3617932991596511,
          -0.5964326877583873
         ]
        },
        {
         "hoverinfo": "skip",
         "line": {
          "color": "black",
          "width": 1
         },
         "mode": "lines",
         "showlegend": false,
         "type": "scatter3d",
         "x": [
          1.9835288192554574,
          2.918976473041921
         ],
         "y": [
          -5.600259833840452,
          -5.526501691449328
         ],
         "z": [
          2.8853484992636242,
          2.6501136730656056
         ]
        },
        {
         "hoverinfo": "skip",
         "line": {
          "color": "black",
          "width": 1
         },
         "mode": "lines",
         "showlegend": false,
         "type": "scatter3d",
         "x": [
          -0.4041065690148238,
          0.13786593422464422
         ],
         "y": [
          -4.663750054777857,
          -5.28922167868464
         ],
         "z": [
          4.1513740465570255,
          4.652185441614844
         ]
        },
        {
         "hoverinfo": "skip",
         "line": {
          "color": "black",
          "width": 1
         },
         "mode": "lines",
         "showlegend": false,
         "type": "scatter3d",
         "x": [
          -3.4644008318025263,
          -4.405683876250526
         ],
         "y": [
          -2.9810330966830554,
          -3.0751327441705563
         ],
         "z": [
          1.8741176569318108,
          2.0723636823079397
         ]
        }
       ],
       "layout": {
        "scene": {
         "xaxis": {
          "showgrid": false,
          "showline": false,
          "showticklabels": false
         },
         "yaxis": {
          "showgrid": false,
          "showline": false,
          "showticklabels": false
         },
         "zaxis": {
          "showgrid": false,
          "showline": false,
          "showticklabels": false
         }
        },
        "template": {
         "data": {
          "bar": [
           {
            "error_x": {
             "color": "rgb(36,36,36)"
            },
            "error_y": {
             "color": "rgb(36,36,36)"
            },
            "marker": {
             "line": {
              "color": "white",
              "width": 0.5
             },
             "pattern": {
              "fillmode": "overlay",
              "size": 10,
              "solidity": 0.2
             }
            },
            "type": "bar"
           }
          ],
          "barpolar": [
           {
            "marker": {
             "line": {
              "color": "white",
              "width": 0.5
             },
             "pattern": {
              "fillmode": "overlay",
              "size": 10,
              "solidity": 0.2
             }
            },
            "type": "barpolar"
           }
          ],
          "carpet": [
           {
            "aaxis": {
             "endlinecolor": "rgb(36,36,36)",
             "gridcolor": "white",
             "linecolor": "white",
             "minorgridcolor": "white",
             "startlinecolor": "rgb(36,36,36)"
            },
            "baxis": {
             "endlinecolor": "rgb(36,36,36)",
             "gridcolor": "white",
             "linecolor": "white",
             "minorgridcolor": "white",
             "startlinecolor": "rgb(36,36,36)"
            },
            "type": "carpet"
           }
          ],
          "choropleth": [
           {
            "colorbar": {
             "outlinewidth": 1,
             "tickcolor": "rgb(36,36,36)",
             "ticks": "outside"
            },
            "type": "choropleth"
           }
          ],
          "contour": [
           {
            "colorbar": {
             "outlinewidth": 1,
             "tickcolor": "rgb(36,36,36)",
             "ticks": "outside"
            },
            "colorscale": [
             [
              0,
              "#440154"
             ],
             [
              0.1111111111111111,
              "#482878"
             ],
             [
              0.2222222222222222,
              "#3e4989"
             ],
             [
              0.3333333333333333,
              "#31688e"
             ],
             [
              0.4444444444444444,
              "#26828e"
             ],
             [
              0.5555555555555556,
              "#1f9e89"
             ],
             [
              0.6666666666666666,
              "#35b779"
             ],
             [
              0.7777777777777778,
              "#6ece58"
             ],
             [
              0.8888888888888888,
              "#b5de2b"
             ],
             [
              1,
              "#fde725"
             ]
            ],
            "type": "contour"
           }
          ],
          "contourcarpet": [
           {
            "colorbar": {
             "outlinewidth": 1,
             "tickcolor": "rgb(36,36,36)",
             "ticks": "outside"
            },
            "type": "contourcarpet"
           }
          ],
          "heatmap": [
           {
            "colorbar": {
             "outlinewidth": 1,
             "tickcolor": "rgb(36,36,36)",
             "ticks": "outside"
            },
            "colorscale": [
             [
              0,
              "#440154"
             ],
             [
              0.1111111111111111,
              "#482878"
             ],
             [
              0.2222222222222222,
              "#3e4989"
             ],
             [
              0.3333333333333333,
              "#31688e"
             ],
             [
              0.4444444444444444,
              "#26828e"
             ],
             [
              0.5555555555555556,
              "#1f9e89"
             ],
             [
              0.6666666666666666,
              "#35b779"
             ],
             [
              0.7777777777777778,
              "#6ece58"
             ],
             [
              0.8888888888888888,
              "#b5de2b"
             ],
             [
              1,
              "#fde725"
             ]
            ],
            "type": "heatmap"
           }
          ],
          "heatmapgl": [
           {
            "colorbar": {
             "outlinewidth": 1,
             "tickcolor": "rgb(36,36,36)",
             "ticks": "outside"
            },
            "colorscale": [
             [
              0,
              "#440154"
             ],
             [
              0.1111111111111111,
              "#482878"
             ],
             [
              0.2222222222222222,
              "#3e4989"
             ],
             [
              0.3333333333333333,
              "#31688e"
             ],
             [
              0.4444444444444444,
              "#26828e"
             ],
             [
              0.5555555555555556,
              "#1f9e89"
             ],
             [
              0.6666666666666666,
              "#35b779"
             ],
             [
              0.7777777777777778,
              "#6ece58"
             ],
             [
              0.8888888888888888,
              "#b5de2b"
             ],
             [
              1,
              "#fde725"
             ]
            ],
            "type": "heatmapgl"
           }
          ],
          "histogram": [
           {
            "marker": {
             "line": {
              "color": "white",
              "width": 0.6
             }
            },
            "type": "histogram"
           }
          ],
          "histogram2d": [
           {
            "colorbar": {
             "outlinewidth": 1,
             "tickcolor": "rgb(36,36,36)",
             "ticks": "outside"
            },
            "colorscale": [
             [
              0,
              "#440154"
             ],
             [
              0.1111111111111111,
              "#482878"
             ],
             [
              0.2222222222222222,
              "#3e4989"
             ],
             [
              0.3333333333333333,
              "#31688e"
             ],
             [
              0.4444444444444444,
              "#26828e"
             ],
             [
              0.5555555555555556,
              "#1f9e89"
             ],
             [
              0.6666666666666666,
              "#35b779"
             ],
             [
              0.7777777777777778,
              "#6ece58"
             ],
             [
              0.8888888888888888,
              "#b5de2b"
             ],
             [
              1,
              "#fde725"
             ]
            ],
            "type": "histogram2d"
           }
          ],
          "histogram2dcontour": [
           {
            "colorbar": {
             "outlinewidth": 1,
             "tickcolor": "rgb(36,36,36)",
             "ticks": "outside"
            },
            "colorscale": [
             [
              0,
              "#440154"
             ],
             [
              0.1111111111111111,
              "#482878"
             ],
             [
              0.2222222222222222,
              "#3e4989"
             ],
             [
              0.3333333333333333,
              "#31688e"
             ],
             [
              0.4444444444444444,
              "#26828e"
             ],
             [
              0.5555555555555556,
              "#1f9e89"
             ],
             [
              0.6666666666666666,
              "#35b779"
             ],
             [
              0.7777777777777778,
              "#6ece58"
             ],
             [
              0.8888888888888888,
              "#b5de2b"
             ],
             [
              1,
              "#fde725"
             ]
            ],
            "type": "histogram2dcontour"
           }
          ],
          "mesh3d": [
           {
            "colorbar": {
             "outlinewidth": 1,
             "tickcolor": "rgb(36,36,36)",
             "ticks": "outside"
            },
            "type": "mesh3d"
           }
          ],
          "parcoords": [
           {
            "line": {
             "colorbar": {
              "outlinewidth": 1,
              "tickcolor": "rgb(36,36,36)",
              "ticks": "outside"
             }
            },
            "type": "parcoords"
           }
          ],
          "pie": [
           {
            "automargin": true,
            "type": "pie"
           }
          ],
          "scatter": [
           {
            "fillpattern": {
             "fillmode": "overlay",
             "size": 10,
             "solidity": 0.2
            },
            "type": "scatter"
           }
          ],
          "scatter3d": [
           {
            "line": {
             "colorbar": {
              "outlinewidth": 1,
              "tickcolor": "rgb(36,36,36)",
              "ticks": "outside"
             }
            },
            "marker": {
             "colorbar": {
              "outlinewidth": 1,
              "tickcolor": "rgb(36,36,36)",
              "ticks": "outside"
             }
            },
            "type": "scatter3d"
           }
          ],
          "scattercarpet": [
           {
            "marker": {
             "colorbar": {
              "outlinewidth": 1,
              "tickcolor": "rgb(36,36,36)",
              "ticks": "outside"
             }
            },
            "type": "scattercarpet"
           }
          ],
          "scattergeo": [
           {
            "marker": {
             "colorbar": {
              "outlinewidth": 1,
              "tickcolor": "rgb(36,36,36)",
              "ticks": "outside"
             }
            },
            "type": "scattergeo"
           }
          ],
          "scattergl": [
           {
            "marker": {
             "colorbar": {
              "outlinewidth": 1,
              "tickcolor": "rgb(36,36,36)",
              "ticks": "outside"
             }
            },
            "type": "scattergl"
           }
          ],
          "scattermapbox": [
           {
            "marker": {
             "colorbar": {
              "outlinewidth": 1,
              "tickcolor": "rgb(36,36,36)",
              "ticks": "outside"
             }
            },
            "type": "scattermapbox"
           }
          ],
          "scatterpolar": [
           {
            "marker": {
             "colorbar": {
              "outlinewidth": 1,
              "tickcolor": "rgb(36,36,36)",
              "ticks": "outside"
             }
            },
            "type": "scatterpolar"
           }
          ],
          "scatterpolargl": [
           {
            "marker": {
             "colorbar": {
              "outlinewidth": 1,
              "tickcolor": "rgb(36,36,36)",
              "ticks": "outside"
             }
            },
            "type": "scatterpolargl"
           }
          ],
          "scatterternary": [
           {
            "marker": {
             "colorbar": {
              "outlinewidth": 1,
              "tickcolor": "rgb(36,36,36)",
              "ticks": "outside"
             }
            },
            "type": "scatterternary"
           }
          ],
          "surface": [
           {
            "colorbar": {
             "outlinewidth": 1,
             "tickcolor": "rgb(36,36,36)",
             "ticks": "outside"
            },
            "colorscale": [
             [
              0,
              "#440154"
             ],
             [
              0.1111111111111111,
              "#482878"
             ],
             [
              0.2222222222222222,
              "#3e4989"
             ],
             [
              0.3333333333333333,
              "#31688e"
             ],
             [
              0.4444444444444444,
              "#26828e"
             ],
             [
              0.5555555555555556,
              "#1f9e89"
             ],
             [
              0.6666666666666666,
              "#35b779"
             ],
             [
              0.7777777777777778,
              "#6ece58"
             ],
             [
              0.8888888888888888,
              "#b5de2b"
             ],
             [
              1,
              "#fde725"
             ]
            ],
            "type": "surface"
           }
          ],
          "table": [
           {
            "cells": {
             "fill": {
              "color": "rgb(237,237,237)"
             },
             "line": {
              "color": "white"
             }
            },
            "header": {
             "fill": {
              "color": "rgb(217,217,217)"
             },
             "line": {
              "color": "white"
             }
            },
            "type": "table"
           }
          ]
         },
         "layout": {
          "annotationdefaults": {
           "arrowhead": 0,
           "arrowwidth": 1
          },
          "autotypenumbers": "strict",
          "coloraxis": {
           "colorbar": {
            "outlinewidth": 1,
            "tickcolor": "rgb(36,36,36)",
            "ticks": "outside"
           }
          },
          "colorscale": {
           "diverging": [
            [
             0,
             "rgb(103,0,31)"
            ],
            [
             0.1,
             "rgb(178,24,43)"
            ],
            [
             0.2,
             "rgb(214,96,77)"
            ],
            [
             0.3,
             "rgb(244,165,130)"
            ],
            [
             0.4,
             "rgb(253,219,199)"
            ],
            [
             0.5,
             "rgb(247,247,247)"
            ],
            [
             0.6,
             "rgb(209,229,240)"
            ],
            [
             0.7,
             "rgb(146,197,222)"
            ],
            [
             0.8,
             "rgb(67,147,195)"
            ],
            [
             0.9,
             "rgb(33,102,172)"
            ],
            [
             1,
             "rgb(5,48,97)"
            ]
           ],
           "sequential": [
            [
             0,
             "#440154"
            ],
            [
             0.1111111111111111,
             "#482878"
            ],
            [
             0.2222222222222222,
             "#3e4989"
            ],
            [
             0.3333333333333333,
             "#31688e"
            ],
            [
             0.4444444444444444,
             "#26828e"
            ],
            [
             0.5555555555555556,
             "#1f9e89"
            ],
            [
             0.6666666666666666,
             "#35b779"
            ],
            [
             0.7777777777777778,
             "#6ece58"
            ],
            [
             0.8888888888888888,
             "#b5de2b"
            ],
            [
             1,
             "#fde725"
            ]
           ],
           "sequentialminus": [
            [
             0,
             "#440154"
            ],
            [
             0.1111111111111111,
             "#482878"
            ],
            [
             0.2222222222222222,
             "#3e4989"
            ],
            [
             0.3333333333333333,
             "#31688e"
            ],
            [
             0.4444444444444444,
             "#26828e"
            ],
            [
             0.5555555555555556,
             "#1f9e89"
            ],
            [
             0.6666666666666666,
             "#35b779"
            ],
            [
             0.7777777777777778,
             "#6ece58"
            ],
            [
             0.8888888888888888,
             "#b5de2b"
            ],
            [
             1,
             "#fde725"
            ]
           ]
          },
          "colorway": [
           "#1F77B4",
           "#FF7F0E",
           "#2CA02C",
           "#D62728",
           "#9467BD",
           "#8C564B",
           "#E377C2",
           "#7F7F7F",
           "#BCBD22",
           "#17BECF"
          ],
          "font": {
           "color": "rgb(36,36,36)"
          },
          "geo": {
           "bgcolor": "white",
           "lakecolor": "white",
           "landcolor": "white",
           "showlakes": true,
           "showland": true,
           "subunitcolor": "white"
          },
          "hoverlabel": {
           "align": "left"
          },
          "hovermode": "closest",
          "mapbox": {
           "style": "light"
          },
          "paper_bgcolor": "white",
          "plot_bgcolor": "white",
          "polar": {
           "angularaxis": {
            "gridcolor": "rgb(232,232,232)",
            "linecolor": "rgb(36,36,36)",
            "showgrid": false,
            "showline": true,
            "ticks": "outside"
           },
           "bgcolor": "white",
           "radialaxis": {
            "gridcolor": "rgb(232,232,232)",
            "linecolor": "rgb(36,36,36)",
            "showgrid": false,
            "showline": true,
            "ticks": "outside"
           }
          },
          "scene": {
           "xaxis": {
            "backgroundcolor": "white",
            "gridcolor": "rgb(232,232,232)",
            "gridwidth": 2,
            "linecolor": "rgb(36,36,36)",
            "showbackground": true,
            "showgrid": false,
            "showline": true,
            "ticks": "outside",
            "zeroline": false,
            "zerolinecolor": "rgb(36,36,36)"
           },
           "yaxis": {
            "backgroundcolor": "white",
            "gridcolor": "rgb(232,232,232)",
            "gridwidth": 2,
            "linecolor": "rgb(36,36,36)",
            "showbackground": true,
            "showgrid": false,
            "showline": true,
            "ticks": "outside",
            "zeroline": false,
            "zerolinecolor": "rgb(36,36,36)"
           },
           "zaxis": {
            "backgroundcolor": "white",
            "gridcolor": "rgb(232,232,232)",
            "gridwidth": 2,
            "linecolor": "rgb(36,36,36)",
            "showbackground": true,
            "showgrid": false,
            "showline": true,
            "ticks": "outside",
            "zeroline": false,
            "zerolinecolor": "rgb(36,36,36)"
           }
          },
          "shapedefaults": {
           "fillcolor": "black",
           "line": {
            "width": 0
           },
           "opacity": 0.3
          },
          "ternary": {
           "aaxis": {
            "gridcolor": "rgb(232,232,232)",
            "linecolor": "rgb(36,36,36)",
            "showgrid": false,
            "showline": true,
            "ticks": "outside"
           },
           "baxis": {
            "gridcolor": "rgb(232,232,232)",
            "linecolor": "rgb(36,36,36)",
            "showgrid": false,
            "showline": true,
            "ticks": "outside"
           },
           "bgcolor": "white",
           "caxis": {
            "gridcolor": "rgb(232,232,232)",
            "linecolor": "rgb(36,36,36)",
            "showgrid": false,
            "showline": true,
            "ticks": "outside"
           }
          },
          "title": {
           "x": 0.05
          },
          "xaxis": {
           "automargin": true,
           "gridcolor": "rgb(232,232,232)",
           "linecolor": "rgb(36,36,36)",
           "showgrid": false,
           "showline": true,
           "ticks": "outside",
           "title": {
            "standoff": 15
           },
           "zeroline": false,
           "zerolinecolor": "rgb(36,36,36)"
          },
          "yaxis": {
           "automargin": true,
           "gridcolor": "rgb(232,232,232)",
           "linecolor": "rgb(36,36,36)",
           "showgrid": false,
           "showline": true,
           "ticks": "outside",
           "title": {
            "standoff": 15
           },
           "zeroline": false,
           "zerolinecolor": "rgb(36,36,36)"
          }
         }
        }
       }
      }
     },
     "metadata": {},
     "output_type": "display_data"
    }
   ],
   "source": [
    "structure.rotate_descendants(10, 24, 50)\n",
    "structure.show()"
   ]
  },
  {
   "cell_type": "code",
   "execution_count": 283,
   "metadata": {},
   "outputs": [
    {
     "data": {
      "text/plain": [
       "(513.5008966461149, 0, [(Atom(C1, 24), Atom(O4, 10))])"
      ]
     },
     "execution_count": 283,
     "metadata": {},
     "output_type": "execute_result"
    }
   ],
   "source": [
    "edges = [(structure.get_atom(24), structure.get_atom(10))]\n",
    "graph = structure.get_atom_graph()\n",
    "\n",
    "env = envs.DistanceRotatron(graph, edges, **rotatron_params)\n",
    "\n",
    "\n",
    "env._best_eval, env._best_clashes, edges"
   ]
  },
  {
   "cell_type": "code",
   "execution_count": 284,
   "metadata": {},
   "outputs": [
    {
     "data": {
      "text/plain": [
       "[(Atom(C1, 24), Atom(O4, 10))]"
      ]
     },
     "execution_count": 284,
     "metadata": {},
     "output_type": "execute_result"
    }
   ],
   "source": [
    "edges"
   ]
  },
  {
   "cell_type": "code",
   "execution_count": 327,
   "metadata": {},
   "outputs": [],
   "source": [
    "def eval(self, state):  # , diff=True):\n",
    "        \"\"\"\n",
    "        Calculate the evaluation score for a given state\n",
    "\n",
    "        Parameters\n",
    "        ----------\n",
    "        state : np.ndarray\n",
    "            The state of the environment\n",
    "\n",
    "        Returns\n",
    "        -------\n",
    "        float\n",
    "            The evaluation for the state\n",
    "        \"\"\"\n",
    "        pairwise_dists = cdist(state, state)\n",
    "        np.fill_diagonal(pairwise_dists, self._radius + 1)\n",
    "\n",
    "        # if diff:\n",
    "        # mask = np.abs(pairwise_dists - self._state_dists) < 1e-4\n",
    "        # mask *= pairwise_dists > self.clash_distance\n",
    "        # pairwise_dists[mask] = self._radius + 1\n",
    "\n",
    "        # self.clash_handler()\n",
    "\n",
    "        rowwise_dist_eval = np.apply_along_axis(\n",
    "            self.concatenation_function, 1, pairwise_dists\n",
    "        )\n",
    "        mask = rowwise_dist_eval > -1\n",
    "        rowwise_dist_eval[mask] = self.n_nodes / (\n",
    "            (rowwise_dist_eval[mask] + 1e-6)\n",
    "        ) \n",
    "        rowwise_dist_eval[mask] = np.log(rowwise_dist_eval[mask])\n",
    "        if np.any(mask) == 1:\n",
    "            final = np.sum(rowwise_dist_eval[mask])\n",
    "            self._state_dists[:, :] = 0\n",
    "            self._state_dists += pairwise_dists\n",
    "        else:\n",
    "            final = self._last_eval\n",
    "        return final\n",
    "\n",
    "envs.DistanceRotatron.eval_log = eval\n"
   ]
  },
  {
   "cell_type": "code",
   "execution_count": 341,
   "metadata": {},
   "outputs": [
    {
     "data": {
      "image/png": "[encoded data removed]",
      "text/plain": [
       "<Figure size 640x480 with 1 Axes>"
      ]
     },
     "metadata": {},
     "output_type": "display_data"
    }
   ],
   "source": [
    "\n",
    "angles = np.arange(0, np.pi*2, 0.1)\n",
    "\n",
    "env = envs.DistanceRotatron(graph, edges, mask_rotation_units=True)\n",
    "i = 0\n",
    "names = (\"eval_log\", \"eval_nolog\")\n",
    "for func in (envs.DistanceRotatron.eval_log, envs.DistanceRotatron.eval_nolog):\n",
    "    envs.DistanceRotatron.eval = func\n",
    "    \n",
    "    evals = np.zeros_like(angles)\n",
    "\n",
    "    idx = 0\n",
    "    for angle in angles:\n",
    "        state, eval, *_ = env.step([angle])\n",
    "        evals[idx] = eval\n",
    "        env.reset()\n",
    "        idx += 1\n",
    "    evals /= evals.max()\n",
    "    ax = sns.lineplot(x=angles, y=evals, label=names[i])\n",
    "    i += 1\n",
    "    ax.set_title(\"Evaluation function\")\n"
   ]
  },
  {
   "cell_type": "code",
   "execution_count": 342,
   "metadata": {},
   "outputs": [
    {
     "data": {
      "application/vnd.plotly.v1+json": {
       "config": {
        "plotlyServerURL": "https://plot.ly"
       },
       "data": [
        {
         "customdata": [
          [
           "C1",
           1,
           1,
           "GLC",
           "A"
          ],
          [
           "C2",
           2,
           1,
           "GLC",
           "A"
          ],
          [
           "C3",
           3,
           1,
           "GLC",
           "A"
          ],
          [
           "C4",
           4,
           1,
           "GLC",
           "A"
          ],
          [
           "C5",
           5,
           1,
           "GLC",
           "A"
          ],
          [
           "C6",
           6,
           1,
           "GLC",
           "A"
          ],
          [
           "C1",
           24,
           2,
           "GLC",
           "A"
          ],
          [
           "C2",
           25,
           2,
           "GLC",
           "A"
          ],
          [
           "C3",
           26,
           2,
           "GLC",
           "A"
          ],
          [
           "C4",
           27,
           2,
           "GLC",
           "A"
          ],
          [
           "C5",
           28,
           2,
           "GLC",
           "A"
          ],
          [
           "C6",
           29,
           2,
           "GLC",
           "A"
          ]
         ],
         "hovertemplate": "atom_element=C<br>x=%{x}<br>y=%{y}<br>z=%{z}<br>atom_id=%{customdata[0]}<br>atom_serial=%{customdata[1]}<br>residue_serial=%{customdata[2]}<br>residue_name=%{customdata[3]}<br>chain_id=%{customdata[4]}<extra></extra>",
         "legendgroup": "C",
         "marker": {
          "color": "black",
          "opacity": 0.3,
          "symbol": "circle"
         },
         "mode": "markers",
         "name": "C",
         "scene": "scene",
         "showlegend": true,
         "type": "scatter3d",
         "x": [
          -0.567,
          -1.578,
          -1.179,
          0.249,
          1.189,
          2.607,
          0.28739188564117746,
          1.2559386060123703,
          1.1570660030481243,
          -0.29740648858149865,
          -1.1858924768459764,
          -2.647408038237177
         ],
         "y": [
          1.572,
          0.465,
          -0.806,
          -1.195,
          -0.024,
          -0.383,
          -3.6208883690602627,
          -4.663870478759195,
          -4.589006846706296,
          -4.807457819063277,
          -3.769332512623271,
          -4.018348029596454
         ],
         "z": [
          -0.245,
          -0.554,
          0.203,
          -0.192,
          0.102,
          -0.345,
          0.1753436951227908,
          0.7414857349910289,
          2.305397975995566,
          2.733555591563719,
          2.0449588323595087,
          2.4209608750639897
         ]
        },
        {
         "customdata": [
          [
           "O1",
           7,
           1,
           "GLC",
           "A"
          ],
          [
           "O2",
           8,
           1,
           "GLC",
           "A"
          ],
          [
           "O3",
           9,
           1,
           "GLC",
           "A"
          ],
          [
           "O4",
           10,
           1,
           "GLC",
           "A"
          ],
          [
           "O5",
           11,
           1,
           "GLC",
           "A"
          ],
          [
           "O6",
           12,
           1,
           "GLC",
           "A"
          ],
          [
           "O2",
           30,
           2,
           "GLC",
           "A"
          ],
          [
           "O3",
           31,
           2,
           "GLC",
           "A"
          ],
          [
           "O4",
           32,
           2,
           "GLC",
           "A"
          ],
          [
           "O5",
           33,
           2,
           "GLC",
           "A"
          ],
          [
           "O6",
           34,
           2,
           "GLC",
           "A"
          ]
         ],
         "hovertemplate": "atom_element=O<br>x=%{x}<br>y=%{y}<br>z=%{z}<br>atom_id=%{customdata[0]}<br>atom_serial=%{customdata[1]}<br>residue_serial=%{customdata[2]}<br>residue_name=%{customdata[3]}<br>chain_id=%{customdata[4]}<extra></extra>",
         "legendgroup": "O",
         "marker": {
          "color": "red",
          "opacity": 0.3,
          "symbol": "circle"
         },
         "mode": "markers",
         "name": "O",
         "scene": "scene",
         "showlegend": true,
         "type": "scatter3d",
         "x": [
          -0.6,
          -2.881,
          -2.075,
          0.658,
          0.744,
          3.506,
          2.584417832020553,
          1.9835288192554574,
          -0.4041065690148238,
          -1.0628112560443825,
          -3.4644008318025263
         ],
         "y": [
          1.871,
          0.879,
          -1.866,
          -2.338,
          1.133,
          0.661,
          -4.393915543695059,
          -5.600259833840452,
          -4.663750054777857,
          -3.8695211038482062,
          -2.9810330966830554
         ],
         "z": [
          1.151,
          -0.139,
          -0.137,
          0.562,
          -0.608,
          0.035,
          0.3617932991596511,
          2.8853484992636242,
          4.1513740465570255,
          0.6324456961841649,
          1.8741176569318108
         ]
        },
        {
         "customdata": [
          [
           "H1",
           13,
           1,
           "GLC",
           "A"
          ],
          [
           "H2",
           14,
           1,
           "GLC",
           "A"
          ],
          [
           "H3",
           15,
           1,
           "GLC",
           "A"
          ],
          [
           "H4",
           16,
           1,
           "GLC",
           "A"
          ],
          [
           "H5",
           17,
           1,
           "GLC",
           "A"
          ],
          [
           "H61",
           18,
           1,
           "GLC",
           "A"
          ],
          [
           "H62",
           19,
           1,
           "GLC",
           "A"
          ],
          [
           "HO1",
           20,
           1,
           "GLC",
           "A"
          ],
          [
           "HO2",
           21,
           1,
           "GLC",
           "A"
          ],
          [
           "HO3",
           22,
           1,
           "GLC",
           "A"
          ],
          [
           "HO6",
           23,
           1,
           "GLC",
           "A"
          ],
          [
           "H1",
           35,
           2,
           "GLC",
           "A"
          ],
          [
           "H2",
           36,
           2,
           "GLC",
           "A"
          ],
          [
           "H3",
           37,
           2,
           "GLC",
           "A"
          ],
          [
           "H4",
           38,
           2,
           "GLC",
           "A"
          ],
          [
           "H5",
           39,
           2,
           "GLC",
           "A"
          ],
          [
           "H61",
           40,
           2,
           "GLC",
           "A"
          ],
          [
           "H62",
           41,
           2,
           "GLC",
           "A"
          ],
          [
           "HO2",
           42,
           2,
           "GLC",
           "A"
          ],
          [
           "HO3",
           43,
           2,
           "GLC",
           "A"
          ],
          [
           "HO4",
           44,
           2,
           "GLC",
           "A"
          ],
          [
           "HO6",
           45,
           2,
           "GLC",
           "A"
          ]
         ],
         "hovertemplate": "atom_element=H<br>x=%{x}<br>y=%{y}<br>z=%{z}<br>atom_id=%{customdata[0]}<br>atom_serial=%{customdata[1]}<br>residue_serial=%{customdata[2]}<br>residue_name=%{customdata[3]}<br>chain_id=%{customdata[4]}<extra></extra>",
         "legendgroup": "H",
         "marker": {
          "color": "lightgray",
          "opacity": 0.3,
          "symbol": "circle"
         },
         "mode": "markers",
         "name": "H",
         "scene": "scene",
         "showlegend": true,
         "type": "scatter3d",
         "x": [
          -0.822,
          -1.583,
          -1.223,
          0.281,
          1.187,
          2.913,
          2.627,
          0.017,
          -3.197,
          -3,
          4.425,
          0.353176357329021,
          0.958439697141797,
          1.4920919017610776,
          -0.6157721474455999,
          -0.89292267979314,
          -2.7480569164925552,
          -2.9664507074949316,
          2.7131149658157034,
          2.918976473041921,
          0.13786593422464422,
          -4.405683876250526
         ],
         "y": [
          2.466,
          0.264,
          -0.619,
          -1.429,
          0.184,
          -1.315,
          -0.503,
          2.566,
          1.682,
          -1.684,
          0.501,
          -3.74292022034265,
          -5.667871141059261,
          -3.6065463039192296,
          -5.80947075470068,
          -2.7689192168402634,
          -4.0249179180712655,
          -4.980623508359484,
          -4.423479131905306,
          -5.526501691449328,
          -5.28922167868464,
          -3.0751327441705563
         ],
         "z": [
          -0.815,
          -1.626,
          1.276,
          -1.257,
          1.173,
          0.129,
          -1.428,
          1.42,
          -0.576,
          0.08,
          -0.218,
          -0.8994522485601693,
          0.4479921439350847,
          2.638208626453334,
          2.4426631989658003,
          2.3669074860846027,
          3.5057477849552208,
          2.021052537861238,
          -0.5964326877583873,
          2.6501136730656056,
          4.652185441614844,
          2.0723636823079397
         ]
        },
        {
         "hoverinfo": "skip",
         "line": {
          "color": "black",
          "width": 1
         },
         "mode": "lines",
         "opacity": 0.6,
         "showlegend": false,
         "type": "scatter3d",
         "x": [
          -0.567,
          -1.578
         ],
         "y": [
          1.572,
          0.465
         ],
         "z": [
          -0.245,
          -0.554
         ]
        },
        {
         "hoverinfo": "skip",
         "line": {
          "color": "black",
          "width": 1
         },
         "mode": "lines",
         "opacity": 0.6,
         "showlegend": false,
         "type": "scatter3d",
         "x": [
          -0.567,
          -0.6
         ],
         "y": [
          1.572,
          1.871
         ],
         "z": [
          -0.245,
          1.151
         ]
        },
        {
         "hoverinfo": "skip",
         "line": {
          "color": "black",
          "width": 1
         },
         "mode": "lines",
         "opacity": 0.6,
         "showlegend": false,
         "type": "scatter3d",
         "x": [
          -0.567,
          0.744
         ],
         "y": [
          1.572,
          1.133
         ],
         "z": [
          -0.245,
          -0.608
         ]
        },
        {
         "hoverinfo": "skip",
         "line": {
          "color": "black",
          "width": 1
         },
         "mode": "lines",
         "opacity": 0.6,
         "showlegend": false,
         "type": "scatter3d",
         "x": [
          -0.567,
          -0.822
         ],
         "y": [
          1.572,
          2.466
         ],
         "z": [
          -0.245,
          -0.815
         ]
        },
        {
         "hoverinfo": "skip",
         "line": {
          "color": "black",
          "width": 1
         },
         "mode": "lines",
         "opacity": 0.6,
         "showlegend": false,
         "type": "scatter3d",
         "x": [
          -1.578,
          -1.179
         ],
         "y": [
          0.465,
          -0.806
         ],
         "z": [
          -0.554,
          0.203
         ]
        },
        {
         "hoverinfo": "skip",
         "line": {
          "color": "black",
          "width": 1
         },
         "mode": "lines",
         "opacity": 0.6,
         "showlegend": false,
         "type": "scatter3d",
         "x": [
          -1.578,
          -2.881
         ],
         "y": [
          0.465,
          0.879
         ],
         "z": [
          -0.554,
          -0.139
         ]
        },
        {
         "hoverinfo": "skip",
         "line": {
          "color": "black",
          "width": 1
         },
         "mode": "lines",
         "opacity": 0.6,
         "showlegend": false,
         "type": "scatter3d",
         "x": [
          -1.578,
          -1.583
         ],
         "y": [
          0.465,
          0.264
         ],
         "z": [
          -0.554,
          -1.626
         ]
        },
        {
         "hoverinfo": "skip",
         "line": {
          "color": "black",
          "width": 1
         },
         "mode": "lines",
         "opacity": 0.6,
         "showlegend": false,
         "type": "scatter3d",
         "x": [
          -1.179,
          0.249
         ],
         "y": [
          -0.806,
          -1.195
         ],
         "z": [
          0.203,
          -0.192
         ]
        },
        {
         "hoverinfo": "skip",
         "line": {
          "color": "black",
          "width": 1
         },
         "mode": "lines",
         "opacity": 0.6,
         "showlegend": false,
         "type": "scatter3d",
         "x": [
          -1.179,
          -2.075
         ],
         "y": [
          -0.806,
          -1.866
         ],
         "z": [
          0.203,
          -0.137
         ]
        },
        {
         "hoverinfo": "skip",
         "line": {
          "color": "black",
          "width": 1
         },
         "mode": "lines",
         "opacity": 0.6,
         "showlegend": false,
         "type": "scatter3d",
         "x": [
          -1.179,
          -1.223
         ],
         "y": [
          -0.806,
          -0.619
         ],
         "z": [
          0.203,
          1.276
         ]
        },
        {
         "hoverinfo": "skip",
         "line": {
          "color": "black",
          "width": 1
         },
         "mode": "lines",
         "opacity": 0.6,
         "showlegend": false,
         "type": "scatter3d",
         "x": [
          0.249,
          1.189
         ],
         "y": [
          -1.195,
          -0.024
         ],
         "z": [
          -0.192,
          0.102
         ]
        },
        {
         "hoverinfo": "skip",
         "line": {
          "color": "black",
          "width": 1
         },
         "mode": "lines",
         "opacity": 0.6,
         "showlegend": false,
         "type": "scatter3d",
         "x": [
          0.249,
          0.658
         ],
         "y": [
          -1.195,
          -2.338
         ],
         "z": [
          -0.192,
          0.562
         ]
        },
        {
         "hoverinfo": "skip",
         "line": {
          "color": "black",
          "width": 1
         },
         "mode": "lines",
         "opacity": 0.6,
         "showlegend": false,
         "type": "scatter3d",
         "x": [
          0.249,
          0.281
         ],
         "y": [
          -1.195,
          -1.429
         ],
         "z": [
          -0.192,
          -1.257
         ]
        },
        {
         "hoverinfo": "skip",
         "line": {
          "color": "black",
          "width": 1
         },
         "mode": "lines",
         "opacity": 0.6,
         "showlegend": false,
         "type": "scatter3d",
         "x": [
          1.189,
          2.607
         ],
         "y": [
          -0.024,
          -0.383
         ],
         "z": [
          0.102,
          -0.345
         ]
        },
        {
         "hoverinfo": "skip",
         "line": {
          "color": "black",
          "width": 1
         },
         "mode": "lines",
         "opacity": 0.6,
         "showlegend": false,
         "type": "scatter3d",
         "x": [
          1.189,
          0.744
         ],
         "y": [
          -0.024,
          1.133
         ],
         "z": [
          0.102,
          -0.608
         ]
        },
        {
         "hoverinfo": "skip",
         "line": {
          "color": "black",
          "width": 1
         },
         "mode": "lines",
         "opacity": 0.6,
         "showlegend": false,
         "type": "scatter3d",
         "x": [
          1.189,
          1.187
         ],
         "y": [
          -0.024,
          0.184
         ],
         "z": [
          0.102,
          1.173
         ]
        },
        {
         "hoverinfo": "skip",
         "line": {
          "color": "black",
          "width": 1
         },
         "mode": "lines",
         "opacity": 0.6,
         "showlegend": false,
         "type": "scatter3d",
         "x": [
          2.607,
          3.506
         ],
         "y": [
          -0.383,
          0.661
         ],
         "z": [
          -0.345,
          0.035
         ]
        },
        {
         "hoverinfo": "skip",
         "line": {
          "color": "black",
          "width": 1
         },
         "mode": "lines",
         "opacity": 0.6,
         "showlegend": false,
         "type": "scatter3d",
         "x": [
          2.607,
          2.913
         ],
         "y": [
          -0.383,
          -1.315
         ],
         "z": [
          -0.345,
          0.129
         ]
        },
        {
         "hoverinfo": "skip",
         "line": {
          "color": "black",
          "width": 1
         },
         "mode": "lines",
         "opacity": 0.6,
         "showlegend": false,
         "type": "scatter3d",
         "x": [
          2.607,
          2.627
         ],
         "y": [
          -0.383,
          -0.503
         ],
         "z": [
          -0.345,
          -1.428
         ]
        },
        {
         "hoverinfo": "skip",
         "line": {
          "color": "black",
          "width": 1
         },
         "mode": "lines",
         "opacity": 0.6,
         "showlegend": false,
         "type": "scatter3d",
         "x": [
          -0.6,
          0.017
         ],
         "y": [
          1.871,
          2.566
         ],
         "z": [
          1.151,
          1.42
         ]
        },
        {
         "hoverinfo": "skip",
         "line": {
          "color": "black",
          "width": 1
         },
         "mode": "lines",
         "opacity": 0.6,
         "showlegend": false,
         "type": "scatter3d",
         "x": [
          -2.881,
          -3.197
         ],
         "y": [
          0.879,
          1.682
         ],
         "z": [
          -0.139,
          -0.576
         ]
        },
        {
         "hoverinfo": "skip",
         "line": {
          "color": "black",
          "width": 1
         },
         "mode": "lines",
         "opacity": 0.6,
         "showlegend": false,
         "type": "scatter3d",
         "x": [
          -2.075,
          -3
         ],
         "y": [
          -1.866,
          -1.684
         ],
         "z": [
          -0.137,
          0.08
         ]
        },
        {
         "hoverinfo": "skip",
         "line": {
          "color": "black",
          "width": 1
         },
         "mode": "lines",
         "opacity": 0.6,
         "showlegend": false,
         "type": "scatter3d",
         "x": [
          0.658,
          0.28739188564117746
         ],
         "y": [
          -2.338,
          -3.6208883690602627
         ],
         "z": [
          0.562,
          0.1753436951227908
         ]
        },
        {
         "hoverinfo": "skip",
         "line": {
          "color": "black",
          "width": 1
         },
         "mode": "lines",
         "opacity": 0.6,
         "showlegend": false,
         "type": "scatter3d",
         "x": [
          3.506,
          4.425
         ],
         "y": [
          0.661,
          0.501
         ],
         "z": [
          0.035,
          -0.218
         ]
        },
        {
         "hoverinfo": "skip",
         "line": {
          "color": "black",
          "width": 1
         },
         "mode": "lines",
         "opacity": 0.6,
         "showlegend": false,
         "type": "scatter3d",
         "x": [
          0.28739188564117746,
          1.2559386060123703
         ],
         "y": [
          -3.6208883690602627,
          -4.663870478759195
         ],
         "z": [
          0.1753436951227908,
          0.7414857349910289
         ]
        },
        {
         "hoverinfo": "skip",
         "line": {
          "color": "black",
          "width": 1
         },
         "mode": "lines",
         "opacity": 0.6,
         "showlegend": false,
         "type": "scatter3d",
         "x": [
          0.28739188564117746,
          -1.0628112560443825
         ],
         "y": [
          -3.6208883690602627,
          -3.8695211038482062
         ],
         "z": [
          0.1753436951227908,
          0.6324456961841649
         ]
        },
        {
         "hoverinfo": "skip",
         "line": {
          "color": "black",
          "width": 1
         },
         "mode": "lines",
         "opacity": 0.6,
         "showlegend": false,
         "type": "scatter3d",
         "x": [
          0.28739188564117746,
          0.353176357329021
         ],
         "y": [
          -3.6208883690602627,
          -3.74292022034265
         ],
         "z": [
          0.1753436951227908,
          -0.8994522485601693
         ]
        },
        {
         "hoverinfo": "skip",
         "line": {
          "color": "black",
          "width": 1
         },
         "mode": "lines",
         "opacity": 0.6,
         "showlegend": false,
         "type": "scatter3d",
         "x": [
          1.2559386060123703,
          1.1570660030481243
         ],
         "y": [
          -4.663870478759195,
          -4.589006846706296
         ],
         "z": [
          0.7414857349910289,
          2.305397975995566
         ]
        },
        {
         "hoverinfo": "skip",
         "line": {
          "color": "black",
          "width": 1
         },
         "mode": "lines",
         "opacity": 0.6,
         "showlegend": false,
         "type": "scatter3d",
         "x": [
          1.2559386060123703,
          2.584417832020553
         ],
         "y": [
          -4.663870478759195,
          -4.393915543695059
         ],
         "z": [
          0.7414857349910289,
          0.3617932991596511
         ]
        },
        {
         "hoverinfo": "skip",
         "line": {
          "color": "black",
          "width": 1
         },
         "mode": "lines",
         "opacity": 0.6,
         "showlegend": false,
         "type": "scatter3d",
         "x": [
          1.2559386060123703,
          0.958439697141797
         ],
         "y": [
          -4.663870478759195,
          -5.667871141059261
         ],
         "z": [
          0.7414857349910289,
          0.4479921439350847
         ]
        },
        {
         "hoverinfo": "skip",
         "line": {
          "color": "black",
          "width": 1
         },
         "mode": "lines",
         "opacity": 0.6,
         "showlegend": false,
         "type": "scatter3d",
         "x": [
          1.1570660030481243,
          -0.29740648858149865
         ],
         "y": [
          -4.589006846706296,
          -4.807457819063277
         ],
         "z": [
          2.305397975995566,
          2.733555591563719
         ]
        },
        {
         "hoverinfo": "skip",
         "line": {
          "color": "black",
          "width": 1
         },
         "mode": "lines",
         "opacity": 0.6,
         "showlegend": false,
         "type": "scatter3d",
         "x": [
          1.1570660030481243,
          1.9835288192554574
         ],
         "y": [
          -4.589006846706296,
          -5.600259833840452
         ],
         "z": [
          2.305397975995566,
          2.8853484992636242
         ]
        },
        {
         "hoverinfo": "skip",
         "line": {
          "color": "black",
          "width": 1
         },
         "mode": "lines",
         "opacity": 0.6,
         "showlegend": false,
         "type": "scatter3d",
         "x": [
          1.1570660030481243,
          1.4920919017610776
         ],
         "y": [
          -4.589006846706296,
          -3.6065463039192296
         ],
         "z": [
          2.305397975995566,
          2.638208626453334
         ]
        },
        {
         "hoverinfo": "skip",
         "line": {
          "color": "black",
          "width": 1
         },
         "mode": "lines",
         "opacity": 0.6,
         "showlegend": false,
         "type": "scatter3d",
         "x": [
          -0.29740648858149865,
          -1.1858924768459764
         ],
         "y": [
          -4.807457819063277,
          -3.769332512623271
         ],
         "z": [
          2.733555591563719,
          2.0449588323595087
         ]
        },
        {
         "hoverinfo": "skip",
         "line": {
          "color": "black",
          "width": 1
         },
         "mode": "lines",
         "opacity": 0.6,
         "showlegend": false,
         "type": "scatter3d",
         "x": [
          -0.29740648858149865,
          -0.4041065690148238
         ],
         "y": [
          -4.807457819063277,
          -4.663750054777857
         ],
         "z": [
          2.733555591563719,
          4.1513740465570255
         ]
        },
        {
         "hoverinfo": "skip",
         "line": {
          "color": "black",
          "width": 1
         },
         "mode": "lines",
         "opacity": 0.6,
         "showlegend": false,
         "type": "scatter3d",
         "x": [
          -0.29740648858149865,
          -0.6157721474455999
         ],
         "y": [
          -4.807457819063277,
          -5.80947075470068
         ],
         "z": [
          2.733555591563719,
          2.4426631989658003
         ]
        },
        {
         "hoverinfo": "skip",
         "line": {
          "color": "black",
          "width": 1
         },
         "mode": "lines",
         "opacity": 0.6,
         "showlegend": false,
         "type": "scatter3d",
         "x": [
          -1.1858924768459764,
          -2.647408038237177
         ],
         "y": [
          -3.769332512623271,
          -4.018348029596454
         ],
         "z": [
          2.0449588323595087,
          2.4209608750639897
         ]
        },
        {
         "hoverinfo": "skip",
         "line": {
          "color": "black",
          "width": 1
         },
         "mode": "lines",
         "opacity": 0.6,
         "showlegend": false,
         "type": "scatter3d",
         "x": [
          -1.1858924768459764,
          -1.0628112560443825
         ],
         "y": [
          -3.769332512623271,
          -3.8695211038482062
         ],
         "z": [
          2.0449588323595087,
          0.6324456961841649
         ]
        },
        {
         "hoverinfo": "skip",
         "line": {
          "color": "black",
          "width": 1
         },
         "mode": "lines",
         "opacity": 0.6,
         "showlegend": false,
         "type": "scatter3d",
         "x": [
          -1.1858924768459764,
          -0.89292267979314
         ],
         "y": [
          -3.769332512623271,
          -2.7689192168402634
         ],
         "z": [
          2.0449588323595087,
          2.3669074860846027
         ]
        },
        {
         "hoverinfo": "skip",
         "line": {
          "color": "black",
          "width": 1
         },
         "mode": "lines",
         "opacity": 0.6,
         "showlegend": false,
         "type": "scatter3d",
         "x": [
          -2.647408038237177,
          -3.4644008318025263
         ],
         "y": [
          -4.018348029596454,
          -2.9810330966830554
         ],
         "z": [
          2.4209608750639897,
          1.8741176569318108
         ]
        },
        {
         "hoverinfo": "skip",
         "line": {
          "color": "black",
          "width": 1
         },
         "mode": "lines",
         "opacity": 0.6,
         "showlegend": false,
         "type": "scatter3d",
         "x": [
          -2.647408038237177,
          -2.7480569164925552
         ],
         "y": [
          -4.018348029596454,
          -4.0249179180712655
         ],
         "z": [
          2.4209608750639897,
          3.5057477849552208
         ]
        },
        {
         "hoverinfo": "skip",
         "line": {
          "color": "black",
          "width": 1
         },
         "mode": "lines",
         "opacity": 0.6,
         "showlegend": false,
         "type": "scatter3d",
         "x": [
          -2.647408038237177,
          -2.9664507074949316
         ],
         "y": [
          -4.018348029596454,
          -4.980623508359484
         ],
         "z": [
          2.4209608750639897,
          2.021052537861238
         ]
        },
        {
         "hoverinfo": "skip",
         "line": {
          "color": "black",
          "width": 1
         },
         "mode": "lines",
         "opacity": 0.6,
         "showlegend": false,
         "type": "scatter3d",
         "x": [
          2.584417832020553,
          2.7131149658157034
         ],
         "y": [
          -4.393915543695059,
          -4.423479131905306
         ],
         "z": [
          0.3617932991596511,
          -0.5964326877583873
         ]
        },
        {
         "hoverinfo": "skip",
         "line": {
          "color": "black",
          "width": 1
         },
         "mode": "lines",
         "opacity": 0.6,
         "showlegend": false,
         "type": "scatter3d",
         "x": [
          1.9835288192554574,
          2.918976473041921
         ],
         "y": [
          -5.600259833840452,
          -5.526501691449328
         ],
         "z": [
          2.8853484992636242,
          2.6501136730656056
         ]
        },
        {
         "hoverinfo": "skip",
         "line": {
          "color": "black",
          "width": 1
         },
         "mode": "lines",
         "opacity": 0.6,
         "showlegend": false,
         "type": "scatter3d",
         "x": [
          -0.4041065690148238,
          0.13786593422464422
         ],
         "y": [
          -4.663750054777857,
          -5.28922167868464
         ],
         "z": [
          4.1513740465570255,
          4.652185441614844
         ]
        },
        {
         "hoverinfo": "skip",
         "line": {
          "color": "black",
          "width": 1
         },
         "mode": "lines",
         "opacity": 0.6,
         "showlegend": false,
         "type": "scatter3d",
         "x": [
          -3.4644008318025263,
          -4.405683876250526
         ],
         "y": [
          -2.9810330966830554,
          -3.0751327441705563
         ],
         "z": [
          1.8741176569318108,
          2.0723636823079397
         ]
        },
        {
         "hoverinfo": "skip",
         "line": {
          "color": "blue",
          "width": 1
         },
         "mode": "lines",
         "name": "C1-C2",
         "opacity": 0.7761532195700825,
         "showlegend": true,
         "type": "scatter3d",
         "x": [
          -0.4077099244390644,
          -1.4183729772023619
         ],
         "y": [
          1.5786688334057584,
          0.48762207826515436
         ],
         "z": [
          -0.4198052792586027,
          -0.7820595709879499
         ]
        },
        {
         "hoverinfo": "skip",
         "line": {
          "color": "blue",
          "width": 1
         },
         "mode": "lines",
         "name": "C1-O1",
         "opacity": 0.7761532195700825,
         "showlegend": true,
         "type": "scatter3d",
         "x": [
          -0.4077099244390644,
          -0.5401210146534948
         ],
         "y": [
          1.5786688334057584,
          1.9104109625026717
         ],
         "z": [
          -0.4198052792586027,
          0.9628445184018435
         ]
        },
        {
         "hoverinfo": "skip",
         "line": {
          "color": "blue",
          "width": 1
         },
         "mode": "lines",
         "name": "C1-O5",
         "opacity": 0.7761532195700825,
         "showlegend": true,
         "type": "scatter3d",
         "x": [
          -0.4077099244390644,
          0.9163005320776275
         ],
         "y": [
          1.5786688334057584,
          1.1023498264178324
         ],
         "z": [
          -0.4198052792586027,
          -0.6714548662173284
         ]
        },
        {
         "hoverinfo": "skip",
         "line": {
          "color": "blue",
          "width": 1
         },
         "mode": "lines",
         "name": "C1-H1",
         "opacity": 0.7761532195700825,
         "showlegend": true,
         "type": "scatter3d",
         "x": [
          -0.4077099244390644,
          -0.59691133860522
         ],
         "y": [
          1.5786688334057584,
          2.464754382661638
         ],
         "z": [
          -0.4198052792586027,
          -1.0266135061947845
         ]
        },
        {
         "hoverinfo": "skip",
         "line": {
          "color": "blue",
          "width": 1
         },
         "mode": "lines",
         "name": "C2-C3",
         "opacity": 0.7761532195700825,
         "showlegend": true,
         "type": "scatter3d",
         "x": [
          -1.4183729772023619,
          -1.1089575502968816
         ],
         "y": [
          0.4876220782651543,
          -0.7741671689387424
         ],
         "z": [
          -0.7820595709879499,
          0.03024639921879657
         ]
        },
        {
         "hoverinfo": "skip",
         "line": {
          "color": "blue",
          "width": 1
         },
         "mode": "lines",
         "name": "C2-O2",
         "opacity": 0.7761532195700825,
         "showlegend": true,
         "type": "scatter3d",
         "x": [
          -1.4183729772023619,
          -2.7389819384770333
         ],
         "y": [
          0.4876220782651543,
          0.9399738200561519
         ],
         "z": [
          -0.7820595709879499,
          -0.4774288550388126
         ]
        },
        {
         "hoverinfo": "skip",
         "line": {
          "color": "blue",
          "width": 1
         },
         "mode": "lines",
         "name": "C2-H2",
         "opacity": 0.7761532195700825,
         "showlegend": true,
         "type": "scatter3d",
         "x": [
          -1.4183729772023619,
          -1.346251539856628
         ],
         "y": [
          0.4876220782651543,
          0.26213980353394895
         ],
         "z": [
          -0.7820595709879499,
          -1.8467502500385489
         ]
        },
        {
         "hoverinfo": "skip",
         "line": {
          "color": "blue",
          "width": 1
         },
         "mode": "lines",
         "name": "C3-C4",
         "opacity": 0.7761532195700825,
         "showlegend": true,
         "type": "scatter3d",
         "x": [
          -1.1089575502968816,
          0.33532051525592643
         ],
         "y": [
          -0.7741671689387424,
          -1.2038533545913856
         ],
         "z": [
          0.03024639921879657,
          -0.24536320007397305
         ]
        },
        {
         "hoverinfo": "skip",
         "line": {
          "color": "blue",
          "width": 1
         },
         "mode": "lines",
         "name": "C3-O3",
         "opacity": 0.7761532195700825,
         "showlegend": true,
         "type": "scatter3d",
         "x": [
          -1.1089575502968816,
          -2.001494869908716
         ],
         "y": [
          -0.7741671689387424,
          -1.8215120070718103
         ],
         "z": [
          0.03024639921879657,
          -0.35506117030993756
         ]
        },
        {
         "hoverinfo": "skip",
         "line": {
          "color": "blue",
          "width": 1
         },
         "mode": "lines",
         "name": "C3-H3",
         "opacity": 0.7761532195700825,
         "showlegend": true,
         "type": "scatter3d",
         "x": [
          -1.1089575502968816,
          -1.2303334557799577
         ],
         "y": [
          -0.7741671689387424,
          -0.5615639807428392
         ],
         "z": [
          0.03024639921879657,
          1.0924619018062427
         ]
        },
        {
         "hoverinfo": "skip",
         "line": {
          "color": "blue",
          "width": 1
         },
         "mode": "lines",
         "name": "C4-C5",
         "opacity": 0.7761532195700825,
         "showlegend": true,
         "type": "scatter3d",
         "x": [
          0.3353205152559264,
          1.277891380247158
         ],
         "y": [
          -1.2038533545913856,
          -0.047604628807614846
         ],
         "z": [
          -0.24536320007397308,
          0.09511594553275662
         ]
        },
        {
         "hoverinfo": "skip",
         "line": {
          "color": "blue",
          "width": 1
         },
         "mode": "lines",
         "name": "C4-O4",
         "opacity": 0.7761532195700825,
         "showlegend": true,
         "type": "scatter3d",
         "x": [
          0.3353205152559264,
          0.658
         ],
         "y": [
          -1.2038533545913856,
          -2.338
         ],
         "z": [
          -0.24536320007397308,
          0.562
         ]
        },
        {
         "hoverinfo": "skip",
         "line": {
          "color": "blue",
          "width": 1
         },
         "mode": "lines",
         "name": "C4-H4",
         "opacity": 0.7761532195700825,
         "showlegend": true,
         "type": "scatter3d",
         "x": [
          0.3353205152559264,
          0.44299747753667884
         ],
         "y": [
          -1.2038533545913856,
          -1.4629810088779323
         ],
         "z": [
          -0.24536320007397308,
          -1.2995280498853967
         ]
        },
        {
         "hoverinfo": "skip",
         "line": {
          "color": "blue",
          "width": 1
         },
         "mode": "lines",
         "name": "C5-C6",
         "opacity": 0.7761532195700825,
         "showlegend": true,
         "type": "scatter3d",
         "x": [
          1.277891380247158,
          2.7168941765006847
         ],
         "y": [
          -0.04760462880761494,
          -0.4482815974855059
         ],
         "z": [
          0.09511594553275662,
          -0.2337349616358699
         ]
        },
        {
         "hoverinfo": "skip",
         "line": {
          "color": "blue",
          "width": 1
         },
         "mode": "lines",
         "name": "C5-O5",
         "opacity": 0.7761532195700825,
         "showlegend": true,
         "type": "scatter3d",
         "x": [
          1.277891380247158,
          0.9163005320776275
         ],
         "y": [
          -0.04760462880761494,
          1.1023498264178324
         ],
         "z": [
          0.09511594553275662,
          -0.6714548662173284
         ]
        },
        {
         "hoverinfo": "skip",
         "line": {
          "color": "blue",
          "width": 1
         },
         "mode": "lines",
         "name": "C5-H5",
         "opacity": 0.7761532195700825,
         "showlegend": true,
         "type": "scatter3d",
         "x": [
          1.277891380247158,
          1.1990365694950906
         ],
         "y": [
          -0.04760462880761494,
          0.18500682814455072
         ],
         "z": [
          0.09511594553275662,
          1.1581224501769412
         ]
        },
        {
         "hoverinfo": "skip",
         "line": {
          "color": "blue",
          "width": 1
         },
         "mode": "lines",
         "name": "C6-O6",
         "opacity": 0.7761532195700825,
         "showlegend": true,
         "type": "scatter3d",
         "x": [
          2.7168941765006847,
          3.6089817256906565
         ],
         "y": [
          -0.4482815974855059,
          0.5839261952892871
         ],
         "z": [
          -0.23373496163586993,
          0.19201599504563777
         ]
        },
        {
         "hoverinfo": "skip",
         "line": {
          "color": "blue",
          "width": 1
         },
         "mode": "lines",
         "name": "C6-H61",
         "opacity": 0.7761532195700825,
         "showlegend": true,
         "type": "scatter3d",
         "x": [
          2.7168941765006847,
          2.963357523280842
         ],
         "y": [
          -0.4482815974855059,
          -1.375694499324675
         ],
         "z": [
          -0.23373496163586993,
          0.2821110698465633
         ]
        },
        {
         "hoverinfo": "skip",
         "line": {
          "color": "blue",
          "width": 1
         },
         "mode": "lines",
         "name": "C6-H62",
         "opacity": 0.7761532195700825,
         "showlegend": true,
         "type": "scatter3d",
         "x": [
          2.7168941765006847,
          2.816716707763423
         ],
         "y": [
          -0.4482815974855059,
          -0.5936153369572521
         ],
         "z": [
          -0.23373496163586993,
          -1.3091895475777675
         ]
        },
        {
         "hoverinfo": "skip",
         "line": {
          "color": "blue",
          "width": 1
         },
         "mode": "lines",
         "name": "O1-HO1",
         "opacity": 0.7761532195700825,
         "showlegend": true,
         "type": "scatter3d",
         "x": [
          -0.5401210146534948,
          0.07099274196853977
         ],
         "y": [
          1.9104109625026717,
          2.5975176908158457
         ],
         "z": [
          0.9628445184018435,
          1.2636755679530336
         ]
        },
        {
         "hoverinfo": "skip",
         "line": {
          "color": "blue",
          "width": 1
         },
         "mode": "lines",
         "name": "O2-HO2",
         "opacity": 0.7761532195700825,
         "showlegend": true,
         "type": "scatter3d",
         "x": [
          -2.7389819384770333,
          -3.001331556847248
         ],
         "y": [
          0.9399738200561519,
          1.7395279251590434
         ],
         "z": [
          -0.4774288550388126,
          -0.9544193274322524
         ]
        },
        {
         "hoverinfo": "skip",
         "line": {
          "color": "blue",
          "width": 1
         },
         "mode": "lines",
         "name": "O3-HO3",
         "opacity": 0.7761532195700825,
         "showlegend": true,
         "type": "scatter3d",
         "x": [
          -2.001494869908716,
          -2.9357458165922794
         ],
         "y": [
          -1.8215120070718103,
          -1.6140166125591298
         ],
         "z": [
          -0.35506117030993756,
          -0.21378544742418054
         ]
        },
        {
         "hoverinfo": "skip",
         "line": {
          "color": "blue",
          "width": 1
         },
         "mode": "lines",
         "name": "O6-HO6",
         "opacity": 0.7761532195700825,
         "showlegend": true,
         "type": "scatter3d",
         "x": [
          3.6089817256906565,
          4.540530164347433
         ],
         "y": [
          0.5839261952892871,
          0.39772369563681276
         ],
         "z": [
          0.19201599504563777,
          0.013925749497793127
         ]
        },
        {
         "hoverinfo": "skip",
         "line": {
          "color": "blue",
          "width": 1
         },
         "mode": "lines",
         "name": "C1-C2",
         "opacity": 0.7761532195700825,
         "showlegend": true,
         "type": "scatter3d",
         "x": [
          0.28739188564117746,
          1.2559386060123703
         ],
         "y": [
          -3.6208883690602627,
          -4.663870478759195
         ],
         "z": [
          0.1753436951227908,
          0.7414857349910289
         ]
        },
        {
         "hoverinfo": "skip",
         "line": {
          "color": "blue",
          "width": 1
         },
         "mode": "lines",
         "name": "C1-O5",
         "opacity": 0.7761532195700825,
         "showlegend": true,
         "type": "scatter3d",
         "x": [
          0.28739188564117746,
          -1.0628112560443825
         ],
         "y": [
          -3.6208883690602627,
          -3.8695211038482062
         ],
         "z": [
          0.1753436951227908,
          0.6324456961841649
         ]
        },
        {
         "hoverinfo": "skip",
         "line": {
          "color": "blue",
          "width": 1
         },
         "mode": "lines",
         "name": "C1-H1",
         "opacity": 0.7761532195700825,
         "showlegend": true,
         "type": "scatter3d",
         "x": [
          0.28739188564117746,
          0.353176357329021
         ],
         "y": [
          -3.6208883690602627,
          -3.74292022034265
         ],
         "z": [
          0.1753436951227908,
          -0.8994522485601694
         ]
        },
        {
         "hoverinfo": "skip",
         "line": {
          "color": "blue",
          "width": 1
         },
         "mode": "lines",
         "name": "C2-C3",
         "opacity": 0.7761532195700825,
         "showlegend": true,
         "type": "scatter3d",
         "x": [
          1.2559386060123703,
          1.1570660030481243
         ],
         "y": [
          -4.663870478759195,
          -4.589006846706296
         ],
         "z": [
          0.7414857349910289,
          2.305397975995566
         ]
        },
        {
         "hoverinfo": "skip",
         "line": {
          "color": "blue",
          "width": 1
         },
         "mode": "lines",
         "name": "C2-O2",
         "opacity": 0.7761532195700825,
         "showlegend": true,
         "type": "scatter3d",
         "x": [
          1.2559386060123703,
          2.584417832020553
         ],
         "y": [
          -4.663870478759195,
          -4.393915543695059
         ],
         "z": [
          0.7414857349910289,
          0.3617932991596511
         ]
        },
        {
         "hoverinfo": "skip",
         "line": {
          "color": "blue",
          "width": 1
         },
         "mode": "lines",
         "name": "C2-H2",
         "opacity": 0.7761532195700825,
         "showlegend": true,
         "type": "scatter3d",
         "x": [
          1.2559386060123703,
          0.958439697141797
         ],
         "y": [
          -4.663870478759195,
          -5.667871141059261
         ],
         "z": [
          0.7414857349910289,
          0.4479921439350847
         ]
        },
        {
         "hoverinfo": "skip",
         "line": {
          "color": "blue",
          "width": 1
         },
         "mode": "lines",
         "name": "C3-C4",
         "opacity": 0.7761532195700825,
         "showlegend": true,
         "type": "scatter3d",
         "x": [
          1.1570660030481243,
          -0.29740648858149865
         ],
         "y": [
          -4.589006846706296,
          -4.807457819063277
         ],
         "z": [
          2.305397975995566,
          2.733555591563719
         ]
        },
        {
         "hoverinfo": "skip",
         "line": {
          "color": "blue",
          "width": 1
         },
         "mode": "lines",
         "name": "C3-O3",
         "opacity": 0.7761532195700825,
         "showlegend": true,
         "type": "scatter3d",
         "x": [
          1.1570660030481243,
          1.9835288192554574
         ],
         "y": [
          -4.589006846706296,
          -5.600259833840452
         ],
         "z": [
          2.305397975995566,
          2.8853484992636242
         ]
        },
        {
         "hoverinfo": "skip",
         "line": {
          "color": "blue",
          "width": 1
         },
         "mode": "lines",
         "name": "C3-H3",
         "opacity": 0.7761532195700825,
         "showlegend": true,
         "type": "scatter3d",
         "x": [
          1.1570660030481243,
          1.4920919017610776
         ],
         "y": [
          -4.589006846706296,
          -3.6065463039192296
         ],
         "z": [
          2.305397975995566,
          2.638208626453334
         ]
        },
        {
         "hoverinfo": "skip",
         "line": {
          "color": "blue",
          "width": 1
         },
         "mode": "lines",
         "name": "C4-C5",
         "opacity": 0.7761532195700825,
         "showlegend": true,
         "type": "scatter3d",
         "x": [
          -0.29740648858149865,
          -1.1858924768459764
         ],
         "y": [
          -4.807457819063277,
          -3.769332512623271
         ],
         "z": [
          2.733555591563719,
          2.0449588323595087
         ]
        },
        {
         "hoverinfo": "skip",
         "line": {
          "color": "blue",
          "width": 1
         },
         "mode": "lines",
         "name": "C4-O4",
         "opacity": 0.7761532195700825,
         "showlegend": true,
         "type": "scatter3d",
         "x": [
          -0.29740648858149865,
          -0.4041065690148238
         ],
         "y": [
          -4.807457819063277,
          -4.663750054777857
         ],
         "z": [
          2.733555591563719,
          4.1513740465570255
         ]
        },
        {
         "hoverinfo": "skip",
         "line": {
          "color": "blue",
          "width": 1
         },
         "mode": "lines",
         "name": "C4-H4",
         "opacity": 0.7761532195700825,
         "showlegend": true,
         "type": "scatter3d",
         "x": [
          -0.29740648858149865,
          -0.6157721474455999
         ],
         "y": [
          -4.807457819063277,
          -5.80947075470068
         ],
         "z": [
          2.733555591563719,
          2.4426631989658003
         ]
        },
        {
         "hoverinfo": "skip",
         "line": {
          "color": "blue",
          "width": 1
         },
         "mode": "lines",
         "name": "C5-C6",
         "opacity": 0.7761532195700825,
         "showlegend": true,
         "type": "scatter3d",
         "x": [
          -1.1858924768459764,
          -2.647408038237177
         ],
         "y": [
          -3.769332512623271,
          -4.018348029596454
         ],
         "z": [
          2.0449588323595087,
          2.4209608750639897
         ]
        },
        {
         "hoverinfo": "skip",
         "line": {
          "color": "blue",
          "width": 1
         },
         "mode": "lines",
         "name": "C5-O5",
         "opacity": 0.7761532195700825,
         "showlegend": true,
         "type": "scatter3d",
         "x": [
          -1.1858924768459764,
          -1.0628112560443825
         ],
         "y": [
          -3.769332512623271,
          -3.8695211038482062
         ],
         "z": [
          2.0449588323595087,
          0.6324456961841649
         ]
        },
        {
         "hoverinfo": "skip",
         "line": {
          "color": "blue",
          "width": 1
         },
         "mode": "lines",
         "name": "C5-H5",
         "opacity": 0.7761532195700825,
         "showlegend": true,
         "type": "scatter3d",
         "x": [
          -1.1858924768459764,
          -0.89292267979314
         ],
         "y": [
          -3.769332512623271,
          -2.7689192168402634
         ],
         "z": [
          2.0449588323595087,
          2.3669074860846027
         ]
        },
        {
         "hoverinfo": "skip",
         "line": {
          "color": "blue",
          "width": 1
         },
         "mode": "lines",
         "name": "C6-O6",
         "opacity": 0.7761532195700825,
         "showlegend": true,
         "type": "scatter3d",
         "x": [
          -2.647408038237177,
          -3.4644008318025263
         ],
         "y": [
          -4.018348029596454,
          -2.9810330966830554
         ],
         "z": [
          2.4209608750639897,
          1.8741176569318108
         ]
        },
        {
         "hoverinfo": "skip",
         "line": {
          "color": "blue",
          "width": 1
         },
         "mode": "lines",
         "name": "C6-H61",
         "opacity": 0.7761532195700825,
         "showlegend": true,
         "type": "scatter3d",
         "x": [
          -2.647408038237177,
          -2.7480569164925552
         ],
         "y": [
          -4.018348029596454,
          -4.0249179180712655
         ],
         "z": [
          2.4209608750639897,
          3.5057477849552208
         ]
        },
        {
         "hoverinfo": "skip",
         "line": {
          "color": "blue",
          "width": 1
         },
         "mode": "lines",
         "name": "C6-H62",
         "opacity": 0.7761532195700825,
         "showlegend": true,
         "type": "scatter3d",
         "x": [
          -2.647408038237177,
          -2.9664507074949316
         ],
         "y": [
          -4.018348029596454,
          -4.980623508359484
         ],
         "z": [
          2.4209608750639897,
          2.021052537861238
         ]
        },
        {
         "hoverinfo": "skip",
         "line": {
          "color": "blue",
          "width": 1
         },
         "mode": "lines",
         "name": "O2-HO2",
         "opacity": 0.7761532195700825,
         "showlegend": true,
         "type": "scatter3d",
         "x": [
          2.584417832020553,
          2.7131149658157034
         ],
         "y": [
          -4.393915543695059,
          -4.423479131905306
         ],
         "z": [
          0.3617932991596511,
          -0.5964326877583873
         ]
        },
        {
         "hoverinfo": "skip",
         "line": {
          "color": "blue",
          "width": 1
         },
         "mode": "lines",
         "name": "O3-HO3",
         "opacity": 0.7761532195700825,
         "showlegend": true,
         "type": "scatter3d",
         "x": [
          1.9835288192554574,
          2.918976473041921
         ],
         "y": [
          -5.600259833840452,
          -5.526501691449328
         ],
         "z": [
          2.8853484992636242,
          2.6501136730656056
         ]
        },
        {
         "hoverinfo": "skip",
         "line": {
          "color": "blue",
          "width": 1
         },
         "mode": "lines",
         "name": "O4-HO4",
         "opacity": 0.7761532195700825,
         "showlegend": true,
         "type": "scatter3d",
         "x": [
          -0.4041065690148238,
          0.13786593422464422
         ],
         "y": [
          -4.663750054777857,
          -5.28922167868464
         ],
         "z": [
          4.1513740465570255,
          4.652185441614844
         ]
        },
        {
         "hoverinfo": "skip",
         "line": {
          "color": "blue",
          "width": 1
         },
         "mode": "lines",
         "name": "O6-HO6",
         "opacity": 0.7761532195700825,
         "showlegend": true,
         "type": "scatter3d",
         "x": [
          -3.4644008318025263,
          -4.405683876250526
         ],
         "y": [
          -2.9810330966830554,
          -3.0751327441705563
         ],
         "z": [
          1.8741176569318108,
          2.0723636823079397
         ]
        },
        {
         "hoverinfo": "skip",
         "line": {
          "color": "blue",
          "width": 1
         },
         "mode": "lines",
         "name": "O4-C1",
         "opacity": 0.7761532195700825,
         "showlegend": true,
         "type": "scatter3d",
         "x": [
          0.658,
          0.28739188564117746
         ],
         "y": [
          -2.338,
          -3.6208883690602627
         ],
         "z": [
          0.562,
          0.1753436951227908
         ]
        },
        {
         "hoverinfo": "skip",
         "line": {
          "color": "green",
          "width": 1
         },
         "mode": "lines",
         "name": "C1-C2",
         "opacity": 1,
         "showlegend": true,
         "type": "scatter3d",
         "x": [
          2.651263118524438,
          2.0797109972114987
         ],
         "y": [
          0.9124498116661293,
          -0.12117855242896614
         ],
         "z": [
          -1.1413649527244172,
          -2.115013543110485
         ]
        },
        {
         "hoverinfo": "skip",
         "line": {
          "color": "green",
          "width": 1
         },
         "mode": "lines",
         "name": "C1-O1",
         "opacity": 1,
         "showlegend": true,
         "type": "scatter3d",
         "x": [
          2.651263118524438,
          1.6114794070789071
         ],
         "y": [
          0.9124498116661293,
          1.7961758443340874
         ],
         "z": [
          -1.1413649527244172,
          -0.7204324966254513
         ]
        },
        {
         "hoverinfo": "skip",
         "line": {
          "color": "green",
          "width": 1
         },
         "mode": "lines",
         "name": "C1-O5",
         "opacity": 1,
         "showlegend": true,
         "type": "scatter3d",
         "x": [
          2.651263118524438,
          3.1973790982686827
         ],
         "y": [
          0.9124498116661293,
          0.24196941801305827
         ],
         "z": [
          -1.1413649527244172,
          -0.003197839162086824
         ]
        },
        {
         "hoverinfo": "skip",
         "line": {
          "color": "green",
          "width": 1
         },
         "mode": "lines",
         "name": "C1-H1",
         "opacity": 1,
         "showlegend": true,
         "type": "scatter3d",
         "x": [
          2.651263118524438,
          3.436047699273448
         ],
         "y": [
          0.9124498116661293,
          1.4839601857270257
         ],
         "z": [
          -1.1413649527244172,
          -1.6380037089239061
         ]
        },
        {
         "hoverinfo": "skip",
         "line": {
          "color": "green",
          "width": 1
         },
         "mode": "lines",
         "name": "C2-C3",
         "opacity": 1,
         "showlegend": true,
         "type": "scatter3d",
         "x": [
          2.0797109972114987,
          1.0205751133811383
         ],
         "y": [
          -0.12117855242896619,
          -0.9604497813010617
         ],
         "z": [
          -2.115013543110485,
          -1.3928321365578071
         ]
        },
        {
         "hoverinfo": "skip",
         "line": {
          "color": "green",
          "width": 1
         },
         "mode": "lines",
         "name": "C2-O2",
         "opacity": 1,
         "showlegend": true,
         "type": "scatter3d",
         "x": [
          2.0797109972114987,
          1.481945236658775
         ],
         "y": [
          -0.12117855242896619,
          0.5490896172240467
         ],
         "z": [
          -2.115013543110485,
          -3.2262500959023837
         ]
        },
        {
         "hoverinfo": "skip",
         "line": {
          "color": "green",
          "width": 1
         },
         "mode": "lines",
         "name": "C2-H2",
         "opacity": 1,
         "showlegend": true,
         "type": "scatter3d",
         "x": [
          2.0797109972114987,
          2.8806881793273047
         ],
         "y": [
          -0.12117855242896619,
          -0.7714905557722336
         ],
         "z": [
          -2.115013543110485,
          -2.468764659062772
         ]
        },
        {
         "hoverinfo": "skip",
         "line": {
          "color": "green",
          "width": 1
         },
         "mode": "lines",
         "name": "C3-C4",
         "opacity": 1,
         "showlegend": true,
         "type": "scatter3d",
         "x": [
          1.0205751133811383,
          1.654599708851742
         ],
         "y": [
          -0.9604497813010617,
          -1.6108962633940618
         ],
         "z": [
          -1.3928321365578071,
          -0.15935648366830746
         ]
        },
        {
         "hoverinfo": "skip",
         "line": {
          "color": "green",
          "width": 1
         },
         "mode": "lines",
         "name": "C3-O3",
         "opacity": 1,
         "showlegend": true,
         "type": "scatter3d",
         "x": [
          1.0205751133811383,
          0.5341018843206609
         ],
         "y": [
          -0.9604497813010617,
          -1.976104814362487
         ],
         "z": [
          -1.3928321365578071,
          -2.272493805169364
         ]
        },
        {
         "hoverinfo": "skip",
         "line": {
          "color": "green",
          "width": 1
         },
         "mode": "lines",
         "name": "C3-H3",
         "opacity": 1,
         "showlegend": true,
         "type": "scatter3d",
         "x": [
          1.0205751133811383,
          0.1961711351737474
         ],
         "y": [
          -0.9604497813010617,
          -0.3177762198261441
         ],
         "z": [
          -1.3928321365578071,
          -1.0836998443316905
         ]
        },
        {
         "hoverinfo": "skip",
         "line": {
          "color": "green",
          "width": 1
         },
         "mode": "lines",
         "name": "C4-C5",
         "opacity": 1,
         "showlegend": true,
         "type": "scatter3d",
         "x": [
          1.654599708851742,
          2.243221687286857
         ],
         "y": [
          -1.6108962633940618,
          -0.5202407535860898
         ],
         "z": [
          -0.15935648366830746,
          0.7380128524629442
         ]
        },
        {
         "hoverinfo": "skip",
         "line": {
          "color": "green",
          "width": 1
         },
         "mode": "lines",
         "name": "C4-O4",
         "opacity": 1,
         "showlegend": true,
         "type": "scatter3d",
         "x": [
          1.654599708851742,
          0.6579999999999999
         ],
         "y": [
          -1.6108962633940618,
          -2.338
         ],
         "z": [
          -0.15935648366830746,
          0.562
         ]
        },
        {
         "hoverinfo": "skip",
         "line": {
          "color": "green",
          "width": 1
         },
         "mode": "lines",
         "name": "C4-H4",
         "opacity": 1,
         "showlegend": true,
         "type": "scatter3d",
         "x": [
          1.654599708851742,
          2.447516783593116
         ],
         "y": [
          -1.6108962633940618,
          -2.2909709845389346
         ],
         "z": [
          -0.15935648366830746,
          -0.47365870485566386
         ]
        },
        {
         "hoverinfo": "skip",
         "line": {
          "color": "green",
          "width": 1
         },
         "mode": "lines",
         "name": "C5-C6",
         "opacity": 1,
         "showlegend": true,
         "type": "scatter3d",
         "x": [
          2.243221687286857,
          2.9304415736462723
         ],
         "y": [
          -0.5202407535860898,
          -1.1658256604985802
         ],
         "z": [
          0.7380128524629442,
          1.9423230100880233
         ]
        },
        {
         "hoverinfo": "skip",
         "line": {
          "color": "green",
          "width": 1
         },
         "mode": "lines",
         "name": "C5-O5",
         "opacity": 1,
         "showlegend": true,
         "type": "scatter3d",
         "x": [
          2.243221687286857,
          3.1973790982686827
         ],
         "y": [
          -0.5202407535860898,
          0.24196941801305827
         ],
         "z": [
          0.7380128524629442,
          -0.003197839162086713
         ]
        },
        {
         "hoverinfo": "skip",
         "line": {
          "color": "green",
          "width": 1
         },
         "mode": "lines",
         "name": "C5-H5",
         "opacity": 1,
         "showlegend": true,
         "type": "scatter3d",
         "x": [
          2.243221687286857,
          1.4438348111593489
         ],
         "y": [
          -0.5202407535860898,
          0.13652086887944392
         ],
         "z": [
          0.7380128524629442,
          1.0843563142628518
         ]
        },
        {
         "hoverinfo": "skip",
         "line": {
          "color": "green",
          "width": 1
         },
         "mode": "lines",
         "name": "C6-O6",
         "opacity": 1,
         "showlegend": true,
         "type": "scatter3d",
         "x": [
          2.9304415736462723,
          3.377560022545204
         ],
         "y": [
          -1.1658256604985802,
          -0.1471612470989121
         ],
         "z": [
          1.9423230100880233,
          2.8395102288597376
         ]
        },
        {
         "hoverinfo": "skip",
         "line": {
          "color": "green",
          "width": 1
         },
         "mode": "lines",
         "name": "C6-H61",
         "opacity": 1,
         "showlegend": true,
         "type": "scatter3d",
         "x": [
          2.9304415736462723,
          2.225740614257253
         ],
         "y": [
          -1.1658256604985802,
          -1.8181015217176884
         ],
         "z": [
          1.9423230100880233,
          2.4569770285383474
         ]
        },
        {
         "hoverinfo": "skip",
         "line": {
          "color": "green",
          "width": 1
         },
         "mode": "lines",
         "name": "C6-H62",
         "opacity": 1,
         "showlegend": true,
         "type": "scatter3d",
         "x": [
          2.9304415736462723,
          3.784810087395735
         ],
         "y": [
          -1.1658256604985802,
          -1.7508461796736192
         ],
         "z": [
          1.9423230100880233,
          1.6024782884022182
         ]
        },
        {
         "hoverinfo": "skip",
         "line": {
          "color": "green",
          "width": 1
         },
         "mode": "lines",
         "name": "O1-HO1",
         "opacity": 1,
         "showlegend": true,
         "type": "scatter3d",
         "x": [
          1.6114794070789071,
          1.9019948180911943
         ],
         "y": [
          1.7961758443340874,
          2.4796786524058936
         ],
         "z": [
          -0.7204324966254513,
          -0.1003520927080902
         ]
        },
        {
         "hoverinfo": "skip",
         "line": {
          "color": "green",
          "width": 1
         },
         "mode": "lines",
         "name": "O2-HO2",
         "opacity": 1,
         "showlegend": true,
         "type": "scatter3d",
         "x": [
          1.481945236658775,
          2.095386225174728
         ],
         "y": [
          0.5490896172240466,
          1.1032470273375863
         ],
         "z": [
          -3.2262500959023837,
          -3.7284788469957717
         ]
        },
        {
         "hoverinfo": "skip",
         "line": {
          "color": "green",
          "width": 1
         },
         "mode": "lines",
         "name": "O3-HO3",
         "opacity": 1,
         "showlegend": true,
         "type": "scatter3d",
         "x": [
          0.5341018843206609,
          0.12473856287271667
         ],
         "y": [
          -1.976104814362487,
          -1.6343910174137481
         ],
         "z": [
          -2.272493805169364,
          -3.079643947353569
         ]
        },
        {
         "hoverinfo": "skip",
         "line": {
          "color": "green",
          "width": 1
         },
         "mode": "lines",
         "name": "O6-HO6",
         "opacity": 1,
         "showlegend": true,
         "type": "scatter3d",
         "x": [
          3.377560022545204,
          3.82460483299538
         ],
         "y": [
          -0.1471612470989122,
          -0.4844929475592173
         ],
         "z": [
          2.8395102288597376,
          3.6272463911083204
         ]
        },
        {
         "hoverinfo": "skip",
         "line": {
          "color": "green",
          "width": 1
         },
         "mode": "lines",
         "name": "C1-C2",
         "opacity": 1,
         "showlegend": true,
         "type": "scatter3d",
         "x": [
          0.28739188564117746,
          1.2559386060123703
         ],
         "y": [
          -3.6208883690602627,
          -4.663870478759195
         ],
         "z": [
          0.1753436951227908,
          0.7414857349910289
         ]
        },
        {
         "hoverinfo": "skip",
         "line": {
          "color": "green",
          "width": 1
         },
         "mode": "lines",
         "name": "C1-O5",
         "opacity": 1,
         "showlegend": true,
         "type": "scatter3d",
         "x": [
          0.28739188564117746,
          -1.0628112560443825
         ],
         "y": [
          -3.6208883690602627,
          -3.8695211038482062
         ],
         "z": [
          0.1753436951227908,
          0.6324456961841649
         ]
        },
        {
         "hoverinfo": "skip",
         "line": {
          "color": "green",
          "width": 1
         },
         "mode": "lines",
         "name": "C1-H1",
         "opacity": 1,
         "showlegend": true,
         "type": "scatter3d",
         "x": [
          0.28739188564117746,
          0.353176357329021
         ],
         "y": [
          -3.6208883690602627,
          -3.74292022034265
         ],
         "z": [
          0.1753436951227908,
          -0.8994522485601694
         ]
        },
        {
         "hoverinfo": "skip",
         "line": {
          "color": "green",
          "width": 1
         },
         "mode": "lines",
         "name": "C2-C3",
         "opacity": 1,
         "showlegend": true,
         "type": "scatter3d",
         "x": [
          1.2559386060123703,
          1.1570660030481243
         ],
         "y": [
          -4.663870478759195,
          -4.589006846706296
         ],
         "z": [
          0.7414857349910289,
          2.305397975995566
         ]
        },
        {
         "hoverinfo": "skip",
         "line": {
          "color": "green",
          "width": 1
         },
         "mode": "lines",
         "name": "C2-O2",
         "opacity": 1,
         "showlegend": true,
         "type": "scatter3d",
         "x": [
          1.2559386060123703,
          2.584417832020553
         ],
         "y": [
          -4.663870478759195,
          -4.393915543695059
         ],
         "z": [
          0.7414857349910289,
          0.3617932991596511
         ]
        },
        {
         "hoverinfo": "skip",
         "line": {
          "color": "green",
          "width": 1
         },
         "mode": "lines",
         "name": "C2-H2",
         "opacity": 1,
         "showlegend": true,
         "type": "scatter3d",
         "x": [
          1.2559386060123703,
          0.958439697141797
         ],
         "y": [
          -4.663870478759195,
          -5.667871141059261
         ],
         "z": [
          0.7414857349910289,
          0.4479921439350847
         ]
        },
        {
         "hoverinfo": "skip",
         "line": {
          "color": "green",
          "width": 1
         },
         "mode": "lines",
         "name": "C3-C4",
         "opacity": 1,
         "showlegend": true,
         "type": "scatter3d",
         "x": [
          1.1570660030481243,
          -0.29740648858149865
         ],
         "y": [
          -4.589006846706296,
          -4.807457819063277
         ],
         "z": [
          2.305397975995566,
          2.733555591563719
         ]
        },
        {
         "hoverinfo": "skip",
         "line": {
          "color": "green",
          "width": 1
         },
         "mode": "lines",
         "name": "C3-O3",
         "opacity": 1,
         "showlegend": true,
         "type": "scatter3d",
         "x": [
          1.1570660030481243,
          1.9835288192554574
         ],
         "y": [
          -4.589006846706296,
          -5.600259833840452
         ],
         "z": [
          2.305397975995566,
          2.8853484992636242
         ]
        },
        {
         "hoverinfo": "skip",
         "line": {
          "color": "green",
          "width": 1
         },
         "mode": "lines",
         "name": "C3-H3",
         "opacity": 1,
         "showlegend": true,
         "type": "scatter3d",
         "x": [
          1.1570660030481243,
          1.4920919017610776
         ],
         "y": [
          -4.589006846706296,
          -3.6065463039192296
         ],
         "z": [
          2.305397975995566,
          2.638208626453334
         ]
        },
        {
         "hoverinfo": "skip",
         "line": {
          "color": "green",
          "width": 1
         },
         "mode": "lines",
         "name": "C4-C5",
         "opacity": 1,
         "showlegend": true,
         "type": "scatter3d",
         "x": [
          -0.29740648858149865,
          -1.1858924768459764
         ],
         "y": [
          -4.807457819063277,
          -3.769332512623271
         ],
         "z": [
          2.733555591563719,
          2.0449588323595087
         ]
        },
        {
         "hoverinfo": "skip",
         "line": {
          "color": "green",
          "width": 1
         },
         "mode": "lines",
         "name": "C4-O4",
         "opacity": 1,
         "showlegend": true,
         "type": "scatter3d",
         "x": [
          -0.29740648858149865,
          -0.4041065690148238
         ],
         "y": [
          -4.807457819063277,
          -4.663750054777857
         ],
         "z": [
          2.733555591563719,
          4.1513740465570255
         ]
        },
        {
         "hoverinfo": "skip",
         "line": {
          "color": "green",
          "width": 1
         },
         "mode": "lines",
         "name": "C4-H4",
         "opacity": 1,
         "showlegend": true,
         "type": "scatter3d",
         "x": [
          -0.29740648858149865,
          -0.6157721474455999
         ],
         "y": [
          -4.807457819063277,
          -5.80947075470068
         ],
         "z": [
          2.733555591563719,
          2.4426631989658003
         ]
        },
        {
         "hoverinfo": "skip",
         "line": {
          "color": "green",
          "width": 1
         },
         "mode": "lines",
         "name": "C5-C6",
         "opacity": 1,
         "showlegend": true,
         "type": "scatter3d",
         "x": [
          -1.1858924768459764,
          -2.647408038237177
         ],
         "y": [
          -3.769332512623271,
          -4.018348029596454
         ],
         "z": [
          2.0449588323595087,
          2.4209608750639897
         ]
        },
        {
         "hoverinfo": "skip",
         "line": {
          "color": "green",
          "width": 1
         },
         "mode": "lines",
         "name": "C5-O5",
         "opacity": 1,
         "showlegend": true,
         "type": "scatter3d",
         "x": [
          -1.1858924768459764,
          -1.0628112560443825
         ],
         "y": [
          -3.769332512623271,
          -3.8695211038482062
         ],
         "z": [
          2.0449588323595087,
          0.6324456961841649
         ]
        },
        {
         "hoverinfo": "skip",
         "line": {
          "color": "green",
          "width": 1
         },
         "mode": "lines",
         "name": "C5-H5",
         "opacity": 1,
         "showlegend": true,
         "type": "scatter3d",
         "x": [
          -1.1858924768459764,
          -0.89292267979314
         ],
         "y": [
          -3.769332512623271,
          -2.7689192168402634
         ],
         "z": [
          2.0449588323595087,
          2.3669074860846027
         ]
        },
        {
         "hoverinfo": "skip",
         "line": {
          "color": "green",
          "width": 1
         },
         "mode": "lines",
         "name": "C6-O6",
         "opacity": 1,
         "showlegend": true,
         "type": "scatter3d",
         "x": [
          -2.647408038237177,
          -3.4644008318025263
         ],
         "y": [
          -4.018348029596454,
          -2.9810330966830554
         ],
         "z": [
          2.4209608750639897,
          1.8741176569318108
         ]
        },
        {
         "hoverinfo": "skip",
         "line": {
          "color": "green",
          "width": 1
         },
         "mode": "lines",
         "name": "C6-H61",
         "opacity": 1,
         "showlegend": true,
         "type": "scatter3d",
         "x": [
          -2.647408038237177,
          -2.7480569164925552
         ],
         "y": [
          -4.018348029596454,
          -4.0249179180712655
         ],
         "z": [
          2.4209608750639897,
          3.5057477849552208
         ]
        },
        {
         "hoverinfo": "skip",
         "line": {
          "color": "green",
          "width": 1
         },
         "mode": "lines",
         "name": "C6-H62",
         "opacity": 1,
         "showlegend": true,
         "type": "scatter3d",
         "x": [
          -2.647408038237177,
          -2.9664507074949316
         ],
         "y": [
          -4.018348029596454,
          -4.980623508359484
         ],
         "z": [
          2.4209608750639897,
          2.021052537861238
         ]
        },
        {
         "hoverinfo": "skip",
         "line": {
          "color": "green",
          "width": 1
         },
         "mode": "lines",
         "name": "O2-HO2",
         "opacity": 1,
         "showlegend": true,
         "type": "scatter3d",
         "x": [
          2.584417832020553,
          2.7131149658157034
         ],
         "y": [
          -4.393915543695059,
          -4.423479131905306
         ],
         "z": [
          0.3617932991596511,
          -0.5964326877583873
         ]
        },
        {
         "hoverinfo": "skip",
         "line": {
          "color": "green",
          "width": 1
         },
         "mode": "lines",
         "name": "O3-HO3",
         "opacity": 1,
         "showlegend": true,
         "type": "scatter3d",
         "x": [
          1.9835288192554574,
          2.918976473041921
         ],
         "y": [
          -5.600259833840452,
          -5.526501691449328
         ],
         "z": [
          2.8853484992636242,
          2.6501136730656056
         ]
        },
        {
         "hoverinfo": "skip",
         "line": {
          "color": "green",
          "width": 1
         },
         "mode": "lines",
         "name": "O4-HO4",
         "opacity": 1,
         "showlegend": true,
         "type": "scatter3d",
         "x": [
          -0.4041065690148238,
          0.13786593422464422
         ],
         "y": [
          -4.663750054777857,
          -5.28922167868464
         ],
         "z": [
          4.1513740465570255,
          4.652185441614844
         ]
        },
        {
         "hoverinfo": "skip",
         "line": {
          "color": "green",
          "width": 1
         },
         "mode": "lines",
         "name": "O6-HO6",
         "opacity": 1,
         "showlegend": true,
         "type": "scatter3d",
         "x": [
          -3.4644008318025263,
          -4.405683876250526
         ],
         "y": [
          -2.9810330966830554,
          -3.0751327441705563
         ],
         "z": [
          1.8741176569318108,
          2.0723636823079397
         ]
        },
        {
         "hoverinfo": "skip",
         "line": {
          "color": "green",
          "width": 1
         },
         "mode": "lines",
         "name": "O4-C1",
         "opacity": 1,
         "showlegend": true,
         "type": "scatter3d",
         "x": [
          0.6579999999999999,
          0.28739188564117746
         ],
         "y": [
          -2.338,
          -3.6208883690602627
         ],
         "z": [
          0.562,
          0.1753436951227908
         ]
        }
       ],
       "layout": {
        "scene": {
         "xaxis": {
          "showgrid": false,
          "showline": false,
          "showticklabels": false
         },
         "yaxis": {
          "showgrid": false,
          "showline": false,
          "showticklabels": false
         },
         "zaxis": {
          "showgrid": false,
          "showline": false,
          "showticklabels": false
         }
        },
        "template": {
         "data": {
          "bar": [
           {
            "error_x": {
             "color": "rgb(36,36,36)"
            },
            "error_y": {
             "color": "rgb(36,36,36)"
            },
            "marker": {
             "line": {
              "color": "white",
              "width": 0.5
             },
             "pattern": {
              "fillmode": "overlay",
              "size": 10,
              "solidity": 0.2
             }
            },
            "type": "bar"
           }
          ],
          "barpolar": [
           {
            "marker": {
             "line": {
              "color": "white",
              "width": 0.5
             },
             "pattern": {
              "fillmode": "overlay",
              "size": 10,
              "solidity": 0.2
             }
            },
            "type": "barpolar"
           }
          ],
          "carpet": [
           {
            "aaxis": {
             "endlinecolor": "rgb(36,36,36)",
             "gridcolor": "white",
             "linecolor": "white",
             "minorgridcolor": "white",
             "startlinecolor": "rgb(36,36,36)"
            },
            "baxis": {
             "endlinecolor": "rgb(36,36,36)",
             "gridcolor": "white",
             "linecolor": "white",
             "minorgridcolor": "white",
             "startlinecolor": "rgb(36,36,36)"
            },
            "type": "carpet"
           }
          ],
          "choropleth": [
           {
            "colorbar": {
             "outlinewidth": 1,
             "tickcolor": "rgb(36,36,36)",
             "ticks": "outside"
            },
            "type": "choropleth"
           }
          ],
          "contour": [
           {
            "colorbar": {
             "outlinewidth": 1,
             "tickcolor": "rgb(36,36,36)",
             "ticks": "outside"
            },
            "colorscale": [
             [
              0,
              "#440154"
             ],
             [
              0.1111111111111111,
              "#482878"
             ],
             [
              0.2222222222222222,
              "#3e4989"
             ],
             [
              0.3333333333333333,
              "#31688e"
             ],
             [
              0.4444444444444444,
              "#26828e"
             ],
             [
              0.5555555555555556,
              "#1f9e89"
             ],
             [
              0.6666666666666666,
              "#35b779"
             ],
             [
              0.7777777777777778,
              "#6ece58"
             ],
             [
              0.8888888888888888,
              "#b5de2b"
             ],
             [
              1,
              "#fde725"
             ]
            ],
            "type": "contour"
           }
          ],
          "contourcarpet": [
           {
            "colorbar": {
             "outlinewidth": 1,
             "tickcolor": "rgb(36,36,36)",
             "ticks": "outside"
            },
            "type": "contourcarpet"
           }
          ],
          "heatmap": [
           {
            "colorbar": {
             "outlinewidth": 1,
             "tickcolor": "rgb(36,36,36)",
             "ticks": "outside"
            },
            "colorscale": [
             [
              0,
              "#440154"
             ],
             [
              0.1111111111111111,
              "#482878"
             ],
             [
              0.2222222222222222,
              "#3e4989"
             ],
             [
              0.3333333333333333,
              "#31688e"
             ],
             [
              0.4444444444444444,
              "#26828e"
             ],
             [
              0.5555555555555556,
              "#1f9e89"
             ],
             [
              0.6666666666666666,
              "#35b779"
             ],
             [
              0.7777777777777778,
              "#6ece58"
             ],
             [
              0.8888888888888888,
              "#b5de2b"
             ],
             [
              1,
              "#fde725"
             ]
            ],
            "type": "heatmap"
           }
          ],
          "heatmapgl": [
           {
            "colorbar": {
             "outlinewidth": 1,
             "tickcolor": "rgb(36,36,36)",
             "ticks": "outside"
            },
            "colorscale": [
             [
              0,
              "#440154"
             ],
             [
              0.1111111111111111,
              "#482878"
             ],
             [
              0.2222222222222222,
              "#3e4989"
             ],
             [
              0.3333333333333333,
              "#31688e"
             ],
             [
              0.4444444444444444,
              "#26828e"
             ],
             [
              0.5555555555555556,
              "#1f9e89"
             ],
             [
              0.6666666666666666,
              "#35b779"
             ],
             [
              0.7777777777777778,
              "#6ece58"
             ],
             [
              0.8888888888888888,
              "#b5de2b"
             ],
             [
              1,
              "#fde725"
             ]
            ],
            "type": "heatmapgl"
           }
          ],
          "histogram": [
           {
            "marker": {
             "line": {
              "color": "white",
              "width": 0.6
             }
            },
            "type": "histogram"
           }
          ],
          "histogram2d": [
           {
            "colorbar": {
             "outlinewidth": 1,
             "tickcolor": "rgb(36,36,36)",
             "ticks": "outside"
            },
            "colorscale": [
             [
              0,
              "#440154"
             ],
             [
              0.1111111111111111,
              "#482878"
             ],
             [
              0.2222222222222222,
              "#3e4989"
             ],
             [
              0.3333333333333333,
              "#31688e"
             ],
             [
              0.4444444444444444,
              "#26828e"
             ],
             [
              0.5555555555555556,
              "#1f9e89"
             ],
             [
              0.6666666666666666,
              "#35b779"
             ],
             [
              0.7777777777777778,
              "#6ece58"
             ],
             [
              0.8888888888888888,
              "#b5de2b"
             ],
             [
              1,
              "#fde725"
             ]
            ],
            "type": "histogram2d"
           }
          ],
          "histogram2dcontour": [
           {
            "colorbar": {
             "outlinewidth": 1,
             "tickcolor": "rgb(36,36,36)",
             "ticks": "outside"
            },
            "colorscale": [
             [
              0,
              "#440154"
             ],
             [
              0.1111111111111111,
              "#482878"
             ],
             [
              0.2222222222222222,
              "#3e4989"
             ],
             [
              0.3333333333333333,
              "#31688e"
             ],
             [
              0.4444444444444444,
              "#26828e"
             ],
             [
              0.5555555555555556,
              "#1f9e89"
             ],
             [
              0.6666666666666666,
              "#35b779"
             ],
             [
              0.7777777777777778,
              "#6ece58"
             ],
             [
              0.8888888888888888,
              "#b5de2b"
             ],
             [
              1,
              "#fde725"
             ]
            ],
            "type": "histogram2dcontour"
           }
          ],
          "mesh3d": [
           {
            "colorbar": {
             "outlinewidth": 1,
             "tickcolor": "rgb(36,36,36)",
             "ticks": "outside"
            },
            "type": "mesh3d"
           }
          ],
          "parcoords": [
           {
            "line": {
             "colorbar": {
              "outlinewidth": 1,
              "tickcolor": "rgb(36,36,36)",
              "ticks": "outside"
             }
            },
            "type": "parcoords"
           }
          ],
          "pie": [
           {
            "automargin": true,
            "type": "pie"
           }
          ],
          "scatter": [
           {
            "fillpattern": {
             "fillmode": "overlay",
             "size": 10,
             "solidity": 0.2
            },
            "type": "scatter"
           }
          ],
          "scatter3d": [
           {
            "line": {
             "colorbar": {
              "outlinewidth": 1,
              "tickcolor": "rgb(36,36,36)",
              "ticks": "outside"
             }
            },
            "marker": {
             "colorbar": {
              "outlinewidth": 1,
              "tickcolor": "rgb(36,36,36)",
              "ticks": "outside"
             }
            },
            "type": "scatter3d"
           }
          ],
          "scattercarpet": [
           {
            "marker": {
             "colorbar": {
              "outlinewidth": 1,
              "tickcolor": "rgb(36,36,36)",
              "ticks": "outside"
             }
            },
            "type": "scattercarpet"
           }
          ],
          "scattergeo": [
           {
            "marker": {
             "colorbar": {
              "outlinewidth": 1,
              "tickcolor": "rgb(36,36,36)",
              "ticks": "outside"
             }
            },
            "type": "scattergeo"
           }
          ],
          "scattergl": [
           {
            "marker": {
             "colorbar": {
              "outlinewidth": 1,
              "tickcolor": "rgb(36,36,36)",
              "ticks": "outside"
             }
            },
            "type": "scattergl"
           }
          ],
          "scattermapbox": [
           {
            "marker": {
             "colorbar": {
              "outlinewidth": 1,
              "tickcolor": "rgb(36,36,36)",
              "ticks": "outside"
             }
            },
            "type": "scattermapbox"
           }
          ],
          "scatterpolar": [
           {
            "marker": {
             "colorbar": {
              "outlinewidth": 1,
              "tickcolor": "rgb(36,36,36)",
              "ticks": "outside"
             }
            },
            "type": "scatterpolar"
           }
          ],
          "scatterpolargl": [
           {
            "marker": {
             "colorbar": {
              "outlinewidth": 1,
              "tickcolor": "rgb(36,36,36)",
              "ticks": "outside"
             }
            },
            "type": "scatterpolargl"
           }
          ],
          "scatterternary": [
           {
            "marker": {
             "colorbar": {
              "outlinewidth": 1,
              "tickcolor": "rgb(36,36,36)",
              "ticks": "outside"
             }
            },
            "type": "scatterternary"
           }
          ],
          "surface": [
           {
            "colorbar": {
             "outlinewidth": 1,
             "tickcolor": "rgb(36,36,36)",
             "ticks": "outside"
            },
            "colorscale": [
             [
              0,
              "#440154"
             ],
             [
              0.1111111111111111,
              "#482878"
             ],
             [
              0.2222222222222222,
              "#3e4989"
             ],
             [
              0.3333333333333333,
              "#31688e"
             ],
             [
              0.4444444444444444,
              "#26828e"
             ],
             [
              0.5555555555555556,
              "#1f9e89"
             ],
             [
              0.6666666666666666,
              "#35b779"
             ],
             [
              0.7777777777777778,
              "#6ece58"
             ],
             [
              0.8888888888888888,
              "#b5de2b"
             ],
             [
              1,
              "#fde725"
             ]
            ],
            "type": "surface"
           }
          ],
          "table": [
           {
            "cells": {
             "fill": {
              "color": "rgb(237,237,237)"
             },
             "line": {
              "color": "white"
             }
            },
            "header": {
             "fill": {
              "color": "rgb(217,217,217)"
             },
             "line": {
              "color": "white"
             }
            },
            "type": "table"
           }
          ]
         },
         "layout": {
          "annotationdefaults": {
           "arrowhead": 0,
           "arrowwidth": 1
          },
          "autotypenumbers": "strict",
          "coloraxis": {
           "colorbar": {
            "outlinewidth": 1,
            "tickcolor": "rgb(36,36,36)",
            "ticks": "outside"
           }
          },
          "colorscale": {
           "diverging": [
            [
             0,
             "rgb(103,0,31)"
            ],
            [
             0.1,
             "rgb(178,24,43)"
            ],
            [
             0.2,
             "rgb(214,96,77)"
            ],
            [
             0.3,
             "rgb(244,165,130)"
            ],
            [
             0.4,
             "rgb(253,219,199)"
            ],
            [
             0.5,
             "rgb(247,247,247)"
            ],
            [
             0.6,
             "rgb(209,229,240)"
            ],
            [
             0.7,
             "rgb(146,197,222)"
            ],
            [
             0.8,
             "rgb(67,147,195)"
            ],
            [
             0.9,
             "rgb(33,102,172)"
            ],
            [
             1,
             "rgb(5,48,97)"
            ]
           ],
           "sequential": [
            [
             0,
             "#440154"
            ],
            [
             0.1111111111111111,
             "#482878"
            ],
            [
             0.2222222222222222,
             "#3e4989"
            ],
            [
             0.3333333333333333,
             "#31688e"
            ],
            [
             0.4444444444444444,
             "#26828e"
            ],
            [
             0.5555555555555556,
             "#1f9e89"
            ],
            [
             0.6666666666666666,
             "#35b779"
            ],
            [
             0.7777777777777778,
             "#6ece58"
            ],
            [
             0.8888888888888888,
             "#b5de2b"
            ],
            [
             1,
             "#fde725"
            ]
           ],
           "sequentialminus": [
            [
             0,
             "#440154"
            ],
            [
             0.1111111111111111,
             "#482878"
            ],
            [
             0.2222222222222222,
             "#3e4989"
            ],
            [
             0.3333333333333333,
             "#31688e"
            ],
            [
             0.4444444444444444,
             "#26828e"
            ],
            [
             0.5555555555555556,
             "#1f9e89"
            ],
            [
             0.6666666666666666,
             "#35b779"
            ],
            [
             0.7777777777777778,
             "#6ece58"
            ],
            [
             0.8888888888888888,
             "#b5de2b"
            ],
            [
             1,
             "#fde725"
            ]
           ]
          },
          "colorway": [
           "#1F77B4",
           "#FF7F0E",
           "#2CA02C",
           "#D62728",
           "#9467BD",
           "#8C564B",
           "#E377C2",
           "#7F7F7F",
           "#BCBD22",
           "#17BECF"
          ],
          "font": {
           "color": "rgb(36,36,36)"
          },
          "geo": {
           "bgcolor": "white",
           "lakecolor": "white",
           "landcolor": "white",
           "showlakes": true,
           "showland": true,
           "subunitcolor": "white"
          },
          "hoverlabel": {
           "align": "left"
          },
          "hovermode": "closest",
          "mapbox": {
           "style": "light"
          },
          "paper_bgcolor": "white",
          "plot_bgcolor": "white",
          "polar": {
           "angularaxis": {
            "gridcolor": "rgb(232,232,232)",
            "linecolor": "rgb(36,36,36)",
            "showgrid": false,
            "showline": true,
            "ticks": "outside"
           },
           "bgcolor": "white",
           "radialaxis": {
            "gridcolor": "rgb(232,232,232)",
            "linecolor": "rgb(36,36,36)",
            "showgrid": false,
            "showline": true,
            "ticks": "outside"
           }
          },
          "scene": {
           "xaxis": {
            "backgroundcolor": "white",
            "gridcolor": "rgb(232,232,232)",
            "gridwidth": 2,
            "linecolor": "rgb(36,36,36)",
            "showbackground": true,
            "showgrid": false,
            "showline": true,
            "ticks": "outside",
            "zeroline": false,
            "zerolinecolor": "rgb(36,36,36)"
           },
           "yaxis": {
            "backgroundcolor": "white",
            "gridcolor": "rgb(232,232,232)",
            "gridwidth": 2,
            "linecolor": "rgb(36,36,36)",
            "showbackground": true,
            "showgrid": false,
            "showline": true,
            "ticks": "outside",
            "zeroline": false,
            "zerolinecolor": "rgb(36,36,36)"
           },
           "zaxis": {
            "backgroundcolor": "white",
            "gridcolor": "rgb(232,232,232)",
            "gridwidth": 2,
            "linecolor": "rgb(36,36,36)",
            "showbackground": true,
            "showgrid": false,
            "showline": true,
            "ticks": "outside",
            "zeroline": false,
            "zerolinecolor": "rgb(36,36,36)"
           }
          },
          "shapedefaults": {
           "fillcolor": "black",
           "line": {
            "width": 0
           },
           "opacity": 0.3
          },
          "ternary": {
           "aaxis": {
            "gridcolor": "rgb(232,232,232)",
            "linecolor": "rgb(36,36,36)",
            "showgrid": false,
            "showline": true,
            "ticks": "outside"
           },
           "baxis": {
            "gridcolor": "rgb(232,232,232)",
            "linecolor": "rgb(36,36,36)",
            "showgrid": false,
            "showline": true,
            "ticks": "outside"
           },
           "bgcolor": "white",
           "caxis": {
            "gridcolor": "rgb(232,232,232)",
            "linecolor": "rgb(36,36,36)",
            "showgrid": false,
            "showline": true,
            "ticks": "outside"
           }
          },
          "title": {
           "x": 0.05
          },
          "xaxis": {
           "automargin": true,
           "gridcolor": "rgb(232,232,232)",
           "linecolor": "rgb(36,36,36)",
           "showgrid": false,
           "showline": true,
           "ticks": "outside",
           "title": {
            "standoff": 15
           },
           "zeroline": false,
           "zerolinecolor": "rgb(36,36,36)"
          },
          "yaxis": {
           "automargin": true,
           "gridcolor": "rgb(232,232,232)",
           "linecolor": "rgb(36,36,36)",
           "showgrid": false,
           "showline": true,
           "ticks": "outside",
           "title": {
            "standoff": 15
           },
           "zeroline": false,
           "zerolinecolor": "rgb(36,36,36)"
          }
         }
        }
       }
      }
     },
     "metadata": {},
     "output_type": "display_data"
    }
   ],
   "source": [
    "env = envs.DistanceRotatron(graph, edges, pushback=4)\n",
    "\n",
    "animation_frames = []\n",
    "evals = np.zeros_like(angles)\n",
    "\n",
    "idx = 0\n",
    "for angle in angles:\n",
    "    state, eval, *_ = env.step([angle])\n",
    "    evals[idx] = eval\n",
    "    env.reset()\n",
    "    idx += 1\n",
    "\n",
    "_e = -evals + evals.max()\n",
    "_e = _e / _e.max()\n",
    "for i, angle in enumerate(angles):\n",
    "    v = env.graph.draw()\n",
    "    s = structure.copy()\n",
    "    s.rotate_descendants(24, 10, angle, angle_is_degrees=False)\n",
    "    v.draw_edges(*s.bonds, color=\"blue\", opacity = _e[i] ) \n",
    "    animation_frames.append(go.Frame(data=v.figure.data))\n",
    "\n",
    "angle = angles[np.argmin(evals)]\n",
    "s = structure.copy()\n",
    "s.rotate_descendants(24, 10, angle, angle_is_degrees=False)\n",
    "v.draw_edges(*s.bonds, color=\"green\", opacity = 1)\n",
    "\n",
    "animation_frames.append(go.Frame(data=v.figure.data))\n",
    "v.show()\n",
    "\n",
    "anim = go.Figure(\n",
    "    data=v.figure.data,\n",
    "    layout=v.figure.layout,\n",
    "    frames=animation_frames,\n",
    ")\n",
    "anim.write_html(\"animation.html\")"
   ]
  },
  {
   "cell_type": "code",
   "execution_count": 340,
   "metadata": {},
   "outputs": [
    {
     "data": {
      "application/vnd.plotly.v1+json": {
       "config": {
        "plotlyServerURL": "https://plot.ly"
       },
       "data": [
        {
         "customdata": [
          [
           "C1",
           1,
           1,
           "GLC",
           "A"
          ],
          [
           "C2",
           2,
           1,
           "GLC",
           "A"
          ],
          [
           "C3",
           3,
           1,
           "GLC",
           "A"
          ],
          [
           "C4",
           4,
           1,
           "GLC",
           "A"
          ],
          [
           "C5",
           5,
           1,
           "GLC",
           "A"
          ],
          [
           "C6",
           6,
           1,
           "GLC",
           "A"
          ],
          [
           "C1",
           24,
           2,
           "GLC",
           "A"
          ],
          [
           "C2",
           25,
           2,
           "GLC",
           "A"
          ],
          [
           "C3",
           26,
           2,
           "GLC",
           "A"
          ],
          [
           "C4",
           27,
           2,
           "GLC",
           "A"
          ],
          [
           "C5",
           28,
           2,
           "GLC",
           "A"
          ],
          [
           "C6",
           29,
           2,
           "GLC",
           "A"
          ]
         ],
         "hovertemplate": "atom_element=C<br>x=%{x}<br>y=%{y}<br>z=%{z}<br>atom_id=%{customdata[0]}<br>atom_serial=%{customdata[1]}<br>residue_serial=%{customdata[2]}<br>residue_name=%{customdata[3]}<br>chain_id=%{customdata[4]}<extra></extra>",
         "legendgroup": "C",
         "marker": {
          "color": "black",
          "opacity": 0.3,
          "symbol": "circle"
         },
         "mode": "markers",
         "name": "C",
         "scene": "scene",
         "showlegend": true,
         "type": "scatter3d",
         "x": [
          2.651263118524438,
          2.0797109972114987,
          1.0205751133811383,
          1.654599708851742,
          2.243221687286857,
          2.9304415736462723,
          0.28739188564117746,
          1.2559386060123703,
          1.1570660030481243,
          -0.29740648858149865,
          -1.1858924768459764,
          -2.647408038237177
         ],
         "y": [
          0.9124498116661293,
          -0.12117855242896619,
          -0.9604497813010617,
          -1.6108962633940618,
          -0.5202407535860898,
          -1.1658256604985802,
          -3.6208883690602627,
          -4.663870478759195,
          -4.589006846706296,
          -4.807457819063277,
          -3.769332512623271,
          -4.018348029596454
         ],
         "z": [
          -1.1413649527244172,
          -2.115013543110485,
          -1.3928321365578071,
          -0.15935648366830746,
          0.7380128524629442,
          1.9423230100880233,
          0.1753436951227908,
          0.7414857349910289,
          2.305397975995566,
          2.733555591563719,
          2.0449588323595087,
          2.4209608750639897
         ]
        },
        {
         "customdata": [
          [
           "O1",
           7,
           1,
           "GLC",
           "A"
          ],
          [
           "O2",
           8,
           1,
           "GLC",
           "A"
          ],
          [
           "O3",
           9,
           1,
           "GLC",
           "A"
          ],
          [
           "O4",
           10,
           1,
           "GLC",
           "A"
          ],
          [
           "O5",
           11,
           1,
           "GLC",
           "A"
          ],
          [
           "O6",
           12,
           1,
           "GLC",
           "A"
          ],
          [
           "O2",
           30,
           2,
           "GLC",
           "A"
          ],
          [
           "O3",
           31,
           2,
           "GLC",
           "A"
          ],
          [
           "O4",
           32,
           2,
           "GLC",
           "A"
          ],
          [
           "O5",
           33,
           2,
           "GLC",
           "A"
          ],
          [
           "O6",
           34,
           2,
           "GLC",
           "A"
          ]
         ],
         "hovertemplate": "atom_element=O<br>x=%{x}<br>y=%{y}<br>z=%{z}<br>atom_id=%{customdata[0]}<br>atom_serial=%{customdata[1]}<br>residue_serial=%{customdata[2]}<br>residue_name=%{customdata[3]}<br>chain_id=%{customdata[4]}<extra></extra>",
         "legendgroup": "O",
         "marker": {
          "color": "red",
          "opacity": 0.3,
          "symbol": "circle"
         },
         "mode": "markers",
         "name": "O",
         "scene": "scene",
         "showlegend": true,
         "type": "scatter3d",
         "x": [
          1.6114794070789071,
          1.481945236658775,
          0.5341018843206609,
          0.6579999999999999,
          3.1973790982686827,
          3.377560022545204,
          2.584417832020553,
          1.9835288192554574,
          -0.4041065690148238,
          -1.0628112560443825,
          -3.4644008318025263
         ],
         "y": [
          1.7961758443340874,
          0.5490896172240466,
          -1.976104814362487,
          -2.338,
          0.24196941801305827,
          -0.1471612470989122,
          -4.393915543695059,
          -5.600259833840452,
          -4.663750054777857,
          -3.8695211038482062,
          -2.9810330966830554
         ],
         "z": [
          -0.7204324966254513,
          -3.2262500959023837,
          -2.272493805169364,
          0.562,
          -0.0031978391620867685,
          2.8395102288597376,
          0.3617932991596511,
          2.8853484992636242,
          4.1513740465570255,
          0.6324456961841649,
          1.8741176569318108
         ]
        },
        {
         "customdata": [
          [
           "H1",
           13,
           1,
           "GLC",
           "A"
          ],
          [
           "H2",
           14,
           1,
           "GLC",
           "A"
          ],
          [
           "H3",
           15,
           1,
           "GLC",
           "A"
          ],
          [
           "H4",
           16,
           1,
           "GLC",
           "A"
          ],
          [
           "H5",
           17,
           1,
           "GLC",
           "A"
          ],
          [
           "H61",
           18,
           1,
           "GLC",
           "A"
          ],
          [
           "H62",
           19,
           1,
           "GLC",
           "A"
          ],
          [
           "HO1",
           20,
           1,
           "GLC",
           "A"
          ],
          [
           "HO2",
           21,
           1,
           "GLC",
           "A"
          ],
          [
           "HO3",
           22,
           1,
           "GLC",
           "A"
          ],
          [
           "HO6",
           23,
           1,
           "GLC",
           "A"
          ],
          [
           "H1",
           35,
           2,
           "GLC",
           "A"
          ],
          [
           "H2",
           36,
           2,
           "GLC",
           "A"
          ],
          [
           "H3",
           37,
           2,
           "GLC",
           "A"
          ],
          [
           "H4",
           38,
           2,
           "GLC",
           "A"
          ],
          [
           "H5",
           39,
           2,
           "GLC",
           "A"
          ],
          [
           "H61",
           40,
           2,
           "GLC",
           "A"
          ],
          [
           "H62",
           41,
           2,
           "GLC",
           "A"
          ],
          [
           "HO2",
           42,
           2,
           "GLC",
           "A"
          ],
          [
           "HO3",
           43,
           2,
           "GLC",
           "A"
          ],
          [
           "HO4",
           44,
           2,
           "GLC",
           "A"
          ],
          [
           "HO6",
           45,
           2,
           "GLC",
           "A"
          ]
         ],
         "hovertemplate": "atom_element=H<br>x=%{x}<br>y=%{y}<br>z=%{z}<br>atom_id=%{customdata[0]}<br>atom_serial=%{customdata[1]}<br>residue_serial=%{customdata[2]}<br>residue_name=%{customdata[3]}<br>chain_id=%{customdata[4]}<extra></extra>",
         "legendgroup": "H",
         "marker": {
          "color": "lightgray",
          "opacity": 0.3,
          "symbol": "circle"
         },
         "mode": "markers",
         "name": "H",
         "scene": "scene",
         "showlegend": true,
         "type": "scatter3d",
         "x": [
          3.436047699273448,
          2.8806881793273047,
          0.1961711351737474,
          2.447516783593116,
          1.4438348111593489,
          2.225740614257253,
          3.784810087395735,
          1.9019948180911943,
          2.095386225174728,
          0.12473856287271667,
          3.82460483299538,
          0.353176357329021,
          0.958439697141797,
          1.4920919017610776,
          -0.6157721474455999,
          -0.89292267979314,
          -2.7480569164925552,
          -2.9664507074949316,
          2.7131149658157034,
          2.918976473041921,
          0.13786593422464422,
          -4.405683876250526
         ],
         "y": [
          1.4839601857270257,
          -0.7714905557722336,
          -0.3177762198261441,
          -2.2909709845389346,
          0.13652086887944392,
          -1.8181015217176884,
          -1.7508461796736192,
          2.4796786524058936,
          1.1032470273375863,
          -1.6343910174137481,
          -0.4844929475592173,
          -3.74292022034265,
          -5.667871141059261,
          -3.6065463039192296,
          -5.80947075470068,
          -2.7689192168402634,
          -4.0249179180712655,
          -4.980623508359484,
          -4.423479131905306,
          -5.526501691449328,
          -5.28922167868464,
          -3.0751327441705563
         ],
         "z": [
          -1.6380037089239061,
          -2.468764659062772,
          -1.0836998443316905,
          -0.47365870485566386,
          1.0843563142628518,
          2.4569770285383474,
          1.6024782884022182,
          -0.10035209270809026,
          -3.7284788469957717,
          -3.079643947353569,
          3.6272463911083204,
          -0.8994522485601693,
          0.4479921439350847,
          2.638208626453334,
          2.4426631989658003,
          2.3669074860846027,
          3.5057477849552208,
          2.021052537861238,
          -0.5964326877583873,
          2.6501136730656056,
          4.652185441614844,
          2.0723636823079397
         ]
        },
        {
         "hoverinfo": "skip",
         "line": {
          "color": "black",
          "width": 1
         },
         "mode": "lines",
         "showlegend": false,
         "type": "scatter3d",
         "x": [
          2.651263118524438,
          2.0797109972114987
         ],
         "y": [
          0.9124498116661293,
          -0.12117855242896619
         ],
         "z": [
          -1.1413649527244172,
          -2.115013543110485
         ]
        },
        {
         "hoverinfo": "skip",
         "line": {
          "color": "black",
          "width": 1
         },
         "mode": "lines",
         "showlegend": false,
         "type": "scatter3d",
         "x": [
          2.651263118524438,
          1.6114794070789071
         ],
         "y": [
          0.9124498116661293,
          1.7961758443340874
         ],
         "z": [
          -1.1413649527244172,
          -0.7204324966254513
         ]
        },
        {
         "hoverinfo": "skip",
         "line": {
          "color": "black",
          "width": 1
         },
         "mode": "lines",
         "showlegend": false,
         "type": "scatter3d",
         "x": [
          2.651263118524438,
          3.1973790982686827
         ],
         "y": [
          0.9124498116661293,
          0.24196941801305827
         ],
         "z": [
          -1.1413649527244172,
          -0.0031978391620867685
         ]
        },
        {
         "hoverinfo": "skip",
         "line": {
          "color": "black",
          "width": 1
         },
         "mode": "lines",
         "showlegend": false,
         "type": "scatter3d",
         "x": [
          2.651263118524438,
          3.436047699273448
         ],
         "y": [
          0.9124498116661293,
          1.4839601857270257
         ],
         "z": [
          -1.1413649527244172,
          -1.6380037089239061
         ]
        },
        {
         "hoverinfo": "skip",
         "line": {
          "color": "black",
          "width": 1
         },
         "mode": "lines",
         "showlegend": false,
         "type": "scatter3d",
         "x": [
          2.0797109972114987,
          1.0205751133811383
         ],
         "y": [
          -0.12117855242896619,
          -0.9604497813010617
         ],
         "z": [
          -2.115013543110485,
          -1.3928321365578071
         ]
        },
        {
         "hoverinfo": "skip",
         "line": {
          "color": "black",
          "width": 1
         },
         "mode": "lines",
         "showlegend": false,
         "type": "scatter3d",
         "x": [
          2.0797109972114987,
          1.481945236658775
         ],
         "y": [
          -0.12117855242896619,
          0.5490896172240466
         ],
         "z": [
          -2.115013543110485,
          -3.2262500959023837
         ]
        },
        {
         "hoverinfo": "skip",
         "line": {
          "color": "black",
          "width": 1
         },
         "mode": "lines",
         "showlegend": false,
         "type": "scatter3d",
         "x": [
          2.0797109972114987,
          2.8806881793273047
         ],
         "y": [
          -0.12117855242896619,
          -0.7714905557722336
         ],
         "z": [
          -2.115013543110485,
          -2.468764659062772
         ]
        },
        {
         "hoverinfo": "skip",
         "line": {
          "color": "black",
          "width": 1
         },
         "mode": "lines",
         "showlegend": false,
         "type": "scatter3d",
         "x": [
          1.0205751133811383,
          1.654599708851742
         ],
         "y": [
          -0.9604497813010617,
          -1.6108962633940618
         ],
         "z": [
          -1.3928321365578071,
          -0.15935648366830746
         ]
        },
        {
         "hoverinfo": "skip",
         "line": {
          "color": "black",
          "width": 1
         },
         "mode": "lines",
         "showlegend": false,
         "type": "scatter3d",
         "x": [
          1.0205751133811383,
          0.5341018843206609
         ],
         "y": [
          -0.9604497813010617,
          -1.976104814362487
         ],
         "z": [
          -1.3928321365578071,
          -2.272493805169364
         ]
        },
        {
         "hoverinfo": "skip",
         "line": {
          "color": "black",
          "width": 1
         },
         "mode": "lines",
         "showlegend": false,
         "type": "scatter3d",
         "x": [
          1.0205751133811383,
          0.1961711351737474
         ],
         "y": [
          -0.9604497813010617,
          -0.3177762198261441
         ],
         "z": [
          -1.3928321365578071,
          -1.0836998443316905
         ]
        },
        {
         "hoverinfo": "skip",
         "line": {
          "color": "black",
          "width": 1
         },
         "mode": "lines",
         "showlegend": false,
         "type": "scatter3d",
         "x": [
          1.654599708851742,
          2.243221687286857
         ],
         "y": [
          -1.6108962633940618,
          -0.5202407535860898
         ],
         "z": [
          -0.15935648366830746,
          0.7380128524629442
         ]
        },
        {
         "hoverinfo": "skip",
         "line": {
          "color": "black",
          "width": 1
         },
         "mode": "lines",
         "showlegend": false,
         "type": "scatter3d",
         "x": [
          1.654599708851742,
          0.6579999999999999
         ],
         "y": [
          -1.6108962633940618,
          -2.338
         ],
         "z": [
          -0.15935648366830746,
          0.562
         ]
        },
        {
         "hoverinfo": "skip",
         "line": {
          "color": "black",
          "width": 1
         },
         "mode": "lines",
         "showlegend": false,
         "type": "scatter3d",
         "x": [
          1.654599708851742,
          2.447516783593116
         ],
         "y": [
          -1.6108962633940618,
          -2.2909709845389346
         ],
         "z": [
          -0.15935648366830746,
          -0.47365870485566386
         ]
        },
        {
         "hoverinfo": "skip",
         "line": {
          "color": "black",
          "width": 1
         },
         "mode": "lines",
         "showlegend": false,
         "type": "scatter3d",
         "x": [
          2.243221687286857,
          2.9304415736462723
         ],
         "y": [
          -0.5202407535860898,
          -1.1658256604985802
         ],
         "z": [
          0.7380128524629442,
          1.9423230100880233
         ]
        },
        {
         "hoverinfo": "skip",
         "line": {
          "color": "black",
          "width": 1
         },
         "mode": "lines",
         "showlegend": false,
         "type": "scatter3d",
         "x": [
          2.243221687286857,
          3.1973790982686827
         ],
         "y": [
          -0.5202407535860898,
          0.24196941801305827
         ],
         "z": [
          0.7380128524629442,
          -0.0031978391620867685
         ]
        },
        {
         "hoverinfo": "skip",
         "line": {
          "color": "black",
          "width": 1
         },
         "mode": "lines",
         "showlegend": false,
         "type": "scatter3d",
         "x": [
          2.243221687286857,
          1.4438348111593489
         ],
         "y": [
          -0.5202407535860898,
          0.13652086887944392
         ],
         "z": [
          0.7380128524629442,
          1.0843563142628518
         ]
        },
        {
         "hoverinfo": "skip",
         "line": {
          "color": "black",
          "width": 1
         },
         "mode": "lines",
         "showlegend": false,
         "type": "scatter3d",
         "x": [
          2.9304415736462723,
          3.377560022545204
         ],
         "y": [
          -1.1658256604985802,
          -0.1471612470989122
         ],
         "z": [
          1.9423230100880233,
          2.8395102288597376
         ]
        },
        {
         "hoverinfo": "skip",
         "line": {
          "color": "black",
          "width": 1
         },
         "mode": "lines",
         "showlegend": false,
         "type": "scatter3d",
         "x": [
          2.9304415736462723,
          2.225740614257253
         ],
         "y": [
          -1.1658256604985802,
          -1.8181015217176884
         ],
         "z": [
          1.9423230100880233,
          2.4569770285383474
         ]
        },
        {
         "hoverinfo": "skip",
         "line": {
          "color": "black",
          "width": 1
         },
         "mode": "lines",
         "showlegend": false,
         "type": "scatter3d",
         "x": [
          2.9304415736462723,
          3.784810087395735
         ],
         "y": [
          -1.1658256604985802,
          -1.7508461796736192
         ],
         "z": [
          1.9423230100880233,
          1.6024782884022182
         ]
        },
        {
         "hoverinfo": "skip",
         "line": {
          "color": "black",
          "width": 1
         },
         "mode": "lines",
         "showlegend": false,
         "type": "scatter3d",
         "x": [
          1.6114794070789071,
          1.9019948180911943
         ],
         "y": [
          1.7961758443340874,
          2.4796786524058936
         ],
         "z": [
          -0.7204324966254513,
          -0.10035209270809026
         ]
        },
        {
         "hoverinfo": "skip",
         "line": {
          "color": "black",
          "width": 1
         },
         "mode": "lines",
         "showlegend": false,
         "type": "scatter3d",
         "x": [
          1.481945236658775,
          2.095386225174728
         ],
         "y": [
          0.5490896172240466,
          1.1032470273375863
         ],
         "z": [
          -3.2262500959023837,
          -3.7284788469957717
         ]
        },
        {
         "hoverinfo": "skip",
         "line": {
          "color": "black",
          "width": 1
         },
         "mode": "lines",
         "showlegend": false,
         "type": "scatter3d",
         "x": [
          0.5341018843206609,
          0.12473856287271667
         ],
         "y": [
          -1.976104814362487,
          -1.6343910174137481
         ],
         "z": [
          -2.272493805169364,
          -3.079643947353569
         ]
        },
        {
         "hoverinfo": "skip",
         "line": {
          "color": "black",
          "width": 1
         },
         "mode": "lines",
         "showlegend": false,
         "type": "scatter3d",
         "x": [
          0.6579999999999999,
          0.28739188564117746
         ],
         "y": [
          -2.338,
          -3.6208883690602627
         ],
         "z": [
          0.562,
          0.1753436951227908
         ]
        },
        {
         "hoverinfo": "skip",
         "line": {
          "color": "black",
          "width": 1
         },
         "mode": "lines",
         "showlegend": false,
         "type": "scatter3d",
         "x": [
          3.377560022545204,
          3.82460483299538
         ],
         "y": [
          -0.1471612470989122,
          -0.4844929475592173
         ],
         "z": [
          2.8395102288597376,
          3.6272463911083204
         ]
        },
        {
         "hoverinfo": "skip",
         "line": {
          "color": "black",
          "width": 1
         },
         "mode": "lines",
         "showlegend": false,
         "type": "scatter3d",
         "x": [
          0.28739188564117746,
          1.2559386060123703
         ],
         "y": [
          -3.6208883690602627,
          -4.663870478759195
         ],
         "z": [
          0.1753436951227908,
          0.7414857349910289
         ]
        },
        {
         "hoverinfo": "skip",
         "line": {
          "color": "black",
          "width": 1
         },
         "mode": "lines",
         "showlegend": false,
         "type": "scatter3d",
         "x": [
          0.28739188564117746,
          -1.0628112560443825
         ],
         "y": [
          -3.6208883690602627,
          -3.8695211038482062
         ],
         "z": [
          0.1753436951227908,
          0.6324456961841649
         ]
        },
        {
         "hoverinfo": "skip",
         "line": {
          "color": "black",
          "width": 1
         },
         "mode": "lines",
         "showlegend": false,
         "type": "scatter3d",
         "x": [
          0.28739188564117746,
          0.353176357329021
         ],
         "y": [
          -3.6208883690602627,
          -3.74292022034265
         ],
         "z": [
          0.1753436951227908,
          -0.8994522485601693
         ]
        },
        {
         "hoverinfo": "skip",
         "line": {
          "color": "black",
          "width": 1
         },
         "mode": "lines",
         "showlegend": false,
         "type": "scatter3d",
         "x": [
          1.2559386060123703,
          1.1570660030481243
         ],
         "y": [
          -4.663870478759195,
          -4.589006846706296
         ],
         "z": [
          0.7414857349910289,
          2.305397975995566
         ]
        },
        {
         "hoverinfo": "skip",
         "line": {
          "color": "black",
          "width": 1
         },
         "mode": "lines",
         "showlegend": false,
         "type": "scatter3d",
         "x": [
          1.2559386060123703,
          2.584417832020553
         ],
         "y": [
          -4.663870478759195,
          -4.393915543695059
         ],
         "z": [
          0.7414857349910289,
          0.3617932991596511
         ]
        },
        {
         "hoverinfo": "skip",
         "line": {
          "color": "black",
          "width": 1
         },
         "mode": "lines",
         "showlegend": false,
         "type": "scatter3d",
         "x": [
          1.2559386060123703,
          0.958439697141797
         ],
         "y": [
          -4.663870478759195,
          -5.667871141059261
         ],
         "z": [
          0.7414857349910289,
          0.4479921439350847
         ]
        },
        {
         "hoverinfo": "skip",
         "line": {
          "color": "black",
          "width": 1
         },
         "mode": "lines",
         "showlegend": false,
         "type": "scatter3d",
         "x": [
          1.1570660030481243,
          -0.29740648858149865
         ],
         "y": [
          -4.589006846706296,
          -4.807457819063277
         ],
         "z": [
          2.305397975995566,
          2.733555591563719
         ]
        },
        {
         "hoverinfo": "skip",
         "line": {
          "color": "black",
          "width": 1
         },
         "mode": "lines",
         "showlegend": false,
         "type": "scatter3d",
         "x": [
          1.1570660030481243,
          1.9835288192554574
         ],
         "y": [
          -4.589006846706296,
          -5.600259833840452
         ],
         "z": [
          2.305397975995566,
          2.8853484992636242
         ]
        },
        {
         "hoverinfo": "skip",
         "line": {
          "color": "black",
          "width": 1
         },
         "mode": "lines",
         "showlegend": false,
         "type": "scatter3d",
         "x": [
          1.1570660030481243,
          1.4920919017610776
         ],
         "y": [
          -4.589006846706296,
          -3.6065463039192296
         ],
         "z": [
          2.305397975995566,
          2.638208626453334
         ]
        },
        {
         "hoverinfo": "skip",
         "line": {
          "color": "black",
          "width": 1
         },
         "mode": "lines",
         "showlegend": false,
         "type": "scatter3d",
         "x": [
          -0.29740648858149865,
          -1.1858924768459764
         ],
         "y": [
          -4.807457819063277,
          -3.769332512623271
         ],
         "z": [
          2.733555591563719,
          2.0449588323595087
         ]
        },
        {
         "hoverinfo": "skip",
         "line": {
          "color": "black",
          "width": 1
         },
         "mode": "lines",
         "showlegend": false,
         "type": "scatter3d",
         "x": [
          -0.29740648858149865,
          -0.4041065690148238
         ],
         "y": [
          -4.807457819063277,
          -4.663750054777857
         ],
         "z": [
          2.733555591563719,
          4.1513740465570255
         ]
        },
        {
         "hoverinfo": "skip",
         "line": {
          "color": "black",
          "width": 1
         },
         "mode": "lines",
         "showlegend": false,
         "type": "scatter3d",
         "x": [
          -0.29740648858149865,
          -0.6157721474455999
         ],
         "y": [
          -4.807457819063277,
          -5.80947075470068
         ],
         "z": [
          2.733555591563719,
          2.4426631989658003
         ]
        },
        {
         "hoverinfo": "skip",
         "line": {
          "color": "black",
          "width": 1
         },
         "mode": "lines",
         "showlegend": false,
         "type": "scatter3d",
         "x": [
          -1.1858924768459764,
          -2.647408038237177
         ],
         "y": [
          -3.769332512623271,
          -4.018348029596454
         ],
         "z": [
          2.0449588323595087,
          2.4209608750639897
         ]
        },
        {
         "hoverinfo": "skip",
         "line": {
          "color": "black",
          "width": 1
         },
         "mode": "lines",
         "showlegend": false,
         "type": "scatter3d",
         "x": [
          -1.1858924768459764,
          -1.0628112560443825
         ],
         "y": [
          -3.769332512623271,
          -3.8695211038482062
         ],
         "z": [
          2.0449588323595087,
          0.6324456961841649
         ]
        },
        {
         "hoverinfo": "skip",
         "line": {
          "color": "black",
          "width": 1
         },
         "mode": "lines",
         "showlegend": false,
         "type": "scatter3d",
         "x": [
          -1.1858924768459764,
          -0.89292267979314
         ],
         "y": [
          -3.769332512623271,
          -2.7689192168402634
         ],
         "z": [
          2.0449588323595087,
          2.3669074860846027
         ]
        },
        {
         "hoverinfo": "skip",
         "line": {
          "color": "black",
          "width": 1
         },
         "mode": "lines",
         "showlegend": false,
         "type": "scatter3d",
         "x": [
          -2.647408038237177,
          -3.4644008318025263
         ],
         "y": [
          -4.018348029596454,
          -2.9810330966830554
         ],
         "z": [
          2.4209608750639897,
          1.8741176569318108
         ]
        },
        {
         "hoverinfo": "skip",
         "line": {
          "color": "black",
          "width": 1
         },
         "mode": "lines",
         "showlegend": false,
         "type": "scatter3d",
         "x": [
          -2.647408038237177,
          -2.7480569164925552
         ],
         "y": [
          -4.018348029596454,
          -4.0249179180712655
         ],
         "z": [
          2.4209608750639897,
          3.5057477849552208
         ]
        },
        {
         "hoverinfo": "skip",
         "line": {
          "color": "black",
          "width": 1
         },
         "mode": "lines",
         "showlegend": false,
         "type": "scatter3d",
         "x": [
          -2.647408038237177,
          -2.9664507074949316
         ],
         "y": [
          -4.018348029596454,
          -4.980623508359484
         ],
         "z": [
          2.4209608750639897,
          2.021052537861238
         ]
        },
        {
         "hoverinfo": "skip",
         "line": {
          "color": "black",
          "width": 1
         },
         "mode": "lines",
         "showlegend": false,
         "type": "scatter3d",
         "x": [
          2.584417832020553,
          2.7131149658157034
         ],
         "y": [
          -4.393915543695059,
          -4.423479131905306
         ],
         "z": [
          0.3617932991596511,
          -0.5964326877583873
         ]
        },
        {
         "hoverinfo": "skip",
         "line": {
          "color": "black",
          "width": 1
         },
         "mode": "lines",
         "showlegend": false,
         "type": "scatter3d",
         "x": [
          1.9835288192554574,
          2.918976473041921
         ],
         "y": [
          -5.600259833840452,
          -5.526501691449328
         ],
         "z": [
          2.8853484992636242,
          2.6501136730656056
         ]
        },
        {
         "hoverinfo": "skip",
         "line": {
          "color": "black",
          "width": 1
         },
         "mode": "lines",
         "showlegend": false,
         "type": "scatter3d",
         "x": [
          -0.4041065690148238,
          0.13786593422464422
         ],
         "y": [
          -4.663750054777857,
          -5.28922167868464
         ],
         "z": [
          4.1513740465570255,
          4.652185441614844
         ]
        },
        {
         "hoverinfo": "skip",
         "line": {
          "color": "black",
          "width": 1
         },
         "mode": "lines",
         "showlegend": false,
         "type": "scatter3d",
         "x": [
          -3.4644008318025263,
          -4.405683876250526
         ],
         "y": [
          -2.9810330966830554,
          -3.0751327441705563
         ],
         "z": [
          1.8741176569318108,
          2.0723636823079397
         ]
        }
       ],
       "layout": {
        "scene": {
         "xaxis": {
          "showgrid": false,
          "showline": false,
          "showticklabels": false
         },
         "yaxis": {
          "showgrid": false,
          "showline": false,
          "showticklabels": false
         },
         "zaxis": {
          "showgrid": false,
          "showline": false,
          "showticklabels": false
         }
        },
        "template": {
         "data": {
          "bar": [
           {
            "error_x": {
             "color": "rgb(36,36,36)"
            },
            "error_y": {
             "color": "rgb(36,36,36)"
            },
            "marker": {
             "line": {
              "color": "white",
              "width": 0.5
             },
             "pattern": {
              "fillmode": "overlay",
              "size": 10,
              "solidity": 0.2
             }
            },
            "type": "bar"
           }
          ],
          "barpolar": [
           {
            "marker": {
             "line": {
              "color": "white",
              "width": 0.5
             },
             "pattern": {
              "fillmode": "overlay",
              "size": 10,
              "solidity": 0.2
             }
            },
            "type": "barpolar"
           }
          ],
          "carpet": [
           {
            "aaxis": {
             "endlinecolor": "rgb(36,36,36)",
             "gridcolor": "white",
             "linecolor": "white",
             "minorgridcolor": "white",
             "startlinecolor": "rgb(36,36,36)"
            },
            "baxis": {
             "endlinecolor": "rgb(36,36,36)",
             "gridcolor": "white",
             "linecolor": "white",
             "minorgridcolor": "white",
             "startlinecolor": "rgb(36,36,36)"
            },
            "type": "carpet"
           }
          ],
          "choropleth": [
           {
            "colorbar": {
             "outlinewidth": 1,
             "tickcolor": "rgb(36,36,36)",
             "ticks": "outside"
            },
            "type": "choropleth"
           }
          ],
          "contour": [
           {
            "colorbar": {
             "outlinewidth": 1,
             "tickcolor": "rgb(36,36,36)",
             "ticks": "outside"
            },
            "colorscale": [
             [
              0,
              "#440154"
             ],
             [
              0.1111111111111111,
              "#482878"
             ],
             [
              0.2222222222222222,
              "#3e4989"
             ],
             [
              0.3333333333333333,
              "#31688e"
             ],
             [
              0.4444444444444444,
              "#26828e"
             ],
             [
              0.5555555555555556,
              "#1f9e89"
             ],
             [
              0.6666666666666666,
              "#35b779"
             ],
             [
              0.7777777777777778,
              "#6ece58"
             ],
             [
              0.8888888888888888,
              "#b5de2b"
             ],
             [
              1,
              "#fde725"
             ]
            ],
            "type": "contour"
           }
          ],
          "contourcarpet": [
           {
            "colorbar": {
             "outlinewidth": 1,
             "tickcolor": "rgb(36,36,36)",
             "ticks": "outside"
            },
            "type": "contourcarpet"
           }
          ],
          "heatmap": [
           {
            "colorbar": {
             "outlinewidth": 1,
             "tickcolor": "rgb(36,36,36)",
             "ticks": "outside"
            },
            "colorscale": [
             [
              0,
              "#440154"
             ],
             [
              0.1111111111111111,
              "#482878"
             ],
             [
              0.2222222222222222,
              "#3e4989"
             ],
             [
              0.3333333333333333,
              "#31688e"
             ],
             [
              0.4444444444444444,
              "#26828e"
             ],
             [
              0.5555555555555556,
              "#1f9e89"
             ],
             [
              0.6666666666666666,
              "#35b779"
             ],
             [
              0.7777777777777778,
              "#6ece58"
             ],
             [
              0.8888888888888888,
              "#b5de2b"
             ],
             [
              1,
              "#fde725"
             ]
            ],
            "type": "heatmap"
           }
          ],
          "heatmapgl": [
           {
            "colorbar": {
             "outlinewidth": 1,
             "tickcolor": "rgb(36,36,36)",
             "ticks": "outside"
            },
            "colorscale": [
             [
              0,
              "#440154"
             ],
             [
              0.1111111111111111,
              "#482878"
             ],
             [
              0.2222222222222222,
              "#3e4989"
             ],
             [
              0.3333333333333333,
              "#31688e"
             ],
             [
              0.4444444444444444,
              "#26828e"
             ],
             [
              0.5555555555555556,
              "#1f9e89"
             ],
             [
              0.6666666666666666,
              "#35b779"
             ],
             [
              0.7777777777777778,
              "#6ece58"
             ],
             [
              0.8888888888888888,
              "#b5de2b"
             ],
             [
              1,
              "#fde725"
             ]
            ],
            "type": "heatmapgl"
           }
          ],
          "histogram": [
           {
            "marker": {
             "line": {
              "color": "white",
              "width": 0.6
             }
            },
            "type": "histogram"
           }
          ],
          "histogram2d": [
           {
            "colorbar": {
             "outlinewidth": 1,
             "tickcolor": "rgb(36,36,36)",
             "ticks": "outside"
            },
            "colorscale": [
             [
              0,
              "#440154"
             ],
             [
              0.1111111111111111,
              "#482878"
             ],
             [
              0.2222222222222222,
              "#3e4989"
             ],
             [
              0.3333333333333333,
              "#31688e"
             ],
             [
              0.4444444444444444,
              "#26828e"
             ],
             [
              0.5555555555555556,
              "#1f9e89"
             ],
             [
              0.6666666666666666,
              "#35b779"
             ],
             [
              0.7777777777777778,
              "#6ece58"
             ],
             [
              0.8888888888888888,
              "#b5de2b"
             ],
             [
              1,
              "#fde725"
             ]
            ],
            "type": "histogram2d"
           }
          ],
          "histogram2dcontour": [
           {
            "colorbar": {
             "outlinewidth": 1,
             "tickcolor": "rgb(36,36,36)",
             "ticks": "outside"
            },
            "colorscale": [
             [
              0,
              "#440154"
             ],
             [
              0.1111111111111111,
              "#482878"
             ],
             [
              0.2222222222222222,
              "#3e4989"
             ],
             [
              0.3333333333333333,
              "#31688e"
             ],
             [
              0.4444444444444444,
              "#26828e"
             ],
             [
              0.5555555555555556,
              "#1f9e89"
             ],
             [
              0.6666666666666666,
              "#35b779"
             ],
             [
              0.7777777777777778,
              "#6ece58"
             ],
             [
              0.8888888888888888,
              "#b5de2b"
             ],
             [
              1,
              "#fde725"
             ]
            ],
            "type": "histogram2dcontour"
           }
          ],
          "mesh3d": [
           {
            "colorbar": {
             "outlinewidth": 1,
             "tickcolor": "rgb(36,36,36)",
             "ticks": "outside"
            },
            "type": "mesh3d"
           }
          ],
          "parcoords": [
           {
            "line": {
             "colorbar": {
              "outlinewidth": 1,
              "tickcolor": "rgb(36,36,36)",
              "ticks": "outside"
             }
            },
            "type": "parcoords"
           }
          ],
          "pie": [
           {
            "automargin": true,
            "type": "pie"
           }
          ],
          "scatter": [
           {
            "fillpattern": {
             "fillmode": "overlay",
             "size": 10,
             "solidity": 0.2
            },
            "type": "scatter"
           }
          ],
          "scatter3d": [
           {
            "line": {
             "colorbar": {
              "outlinewidth": 1,
              "tickcolor": "rgb(36,36,36)",
              "ticks": "outside"
             }
            },
            "marker": {
             "colorbar": {
              "outlinewidth": 1,
              "tickcolor": "rgb(36,36,36)",
              "ticks": "outside"
             }
            },
            "type": "scatter3d"
           }
          ],
          "scattercarpet": [
           {
            "marker": {
             "colorbar": {
              "outlinewidth": 1,
              "tickcolor": "rgb(36,36,36)",
              "ticks": "outside"
             }
            },
            "type": "scattercarpet"
           }
          ],
          "scattergeo": [
           {
            "marker": {
             "colorbar": {
              "outlinewidth": 1,
              "tickcolor": "rgb(36,36,36)",
              "ticks": "outside"
             }
            },
            "type": "scattergeo"
           }
          ],
          "scattergl": [
           {
            "marker": {
             "colorbar": {
              "outlinewidth": 1,
              "tickcolor": "rgb(36,36,36)",
              "ticks": "outside"
             }
            },
            "type": "scattergl"
           }
          ],
          "scattermapbox": [
           {
            "marker": {
             "colorbar": {
              "outlinewidth": 1,
              "tickcolor": "rgb(36,36,36)",
              "ticks": "outside"
             }
            },
            "type": "scattermapbox"
           }
          ],
          "scatterpolar": [
           {
            "marker": {
             "colorbar": {
              "outlinewidth": 1,
              "tickcolor": "rgb(36,36,36)",
              "ticks": "outside"
             }
            },
            "type": "scatterpolar"
           }
          ],
          "scatterpolargl": [
           {
            "marker": {
             "colorbar": {
              "outlinewidth": 1,
              "tickcolor": "rgb(36,36,36)",
              "ticks": "outside"
             }
            },
            "type": "scatterpolargl"
           }
          ],
          "scatterternary": [
           {
            "marker": {
             "colorbar": {
              "outlinewidth": 1,
              "tickcolor": "rgb(36,36,36)",
              "ticks": "outside"
             }
            },
            "type": "scatterternary"
           }
          ],
          "surface": [
           {
            "colorbar": {
             "outlinewidth": 1,
             "tickcolor": "rgb(36,36,36)",
             "ticks": "outside"
            },
            "colorscale": [
             [
              0,
              "#440154"
             ],
             [
              0.1111111111111111,
              "#482878"
             ],
             [
              0.2222222222222222,
              "#3e4989"
             ],
             [
              0.3333333333333333,
              "#31688e"
             ],
             [
              0.4444444444444444,
              "#26828e"
             ],
             [
              0.5555555555555556,
              "#1f9e89"
             ],
             [
              0.6666666666666666,
              "#35b779"
             ],
             [
              0.7777777777777778,
              "#6ece58"
             ],
             [
              0.8888888888888888,
              "#b5de2b"
             ],
             [
              1,
              "#fde725"
             ]
            ],
            "type": "surface"
           }
          ],
          "table": [
           {
            "cells": {
             "fill": {
              "color": "rgb(237,237,237)"
             },
             "line": {
              "color": "white"
             }
            },
            "header": {
             "fill": {
              "color": "rgb(217,217,217)"
             },
             "line": {
              "color": "white"
             }
            },
            "type": "table"
           }
          ]
         },
         "layout": {
          "annotationdefaults": {
           "arrowhead": 0,
           "arrowwidth": 1
          },
          "autotypenumbers": "strict",
          "coloraxis": {
           "colorbar": {
            "outlinewidth": 1,
            "tickcolor": "rgb(36,36,36)",
            "ticks": "outside"
           }
          },
          "colorscale": {
           "diverging": [
            [
             0,
             "rgb(103,0,31)"
            ],
            [
             0.1,
             "rgb(178,24,43)"
            ],
            [
             0.2,
             "rgb(214,96,77)"
            ],
            [
             0.3,
             "rgb(244,165,130)"
            ],
            [
             0.4,
             "rgb(253,219,199)"
            ],
            [
             0.5,
             "rgb(247,247,247)"
            ],
            [
             0.6,
             "rgb(209,229,240)"
            ],
            [
             0.7,
             "rgb(146,197,222)"
            ],
            [
             0.8,
             "rgb(67,147,195)"
            ],
            [
             0.9,
             "rgb(33,102,172)"
            ],
            [
             1,
             "rgb(5,48,97)"
            ]
           ],
           "sequential": [
            [
             0,
             "#440154"
            ],
            [
             0.1111111111111111,
             "#482878"
            ],
            [
             0.2222222222222222,
             "#3e4989"
            ],
            [
             0.3333333333333333,
             "#31688e"
            ],
            [
             0.4444444444444444,
             "#26828e"
            ],
            [
             0.5555555555555556,
             "#1f9e89"
            ],
            [
             0.6666666666666666,
             "#35b779"
            ],
            [
             0.7777777777777778,
             "#6ece58"
            ],
            [
             0.8888888888888888,
             "#b5de2b"
            ],
            [
             1,
             "#fde725"
            ]
           ],
           "sequentialminus": [
            [
             0,
             "#440154"
            ],
            [
             0.1111111111111111,
             "#482878"
            ],
            [
             0.2222222222222222,
             "#3e4989"
            ],
            [
             0.3333333333333333,
             "#31688e"
            ],
            [
             0.4444444444444444,
             "#26828e"
            ],
            [
             0.5555555555555556,
             "#1f9e89"
            ],
            [
             0.6666666666666666,
             "#35b779"
            ],
            [
             0.7777777777777778,
             "#6ece58"
            ],
            [
             0.8888888888888888,
             "#b5de2b"
            ],
            [
             1,
             "#fde725"
            ]
           ]
          },
          "colorway": [
           "#1F77B4",
           "#FF7F0E",
           "#2CA02C",
           "#D62728",
           "#9467BD",
           "#8C564B",
           "#E377C2",
           "#7F7F7F",
           "#BCBD22",
           "#17BECF"
          ],
          "font": {
           "color": "rgb(36,36,36)"
          },
          "geo": {
           "bgcolor": "white",
           "lakecolor": "white",
           "landcolor": "white",
           "showlakes": true,
           "showland": true,
           "subunitcolor": "white"
          },
          "hoverlabel": {
           "align": "left"
          },
          "hovermode": "closest",
          "mapbox": {
           "style": "light"
          },
          "paper_bgcolor": "white",
          "plot_bgcolor": "white",
          "polar": {
           "angularaxis": {
            "gridcolor": "rgb(232,232,232)",
            "linecolor": "rgb(36,36,36)",
            "showgrid": false,
            "showline": true,
            "ticks": "outside"
           },
           "bgcolor": "white",
           "radialaxis": {
            "gridcolor": "rgb(232,232,232)",
            "linecolor": "rgb(36,36,36)",
            "showgrid": false,
            "showline": true,
            "ticks": "outside"
           }
          },
          "scene": {
           "xaxis": {
            "backgroundcolor": "white",
            "gridcolor": "rgb(232,232,232)",
            "gridwidth": 2,
            "linecolor": "rgb(36,36,36)",
            "showbackground": true,
            "showgrid": false,
            "showline": true,
            "ticks": "outside",
            "zeroline": false,
            "zerolinecolor": "rgb(36,36,36)"
           },
           "yaxis": {
            "backgroundcolor": "white",
            "gridcolor": "rgb(232,232,232)",
            "gridwidth": 2,
            "linecolor": "rgb(36,36,36)",
            "showbackground": true,
            "showgrid": false,
            "showline": true,
            "ticks": "outside",
            "zeroline": false,
            "zerolinecolor": "rgb(36,36,36)"
           },
           "zaxis": {
            "backgroundcolor": "white",
            "gridcolor": "rgb(232,232,232)",
            "gridwidth": 2,
            "linecolor": "rgb(36,36,36)",
            "showbackground": true,
            "showgrid": false,
            "showline": true,
            "ticks": "outside",
            "zeroline": false,
            "zerolinecolor": "rgb(36,36,36)"
           }
          },
          "shapedefaults": {
           "fillcolor": "black",
           "line": {
            "width": 0
           },
           "opacity": 0.3
          },
          "ternary": {
           "aaxis": {
            "gridcolor": "rgb(232,232,232)",
            "linecolor": "rgb(36,36,36)",
            "showgrid": false,
            "showline": true,
            "ticks": "outside"
           },
           "baxis": {
            "gridcolor": "rgb(232,232,232)",
            "linecolor": "rgb(36,36,36)",
            "showgrid": false,
            "showline": true,
            "ticks": "outside"
           },
           "bgcolor": "white",
           "caxis": {
            "gridcolor": "rgb(232,232,232)",
            "linecolor": "rgb(36,36,36)",
            "showgrid": false,
            "showline": true,
            "ticks": "outside"
           }
          },
          "title": {
           "x": 0.05
          },
          "xaxis": {
           "automargin": true,
           "gridcolor": "rgb(232,232,232)",
           "linecolor": "rgb(36,36,36)",
           "showgrid": false,
           "showline": true,
           "ticks": "outside",
           "title": {
            "standoff": 15
           },
           "zeroline": false,
           "zerolinecolor": "rgb(36,36,36)"
          },
          "yaxis": {
           "automargin": true,
           "gridcolor": "rgb(232,232,232)",
           "linecolor": "rgb(36,36,36)",
           "showgrid": false,
           "showline": true,
           "ticks": "outside",
           "title": {
            "standoff": 15
           },
           "zeroline": false,
           "zerolinecolor": "rgb(36,36,36)"
          }
         }
        }
       }
      }
     },
     "metadata": {},
     "output_type": "display_data"
    }
   ],
   "source": [
    "s.show()"
   ]
  },
  {
   "cell_type": "code",
   "execution_count": 337,
   "metadata": {},
   "outputs": [
    {
     "data": {
      "image/png": "[encoded data removed]",
      "text/plain": [
       "<Figure size 640x480 with 1 Axes>"
      ]
     },
     "metadata": {},
     "output_type": "display_data"
    }
   ],
   "source": [
    "\n",
    "angles = np.arange(0, np.pi*2, 0.1)\n",
    "\n",
    "for radius in (9, 10, 11, 12):# (6, 7, 8, 9, 10, 11, 12, 13, 14, 15, 16, 17, 18, 19, 20):\n",
    "    env = envs.DistanceRotatron(graph, edges, radius=radius)\n",
    "    \n",
    "    evals = np.zeros_like(angles)\n",
    "\n",
    "    idx = 0\n",
    "    for angle in angles:\n",
    "        state, eval, *_ = env.step([angle])\n",
    "        evals[idx] = eval\n",
    "        env.reset()\n",
    "        idx += 1\n",
    "    evals /= evals.max()\n",
    "    ax = sns.lineplot(x=angles, y=evals, label=radius)\n",
    "    ax.legend(bbox_to_anchor=(1.05, 1)).set_title(\"radius\")\n",
    "    ax.set_title(\"radius effect\")\n"
   ]
  },
  {
   "cell_type": "code",
   "execution_count": 351,
   "metadata": {},
   "outputs": [
    {
     "data": {
      "image/png": "[encoded data removed]",
      "text/plain": [
       "<Figure size 640x480 with 1 Axes>"
      ]
     },
     "metadata": {},
     "output_type": "display_data"
    }
   ],
   "source": [
    "envs.DistanceRotatron.eval = envs.DistanceRotatron.eval_log\n",
    "for i in (True, False):\n",
    "    env = envs.DistanceRotatron(graph, edges, mask_rotation_units=i, radius=10)\n",
    "\n",
    "    evals = np.zeros_like(angles)\n",
    "\n",
    "    idx = 0\n",
    "    for angle in angles:\n",
    "        state, eval, *_ = env.step([angle])\n",
    "        evals[idx] = eval\n",
    "        env.reset()\n",
    "        idx += 1\n",
    "\n",
    "    evals /= evals.max()\n",
    "    ax = sns.lineplot(x=angles, y=evals, label=i)\n",
    "    ax.legend(bbox_to_anchor=(1.05, 1)).set_title(\"mask_rotation_units\")\n",
    "    ax.set_title(\"mask_rotation_units effect\")"
   ]
  }
 ],
 "metadata": {
  "kernelspec": {
   "display_name": "glyco2",
   "language": "python",
   "name": "python3"
  },
  "language_info": {
   "codemirror_mode": {
    "name": "ipython",
    "version": 3
   },
   "file_extension": ".py",
   "mimetype": "text/x-python",
   "name": "python",
   "nbconvert_exporter": "python",
   "pygments_lexer": "ipython3",
   "version": "3.11.2"
  },
  "orig_nbformat": 4
 },
 "nbformat": 4,
 "nbformat_minor": 2
}
