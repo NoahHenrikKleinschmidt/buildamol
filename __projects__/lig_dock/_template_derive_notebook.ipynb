{
 "cells": [
  {
   "cell_type": "markdown",
   "metadata": {},
   "source": [
    "This notebook is a template to make molecular derivatives of a ligand for docking."
   ]
  },
  {
   "cell_type": "code",
   "execution_count": null,
   "metadata": {},
   "outputs": [],
   "source": [
    "import buildamol as bam\n",
    "from buildamol.extensions.molecular_factories import Derivator\n",
    "from pathlib import Path\n",
    "\n",
    "# load the ligand\n",
    "mol = bam.read_pdb(\"<LIGANDPDB>\")\n",
    "\n",
    "# do any necessary modifications\n",
    "...\n",
    "\n",
    "# set up the derivator\n",
    "derivator = Derivator(mol)"
   ]
  },
  {
   "cell_type": "markdown",
   "metadata": {},
   "source": [
    "Now add specifications for modifications here:"
   ]
  },
  {
   "cell_type": "code",
   "execution_count": null,
   "metadata": {},
   "outputs": [],
   "source": [
    "# derivator.element_changable(...)\n",
    "# derivator.bond_order_changable(...)\n",
    "# derivator.functional_group_addable(...)\n",
    "# derivator.global_modifiers(...)"
   ]
  },
  {
   "cell_type": "markdown",
   "metadata": {},
   "source": [
    "Now generate derivatives using either the `sample` or `all` generators:"
   ]
  },
  {
   "cell_type": "code",
   "execution_count": null,
   "metadata": {},
   "outputs": [],
   "source": [
    "# derivatives = derivator.sample(N_samples)\n",
    "# or \n",
    "# derivatives = derivator.all()"
   ]
  },
  {
   "cell_type": "code",
   "execution_count": null,
   "metadata": {},
   "outputs": [],
   "source": [
    "DIR = Path(\".\")\n",
    "derivatives = DIR / \"derivatives\"\n",
    "checkfile = DIR / \"checkfile.derivatives\"\n",
    "\n",
    "if checkfile.exists():\n",
    "    checkfile.unlink()\n",
    "\n",
    "if not derivatives.exists():\n",
    "    derivatives.mkdir()\n",
    "\n",
    "n_derivatives = 0\n",
    "for i, derivative in enumerate(derivatives):\n",
    "    try:    \n",
    "        with open(derivatives / f\"derivative_{i}.smi\", \"w\") as f:\n",
    "            f.write(derivative.to_smiles())\n",
    "        derivative.write_pdb(str(derivatives / f\"derivative_{i}.pdb\"))\n",
    "        n_derivatives += 1\n",
    "    except Exception as e:\n",
    "        print(f\"Failed to write derivative_{i}.smi: {e}\")\n",
    "\n",
    "checkfile.touch()\n",
    "checkfile.write_text(f\"{n_derivatives} derivatives written\")"
   ]
  }
 ],
 "metadata": {
  "language_info": {
   "name": "python"
  }
 },
 "nbformat": 4,
 "nbformat_minor": 2
}
