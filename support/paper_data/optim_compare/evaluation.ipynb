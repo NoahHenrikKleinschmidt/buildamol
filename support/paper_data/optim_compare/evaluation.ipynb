{
 "cells": [
  {
   "cell_type": "markdown",
   "metadata": {},
   "source": [
    "In this notebook we shall evaluate the quality of the obtained conformations from:\n",
    "- BuildAMol\n",
    "- GINGER\n",
    "- FROG2\n",
    "\n",
    "Our metrics will be:\n",
    "- BuildAMol's counted clashes\n",
    "- RDKit's UFF-based energy\n",
    "- RMSD to UFF-minimized conformation"
   ]
  },
  {
   "cell_type": "code",
   "execution_count": 61,
   "metadata": {},
   "outputs": [],
   "source": [
    "import buildamol as bam\n",
    "from rdkit import Chem\n",
    "from rdkit.Chem import AllChem\n",
    "import numpy as np\n",
    "import pandas as pd\n",
    "from pathlib import Path\n",
    "\n",
    "BASE = Path(\".\").resolve()"
   ]
  },
  {
   "cell_type": "markdown",
   "metadata": {},
   "source": [
    "First load the conformations"
   ]
  },
  {
   "cell_type": "code",
   "execution_count": 62,
   "metadata": {},
   "outputs": [],
   "source": [
    "conformer_directories = BASE.glob(\"*_conformers\")\n",
    "conformer_datasets = {}\n",
    "for _dir in conformer_directories:\n",
    "    name = _dir.stem.replace(\"_conformers\", \"\")\n",
    "    files = list(_dir.glob(\"*.pdb\"))\n",
    "    mols = [bam.read_pdb(f) for f in files]\n",
    "\n",
    "    for mol in mols:\n",
    "        mol.remove_hydrogens()\n",
    "        \n",
    "    conformer_datasets[name] = mols"
   ]
  },
  {
   "cell_type": "markdown",
   "metadata": {},
   "source": [
    "Regrettably, the ginger and frog2 data do not contain information on double bonds, so we have to add them manually to have all molecules actually represent the original (sucks big time...)"
   ]
  },
  {
   "cell_type": "code",
   "execution_count": 63,
   "metadata": {},
   "outputs": [],
   "source": [
    "ginger = conformer_datasets[\"ginger\"]\n",
    "ginger_double_bonds = [\n",
    "(\"O1\", \"C16\"),\n",
    "(\"O3\", \"C17\"),\n",
    "(\"C18\", \"C19\"),\n",
    "(\"C23\", \"C22\"),\n",
    "(\"C20\", \"C21\"),\n",
    "(\"C8\", \"C9\"),\n",
    "(\"C10\", \"C11\"),\n",
    "(\"C12\", \"C13\"),\n",
    "(\"C4\", \"C5\"),\n",
    "(\"C6\", \"C1\"),\n",
    "(\"C2\", \"C3\"),\n",
    "]\n",
    "for mol in ginger:\n",
    "    for bond in ginger_double_bonds:\n",
    "        atom1 = mol.get_atom(bond[0])\n",
    "        atom2 = mol.get_atom(bond[1])\n",
    "        mol.set_bond_order(atom1, atom2, 2)\n",
    "\n",
    "frog2 = conformer_datasets[\"frog2\"]\n",
    "frog2_double_bonds = [\n",
    "(\"O3\", \"C3\"),\n",
    "(\"O1\", \"C2\"),\n",
    "(\"C6\", \"C5\"),\n",
    "(\"C7\", \"C8\"),\n",
    "(\"C4\", \"C9\"),\n",
    "(\"C12\", \"C17\"),\n",
    "(\"C16\", \"C15\"),\n",
    "(\"C13\", \"C14\"),\n",
    "(\"C18\", \"C19\"),\n",
    "(\"C20\", \"C21\"),\n",
    "(\"C22\", \"C23\"),\n",
    "]\n",
    "for mol in frog2:\n",
    "    for bond in frog2_double_bonds:\n",
    "        atom1 = mol.get_atom(bond[0])\n",
    "        atom2 = mol.get_atom(bond[1])\n",
    "        mol.set_bond_order(atom1, atom2, 2)"
   ]
  },
  {
   "cell_type": "markdown",
   "metadata": {},
   "source": [
    "Now we evaluate the metrics"
   ]
  },
  {
   "cell_type": "code",
   "execution_count": 64,
   "metadata": {},
   "outputs": [],
   "source": [
    "clashes = {}\n",
    "for dataset, mols in conformer_datasets.items():\n",
    "    clashes[dataset] = [mol.count_clashes(coarse_precheck=False) for mol in mols]"
   ]
  },
  {
   "cell_type": "markdown",
   "metadata": {},
   "source": [
    "Now we evaluate the molecular energy using RDKit"
   ]
  },
  {
   "cell_type": "code",
   "execution_count": 65,
   "metadata": {},
   "outputs": [],
   "source": [
    "def energy(rdmol):\n",
    "    return AllChem.UFFGetMoleculeForceField(rdmol).CalcEnergy()\n",
    "\n",
    "energies = {}\n",
    "for dataset, mols in conformer_datasets.items():\n",
    "    energies[dataset] = [energy(mol.to_rdkit()) for mol in mols]"
   ]
  },
  {
   "cell_type": "markdown",
   "metadata": {},
   "source": [
    "Now we also compute a UFF minimized version of the molecule using RDKIT"
   ]
  },
  {
   "cell_type": "code",
   "execution_count": 66,
   "metadata": {},
   "outputs": [
    {
     "data": {
      "application/3dmoljs_load.v0": "<div id=\"3dmolviewer_17236354604038138\"  style=\"position: relative; width: 600px; height: 500px;\">\n        <p id=\"3dmolwarning_17236354604038138\" style=\"background-color:#ffcccc;color:black\">You appear to be running in JupyterLab (or JavaScript failed to load for some other reason).  You need to install the 3dmol extension: <br>\n        <tt>jupyter labextension install jupyterlab_3dmol</tt></p>\n        </div>\n<script>\n\nvar loadScriptAsync = function(uri){\n  return new Promise((resolve, reject) => {\n    //this is to ignore the existence of requirejs amd\n    var savedexports, savedmodule;\n    if (typeof exports !== 'undefined') savedexports = exports;\n    else exports = {}\n    if (typeof module !== 'undefined') savedmodule = module;\n    else module = {}\n\n    var tag = document.createElement('script');\n    tag.src = uri;\n    tag.async = true;\n    tag.onload = () => {\n        exports = savedexports;\n        module = savedmodule;\n        resolve();\n    };\n  var firstScriptTag = document.getElementsByTagName('script')[0];\n  firstScriptTag.parentNode.insertBefore(tag, firstScriptTag);\n});\n};\n\nif(typeof $3Dmolpromise === 'undefined') {\n$3Dmolpromise = null;\n  $3Dmolpromise = loadScriptAsync('https://cdnjs.cloudflare.com/ajax/libs/3Dmol/2.0.3/3Dmol-min.js');\n}\n\nvar viewer_17236354604038138 = null;\nvar warn = document.getElementById(\"3dmolwarning_17236354604038138\");\nif(warn) {\n    warn.parentNode.removeChild(warn);\n}\n$3Dmolpromise.then(function() {\nviewer_17236354604038138 = $3Dmol.createViewer(document.getElementById(\"3dmolviewer_17236354604038138\"),{backgroundColor:\"white\"});\nviewer_17236354604038138.zoomTo();\n\tviewer_17236354604038138.addModel(\"HETATM    1 N16  UNK A   1       1.543  -0.702   0.430  1.00  0.00          N   \\nHETATM    2 C16  UNK A   1       0.122  -0.706   0.056  1.00  0.00          C   \\nHETATM    3 C15  UNK A   1      -0.038  -0.090  -1.309  1.00  0.00          C   \\nHETATM    4 O15  UNK A   1       0.732   0.761  -1.683  1.00  0.00          O   \\nHETATM    5 C17  UNK A   1      -0.675   0.104   1.079  1.00  0.00          C   \\nHETATM    6 O17  UNK A   1      -0.193   1.448   1.103  1.00  0.00          O   \\nHETATM    7 C18  UNK A   1      -0.511  -0.521   2.466  1.00  0.00          C   \\nHETATM    8 C13  UNK A   1       0.114   0.973  -3.798  1.00  0.00          C   \\nHETATM    9 C20  UNK A   1       0.597   0.823  -5.084  1.00  0.00          C   \\nHETATM   10 C19  UNK A   1       1.560   1.691  -5.565  1.00  0.00          C   \\nHETATM   11 C22  UNK A   1       2.038   2.708  -4.761  1.00  0.00          C   \\nHETATM   12 C21  UNK A   1       1.554   2.858  -3.475  1.00  0.00          C   \\nHETATM   13 C23  UNK A   1       0.592   1.989  -2.993  1.00  0.00          C   \\nHETATM   14 C14  UNK A   1      -0.963   0.009  -3.264  1.00  0.00          C   \\nHETATM   15 O141 UNK A   1      -1.864  -0.349  -3.985  1.00  0.00          O   \\nHETATM   16 O142 UNK A   1      -0.899  -0.432  -1.998  1.00  0.00          O   \\nHETATM   17 C1   UNK A   1      -1.557  -0.226   3.206  1.00  0.00          C   \\nHETATM   18 C2   UNK A   1      -1.406   0.560   4.332  1.00  0.00          C   \\nHETATM   19 C3   UNK A   1      -2.506   0.875   5.108  1.00  0.00          C   \\nHETATM   20 C4   UNK A   1      -3.757   0.403   4.756  1.00  0.00          C   \\nHETATM   21 C5   UNK A   1      -3.908  -0.382   3.629  1.00  0.00          C   \\nHETATM   22 C6   UNK A   1      -2.807  -0.699   2.855  1.00  0.00          C   \\nHETATM   23 C7   UNK A   1      -0.410  -1.827   2.349  1.00  0.00          C   \\nHETATM   24 C8   UNK A   1       0.461  -2.527   3.162  1.00  0.00          C   \\nHETATM   25 C9   UNK A   1       0.564  -3.901   3.043  1.00  0.00          C   \\nHETATM   26 C10  UNK A   1      -0.205  -4.573   2.112  1.00  0.00          C   \\nHETATM   27 C11  UNK A   1      -1.077  -3.873   1.300  1.00  0.00          C   \\nHETATM   28 C12  UNK A   1      -1.178  -2.499   1.418  1.00  0.00          C   \\nHETATM   29 HN16 UNK A   1       1.872  -1.653   0.516  1.00  0.00          H   \\nHETATM   30 HN16 UNK A   1       2.078  -0.225  -0.282  1.00  0.00          H   \\nHETATM   31 H16  UNK A   1      -0.247  -1.731   0.039  1.00  0.00          H   \\nHETATM   32 H17  UNK A   1      -1.729   0.101   0.801  1.00  0.00          H   \\nHETATM   33 HO17 UNK A   1      -0.026   1.913   0.280  1.00  0.00          H   \\nHETATM   34 H18  UNK A   1       0.390  -0.128   2.937  1.00  0.00          H   \\nHETATM   35 H20  UNK A   1       0.218   0.021  -5.717  1.00  0.00          H   \\nHETATM   36 H19  UNK A   1       1.942   1.572  -6.579  1.00  0.00          H   \\nHETATM   37 H22  UNK A   1       2.797   3.392  -5.141  1.00  0.00          H   \\nHETATM   38 H21  UNK A   1       1.931   3.661  -2.842  1.00  0.00          H   \\nHETATM   39 H23  UNK A   1       0.212   2.106  -1.978  1.00  0.00          H   \\nHETATM   40 H2   UNK A   1      -0.419   0.932   4.608  1.00  0.00          H   \\nHETATM   41 H3   UNK A   1      -2.389   1.495   5.997  1.00  0.00          H   \\nHETATM   42 H4   UNK A   1      -4.625   0.650   5.367  1.00  0.00          H   \\nHETATM   43 H5   UNK A   1      -4.895  -0.751   3.350  1.00  0.00          H   \\nHETATM   44 H6   UNK A   1      -2.926  -1.322   1.968  1.00  0.00          H   \\nHETATM   45 H8   UNK A   1       1.066  -1.996   3.897  1.00  0.00          H   \\nHETATM   46 H9   UNK A   1       1.252  -4.453   3.684  1.00  0.00          H   \\nHETATM   47 H10  UNK A   1      -0.123  -5.656   2.019  1.00  0.00          H   \\nHETATM   48 H11  UNK A   1      -1.685  -4.402   0.567  1.00  0.00          H   \\nHETATM   49 H12  UNK A   1      -1.864  -1.946   0.776  1.00  0.00          H   \\nCONECT    1    2   29   30\\nCONECT    2    1    3    5   31\\nCONECT    3    2    4    4   16\\nCONECT    5    2    6    7   32\\nCONECT    4    3    3\\nCONECT   16    3   14\\nCONECT    6    5   33\\nCONECT    7    5   17   23   34\\nCONECT   17    7   18   18   22\\nCONECT   23    7   24   24   28\\nCONECT    8    9    9   13   14\\nCONECT    9    8    8   10   35\\nCONECT   13    8   12   12   39\\nCONECT   14    8   15   15   16\\nCONECT   10    9   11   11   36\\nCONECT   12   13   13   11   38\\nCONECT   11   10   10   12   37\\nCONECT   15   14   14\\nCONECT   18   17   17   19   40\\nCONECT   22   17   21   21   44\\nCONECT   19   18   20   20   41\\nCONECT   21   22   22   20   43\\nCONECT   20   19   19   21   42\\nCONECT   24   23   23   25   45\\nCONECT   28   23   27   27   49\\nCONECT   25   24   26   26   46\\nCONECT   27   28   28   26   48\\nCONECT   26   25   25   27   47\\nCONECT   29    1\\nCONECT   30    1\\nCONECT   31    2\\nCONECT   32    5\\nCONECT   33    6\\nCONECT   34    7\\nCONECT   35    9\\nCONECT   36   10\\nCONECT   37   11\\nCONECT   38   12\\nCONECT   39   13\\nCONECT   40   18\\nCONECT   41   19\\nCONECT   42   20\\nCONECT   43   21\\nCONECT   44   22\\nCONECT   45   24\\nCONECT   46   25\\nCONECT   47   26\\nCONECT   48   27\\nCONECT   49   28\\nEND\",\"pdb\");\n\tviewer_17236354604038138.setStyle({\"stick\": {}});\n\tviewer_17236354604038138.zoomTo();\n\tviewer_17236354604038138.setStyle({\"stick\": {}});\n\tviewer_17236354604038138.addModel(\"HETATM    1 N16  UNK A   1       2.030  -0.433   0.659  1.00  0.00          N   \\nHETATM    2 C16  UNK A   1       0.784  -0.905   0.043  1.00  0.00          C   \\nHETATM    3 C15  UNK A   1       0.738  -0.559  -1.430  1.00  0.00          C   \\nHETATM    4 O15  UNK A   1       1.812  -0.458  -2.086  1.00  0.00          O   \\nHETATM    5 C17  UNK A   1      -0.444  -0.338   0.807  1.00  0.00          C   \\nHETATM    6 O17  UNK A   1      -0.421   1.069   0.762  1.00  0.00          O   \\nHETATM    7 C18  UNK A   1      -0.472  -0.795   2.294  1.00  0.00          C   \\nHETATM    8 C13  UNK A   1       0.128   1.143  -3.925  1.00  0.00          C   \\nHETATM    9 C20  UNK A   1       0.378   1.229  -5.307  1.00  0.00          C   \\nHETATM   10 C19  UNK A   1       1.123   2.293  -5.825  1.00  0.00          C   \\nHETATM   11 C22  UNK A   1       1.616   3.284  -4.973  1.00  0.00          C   \\nHETATM   12 C21  UNK A   1       1.360   3.217  -3.602  1.00  0.00          C   \\nHETATM   13 C23  UNK A   1       0.615   2.156  -3.079  1.00  0.00          C   \\nHETATM   14 C14  UNK A   1      -0.678   0.023  -3.384  1.00  0.00          C   \\nHETATM   15 O141 UNK A   1      -1.589  -0.477  -4.094  1.00  0.00          O   \\nHETATM   16 O142 UNK A   1      -0.498  -0.472  -2.085  1.00  0.00          O   \\nHETATM   17 C1   UNK A   1      -1.560  -0.124   3.122  1.00  0.00          C   \\nHETATM   18 C2   UNK A   1      -1.291   0.213   4.462  1.00  0.00          C   \\nHETATM   19 C3   UNK A   1      -2.278   0.796   5.262  1.00  0.00          C   \\nHETATM   20 C4   UNK A   1      -3.550   1.038   4.740  1.00  0.00          C   \\nHETATM   21 C5   UNK A   1      -3.838   0.693   3.419  1.00  0.00          C   \\nHETATM   22 C6   UNK A   1      -2.856   0.109   2.614  1.00  0.00          C   \\nHETATM   23 C7   UNK A   1      -0.573  -2.305   2.436  1.00  0.00          C   \\nHETATM   24 C8   UNK A   1       0.450  -3.019   3.087  1.00  0.00          C   \\nHETATM   25 C9   UNK A   1       0.369  -4.408   3.224  1.00  0.00          C   \\nHETATM   26 C10  UNK A   1      -0.732  -5.099   2.716  1.00  0.00          C   \\nHETATM   27 C11  UNK A   1      -1.756  -4.403   2.071  1.00  0.00          C   \\nHETATM   28 C12  UNK A   1      -1.681  -3.014   1.931  1.00  0.00          C   \\nHETATM   29 HN16 UNK A   1       2.833  -0.970   0.259  1.00  0.00          H   \\nHETATM   30 HN16 UNK A   1       2.175   0.577   0.429  1.00  0.00          H   \\nHETATM   31 H16  UNK A   1       0.757  -2.014   0.108  1.00  0.00          H   \\nHETATM   32 H17  UNK A   1      -1.362  -0.723   0.306  1.00  0.00          H   \\nHETATM   33 HO17 UNK A   1      -0.953   1.348  -0.029  1.00  0.00          H   \\nHETATM   34 H18  UNK A   1       0.499  -0.465   2.727  1.00  0.00          H   \\nHETATM   35 H20  UNK A   1       0.006   0.468  -5.982  1.00  0.00          H   \\nHETATM   36 H19  UNK A   1       1.318   2.348  -6.888  1.00  0.00          H   \\nHETATM   37 H22  UNK A   1       2.192   4.107  -5.377  1.00  0.00          H   \\nHETATM   38 H21  UNK A   1       1.733   3.991  -2.944  1.00  0.00          H   \\nHETATM   39 H23  UNK A   1       0.409   2.135  -2.017  1.00  0.00          H   \\nHETATM   40 H2   UNK A   1      -0.315   0.022   4.891  1.00  0.00          H   \\nHETATM   41 H3   UNK A   1      -2.058   1.055   6.290  1.00  0.00          H   \\nHETATM   42 H4   UNK A   1      -4.313   1.488   5.362  1.00  0.00          H   \\nHETATM   43 H5   UNK A   1      -4.828   0.873   3.018  1.00  0.00          H   \\nHETATM   44 H6   UNK A   1      -3.117  -0.155   1.600  1.00  0.00          H   \\nHETATM   45 H8   UNK A   1       1.313  -2.503   3.489  1.00  0.00          H   \\nHETATM   46 H9   UNK A   1       1.162  -4.948   3.725  1.00  0.00          H   \\nHETATM   47 H10  UNK A   1      -0.793  -6.175   2.823  1.00  0.00          H   \\nHETATM   48 H11  UNK A   1      -2.610  -4.940   1.678  1.00  0.00          H   \\nHETATM   49 H12  UNK A   1      -2.486  -2.498   1.427  1.00  0.00          H   \\nCONECT    1    2   29   30\\nCONECT    2    1    3    5   31\\nCONECT   29    1\\nCONECT   30    1\\nCONECT    3    2    4    4   16\\nCONECT    5    2    6    7   32\\nCONECT   31    2\\nCONECT    4    3    3\\nCONECT   16    3   14\\nCONECT    6    5   33\\nCONECT    7    5   17   23   34\\nCONECT   32    5\\nCONECT   33    6\\nCONECT   17    7   18   18   22\\nCONECT   23    7   24   24   28\\nCONECT   34    7\\nCONECT    8    9    9   13   14\\nCONECT    9    8    8   10   35\\nCONECT   13    8   12   12   39\\nCONECT   14    8   15   15   16\\nCONECT   10    9   11   11   36\\nCONECT   35    9\\nCONECT   11   10   10   12   37\\nCONECT   36   10\\nCONECT   12   11   13   13   38\\nCONECT   37   11\\nCONECT   38   12\\nCONECT   39   13\\nCONECT   15   14   14\\nCONECT   18   17   17   19   40\\nCONECT   22   17   21   21   44\\nCONECT   19   18   20   20   41\\nCONECT   40   18\\nCONECT   20   19   19   21   42\\nCONECT   41   19\\nCONECT   21   20   22   22   43\\nCONECT   42   20\\nCONECT   43   21\\nCONECT   44   22\\nCONECT   24   23   23   25   45\\nCONECT   28   23   27   27   49\\nCONECT   25   24   26   26   46\\nCONECT   45   24\\nCONECT   26   25   25   27   47\\nCONECT   46   25\\nCONECT   27   26   28   28   48\\nCONECT   47   26\\nCONECT   48   27\\nCONECT   49   28\\nEND\",\"pdb\");\n\tviewer_17236354604038138.setStyle({\"model\": 1},{\"stick\": {\"color\": \"lightgreen\"}});\nviewer_17236354604038138.render();\n});\n</script>",
      "text/html": [
       "<div id=\"3dmolviewer_17236354604038138\"  style=\"position: relative; width: 600px; height: 500px;\">\n",
       "        <p id=\"3dmolwarning_17236354604038138\" style=\"background-color:#ffcccc;color:black\">You appear to be running in JupyterLab (or JavaScript failed to load for some other reason).  You need to install the 3dmol extension: <br>\n",
       "        <tt>jupyter labextension install jupyterlab_3dmol</tt></p>\n",
       "        </div>\n",
       "<script>\n",
       "\n",
       "var loadScriptAsync = function(uri){\n",
       "  return new Promise((resolve, reject) => {\n",
       "    //this is to ignore the existence of requirejs amd\n",
       "    var savedexports, savedmodule;\n",
       "    if (typeof exports !== 'undefined') savedexports = exports;\n",
       "    else exports = {}\n",
       "    if (typeof module !== 'undefined') savedmodule = module;\n",
       "    else module = {}\n",
       "\n",
       "    var tag = document.createElement('script');\n",
       "    tag.src = uri;\n",
       "    tag.async = true;\n",
       "    tag.onload = () => {\n",
       "        exports = savedexports;\n",
       "        module = savedmodule;\n",
       "        resolve();\n",
       "    };\n",
       "  var firstScriptTag = document.getElementsByTagName('script')[0];\n",
       "  firstScriptTag.parentNode.insertBefore(tag, firstScriptTag);\n",
       "});\n",
       "};\n",
       "\n",
       "if(typeof $3Dmolpromise === 'undefined') {\n",
       "$3Dmolpromise = null;\n",
       "  $3Dmolpromise = loadScriptAsync('https://cdnjs.cloudflare.com/ajax/libs/3Dmol/2.0.3/3Dmol-min.js');\n",
       "}\n",
       "\n",
       "var viewer_17236354604038138 = null;\n",
       "var warn = document.getElementById(\"3dmolwarning_17236354604038138\");\n",
       "if(warn) {\n",
       "    warn.parentNode.removeChild(warn);\n",
       "}\n",
       "$3Dmolpromise.then(function() {\n",
       "viewer_17236354604038138 = $3Dmol.createViewer(document.getElementById(\"3dmolviewer_17236354604038138\"),{backgroundColor:\"white\"});\n",
       "viewer_17236354604038138.zoomTo();\n",
       "\tviewer_17236354604038138.addModel(\"HETATM    1 N16  UNK A   1       1.543  -0.702   0.430  1.00  0.00          N   \\nHETATM    2 C16  UNK A   1       0.122  -0.706   0.056  1.00  0.00          C   \\nHETATM    3 C15  UNK A   1      -0.038  -0.090  -1.309  1.00  0.00          C   \\nHETATM    4 O15  UNK A   1       0.732   0.761  -1.683  1.00  0.00          O   \\nHETATM    5 C17  UNK A   1      -0.675   0.104   1.079  1.00  0.00          C   \\nHETATM    6 O17  UNK A   1      -0.193   1.448   1.103  1.00  0.00          O   \\nHETATM    7 C18  UNK A   1      -0.511  -0.521   2.466  1.00  0.00          C   \\nHETATM    8 C13  UNK A   1       0.114   0.973  -3.798  1.00  0.00          C   \\nHETATM    9 C20  UNK A   1       0.597   0.823  -5.084  1.00  0.00          C   \\nHETATM   10 C19  UNK A   1       1.560   1.691  -5.565  1.00  0.00          C   \\nHETATM   11 C22  UNK A   1       2.038   2.708  -4.761  1.00  0.00          C   \\nHETATM   12 C21  UNK A   1       1.554   2.858  -3.475  1.00  0.00          C   \\nHETATM   13 C23  UNK A   1       0.592   1.989  -2.993  1.00  0.00          C   \\nHETATM   14 C14  UNK A   1      -0.963   0.009  -3.264  1.00  0.00          C   \\nHETATM   15 O141 UNK A   1      -1.864  -0.349  -3.985  1.00  0.00          O   \\nHETATM   16 O142 UNK A   1      -0.899  -0.432  -1.998  1.00  0.00          O   \\nHETATM   17 C1   UNK A   1      -1.557  -0.226   3.206  1.00  0.00          C   \\nHETATM   18 C2   UNK A   1      -1.406   0.560   4.332  1.00  0.00          C   \\nHETATM   19 C3   UNK A   1      -2.506   0.875   5.108  1.00  0.00          C   \\nHETATM   20 C4   UNK A   1      -3.757   0.403   4.756  1.00  0.00          C   \\nHETATM   21 C5   UNK A   1      -3.908  -0.382   3.629  1.00  0.00          C   \\nHETATM   22 C6   UNK A   1      -2.807  -0.699   2.855  1.00  0.00          C   \\nHETATM   23 C7   UNK A   1      -0.410  -1.827   2.349  1.00  0.00          C   \\nHETATM   24 C8   UNK A   1       0.461  -2.527   3.162  1.00  0.00          C   \\nHETATM   25 C9   UNK A   1       0.564  -3.901   3.043  1.00  0.00          C   \\nHETATM   26 C10  UNK A   1      -0.205  -4.573   2.112  1.00  0.00          C   \\nHETATM   27 C11  UNK A   1      -1.077  -3.873   1.300  1.00  0.00          C   \\nHETATM   28 C12  UNK A   1      -1.178  -2.499   1.418  1.00  0.00          C   \\nHETATM   29 HN16 UNK A   1       1.872  -1.653   0.516  1.00  0.00          H   \\nHETATM   30 HN16 UNK A   1       2.078  -0.225  -0.282  1.00  0.00          H   \\nHETATM   31 H16  UNK A   1      -0.247  -1.731   0.039  1.00  0.00          H   \\nHETATM   32 H17  UNK A   1      -1.729   0.101   0.801  1.00  0.00          H   \\nHETATM   33 HO17 UNK A   1      -0.026   1.913   0.280  1.00  0.00          H   \\nHETATM   34 H18  UNK A   1       0.390  -0.128   2.937  1.00  0.00          H   \\nHETATM   35 H20  UNK A   1       0.218   0.021  -5.717  1.00  0.00          H   \\nHETATM   36 H19  UNK A   1       1.942   1.572  -6.579  1.00  0.00          H   \\nHETATM   37 H22  UNK A   1       2.797   3.392  -5.141  1.00  0.00          H   \\nHETATM   38 H21  UNK A   1       1.931   3.661  -2.842  1.00  0.00          H   \\nHETATM   39 H23  UNK A   1       0.212   2.106  -1.978  1.00  0.00          H   \\nHETATM   40 H2   UNK A   1      -0.419   0.932   4.608  1.00  0.00          H   \\nHETATM   41 H3   UNK A   1      -2.389   1.495   5.997  1.00  0.00          H   \\nHETATM   42 H4   UNK A   1      -4.625   0.650   5.367  1.00  0.00          H   \\nHETATM   43 H5   UNK A   1      -4.895  -0.751   3.350  1.00  0.00          H   \\nHETATM   44 H6   UNK A   1      -2.926  -1.322   1.968  1.00  0.00          H   \\nHETATM   45 H8   UNK A   1       1.066  -1.996   3.897  1.00  0.00          H   \\nHETATM   46 H9   UNK A   1       1.252  -4.453   3.684  1.00  0.00          H   \\nHETATM   47 H10  UNK A   1      -0.123  -5.656   2.019  1.00  0.00          H   \\nHETATM   48 H11  UNK A   1      -1.685  -4.402   0.567  1.00  0.00          H   \\nHETATM   49 H12  UNK A   1      -1.864  -1.946   0.776  1.00  0.00          H   \\nCONECT    1    2   29   30\\nCONECT    2    1    3    5   31\\nCONECT    3    2    4    4   16\\nCONECT    5    2    6    7   32\\nCONECT    4    3    3\\nCONECT   16    3   14\\nCONECT    6    5   33\\nCONECT    7    5   17   23   34\\nCONECT   17    7   18   18   22\\nCONECT   23    7   24   24   28\\nCONECT    8    9    9   13   14\\nCONECT    9    8    8   10   35\\nCONECT   13    8   12   12   39\\nCONECT   14    8   15   15   16\\nCONECT   10    9   11   11   36\\nCONECT   12   13   13   11   38\\nCONECT   11   10   10   12   37\\nCONECT   15   14   14\\nCONECT   18   17   17   19   40\\nCONECT   22   17   21   21   44\\nCONECT   19   18   20   20   41\\nCONECT   21   22   22   20   43\\nCONECT   20   19   19   21   42\\nCONECT   24   23   23   25   45\\nCONECT   28   23   27   27   49\\nCONECT   25   24   26   26   46\\nCONECT   27   28   28   26   48\\nCONECT   26   25   25   27   47\\nCONECT   29    1\\nCONECT   30    1\\nCONECT   31    2\\nCONECT   32    5\\nCONECT   33    6\\nCONECT   34    7\\nCONECT   35    9\\nCONECT   36   10\\nCONECT   37   11\\nCONECT   38   12\\nCONECT   39   13\\nCONECT   40   18\\nCONECT   41   19\\nCONECT   42   20\\nCONECT   43   21\\nCONECT   44   22\\nCONECT   45   24\\nCONECT   46   25\\nCONECT   47   26\\nCONECT   48   27\\nCONECT   49   28\\nEND\",\"pdb\");\n",
       "\tviewer_17236354604038138.setStyle({\"stick\": {}});\n",
       "\tviewer_17236354604038138.zoomTo();\n",
       "\tviewer_17236354604038138.setStyle({\"stick\": {}});\n",
       "\tviewer_17236354604038138.addModel(\"HETATM    1 N16  UNK A   1       2.030  -0.433   0.659  1.00  0.00          N   \\nHETATM    2 C16  UNK A   1       0.784  -0.905   0.043  1.00  0.00          C   \\nHETATM    3 C15  UNK A   1       0.738  -0.559  -1.430  1.00  0.00          C   \\nHETATM    4 O15  UNK A   1       1.812  -0.458  -2.086  1.00  0.00          O   \\nHETATM    5 C17  UNK A   1      -0.444  -0.338   0.807  1.00  0.00          C   \\nHETATM    6 O17  UNK A   1      -0.421   1.069   0.762  1.00  0.00          O   \\nHETATM    7 C18  UNK A   1      -0.472  -0.795   2.294  1.00  0.00          C   \\nHETATM    8 C13  UNK A   1       0.128   1.143  -3.925  1.00  0.00          C   \\nHETATM    9 C20  UNK A   1       0.378   1.229  -5.307  1.00  0.00          C   \\nHETATM   10 C19  UNK A   1       1.123   2.293  -5.825  1.00  0.00          C   \\nHETATM   11 C22  UNK A   1       1.616   3.284  -4.973  1.00  0.00          C   \\nHETATM   12 C21  UNK A   1       1.360   3.217  -3.602  1.00  0.00          C   \\nHETATM   13 C23  UNK A   1       0.615   2.156  -3.079  1.00  0.00          C   \\nHETATM   14 C14  UNK A   1      -0.678   0.023  -3.384  1.00  0.00          C   \\nHETATM   15 O141 UNK A   1      -1.589  -0.477  -4.094  1.00  0.00          O   \\nHETATM   16 O142 UNK A   1      -0.498  -0.472  -2.085  1.00  0.00          O   \\nHETATM   17 C1   UNK A   1      -1.560  -0.124   3.122  1.00  0.00          C   \\nHETATM   18 C2   UNK A   1      -1.291   0.213   4.462  1.00  0.00          C   \\nHETATM   19 C3   UNK A   1      -2.278   0.796   5.262  1.00  0.00          C   \\nHETATM   20 C4   UNK A   1      -3.550   1.038   4.740  1.00  0.00          C   \\nHETATM   21 C5   UNK A   1      -3.838   0.693   3.419  1.00  0.00          C   \\nHETATM   22 C6   UNK A   1      -2.856   0.109   2.614  1.00  0.00          C   \\nHETATM   23 C7   UNK A   1      -0.573  -2.305   2.436  1.00  0.00          C   \\nHETATM   24 C8   UNK A   1       0.450  -3.019   3.087  1.00  0.00          C   \\nHETATM   25 C9   UNK A   1       0.369  -4.408   3.224  1.00  0.00          C   \\nHETATM   26 C10  UNK A   1      -0.732  -5.099   2.716  1.00  0.00          C   \\nHETATM   27 C11  UNK A   1      -1.756  -4.403   2.071  1.00  0.00          C   \\nHETATM   28 C12  UNK A   1      -1.681  -3.014   1.931  1.00  0.00          C   \\nHETATM   29 HN16 UNK A   1       2.833  -0.970   0.259  1.00  0.00          H   \\nHETATM   30 HN16 UNK A   1       2.175   0.577   0.429  1.00  0.00          H   \\nHETATM   31 H16  UNK A   1       0.757  -2.014   0.108  1.00  0.00          H   \\nHETATM   32 H17  UNK A   1      -1.362  -0.723   0.306  1.00  0.00          H   \\nHETATM   33 HO17 UNK A   1      -0.953   1.348  -0.029  1.00  0.00          H   \\nHETATM   34 H18  UNK A   1       0.499  -0.465   2.727  1.00  0.00          H   \\nHETATM   35 H20  UNK A   1       0.006   0.468  -5.982  1.00  0.00          H   \\nHETATM   36 H19  UNK A   1       1.318   2.348  -6.888  1.00  0.00          H   \\nHETATM   37 H22  UNK A   1       2.192   4.107  -5.377  1.00  0.00          H   \\nHETATM   38 H21  UNK A   1       1.733   3.991  -2.944  1.00  0.00          H   \\nHETATM   39 H23  UNK A   1       0.409   2.135  -2.017  1.00  0.00          H   \\nHETATM   40 H2   UNK A   1      -0.315   0.022   4.891  1.00  0.00          H   \\nHETATM   41 H3   UNK A   1      -2.058   1.055   6.290  1.00  0.00          H   \\nHETATM   42 H4   UNK A   1      -4.313   1.488   5.362  1.00  0.00          H   \\nHETATM   43 H5   UNK A   1      -4.828   0.873   3.018  1.00  0.00          H   \\nHETATM   44 H6   UNK A   1      -3.117  -0.155   1.600  1.00  0.00          H   \\nHETATM   45 H8   UNK A   1       1.313  -2.503   3.489  1.00  0.00          H   \\nHETATM   46 H9   UNK A   1       1.162  -4.948   3.725  1.00  0.00          H   \\nHETATM   47 H10  UNK A   1      -0.793  -6.175   2.823  1.00  0.00          H   \\nHETATM   48 H11  UNK A   1      -2.610  -4.940   1.678  1.00  0.00          H   \\nHETATM   49 H12  UNK A   1      -2.486  -2.498   1.427  1.00  0.00          H   \\nCONECT    1    2   29   30\\nCONECT    2    1    3    5   31\\nCONECT   29    1\\nCONECT   30    1\\nCONECT    3    2    4    4   16\\nCONECT    5    2    6    7   32\\nCONECT   31    2\\nCONECT    4    3    3\\nCONECT   16    3   14\\nCONECT    6    5   33\\nCONECT    7    5   17   23   34\\nCONECT   32    5\\nCONECT   33    6\\nCONECT   17    7   18   18   22\\nCONECT   23    7   24   24   28\\nCONECT   34    7\\nCONECT    8    9    9   13   14\\nCONECT    9    8    8   10   35\\nCONECT   13    8   12   12   39\\nCONECT   14    8   15   15   16\\nCONECT   10    9   11   11   36\\nCONECT   35    9\\nCONECT   11   10   10   12   37\\nCONECT   36   10\\nCONECT   12   11   13   13   38\\nCONECT   37   11\\nCONECT   38   12\\nCONECT   39   13\\nCONECT   15   14   14\\nCONECT   18   17   17   19   40\\nCONECT   22   17   21   21   44\\nCONECT   19   18   20   20   41\\nCONECT   40   18\\nCONECT   20   19   19   21   42\\nCONECT   41   19\\nCONECT   21   20   22   22   43\\nCONECT   42   20\\nCONECT   43   21\\nCONECT   44   22\\nCONECT   24   23   23   25   45\\nCONECT   28   23   27   27   49\\nCONECT   25   24   26   26   46\\nCONECT   45   24\\nCONECT   26   25   25   27   47\\nCONECT   46   25\\nCONECT   27   26   28   28   48\\nCONECT   47   26\\nCONECT   48   27\\nCONECT   49   28\\nEND\",\"pdb\");\n",
       "\tviewer_17236354604038138.setStyle({\"model\": 1},{\"stick\": {\"color\": \"lightgreen\"}});\n",
       "viewer_17236354604038138.render();\n",
       "});\n",
       "</script>"
      ]
     },
     "metadata": {},
     "output_type": "display_data"
    },
    {
     "name": "stdout",
     "output_type": "stream",
     "text": [
      "Before: 1282.1597448196492\n",
      "After: 59.76116215387487\n"
     ]
    }
   ],
   "source": [
    "minimized = bam.read_pdb(BASE / \"test_mol.pdb\")\n",
    "minimized.add_hydrogens()\n",
    "before = minimized.copy()\n",
    "\n",
    "minimized = minimized.to_rdkit()\n",
    "\n",
    "AllChem.UFFOptimizeMolecule(minimized)\n",
    "\n",
    "after = bam.molecule(minimized)\n",
    "after.to_pdb(\"test_mol_minimized.pdb\")\n",
    "\n",
    "v = before.py3dmol()\n",
    "v += after.py3dmol(color=\"lightgreen\")\n",
    "v.show()\n",
    "\n",
    "print(\"Before:\", energy(before.to_rdkit()))\n",
    "print(\"After:\", energy(minimized))"
   ]
  },
  {
   "cell_type": "markdown",
   "metadata": {},
   "source": [
    "Now compute the RMSD to the UFF minimized conformation"
   ]
  },
  {
   "cell_type": "code",
   "execution_count": 67,
   "metadata": {},
   "outputs": [],
   "source": [
    "minimized = Chem.RemoveAllHs(minimized)\n",
    "\n",
    "def rmsd(rdmol):\n",
    "    try:\n",
    "        score = AllChem.AlignMol(rdmol, minimized)\n",
    "        return AllChem.GetBestRMS(rdmol, minimized)\n",
    "    except Exception as e:\n",
    "        return np.nan\n",
    "    \n",
    "rmsds = {}\n",
    "for dataset, mols in conformer_datasets.items():\n",
    "    rmsds[dataset] = [rmsd(mol.to_rdkit()) for mol in mols]"
   ]
  },
  {
   "cell_type": "markdown",
   "metadata": {},
   "source": [
    "Now save the results"
   ]
  },
  {
   "cell_type": "code",
   "execution_count": 68,
   "metadata": {},
   "outputs": [],
   "source": [
    "_clashes = {\"dataset\": [], \"clashes\": []}\n",
    "for dataset, values in clashes.items():\n",
    "    dataset = [dataset] * len(values)\n",
    "    _clashes[\"dataset\"].extend(dataset)\n",
    "    _clashes[\"clashes\"].extend(values)\n",
    "\n",
    "_energies = {\"dataset\": [], \"energy\": []}\n",
    "for dataset, values in energies.items():\n",
    "    dataset = [dataset] * len(values)\n",
    "    _energies[\"dataset\"].extend(dataset)\n",
    "    _energies[\"energy\"].extend(values)\n",
    "\n",
    "_rmsds = {\"dataset\": [], \"rmsd\": []}\n",
    "for dataset, values in rmsds.items():\n",
    "    dataset = [dataset] * len(values)\n",
    "    _rmsds[\"dataset\"].extend(dataset)\n",
    "    _rmsds[\"rmsd\"].extend(values)\n",
    "\n",
    "_clashes = pd.DataFrame(_clashes)\n",
    "_energies = pd.DataFrame(_energies)\n",
    "_rmsds = pd.DataFrame(_rmsds)\n",
    "\n",
    "\n",
    "_clashes.to_csv(\"clashes.csv\", index=False)\n",
    "_energies.to_csv(\"energies.csv\", index=False)\n",
    "_rmsds.to_csv(\"rmsds.csv\", index=False)"
   ]
  },
  {
   "cell_type": "code",
   "execution_count": 69,
   "metadata": {},
   "outputs": [],
   "source": [
    "# and also do a summary statistics\n",
    "summary = {\n",
    "    \"dataset\" : [],\n",
    "    \"mean_clashes\" : [],\n",
    "    \"std_clashes\" : [],\n",
    "    \"mean_energy\" : [],\n",
    "    \"std_energy\" : [],\n",
    "    \"mean_rmsd\" : [],\n",
    "    \"std_rmsd\" : [],\n",
    "}\n",
    "for dataset, values in clashes.items():\n",
    "    summary[\"dataset\"].append(dataset)\n",
    "    summary[\"mean_clashes\"].append(np.mean(values))\n",
    "    summary[\"std_clashes\"].append(np.std(values))\n",
    "\n",
    "for dataset, values in energies.items():\n",
    "    summary[\"mean_energy\"].append(np.mean(values))\n",
    "    summary[\"std_energy\"].append(np.std(values))\n",
    "\n",
    "for dataset, values in rmsds.items():\n",
    "    summary[\"mean_rmsd\"].append(np.nanmean(values))\n",
    "    summary[\"std_rmsd\"].append(np.nanstd(values))\n",
    "\n",
    "summary = pd.DataFrame(summary)\n",
    "summary.to_csv(\"summary.csv\", index=False)"
   ]
  }
 ],
 "metadata": {
  "kernelspec": {
   "display_name": "glyco2",
   "language": "python",
   "name": "python3"
  },
  "language_info": {
   "codemirror_mode": {
    "name": "ipython",
    "version": 3
   },
   "file_extension": ".py",
   "mimetype": "text/x-python",
   "name": "python",
   "nbconvert_exporter": "python",
   "pygments_lexer": "ipython3",
   "version": "3.11.0"
  }
 },
 "nbformat": 4,
 "nbformat_minor": 2
}
