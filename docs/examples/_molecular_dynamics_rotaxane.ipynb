{
 "cells": [
  {
   "cell_type": "markdown",
   "metadata": {},
   "source": [
    "# Performing Molecular Dynamics - Rotaxane"
   ]
  },
  {
   "cell_type": "markdown",
   "metadata": {},
   "source": [
    "Just the MD code for the Multi-Molecule System Tutorial Rotaxane that we built."
   ]
  },
  {
   "cell_type": "markdown",
   "metadata": {},
   "source": [
    "Once we have all the output files from CHARMM-GUI, we can use these in OpenMM to perform our simulation.\n",
    "The remainder of the code has nothing to do with BuildAMol anymore. It's now on to OpenMM coding!"
   ]
  },
  {
   "cell_type": "code",
   "execution_count": 2,
   "metadata": {},
   "outputs": [],
   "source": [
    "import openmm\n",
    "import openmm.app as app\n",
    "import openmm.unit as unit"
   ]
  },
  {
   "cell_type": "code",
   "execution_count": 13,
   "metadata": {},
   "outputs": [],
   "source": [
    "from pathlib import Path\n",
    "charmm_downloads = Path(\"./files/charmm-gui-rotaxane\")"
   ]
  },
  {
   "cell_type": "code",
   "execution_count": 14,
   "metadata": {},
   "outputs": [],
   "source": [
    "# load the pdb of our molecule (it will be named \"ligandrm.pdb\" by CHARMM-GUI)\n",
    "pdb = app.PDBFile(str(charmm_downloads / \"ligandrm.pdb\"))\n",
    "\n",
    "# load the psf of our molecule (it will be named \"ligandrm.psf\" by CHARMM-GUI)\n",
    "psf = app.CharmmPsfFile(str(charmm_downloads / \"ligandrm.psf\"))\n",
    "\n",
    "# load the CHARMM force field parameters \n",
    "# we need to include the CGenFF parameters as well...\n",
    "params = app.CharmmParameterSet(\n",
    "                                str(charmm_downloads / \"toppar\" / \"lig.rtf\"),\n",
    "                                str(charmm_downloads / \"toppar\" / \"lig.prm\"),\n",
    "                                str(charmm_downloads / \"toppar\" / \"top_all36_cgenff.rtf\"),\n",
    "                                str(charmm_downloads / \"toppar\" / \"par_all36_cgenff.prm\"),\n",
    "                            )\n",
    "\n",
    "# create the OpenMM system from the PSF and parameters\n",
    "# that we will need to run the simulation\n",
    "system = psf.createSystem(params, \n",
    "                        nonbondedMethod=app.CutoffNonPeriodic, \n",
    "                        nonbondedCutoff=1.0*unit.nanometer, \n",
    "                        constraints=app.HBonds, \n",
    "                        )"
   ]
  },
  {
   "cell_type": "code",
   "execution_count": 15,
   "metadata": {},
   "outputs": [],
   "source": [
    "# now set up some other simulation stuff that is necessary...\n",
    "integrator = openmm.LangevinIntegrator(300*unit.kelvin, 1/unit.picosecond, 0.002*unit.picoseconds)\n",
    "simulation = app.Simulation(psf.topology, system, integrator)\n",
    "simulation.context.setPositions(pdb.positions)\n",
    "\n",
    "# and run the simulation\n",
    "simulation.reporters.append(app.PDBReporter('files/system_MD.pdb', 10))\n",
    "simulation.reporters.append(app.StateDataReporter('files/system_MD.log', 10, step=True, potentialEnergy=True, temperature=True))\n",
    "simulation.step(1000)"
   ]
  }
 ],
 "metadata": {
  "kernelspec": {
   "display_name": "glyco2",
   "language": "python",
   "name": "python3"
  },
  "language_info": {
   "codemirror_mode": {
    "name": "ipython",
    "version": 3
   },
   "file_extension": ".py",
   "mimetype": "text/x-python",
   "name": "python",
   "nbconvert_exporter": "python",
   "pygments_lexer": "ipython3",
   "version": "3.11.0"
  },
  "orig_nbformat": 4
 },
 "nbformat": 4,
 "nbformat_minor": 2
}
