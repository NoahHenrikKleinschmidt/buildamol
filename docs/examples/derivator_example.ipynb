{
 "cells": [
  {
   "attachments": {},
   "cell_type": "markdown",
   "metadata": {},
   "source": [
    "# Molecular Derivatives\n",
    "\n",
    "> ### In this tutorial we will cover:\n",
    "> - how we can automatically generate derivatives of molecules by targeted changes"
   ]
  },
  {
   "cell_type": "markdown",
   "metadata": {},
   "source": [
    "BuildAMol presents first and foremost a framework that allows users to design molecules on their own initiative, by assembling molecular fragments and adjusting the generated structures. However, in many applications, such as drug design, we often do not have a clear idea about the exact molecule wer are interested in. Instead, we may only have a broad idea about the chemical class of molecule we are looking for but the precise nature of its structure. \n",
    "\n",
    "BuildAMol offers an extension named `molecular_factories` which contains pre-implemented classes to help with automated molecule creation. In this tutorial we will be using on factory named the `Derivator` to make \"molecule derivatives\" from a starting compound. \n",
    "\n",
    "The Derivator\n",
    "-------------\n",
    "The `Derivator` is a class that takes in a starting molecule and information on possible modifications to do. Possible modifications include:\n",
    "- changing the element of an atom\n",
    "- changing the order of a bond\n",
    "- adding a functional group onto an atom (or any other function working on a specific atom)\n",
    "- any function that modifies the molecule as a whole\n",
    "\n",
    "Using these the `Derivator` offers methods `make`, `sample`, and `all` to generate derivative molecules that contain applied modifications.\n",
    "- `make` allows the user to make a specific derivative based on the potential changes that were specified\n",
    "- `sample` allows the user to create one or more random derivatives in a stochastic way\n",
    "- `all` allows the user to generate all combinatorically possible molecule derivatives\n",
    "\n",
    "So, with all that said, let's dive into an example!"
   ]
  },
  {
   "cell_type": "markdown",
   "metadata": {},
   "source": [
    "## Example 1\n",
    "\n",
    "As a first try, let's start with a benzene ring and modify the following:\n",
    "- atom `C1` could be a `C`, `N`, or `O`\n",
    "- atom `C3` could be a `C`, or `N`\n",
    "- we could have a `carboxyl` or an `amide` group at atom `C4`\n",
    "\n",
    "So, how do we set up this kind of simulation?"
   ]
  },
  {
   "cell_type": "code",
   "execution_count": 1,
   "metadata": {},
   "outputs": [],
   "source": [
    "import buildamol as bam\n",
    "from buildamol.extensions.molecular_factories import Derivator\n",
    "\n",
    "# create the benzene starting molecule\n",
    "bam.load_small_molecules()\n",
    "benzene = bam.get_compound(\"benzene\")\n",
    "\n",
    "# create the derivator object\n",
    "derivator = Derivator(benzene)"
   ]
  },
  {
   "cell_type": "markdown",
   "metadata": {},
   "source": [
    "Now we can specify our desired modifications like so:"
   ]
  },
  {
   "cell_type": "code",
   "execution_count": 2,
   "metadata": {},
   "outputs": [
    {
     "data": {
      "text/plain": [
       "<buildamol.extensions.molecular_factories.derivator.Derivator at 0x13558cc10>"
      ]
     },
     "execution_count": 2,
     "metadata": {},
     "output_type": "execute_result"
    }
   ],
   "source": [
    "# we can give any atom identifier as \"atom\" argument, or the an atom object\n",
    "derivator.element_changable(atom=\"C1\", elements=(\"C\", \"N\", \"O\"))\n",
    "derivator.element_changable(atom=\"C3\", elements=(\"C\", \"N\"))\n",
    "\n",
    "derivator.functional_group_addable(atom=\"C4\", group_modifiers=(bam.carboxylate, bam.amidate))"
   ]
  },
  {
   "cell_type": "markdown",
   "metadata": {},
   "source": [
    "And with that done we can try to sample a possible molecule like so:"
   ]
  },
  {
   "cell_type": "code",
   "execution_count": 3,
   "metadata": {},
   "outputs": [
    {
     "data": {
      "application/3dmoljs_load.v0": "<div id=\"3dmolviewer_1724232906772707\"  style=\"position: relative; width: 600px; height: 500px;\">\n        <p id=\"3dmolwarning_1724232906772707\" style=\"background-color:#ffcccc;color:black\">You appear to be running in JupyterLab (or JavaScript failed to load for some other reason).  You need to install the 3dmol extension: <br>\n        <tt>jupyter labextension install jupyterlab_3dmol</tt></p>\n        </div>\n<script>\n\nvar loadScriptAsync = function(uri){\n  return new Promise((resolve, reject) => {\n    //this is to ignore the existence of requirejs amd\n    var savedexports, savedmodule;\n    if (typeof exports !== 'undefined') savedexports = exports;\n    else exports = {}\n    if (typeof module !== 'undefined') savedmodule = module;\n    else module = {}\n\n    var tag = document.createElement('script');\n    tag.src = uri;\n    tag.async = true;\n    tag.onload = () => {\n        exports = savedexports;\n        module = savedmodule;\n        resolve();\n    };\n  var firstScriptTag = document.getElementsByTagName('script')[0];\n  firstScriptTag.parentNode.insertBefore(tag, firstScriptTag);\n});\n};\n\nif(typeof $3Dmolpromise === 'undefined') {\n$3Dmolpromise = null;\n  $3Dmolpromise = loadScriptAsync('https://cdnjs.cloudflare.com/ajax/libs/3Dmol/2.0.3/3Dmol-min.js');\n}\n\nvar viewer_1724232906772707 = null;\nvar warn = document.getElementById(\"3dmolwarning_1724232906772707\");\nif(warn) {\n    warn.parentNode.removeChild(warn);\n}\n$3Dmolpromise.then(function() {\nviewer_1724232906772707 = $3Dmol.createViewer(document.getElementById(\"3dmolviewer_1724232906772707\"),{backgroundColor:\"white\"});\nviewer_1724232906772707.zoomTo();\n\tviewer_1724232906772707.addModel(\"HETATM    1 C1   BNZ A   1       0.675  -1.206  -0.000  1.00  0.00          C   \\nHETATM    2 C2   BNZ A   1      -0.707  -1.188   0.000  1.00  0.00          C   \\nHETATM    3 C3   BNZ A   1      -1.382   0.019  -0.000  1.00  0.00          C   \\nHETATM    4 C4   BNZ A   1      -0.675   1.206  -0.000  1.00  0.00          C   \\nHETATM    5 C5   BNZ A   1       0.707   1.188   0.001  1.00  0.00          C   \\nHETATM    6 C6   BNZ A   1       1.382  -0.019  -0.001  1.00  0.00          C   \\nHETATM    7 H1   BNZ A   1       1.202  -2.149   0.004  1.00  0.00          H   \\nHETATM    8 H2   BNZ A   1      -1.260  -2.115   0.000  1.00  0.00          H   \\nHETATM    9 H3   BNZ A   1      -2.462   0.034  -0.001  1.00  0.00          H   \\nHETATM   10 H5   BNZ A   1       1.260   2.115  -0.000  1.00  0.00          H   \\nHETATM   11 H6   BNZ A   1       2.462  -0.034  -0.001  1.00  0.00          H   \\nHETATM   12 C    CBX A   2      -1.426   2.550  -0.001  1.00  0.00          C   \\nHETATM   13 O    CBX A   2      -0.810   3.587  -0.076  1.00  0.00          O   \\nHETATM   14 OXT  CBX A   2      -2.766   2.570   0.080  1.00  0.00          O   \\nHETATM   15 HXT  CBX A   2      -3.260   1.741   0.140  1.00  0.00          H   \\nCONECT    1    2    2    6    7\\nCONECT    2    1    1    3    8\\nCONECT    6    1    5    5   11\\nCONECT    7    1\\nCONECT    3    2    4    4    9\\nCONECT    8    2\\nCONECT    4    3    3    5   12\\nCONECT    9    3\\nCONECT    5    4    6    6   10\\nCONECT   10    5\\nCONECT   11    6\\nCONECT   12   13   13   14    4\\nCONECT   13   12   12\\nCONECT   14   12   15\\nCONECT   15   14\\nEND\",\"pdb\");\n\tviewer_1724232906772707.setStyle({\"stick\": {}});\n\tviewer_1724232906772707.zoomTo();\n\tviewer_1724232906772707.setStyle({\"stick\": {}});\nviewer_1724232906772707.render();\n});\n</script>",
      "text/html": [
       "<div id=\"3dmolviewer_1724232906772707\"  style=\"position: relative; width: 600px; height: 500px;\">\n",
       "        <p id=\"3dmolwarning_1724232906772707\" style=\"background-color:#ffcccc;color:black\">You appear to be running in JupyterLab (or JavaScript failed to load for some other reason).  You need to install the 3dmol extension: <br>\n",
       "        <tt>jupyter labextension install jupyterlab_3dmol</tt></p>\n",
       "        </div>\n",
       "<script>\n",
       "\n",
       "var loadScriptAsync = function(uri){\n",
       "  return new Promise((resolve, reject) => {\n",
       "    //this is to ignore the existence of requirejs amd\n",
       "    var savedexports, savedmodule;\n",
       "    if (typeof exports !== 'undefined') savedexports = exports;\n",
       "    else exports = {}\n",
       "    if (typeof module !== 'undefined') savedmodule = module;\n",
       "    else module = {}\n",
       "\n",
       "    var tag = document.createElement('script');\n",
       "    tag.src = uri;\n",
       "    tag.async = true;\n",
       "    tag.onload = () => {\n",
       "        exports = savedexports;\n",
       "        module = savedmodule;\n",
       "        resolve();\n",
       "    };\n",
       "  var firstScriptTag = document.getElementsByTagName('script')[0];\n",
       "  firstScriptTag.parentNode.insertBefore(tag, firstScriptTag);\n",
       "});\n",
       "};\n",
       "\n",
       "if(typeof $3Dmolpromise === 'undefined') {\n",
       "$3Dmolpromise = null;\n",
       "  $3Dmolpromise = loadScriptAsync('https://cdnjs.cloudflare.com/ajax/libs/3Dmol/2.0.3/3Dmol-min.js');\n",
       "}\n",
       "\n",
       "var viewer_1724232906772707 = null;\n",
       "var warn = document.getElementById(\"3dmolwarning_1724232906772707\");\n",
       "if(warn) {\n",
       "    warn.parentNode.removeChild(warn);\n",
       "}\n",
       "$3Dmolpromise.then(function() {\n",
       "viewer_1724232906772707 = $3Dmol.createViewer(document.getElementById(\"3dmolviewer_1724232906772707\"),{backgroundColor:\"white\"});\n",
       "viewer_1724232906772707.zoomTo();\n",
       "\tviewer_1724232906772707.addModel(\"HETATM    1 C1   BNZ A   1       0.675  -1.206  -0.000  1.00  0.00          C   \\nHETATM    2 C2   BNZ A   1      -0.707  -1.188   0.000  1.00  0.00          C   \\nHETATM    3 C3   BNZ A   1      -1.382   0.019  -0.000  1.00  0.00          C   \\nHETATM    4 C4   BNZ A   1      -0.675   1.206  -0.000  1.00  0.00          C   \\nHETATM    5 C5   BNZ A   1       0.707   1.188   0.001  1.00  0.00          C   \\nHETATM    6 C6   BNZ A   1       1.382  -0.019  -0.001  1.00  0.00          C   \\nHETATM    7 H1   BNZ A   1       1.202  -2.149   0.004  1.00  0.00          H   \\nHETATM    8 H2   BNZ A   1      -1.260  -2.115   0.000  1.00  0.00          H   \\nHETATM    9 H3   BNZ A   1      -2.462   0.034  -0.001  1.00  0.00          H   \\nHETATM   10 H5   BNZ A   1       1.260   2.115  -0.000  1.00  0.00          H   \\nHETATM   11 H6   BNZ A   1       2.462  -0.034  -0.001  1.00  0.00          H   \\nHETATM   12 C    CBX A   2      -1.426   2.550  -0.001  1.00  0.00          C   \\nHETATM   13 O    CBX A   2      -0.810   3.587  -0.076  1.00  0.00          O   \\nHETATM   14 OXT  CBX A   2      -2.766   2.570   0.080  1.00  0.00          O   \\nHETATM   15 HXT  CBX A   2      -3.260   1.741   0.140  1.00  0.00          H   \\nCONECT    1    2    2    6    7\\nCONECT    2    1    1    3    8\\nCONECT    6    1    5    5   11\\nCONECT    7    1\\nCONECT    3    2    4    4    9\\nCONECT    8    2\\nCONECT    4    3    3    5   12\\nCONECT    9    3\\nCONECT    5    4    6    6   10\\nCONECT   10    5\\nCONECT   11    6\\nCONECT   12   13   13   14    4\\nCONECT   13   12   12\\nCONECT   14   12   15\\nCONECT   15   14\\nEND\",\"pdb\");\n",
       "\tviewer_1724232906772707.setStyle({\"stick\": {}});\n",
       "\tviewer_1724232906772707.zoomTo();\n",
       "\tviewer_1724232906772707.setStyle({\"stick\": {}});\n",
       "viewer_1724232906772707.render();\n",
       "});\n",
       "</script>"
      ]
     },
     "metadata": {},
     "output_type": "display_data"
    }
   ],
   "source": [
    "# sample is a generator that will yield molecules\n",
    "mol = next(derivator.sample())\n",
    "mol.py3dmol().show()"
   ]
  },
  {
   "cell_type": "markdown",
   "metadata": {},
   "source": [
    "Cool! So we have a molecule with some changes applied. Since we actually don't have that many changes we can also use `all` to compute all possible molecules from the changes we specified. Here's how:"
   ]
  },
  {
   "cell_type": "code",
   "execution_count": 4,
   "metadata": {},
   "outputs": [
    {
     "name": "stdout",
     "output_type": "stream",
     "text": [
      "Number of possible molecules: 10\n"
     ]
    }
   ],
   "source": [
    "# make a list of all possible molecules\n",
    "# all is a generator that will yield molecules\n",
    "mols = list(derivator.all())\n",
    "print(f\"Number of possible molecules: {len(mols)}\")"
   ]
  },
  {
   "cell_type": "code",
   "execution_count": 5,
   "metadata": {},
   "outputs": [
    {
     "data": {
      "image/png": "[encoded data removed]",
      "text/plain": [
       "<Figure size 1000x1000 with 16 Axes>"
      ]
     },
     "metadata": {},
     "output_type": "display_data"
    }
   ],
   "source": [
    "# let's visualize the molecules\n",
    "import matplotlib.pyplot as plt\n",
    "import numpy as np\n",
    "\n",
    "# make a nice grid of subplots\n",
    "rows = np.sqrt(len(mols))   \n",
    "cols = np.ceil(len(mols) / rows)\n",
    "rows = np.ceil(rows)\n",
    "fig, axs = plt.subplots(int(rows), int(cols), figsize=(10, 10))\n",
    "\n",
    "for i, mol in enumerate(mols):\n",
    "    ax = axs[int(i // cols), int(i % cols)]\n",
    "    ax.imshow(mol.chem2dview().draw())\n",
    "for ax in axs.flat:    \n",
    "    ax.axis(\"off\")"
   ]
  },
  {
   "cell_type": "markdown",
   "metadata": {},
   "source": [
    "And there we have all our possible molecules that fulfill our specifications! \n",
    "\n",
    "## Example 2\n",
    "\n",
    "We can also take this a step further and make a more elaborate pipeline, where we have more options and therefore a larger molecule space. If we have a large number of possible combinations it can get exhaustive to compute all possibilities so we may want to rely on `sample` or `make` instead. We can specify _probabilities_ for specific modifications to guide how frequently they are chosen by the sampling algorithm and thereby make sure that \"less likely\" alterations are not given too much attention. "
   ]
  },
  {
   "cell_type": "markdown",
   "metadata": {},
   "source": [
    "To illustrate this, let's make a second example where we add a wider variety of possible modifications! Also, let's add a custom global modifier that will circularize our molecule targets with either 6-membered or 5-membered rings!"
   ]
  },
  {
   "cell_type": "code",
   "execution_count": 6,
   "metadata": {},
   "outputs": [
    {
     "name": "stderr",
     "output_type": "stream",
     "text": [
      "/Users/noahhk/anaconda3/envs/glyco2/lib/python3.11/site-packages/plotly/express/_core.py:1985: FutureWarning:\n",
      "\n",
      "When grouping with a length-1 list-like, you will need to pass a length-1 tuple to get_group in a future version of pandas. Pass `(name,)` instead of `name` to silence this warning.\n",
      "\n"
     ]
    },
    {
     "data": {
      "application/vnd.plotly.v1+json": {
       "config": {
        "plotlyServerURL": "https://plot.ly"
       },
       "data": [
        {
         "customdata": [
          [
           "C1",
           1,
           1,
           "UNL",
           ""
          ],
          [
           "C6",
           2,
           1,
           "UNL",
           ""
          ],
          [
           "C5",
           3,
           1,
           "UNL",
           ""
          ],
          [
           "C4",
           4,
           1,
           "UNL",
           ""
          ],
          [
           "C3",
           5,
           1,
           "UNL",
           ""
          ],
          [
           "C2",
           6,
           1,
           "UNL",
           ""
          ],
          [
           "C7",
           7,
           1,
           "UNL",
           ""
          ],
          [
           "C8",
           8,
           1,
           "UNL",
           ""
          ],
          [
           "C9",
           9,
           1,
           "UNL",
           ""
          ],
          [
           "C10",
           10,
           1,
           "UNL",
           ""
          ]
         ],
         "hovertemplate": "atom_element=C<br>x=%{x}<br>y=%{y}<br>z=%{z}<br>__marker_size=%{marker.size}<br>atom_id=%{customdata[0]}<br>atom_serial=%{customdata[1]}<br>residue_serial=%{customdata[2]}<br>residue_name=%{customdata[3]}<br>chain_id=%{customdata[4]}<extra></extra>",
         "legendgroup": "C",
         "marker": {
          "color": "darkslategray",
          "opacity": 1,
          "size": [
           5,
           5,
           5,
           5,
           5,
           5,
           5,
           5,
           5,
           5
          ],
          "sizemode": "area",
          "sizeref": 0.0125,
          "symbol": "circle"
         },
         "mode": "markers",
         "name": "C",
         "scene": "scene",
         "showlegend": true,
         "type": "scatter3d",
         "x": [
          -0.192,
          0.035,
          0.892,
          1.527,
          1.311,
          0.453,
          0.227,
          -0.63,
          -1.266,
          -1.049
         ],
         "y": [
          0.131,
          -1.007,
          -2.015,
          -1.897,
          -0.769,
          0.251,
          1.389,
          2.397,
          2.278,
          1.15
         ],
         "z": [
          -0.972,
          -1.762,
          -1.311,
          -0.072,
          0.725,
          0.284,
          1.074,
          0.623,
          -0.616,
          -1.413
         ]
        },
        {
         "customdata": [
          [
           "H6",
           11,
           1,
           "UNL",
           ""
          ],
          [
           "H5",
           12,
           1,
           "UNL",
           ""
          ],
          [
           "H4",
           13,
           1,
           "UNL",
           ""
          ],
          [
           "H3",
           14,
           1,
           "UNL",
           ""
          ],
          [
           "H7",
           15,
           1,
           "UNL",
           ""
          ],
          [
           "H8",
           16,
           1,
           "UNL",
           ""
          ],
          [
           "H9",
           17,
           1,
           "UNL",
           ""
          ],
          [
           "H10",
           18,
           1,
           "UNL",
           ""
          ]
         ],
         "hovertemplate": "atom_element=H<br>x=%{x}<br>y=%{y}<br>z=%{z}<br>__marker_size=%{marker.size}<br>atom_id=%{customdata[0]}<br>atom_serial=%{customdata[1]}<br>residue_serial=%{customdata[2]}<br>residue_name=%{customdata[3]}<br>chain_id=%{customdata[4]}<extra></extra>",
         "legendgroup": "H",
         "marker": {
          "color": "lightgray",
          "opacity": 1,
          "size": [
           5,
           5,
           5,
           5,
           5,
           5,
           5,
           5
          ],
          "sizemode": "area",
          "sizeref": 0.0125,
          "symbol": "circle"
         },
         "mode": "markers",
         "name": "H",
         "scene": "scene",
         "showlegend": true,
         "type": "scatter3d",
         "x": [
          -0.449,
          1.063,
          2.189,
          1.812,
          0.711,
          -0.802,
          -1.928,
          -1.55
         ],
         "y": [
          -1.116,
          -2.891,
          -2.681,
          -0.694,
          1.498,
          3.273,
          3.062,
          1.075
         ],
         "z": [
          -2.726,
          -1.924,
          0.271,
          1.683,
          2.038,
          1.235,
          -0.959,
          -2.371
         ]
        },
        {
         "hoverinfo": "skip",
         "line": {
          "color": "black",
          "width": 5.76
         },
         "mode": "lines",
         "showlegend": false,
         "type": "scatter3d",
         "x": [
          -0.192,
          0.035
         ],
         "y": [
          0.131,
          -1.007
         ],
         "z": [
          -0.972,
          -1.762
         ]
        },
        {
         "hoverinfo": "skip",
         "line": {
          "color": "black",
          "width": 1.44
         },
         "mode": "lines",
         "showlegend": false,
         "type": "scatter3d",
         "x": [
          -0.192,
          0.453
         ],
         "y": [
          0.131,
          0.251
         ],
         "z": [
          -0.972,
          0.284
         ]
        },
        {
         "hoverinfo": "skip",
         "line": {
          "color": "black",
          "width": 1.44
         },
         "mode": "lines",
         "showlegend": false,
         "type": "scatter3d",
         "x": [
          -0.192,
          -1.049
         ],
         "y": [
          0.131,
          1.15
         ],
         "z": [
          -0.972,
          -1.413
         ]
        },
        {
         "hoverinfo": "skip",
         "line": {
          "color": "black",
          "width": 1.44
         },
         "mode": "lines",
         "showlegend": false,
         "type": "scatter3d",
         "x": [
          0.035,
          0.892
         ],
         "y": [
          -1.007,
          -2.015
         ],
         "z": [
          -1.762,
          -1.311
         ]
        },
        {
         "hoverinfo": "skip",
         "line": {
          "color": "black",
          "width": 1.44
         },
         "mode": "lines",
         "showlegend": false,
         "type": "scatter3d",
         "x": [
          0.035,
          -0.449
         ],
         "y": [
          -1.007,
          -1.116
         ],
         "z": [
          -1.762,
          -2.726
         ]
        },
        {
         "hoverinfo": "skip",
         "line": {
          "color": "black",
          "width": 5.76
         },
         "mode": "lines",
         "showlegend": false,
         "type": "scatter3d",
         "x": [
          0.892,
          1.527
         ],
         "y": [
          -2.015,
          -1.897
         ],
         "z": [
          -1.311,
          -0.072
         ]
        },
        {
         "hoverinfo": "skip",
         "line": {
          "color": "black",
          "width": 1.44
         },
         "mode": "lines",
         "showlegend": false,
         "type": "scatter3d",
         "x": [
          0.892,
          1.063
         ],
         "y": [
          -2.015,
          -2.891
         ],
         "z": [
          -1.311,
          -1.924
         ]
        },
        {
         "hoverinfo": "skip",
         "line": {
          "color": "black",
          "width": 1.44
         },
         "mode": "lines",
         "showlegend": false,
         "type": "scatter3d",
         "x": [
          1.527,
          1.311
         ],
         "y": [
          -1.897,
          -0.769
         ],
         "z": [
          -0.072,
          0.725
         ]
        },
        {
         "hoverinfo": "skip",
         "line": {
          "color": "black",
          "width": 1.44
         },
         "mode": "lines",
         "showlegend": false,
         "type": "scatter3d",
         "x": [
          1.527,
          2.189
         ],
         "y": [
          -1.897,
          -2.681
         ],
         "z": [
          -0.072,
          0.271
         ]
        },
        {
         "hoverinfo": "skip",
         "line": {
          "color": "black",
          "width": 5.76
         },
         "mode": "lines",
         "showlegend": false,
         "type": "scatter3d",
         "x": [
          1.311,
          0.453
         ],
         "y": [
          -0.769,
          0.251
         ],
         "z": [
          0.725,
          0.284
         ]
        },
        {
         "hoverinfo": "skip",
         "line": {
          "color": "black",
          "width": 1.44
         },
         "mode": "lines",
         "showlegend": false,
         "type": "scatter3d",
         "x": [
          1.311,
          1.812
         ],
         "y": [
          -0.769,
          -0.694
         ],
         "z": [
          0.725,
          1.683
         ]
        },
        {
         "hoverinfo": "skip",
         "line": {
          "color": "black",
          "width": 1.44
         },
         "mode": "lines",
         "showlegend": false,
         "type": "scatter3d",
         "x": [
          0.453,
          0.227
         ],
         "y": [
          0.251,
          1.389
         ],
         "z": [
          0.284,
          1.074
         ]
        },
        {
         "hoverinfo": "skip",
         "line": {
          "color": "black",
          "width": 5.76
         },
         "mode": "lines",
         "showlegend": false,
         "type": "scatter3d",
         "x": [
          0.227,
          -0.63
         ],
         "y": [
          1.389,
          2.397
         ],
         "z": [
          1.074,
          0.623
         ]
        },
        {
         "hoverinfo": "skip",
         "line": {
          "color": "black",
          "width": 1.44
         },
         "mode": "lines",
         "showlegend": false,
         "type": "scatter3d",
         "x": [
          0.227,
          0.711
         ],
         "y": [
          1.389,
          1.498
         ],
         "z": [
          1.074,
          2.038
         ]
        },
        {
         "hoverinfo": "skip",
         "line": {
          "color": "black",
          "width": 1.44
         },
         "mode": "lines",
         "showlegend": false,
         "type": "scatter3d",
         "x": [
          -0.63,
          -1.266
         ],
         "y": [
          2.397,
          2.278
         ],
         "z": [
          0.623,
          -0.616
         ]
        },
        {
         "hoverinfo": "skip",
         "line": {
          "color": "black",
          "width": 1.44
         },
         "mode": "lines",
         "showlegend": false,
         "type": "scatter3d",
         "x": [
          -0.63,
          -0.802
         ],
         "y": [
          2.397,
          3.273
         ],
         "z": [
          0.623,
          1.235
         ]
        },
        {
         "hoverinfo": "skip",
         "line": {
          "color": "black",
          "width": 5.76
         },
         "mode": "lines",
         "showlegend": false,
         "type": "scatter3d",
         "x": [
          -1.266,
          -1.049
         ],
         "y": [
          2.278,
          1.15
         ],
         "z": [
          -0.616,
          -1.413
         ]
        },
        {
         "hoverinfo": "skip",
         "line": {
          "color": "black",
          "width": 1.44
         },
         "mode": "lines",
         "showlegend": false,
         "type": "scatter3d",
         "x": [
          -1.266,
          -1.928
         ],
         "y": [
          2.278,
          3.062
         ],
         "z": [
          -0.616,
          -0.959
         ]
        },
        {
         "hoverinfo": "skip",
         "line": {
          "color": "black",
          "width": 1.44
         },
         "mode": "lines",
         "showlegend": false,
         "type": "scatter3d",
         "x": [
          -1.049,
          -1.55
         ],
         "y": [
          1.15,
          1.075
         ],
         "z": [
          -1.413,
          -2.371
         ]
        }
       ],
       "layout": {
        "scene": {
         "xaxis": {
          "showgrid": false,
          "showline": false,
          "showticklabels": false
         },
         "yaxis": {
          "showgrid": false,
          "showline": false,
          "showticklabels": false
         },
         "zaxis": {
          "showgrid": false,
          "showline": false,
          "showticklabels": false
         }
        },
        "template": {
         "data": {
          "bar": [
           {
            "error_x": {
             "color": "rgb(36,36,36)"
            },
            "error_y": {
             "color": "rgb(36,36,36)"
            },
            "marker": {
             "line": {
              "color": "white",
              "width": 0.5
             },
             "pattern": {
              "fillmode": "overlay",
              "size": 10,
              "solidity": 0.2
             }
            },
            "type": "bar"
           }
          ],
          "barpolar": [
           {
            "marker": {
             "line": {
              "color": "white",
              "width": 0.5
             },
             "pattern": {
              "fillmode": "overlay",
              "size": 10,
              "solidity": 0.2
             }
            },
            "type": "barpolar"
           }
          ],
          "carpet": [
           {
            "aaxis": {
             "endlinecolor": "rgb(36,36,36)",
             "gridcolor": "white",
             "linecolor": "white",
             "minorgridcolor": "white",
             "startlinecolor": "rgb(36,36,36)"
            },
            "baxis": {
             "endlinecolor": "rgb(36,36,36)",
             "gridcolor": "white",
             "linecolor": "white",
             "minorgridcolor": "white",
             "startlinecolor": "rgb(36,36,36)"
            },
            "type": "carpet"
           }
          ],
          "choropleth": [
           {
            "colorbar": {
             "outlinewidth": 1,
             "tickcolor": "rgb(36,36,36)",
             "ticks": "outside"
            },
            "type": "choropleth"
           }
          ],
          "contour": [
           {
            "colorbar": {
             "outlinewidth": 1,
             "tickcolor": "rgb(36,36,36)",
             "ticks": "outside"
            },
            "colorscale": [
             [
              0,
              "#440154"
             ],
             [
              0.1111111111111111,
              "#482878"
             ],
             [
              0.2222222222222222,
              "#3e4989"
             ],
             [
              0.3333333333333333,
              "#31688e"
             ],
             [
              0.4444444444444444,
              "#26828e"
             ],
             [
              0.5555555555555556,
              "#1f9e89"
             ],
             [
              0.6666666666666666,
              "#35b779"
             ],
             [
              0.7777777777777778,
              "#6ece58"
             ],
             [
              0.8888888888888888,
              "#b5de2b"
             ],
             [
              1,
              "#fde725"
             ]
            ],
            "type": "contour"
           }
          ],
          "contourcarpet": [
           {
            "colorbar": {
             "outlinewidth": 1,
             "tickcolor": "rgb(36,36,36)",
             "ticks": "outside"
            },
            "type": "contourcarpet"
           }
          ],
          "heatmap": [
           {
            "colorbar": {
             "outlinewidth": 1,
             "tickcolor": "rgb(36,36,36)",
             "ticks": "outside"
            },
            "colorscale": [
             [
              0,
              "#440154"
             ],
             [
              0.1111111111111111,
              "#482878"
             ],
             [
              0.2222222222222222,
              "#3e4989"
             ],
             [
              0.3333333333333333,
              "#31688e"
             ],
             [
              0.4444444444444444,
              "#26828e"
             ],
             [
              0.5555555555555556,
              "#1f9e89"
             ],
             [
              0.6666666666666666,
              "#35b779"
             ],
             [
              0.7777777777777778,
              "#6ece58"
             ],
             [
              0.8888888888888888,
              "#b5de2b"
             ],
             [
              1,
              "#fde725"
             ]
            ],
            "type": "heatmap"
           }
          ],
          "heatmapgl": [
           {
            "colorbar": {
             "outlinewidth": 1,
             "tickcolor": "rgb(36,36,36)",
             "ticks": "outside"
            },
            "colorscale": [
             [
              0,
              "#440154"
             ],
             [
              0.1111111111111111,
              "#482878"
             ],
             [
              0.2222222222222222,
              "#3e4989"
             ],
             [
              0.3333333333333333,
              "#31688e"
             ],
             [
              0.4444444444444444,
              "#26828e"
             ],
             [
              0.5555555555555556,
              "#1f9e89"
             ],
             [
              0.6666666666666666,
              "#35b779"
             ],
             [
              0.7777777777777778,
              "#6ece58"
             ],
             [
              0.8888888888888888,
              "#b5de2b"
             ],
             [
              1,
              "#fde725"
             ]
            ],
            "type": "heatmapgl"
           }
          ],
          "histogram": [
           {
            "marker": {
             "line": {
              "color": "white",
              "width": 0.6
             }
            },
            "type": "histogram"
           }
          ],
          "histogram2d": [
           {
            "colorbar": {
             "outlinewidth": 1,
             "tickcolor": "rgb(36,36,36)",
             "ticks": "outside"
            },
            "colorscale": [
             [
              0,
              "#440154"
             ],
             [
              0.1111111111111111,
              "#482878"
             ],
             [
              0.2222222222222222,
              "#3e4989"
             ],
             [
              0.3333333333333333,
              "#31688e"
             ],
             [
              0.4444444444444444,
              "#26828e"
             ],
             [
              0.5555555555555556,
              "#1f9e89"
             ],
             [
              0.6666666666666666,
              "#35b779"
             ],
             [
              0.7777777777777778,
              "#6ece58"
             ],
             [
              0.8888888888888888,
              "#b5de2b"
             ],
             [
              1,
              "#fde725"
             ]
            ],
            "type": "histogram2d"
           }
          ],
          "histogram2dcontour": [
           {
            "colorbar": {
             "outlinewidth": 1,
             "tickcolor": "rgb(36,36,36)",
             "ticks": "outside"
            },
            "colorscale": [
             [
              0,
              "#440154"
             ],
             [
              0.1111111111111111,
              "#482878"
             ],
             [
              0.2222222222222222,
              "#3e4989"
             ],
             [
              0.3333333333333333,
              "#31688e"
             ],
             [
              0.4444444444444444,
              "#26828e"
             ],
             [
              0.5555555555555556,
              "#1f9e89"
             ],
             [
              0.6666666666666666,
              "#35b779"
             ],
             [
              0.7777777777777778,
              "#6ece58"
             ],
             [
              0.8888888888888888,
              "#b5de2b"
             ],
             [
              1,
              "#fde725"
             ]
            ],
            "type": "histogram2dcontour"
           }
          ],
          "mesh3d": [
           {
            "colorbar": {
             "outlinewidth": 1,
             "tickcolor": "rgb(36,36,36)",
             "ticks": "outside"
            },
            "type": "mesh3d"
           }
          ],
          "parcoords": [
           {
            "line": {
             "colorbar": {
              "outlinewidth": 1,
              "tickcolor": "rgb(36,36,36)",
              "ticks": "outside"
             }
            },
            "type": "parcoords"
           }
          ],
          "pie": [
           {
            "automargin": true,
            "type": "pie"
           }
          ],
          "scatter": [
           {
            "fillpattern": {
             "fillmode": "overlay",
             "size": 10,
             "solidity": 0.2
            },
            "type": "scatter"
           }
          ],
          "scatter3d": [
           {
            "line": {
             "colorbar": {
              "outlinewidth": 1,
              "tickcolor": "rgb(36,36,36)",
              "ticks": "outside"
             }
            },
            "marker": {
             "colorbar": {
              "outlinewidth": 1,
              "tickcolor": "rgb(36,36,36)",
              "ticks": "outside"
             }
            },
            "type": "scatter3d"
           }
          ],
          "scattercarpet": [
           {
            "marker": {
             "colorbar": {
              "outlinewidth": 1,
              "tickcolor": "rgb(36,36,36)",
              "ticks": "outside"
             }
            },
            "type": "scattercarpet"
           }
          ],
          "scattergeo": [
           {
            "marker": {
             "colorbar": {
              "outlinewidth": 1,
              "tickcolor": "rgb(36,36,36)",
              "ticks": "outside"
             }
            },
            "type": "scattergeo"
           }
          ],
          "scattergl": [
           {
            "marker": {
             "colorbar": {
              "outlinewidth": 1,
              "tickcolor": "rgb(36,36,36)",
              "ticks": "outside"
             }
            },
            "type": "scattergl"
           }
          ],
          "scattermapbox": [
           {
            "marker": {
             "colorbar": {
              "outlinewidth": 1,
              "tickcolor": "rgb(36,36,36)",
              "ticks": "outside"
             }
            },
            "type": "scattermapbox"
           }
          ],
          "scatterpolar": [
           {
            "marker": {
             "colorbar": {
              "outlinewidth": 1,
              "tickcolor": "rgb(36,36,36)",
              "ticks": "outside"
             }
            },
            "type": "scatterpolar"
           }
          ],
          "scatterpolargl": [
           {
            "marker": {
             "colorbar": {
              "outlinewidth": 1,
              "tickcolor": "rgb(36,36,36)",
              "ticks": "outside"
             }
            },
            "type": "scatterpolargl"
           }
          ],
          "scatterternary": [
           {
            "marker": {
             "colorbar": {
              "outlinewidth": 1,
              "tickcolor": "rgb(36,36,36)",
              "ticks": "outside"
             }
            },
            "type": "scatterternary"
           }
          ],
          "surface": [
           {
            "colorbar": {
             "outlinewidth": 1,
             "tickcolor": "rgb(36,36,36)",
             "ticks": "outside"
            },
            "colorscale": [
             [
              0,
              "#440154"
             ],
             [
              0.1111111111111111,
              "#482878"
             ],
             [
              0.2222222222222222,
              "#3e4989"
             ],
             [
              0.3333333333333333,
              "#31688e"
             ],
             [
              0.4444444444444444,
              "#26828e"
             ],
             [
              0.5555555555555556,
              "#1f9e89"
             ],
             [
              0.6666666666666666,
              "#35b779"
             ],
             [
              0.7777777777777778,
              "#6ece58"
             ],
             [
              0.8888888888888888,
              "#b5de2b"
             ],
             [
              1,
              "#fde725"
             ]
            ],
            "type": "surface"
           }
          ],
          "table": [
           {
            "cells": {
             "fill": {
              "color": "rgb(237,237,237)"
             },
             "line": {
              "color": "white"
             }
            },
            "header": {
             "fill": {
              "color": "rgb(217,217,217)"
             },
             "line": {
              "color": "white"
             }
            },
            "type": "table"
           }
          ]
         },
         "layout": {
          "annotationdefaults": {
           "arrowhead": 0,
           "arrowwidth": 1
          },
          "autotypenumbers": "strict",
          "coloraxis": {
           "colorbar": {
            "outlinewidth": 1,
            "tickcolor": "rgb(36,36,36)",
            "ticks": "outside"
           }
          },
          "colorscale": {
           "diverging": [
            [
             0,
             "rgb(103,0,31)"
            ],
            [
             0.1,
             "rgb(178,24,43)"
            ],
            [
             0.2,
             "rgb(214,96,77)"
            ],
            [
             0.3,
             "rgb(244,165,130)"
            ],
            [
             0.4,
             "rgb(253,219,199)"
            ],
            [
             0.5,
             "rgb(247,247,247)"
            ],
            [
             0.6,
             "rgb(209,229,240)"
            ],
            [
             0.7,
             "rgb(146,197,222)"
            ],
            [
             0.8,
             "rgb(67,147,195)"
            ],
            [
             0.9,
             "rgb(33,102,172)"
            ],
            [
             1,
             "rgb(5,48,97)"
            ]
           ],
           "sequential": [
            [
             0,
             "#440154"
            ],
            [
             0.1111111111111111,
             "#482878"
            ],
            [
             0.2222222222222222,
             "#3e4989"
            ],
            [
             0.3333333333333333,
             "#31688e"
            ],
            [
             0.4444444444444444,
             "#26828e"
            ],
            [
             0.5555555555555556,
             "#1f9e89"
            ],
            [
             0.6666666666666666,
             "#35b779"
            ],
            [
             0.7777777777777778,
             "#6ece58"
            ],
            [
             0.8888888888888888,
             "#b5de2b"
            ],
            [
             1,
             "#fde725"
            ]
           ],
           "sequentialminus": [
            [
             0,
             "#440154"
            ],
            [
             0.1111111111111111,
             "#482878"
            ],
            [
             0.2222222222222222,
             "#3e4989"
            ],
            [
             0.3333333333333333,
             "#31688e"
            ],
            [
             0.4444444444444444,
             "#26828e"
            ],
            [
             0.5555555555555556,
             "#1f9e89"
            ],
            [
             0.6666666666666666,
             "#35b779"
            ],
            [
             0.7777777777777778,
             "#6ece58"
            ],
            [
             0.8888888888888888,
             "#b5de2b"
            ],
            [
             1,
             "#fde725"
            ]
           ]
          },
          "colorway": [
           "#1F77B4",
           "#FF7F0E",
           "#2CA02C",
           "#D62728",
           "#9467BD",
           "#8C564B",
           "#E377C2",
           "#7F7F7F",
           "#BCBD22",
           "#17BECF"
          ],
          "font": {
           "color": "rgb(36,36,36)"
          },
          "geo": {
           "bgcolor": "white",
           "lakecolor": "white",
           "landcolor": "white",
           "showlakes": true,
           "showland": true,
           "subunitcolor": "white"
          },
          "hoverlabel": {
           "align": "left"
          },
          "hovermode": "closest",
          "mapbox": {
           "style": "light"
          },
          "paper_bgcolor": "white",
          "plot_bgcolor": "white",
          "polar": {
           "angularaxis": {
            "gridcolor": "rgb(232,232,232)",
            "linecolor": "rgb(36,36,36)",
            "showgrid": false,
            "showline": true,
            "ticks": "outside"
           },
           "bgcolor": "white",
           "radialaxis": {
            "gridcolor": "rgb(232,232,232)",
            "linecolor": "rgb(36,36,36)",
            "showgrid": false,
            "showline": true,
            "ticks": "outside"
           }
          },
          "scene": {
           "xaxis": {
            "backgroundcolor": "white",
            "gridcolor": "rgb(232,232,232)",
            "gridwidth": 2,
            "linecolor": "rgb(36,36,36)",
            "showbackground": true,
            "showgrid": false,
            "showline": true,
            "ticks": "outside",
            "zeroline": false,
            "zerolinecolor": "rgb(36,36,36)"
           },
           "yaxis": {
            "backgroundcolor": "white",
            "gridcolor": "rgb(232,232,232)",
            "gridwidth": 2,
            "linecolor": "rgb(36,36,36)",
            "showbackground": true,
            "showgrid": false,
            "showline": true,
            "ticks": "outside",
            "zeroline": false,
            "zerolinecolor": "rgb(36,36,36)"
           },
           "zaxis": {
            "backgroundcolor": "white",
            "gridcolor": "rgb(232,232,232)",
            "gridwidth": 2,
            "linecolor": "rgb(36,36,36)",
            "showbackground": true,
            "showgrid": false,
            "showline": true,
            "ticks": "outside",
            "zeroline": false,
            "zerolinecolor": "rgb(36,36,36)"
           }
          },
          "shapedefaults": {
           "fillcolor": "black",
           "line": {
            "width": 0
           },
           "opacity": 0.3
          },
          "ternary": {
           "aaxis": {
            "gridcolor": "rgb(232,232,232)",
            "linecolor": "rgb(36,36,36)",
            "showgrid": false,
            "showline": true,
            "ticks": "outside"
           },
           "baxis": {
            "gridcolor": "rgb(232,232,232)",
            "linecolor": "rgb(36,36,36)",
            "showgrid": false,
            "showline": true,
            "ticks": "outside"
           },
           "bgcolor": "white",
           "caxis": {
            "gridcolor": "rgb(232,232,232)",
            "linecolor": "rgb(36,36,36)",
            "showgrid": false,
            "showline": true,
            "ticks": "outside"
           }
          },
          "title": {
           "x": 0.05
          },
          "xaxis": {
           "automargin": true,
           "gridcolor": "rgb(232,232,232)",
           "linecolor": "rgb(36,36,36)",
           "showgrid": false,
           "showline": true,
           "ticks": "outside",
           "title": {
            "standoff": 15
           },
           "zeroline": false,
           "zerolinecolor": "rgb(36,36,36)"
          },
          "yaxis": {
           "automargin": true,
           "gridcolor": "rgb(232,232,232)",
           "linecolor": "rgb(36,36,36)",
           "showgrid": false,
           "showline": true,
           "ticks": "outside",
           "title": {
            "standoff": 15
           },
           "zeroline": false,
           "zerolinecolor": "rgb(36,36,36)"
          }
         }
        }
       }
      }
     },
     "metadata": {},
     "output_type": "display_data"
    }
   ],
   "source": [
    "# let's start from a di-benzene ring\n",
    "start = bam.read_smiles(\"C1(C=CC=C2)=C2C=CC=C1\")\n",
    "start.autolabel()\n",
    "# so that we know which atom is where\n",
    "start.plotly().show()"
   ]
  },
  {
   "cell_type": "code",
   "execution_count": 7,
   "metadata": {},
   "outputs": [
    {
     "data": {
      "application/3dmoljs_load.v0": "<div id=\"3dmolviewer_1724232910238549\"  style=\"position: relative; width: 600px; height: 500px;\">\n        <p id=\"3dmolwarning_1724232910238549\" style=\"background-color:#ffcccc;color:black\">You appear to be running in JupyterLab (or JavaScript failed to load for some other reason).  You need to install the 3dmol extension: <br>\n        <tt>jupyter labextension install jupyterlab_3dmol</tt></p>\n        </div>\n<script>\n\nvar loadScriptAsync = function(uri){\n  return new Promise((resolve, reject) => {\n    //this is to ignore the existence of requirejs amd\n    var savedexports, savedmodule;\n    if (typeof exports !== 'undefined') savedexports = exports;\n    else exports = {}\n    if (typeof module !== 'undefined') savedmodule = module;\n    else module = {}\n\n    var tag = document.createElement('script');\n    tag.src = uri;\n    tag.async = true;\n    tag.onload = () => {\n        exports = savedexports;\n        module = savedmodule;\n        resolve();\n    };\n  var firstScriptTag = document.getElementsByTagName('script')[0];\n  firstScriptTag.parentNode.insertBefore(tag, firstScriptTag);\n});\n};\n\nif(typeof $3Dmolpromise === 'undefined') {\n$3Dmolpromise = null;\n  $3Dmolpromise = loadScriptAsync('https://cdnjs.cloudflare.com/ajax/libs/3Dmol/2.0.3/3Dmol-min.js');\n}\n\nvar viewer_1724232910238549 = null;\nvar warn = document.getElementById(\"3dmolwarning_1724232910238549\");\nif(warn) {\n    warn.parentNode.removeChild(warn);\n}\n$3Dmolpromise.then(function() {\nviewer_1724232910238549 = $3Dmol.createViewer(document.getElementById(\"3dmolviewer_1724232910238549\"),{backgroundColor:\"white\"});\nviewer_1724232910238549.zoomTo();\n\tviewer_1724232910238549.addModel(\"HETATM    1 C1   UNL     1      -0.236   0.183  -0.995  1.00  0.00          C   \\nHETATM    2 C6   UNL     1      -0.006  -0.958  -1.783  1.00  0.00          C   \\nHETATM    3 C5   UNL     1       0.851  -1.966  -1.332  1.00  0.00          C   \\nHETATM    4 C4   UNL     1       1.486  -1.848  -0.093  1.00  0.00          C   \\nHETATM    5 C3   UNL     1       1.270  -0.720   0.704  1.00  0.00          C   \\nHETATM    6 C2   UNL     1       0.412   0.300   0.263  1.00  0.00          C   \\nHETATM    7 C7   UNL     1       0.186   1.438   1.053  1.00  0.00          C   \\nHETATM    8 N8   UNL     1      -0.715   2.498   0.579  1.00  0.00          N   \\nHETATM    9 C9   UNL     1      -1.351   2.379  -0.660  1.00  0.00          C   \\nHETATM   10 N10  UNL     1      -1.134   1.251  -1.457  1.00  0.00          N   \\nHETATM   11 H6   UNL     1      -0.490  -1.067  -2.747  1.00  0.00          H   \\nHETATM   12 H4   UNL     1       2.148  -2.632   0.250  1.00  0.00          H   \\nHETATM   13 H3   UNL     1       1.771  -0.645   1.662  1.00  0.00          H   \\nHETATM   14 H9   UNL     1      -2.013   3.163  -1.003  1.00  0.00          H   \\nHETATM   15 N    ARF     2       2.282  -3.122  -2.879  1.00  0.00          N   \\nHETATM   16 C    ARF     2       1.094  -3.212  -2.204  1.00  0.00          C   \\nHETATM   17 O    ARF     2       0.297  -4.141  -2.257  1.00  0.00          O   \\nHETATM   18 HN1  ARF     2       2.562  -3.881  -3.492  1.00  0.00          H   \\nHETATM   19 HN2  ARF     2       2.891  -2.315  -2.783  1.00  0.00          H   \\nHETATM   20 O    HOH     3       0.824   1.582   2.324  1.00  0.00          O   \\nHETATM   21 H2   HOH     3       0.446   2.368   2.740  1.00  0.00          H   \\nCONECT    1    2    2    6   10\\nCONECT    2    1    1    3   11\\nCONECT    6    1    5    5    7\\nCONECT   10    1    9    9\\nCONECT    3    2    4    4   16\\nCONECT   11    2\\nCONECT    4    3    3    5   12\\nCONECT    5    4    6    6   13\\nCONECT   12    4\\nCONECT   13    5\\nCONECT    7    6    8    8   20\\nCONECT    8    7    7    9\\nCONECT    9    8   10   10   14\\nCONECT   14    9\\nCONECT   15   16   18   19\\nCONECT   16   15   17   17    3\\nCONECT   18   15\\nCONECT   19   15\\nCONECT   17   16   16\\nCONECT   20   21    7\\nCONECT   21   20\\nEND\",\"pdb\");\n\tviewer_1724232910238549.setStyle({\"stick\": {}});\n\tviewer_1724232910238549.zoomTo();\n\tviewer_1724232910238549.setStyle({\"stick\": {}});\nviewer_1724232910238549.render();\n});\n</script>",
      "text/html": [
       "<div id=\"3dmolviewer_1724232910238549\"  style=\"position: relative; width: 600px; height: 500px;\">\n",
       "        <p id=\"3dmolwarning_1724232910238549\" style=\"background-color:#ffcccc;color:black\">You appear to be running in JupyterLab (or JavaScript failed to load for some other reason).  You need to install the 3dmol extension: <br>\n",
       "        <tt>jupyter labextension install jupyterlab_3dmol</tt></p>\n",
       "        </div>\n",
       "<script>\n",
       "\n",
       "var loadScriptAsync = function(uri){\n",
       "  return new Promise((resolve, reject) => {\n",
       "    //this is to ignore the existence of requirejs amd\n",
       "    var savedexports, savedmodule;\n",
       "    if (typeof exports !== 'undefined') savedexports = exports;\n",
       "    else exports = {}\n",
       "    if (typeof module !== 'undefined') savedmodule = module;\n",
       "    else module = {}\n",
       "\n",
       "    var tag = document.createElement('script');\n",
       "    tag.src = uri;\n",
       "    tag.async = true;\n",
       "    tag.onload = () => {\n",
       "        exports = savedexports;\n",
       "        module = savedmodule;\n",
       "        resolve();\n",
       "    };\n",
       "  var firstScriptTag = document.getElementsByTagName('script')[0];\n",
       "  firstScriptTag.parentNode.insertBefore(tag, firstScriptTag);\n",
       "});\n",
       "};\n",
       "\n",
       "if(typeof $3Dmolpromise === 'undefined') {\n",
       "$3Dmolpromise = null;\n",
       "  $3Dmolpromise = loadScriptAsync('https://cdnjs.cloudflare.com/ajax/libs/3Dmol/2.0.3/3Dmol-min.js');\n",
       "}\n",
       "\n",
       "var viewer_1724232910238549 = null;\n",
       "var warn = document.getElementById(\"3dmolwarning_1724232910238549\");\n",
       "if(warn) {\n",
       "    warn.parentNode.removeChild(warn);\n",
       "}\n",
       "$3Dmolpromise.then(function() {\n",
       "viewer_1724232910238549 = $3Dmol.createViewer(document.getElementById(\"3dmolviewer_1724232910238549\"),{backgroundColor:\"white\"});\n",
       "viewer_1724232910238549.zoomTo();\n",
       "\tviewer_1724232910238549.addModel(\"HETATM    1 C1   UNL     1      -0.236   0.183  -0.995  1.00  0.00          C   \\nHETATM    2 C6   UNL     1      -0.006  -0.958  -1.783  1.00  0.00          C   \\nHETATM    3 C5   UNL     1       0.851  -1.966  -1.332  1.00  0.00          C   \\nHETATM    4 C4   UNL     1       1.486  -1.848  -0.093  1.00  0.00          C   \\nHETATM    5 C3   UNL     1       1.270  -0.720   0.704  1.00  0.00          C   \\nHETATM    6 C2   UNL     1       0.412   0.300   0.263  1.00  0.00          C   \\nHETATM    7 C7   UNL     1       0.186   1.438   1.053  1.00  0.00          C   \\nHETATM    8 N8   UNL     1      -0.715   2.498   0.579  1.00  0.00          N   \\nHETATM    9 C9   UNL     1      -1.351   2.379  -0.660  1.00  0.00          C   \\nHETATM   10 N10  UNL     1      -1.134   1.251  -1.457  1.00  0.00          N   \\nHETATM   11 H6   UNL     1      -0.490  -1.067  -2.747  1.00  0.00          H   \\nHETATM   12 H4   UNL     1       2.148  -2.632   0.250  1.00  0.00          H   \\nHETATM   13 H3   UNL     1       1.771  -0.645   1.662  1.00  0.00          H   \\nHETATM   14 H9   UNL     1      -2.013   3.163  -1.003  1.00  0.00          H   \\nHETATM   15 N    ARF     2       2.282  -3.122  -2.879  1.00  0.00          N   \\nHETATM   16 C    ARF     2       1.094  -3.212  -2.204  1.00  0.00          C   \\nHETATM   17 O    ARF     2       0.297  -4.141  -2.257  1.00  0.00          O   \\nHETATM   18 HN1  ARF     2       2.562  -3.881  -3.492  1.00  0.00          H   \\nHETATM   19 HN2  ARF     2       2.891  -2.315  -2.783  1.00  0.00          H   \\nHETATM   20 O    HOH     3       0.824   1.582   2.324  1.00  0.00          O   \\nHETATM   21 H2   HOH     3       0.446   2.368   2.740  1.00  0.00          H   \\nCONECT    1    2    2    6   10\\nCONECT    2    1    1    3   11\\nCONECT    6    1    5    5    7\\nCONECT   10    1    9    9\\nCONECT    3    2    4    4   16\\nCONECT   11    2\\nCONECT    4    3    3    5   12\\nCONECT    5    4    6    6   13\\nCONECT   12    4\\nCONECT   13    5\\nCONECT    7    6    8    8   20\\nCONECT    8    7    7    9\\nCONECT    9    8   10   10   14\\nCONECT   14    9\\nCONECT   15   16   18   19\\nCONECT   16   15   17   17    3\\nCONECT   18   15\\nCONECT   19   15\\nCONECT   17   16   16\\nCONECT   20   21    7\\nCONECT   21   20\\nEND\",\"pdb\");\n",
       "\tviewer_1724232910238549.setStyle({\"stick\": {}});\n",
       "\tviewer_1724232910238549.zoomTo();\n",
       "\tviewer_1724232910238549.setStyle({\"stick\": {}});\n",
       "viewer_1724232910238549.render();\n",
       "});\n",
       "</script>"
      ]
     },
     "metadata": {},
     "output_type": "display_data"
    }
   ],
   "source": [
    "\n",
    "derivator = Derivator(start)\n",
    "\n",
    "# let's add some modifiers\n",
    "# (this time we specify the probability for each element)\n",
    "derivator\\\n",
    "    .element_changable(\"C10\", (\"C\", \"N\", \"O\"), probabilities=(0.5, 0.3, 0.2))\\\n",
    "    .element_changable(\"C8\", (\"C\", \"N\"), probabilities=(0.6, 0.4))\\\n",
    "    .element_changable(\"C6\", (\"C\", \"N\", \"S\"), probabilities=(0.5, 0.3, 0.2))\n",
    "\n",
    "derivator\\\n",
    "    .functional_group_addable(\"C5\", (bam.carboxylate, bam.amidate), probabilities=(0.5, 0.5))\\\n",
    "    .functional_group_addable(\"C7\", (bam.hydroxylate, bam.aminate, bam.thiolate), probabilities=(0.5, 0.4, 0.1))\\\n",
    "    .functional_group_addable(\"C9\", (bam.aminate, derivator.nothing), probabilities=(0.3, 0.7))\n",
    "\n",
    "next(derivator.sample()).py3dmol().show()\n"
   ]
  },
  {
   "cell_type": "markdown",
   "metadata": {},
   "source": [
    "Now let's define a modifier function that will circularize the molecule at the carboxyl or amide group at atom C5, adding a third ring. However, we want that ring to have either six or five member atoms, so we will dynamically one or two more carbon atoms onto atom C4. Sounds a bit complex? Well, maybe but let's see what our function looks like:"
   ]
  },
  {
   "cell_type": "code",
   "execution_count": 8,
   "metadata": {},
   "outputs": [
    {
     "data": {
      "application/3dmoljs_load.v0": "<div id=\"3dmolviewer_17242329103482969\"  style=\"position: relative; width: 600px; height: 500px;\">\n        <p id=\"3dmolwarning_17242329103482969\" style=\"background-color:#ffcccc;color:black\">You appear to be running in JupyterLab (or JavaScript failed to load for some other reason).  You need to install the 3dmol extension: <br>\n        <tt>jupyter labextension install jupyterlab_3dmol</tt></p>\n        </div>\n<script>\n\nvar loadScriptAsync = function(uri){\n  return new Promise((resolve, reject) => {\n    //this is to ignore the existence of requirejs amd\n    var savedexports, savedmodule;\n    if (typeof exports !== 'undefined') savedexports = exports;\n    else exports = {}\n    if (typeof module !== 'undefined') savedmodule = module;\n    else module = {}\n\n    var tag = document.createElement('script');\n    tag.src = uri;\n    tag.async = true;\n    tag.onload = () => {\n        exports = savedexports;\n        module = savedmodule;\n        resolve();\n    };\n  var firstScriptTag = document.getElementsByTagName('script')[0];\n  firstScriptTag.parentNode.insertBefore(tag, firstScriptTag);\n});\n};\n\nif(typeof $3Dmolpromise === 'undefined') {\n$3Dmolpromise = null;\n  $3Dmolpromise = loadScriptAsync('https://cdnjs.cloudflare.com/ajax/libs/3Dmol/2.0.3/3Dmol-min.js');\n}\n\nvar viewer_17242329103482969 = null;\nvar warn = document.getElementById(\"3dmolwarning_17242329103482969\");\nif(warn) {\n    warn.parentNode.removeChild(warn);\n}\n$3Dmolpromise.then(function() {\nviewer_17242329103482969 = $3Dmol.createViewer(document.getElementById(\"3dmolviewer_17242329103482969\"),{backgroundColor:\"white\"});\nviewer_17242329103482969.zoomTo();\n\tviewer_17242329103482969.addModel(\"HETATM    1 C1   UNL     1      -0.324   0.241  -0.961  1.00  0.00          C   \\nHETATM    2 C6   UNL     1       0.043  -0.848  -1.737  1.00  0.00          C   \\nHETATM    3 C5   UNL     1       0.964  -1.796  -1.282  1.00  0.00          C   \\nHETATM    4 C4   UNL     1       1.543  -1.654  -0.021  1.00  0.00          C   \\nHETATM    5 C3   UNL     1       1.193  -0.556   0.771  1.00  0.00          C   \\nHETATM    6 C2   UNL     1       0.244   0.396   0.324  1.00  0.00          C   \\nHETATM    7 C7   UNL     1      -0.175   1.512   1.087  1.00  0.00          C   \\nHETATM    8 C8   UNL     1      -1.023   2.447   0.493  1.00  0.00          C   \\nHETATM    9 C9   UNL     1      -1.527   2.197  -0.770  1.00  0.00          C   \\nHETATM   10 N10  UNL     1      -1.200   1.112  -1.483  1.00  0.00          N   \\nHETATM   11 H6   UNL     1      -0.393  -0.952  -2.729  1.00  0.00          H   \\nHETATM   12 CA   UNL     1       2.566  -2.654   0.427  1.00  0.00          C   \\nHETATM   13 H3   UNL     1       1.674  -0.434   1.738  1.00  0.00          H   \\nHETATM   14 H8   UNL     1      -1.290   3.363   1.006  1.00  0.00          H   \\nHETATM   15 CB   UNL     1       2.202  -3.998  -0.177  1.00  0.00          C   \\nHETATM   16 H42  UNL     1       3.550  -2.326   0.072  1.00  0.00          H   \\nHETATM   17 H43  UNL     1       2.594  -2.733   1.519  1.00  0.00          H   \\nHETATM   18 H411 UNL     1       2.978  -4.735   0.054  1.00  0.00          H   \\nHETATM   19 H412 UNL     1       1.252  -4.383   0.213  1.00  0.00          H   \\nHETATM   20 C    CBX     2       1.353  -2.924  -2.172  1.00  0.00          C   \\nHETATM   21 O    CBX     2       1.030  -2.947  -3.351  1.00  0.00          O   \\nHETATM   22 OXT  CBX     2       2.101  -3.910  -1.609  1.00  0.00          O   \\nHETATM   23 N    NH3     3       0.389   1.822   2.343  1.00  0.00          N   \\nHETATM   24 HN2  NH3     3      -0.157   2.486   2.885  1.00  0.00          H   \\nHETATM   25 HN3  NH3     3       0.641   1.011   2.897  1.00  0.00          H   \\nHETATM   26 N    NH3     4      -2.387   3.105  -1.384  1.00  0.00          N   \\nHETATM   27 HN2  NH3     4      -2.652   2.701  -2.279  1.00  0.00          H   \\nHETATM   28 HN3  NH3     4      -3.195   3.307  -0.808  1.00  0.00          H   \\nCONECT    1    2    2    6   10\\nCONECT    2    1    1    3   11\\nCONECT    6    1    5    5    7\\nCONECT   10    1    9    9\\nCONECT    3    2    4    4   20\\nCONECT   11    2\\nCONECT    4    3    3    5   12\\nCONECT    5    4    6    6   13\\nCONECT   12    4   15   16   17\\nCONECT   13    5\\nCONECT    7    6    8    8   23\\nCONECT    8    7    7    9   14\\nCONECT    9    8   10   10   26\\nCONECT   14    8\\nCONECT   20   21   21   22    3\\nCONECT   21   20   20\\nCONECT   22   20   15\\nCONECT   23   24   25    7\\nCONECT   24   23\\nCONECT   25   23\\nCONECT   26   27   28    9\\nCONECT   27   26\\nCONECT   28   26\\nCONECT   15   12   18   19   22\\nCONECT   16   12\\nCONECT   17   12\\nCONECT   18   15\\nCONECT   19   15\\nEND\",\"pdb\");\n\tviewer_17242329103482969.setStyle({\"stick\": {}});\n\tviewer_17242329103482969.zoomTo();\n\tviewer_17242329103482969.setStyle({\"stick\": {}});\nviewer_17242329103482969.render();\n});\n</script>",
      "text/html": [
       "<div id=\"3dmolviewer_17242329103482969\"  style=\"position: relative; width: 600px; height: 500px;\">\n",
       "        <p id=\"3dmolwarning_17242329103482969\" style=\"background-color:#ffcccc;color:black\">You appear to be running in JupyterLab (or JavaScript failed to load for some other reason).  You need to install the 3dmol extension: <br>\n",
       "        <tt>jupyter labextension install jupyterlab_3dmol</tt></p>\n",
       "        </div>\n",
       "<script>\n",
       "\n",
       "var loadScriptAsync = function(uri){\n",
       "  return new Promise((resolve, reject) => {\n",
       "    //this is to ignore the existence of requirejs amd\n",
       "    var savedexports, savedmodule;\n",
       "    if (typeof exports !== 'undefined') savedexports = exports;\n",
       "    else exports = {}\n",
       "    if (typeof module !== 'undefined') savedmodule = module;\n",
       "    else module = {}\n",
       "\n",
       "    var tag = document.createElement('script');\n",
       "    tag.src = uri;\n",
       "    tag.async = true;\n",
       "    tag.onload = () => {\n",
       "        exports = savedexports;\n",
       "        module = savedmodule;\n",
       "        resolve();\n",
       "    };\n",
       "  var firstScriptTag = document.getElementsByTagName('script')[0];\n",
       "  firstScriptTag.parentNode.insertBefore(tag, firstScriptTag);\n",
       "});\n",
       "};\n",
       "\n",
       "if(typeof $3Dmolpromise === 'undefined') {\n",
       "$3Dmolpromise = null;\n",
       "  $3Dmolpromise = loadScriptAsync('https://cdnjs.cloudflare.com/ajax/libs/3Dmol/2.0.3/3Dmol-min.js');\n",
       "}\n",
       "\n",
       "var viewer_17242329103482969 = null;\n",
       "var warn = document.getElementById(\"3dmolwarning_17242329103482969\");\n",
       "if(warn) {\n",
       "    warn.parentNode.removeChild(warn);\n",
       "}\n",
       "$3Dmolpromise.then(function() {\n",
       "viewer_17242329103482969 = $3Dmol.createViewer(document.getElementById(\"3dmolviewer_17242329103482969\"),{backgroundColor:\"white\"});\n",
       "viewer_17242329103482969.zoomTo();\n",
       "\tviewer_17242329103482969.addModel(\"HETATM    1 C1   UNL     1      -0.324   0.241  -0.961  1.00  0.00          C   \\nHETATM    2 C6   UNL     1       0.043  -0.848  -1.737  1.00  0.00          C   \\nHETATM    3 C5   UNL     1       0.964  -1.796  -1.282  1.00  0.00          C   \\nHETATM    4 C4   UNL     1       1.543  -1.654  -0.021  1.00  0.00          C   \\nHETATM    5 C3   UNL     1       1.193  -0.556   0.771  1.00  0.00          C   \\nHETATM    6 C2   UNL     1       0.244   0.396   0.324  1.00  0.00          C   \\nHETATM    7 C7   UNL     1      -0.175   1.512   1.087  1.00  0.00          C   \\nHETATM    8 C8   UNL     1      -1.023   2.447   0.493  1.00  0.00          C   \\nHETATM    9 C9   UNL     1      -1.527   2.197  -0.770  1.00  0.00          C   \\nHETATM   10 N10  UNL     1      -1.200   1.112  -1.483  1.00  0.00          N   \\nHETATM   11 H6   UNL     1      -0.393  -0.952  -2.729  1.00  0.00          H   \\nHETATM   12 CA   UNL     1       2.566  -2.654   0.427  1.00  0.00          C   \\nHETATM   13 H3   UNL     1       1.674  -0.434   1.738  1.00  0.00          H   \\nHETATM   14 H8   UNL     1      -1.290   3.363   1.006  1.00  0.00          H   \\nHETATM   15 CB   UNL     1       2.202  -3.998  -0.177  1.00  0.00          C   \\nHETATM   16 H42  UNL     1       3.550  -2.326   0.072  1.00  0.00          H   \\nHETATM   17 H43  UNL     1       2.594  -2.733   1.519  1.00  0.00          H   \\nHETATM   18 H411 UNL     1       2.978  -4.735   0.054  1.00  0.00          H   \\nHETATM   19 H412 UNL     1       1.252  -4.383   0.213  1.00  0.00          H   \\nHETATM   20 C    CBX     2       1.353  -2.924  -2.172  1.00  0.00          C   \\nHETATM   21 O    CBX     2       1.030  -2.947  -3.351  1.00  0.00          O   \\nHETATM   22 OXT  CBX     2       2.101  -3.910  -1.609  1.00  0.00          O   \\nHETATM   23 N    NH3     3       0.389   1.822   2.343  1.00  0.00          N   \\nHETATM   24 HN2  NH3     3      -0.157   2.486   2.885  1.00  0.00          H   \\nHETATM   25 HN3  NH3     3       0.641   1.011   2.897  1.00  0.00          H   \\nHETATM   26 N    NH3     4      -2.387   3.105  -1.384  1.00  0.00          N   \\nHETATM   27 HN2  NH3     4      -2.652   2.701  -2.279  1.00  0.00          H   \\nHETATM   28 HN3  NH3     4      -3.195   3.307  -0.808  1.00  0.00          H   \\nCONECT    1    2    2    6   10\\nCONECT    2    1    1    3   11\\nCONECT    6    1    5    5    7\\nCONECT   10    1    9    9\\nCONECT    3    2    4    4   20\\nCONECT   11    2\\nCONECT    4    3    3    5   12\\nCONECT    5    4    6    6   13\\nCONECT   12    4   15   16   17\\nCONECT   13    5\\nCONECT    7    6    8    8   23\\nCONECT    8    7    7    9   14\\nCONECT    9    8   10   10   26\\nCONECT   14    8\\nCONECT   20   21   21   22    3\\nCONECT   21   20   20\\nCONECT   22   20   15\\nCONECT   23   24   25    7\\nCONECT   24   23\\nCONECT   25   23\\nCONECT   26   27   28    9\\nCONECT   27   26\\nCONECT   28   26\\nCONECT   15   12   18   19   22\\nCONECT   16   12\\nCONECT   17   12\\nCONECT   18   15\\nCONECT   19   15\\nEND\",\"pdb\");\n",
       "\tviewer_17242329103482969.setStyle({\"stick\": {}});\n",
       "\tviewer_17242329103482969.zoomTo();\n",
       "\tviewer_17242329103482969.setStyle({\"stick\": {}});\n",
       "viewer_17242329103482969.render();\n",
       "});\n",
       "</script>"
      ]
     },
     "metadata": {},
     "output_type": "display_data"
    }
   ],
   "source": [
    "\n",
    "# and now let's also define a custom global modifier that will circularize part of the molecule\n",
    "# with either 5 or 6 atoms\n",
    "\n",
    "def circularize_at_c5_branch(mol):\n",
    "    \n",
    "    # the functional group at C5 will be residue 2 (since it's the first functional group we add)\n",
    "    # we will get the N or O neighbor of the carbonyl carbon and connect it to the aromatic ring by adding\n",
    "    # either one or two carbons at the C4 position\n",
    "    neighbor = mol.get_neighbors(\n",
    "        mol.get_residue(2).get_atom(\"C\"),\n",
    "        filter = lambda x: x.element in (\"N\", \"O\") and x.id != \"O\"\n",
    "    )\n",
    "    neighbor = neighbor.pop()\n",
    "\n",
    "    # add one or two carbons at C4\n",
    "    # (with a 50% probability for either case)\n",
    "    atom = mol.get_hydrogen(\"C4\")\n",
    "    mol.change_element(atom, \"C\").rename_atom(atom, \"CA\")\n",
    "    if np.random.rand() < 0.5:\n",
    "        atom = mol.get_hydrogen(atom)\n",
    "        mol.change_element(atom, \"C\").rename_atom(atom, \"CB\")\n",
    "\n",
    "    # add a bond from the neighbor to the new carbon\n",
    "    mol.add_bond(neighbor, atom)\n",
    "    Ha = mol.get_hydrogen(atom)\n",
    "    if Ha is not None:\n",
    "        mol.remove_atoms(Ha)\n",
    "    Hn = mol.get_hydrogen(neighbor)\n",
    "    if Hn is not None:\n",
    "        mol.remove_atoms(Hn)\n",
    "        \n",
    "    # since we added a circle we need to optimize with rdkit\n",
    "    mol.optimize(algorithm=\"mmff\", inplace=True)\n",
    "\n",
    "# now add the modifier\n",
    "derivator.global_modifiers([circularize_at_c5_branch])\n",
    "\n",
    "# and sample a molecule\n",
    "next(derivator.sample()).py3dmol().show()"
   ]
  },
  {
   "cell_type": "markdown",
   "metadata": {},
   "source": [
    "Okey, let's try to sample some molecules using our set up derivator:"
   ]
  },
  {
   "cell_type": "code",
   "execution_count": 9,
   "metadata": {},
   "outputs": [
    {
     "data": {
      "image/png": "[encoded data removed]",
      "text/plain": [
       "<Figure size 1000x1000 with 25 Axes>"
      ]
     },
     "metadata": {},
     "output_type": "display_data"
    }
   ],
   "source": [
    "fig, axs = plt.subplots(5, 5, figsize=(10, 10))\n",
    "\n",
    "# create 25 molecules\n",
    "for i, mol in enumerate(derivator.sample(25)):\n",
    "    ax = axs.flat[i]\n",
    "    ax.imshow(mol.chem2dview().draw())\n",
    "    ax.axis(\"off\")\n",
    "\n",
    "plt.show()"
   ]
  },
  {
   "cell_type": "markdown",
   "metadata": {},
   "source": [
    "And there we have a bunch of sampled molecule derivatives!"
   ]
  },
  {
   "cell_type": "markdown",
   "metadata": {},
   "source": [
    "## Example 3\n",
    "\n",
    "So far we have seen `all` and `sample` in action. Then, what is the purpose of `make`? The `make` method accepts numeric inputs in form of arrays to specify what kinds of modifications to specifically apply when generating derivatives. It is designed to facilitate the use of the `Derivator` in machine learning or optimization pipelines, which work with numeric data. \n",
    "\n",
    "Let's make an example to understand how we use the `make` method. In summary, the method accepts four 1D arrays, each of the length of specified atoms/bonds/modifiers. Each entry in the arrays is the index of the respective element/bond order/modifier to apply. Of course, a user is free to design their own numeric encoding/decoding for the Derivator if they find another system more convenient for their pipeline! "
   ]
  },
  {
   "cell_type": "code",
   "execution_count": null,
   "metadata": {},
   "outputs": [],
   "source": [
    "# let's use again benzene\n",
    "benzene = bam.get_compound(\"benzene\")\n",
    "\n",
    "derivator = Derivator(benzene)\n",
    "\n",
    "# define potential modifications\n",
    "# (we keep the order of specifications in mind, for later)\n",
    "derivator.element_changable(\"C1\", (\"C\", \"N\", \"O\"))\n",
    "derivator.element_changable(\"C3\", (\"C\", \"N\"))\n",
    "derivator.functional_group_addable(\"C4\", (bam.carboxylate, bam.amidate))"
   ]
  },
  {
   "cell_type": "markdown",
   "metadata": {},
   "source": [
    "To now make a \"benzene with C1 as Oxygen and C3 as Nitrogen, and a carboxyl group at C4\" we would specify the following arrays:"
   ]
  },
  {
   "cell_type": "code",
   "execution_count": 12,
   "metadata": {},
   "outputs": [
    {
     "data": {
      "application/3dmoljs_load.v0": "<div id=\"3dmolviewer_1724232938918048\"  style=\"position: relative; width: 600px; height: 500px;\">\n        <p id=\"3dmolwarning_1724232938918048\" style=\"background-color:#ffcccc;color:black\">You appear to be running in JupyterLab (or JavaScript failed to load for some other reason).  You need to install the 3dmol extension: <br>\n        <tt>jupyter labextension install jupyterlab_3dmol</tt></p>\n        </div>\n<script>\n\nvar loadScriptAsync = function(uri){\n  return new Promise((resolve, reject) => {\n    //this is to ignore the existence of requirejs amd\n    var savedexports, savedmodule;\n    if (typeof exports !== 'undefined') savedexports = exports;\n    else exports = {}\n    if (typeof module !== 'undefined') savedmodule = module;\n    else module = {}\n\n    var tag = document.createElement('script');\n    tag.src = uri;\n    tag.async = true;\n    tag.onload = () => {\n        exports = savedexports;\n        module = savedmodule;\n        resolve();\n    };\n  var firstScriptTag = document.getElementsByTagName('script')[0];\n  firstScriptTag.parentNode.insertBefore(tag, firstScriptTag);\n});\n};\n\nif(typeof $3Dmolpromise === 'undefined') {\n$3Dmolpromise = null;\n  $3Dmolpromise = loadScriptAsync('https://cdnjs.cloudflare.com/ajax/libs/3Dmol/2.0.3/3Dmol-min.js');\n}\n\nvar viewer_1724232938918048 = null;\nvar warn = document.getElementById(\"3dmolwarning_1724232938918048\");\nif(warn) {\n    warn.parentNode.removeChild(warn);\n}\n$3Dmolpromise.then(function() {\nviewer_1724232938918048 = $3Dmol.createViewer(document.getElementById(\"3dmolviewer_1724232938918048\"),{backgroundColor:\"white\"});\nviewer_1724232938918048.zoomTo();\n\tviewer_1724232938918048.addModel(\"HETATM    1 O1   BNZ A   1       0.608  -1.172   0.000  1.00  0.00          O 1+\\nHETATM    2 C2   BNZ A   1      -0.732  -1.230   0.000  1.00  0.00          C   \\nHETATM    3 N3   BNZ A   1      -1.449   0.053   0.000  1.00  0.00          N   \\nHETATM    4 C4   BNZ A   1      -0.742   1.240   0.000  1.00  0.00          C   \\nHETATM    5 C5   BNZ A   1       0.640   1.222   0.001  1.00  0.00          C   \\nHETATM    6 C6   BNZ A   1       1.339   0.057  -0.001  1.00  0.00          C   \\nHETATM    7 H2   BNZ A   1      -1.327  -2.081   0.000  1.00  0.00          H   \\nHETATM    8 H5   BNZ A   1       1.193   2.149   0.000  1.00  0.00          H   \\nHETATM    9 H6   BNZ A   1       2.419   0.042  -0.001  1.00  0.00          H   \\nHETATM   10 C    CBX A   2      -1.494   2.585  -0.001  1.00  0.00          C   \\nHETATM   11 O    CBX A   2      -1.667   3.179  -1.039  1.00  0.00          O   \\nHETATM   12 OXT  CBX A   2      -1.956   3.096   1.150  1.00  0.00          O   \\nHETATM   13 HXT  CBX A   2      -1.818   2.620   1.981  1.00  0.00          H   \\nCONECT    1    2    2    6\\nCONECT    2    1    1    3    7\\nCONECT    6    1    5    5    9\\nCONECT    3    2    4    4\\nCONECT    7    2\\nCONECT    4    3    3    5   10\\nCONECT    5    4    6    6    8\\nCONECT    8    5\\nCONECT    9    6\\nCONECT   10   11   11   12    4\\nCONECT   11   10   10\\nCONECT   12   10   13\\nCONECT   13   12\\nEND\",\"pdb\");\n\tviewer_1724232938918048.setStyle({\"stick\": {}});\n\tviewer_1724232938918048.zoomTo();\n\tviewer_1724232938918048.setStyle({\"stick\": {}});\nviewer_1724232938918048.render();\n});\n</script>",
      "text/html": [
       "<div id=\"3dmolviewer_1724232938918048\"  style=\"position: relative; width: 600px; height: 500px;\">\n",
       "        <p id=\"3dmolwarning_1724232938918048\" style=\"background-color:#ffcccc;color:black\">You appear to be running in JupyterLab (or JavaScript failed to load for some other reason).  You need to install the 3dmol extension: <br>\n",
       "        <tt>jupyter labextension install jupyterlab_3dmol</tt></p>\n",
       "        </div>\n",
       "<script>\n",
       "\n",
       "var loadScriptAsync = function(uri){\n",
       "  return new Promise((resolve, reject) => {\n",
       "    //this is to ignore the existence of requirejs amd\n",
       "    var savedexports, savedmodule;\n",
       "    if (typeof exports !== 'undefined') savedexports = exports;\n",
       "    else exports = {}\n",
       "    if (typeof module !== 'undefined') savedmodule = module;\n",
       "    else module = {}\n",
       "\n",
       "    var tag = document.createElement('script');\n",
       "    tag.src = uri;\n",
       "    tag.async = true;\n",
       "    tag.onload = () => {\n",
       "        exports = savedexports;\n",
       "        module = savedmodule;\n",
       "        resolve();\n",
       "    };\n",
       "  var firstScriptTag = document.getElementsByTagName('script')[0];\n",
       "  firstScriptTag.parentNode.insertBefore(tag, firstScriptTag);\n",
       "});\n",
       "};\n",
       "\n",
       "if(typeof $3Dmolpromise === 'undefined') {\n",
       "$3Dmolpromise = null;\n",
       "  $3Dmolpromise = loadScriptAsync('https://cdnjs.cloudflare.com/ajax/libs/3Dmol/2.0.3/3Dmol-min.js');\n",
       "}\n",
       "\n",
       "var viewer_1724232938918048 = null;\n",
       "var warn = document.getElementById(\"3dmolwarning_1724232938918048\");\n",
       "if(warn) {\n",
       "    warn.parentNode.removeChild(warn);\n",
       "}\n",
       "$3Dmolpromise.then(function() {\n",
       "viewer_1724232938918048 = $3Dmol.createViewer(document.getElementById(\"3dmolviewer_1724232938918048\"),{backgroundColor:\"white\"});\n",
       "viewer_1724232938918048.zoomTo();\n",
       "\tviewer_1724232938918048.addModel(\"HETATM    1 O1   BNZ A   1       0.608  -1.172   0.000  1.00  0.00          O 1+\\nHETATM    2 C2   BNZ A   1      -0.732  -1.230   0.000  1.00  0.00          C   \\nHETATM    3 N3   BNZ A   1      -1.449   0.053   0.000  1.00  0.00          N   \\nHETATM    4 C4   BNZ A   1      -0.742   1.240   0.000  1.00  0.00          C   \\nHETATM    5 C5   BNZ A   1       0.640   1.222   0.001  1.00  0.00          C   \\nHETATM    6 C6   BNZ A   1       1.339   0.057  -0.001  1.00  0.00          C   \\nHETATM    7 H2   BNZ A   1      -1.327  -2.081   0.000  1.00  0.00          H   \\nHETATM    8 H5   BNZ A   1       1.193   2.149   0.000  1.00  0.00          H   \\nHETATM    9 H6   BNZ A   1       2.419   0.042  -0.001  1.00  0.00          H   \\nHETATM   10 C    CBX A   2      -1.494   2.585  -0.001  1.00  0.00          C   \\nHETATM   11 O    CBX A   2      -1.667   3.179  -1.039  1.00  0.00          O   \\nHETATM   12 OXT  CBX A   2      -1.956   3.096   1.150  1.00  0.00          O   \\nHETATM   13 HXT  CBX A   2      -1.818   2.620   1.981  1.00  0.00          H   \\nCONECT    1    2    2    6\\nCONECT    2    1    1    3    7\\nCONECT    6    1    5    5    9\\nCONECT    3    2    4    4\\nCONECT    7    2\\nCONECT    4    3    3    5   10\\nCONECT    5    4    6    6    8\\nCONECT    8    5\\nCONECT    9    6\\nCONECT   10   11   11   12    4\\nCONECT   11   10   10\\nCONECT   12   10   13\\nCONECT   13   12\\nEND\",\"pdb\");\n",
       "\tviewer_1724232938918048.setStyle({\"stick\": {}});\n",
       "\tviewer_1724232938918048.zoomTo();\n",
       "\tviewer_1724232938918048.setStyle({\"stick\": {}});\n",
       "viewer_1724232938918048.render();\n",
       "});\n",
       "</script>"
      ]
     },
     "metadata": {},
     "output_type": "display_data"
    }
   ],
   "source": [
    "# the first entry is for C1 (the first specified element_changable)\n",
    "# the second entry is for C3 (the second specified element_changable)\n",
    "# the 2 indicates the index of O in the tuple (\"C\", \"N\", \"O\")\n",
    "# the 1 indicates the index of N in the tuple (\"C\", \"N\")\n",
    "elements = [2, 1]\n",
    "\n",
    "# the first entry is for C4 (the first and only specified functional_group_addable)\n",
    "# the 0 indicates the index of carboxylate in the tuple (bam.carboxylate, bam.amidate)\n",
    "functional_groups = [0]\n",
    "\n",
    "# now we can make the derivative\n",
    "# (we have to provide empty arrays for all other arguments)\n",
    "derivator.make(elements=elements, bonds=[], groups=functional_groups, modifiers=[]).py3dmol().show()"
   ]
  },
  {
   "cell_type": "markdown",
   "metadata": {},
   "source": [
    "And with that we have reached the end of this tutorial. We saw how we can generate molecular derivatives from a starting compound and a bunch of specified potential modifications using the `Derivator` class. Thanks for checking out this tutorial and good luck with your project using BuildAMol!"
   ]
  }
 ],
 "metadata": {
  "kernelspec": {
   "display_name": "glyco2",
   "language": "python",
   "name": "python3"
  },
  "language_info": {
   "codemirror_mode": {
    "name": "ipython",
    "version": 3
   },
   "file_extension": ".py",
   "mimetype": "text/x-python",
   "name": "python",
   "nbconvert_exporter": "python",
   "pygments_lexer": "ipython3",
   "version": "3.11.0"
  },
  "orig_nbformat": 4
 },
 "nbformat": 4,
 "nbformat_minor": 2
}
