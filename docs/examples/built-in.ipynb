{
 "cells": [
  {
   "attachments": {},
   "cell_type": "markdown",
   "metadata": {},
   "source": [
    "> ### In this tutorial we will cover:\n",
    "> - which built-in resources are available\n",
    "> - how to set your own default settings"
   ]
  },
  {
   "attachments": {},
   "cell_type": "markdown",
   "metadata": {},
   "source": [
    "## Built-in resources\n",
    "\n",
    "BuildAMol has three built-in data resources: the _CHARMM_ force field, the _PDBE compound library_, and _PubChem_ (remotely queried)."
   ]
  },
  {
   "attachments": {},
   "cell_type": "markdown",
   "metadata": {},
   "source": [
    "```mermaid\n",
    "\n",
    "flowchart TB\n",
    "  node_1((\"CHARMM\"))\n",
    "  node_2[\"pre-defined linkages\"]\n",
    "  node_3((\"PDBE Compounds\"))\n",
    "  node_4[\"small molecules\"]\n",
    "  node_5((\"PubChem\"))\n",
    "  node_7[\"amino acids\"]\n",
    "  node_8[\"sugars\"]\n",
    "  node_9[\"lipids\"]\n",
    "  node_6[\"any other available molecule\"]\n",
    "  node_10[\"nucleotides\"]\n",
    "  node_1 --> node_2\n",
    "  node_3 --> node_4\n",
    "  node_3 --> node_7\n",
    "  node_3 --> node_8\n",
    "  node_3 --> node_9\n",
    "  node_5 --> node_6\n",
    "  node_3 --> node_10\n",
    "\n",
    "\n",
    "```"
   ]
  },
  {
   "cell_type": "code",
   "execution_count": 1,
   "metadata": {},
   "outputs": [],
   "source": [
    "import buildamol as bam\n",
    "bam.visual.set_backend(\"py3dmol\")"
   ]
  },
  {
   "attachments": {},
   "cell_type": "markdown",
   "metadata": {},
   "source": [
    "### CHARMM Force Field\n",
    "\n",
    "In order to connect molecules together, the user may define their own `Linkage` by specifying which atoms to connect and which atoms to remove in the process. However, to make life easier, BuildAMol` references the CHARMM force field which already specifies a number of linkage types - so-called `patches`. Each _patch_ specifies the atoms to connect and remove as well as the _internal coordinates_ around the newly formed bond. This allows BuildAMol to generate structures by pure matrix transformation as the resulting geometry is already specified. "
   ]
  },
  {
   "attachments": {},
   "cell_type": "markdown",
   "metadata": {},
   "source": [
    "We can check what linkages are available by default using:"
   ]
  },
  {
   "cell_type": "code",
   "execution_count": 2,
   "metadata": {},
   "outputs": [
    {
     "name": "stdout",
     "output_type": "stream",
     "text": [
      "[Linkage(SCK0), Linkage(SCK1), Linkage(LLLO), Linkage(CERA), Linkage(CERB), Linkage(DAGA), Linkage(DAGB), Linkage(INS2A), Linkage(INS2B), Linkage(INS6A), Linkage(INS6B), Linkage(SGPA), Linkage(TGPA), Linkage(SGPB), Linkage(TGPB), Linkage(NGLA), Linkage(11aa), Linkage(11ab), Linkage(11bb), Linkage(12aa), Linkage(12ab), Linkage(12ba), Linkage(12bb), Linkage(13aa), Linkage(13ab), Linkage(13ba), Linkage(13bb), Linkage(14aa), Linkage(14ab), Linkage(14ba), Linkage(14bb), Linkage(16aa), Linkage(16ab), Linkage(16ba), Linkage(SUCR), Linkage(LCTL), Linkage(AB15), Linkage(SA23AB), Linkage(LINK)]\n"
     ]
    }
   ],
   "source": [
    "print(bam.available_linkages())"
   ]
  },
  {
   "attachments": {},
   "cell_type": "markdown",
   "metadata": {},
   "source": [
    "Each linkage is identified by an ID within the CHARMM force field - e.g. `12aa` stands for the `1->2 alpha glycosydic linkage`. Each of the pre-defined available linkages can be referenced by their (string) id when connecting molecules together.\n",
    "\n",
    "For example, we can connect two mannoses using a `12aa` linkage by:"
   ]
  },
  {
   "cell_type": "code",
   "execution_count": 3,
   "metadata": {},
   "outputs": [
    {
     "data": {
      "application/3dmoljs_load.v0": "<div id=\"3dmolviewer_1718891144387168\"  style=\"position: relative; width: 600px; height: 500px;\">\n        <p id=\"3dmolwarning_1718891144387168\" style=\"background-color:#ffcccc;color:black\">You appear to be running in JupyterLab (or JavaScript failed to load for some other reason).  You need to install the 3dmol extension: <br>\n        <tt>jupyter labextension install jupyterlab_3dmol</tt></p>\n        </div>\n<script>\n\nvar loadScriptAsync = function(uri){\n  return new Promise((resolve, reject) => {\n    //this is to ignore the existence of requirejs amd\n    var savedexports, savedmodule;\n    if (typeof exports !== 'undefined') savedexports = exports;\n    else exports = {}\n    if (typeof module !== 'undefined') savedmodule = module;\n    else module = {}\n\n    var tag = document.createElement('script');\n    tag.src = uri;\n    tag.async = true;\n    tag.onload = () => {\n        exports = savedexports;\n        module = savedmodule;\n        resolve();\n    };\n  var firstScriptTag = document.getElementsByTagName('script')[0];\n  firstScriptTag.parentNode.insertBefore(tag, firstScriptTag);\n});\n};\n\nif(typeof $3Dmolpromise === 'undefined') {\n$3Dmolpromise = null;\n  $3Dmolpromise = loadScriptAsync('https://cdnjs.cloudflare.com/ajax/libs/3Dmol/2.0.3/3Dmol-min.js');\n}\n\nvar viewer_1718891144387168 = null;\nvar warn = document.getElementById(\"3dmolwarning_1718891144387168\");\nif(warn) {\n    warn.parentNode.removeChild(warn);\n}\n$3Dmolpromise.then(function() {\nviewer_1718891144387168 = $3Dmol.createViewer(document.getElementById(\"3dmolviewer_1718891144387168\"),{backgroundColor:\"white\"});\nviewer_1718891144387168.zoomTo();\n\tviewer_1718891144387168.addModel(\"HETATM    1 C1   MAN A   1      -1.692  -0.156  -0.316  1.00  0.00          C   \\nHETATM    2 C2   MAN A   1      -0.878   0.091  -1.588  1.00  0.00          C   \\nHETATM    3 C3   MAN A   1       0.535  -0.467  -1.391  1.00  0.00          C   \\nHETATM    4 C4   MAN A   1       1.126   0.134  -0.111  1.00  0.00          C   \\nHETATM    5 C5   MAN A   1       0.160  -0.117   1.048  1.00  0.00          C   \\nHETATM    6 C6   MAN A   1       0.757   0.448   2.339  1.00  0.00          C   \\nHETATM    7 O1   MAN A   1      -1.735  -1.558  -0.046  1.00  0.00          O   \\nHETATM    8 O2   MAN A   1      -0.808   1.494  -1.845  1.00  0.00          O   \\nHETATM    9 O3   MAN A   1       1.350  -0.113  -2.511  1.00  0.00          O   \\nHETATM   10 O4   MAN A   1       2.384  -0.482   0.170  1.00  0.00          O   \\nHETATM   11 O5   MAN A   1      -1.087   0.520   0.784  1.00  0.00          O   \\nHETATM   12 O6   MAN A   1      -0.142   0.211   3.423  1.00  0.00          O   \\nHETATM   13 H1   MAN A   1      -2.707   0.216  -0.457  1.00  0.00          H   \\nHETATM   14 H2   MAN A   1      -1.354  -0.410  -2.430  1.00  0.00          H   \\nHETATM   15 H3   MAN A   1       0.491  -1.552  -1.300  1.00  0.00          H   \\nHETATM   16 H4   MAN A   1       1.267   1.207  -0.244  1.00  0.00          H   \\nHETATM   17 H5   MAN A   1       0.002  -1.189   1.162  1.00  0.00          H   \\nHETATM   18 H61  MAN A   1       0.915   1.521   2.226  1.00  0.00          H   \\nHETATM   19 H62  MAN A   1       1.710  -0.039   2.543  1.00  0.00          H   \\nHETATM   20 HO1  MAN A   1      -2.260  -1.672   0.757  1.00  0.00          H   \\nHETATM   21 HO3  MAN A   1       0.934  -0.501  -3.293  1.00  0.00          H   \\nHETATM   22 HO4  MAN A   1       2.958  -0.305  -0.587  1.00  0.00          H   \\nHETATM   23 HO6  MAN A   1       0.270   0.582   4.215  1.00  0.00          H   \\nHETATM   24 C1   MAN A   2      -1.093   1.820  -3.180  1.00  0.00          C   \\nHETATM   25 C2   MAN A   2      -1.203   3.314  -3.352  1.00  0.00          C   \\nHETATM   26 C3   MAN A   2      -2.368   3.809  -2.465  1.00  0.00          C   \\nHETATM   27 C4   MAN A   2      -3.625   2.994  -2.787  1.00  0.00          C   \\nHETATM   28 C5   MAN A   2      -3.298   1.505  -2.661  1.00  0.00          C   \\nHETATM   29 C6   MAN A   2      -4.556   0.682  -2.946  1.00  0.00          C   \\nHETATM   30 O2   MAN A   2      -1.510   3.619  -4.719  1.00  0.00          O   \\nHETATM   31 O3   MAN A   2      -2.612   5.194  -2.722  1.00  0.00          O   \\nHETATM   32 O4   MAN A   2      -4.665   3.337  -1.870  1.00  0.00          O   \\nHETATM   33 O5   MAN A   2      -2.275   1.133  -3.596  1.00  0.00          O   \\nHETATM   34 O6   MAN A   2      -4.253  -0.709  -2.824  1.00  0.00          O   \\nHETATM   35 H1   MAN A   2      -0.256   1.450  -3.800  1.00  0.00          H   \\nHETATM   36 H2   MAN A   2      -0.295   3.807  -3.060  1.00  0.00          H   \\nHETATM   37 H3   MAN A   2      -2.102   3.674  -1.417  1.00  0.00          H   \\nHETATM   38 H4   MAN A   2      -3.949   3.212  -3.805  1.00  0.00          H   \\nHETATM   39 H5   MAN A   2      -2.950   1.295  -1.649  1.00  0.00          H   \\nHETATM   40 H61  MAN A   2      -4.904   0.891  -3.958  1.00  0.00          H   \\nHETATM   41 H62  MAN A   2      -5.335   0.949  -2.232  1.00  0.00          H   \\nHETATM   42 HO2  MAN A   2      -0.769   3.285  -5.242  1.00  0.00          H   \\nHETATM   43 HO3  MAN A   2      -1.792   5.665  -2.518  1.00  0.00          H   \\nHETATM   44 HO4  MAN A   2      -4.834   4.282  -1.979  1.00  0.00          H   \\nHETATM   45 HO6  MAN A   2      -5.070  -1.191  -3.012  1.00  0.00          H   \\nCONECT    1    2    7   11   13\\nCONECT    2    1    3    8   14\\nCONECT    7    1   20\\nCONECT   11    1    5\\nCONECT   13    1\\nCONECT    3    2    4    9   15\\nCONECT    8    2   24\\nCONECT   14    2\\nCONECT   20    7\\nCONECT    5   11    4    6   17\\nCONECT    4    3    5   10   16\\nCONECT    9    3   21\\nCONECT   15    3\\nCONECT   10    4   22\\nCONECT   16    4\\nCONECT   21    9\\nCONECT    6    5   12   18   19\\nCONECT   17    5\\nCONECT   22   10\\nCONECT   12    6   23\\nCONECT   18    6\\nCONECT   19    6\\nCONECT   23   12\\nCONECT   24   25   33   35    8\\nCONECT   25   24   26   30   36\\nCONECT   33   24\\nCONECT   35   24\\nCONECT   26   25   27   31   37\\nCONECT   30   25   42\\nCONECT   36   25\\nCONECT   27   26   28   32   38\\nCONECT   31   26   43\\nCONECT   37   26\\nCONECT   42   30\\nCONECT   28   27   29   39\\nCONECT   32   27   44\\nCONECT   38   27\\nCONECT   43   31\\nCONECT   29   28   34   40   41\\nCONECT   39   28\\nCONECT   44   32\\nCONECT   34   29   45\\nCONECT   40   29\\nCONECT   41   29\\nCONECT   45   34\\nEND\",\"pdb\");\n\tviewer_1718891144387168.setStyle({\"stick\": {}});\n\tviewer_1718891144387168.zoomTo();\n\tviewer_1718891144387168.setStyle({\"stick\": {}});\nviewer_1718891144387168.render();\n});\n</script>",
      "text/html": [
       "<div id=\"3dmolviewer_1718891144387168\"  style=\"position: relative; width: 600px; height: 500px;\">\n",
       "        <p id=\"3dmolwarning_1718891144387168\" style=\"background-color:#ffcccc;color:black\">You appear to be running in JupyterLab (or JavaScript failed to load for some other reason).  You need to install the 3dmol extension: <br>\n",
       "        <tt>jupyter labextension install jupyterlab_3dmol</tt></p>\n",
       "        </div>\n",
       "<script>\n",
       "\n",
       "var loadScriptAsync = function(uri){\n",
       "  return new Promise((resolve, reject) => {\n",
       "    //this is to ignore the existence of requirejs amd\n",
       "    var savedexports, savedmodule;\n",
       "    if (typeof exports !== 'undefined') savedexports = exports;\n",
       "    else exports = {}\n",
       "    if (typeof module !== 'undefined') savedmodule = module;\n",
       "    else module = {}\n",
       "\n",
       "    var tag = document.createElement('script');\n",
       "    tag.src = uri;\n",
       "    tag.async = true;\n",
       "    tag.onload = () => {\n",
       "        exports = savedexports;\n",
       "        module = savedmodule;\n",
       "        resolve();\n",
       "    };\n",
       "  var firstScriptTag = document.getElementsByTagName('script')[0];\n",
       "  firstScriptTag.parentNode.insertBefore(tag, firstScriptTag);\n",
       "});\n",
       "};\n",
       "\n",
       "if(typeof $3Dmolpromise === 'undefined') {\n",
       "$3Dmolpromise = null;\n",
       "  $3Dmolpromise = loadScriptAsync('https://cdnjs.cloudflare.com/ajax/libs/3Dmol/2.0.3/3Dmol-min.js');\n",
       "}\n",
       "\n",
       "var viewer_1718891144387168 = null;\n",
       "var warn = document.getElementById(\"3dmolwarning_1718891144387168\");\n",
       "if(warn) {\n",
       "    warn.parentNode.removeChild(warn);\n",
       "}\n",
       "$3Dmolpromise.then(function() {\n",
       "viewer_1718891144387168 = $3Dmol.createViewer(document.getElementById(\"3dmolviewer_1718891144387168\"),{backgroundColor:\"white\"});\n",
       "viewer_1718891144387168.zoomTo();\n",
       "\tviewer_1718891144387168.addModel(\"HETATM    1 C1   MAN A   1      -1.692  -0.156  -0.316  1.00  0.00          C   \\nHETATM    2 C2   MAN A   1      -0.878   0.091  -1.588  1.00  0.00          C   \\nHETATM    3 C3   MAN A   1       0.535  -0.467  -1.391  1.00  0.00          C   \\nHETATM    4 C4   MAN A   1       1.126   0.134  -0.111  1.00  0.00          C   \\nHETATM    5 C5   MAN A   1       0.160  -0.117   1.048  1.00  0.00          C   \\nHETATM    6 C6   MAN A   1       0.757   0.448   2.339  1.00  0.00          C   \\nHETATM    7 O1   MAN A   1      -1.735  -1.558  -0.046  1.00  0.00          O   \\nHETATM    8 O2   MAN A   1      -0.808   1.494  -1.845  1.00  0.00          O   \\nHETATM    9 O3   MAN A   1       1.350  -0.113  -2.511  1.00  0.00          O   \\nHETATM   10 O4   MAN A   1       2.384  -0.482   0.170  1.00  0.00          O   \\nHETATM   11 O5   MAN A   1      -1.087   0.520   0.784  1.00  0.00          O   \\nHETATM   12 O6   MAN A   1      -0.142   0.211   3.423  1.00  0.00          O   \\nHETATM   13 H1   MAN A   1      -2.707   0.216  -0.457  1.00  0.00          H   \\nHETATM   14 H2   MAN A   1      -1.354  -0.410  -2.430  1.00  0.00          H   \\nHETATM   15 H3   MAN A   1       0.491  -1.552  -1.300  1.00  0.00          H   \\nHETATM   16 H4   MAN A   1       1.267   1.207  -0.244  1.00  0.00          H   \\nHETATM   17 H5   MAN A   1       0.002  -1.189   1.162  1.00  0.00          H   \\nHETATM   18 H61  MAN A   1       0.915   1.521   2.226  1.00  0.00          H   \\nHETATM   19 H62  MAN A   1       1.710  -0.039   2.543  1.00  0.00          H   \\nHETATM   20 HO1  MAN A   1      -2.260  -1.672   0.757  1.00  0.00          H   \\nHETATM   21 HO3  MAN A   1       0.934  -0.501  -3.293  1.00  0.00          H   \\nHETATM   22 HO4  MAN A   1       2.958  -0.305  -0.587  1.00  0.00          H   \\nHETATM   23 HO6  MAN A   1       0.270   0.582   4.215  1.00  0.00          H   \\nHETATM   24 C1   MAN A   2      -1.093   1.820  -3.180  1.00  0.00          C   \\nHETATM   25 C2   MAN A   2      -1.203   3.314  -3.352  1.00  0.00          C   \\nHETATM   26 C3   MAN A   2      -2.368   3.809  -2.465  1.00  0.00          C   \\nHETATM   27 C4   MAN A   2      -3.625   2.994  -2.787  1.00  0.00          C   \\nHETATM   28 C5   MAN A   2      -3.298   1.505  -2.661  1.00  0.00          C   \\nHETATM   29 C6   MAN A   2      -4.556   0.682  -2.946  1.00  0.00          C   \\nHETATM   30 O2   MAN A   2      -1.510   3.619  -4.719  1.00  0.00          O   \\nHETATM   31 O3   MAN A   2      -2.612   5.194  -2.722  1.00  0.00          O   \\nHETATM   32 O4   MAN A   2      -4.665   3.337  -1.870  1.00  0.00          O   \\nHETATM   33 O5   MAN A   2      -2.275   1.133  -3.596  1.00  0.00          O   \\nHETATM   34 O6   MAN A   2      -4.253  -0.709  -2.824  1.00  0.00          O   \\nHETATM   35 H1   MAN A   2      -0.256   1.450  -3.800  1.00  0.00          H   \\nHETATM   36 H2   MAN A   2      -0.295   3.807  -3.060  1.00  0.00          H   \\nHETATM   37 H3   MAN A   2      -2.102   3.674  -1.417  1.00  0.00          H   \\nHETATM   38 H4   MAN A   2      -3.949   3.212  -3.805  1.00  0.00          H   \\nHETATM   39 H5   MAN A   2      -2.950   1.295  -1.649  1.00  0.00          H   \\nHETATM   40 H61  MAN A   2      -4.904   0.891  -3.958  1.00  0.00          H   \\nHETATM   41 H62  MAN A   2      -5.335   0.949  -2.232  1.00  0.00          H   \\nHETATM   42 HO2  MAN A   2      -0.769   3.285  -5.242  1.00  0.00          H   \\nHETATM   43 HO3  MAN A   2      -1.792   5.665  -2.518  1.00  0.00          H   \\nHETATM   44 HO4  MAN A   2      -4.834   4.282  -1.979  1.00  0.00          H   \\nHETATM   45 HO6  MAN A   2      -5.070  -1.191  -3.012  1.00  0.00          H   \\nCONECT    1    2    7   11   13\\nCONECT    2    1    3    8   14\\nCONECT    7    1   20\\nCONECT   11    1    5\\nCONECT   13    1\\nCONECT    3    2    4    9   15\\nCONECT    8    2   24\\nCONECT   14    2\\nCONECT   20    7\\nCONECT    5   11    4    6   17\\nCONECT    4    3    5   10   16\\nCONECT    9    3   21\\nCONECT   15    3\\nCONECT   10    4   22\\nCONECT   16    4\\nCONECT   21    9\\nCONECT    6    5   12   18   19\\nCONECT   17    5\\nCONECT   22   10\\nCONECT   12    6   23\\nCONECT   18    6\\nCONECT   19    6\\nCONECT   23   12\\nCONECT   24   25   33   35    8\\nCONECT   25   24   26   30   36\\nCONECT   33   24\\nCONECT   35   24\\nCONECT   26   25   27   31   37\\nCONECT   30   25   42\\nCONECT   36   25\\nCONECT   27   26   28   32   38\\nCONECT   31   26   43\\nCONECT   37   26\\nCONECT   42   30\\nCONECT   28   27   29   39\\nCONECT   32   27   44\\nCONECT   38   27\\nCONECT   43   31\\nCONECT   29   28   34   40   41\\nCONECT   39   28\\nCONECT   44   32\\nCONECT   34   29   45\\nCONECT   40   29\\nCONECT   41   29\\nCONECT   45   34\\nEND\",\"pdb\");\n",
       "\tviewer_1718891144387168.setStyle({\"stick\": {}});\n",
       "\tviewer_1718891144387168.zoomTo();\n",
       "\tviewer_1718891144387168.setStyle({\"stick\": {}});\n",
       "viewer_1718891144387168.render();\n",
       "});\n",
       "</script>"
      ]
     },
     "metadata": {},
     "output_type": "display_data"
    }
   ],
   "source": [
    "man = bam.molecule(\"./files/man.pdb\")\n",
    "\n",
    "# use pre-defined 12aa linkage\n",
    "man2 = bam.connect(man, man, \"12aa\")\n",
    "man2.show()"
   ]
  },
  {
   "cell_type": "code",
   "execution_count": 4,
   "metadata": {},
   "outputs": [
    {
     "name": "stdout",
     "output_type": "stream",
     "text": [
      "[Linkage(SCK0), Linkage(SCK1), Linkage(LLLO), Linkage(CERA), Linkage(CERB), Linkage(DAGA), Linkage(DAGB), Linkage(INS2A), Linkage(INS2B), Linkage(INS6A), Linkage(INS6B), Linkage(SGPA), Linkage(TGPA), Linkage(SGPB), Linkage(TGPB), Linkage(NGLA), Linkage(11aa), Linkage(11ab), Linkage(11bb), Linkage(12aa), Linkage(12ab), Linkage(12ba), Linkage(12bb), Linkage(13aa), Linkage(13ab), Linkage(13ba), Linkage(13bb), Linkage(14aa), Linkage(14ab), Linkage(14ba), Linkage(14bb), Linkage(16aa), Linkage(16ab), Linkage(16ba), Linkage(SUCR)]\n"
     ]
    }
   ],
   "source": [
    "# define a custom 1->2 glycosydic linkage\n",
    "my_12aa = bam.linkage(atom1=\"O2\", atom2=\"C1\", delete_in_target=[\"HO2\"], delete_in_source=[\"O1\", \"HO1\"], id=\"my_12aa\")\n",
    "\n",
    "# add the linkage to the library\n",
    "bam.add_linkage(my_12aa)\n",
    "\n",
    "# and check that it was added to the list\n",
    "print(bam.available_linkages()[:-5])"
   ]
  },
  {
   "attachments": {},
   "cell_type": "markdown",
   "metadata": {},
   "source": [
    "If the set of available linkages is quite large and we want to check if a particular one is available, we can also use the `has_linkage` function to check if a linkage with a given id is pre-loaded in the current session."
   ]
  },
  {
   "cell_type": "code",
   "execution_count": 5,
   "metadata": {},
   "outputs": [
    {
     "data": {
      "text/plain": [
       "True"
      ]
     },
     "execution_count": 5,
     "metadata": {},
     "output_type": "execute_result"
    }
   ],
   "source": [
    "bam.has_linkage(\"my_12aa\")"
   ]
  },
  {
   "attachments": {},
   "cell_type": "markdown",
   "metadata": {},
   "source": [
    "#### The `CHARMMTopology` class\n",
    "\n",
    "The data from the CHARMM force field is handled by the `CHARMMTopology` class, which parses (you guessed it) a CHARMM topology file (**not** parameter file) and stores its data in a dictionary structure. Its purpose is to store linkages.\n",
    "\n",
    "The default instance of this class can be accessed using the `get_default_topology` function. Why is this useful? Well, if there is a \"get\"-default topology function there may be a \"set\"-version as well (which is totally the case). If you have your own CHARMM topology file with defined linkages and molecules, you can `read_topology` to parse your own file, use `set_default=True` to make your topology the default, and thus tailor BuildAMol to your specific needs. "
   ]
  },
  {
   "cell_type": "code",
   "execution_count": 6,
   "metadata": {},
   "outputs": [
    {
     "name": "stdout",
     "output_type": "stream",
     "text": [
      "[Linkage(my_14bb), Linkage(my_16ab)]\n"
     ]
    }
   ],
   "source": [
    "# read a custom topology file to make a CHARMMTopology\n",
    "# (but don't set it as the default topology)\n",
    "my_top = bam.read_topology(\"./files/my_top.top\", set_default=False)\n",
    "\n",
    "# check out the patches / linkages in the topology\n",
    "print(my_top.patches)"
   ]
  },
  {
   "attachments": {},
   "cell_type": "markdown",
   "metadata": {},
   "source": [
    "If we want to use a non-default topology we can either specify the topology we want to use as an argument to functions and methods which accept a `_topology` argument, or we directly provide the linkage objects we obtain from the topology."
   ]
  },
  {
   "cell_type": "code",
   "execution_count": 7,
   "metadata": {},
   "outputs": [
    {
     "data": {
      "application/3dmoljs_load.v0": "<div id=\"3dmolviewer_1718891144700037\"  style=\"position: relative; width: 600px; height: 500px;\">\n        <p id=\"3dmolwarning_1718891144700037\" style=\"background-color:#ffcccc;color:black\">You appear to be running in JupyterLab (or JavaScript failed to load for some other reason).  You need to install the 3dmol extension: <br>\n        <tt>jupyter labextension install jupyterlab_3dmol</tt></p>\n        </div>\n<script>\n\nvar loadScriptAsync = function(uri){\n  return new Promise((resolve, reject) => {\n    //this is to ignore the existence of requirejs amd\n    var savedexports, savedmodule;\n    if (typeof exports !== 'undefined') savedexports = exports;\n    else exports = {}\n    if (typeof module !== 'undefined') savedmodule = module;\n    else module = {}\n\n    var tag = document.createElement('script');\n    tag.src = uri;\n    tag.async = true;\n    tag.onload = () => {\n        exports = savedexports;\n        module = savedmodule;\n        resolve();\n    };\n  var firstScriptTag = document.getElementsByTagName('script')[0];\n  firstScriptTag.parentNode.insertBefore(tag, firstScriptTag);\n});\n};\n\nif(typeof $3Dmolpromise === 'undefined') {\n$3Dmolpromise = null;\n  $3Dmolpromise = loadScriptAsync('https://cdnjs.cloudflare.com/ajax/libs/3Dmol/2.0.3/3Dmol-min.js');\n}\n\nvar viewer_1718891144700037 = null;\nvar warn = document.getElementById(\"3dmolwarning_1718891144700037\");\nif(warn) {\n    warn.parentNode.removeChild(warn);\n}\n$3Dmolpromise.then(function() {\nviewer_1718891144700037 = $3Dmol.createViewer(document.getElementById(\"3dmolviewer_1718891144700037\"),{backgroundColor:\"white\"});\nviewer_1718891144700037.zoomTo();\n\tviewer_1718891144700037.addModel(\"HETATM    1 C1   MAN A   1      -1.692  -0.156  -0.316  1.00  0.00          C   \\nHETATM    2 C2   MAN A   1      -0.878   0.091  -1.588  1.00  0.00          C   \\nHETATM    3 C3   MAN A   1       0.535  -0.467  -1.391  1.00  0.00          C   \\nHETATM    4 C4   MAN A   1       1.126   0.134  -0.111  1.00  0.00          C   \\nHETATM    5 C5   MAN A   1       0.160  -0.117   1.048  1.00  0.00          C   \\nHETATM    6 C6   MAN A   1       0.757   0.448   2.339  1.00  0.00          C   \\nHETATM    7 O1   MAN A   1      -1.735  -1.558  -0.046  1.00  0.00          O   \\nHETATM    8 O2   MAN A   1      -0.808   1.494  -1.845  1.00  0.00          O   \\nHETATM    9 O3   MAN A   1       1.350  -0.113  -2.511  1.00  0.00          O   \\nHETATM   10 O4   MAN A   1       2.384  -0.482   0.170  1.00  0.00          O   \\nHETATM   11 O5   MAN A   1      -1.087   0.520   0.784  1.00  0.00          O   \\nHETATM   12 O6   MAN A   1      -0.142   0.211   3.423  1.00  0.00          O   \\nHETATM   13 H1   MAN A   1      -2.707   0.216  -0.457  1.00  0.00          H   \\nHETATM   14 H2   MAN A   1      -1.354  -0.410  -2.430  1.00  0.00          H   \\nHETATM   15 H3   MAN A   1       0.491  -1.552  -1.300  1.00  0.00          H   \\nHETATM   16 H4   MAN A   1       1.267   1.207  -0.244  1.00  0.00          H   \\nHETATM   17 H5   MAN A   1       0.002  -1.189   1.162  1.00  0.00          H   \\nHETATM   18 H61  MAN A   1       0.915   1.521   2.226  1.00  0.00          H   \\nHETATM   19 H62  MAN A   1       1.710  -0.039   2.543  1.00  0.00          H   \\nHETATM   20 HO1  MAN A   1      -2.260  -1.672   0.757  1.00  0.00          H   \\nHETATM   21 HO2  MAN A   1      -1.717   1.804  -1.955  1.00  0.00          H   \\nHETATM   22 HO3  MAN A   1       0.934  -0.501  -3.293  1.00  0.00          H   \\nHETATM   23 HO4  MAN A   1       2.958  -0.305  -0.587  1.00  0.00          H   \\nHETATM   24 C1   MAN A   2       0.374   0.693   4.636  1.00  0.00          C   \\nHETATM   25 C2   MAN A   2      -0.378   0.110   5.804  1.00  0.00          C   \\nHETATM   26 C3   MAN A   2      -1.854   0.551   5.687  1.00  0.00          C   \\nHETATM   27 C4   MAN A   2      -1.910   2.075   5.536  1.00  0.00          C   \\nHETATM   28 C5   MAN A   2      -1.011   2.493   4.371  1.00  0.00          C   \\nHETATM   29 C6   MAN A   2      -1.087   4.010   4.189  1.00  0.00          C   \\nHETATM   30 O2   MAN A   2       0.158   0.629   7.029  1.00  0.00          O   \\nHETATM   31 O3   MAN A   2      -2.568   0.156   6.861  1.00  0.00          O   \\nHETATM   32 O4   MAN A   2      -3.255   2.481   5.275  1.00  0.00          O   \\nHETATM   33 O5   MAN A   2       0.352   2.120   4.630  1.00  0.00          O   \\nHETATM   34 O6   MAN A   2      -0.251   4.401   3.099  1.00  0.00          O   \\nHETATM   35 H1   MAN A   2       1.432   0.377   4.698  1.00  0.00          H   \\nHETATM   36 H2   MAN A   2      -0.323  -0.963   5.806  1.00  0.00          H   \\nHETATM   37 H3   MAN A   2      -2.301   0.080   4.813  1.00  0.00          H   \\nHETATM   38 H4   MAN A   2      -1.560   2.545   6.456  1.00  0.00          H   \\nHETATM   39 H5   MAN A   2      -1.349   2.002   3.459  1.00  0.00          H   \\nHETATM   40 H61  MAN A   2      -0.749   4.503   5.101  1.00  0.00          H   \\nHETATM   41 H62  MAN A   2      -2.116   4.301   3.981  1.00  0.00          H   \\nHETATM   42 HO2  MAN A   2       1.081   0.344   7.062  1.00  0.00          H   \\nHETATM   43 HO3  MAN A   2      -2.495  -0.806   6.922  1.00  0.00          H   \\nHETATM   44 HO4  MAN A   2      -3.786   2.193   6.029  1.00  0.00          H   \\nHETATM   45 HO6  MAN A   2      -0.327   5.362   3.018  1.00  0.00          H   \\nCONECT    1    2    7   11   13\\nCONECT    2    1    3    8   14\\nCONECT    7    1   20\\nCONECT   11    1    5\\nCONECT   13    1\\nCONECT    3    2    4    9   15\\nCONECT    8    2   21\\nCONECT   14    2\\nCONECT   20    7\\nCONECT    5   11    4    6   17\\nCONECT    4    3    5   10   16\\nCONECT    9    3   22\\nCONECT   15    3\\nCONECT   21    8\\nCONECT   10    4   23\\nCONECT   16    4\\nCONECT   22    9\\nCONECT    6    5   12   18   19\\nCONECT   17    5\\nCONECT   23   10\\nCONECT   12    6   24\\nCONECT   18    6\\nCONECT   19    6\\nCONECT   24   25   33   35   12\\nCONECT   25   24   26   30   36\\nCONECT   33   24\\nCONECT   35   24\\nCONECT   26   25   27   31   37\\nCONECT   30   25   42\\nCONECT   36   25\\nCONECT   27   26   28   32   38\\nCONECT   31   26   43\\nCONECT   37   26\\nCONECT   42   30\\nCONECT   28   27   29   39\\nCONECT   32   27   44\\nCONECT   38   27\\nCONECT   43   31\\nCONECT   29   28   34   40   41\\nCONECT   39   28\\nCONECT   44   32\\nCONECT   34   29   45\\nCONECT   40   29\\nCONECT   41   29\\nCONECT   45   34\\nEND\",\"pdb\");\n\tviewer_1718891144700037.setStyle({\"stick\": {}});\n\tviewer_1718891144700037.zoomTo();\n\tviewer_1718891144700037.setStyle({\"stick\": {}});\nviewer_1718891144700037.render();\n});\n</script>",
      "text/html": [
       "<div id=\"3dmolviewer_1718891144700037\"  style=\"position: relative; width: 600px; height: 500px;\">\n",
       "        <p id=\"3dmolwarning_1718891144700037\" style=\"background-color:#ffcccc;color:black\">You appear to be running in JupyterLab (or JavaScript failed to load for some other reason).  You need to install the 3dmol extension: <br>\n",
       "        <tt>jupyter labextension install jupyterlab_3dmol</tt></p>\n",
       "        </div>\n",
       "<script>\n",
       "\n",
       "var loadScriptAsync = function(uri){\n",
       "  return new Promise((resolve, reject) => {\n",
       "    //this is to ignore the existence of requirejs amd\n",
       "    var savedexports, savedmodule;\n",
       "    if (typeof exports !== 'undefined') savedexports = exports;\n",
       "    else exports = {}\n",
       "    if (typeof module !== 'undefined') savedmodule = module;\n",
       "    else module = {}\n",
       "\n",
       "    var tag = document.createElement('script');\n",
       "    tag.src = uri;\n",
       "    tag.async = true;\n",
       "    tag.onload = () => {\n",
       "        exports = savedexports;\n",
       "        module = savedmodule;\n",
       "        resolve();\n",
       "    };\n",
       "  var firstScriptTag = document.getElementsByTagName('script')[0];\n",
       "  firstScriptTag.parentNode.insertBefore(tag, firstScriptTag);\n",
       "});\n",
       "};\n",
       "\n",
       "if(typeof $3Dmolpromise === 'undefined') {\n",
       "$3Dmolpromise = null;\n",
       "  $3Dmolpromise = loadScriptAsync('https://cdnjs.cloudflare.com/ajax/libs/3Dmol/2.0.3/3Dmol-min.js');\n",
       "}\n",
       "\n",
       "var viewer_1718891144700037 = null;\n",
       "var warn = document.getElementById(\"3dmolwarning_1718891144700037\");\n",
       "if(warn) {\n",
       "    warn.parentNode.removeChild(warn);\n",
       "}\n",
       "$3Dmolpromise.then(function() {\n",
       "viewer_1718891144700037 = $3Dmol.createViewer(document.getElementById(\"3dmolviewer_1718891144700037\"),{backgroundColor:\"white\"});\n",
       "viewer_1718891144700037.zoomTo();\n",
       "\tviewer_1718891144700037.addModel(\"HETATM    1 C1   MAN A   1      -1.692  -0.156  -0.316  1.00  0.00          C   \\nHETATM    2 C2   MAN A   1      -0.878   0.091  -1.588  1.00  0.00          C   \\nHETATM    3 C3   MAN A   1       0.535  -0.467  -1.391  1.00  0.00          C   \\nHETATM    4 C4   MAN A   1       1.126   0.134  -0.111  1.00  0.00          C   \\nHETATM    5 C5   MAN A   1       0.160  -0.117   1.048  1.00  0.00          C   \\nHETATM    6 C6   MAN A   1       0.757   0.448   2.339  1.00  0.00          C   \\nHETATM    7 O1   MAN A   1      -1.735  -1.558  -0.046  1.00  0.00          O   \\nHETATM    8 O2   MAN A   1      -0.808   1.494  -1.845  1.00  0.00          O   \\nHETATM    9 O3   MAN A   1       1.350  -0.113  -2.511  1.00  0.00          O   \\nHETATM   10 O4   MAN A   1       2.384  -0.482   0.170  1.00  0.00          O   \\nHETATM   11 O5   MAN A   1      -1.087   0.520   0.784  1.00  0.00          O   \\nHETATM   12 O6   MAN A   1      -0.142   0.211   3.423  1.00  0.00          O   \\nHETATM   13 H1   MAN A   1      -2.707   0.216  -0.457  1.00  0.00          H   \\nHETATM   14 H2   MAN A   1      -1.354  -0.410  -2.430  1.00  0.00          H   \\nHETATM   15 H3   MAN A   1       0.491  -1.552  -1.300  1.00  0.00          H   \\nHETATM   16 H4   MAN A   1       1.267   1.207  -0.244  1.00  0.00          H   \\nHETATM   17 H5   MAN A   1       0.002  -1.189   1.162  1.00  0.00          H   \\nHETATM   18 H61  MAN A   1       0.915   1.521   2.226  1.00  0.00          H   \\nHETATM   19 H62  MAN A   1       1.710  -0.039   2.543  1.00  0.00          H   \\nHETATM   20 HO1  MAN A   1      -2.260  -1.672   0.757  1.00  0.00          H   \\nHETATM   21 HO2  MAN A   1      -1.717   1.804  -1.955  1.00  0.00          H   \\nHETATM   22 HO3  MAN A   1       0.934  -0.501  -3.293  1.00  0.00          H   \\nHETATM   23 HO4  MAN A   1       2.958  -0.305  -0.587  1.00  0.00          H   \\nHETATM   24 C1   MAN A   2       0.374   0.693   4.636  1.00  0.00          C   \\nHETATM   25 C2   MAN A   2      -0.378   0.110   5.804  1.00  0.00          C   \\nHETATM   26 C3   MAN A   2      -1.854   0.551   5.687  1.00  0.00          C   \\nHETATM   27 C4   MAN A   2      -1.910   2.075   5.536  1.00  0.00          C   \\nHETATM   28 C5   MAN A   2      -1.011   2.493   4.371  1.00  0.00          C   \\nHETATM   29 C6   MAN A   2      -1.087   4.010   4.189  1.00  0.00          C   \\nHETATM   30 O2   MAN A   2       0.158   0.629   7.029  1.00  0.00          O   \\nHETATM   31 O3   MAN A   2      -2.568   0.156   6.861  1.00  0.00          O   \\nHETATM   32 O4   MAN A   2      -3.255   2.481   5.275  1.00  0.00          O   \\nHETATM   33 O5   MAN A   2       0.352   2.120   4.630  1.00  0.00          O   \\nHETATM   34 O6   MAN A   2      -0.251   4.401   3.099  1.00  0.00          O   \\nHETATM   35 H1   MAN A   2       1.432   0.377   4.698  1.00  0.00          H   \\nHETATM   36 H2   MAN A   2      -0.323  -0.963   5.806  1.00  0.00          H   \\nHETATM   37 H3   MAN A   2      -2.301   0.080   4.813  1.00  0.00          H   \\nHETATM   38 H4   MAN A   2      -1.560   2.545   6.456  1.00  0.00          H   \\nHETATM   39 H5   MAN A   2      -1.349   2.002   3.459  1.00  0.00          H   \\nHETATM   40 H61  MAN A   2      -0.749   4.503   5.101  1.00  0.00          H   \\nHETATM   41 H62  MAN A   2      -2.116   4.301   3.981  1.00  0.00          H   \\nHETATM   42 HO2  MAN A   2       1.081   0.344   7.062  1.00  0.00          H   \\nHETATM   43 HO3  MAN A   2      -2.495  -0.806   6.922  1.00  0.00          H   \\nHETATM   44 HO4  MAN A   2      -3.786   2.193   6.029  1.00  0.00          H   \\nHETATM   45 HO6  MAN A   2      -0.327   5.362   3.018  1.00  0.00          H   \\nCONECT    1    2    7   11   13\\nCONECT    2    1    3    8   14\\nCONECT    7    1   20\\nCONECT   11    1    5\\nCONECT   13    1\\nCONECT    3    2    4    9   15\\nCONECT    8    2   21\\nCONECT   14    2\\nCONECT   20    7\\nCONECT    5   11    4    6   17\\nCONECT    4    3    5   10   16\\nCONECT    9    3   22\\nCONECT   15    3\\nCONECT   21    8\\nCONECT   10    4   23\\nCONECT   16    4\\nCONECT   22    9\\nCONECT    6    5   12   18   19\\nCONECT   17    5\\nCONECT   23   10\\nCONECT   12    6   24\\nCONECT   18    6\\nCONECT   19    6\\nCONECT   24   25   33   35   12\\nCONECT   25   24   26   30   36\\nCONECT   33   24\\nCONECT   35   24\\nCONECT   26   25   27   31   37\\nCONECT   30   25   42\\nCONECT   36   25\\nCONECT   27   26   28   32   38\\nCONECT   31   26   43\\nCONECT   37   26\\nCONECT   42   30\\nCONECT   28   27   29   39\\nCONECT   32   27   44\\nCONECT   38   27\\nCONECT   43   31\\nCONECT   29   28   34   40   41\\nCONECT   39   28\\nCONECT   44   32\\nCONECT   34   29   45\\nCONECT   40   29\\nCONECT   41   29\\nCONECT   45   34\\nEND\",\"pdb\");\n",
       "\tviewer_1718891144700037.setStyle({\"stick\": {}});\n",
       "\tviewer_1718891144700037.zoomTo();\n",
       "\tviewer_1718891144700037.setStyle({\"stick\": {}});\n",
       "viewer_1718891144700037.render();\n",
       "});\n",
       "</script>"
      ]
     },
     "metadata": {},
     "output_type": "display_data"
    }
   ],
   "source": [
    "# connect the two clucoses using the `my_16ab` linkage from my_top\n",
    "# which we can even specify just via the ID string\n",
    "my_man2 = bam.connect(man, man, \"my_16ab\", _topology=my_top)\n",
    "\n",
    "# or\n",
    "my_16ab = my_top.get_patch(\"my_16ab\")\n",
    "my_man2 = bam.connect(man, man, my_16ab)\n",
    "\n",
    "my_man2.show()"
   ]
  },
  {
   "attachments": {},
   "cell_type": "markdown",
   "metadata": {},
   "source": [
    "### PDBE Compounds\n",
    "\n",
    "BuildAMol maintains a part of the PDBE component library of small molecules, common sugar, lipid, nucleotides, and amino acid compounds and derivatives to directly obtain molecular structures while coding, without the need to download any pdb files externally. Molecules can be obtained from the library using their _PDB ID_, their names or some other available identifier such as SMILES. "
   ]
  },
  {
   "cell_type": "markdown",
   "metadata": {},
   "source": [
    "To reduce memory load, BuildAMol loads by default an empty library which can then be populated according to the user's needs using functions:\n",
    "\n",
    "- `load_small_molecules()` \n",
    "- `load_sugars()`\n",
    "- `load_lipids()`\n",
    "- `load_amino_acids()`\n",
    "- `load_nucleotides()`\n",
    "- or `load_all_compounds()` (to perform all of the above)\n",
    "\n",
    "All of the above also have an `unload_` equivalent to again remove the compounds from the currently loaded default compounds.\n",
    "\n",
    "Of course, we can set a custom default library to load automatically using the `set_default_compounds` function (see below)."
   ]
  },
  {
   "cell_type": "code",
   "execution_count": 8,
   "metadata": {},
   "outputs": [
    {
     "data": {
      "application/3dmoljs_load.v0": "<div id=\"3dmolviewer_17188911448287842\"  style=\"position: relative; width: 600px; height: 500px;\">\n        <p id=\"3dmolwarning_17188911448287842\" style=\"background-color:#ffcccc;color:black\">You appear to be running in JupyterLab (or JavaScript failed to load for some other reason).  You need to install the 3dmol extension: <br>\n        <tt>jupyter labextension install jupyterlab_3dmol</tt></p>\n        </div>\n<script>\n\nvar loadScriptAsync = function(uri){\n  return new Promise((resolve, reject) => {\n    //this is to ignore the existence of requirejs amd\n    var savedexports, savedmodule;\n    if (typeof exports !== 'undefined') savedexports = exports;\n    else exports = {}\n    if (typeof module !== 'undefined') savedmodule = module;\n    else module = {}\n\n    var tag = document.createElement('script');\n    tag.src = uri;\n    tag.async = true;\n    tag.onload = () => {\n        exports = savedexports;\n        module = savedmodule;\n        resolve();\n    };\n  var firstScriptTag = document.getElementsByTagName('script')[0];\n  firstScriptTag.parentNode.insertBefore(tag, firstScriptTag);\n});\n};\n\nif(typeof $3Dmolpromise === 'undefined') {\n$3Dmolpromise = null;\n  $3Dmolpromise = loadScriptAsync('https://cdnjs.cloudflare.com/ajax/libs/3Dmol/2.0.3/3Dmol-min.js');\n}\n\nvar viewer_17188911448287842 = null;\nvar warn = document.getElementById(\"3dmolwarning_17188911448287842\");\nif(warn) {\n    warn.parentNode.removeChild(warn);\n}\n$3Dmolpromise.then(function() {\nviewer_17188911448287842 = $3Dmol.createViewer(document.getElementById(\"3dmolviewer_17188911448287842\"),{backgroundColor:\"white\"});\nviewer_17188911448287842.zoomTo();\n\tviewer_17188911448287842.addModel(\"HETATM    1 C1   GLC A   1      -0.567   1.572  -0.245  1.00  0.00          C   \\nHETATM    2 C2   GLC A   1      -1.578   0.465  -0.554  1.00  0.00          C   \\nHETATM    3 C3   GLC A   1      -1.179  -0.806   0.203  1.00  0.00          C   \\nHETATM    4 C4   GLC A   1       0.249  -1.195  -0.192  1.00  0.00          C   \\nHETATM    5 C5   GLC A   1       1.189  -0.024   0.102  1.00  0.00          C   \\nHETATM    6 C6   GLC A   1       2.607  -0.383  -0.345  1.00  0.00          C   \\nHETATM    7 O1   GLC A   1      -0.600   1.871   1.151  1.00  0.00          O   \\nHETATM    8 O2   GLC A   1      -2.881   0.879  -0.139  1.00  0.00          O   \\nHETATM    9 O3   GLC A   1      -2.075  -1.866  -0.137  1.00  0.00          O   \\nHETATM   10 O4   GLC A   1       0.658  -2.338   0.562  1.00  0.00          O   \\nHETATM   11 O5   GLC A   1       0.744   1.133  -0.608  1.00  0.00          O   \\nHETATM   12 O6   GLC A   1       3.506   0.661   0.035  1.00  0.00          O   \\nHETATM   13 H1   GLC A   1      -0.822   2.466  -0.815  1.00  0.00          H   \\nHETATM   14 H2   GLC A   1      -1.583   0.264  -1.626  1.00  0.00          H   \\nHETATM   15 H3   GLC A   1      -1.223  -0.619   1.276  1.00  0.00          H   \\nHETATM   16 H4   GLC A   1       0.281  -1.429  -1.257  1.00  0.00          H   \\nHETATM   17 H5   GLC A   1       1.187   0.184   1.173  1.00  0.00          H   \\nHETATM   18 H61  GLC A   1       2.913  -1.315   0.129  1.00  0.00          H   \\nHETATM   19 H62  GLC A   1       2.627  -0.503  -1.428  1.00  0.00          H   \\nHETATM   20 HO1  GLC A   1       0.017   2.566   1.420  1.00  0.00          H   \\nHETATM   21 HO2  GLC A   1      -3.197   1.682  -0.576  1.00  0.00          H   \\nHETATM   22 HO3  GLC A   1      -3.000  -1.684   0.080  1.00  0.00          H   \\nHETATM   23 HO4  GLC A   1       0.102  -3.118   0.427  1.00  0.00          H   \\nHETATM   24 C1   GLC A   2       4.845   0.359  -0.184  1.00  0.00          C   \\nHETATM   25 C2   GLC A   2       5.735   1.570   0.116  1.00  0.00          C   \\nHETATM   26 C3   GLC A   2       5.561   1.914   1.633  1.00  0.00          C   \\nHETATM   27 C4   GLC A   2       5.900   0.677   2.471  1.00  0.00          C   \\nHETATM   28 C5   GLC A   2       5.013  -0.489   2.030  1.00  0.00          C   \\nHETATM   29 C6   GLC A   2       5.388  -1.743   2.821  1.00  0.00          C   \\nHETATM   30 O2   GLC A   2       5.354   2.700  -0.645  1.00  0.00          O   \\nHETATM   31 O3   GLC A   2       6.435   2.987   1.988  1.00  0.00          O   \\nHETATM   32 O4   GLC A   2       5.668   0.959   3.853  1.00  0.00          O   \\nHETATM   33 O5   GLC A   2       5.199  -0.738   0.630  1.00  0.00          O   \\nHETATM   34 O6   GLC A   2       4.484  -2.801   2.494  1.00  0.00          O   \\nHETATM   35 H1   GLC A   2       5.033   0.134  -1.227  1.00  0.00          H   \\nHETATM   36 H2   GLC A   2       6.784   1.331  -0.045  1.00  0.00          H   \\nHETATM   37 H3   GLC A   2       4.527   2.207   1.818  1.00  0.00          H   \\nHETATM   38 H4   GLC A   2       6.948   0.414   2.323  1.00  0.00          H   \\nHETATM   39 H5   GLC A   2       3.967  -0.240   2.215  1.00  0.00          H   \\nHETATM   40 H61  GLC A   2       5.328  -1.532   3.888  1.00  0.00          H   \\nHETATM   41 H62  GLC A   2       6.404  -2.043   2.567  1.00  0.00          H   \\nHETATM   42 HO2  GLC A   2       5.438   2.555  -1.598  1.00  0.00          H   \\nHETATM   43 HO3  GLC A   2       6.280   3.802   1.490  1.00  0.00          H   \\nHETATM   44 HO4  GLC A   2       6.196   1.692   4.199  1.00  0.00          H   \\nHETATM   45 HO6  GLC A   2       4.663  -3.629   2.959  1.00  0.00          H   \\nCONECT    1    2    7   11   13\\nCONECT    2    1    3    8   14\\nCONECT    7    1   20\\nCONECT   11    1    5\\nCONECT   13    1\\nCONECT    3    2    4    9   15\\nCONECT    8    2   21\\nCONECT   14    2\\nCONECT    4    3    5   10   16\\nCONECT    9    3   22\\nCONECT   15    3\\nCONECT    5    4    6   11   17\\nCONECT   10    4   23\\nCONECT   16    4\\nCONECT    6    5   12   18   19\\nCONECT   17    5\\nCONECT   12    6   24\\nCONECT   18    6\\nCONECT   19    6\\nCONECT   20    7\\nCONECT   21    8\\nCONECT   22    9\\nCONECT   23   10\\nCONECT   24   25   33   35   12\\nCONECT   25   24   26   30   36\\nCONECT   33   24   28\\nCONECT   35   24\\nCONECT   26   25   27   31   37\\nCONECT   30   25\\nCONECT   36   25\\nCONECT   27   26   28   32   38\\nCONECT   31   26   43\\nCONECT   37   26\\nCONECT   28   27   29   33   39\\nCONECT   32   27   44\\nCONECT   38   27\\nCONECT   29   28   34   40   41\\nCONECT   39   28\\nCONECT   34   29   45\\nCONECT   40   29\\nCONECT   41   29\\nCONECT   43   31\\nCONECT   44   32\\nCONECT   45   34\\nEND\",\"pdb\");\n\tviewer_17188911448287842.setStyle({\"stick\": {}});\n\tviewer_17188911448287842.zoomTo();\n\tviewer_17188911448287842.setStyle({\"stick\": {}});\nviewer_17188911448287842.render();\n});\n</script>",
      "text/html": [
       "<div id=\"3dmolviewer_17188911448287842\"  style=\"position: relative; width: 600px; height: 500px;\">\n",
       "        <p id=\"3dmolwarning_17188911448287842\" style=\"background-color:#ffcccc;color:black\">You appear to be running in JupyterLab (or JavaScript failed to load for some other reason).  You need to install the 3dmol extension: <br>\n",
       "        <tt>jupyter labextension install jupyterlab_3dmol</tt></p>\n",
       "        </div>\n",
       "<script>\n",
       "\n",
       "var loadScriptAsync = function(uri){\n",
       "  return new Promise((resolve, reject) => {\n",
       "    //this is to ignore the existence of requirejs amd\n",
       "    var savedexports, savedmodule;\n",
       "    if (typeof exports !== 'undefined') savedexports = exports;\n",
       "    else exports = {}\n",
       "    if (typeof module !== 'undefined') savedmodule = module;\n",
       "    else module = {}\n",
       "\n",
       "    var tag = document.createElement('script');\n",
       "    tag.src = uri;\n",
       "    tag.async = true;\n",
       "    tag.onload = () => {\n",
       "        exports = savedexports;\n",
       "        module = savedmodule;\n",
       "        resolve();\n",
       "    };\n",
       "  var firstScriptTag = document.getElementsByTagName('script')[0];\n",
       "  firstScriptTag.parentNode.insertBefore(tag, firstScriptTag);\n",
       "});\n",
       "};\n",
       "\n",
       "if(typeof $3Dmolpromise === 'undefined') {\n",
       "$3Dmolpromise = null;\n",
       "  $3Dmolpromise = loadScriptAsync('https://cdnjs.cloudflare.com/ajax/libs/3Dmol/2.0.3/3Dmol-min.js');\n",
       "}\n",
       "\n",
       "var viewer_17188911448287842 = null;\n",
       "var warn = document.getElementById(\"3dmolwarning_17188911448287842\");\n",
       "if(warn) {\n",
       "    warn.parentNode.removeChild(warn);\n",
       "}\n",
       "$3Dmolpromise.then(function() {\n",
       "viewer_17188911448287842 = $3Dmol.createViewer(document.getElementById(\"3dmolviewer_17188911448287842\"),{backgroundColor:\"white\"});\n",
       "viewer_17188911448287842.zoomTo();\n",
       "\tviewer_17188911448287842.addModel(\"HETATM    1 C1   GLC A   1      -0.567   1.572  -0.245  1.00  0.00          C   \\nHETATM    2 C2   GLC A   1      -1.578   0.465  -0.554  1.00  0.00          C   \\nHETATM    3 C3   GLC A   1      -1.179  -0.806   0.203  1.00  0.00          C   \\nHETATM    4 C4   GLC A   1       0.249  -1.195  -0.192  1.00  0.00          C   \\nHETATM    5 C5   GLC A   1       1.189  -0.024   0.102  1.00  0.00          C   \\nHETATM    6 C6   GLC A   1       2.607  -0.383  -0.345  1.00  0.00          C   \\nHETATM    7 O1   GLC A   1      -0.600   1.871   1.151  1.00  0.00          O   \\nHETATM    8 O2   GLC A   1      -2.881   0.879  -0.139  1.00  0.00          O   \\nHETATM    9 O3   GLC A   1      -2.075  -1.866  -0.137  1.00  0.00          O   \\nHETATM   10 O4   GLC A   1       0.658  -2.338   0.562  1.00  0.00          O   \\nHETATM   11 O5   GLC A   1       0.744   1.133  -0.608  1.00  0.00          O   \\nHETATM   12 O6   GLC A   1       3.506   0.661   0.035  1.00  0.00          O   \\nHETATM   13 H1   GLC A   1      -0.822   2.466  -0.815  1.00  0.00          H   \\nHETATM   14 H2   GLC A   1      -1.583   0.264  -1.626  1.00  0.00          H   \\nHETATM   15 H3   GLC A   1      -1.223  -0.619   1.276  1.00  0.00          H   \\nHETATM   16 H4   GLC A   1       0.281  -1.429  -1.257  1.00  0.00          H   \\nHETATM   17 H5   GLC A   1       1.187   0.184   1.173  1.00  0.00          H   \\nHETATM   18 H61  GLC A   1       2.913  -1.315   0.129  1.00  0.00          H   \\nHETATM   19 H62  GLC A   1       2.627  -0.503  -1.428  1.00  0.00          H   \\nHETATM   20 HO1  GLC A   1       0.017   2.566   1.420  1.00  0.00          H   \\nHETATM   21 HO2  GLC A   1      -3.197   1.682  -0.576  1.00  0.00          H   \\nHETATM   22 HO3  GLC A   1      -3.000  -1.684   0.080  1.00  0.00          H   \\nHETATM   23 HO4  GLC A   1       0.102  -3.118   0.427  1.00  0.00          H   \\nHETATM   24 C1   GLC A   2       4.845   0.359  -0.184  1.00  0.00          C   \\nHETATM   25 C2   GLC A   2       5.735   1.570   0.116  1.00  0.00          C   \\nHETATM   26 C3   GLC A   2       5.561   1.914   1.633  1.00  0.00          C   \\nHETATM   27 C4   GLC A   2       5.900   0.677   2.471  1.00  0.00          C   \\nHETATM   28 C5   GLC A   2       5.013  -0.489   2.030  1.00  0.00          C   \\nHETATM   29 C6   GLC A   2       5.388  -1.743   2.821  1.00  0.00          C   \\nHETATM   30 O2   GLC A   2       5.354   2.700  -0.645  1.00  0.00          O   \\nHETATM   31 O3   GLC A   2       6.435   2.987   1.988  1.00  0.00          O   \\nHETATM   32 O4   GLC A   2       5.668   0.959   3.853  1.00  0.00          O   \\nHETATM   33 O5   GLC A   2       5.199  -0.738   0.630  1.00  0.00          O   \\nHETATM   34 O6   GLC A   2       4.484  -2.801   2.494  1.00  0.00          O   \\nHETATM   35 H1   GLC A   2       5.033   0.134  -1.227  1.00  0.00          H   \\nHETATM   36 H2   GLC A   2       6.784   1.331  -0.045  1.00  0.00          H   \\nHETATM   37 H3   GLC A   2       4.527   2.207   1.818  1.00  0.00          H   \\nHETATM   38 H4   GLC A   2       6.948   0.414   2.323  1.00  0.00          H   \\nHETATM   39 H5   GLC A   2       3.967  -0.240   2.215  1.00  0.00          H   \\nHETATM   40 H61  GLC A   2       5.328  -1.532   3.888  1.00  0.00          H   \\nHETATM   41 H62  GLC A   2       6.404  -2.043   2.567  1.00  0.00          H   \\nHETATM   42 HO2  GLC A   2       5.438   2.555  -1.598  1.00  0.00          H   \\nHETATM   43 HO3  GLC A   2       6.280   3.802   1.490  1.00  0.00          H   \\nHETATM   44 HO4  GLC A   2       6.196   1.692   4.199  1.00  0.00          H   \\nHETATM   45 HO6  GLC A   2       4.663  -3.629   2.959  1.00  0.00          H   \\nCONECT    1    2    7   11   13\\nCONECT    2    1    3    8   14\\nCONECT    7    1   20\\nCONECT   11    1    5\\nCONECT   13    1\\nCONECT    3    2    4    9   15\\nCONECT    8    2   21\\nCONECT   14    2\\nCONECT    4    3    5   10   16\\nCONECT    9    3   22\\nCONECT   15    3\\nCONECT    5    4    6   11   17\\nCONECT   10    4   23\\nCONECT   16    4\\nCONECT    6    5   12   18   19\\nCONECT   17    5\\nCONECT   12    6   24\\nCONECT   18    6\\nCONECT   19    6\\nCONECT   20    7\\nCONECT   21    8\\nCONECT   22    9\\nCONECT   23   10\\nCONECT   24   25   33   35   12\\nCONECT   25   24   26   30   36\\nCONECT   33   24   28\\nCONECT   35   24\\nCONECT   26   25   27   31   37\\nCONECT   30   25\\nCONECT   36   25\\nCONECT   27   26   28   32   38\\nCONECT   31   26   43\\nCONECT   37   26\\nCONECT   28   27   29   33   39\\nCONECT   32   27   44\\nCONECT   38   27\\nCONECT   29   28   34   40   41\\nCONECT   39   28\\nCONECT   34   29   45\\nCONECT   40   29\\nCONECT   41   29\\nCONECT   43   31\\nCONECT   44   32\\nCONECT   45   34\\nEND\",\"pdb\");\n",
       "\tviewer_17188911448287842.setStyle({\"stick\": {}});\n",
       "\tviewer_17188911448287842.zoomTo();\n",
       "\tviewer_17188911448287842.setStyle({\"stick\": {}});\n",
       "viewer_17188911448287842.render();\n",
       "});\n",
       "</script>"
      ]
     },
     "metadata": {},
     "output_type": "display_data"
    }
   ],
   "source": [
    "# we are interested in working with sugars so we load the sugars\n",
    "bam.load_sugars()\n",
    "\n",
    "# now we are able to refer to sugar compounds we want to use directly by their pdb ID or name\n",
    "# for example, we can connect two glucose molecules using the 1->6 linkage\n",
    "glc = bam.molecule(\"GLC\")\n",
    "glc2 = bam.connect(glc, glc, \"16ab\")\n",
    "\n",
    "glc2.show()"
   ]
  },
  {
   "cell_type": "markdown",
   "metadata": {},
   "source": [
    "If we would like to make the molecule makery a bit quicker by removing the overhead of first figuring out what kind of input we provided, we can use the `get_compound` function instead of the `molecule` function - this also works with all sorts of inputs automatically. One step further would be the `Molecule.from_compound` classmethod which requires the user to specify which type of input they use:"
   ]
  },
  {
   "cell_type": "code",
   "execution_count": 9,
   "metadata": {},
   "outputs": [],
   "source": [
    "# get a galactose (slowest, but most convenient)\n",
    "gal = bam.molecule(\"GAL\")\n",
    "# or (faster)\n",
    "gal = bam.get_compound(\"GAL\")\n",
    "# or (fastest, but most tedious)\n",
    "gal = bam.Molecule.from_compound(\"GAL\", by=\"id\")"
   ]
  },
  {
   "attachments": {},
   "cell_type": "markdown",
   "metadata": {},
   "source": [
    "Similar to the CHARMM topology, we can get the default instance of the `PDBECompounds` class that handles the databse using"
   ]
  },
  {
   "cell_type": "code",
   "execution_count": 10,
   "metadata": {},
   "outputs": [
    {
     "data": {
      "text/plain": [
       "1068"
      ]
     },
     "execution_count": 10,
     "metadata": {},
     "output_type": "execute_result"
    }
   ],
   "source": [
    "comp = bam.get_default_compounds()\n",
    "# print how many (currently sugar-only) compounds are available in the library\n",
    "print(len(comp))"
   ]
  },
  {
   "cell_type": "markdown",
   "metadata": {},
   "source": [
    "### Adding custom compounds\n",
    "\n",
    "If a user has built a specific molecule that they are going to use a lot and do not wish to save and load all the time from their own file, they can add custom molecules to the default compounds using the `add_compound` function.\n",
    "\n",
    "Let's say our current project revolves around our two-glucose molecule, we can add it to the default compounds to ensure that it will always be available in the future."
   ]
  },
  {
   "cell_type": "code",
   "execution_count": 11,
   "metadata": {},
   "outputs": [
    {
     "data": {
      "application/3dmoljs_load.v0": "<div id=\"3dmolviewer_1718891145029258\"  style=\"position: relative; width: 600px; height: 500px;\">\n        <p id=\"3dmolwarning_1718891145029258\" style=\"background-color:#ffcccc;color:black\">You appear to be running in JupyterLab (or JavaScript failed to load for some other reason).  You need to install the 3dmol extension: <br>\n        <tt>jupyter labextension install jupyterlab_3dmol</tt></p>\n        </div>\n<script>\n\nvar loadScriptAsync = function(uri){\n  return new Promise((resolve, reject) => {\n    //this is to ignore the existence of requirejs amd\n    var savedexports, savedmodule;\n    if (typeof exports !== 'undefined') savedexports = exports;\n    else exports = {}\n    if (typeof module !== 'undefined') savedmodule = module;\n    else module = {}\n\n    var tag = document.createElement('script');\n    tag.src = uri;\n    tag.async = true;\n    tag.onload = () => {\n        exports = savedexports;\n        module = savedmodule;\n        resolve();\n    };\n  var firstScriptTag = document.getElementsByTagName('script')[0];\n  firstScriptTag.parentNode.insertBefore(tag, firstScriptTag);\n});\n};\n\nif(typeof $3Dmolpromise === 'undefined') {\n$3Dmolpromise = null;\n  $3Dmolpromise = loadScriptAsync('https://cdnjs.cloudflare.com/ajax/libs/3Dmol/2.0.3/3Dmol-min.js');\n}\n\nvar viewer_1718891145029258 = null;\nvar warn = document.getElementById(\"3dmolwarning_1718891145029258\");\nif(warn) {\n    warn.parentNode.removeChild(warn);\n}\n$3Dmolpromise.then(function() {\nviewer_1718891145029258 = $3Dmol.createViewer(document.getElementById(\"3dmolviewer_1718891145029258\"),{backgroundColor:\"white\"});\nviewer_1718891145029258.zoomTo();\n\tviewer_1718891145029258.addModel(\"HETATM    1 C1   GLC A   1      -0.567   1.572  -0.245  1.00  0.00          C   \\nHETATM    2 C2   GLC A   1      -1.578   0.465  -0.554  1.00  0.00          C   \\nHETATM    3 C3   GLC A   1      -1.179  -0.806   0.203  1.00  0.00          C   \\nHETATM    4 C4   GLC A   1       0.249  -1.195  -0.192  1.00  0.00          C   \\nHETATM    5 C5   GLC A   1       1.189  -0.024   0.102  1.00  0.00          C   \\nHETATM    6 C6   GLC A   1       2.607  -0.383  -0.345  1.00  0.00          C   \\nHETATM    7 O1   GLC A   1      -0.600   1.871   1.151  1.00  0.00          O   \\nHETATM    8 O2   GLC A   1      -2.881   0.879  -0.139  1.00  0.00          O   \\nHETATM    9 O3   GLC A   1      -2.075  -1.866  -0.137  1.00  0.00          O   \\nHETATM   10 O4   GLC A   1       0.658  -2.338   0.562  1.00  0.00          O   \\nHETATM   11 O5   GLC A   1       0.744   1.133  -0.608  1.00  0.00          O   \\nHETATM   12 O6   GLC A   1       3.506   0.661   0.035  1.00  0.00          O   \\nHETATM   13 H1   GLC A   1      -0.822   2.466  -0.815  1.00  0.00          H   \\nHETATM   14 H2   GLC A   1      -1.583   0.264  -1.626  1.00  0.00          H   \\nHETATM   15 H3   GLC A   1      -1.223  -0.619   1.276  1.00  0.00          H   \\nHETATM   16 H4   GLC A   1       0.281  -1.429  -1.257  1.00  0.00          H   \\nHETATM   17 H5   GLC A   1       1.187   0.184   1.173  1.00  0.00          H   \\nHETATM   18 H61  GLC A   1       2.913  -1.315   0.129  1.00  0.00          H   \\nHETATM   19 H62  GLC A   1       2.627  -0.503  -1.428  1.00  0.00          H   \\nHETATM   20 HO1  GLC A   1       0.017   2.566   1.420  1.00  0.00          H   \\nHETATM   21 HO2  GLC A   1      -3.197   1.682  -0.576  1.00  0.00          H   \\nHETATM   22 HO3  GLC A   1      -3.000  -1.684   0.080  1.00  0.00          H   \\nHETATM   23 HO4  GLC A   1       0.102  -3.118   0.427  1.00  0.00          H   \\nHETATM   24 C1   GLC A   2       4.845   0.359  -0.184  1.00  0.00          C   \\nHETATM   25 C2   GLC A   2       5.735   1.570   0.116  1.00  0.00          C   \\nHETATM   26 C3   GLC A   2       5.561   1.914   1.633  1.00  0.00          C   \\nHETATM   27 C4   GLC A   2       5.900   0.677   2.471  1.00  0.00          C   \\nHETATM   28 C5   GLC A   2       5.013  -0.489   2.030  1.00  0.00          C   \\nHETATM   29 C6   GLC A   2       5.388  -1.743   2.821  1.00  0.00          C   \\nHETATM   30 O2   GLC A   2       5.354   2.700  -0.645  1.00  0.00          O   \\nHETATM   31 O3   GLC A   2       6.435   2.987   1.988  1.00  0.00          O   \\nHETATM   32 O4   GLC A   2       5.668   0.959   3.853  1.00  0.00          O   \\nHETATM   33 O5   GLC A   2       5.199  -0.738   0.630  1.00  0.00          O   \\nHETATM   34 O6   GLC A   2       4.484  -2.801   2.494  1.00  0.00          O   \\nHETATM   35 H1   GLC A   2       5.033   0.134  -1.227  1.00  0.00          H   \\nHETATM   36 H2   GLC A   2       6.784   1.331  -0.045  1.00  0.00          H   \\nHETATM   37 H3   GLC A   2       4.527   2.207   1.818  1.00  0.00          H   \\nHETATM   38 H4   GLC A   2       6.948   0.414   2.323  1.00  0.00          H   \\nHETATM   39 H5   GLC A   2       3.967  -0.240   2.215  1.00  0.00          H   \\nHETATM   40 H61  GLC A   2       5.328  -1.532   3.888  1.00  0.00          H   \\nHETATM   41 H62  GLC A   2       6.404  -2.043   2.567  1.00  0.00          H   \\nHETATM   42 HO2  GLC A   2       5.438   2.555  -1.598  1.00  0.00          H   \\nHETATM   43 HO3  GLC A   2       6.280   3.802   1.490  1.00  0.00          H   \\nHETATM   44 HO4  GLC A   2       6.196   1.692   4.199  1.00  0.00          H   \\nHETATM   45 HO6  GLC A   2       4.663  -3.629   2.959  1.00  0.00          H   \\nCONECT    1    2    7   11   13\\nCONECT    2    1    3    8   14\\nCONECT    7    1   20\\nCONECT   11    1    5\\nCONECT   13    1\\nCONECT    3    2    4    9   15\\nCONECT    8    2   21\\nCONECT   14    2\\nCONECT    4    3    5   10   16\\nCONECT    9    3   22\\nCONECT   15    3\\nCONECT    5    4    6   11   17\\nCONECT   10    4   23\\nCONECT   16    4\\nCONECT    6    5   12   18   19\\nCONECT   17    5\\nCONECT   12    6   24\\nCONECT   18    6\\nCONECT   19    6\\nCONECT   20    7\\nCONECT   21    8\\nCONECT   22    9\\nCONECT   23   10\\nCONECT   24   25   33   35   12\\nCONECT   25   24   26   30   36\\nCONECT   33   24   28\\nCONECT   35   24\\nCONECT   26   25   27   31   37\\nCONECT   30   25\\nCONECT   36   25\\nCONECT   27   26   28   32   38\\nCONECT   31   26   43\\nCONECT   37   26\\nCONECT   28   27   29   33   39\\nCONECT   32   27   44\\nCONECT   38   27\\nCONECT   29   28   34   40   41\\nCONECT   39   28\\nCONECT   34   29   45\\nCONECT   40   29\\nCONECT   41   29\\nCONECT   43   31\\nCONECT   44   32\\nCONECT   45   34\\nEND\",\"pdb\");\n\tviewer_1718891145029258.setStyle({\"stick\": {}});\n\tviewer_1718891145029258.zoomTo();\n\tviewer_1718891145029258.setStyle({\"stick\": {}});\nviewer_1718891145029258.render();\n});\n</script>",
      "text/html": [
       "<div id=\"3dmolviewer_1718891145029258\"  style=\"position: relative; width: 600px; height: 500px;\">\n",
       "        <p id=\"3dmolwarning_1718891145029258\" style=\"background-color:#ffcccc;color:black\">You appear to be running in JupyterLab (or JavaScript failed to load for some other reason).  You need to install the 3dmol extension: <br>\n",
       "        <tt>jupyter labextension install jupyterlab_3dmol</tt></p>\n",
       "        </div>\n",
       "<script>\n",
       "\n",
       "var loadScriptAsync = function(uri){\n",
       "  return new Promise((resolve, reject) => {\n",
       "    //this is to ignore the existence of requirejs amd\n",
       "    var savedexports, savedmodule;\n",
       "    if (typeof exports !== 'undefined') savedexports = exports;\n",
       "    else exports = {}\n",
       "    if (typeof module !== 'undefined') savedmodule = module;\n",
       "    else module = {}\n",
       "\n",
       "    var tag = document.createElement('script');\n",
       "    tag.src = uri;\n",
       "    tag.async = true;\n",
       "    tag.onload = () => {\n",
       "        exports = savedexports;\n",
       "        module = savedmodule;\n",
       "        resolve();\n",
       "    };\n",
       "  var firstScriptTag = document.getElementsByTagName('script')[0];\n",
       "  firstScriptTag.parentNode.insertBefore(tag, firstScriptTag);\n",
       "});\n",
       "};\n",
       "\n",
       "if(typeof $3Dmolpromise === 'undefined') {\n",
       "$3Dmolpromise = null;\n",
       "  $3Dmolpromise = loadScriptAsync('https://cdnjs.cloudflare.com/ajax/libs/3Dmol/2.0.3/3Dmol-min.js');\n",
       "}\n",
       "\n",
       "var viewer_1718891145029258 = null;\n",
       "var warn = document.getElementById(\"3dmolwarning_1718891145029258\");\n",
       "if(warn) {\n",
       "    warn.parentNode.removeChild(warn);\n",
       "}\n",
       "$3Dmolpromise.then(function() {\n",
       "viewer_1718891145029258 = $3Dmol.createViewer(document.getElementById(\"3dmolviewer_1718891145029258\"),{backgroundColor:\"white\"});\n",
       "viewer_1718891145029258.zoomTo();\n",
       "\tviewer_1718891145029258.addModel(\"HETATM    1 C1   GLC A   1      -0.567   1.572  -0.245  1.00  0.00          C   \\nHETATM    2 C2   GLC A   1      -1.578   0.465  -0.554  1.00  0.00          C   \\nHETATM    3 C3   GLC A   1      -1.179  -0.806   0.203  1.00  0.00          C   \\nHETATM    4 C4   GLC A   1       0.249  -1.195  -0.192  1.00  0.00          C   \\nHETATM    5 C5   GLC A   1       1.189  -0.024   0.102  1.00  0.00          C   \\nHETATM    6 C6   GLC A   1       2.607  -0.383  -0.345  1.00  0.00          C   \\nHETATM    7 O1   GLC A   1      -0.600   1.871   1.151  1.00  0.00          O   \\nHETATM    8 O2   GLC A   1      -2.881   0.879  -0.139  1.00  0.00          O   \\nHETATM    9 O3   GLC A   1      -2.075  -1.866  -0.137  1.00  0.00          O   \\nHETATM   10 O4   GLC A   1       0.658  -2.338   0.562  1.00  0.00          O   \\nHETATM   11 O5   GLC A   1       0.744   1.133  -0.608  1.00  0.00          O   \\nHETATM   12 O6   GLC A   1       3.506   0.661   0.035  1.00  0.00          O   \\nHETATM   13 H1   GLC A   1      -0.822   2.466  -0.815  1.00  0.00          H   \\nHETATM   14 H2   GLC A   1      -1.583   0.264  -1.626  1.00  0.00          H   \\nHETATM   15 H3   GLC A   1      -1.223  -0.619   1.276  1.00  0.00          H   \\nHETATM   16 H4   GLC A   1       0.281  -1.429  -1.257  1.00  0.00          H   \\nHETATM   17 H5   GLC A   1       1.187   0.184   1.173  1.00  0.00          H   \\nHETATM   18 H61  GLC A   1       2.913  -1.315   0.129  1.00  0.00          H   \\nHETATM   19 H62  GLC A   1       2.627  -0.503  -1.428  1.00  0.00          H   \\nHETATM   20 HO1  GLC A   1       0.017   2.566   1.420  1.00  0.00          H   \\nHETATM   21 HO2  GLC A   1      -3.197   1.682  -0.576  1.00  0.00          H   \\nHETATM   22 HO3  GLC A   1      -3.000  -1.684   0.080  1.00  0.00          H   \\nHETATM   23 HO4  GLC A   1       0.102  -3.118   0.427  1.00  0.00          H   \\nHETATM   24 C1   GLC A   2       4.845   0.359  -0.184  1.00  0.00          C   \\nHETATM   25 C2   GLC A   2       5.735   1.570   0.116  1.00  0.00          C   \\nHETATM   26 C3   GLC A   2       5.561   1.914   1.633  1.00  0.00          C   \\nHETATM   27 C4   GLC A   2       5.900   0.677   2.471  1.00  0.00          C   \\nHETATM   28 C5   GLC A   2       5.013  -0.489   2.030  1.00  0.00          C   \\nHETATM   29 C6   GLC A   2       5.388  -1.743   2.821  1.00  0.00          C   \\nHETATM   30 O2   GLC A   2       5.354   2.700  -0.645  1.00  0.00          O   \\nHETATM   31 O3   GLC A   2       6.435   2.987   1.988  1.00  0.00          O   \\nHETATM   32 O4   GLC A   2       5.668   0.959   3.853  1.00  0.00          O   \\nHETATM   33 O5   GLC A   2       5.199  -0.738   0.630  1.00  0.00          O   \\nHETATM   34 O6   GLC A   2       4.484  -2.801   2.494  1.00  0.00          O   \\nHETATM   35 H1   GLC A   2       5.033   0.134  -1.227  1.00  0.00          H   \\nHETATM   36 H2   GLC A   2       6.784   1.331  -0.045  1.00  0.00          H   \\nHETATM   37 H3   GLC A   2       4.527   2.207   1.818  1.00  0.00          H   \\nHETATM   38 H4   GLC A   2       6.948   0.414   2.323  1.00  0.00          H   \\nHETATM   39 H5   GLC A   2       3.967  -0.240   2.215  1.00  0.00          H   \\nHETATM   40 H61  GLC A   2       5.328  -1.532   3.888  1.00  0.00          H   \\nHETATM   41 H62  GLC A   2       6.404  -2.043   2.567  1.00  0.00          H   \\nHETATM   42 HO2  GLC A   2       5.438   2.555  -1.598  1.00  0.00          H   \\nHETATM   43 HO3  GLC A   2       6.280   3.802   1.490  1.00  0.00          H   \\nHETATM   44 HO4  GLC A   2       6.196   1.692   4.199  1.00  0.00          H   \\nHETATM   45 HO6  GLC A   2       4.663  -3.629   2.959  1.00  0.00          H   \\nCONECT    1    2    7   11   13\\nCONECT    2    1    3    8   14\\nCONECT    7    1   20\\nCONECT   11    1    5\\nCONECT   13    1\\nCONECT    3    2    4    9   15\\nCONECT    8    2   21\\nCONECT   14    2\\nCONECT    4    3    5   10   16\\nCONECT    9    3   22\\nCONECT   15    3\\nCONECT    5    4    6   11   17\\nCONECT   10    4   23\\nCONECT   16    4\\nCONECT    6    5   12   18   19\\nCONECT   17    5\\nCONECT   12    6   24\\nCONECT   18    6\\nCONECT   19    6\\nCONECT   20    7\\nCONECT   21    8\\nCONECT   22    9\\nCONECT   23   10\\nCONECT   24   25   33   35   12\\nCONECT   25   24   26   30   36\\nCONECT   33   24   28\\nCONECT   35   24\\nCONECT   26   25   27   31   37\\nCONECT   30   25\\nCONECT   36   25\\nCONECT   27   26   28   32   38\\nCONECT   31   26   43\\nCONECT   37   26\\nCONECT   28   27   29   33   39\\nCONECT   32   27   44\\nCONECT   38   27\\nCONECT   29   28   34   40   41\\nCONECT   39   28\\nCONECT   34   29   45\\nCONECT   40   29\\nCONECT   41   29\\nCONECT   43   31\\nCONECT   44   32\\nCONECT   45   34\\nEND\",\"pdb\");\n",
       "\tviewer_1718891145029258.setStyle({\"stick\": {}});\n",
       "\tviewer_1718891145029258.zoomTo();\n",
       "\tviewer_1718891145029258.setStyle({\"stick\": {}});\n",
       "viewer_1718891145029258.render();\n",
       "});\n",
       "</script>"
      ]
     },
     "metadata": {},
     "output_type": "display_data"
    }
   ],
   "source": [
    "glc2.id = \"glc2\" # we need to give the molecule a unique ID\n",
    "bam.add_compound(glc2, \n",
    "                type=\"my_project_basic_molecules\", # we can add some descriptive tag here (optional)\n",
    "                names=[\"di-glucose\"] # provide some name aliases (optional)\n",
    "                )\n",
    "\n",
    "# now we can refer to the compound by our self-given name 'di-glucose'\n",
    "bam.molecule(\"di-glucose\").show()"
   ]
  },
  {
   "cell_type": "markdown",
   "metadata": {},
   "source": [
    "### Setting default compounds\n",
    "\n",
    "If we have a custom set of compounds that we are always using, we can set them to be the defaults that are loaded by BuildAMol in every session. We can do so using the `set_default_compounds` function, just like with the CHARMM topology. Using the option `overwrite=True` we can ensure that BuildAMol will load the currently set default PDBE compounds library automatically in every future session."
   ]
  },
  {
   "cell_type": "markdown",
   "metadata": {},
   "source": [
    "```python\n",
    "# get the currently loaded compounds (including our newly added one)\n",
    "current_compounds = bam.get_default_compounds()\n",
    "\n",
    "# save the current compounds as defaults for every future session\n",
    "bam.set_default_compounds(current_compounds, overwrite=True)\n",
    "\n",
    "# if we realize later that we would like to reset our defaults again\n",
    "# we can use:\n",
    "bam.restore_default_compounds()\n",
    "```"
   ]
  },
  {
   "cell_type": "markdown",
   "metadata": {},
   "source": [
    "# PubChem\n",
    "\n",
    "PubChem maintains an enormous database of readily available 3D structures for molecules. They offer a handy API in the form of the `pubchempy` package, which is integrated into buildamol. In fact, any call to `molecule` will eventually end up calling on PubChem if no compound or file could be identified for the given inputs. Hence, to use PubChem the user needs not learn anything new. Alternatively, there is a classmethod `Molecule.from_pubchem` that can be used as well."
   ]
  },
  {
   "cell_type": "markdown",
   "metadata": {},
   "source": [
    "Let's get an aspirin molecule"
   ]
  },
  {
   "cell_type": "code",
   "execution_count": 12,
   "metadata": {},
   "outputs": [
    {
     "data": {
      "text/plain": [
       "False"
      ]
     },
     "execution_count": 12,
     "metadata": {},
     "output_type": "execute_result"
    }
   ],
   "source": [
    "bam.has_compound(\"aspirin\")"
   ]
  },
  {
   "cell_type": "markdown",
   "metadata": {},
   "source": [
    "So, apparently, aspirin is not available from the loaded sugar compounds (no surprise there), but it is actually also not going to be part of any of the other pre-defined sets. So, we need to refer to pubchem to get it..."
   ]
  },
  {
   "cell_type": "code",
   "execution_count": 13,
   "metadata": {},
   "outputs": [
    {
     "data": {
      "application/3dmoljs_load.v0": "<div id=\"3dmolviewer_17188911463495748\"  style=\"position: relative; width: 600px; height: 500px;\">\n        <p id=\"3dmolwarning_17188911463495748\" style=\"background-color:#ffcccc;color:black\">You appear to be running in JupyterLab (or JavaScript failed to load for some other reason).  You need to install the 3dmol extension: <br>\n        <tt>jupyter labextension install jupyterlab_3dmol</tt></p>\n        </div>\n<script>\n\nvar loadScriptAsync = function(uri){\n  return new Promise((resolve, reject) => {\n    //this is to ignore the existence of requirejs amd\n    var savedexports, savedmodule;\n    if (typeof exports !== 'undefined') savedexports = exports;\n    else exports = {}\n    if (typeof module !== 'undefined') savedmodule = module;\n    else module = {}\n\n    var tag = document.createElement('script');\n    tag.src = uri;\n    tag.async = true;\n    tag.onload = () => {\n        exports = savedexports;\n        module = savedmodule;\n        resolve();\n    };\n  var firstScriptTag = document.getElementsByTagName('script')[0];\n  firstScriptTag.parentNode.insertBefore(tag, firstScriptTag);\n});\n};\n\nif(typeof $3Dmolpromise === 'undefined') {\n$3Dmolpromise = null;\n  $3Dmolpromise = loadScriptAsync('https://cdnjs.cloudflare.com/ajax/libs/3Dmol/2.0.3/3Dmol-min.js');\n}\n\nvar viewer_17188911463495748 = null;\nvar warn = document.getElementById(\"3dmolwarning_17188911463495748\");\nif(warn) {\n    warn.parentNode.removeChild(warn);\n}\n$3Dmolpromise.then(function() {\nviewer_17188911463495748 = $3Dmol.createViewer(document.getElementById(\"3dmolviewer_17188911463495748\"),{backgroundColor:\"white\"});\nviewer_17188911463495748.zoomTo();\n\tviewer_17188911463495748.addModel(\"HETATM    1 O1   UNK A   1       1.233   0.554   0.779  0.00  0.00          O   \\nHETATM    2 O2   UNK A   1      -0.695  -2.715  -0.750  0.00  0.00          O   \\nHETATM    3 O3   UNK A   1       0.796  -2.184   0.869  0.00  0.00          O   \\nHETATM    4 O4   UNK A   1       1.781   0.810  -1.482  0.00  0.00          O   \\nHETATM    5 C1   UNK A   1      -0.086   0.609   0.440  0.00  0.00          C   \\nHETATM    6 C2   UNK A   1      -0.793  -0.551   0.124  0.00  0.00          C   \\nHETATM    7 C3   UNK A   1      -0.729   1.846   0.413  0.00  0.00          C   \\nHETATM    8 C4   UNK A   1      -2.143  -0.474  -0.218  0.00  0.00          C   \\nHETATM    9 C5   UNK A   1      -2.079   1.924   0.071  0.00  0.00          C   \\nHETATM   10 C6   UNK A   1      -2.785   0.764  -0.245  0.00  0.00          C   \\nHETATM   11 C7   UNK A   1      -0.141  -1.854   0.148  0.00  0.00          C   \\nHETATM   12 C8   UNK A   1       2.109   0.671  -0.311  0.00  0.00          C   \\nHETATM   13 C9   UNK A   1       3.530   0.600   0.164  0.00  0.00          C   \\nHETATM   14 H1   UNK A   1      -0.185   2.755   0.659  0.00  0.00          H   \\nHETATM   15 H2   UNK A   1      -2.725  -1.361  -0.456  0.00  0.00          H   \\nHETATM   16 H3   UNK A   1      -2.580   2.887   0.051  0.00  0.00          H   \\nHETATM   17 H4   UNK A   1      -3.837   0.824  -0.509  0.00  0.00          H   \\nHETATM   18 H5   UNK A   1       3.729   1.418   0.859  0.00  0.00          H   \\nHETATM   19 H6   UNK A   1       4.205   0.697  -0.692  0.00  0.00          H   \\nHETATM   20 H7   UNK A   1       3.711  -0.366   0.643  0.00  0.00          H   \\nHETATM   21 H8   UNK A   1      -0.256  -3.592  -0.734  0.00  0.00          H   \\nCONECT    1    5   12\\nCONECT    5    1    6    7    7\\nCONECT   12    1    4    4   13\\nCONECT    2   11   21\\nCONECT   11    2    3    3    6\\nCONECT   21    2\\nCONECT    3   11   11\\nCONECT    4   12   12\\nCONECT    6    5    8    8   11\\nCONECT    7    5    5    9   14\\nCONECT    8    6    6   10   15\\nCONECT    9    7   10   10   16\\nCONECT   14    7\\nCONECT   10    8    9    9   17\\nCONECT   15    8\\nCONECT   16    9\\nCONECT   17   10\\nCONECT   13   12   18   19   20\\nCONECT   18   13\\nCONECT   19   13\\nCONECT   20   13\\nEND\",\"pdb\");\n\tviewer_17188911463495748.setStyle({\"stick\": {}});\n\tviewer_17188911463495748.zoomTo();\n\tviewer_17188911463495748.setStyle({\"stick\": {}});\nviewer_17188911463495748.render();\n});\n</script>",
      "text/html": [
       "<div id=\"3dmolviewer_17188911463495748\"  style=\"position: relative; width: 600px; height: 500px;\">\n",
       "        <p id=\"3dmolwarning_17188911463495748\" style=\"background-color:#ffcccc;color:black\">You appear to be running in JupyterLab (or JavaScript failed to load for some other reason).  You need to install the 3dmol extension: <br>\n",
       "        <tt>jupyter labextension install jupyterlab_3dmol</tt></p>\n",
       "        </div>\n",
       "<script>\n",
       "\n",
       "var loadScriptAsync = function(uri){\n",
       "  return new Promise((resolve, reject) => {\n",
       "    //this is to ignore the existence of requirejs amd\n",
       "    var savedexports, savedmodule;\n",
       "    if (typeof exports !== 'undefined') savedexports = exports;\n",
       "    else exports = {}\n",
       "    if (typeof module !== 'undefined') savedmodule = module;\n",
       "    else module = {}\n",
       "\n",
       "    var tag = document.createElement('script');\n",
       "    tag.src = uri;\n",
       "    tag.async = true;\n",
       "    tag.onload = () => {\n",
       "        exports = savedexports;\n",
       "        module = savedmodule;\n",
       "        resolve();\n",
       "    };\n",
       "  var firstScriptTag = document.getElementsByTagName('script')[0];\n",
       "  firstScriptTag.parentNode.insertBefore(tag, firstScriptTag);\n",
       "});\n",
       "};\n",
       "\n",
       "if(typeof $3Dmolpromise === 'undefined') {\n",
       "$3Dmolpromise = null;\n",
       "  $3Dmolpromise = loadScriptAsync('https://cdnjs.cloudflare.com/ajax/libs/3Dmol/2.0.3/3Dmol-min.js');\n",
       "}\n",
       "\n",
       "var viewer_17188911463495748 = null;\n",
       "var warn = document.getElementById(\"3dmolwarning_17188911463495748\");\n",
       "if(warn) {\n",
       "    warn.parentNode.removeChild(warn);\n",
       "}\n",
       "$3Dmolpromise.then(function() {\n",
       "viewer_17188911463495748 = $3Dmol.createViewer(document.getElementById(\"3dmolviewer_17188911463495748\"),{backgroundColor:\"white\"});\n",
       "viewer_17188911463495748.zoomTo();\n",
       "\tviewer_17188911463495748.addModel(\"HETATM    1 O1   UNK A   1       1.233   0.554   0.779  0.00  0.00          O   \\nHETATM    2 O2   UNK A   1      -0.695  -2.715  -0.750  0.00  0.00          O   \\nHETATM    3 O3   UNK A   1       0.796  -2.184   0.869  0.00  0.00          O   \\nHETATM    4 O4   UNK A   1       1.781   0.810  -1.482  0.00  0.00          O   \\nHETATM    5 C1   UNK A   1      -0.086   0.609   0.440  0.00  0.00          C   \\nHETATM    6 C2   UNK A   1      -0.793  -0.551   0.124  0.00  0.00          C   \\nHETATM    7 C3   UNK A   1      -0.729   1.846   0.413  0.00  0.00          C   \\nHETATM    8 C4   UNK A   1      -2.143  -0.474  -0.218  0.00  0.00          C   \\nHETATM    9 C5   UNK A   1      -2.079   1.924   0.071  0.00  0.00          C   \\nHETATM   10 C6   UNK A   1      -2.785   0.764  -0.245  0.00  0.00          C   \\nHETATM   11 C7   UNK A   1      -0.141  -1.854   0.148  0.00  0.00          C   \\nHETATM   12 C8   UNK A   1       2.109   0.671  -0.311  0.00  0.00          C   \\nHETATM   13 C9   UNK A   1       3.530   0.600   0.164  0.00  0.00          C   \\nHETATM   14 H1   UNK A   1      -0.185   2.755   0.659  0.00  0.00          H   \\nHETATM   15 H2   UNK A   1      -2.725  -1.361  -0.456  0.00  0.00          H   \\nHETATM   16 H3   UNK A   1      -2.580   2.887   0.051  0.00  0.00          H   \\nHETATM   17 H4   UNK A   1      -3.837   0.824  -0.509  0.00  0.00          H   \\nHETATM   18 H5   UNK A   1       3.729   1.418   0.859  0.00  0.00          H   \\nHETATM   19 H6   UNK A   1       4.205   0.697  -0.692  0.00  0.00          H   \\nHETATM   20 H7   UNK A   1       3.711  -0.366   0.643  0.00  0.00          H   \\nHETATM   21 H8   UNK A   1      -0.256  -3.592  -0.734  0.00  0.00          H   \\nCONECT    1    5   12\\nCONECT    5    1    6    7    7\\nCONECT   12    1    4    4   13\\nCONECT    2   11   21\\nCONECT   11    2    3    3    6\\nCONECT   21    2\\nCONECT    3   11   11\\nCONECT    4   12   12\\nCONECT    6    5    8    8   11\\nCONECT    7    5    5    9   14\\nCONECT    8    6    6   10   15\\nCONECT    9    7   10   10   16\\nCONECT   14    7\\nCONECT   10    8    9    9   17\\nCONECT   15    8\\nCONECT   16    9\\nCONECT   17   10\\nCONECT   13   12   18   19   20\\nCONECT   18   13\\nCONECT   19   13\\nCONECT   20   13\\nEND\",\"pdb\");\n",
       "\tviewer_17188911463495748.setStyle({\"stick\": {}});\n",
       "\tviewer_17188911463495748.zoomTo();\n",
       "\tviewer_17188911463495748.setStyle({\"stick\": {}});\n",
       "viewer_17188911463495748.render();\n",
       "});\n",
       "</script>"
      ]
     },
     "metadata": {},
     "output_type": "display_data"
    }
   ],
   "source": [
    "aspirin = bam.Molecule.from_pubchem(\"aspirin\")\n",
    "aspirin.show()"
   ]
  },
  {
   "cell_type": "markdown",
   "metadata": {},
   "source": [
    "And there it is! Again, using the `molecule` function would be all we need. The call to PubChem is automatically handled by BuildAMol if a reference to PDBECompounds does not yield any results."
   ]
  }
 ],
 "metadata": {
  "kernelspec": {
   "display_name": "glyco2",
   "language": "python",
   "name": "python3"
  },
  "language_info": {
   "codemirror_mode": {
    "name": "ipython",
    "version": 3
   },
   "file_extension": ".py",
   "mimetype": "text/x-python",
   "name": "python",
   "nbconvert_exporter": "python",
   "pygments_lexer": "ipython3",
   "version": "3.11.0"
  },
  "orig_nbformat": 4
 },
 "nbformat": 4,
 "nbformat_minor": 2
}
